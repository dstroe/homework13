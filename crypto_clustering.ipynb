{
 "cells": [
  {
   "cell_type": "markdown",
   "metadata": {},
   "source": [
    "# Clustering Crypto"
   ]
  },
  {
   "cell_type": "code",
   "execution_count": 207,
   "metadata": {},
   "outputs": [],
   "source": [
    "# Initial imports\n",
    "import requests\n",
    "import pandas as pd\n",
    "import matplotlib.pyplot as plt\n",
    "import hvplot.pandas\n",
    "import plotly.express as px\n",
    "from sklearn.preprocessing import StandardScaler, MinMaxScaler\n",
    "from sklearn.decomposition import PCA\n",
    "from sklearn.cluster import KMeans\n",
    "from urllib.request import Request, urlopen\n",
    "import json"
   ]
  },
  {
   "cell_type": "markdown",
   "metadata": {},
   "source": [
    "### Fetching Cryptocurrency Data"
   ]
  },
  {
   "cell_type": "code",
   "execution_count": 213,
   "metadata": {},
   "outputs": [],
   "source": [
    "# Use the following endpoint to fetch json data\n",
    "url = \"https://min-api.cryptocompare.com/data/all/coinlist\"\n",
    "json_request = Request(url)\n",
    "json_response = urlopen(json_request)\n",
    "data = json_response.read()\n",
    "json_data = json.loads(data)"
   ]
  },
  {
   "cell_type": "code",
   "execution_count": 214,
   "metadata": {},
   "outputs": [
    {
     "output_type": "execute_result",
     "data": {
      "text/plain": [
       "         Id                  Url                         ImageUrl  \\\n",
       "42     4321   /coins/42/overview           /media/35650717/42.jpg   \n",
       "300  749869  /coins/300/overview          /media/27010595/300.png   \n",
       "365   33639  /coins/365/overview            /media/352070/365.png   \n",
       "404   21227  /coins/404/overview  /media/35650851/404-300x300.jpg   \n",
       "433  926547  /coins/433/overview          /media/34836095/433.png   \n",
       "\n",
       "    ContentCreatedOn Name Symbol   CoinName         FullName  \\\n",
       "42        1427211129   42     42    42 Coin     42 Coin (42)   \n",
       "300       1517935016  300    300  300 token  300 token (300)   \n",
       "365       1480032918  365    365    365Coin    365Coin (365)   \n",
       "404       1466100361  404    404    404Coin    404Coin (404)   \n",
       "433       1541597321  433    433  433 Token  433 Token (433)   \n",
       "\n",
       "                                           Description AssetTokenStatus  ...  \\\n",
       "42   Everything about 42 coin is 42 - apart from th...              N/A  ...   \n",
       "300  300 token is an ERC20 token. This Token was cr...              N/A  ...   \n",
       "365  365Coin is a Proof of Work and Proof of Stake ...              N/A  ...   \n",
       "404  404 is a PoW/PoS hybrid cryptocurrency that al...              N/A  ...   \n",
       "433  433 Token is a decentralised soccer platform t...         Finished  ...   \n",
       "\n",
       "    BlockTime AssetLaunchDate MaxSupply MktCapPenalty PlatformType BuiltOn  \\\n",
       "42          0      0000-00-00         0             0          NaN     NaN   \n",
       "300         0      2017-07-01       300             0        token     ETH   \n",
       "365         0      0000-00-00         0             0          NaN     NaN   \n",
       "404         0      0000-00-00         0             0          NaN     NaN   \n",
       "433       NaN             NaN       NaN           NaN          NaN     NaN   \n",
       "\n",
       "                           SmartContractAddress DecimalPoints Difficulty  \\\n",
       "42                                          NaN           NaN        NaN   \n",
       "300  0xaec98a708810414878c3bcdf46aad31ded4a4557            18        NaN   \n",
       "365                                         NaN           NaN        NaN   \n",
       "404                                         NaN           NaN        NaN   \n",
       "433                                         NaN           NaN        NaN   \n",
       "\n",
       "    IsUsedInDefi  \n",
       "42           NaN  \n",
       "300          NaN  \n",
       "365          NaN  \n",
       "404          NaN  \n",
       "433          NaN  \n",
       "\n",
       "[5 rows x 31 columns]"
      ],
      "text/html": "<div>\n<style scoped>\n    .dataframe tbody tr th:only-of-type {\n        vertical-align: middle;\n    }\n\n    .dataframe tbody tr th {\n        vertical-align: top;\n    }\n\n    .dataframe thead th {\n        text-align: right;\n    }\n</style>\n<table border=\"1\" class=\"dataframe\">\n  <thead>\n    <tr style=\"text-align: right;\">\n      <th></th>\n      <th>Id</th>\n      <th>Url</th>\n      <th>ImageUrl</th>\n      <th>ContentCreatedOn</th>\n      <th>Name</th>\n      <th>Symbol</th>\n      <th>CoinName</th>\n      <th>FullName</th>\n      <th>Description</th>\n      <th>AssetTokenStatus</th>\n      <th>...</th>\n      <th>BlockTime</th>\n      <th>AssetLaunchDate</th>\n      <th>MaxSupply</th>\n      <th>MktCapPenalty</th>\n      <th>PlatformType</th>\n      <th>BuiltOn</th>\n      <th>SmartContractAddress</th>\n      <th>DecimalPoints</th>\n      <th>Difficulty</th>\n      <th>IsUsedInDefi</th>\n    </tr>\n  </thead>\n  <tbody>\n    <tr>\n      <th>42</th>\n      <td>4321</td>\n      <td>/coins/42/overview</td>\n      <td>/media/35650717/42.jpg</td>\n      <td>1427211129</td>\n      <td>42</td>\n      <td>42</td>\n      <td>42 Coin</td>\n      <td>42 Coin (42)</td>\n      <td>Everything about 42 coin is 42 - apart from th...</td>\n      <td>N/A</td>\n      <td>...</td>\n      <td>0</td>\n      <td>0000-00-00</td>\n      <td>0</td>\n      <td>0</td>\n      <td>NaN</td>\n      <td>NaN</td>\n      <td>NaN</td>\n      <td>NaN</td>\n      <td>NaN</td>\n      <td>NaN</td>\n    </tr>\n    <tr>\n      <th>300</th>\n      <td>749869</td>\n      <td>/coins/300/overview</td>\n      <td>/media/27010595/300.png</td>\n      <td>1517935016</td>\n      <td>300</td>\n      <td>300</td>\n      <td>300 token</td>\n      <td>300 token (300)</td>\n      <td>300 token is an ERC20 token. This Token was cr...</td>\n      <td>N/A</td>\n      <td>...</td>\n      <td>0</td>\n      <td>2017-07-01</td>\n      <td>300</td>\n      <td>0</td>\n      <td>token</td>\n      <td>ETH</td>\n      <td>0xaec98a708810414878c3bcdf46aad31ded4a4557</td>\n      <td>18</td>\n      <td>NaN</td>\n      <td>NaN</td>\n    </tr>\n    <tr>\n      <th>365</th>\n      <td>33639</td>\n      <td>/coins/365/overview</td>\n      <td>/media/352070/365.png</td>\n      <td>1480032918</td>\n      <td>365</td>\n      <td>365</td>\n      <td>365Coin</td>\n      <td>365Coin (365)</td>\n      <td>365Coin is a Proof of Work and Proof of Stake ...</td>\n      <td>N/A</td>\n      <td>...</td>\n      <td>0</td>\n      <td>0000-00-00</td>\n      <td>0</td>\n      <td>0</td>\n      <td>NaN</td>\n      <td>NaN</td>\n      <td>NaN</td>\n      <td>NaN</td>\n      <td>NaN</td>\n      <td>NaN</td>\n    </tr>\n    <tr>\n      <th>404</th>\n      <td>21227</td>\n      <td>/coins/404/overview</td>\n      <td>/media/35650851/404-300x300.jpg</td>\n      <td>1466100361</td>\n      <td>404</td>\n      <td>404</td>\n      <td>404Coin</td>\n      <td>404Coin (404)</td>\n      <td>404 is a PoW/PoS hybrid cryptocurrency that al...</td>\n      <td>N/A</td>\n      <td>...</td>\n      <td>0</td>\n      <td>0000-00-00</td>\n      <td>0</td>\n      <td>0</td>\n      <td>NaN</td>\n      <td>NaN</td>\n      <td>NaN</td>\n      <td>NaN</td>\n      <td>NaN</td>\n      <td>NaN</td>\n    </tr>\n    <tr>\n      <th>433</th>\n      <td>926547</td>\n      <td>/coins/433/overview</td>\n      <td>/media/34836095/433.png</td>\n      <td>1541597321</td>\n      <td>433</td>\n      <td>433</td>\n      <td>433 Token</td>\n      <td>433 Token (433)</td>\n      <td>433 Token is a decentralised soccer platform t...</td>\n      <td>Finished</td>\n      <td>...</td>\n      <td>NaN</td>\n      <td>NaN</td>\n      <td>NaN</td>\n      <td>NaN</td>\n      <td>NaN</td>\n      <td>NaN</td>\n      <td>NaN</td>\n      <td>NaN</td>\n      <td>NaN</td>\n      <td>NaN</td>\n    </tr>\n  </tbody>\n</table>\n<p>5 rows × 31 columns</p>\n</div>"
     },
     "metadata": {},
     "execution_count": 214
    }
   ],
   "source": [
    "# Create a DataFrame \n",
    "crypto_df = pd.DataFrame(json_data['Data']).T\n",
    "crypto_df.head()"
   ]
  },
  {
   "cell_type": "code",
   "execution_count": null,
   "metadata": {},
   "outputs": [],
   "source": [
    "# Alternatively, use the provided csv file:\n",
    "# file_path = Path(\"Resources/crypto_data.csv\")\n",
    "\n",
    "# Create a DataFrame"
   ]
  },
  {
   "cell_type": "markdown",
   "metadata": {},
   "source": [
    "### Data Preprocessing"
   ]
  },
  {
   "cell_type": "code",
   "execution_count": 217,
   "metadata": {},
   "outputs": [],
   "source": [
    "# Keep only necessary columns:\n",
    "# 'CoinName','Algorithm','IsTrading','ProofType','TotalCoinsMined','TotalCoinSupply'\n",
    "\n",
    "new_crypto_df = crypto_df.drop(columns=['Id','Url','ImageUrl','ContentCreatedOn','Name','Symbol','FullName','Description', 'AssetTokenStatus','BlockTime','AssetLaunchDate', 'MktCapPenalty', 'PlatformType', 'BuiltOn', 'SmartContractAddress', 'DecimalPoints', 'Difficulty', 'Taxonomy', 'Sponsored', 'SortOrder', 'Rating','NetHashesPerSecond','BlockNumber','BlockReward','IsUsedInDefi' ])\n"
   ]
  },
  {
   "cell_type": "code",
   "execution_count": 218,
   "metadata": {},
   "outputs": [
    {
     "output_type": "execute_result",
     "data": {
      "text/plain": [
       "         CoinName Algorithm ProofType IsTrading TotalCoinsMined MaxSupply\n",
       "42        42 Coin    Scrypt   PoW/PoS      True               0         0\n",
       "300     300 token       N/A       N/A      True             300       300\n",
       "365       365Coin       X11   PoW/PoS      True               0         0\n",
       "404       404Coin    Scrypt   PoW/PoS      True               0         0\n",
       "611     SixEleven   SHA-256       PoW      True               0         0\n",
       "808           808   SHA-256   PoW/PoS      True               0         0\n",
       "888      Octocoin       N/A       PoW      True               0         0\n",
       "1337    EliteCoin       X13   PoW/PoS      True               0         0\n",
       "2015    2015 coin       X11   PoW/PoS      True               0         0\n",
       "BTCD  BitcoinDark   SHA-256   PoW/PoS      True             NaN       NaN"
      ],
      "text/html": "<div>\n<style scoped>\n    .dataframe tbody tr th:only-of-type {\n        vertical-align: middle;\n    }\n\n    .dataframe tbody tr th {\n        vertical-align: top;\n    }\n\n    .dataframe thead th {\n        text-align: right;\n    }\n</style>\n<table border=\"1\" class=\"dataframe\">\n  <thead>\n    <tr style=\"text-align: right;\">\n      <th></th>\n      <th>CoinName</th>\n      <th>Algorithm</th>\n      <th>ProofType</th>\n      <th>IsTrading</th>\n      <th>TotalCoinsMined</th>\n      <th>MaxSupply</th>\n    </tr>\n  </thead>\n  <tbody>\n    <tr>\n      <th>42</th>\n      <td>42 Coin</td>\n      <td>Scrypt</td>\n      <td>PoW/PoS</td>\n      <td>True</td>\n      <td>0</td>\n      <td>0</td>\n    </tr>\n    <tr>\n      <th>300</th>\n      <td>300 token</td>\n      <td>N/A</td>\n      <td>N/A</td>\n      <td>True</td>\n      <td>300</td>\n      <td>300</td>\n    </tr>\n    <tr>\n      <th>365</th>\n      <td>365Coin</td>\n      <td>X11</td>\n      <td>PoW/PoS</td>\n      <td>True</td>\n      <td>0</td>\n      <td>0</td>\n    </tr>\n    <tr>\n      <th>404</th>\n      <td>404Coin</td>\n      <td>Scrypt</td>\n      <td>PoW/PoS</td>\n      <td>True</td>\n      <td>0</td>\n      <td>0</td>\n    </tr>\n    <tr>\n      <th>611</th>\n      <td>SixEleven</td>\n      <td>SHA-256</td>\n      <td>PoW</td>\n      <td>True</td>\n      <td>0</td>\n      <td>0</td>\n    </tr>\n    <tr>\n      <th>808</th>\n      <td>808</td>\n      <td>SHA-256</td>\n      <td>PoW/PoS</td>\n      <td>True</td>\n      <td>0</td>\n      <td>0</td>\n    </tr>\n    <tr>\n      <th>888</th>\n      <td>Octocoin</td>\n      <td>N/A</td>\n      <td>PoW</td>\n      <td>True</td>\n      <td>0</td>\n      <td>0</td>\n    </tr>\n    <tr>\n      <th>1337</th>\n      <td>EliteCoin</td>\n      <td>X13</td>\n      <td>PoW/PoS</td>\n      <td>True</td>\n      <td>0</td>\n      <td>0</td>\n    </tr>\n    <tr>\n      <th>2015</th>\n      <td>2015 coin</td>\n      <td>X11</td>\n      <td>PoW/PoS</td>\n      <td>True</td>\n      <td>0</td>\n      <td>0</td>\n    </tr>\n    <tr>\n      <th>BTCD</th>\n      <td>BitcoinDark</td>\n      <td>SHA-256</td>\n      <td>PoW/PoS</td>\n      <td>True</td>\n      <td>NaN</td>\n      <td>NaN</td>\n    </tr>\n  </tbody>\n</table>\n</div>"
     },
     "metadata": {},
     "execution_count": 218
    }
   ],
   "source": [
    "# Keep only cryptocurrencies that are trading\n",
    "is_trading_df = new_crypto_df[new_crypto_df.IsTrading == True]\n",
    "is_trading_df.head(10)"
   ]
  },
  {
   "cell_type": "code",
   "execution_count": 219,
   "metadata": {},
   "outputs": [
    {
     "output_type": "execute_result",
     "data": {
      "text/plain": [
       "         CoinName Algorithm ProofType IsTrading TotalCoinsMined MaxSupply\n",
       "42        42 Coin    Scrypt   PoW/PoS      True               0         0\n",
       "300     300 token       N/A       N/A      True             300       300\n",
       "365       365Coin       X11   PoW/PoS      True               0         0\n",
       "404       404Coin    Scrypt   PoW/PoS      True               0         0\n",
       "611     SixEleven   SHA-256       PoW      True               0         0\n",
       "808           808   SHA-256   PoW/PoS      True               0         0\n",
       "888      Octocoin       N/A       PoW      True               0         0\n",
       "1337    EliteCoin       X13   PoW/PoS      True               0         0\n",
       "2015    2015 coin       X11   PoW/PoS      True               0         0\n",
       "BTCD  BitcoinDark   SHA-256   PoW/PoS      True             NaN       NaN"
      ],
      "text/html": "<div>\n<style scoped>\n    .dataframe tbody tr th:only-of-type {\n        vertical-align: middle;\n    }\n\n    .dataframe tbody tr th {\n        vertical-align: top;\n    }\n\n    .dataframe thead th {\n        text-align: right;\n    }\n</style>\n<table border=\"1\" class=\"dataframe\">\n  <thead>\n    <tr style=\"text-align: right;\">\n      <th></th>\n      <th>CoinName</th>\n      <th>Algorithm</th>\n      <th>ProofType</th>\n      <th>IsTrading</th>\n      <th>TotalCoinsMined</th>\n      <th>MaxSupply</th>\n    </tr>\n  </thead>\n  <tbody>\n    <tr>\n      <th>42</th>\n      <td>42 Coin</td>\n      <td>Scrypt</td>\n      <td>PoW/PoS</td>\n      <td>True</td>\n      <td>0</td>\n      <td>0</td>\n    </tr>\n    <tr>\n      <th>300</th>\n      <td>300 token</td>\n      <td>N/A</td>\n      <td>N/A</td>\n      <td>True</td>\n      <td>300</td>\n      <td>300</td>\n    </tr>\n    <tr>\n      <th>365</th>\n      <td>365Coin</td>\n      <td>X11</td>\n      <td>PoW/PoS</td>\n      <td>True</td>\n      <td>0</td>\n      <td>0</td>\n    </tr>\n    <tr>\n      <th>404</th>\n      <td>404Coin</td>\n      <td>Scrypt</td>\n      <td>PoW/PoS</td>\n      <td>True</td>\n      <td>0</td>\n      <td>0</td>\n    </tr>\n    <tr>\n      <th>611</th>\n      <td>SixEleven</td>\n      <td>SHA-256</td>\n      <td>PoW</td>\n      <td>True</td>\n      <td>0</td>\n      <td>0</td>\n    </tr>\n    <tr>\n      <th>808</th>\n      <td>808</td>\n      <td>SHA-256</td>\n      <td>PoW/PoS</td>\n      <td>True</td>\n      <td>0</td>\n      <td>0</td>\n    </tr>\n    <tr>\n      <th>888</th>\n      <td>Octocoin</td>\n      <td>N/A</td>\n      <td>PoW</td>\n      <td>True</td>\n      <td>0</td>\n      <td>0</td>\n    </tr>\n    <tr>\n      <th>1337</th>\n      <td>EliteCoin</td>\n      <td>X13</td>\n      <td>PoW/PoS</td>\n      <td>True</td>\n      <td>0</td>\n      <td>0</td>\n    </tr>\n    <tr>\n      <th>2015</th>\n      <td>2015 coin</td>\n      <td>X11</td>\n      <td>PoW/PoS</td>\n      <td>True</td>\n      <td>0</td>\n      <td>0</td>\n    </tr>\n    <tr>\n      <th>BTCD</th>\n      <td>BitcoinDark</td>\n      <td>SHA-256</td>\n      <td>PoW/PoS</td>\n      <td>True</td>\n      <td>NaN</td>\n      <td>NaN</td>\n    </tr>\n  </tbody>\n</table>\n</div>"
     },
     "metadata": {},
     "execution_count": 219
    }
   ],
   "source": [
    "# Keep only cryptocurrencies with a working algorithm\n",
    "working_algo_df = is_trading_df.dropna(axis=0, subset=[\"Algorithm\"])\n",
    "working_algo_df.head(10)"
   ]
  },
  {
   "cell_type": "code",
   "execution_count": 220,
   "metadata": {},
   "outputs": [
    {
     "output_type": "execute_result",
     "data": {
      "text/plain": [
       "         CoinName Algorithm ProofType TotalCoinsMined MaxSupply\n",
       "42        42 Coin    Scrypt   PoW/PoS               0         0\n",
       "300     300 token       N/A       N/A             300       300\n",
       "365       365Coin       X11   PoW/PoS               0         0\n",
       "404       404Coin    Scrypt   PoW/PoS               0         0\n",
       "611     SixEleven   SHA-256       PoW               0         0\n",
       "808           808   SHA-256   PoW/PoS               0         0\n",
       "888      Octocoin       N/A       PoW               0         0\n",
       "1337    EliteCoin       X13   PoW/PoS               0         0\n",
       "2015    2015 coin       X11   PoW/PoS               0         0\n",
       "BTCD  BitcoinDark   SHA-256   PoW/PoS             NaN       NaN"
      ],
      "text/html": "<div>\n<style scoped>\n    .dataframe tbody tr th:only-of-type {\n        vertical-align: middle;\n    }\n\n    .dataframe tbody tr th {\n        vertical-align: top;\n    }\n\n    .dataframe thead th {\n        text-align: right;\n    }\n</style>\n<table border=\"1\" class=\"dataframe\">\n  <thead>\n    <tr style=\"text-align: right;\">\n      <th></th>\n      <th>CoinName</th>\n      <th>Algorithm</th>\n      <th>ProofType</th>\n      <th>TotalCoinsMined</th>\n      <th>MaxSupply</th>\n    </tr>\n  </thead>\n  <tbody>\n    <tr>\n      <th>42</th>\n      <td>42 Coin</td>\n      <td>Scrypt</td>\n      <td>PoW/PoS</td>\n      <td>0</td>\n      <td>0</td>\n    </tr>\n    <tr>\n      <th>300</th>\n      <td>300 token</td>\n      <td>N/A</td>\n      <td>N/A</td>\n      <td>300</td>\n      <td>300</td>\n    </tr>\n    <tr>\n      <th>365</th>\n      <td>365Coin</td>\n      <td>X11</td>\n      <td>PoW/PoS</td>\n      <td>0</td>\n      <td>0</td>\n    </tr>\n    <tr>\n      <th>404</th>\n      <td>404Coin</td>\n      <td>Scrypt</td>\n      <td>PoW/PoS</td>\n      <td>0</td>\n      <td>0</td>\n    </tr>\n    <tr>\n      <th>611</th>\n      <td>SixEleven</td>\n      <td>SHA-256</td>\n      <td>PoW</td>\n      <td>0</td>\n      <td>0</td>\n    </tr>\n    <tr>\n      <th>808</th>\n      <td>808</td>\n      <td>SHA-256</td>\n      <td>PoW/PoS</td>\n      <td>0</td>\n      <td>0</td>\n    </tr>\n    <tr>\n      <th>888</th>\n      <td>Octocoin</td>\n      <td>N/A</td>\n      <td>PoW</td>\n      <td>0</td>\n      <td>0</td>\n    </tr>\n    <tr>\n      <th>1337</th>\n      <td>EliteCoin</td>\n      <td>X13</td>\n      <td>PoW/PoS</td>\n      <td>0</td>\n      <td>0</td>\n    </tr>\n    <tr>\n      <th>2015</th>\n      <td>2015 coin</td>\n      <td>X11</td>\n      <td>PoW/PoS</td>\n      <td>0</td>\n      <td>0</td>\n    </tr>\n    <tr>\n      <th>BTCD</th>\n      <td>BitcoinDark</td>\n      <td>SHA-256</td>\n      <td>PoW/PoS</td>\n      <td>NaN</td>\n      <td>NaN</td>\n    </tr>\n  </tbody>\n</table>\n</div>"
     },
     "metadata": {},
     "execution_count": 220
    }
   ],
   "source": [
    "# Remove the \"IsTrading\" column\n",
    "newer_crypto_df = working_algo_df.drop(\"IsTrading\", axis=1)\n",
    "newer_crypto_df.head(10)"
   ]
  },
  {
   "cell_type": "code",
   "execution_count": 221,
   "metadata": {},
   "outputs": [
    {
     "output_type": "execute_result",
     "data": {
      "text/plain": [
       "         CoinName Algorithm ProofType TotalCoinsMined MaxSupply\n",
       "42        42 Coin    Scrypt   PoW/PoS               0         0\n",
       "300     300 token       N/A       N/A             300       300\n",
       "365       365Coin       X11   PoW/PoS               0         0\n",
       "404       404Coin    Scrypt   PoW/PoS               0         0\n",
       "611     SixEleven   SHA-256       PoW               0         0\n",
       "808           808   SHA-256   PoW/PoS               0         0\n",
       "888      Octocoin       N/A       PoW               0         0\n",
       "1337    EliteCoin       X13   PoW/PoS               0         0\n",
       "2015    2015 coin       X11   PoW/PoS               0         0\n",
       "BTCD  BitcoinDark   SHA-256   PoW/PoS             NaN       NaN"
      ],
      "text/html": "<div>\n<style scoped>\n    .dataframe tbody tr th:only-of-type {\n        vertical-align: middle;\n    }\n\n    .dataframe tbody tr th {\n        vertical-align: top;\n    }\n\n    .dataframe thead th {\n        text-align: right;\n    }\n</style>\n<table border=\"1\" class=\"dataframe\">\n  <thead>\n    <tr style=\"text-align: right;\">\n      <th></th>\n      <th>CoinName</th>\n      <th>Algorithm</th>\n      <th>ProofType</th>\n      <th>TotalCoinsMined</th>\n      <th>MaxSupply</th>\n    </tr>\n  </thead>\n  <tbody>\n    <tr>\n      <th>42</th>\n      <td>42 Coin</td>\n      <td>Scrypt</td>\n      <td>PoW/PoS</td>\n      <td>0</td>\n      <td>0</td>\n    </tr>\n    <tr>\n      <th>300</th>\n      <td>300 token</td>\n      <td>N/A</td>\n      <td>N/A</td>\n      <td>300</td>\n      <td>300</td>\n    </tr>\n    <tr>\n      <th>365</th>\n      <td>365Coin</td>\n      <td>X11</td>\n      <td>PoW/PoS</td>\n      <td>0</td>\n      <td>0</td>\n    </tr>\n    <tr>\n      <th>404</th>\n      <td>404Coin</td>\n      <td>Scrypt</td>\n      <td>PoW/PoS</td>\n      <td>0</td>\n      <td>0</td>\n    </tr>\n    <tr>\n      <th>611</th>\n      <td>SixEleven</td>\n      <td>SHA-256</td>\n      <td>PoW</td>\n      <td>0</td>\n      <td>0</td>\n    </tr>\n    <tr>\n      <th>808</th>\n      <td>808</td>\n      <td>SHA-256</td>\n      <td>PoW/PoS</td>\n      <td>0</td>\n      <td>0</td>\n    </tr>\n    <tr>\n      <th>888</th>\n      <td>Octocoin</td>\n      <td>N/A</td>\n      <td>PoW</td>\n      <td>0</td>\n      <td>0</td>\n    </tr>\n    <tr>\n      <th>1337</th>\n      <td>EliteCoin</td>\n      <td>X13</td>\n      <td>PoW/PoS</td>\n      <td>0</td>\n      <td>0</td>\n    </tr>\n    <tr>\n      <th>2015</th>\n      <td>2015 coin</td>\n      <td>X11</td>\n      <td>PoW/PoS</td>\n      <td>0</td>\n      <td>0</td>\n    </tr>\n    <tr>\n      <th>BTCD</th>\n      <td>BitcoinDark</td>\n      <td>SHA-256</td>\n      <td>PoW/PoS</td>\n      <td>NaN</td>\n      <td>NaN</td>\n    </tr>\n  </tbody>\n</table>\n</div>"
     },
     "metadata": {},
     "execution_count": 221
    }
   ],
   "source": [
    "# Remove rows with at least 1 null value\n",
    "newer_crypto_df.dropna()\n",
    "newer_crypto_df.head(10)"
   ]
  },
  {
   "cell_type": "code",
   "execution_count": 222,
   "metadata": {},
   "outputs": [
    {
     "output_type": "execute_result",
     "data": {
      "text/plain": [
       "       CoinName Algorithm ProofType TotalCoinsMined MaxSupply\n",
       "42      42 Coin    Scrypt   PoW/PoS               0         0\n",
       "300   300 token       N/A       N/A             300       300\n",
       "365     365Coin       X11   PoW/PoS               0         0\n",
       "404     404Coin    Scrypt   PoW/PoS               0         0\n",
       "611   SixEleven   SHA-256       PoW               0         0\n",
       "808         808   SHA-256   PoW/PoS               0         0\n",
       "888    Octocoin       N/A       PoW               0         0\n",
       "1337  EliteCoin       X13   PoW/PoS               0         0\n",
       "2015  2015 coin       X11   PoW/PoS               0         0\n",
       "GEO     GeoCoin       N/A       N/A               0         0"
      ],
      "text/html": "<div>\n<style scoped>\n    .dataframe tbody tr th:only-of-type {\n        vertical-align: middle;\n    }\n\n    .dataframe tbody tr th {\n        vertical-align: top;\n    }\n\n    .dataframe thead th {\n        text-align: right;\n    }\n</style>\n<table border=\"1\" class=\"dataframe\">\n  <thead>\n    <tr style=\"text-align: right;\">\n      <th></th>\n      <th>CoinName</th>\n      <th>Algorithm</th>\n      <th>ProofType</th>\n      <th>TotalCoinsMined</th>\n      <th>MaxSupply</th>\n    </tr>\n  </thead>\n  <tbody>\n    <tr>\n      <th>42</th>\n      <td>42 Coin</td>\n      <td>Scrypt</td>\n      <td>PoW/PoS</td>\n      <td>0</td>\n      <td>0</td>\n    </tr>\n    <tr>\n      <th>300</th>\n      <td>300 token</td>\n      <td>N/A</td>\n      <td>N/A</td>\n      <td>300</td>\n      <td>300</td>\n    </tr>\n    <tr>\n      <th>365</th>\n      <td>365Coin</td>\n      <td>X11</td>\n      <td>PoW/PoS</td>\n      <td>0</td>\n      <td>0</td>\n    </tr>\n    <tr>\n      <th>404</th>\n      <td>404Coin</td>\n      <td>Scrypt</td>\n      <td>PoW/PoS</td>\n      <td>0</td>\n      <td>0</td>\n    </tr>\n    <tr>\n      <th>611</th>\n      <td>SixEleven</td>\n      <td>SHA-256</td>\n      <td>PoW</td>\n      <td>0</td>\n      <td>0</td>\n    </tr>\n    <tr>\n      <th>808</th>\n      <td>808</td>\n      <td>SHA-256</td>\n      <td>PoW/PoS</td>\n      <td>0</td>\n      <td>0</td>\n    </tr>\n    <tr>\n      <th>888</th>\n      <td>Octocoin</td>\n      <td>N/A</td>\n      <td>PoW</td>\n      <td>0</td>\n      <td>0</td>\n    </tr>\n    <tr>\n      <th>1337</th>\n      <td>EliteCoin</td>\n      <td>X13</td>\n      <td>PoW/PoS</td>\n      <td>0</td>\n      <td>0</td>\n    </tr>\n    <tr>\n      <th>2015</th>\n      <td>2015 coin</td>\n      <td>X11</td>\n      <td>PoW/PoS</td>\n      <td>0</td>\n      <td>0</td>\n    </tr>\n    <tr>\n      <th>GEO</th>\n      <td>GeoCoin</td>\n      <td>N/A</td>\n      <td>N/A</td>\n      <td>0</td>\n      <td>0</td>\n    </tr>\n  </tbody>\n</table>\n</div>"
     },
     "metadata": {},
     "execution_count": 222
    }
   ],
   "source": [
    "# Remove rows with cryptocurrencies having no coins mined\n",
    "newer_crypto_df.dropna(inplace=True)\n",
    "newer_crypto_df.head(10)"
   ]
  },
  {
   "cell_type": "code",
   "execution_count": 223,
   "metadata": {},
   "outputs": [],
   "source": [
    "# Drop rows where there are 'N/A' text values\n",
    "newest_crypto_df = newer_crypto_df.dropna(axis=1)"
   ]
  },
  {
   "cell_type": "code",
   "execution_count": 224,
   "metadata": {},
   "outputs": [
    {
     "output_type": "execute_result",
     "data": {
      "text/plain": [
       "      CoinName\n",
       "42     42 Coin\n",
       "300  300 token\n",
       "365    365Coin\n",
       "404    404Coin\n",
       "611  SixEleven"
      ],
      "text/html": "<div>\n<style scoped>\n    .dataframe tbody tr th:only-of-type {\n        vertical-align: middle;\n    }\n\n    .dataframe tbody tr th {\n        vertical-align: top;\n    }\n\n    .dataframe thead th {\n        text-align: right;\n    }\n</style>\n<table border=\"1\" class=\"dataframe\">\n  <thead>\n    <tr style=\"text-align: right;\">\n      <th></th>\n      <th>CoinName</th>\n    </tr>\n  </thead>\n  <tbody>\n    <tr>\n      <th>42</th>\n      <td>42 Coin</td>\n    </tr>\n    <tr>\n      <th>300</th>\n      <td>300 token</td>\n    </tr>\n    <tr>\n      <th>365</th>\n      <td>365Coin</td>\n    </tr>\n    <tr>\n      <th>404</th>\n      <td>404Coin</td>\n    </tr>\n    <tr>\n      <th>611</th>\n      <td>SixEleven</td>\n    </tr>\n  </tbody>\n</table>\n</div>"
     },
     "metadata": {},
     "execution_count": 224
    }
   ],
   "source": [
    "# Store the 'CoinName'column in its own DataFrame prior to dropping it from crypto_df\n",
    "\n",
    "coin_name_df = pd.DataFrame(newest_crypto_df[\"CoinName\"])\n",
    "coin_name_df.head()\n",
    "\n",
    "\n"
   ]
  },
  {
   "cell_type": "code",
   "execution_count": 225,
   "metadata": {},
   "outputs": [
    {
     "output_type": "execute_result",
     "data": {
      "text/plain": [
       "<bound method NDFrame.head of       Algorithm ProofType TotalCoinsMined    MaxSupply\n",
       "42       Scrypt   PoW/PoS               0            0\n",
       "300         N/A       N/A             300          300\n",
       "365         X11   PoW/PoS               0            0\n",
       "404      Scrypt   PoW/PoS               0            0\n",
       "611     SHA-256       PoW               0            0\n",
       "...         ...       ...             ...          ...\n",
       "NEO     dBFT2.0       N/A       100000000    100000000\n",
       "XRP         N/A       N/A     99990820713  99990820713\n",
       "EOS        DPoS      DPoS     1.02564e+09           -1\n",
       "ESD         N/A       N/A     5.10924e+08  5.10924e+08\n",
       "PYLON       N/A       N/A           14700        14700\n",
       "\n",
       "[1024 rows x 4 columns]>"
      ]
     },
     "metadata": {},
     "execution_count": 225
    }
   ],
   "source": [
    "# Drop the 'CoinName' column since it's not going to be used on the clustering algorithm\n",
    "updated_df = newest_crypto_df.drop([\"CoinName\"],axis=1)\n",
    "updated_df.head"
   ]
  },
  {
   "cell_type": "code",
   "execution_count": 226,
   "metadata": {},
   "outputs": [
    {
     "output_type": "execute_result",
     "data": {
      "text/plain": [
       "     TotalCoinsMined MaxSupply  Algorithm_Argon2d  Algorithm_Autolykos  \\\n",
       "42                 0         0                  0                    0   \n",
       "300              300       300                  0                    0   \n",
       "365                0         0                  0                    0   \n",
       "404                0         0                  0                    0   \n",
       "611                0         0                  0                    0   \n",
       "808                0         0                  0                    0   \n",
       "888                0         0                  0                    0   \n",
       "1337               0         0                  0                    0   \n",
       "2015               0         0                  0                    0   \n",
       "GEO                0         0                  0                    0   \n",
       "\n",
       "      Algorithm_BEP-2  Algorithm_BEP2 Token  Algorithm_BEP20 Token  \\\n",
       "42                  0                     0                      0   \n",
       "300                 0                     0                      0   \n",
       "365                 0                     0                      0   \n",
       "404                 0                     0                      0   \n",
       "611                 0                     0                      0   \n",
       "808                 0                     0                      0   \n",
       "888                 0                     0                      0   \n",
       "1337                0                     0                      0   \n",
       "2015                0                     0                      0   \n",
       "GEO                 0                     0                      0   \n",
       "\n",
       "      Algorithm_BLAKE256  Algorithm_BMW512 / Echo512  \\\n",
       "42                     0                           0   \n",
       "300                    0                           0   \n",
       "365                    0                           0   \n",
       "404                    0                           0   \n",
       "611                    0                           0   \n",
       "808                    0                           0   \n",
       "888                    0                           0   \n",
       "1337                   0                           0   \n",
       "2015                   0                           0   \n",
       "GEO                    0                           0   \n",
       "\n",
       "      Algorithm_Blake2B + SHA3  ...  ProofType_SCP  ProofType_SPoS  \\\n",
       "42                           0  ...              0               0   \n",
       "300                          0  ...              0               0   \n",
       "365                          0  ...              0               0   \n",
       "404                          0  ...              0               0   \n",
       "611                          0  ...              0               0   \n",
       "808                          0  ...              0               0   \n",
       "888                          0  ...              0               0   \n",
       "1337                         0  ...              0               0   \n",
       "2015                         0  ...              0               0   \n",
       "GEO                          0  ...              0               0   \n",
       "\n",
       "      ProofType_TPoS  ProofType_Tangle  ProofType_Zero-Knowledge Proof  \\\n",
       "42                 0                 0                               0   \n",
       "300                0                 0                               0   \n",
       "365                0                 0                               0   \n",
       "404                0                 0                               0   \n",
       "611                0                 0                               0   \n",
       "808                0                 0                               0   \n",
       "888                0                 0                               0   \n",
       "1337               0                 0                               0   \n",
       "2015               0                 0                               0   \n",
       "GEO                0                 0                               0   \n",
       "\n",
       "      ProofType_dPoS  ProofType_dPoS/BFT  ProofType_dPoW/PoW  ProofType_ePoW  \\\n",
       "42                 0                   0                   0               0   \n",
       "300                0                   0                   0               0   \n",
       "365                0                   0                   0               0   \n",
       "404                0                   0                   0               0   \n",
       "611                0                   0                   0               0   \n",
       "808                0                   0                   0               0   \n",
       "888                0                   0                   0               0   \n",
       "1337               0                   0                   0               0   \n",
       "2015               0                   0                   0               0   \n",
       "GEO                0                   0                   0               0   \n",
       "\n",
       "      ProofType_fPoW+ PBFT  \n",
       "42                       0  \n",
       "300                      0  \n",
       "365                      0  \n",
       "404                      0  \n",
       "611                      0  \n",
       "808                      0  \n",
       "888                      0  \n",
       "1337                     0  \n",
       "2015                     0  \n",
       "GEO                      0  \n",
       "\n",
       "[10 rows x 99 columns]"
      ],
      "text/html": "<div>\n<style scoped>\n    .dataframe tbody tr th:only-of-type {\n        vertical-align: middle;\n    }\n\n    .dataframe tbody tr th {\n        vertical-align: top;\n    }\n\n    .dataframe thead th {\n        text-align: right;\n    }\n</style>\n<table border=\"1\" class=\"dataframe\">\n  <thead>\n    <tr style=\"text-align: right;\">\n      <th></th>\n      <th>TotalCoinsMined</th>\n      <th>MaxSupply</th>\n      <th>Algorithm_Argon2d</th>\n      <th>Algorithm_Autolykos</th>\n      <th>Algorithm_BEP-2</th>\n      <th>Algorithm_BEP2 Token</th>\n      <th>Algorithm_BEP20 Token</th>\n      <th>Algorithm_BLAKE256</th>\n      <th>Algorithm_BMW512 / Echo512</th>\n      <th>Algorithm_Blake2B + SHA3</th>\n      <th>...</th>\n      <th>ProofType_SCP</th>\n      <th>ProofType_SPoS</th>\n      <th>ProofType_TPoS</th>\n      <th>ProofType_Tangle</th>\n      <th>ProofType_Zero-Knowledge Proof</th>\n      <th>ProofType_dPoS</th>\n      <th>ProofType_dPoS/BFT</th>\n      <th>ProofType_dPoW/PoW</th>\n      <th>ProofType_ePoW</th>\n      <th>ProofType_fPoW+ PBFT</th>\n    </tr>\n  </thead>\n  <tbody>\n    <tr>\n      <th>42</th>\n      <td>0</td>\n      <td>0</td>\n      <td>0</td>\n      <td>0</td>\n      <td>0</td>\n      <td>0</td>\n      <td>0</td>\n      <td>0</td>\n      <td>0</td>\n      <td>0</td>\n      <td>...</td>\n      <td>0</td>\n      <td>0</td>\n      <td>0</td>\n      <td>0</td>\n      <td>0</td>\n      <td>0</td>\n      <td>0</td>\n      <td>0</td>\n      <td>0</td>\n      <td>0</td>\n    </tr>\n    <tr>\n      <th>300</th>\n      <td>300</td>\n      <td>300</td>\n      <td>0</td>\n      <td>0</td>\n      <td>0</td>\n      <td>0</td>\n      <td>0</td>\n      <td>0</td>\n      <td>0</td>\n      <td>0</td>\n      <td>...</td>\n      <td>0</td>\n      <td>0</td>\n      <td>0</td>\n      <td>0</td>\n      <td>0</td>\n      <td>0</td>\n      <td>0</td>\n      <td>0</td>\n      <td>0</td>\n      <td>0</td>\n    </tr>\n    <tr>\n      <th>365</th>\n      <td>0</td>\n      <td>0</td>\n      <td>0</td>\n      <td>0</td>\n      <td>0</td>\n      <td>0</td>\n      <td>0</td>\n      <td>0</td>\n      <td>0</td>\n      <td>0</td>\n      <td>...</td>\n      <td>0</td>\n      <td>0</td>\n      <td>0</td>\n      <td>0</td>\n      <td>0</td>\n      <td>0</td>\n      <td>0</td>\n      <td>0</td>\n      <td>0</td>\n      <td>0</td>\n    </tr>\n    <tr>\n      <th>404</th>\n      <td>0</td>\n      <td>0</td>\n      <td>0</td>\n      <td>0</td>\n      <td>0</td>\n      <td>0</td>\n      <td>0</td>\n      <td>0</td>\n      <td>0</td>\n      <td>0</td>\n      <td>...</td>\n      <td>0</td>\n      <td>0</td>\n      <td>0</td>\n      <td>0</td>\n      <td>0</td>\n      <td>0</td>\n      <td>0</td>\n      <td>0</td>\n      <td>0</td>\n      <td>0</td>\n    </tr>\n    <tr>\n      <th>611</th>\n      <td>0</td>\n      <td>0</td>\n      <td>0</td>\n      <td>0</td>\n      <td>0</td>\n      <td>0</td>\n      <td>0</td>\n      <td>0</td>\n      <td>0</td>\n      <td>0</td>\n      <td>...</td>\n      <td>0</td>\n      <td>0</td>\n      <td>0</td>\n      <td>0</td>\n      <td>0</td>\n      <td>0</td>\n      <td>0</td>\n      <td>0</td>\n      <td>0</td>\n      <td>0</td>\n    </tr>\n    <tr>\n      <th>808</th>\n      <td>0</td>\n      <td>0</td>\n      <td>0</td>\n      <td>0</td>\n      <td>0</td>\n      <td>0</td>\n      <td>0</td>\n      <td>0</td>\n      <td>0</td>\n      <td>0</td>\n      <td>...</td>\n      <td>0</td>\n      <td>0</td>\n      <td>0</td>\n      <td>0</td>\n      <td>0</td>\n      <td>0</td>\n      <td>0</td>\n      <td>0</td>\n      <td>0</td>\n      <td>0</td>\n    </tr>\n    <tr>\n      <th>888</th>\n      <td>0</td>\n      <td>0</td>\n      <td>0</td>\n      <td>0</td>\n      <td>0</td>\n      <td>0</td>\n      <td>0</td>\n      <td>0</td>\n      <td>0</td>\n      <td>0</td>\n      <td>...</td>\n      <td>0</td>\n      <td>0</td>\n      <td>0</td>\n      <td>0</td>\n      <td>0</td>\n      <td>0</td>\n      <td>0</td>\n      <td>0</td>\n      <td>0</td>\n      <td>0</td>\n    </tr>\n    <tr>\n      <th>1337</th>\n      <td>0</td>\n      <td>0</td>\n      <td>0</td>\n      <td>0</td>\n      <td>0</td>\n      <td>0</td>\n      <td>0</td>\n      <td>0</td>\n      <td>0</td>\n      <td>0</td>\n      <td>...</td>\n      <td>0</td>\n      <td>0</td>\n      <td>0</td>\n      <td>0</td>\n      <td>0</td>\n      <td>0</td>\n      <td>0</td>\n      <td>0</td>\n      <td>0</td>\n      <td>0</td>\n    </tr>\n    <tr>\n      <th>2015</th>\n      <td>0</td>\n      <td>0</td>\n      <td>0</td>\n      <td>0</td>\n      <td>0</td>\n      <td>0</td>\n      <td>0</td>\n      <td>0</td>\n      <td>0</td>\n      <td>0</td>\n      <td>...</td>\n      <td>0</td>\n      <td>0</td>\n      <td>0</td>\n      <td>0</td>\n      <td>0</td>\n      <td>0</td>\n      <td>0</td>\n      <td>0</td>\n      <td>0</td>\n      <td>0</td>\n    </tr>\n    <tr>\n      <th>GEO</th>\n      <td>0</td>\n      <td>0</td>\n      <td>0</td>\n      <td>0</td>\n      <td>0</td>\n      <td>0</td>\n      <td>0</td>\n      <td>0</td>\n      <td>0</td>\n      <td>0</td>\n      <td>...</td>\n      <td>0</td>\n      <td>0</td>\n      <td>0</td>\n      <td>0</td>\n      <td>0</td>\n      <td>0</td>\n      <td>0</td>\n      <td>0</td>\n      <td>0</td>\n      <td>0</td>\n    </tr>\n  </tbody>\n</table>\n<p>10 rows × 99 columns</p>\n</div>"
     },
     "metadata": {},
     "execution_count": 226
    }
   ],
   "source": [
    "# Create dummy variables for text features\n",
    "dummy_vars = pd.get_dummies(updated_df, columns=[\"Algorithm\", \"ProofType\"])\n",
    "dummy_vars.head(10)"
   ]
  },
  {
   "cell_type": "code",
   "execution_count": 227,
   "metadata": {},
   "outputs": [
    {
     "output_type": "stream",
     "name": "stdout",
     "text": [
      "[[-0.03290203 -0.03287921 -0.03126527 -0.03126527 -0.03126527 -0.0442374\n  -0.03126527 -0.0442374  -0.03126527 -0.03126527 -0.0442374  -0.0442374\n  -0.0767718  -0.0442374  -0.03126527 -0.03126527 -0.08873565 -0.03126527\n  -0.03126527 -0.03126527 -0.03126527 -0.08873565 -0.03126527 -0.03126527\n  -0.08873565 -0.0442374  -0.03126527 -0.0442374  -0.03126527 -0.03126527\n  -0.03126527 -0.03126527 -0.0442374  -0.03126527 -0.03126527 -0.06262243\n  -2.14374169 -0.05420605 -0.05420605 -0.03126527 -0.0442374  -0.08873565\n  -0.03126527 -0.03126527 -0.0767718  -0.03126527 -0.15491933 -0.0442374\n  -0.03126527 -0.03126527  5.75615612 -0.03126527 -0.03126527 -0.03126527\n  -0.03126527 -0.03126527 -0.03126527 -0.03126527 -0.08873565 -0.03126527\n  -0.09416472 -0.03126527 -0.03126527 -0.03126527 -0.03126527 -0.03126527\n  -0.11773439 -0.03126527 -0.03126527 -0.03126527 -1.80739223 -0.06262243\n  -0.0442374  -0.03126527 -0.03126527 -0.03126527 -0.03126527 -0.22894368\n  -0.03126527 -0.0442374  -0.03126527 -0.03126527 -0.03126527 -0.32163376\n   4.77639545 -0.03126527 -0.03126527 -0.03126527 -0.03126527 -0.0442374\n  -0.03126527 -0.03126527 -0.03126527 -0.03126527 -0.03126527 -0.03126527\n  -0.03126527 -0.03126527 -0.03126527]\n [-0.03290203 -0.03287921 -0.03126527 -0.03126527 -0.03126527 -0.0442374\n  -0.03126527 -0.0442374  -0.03126527 -0.03126527 -0.0442374  -0.0442374\n  -0.0767718  -0.0442374  -0.03126527 -0.03126527 -0.08873565 -0.03126527\n  -0.03126527 -0.03126527 -0.03126527 -0.08873565 -0.03126527 -0.03126527\n  -0.08873565 -0.0442374  -0.03126527 -0.0442374  -0.03126527 -0.03126527\n  -0.03126527 -0.03126527 -0.0442374  -0.03126527 -0.03126527 -0.06262243\n   0.46647411 -0.05420605 -0.05420605 -0.03126527 -0.0442374  -0.08873565\n  -0.03126527 -0.03126527 -0.0767718  -0.03126527 -0.15491933 -0.0442374\n  -0.03126527 -0.03126527 -0.17372705 -0.03126527 -0.03126527 -0.03126527\n  -0.03126527 -0.03126527 -0.03126527 -0.03126527 -0.08873565 -0.03126527\n  -0.09416472 -0.03126527 -0.03126527 -0.03126527 -0.03126527 -0.03126527\n  -0.11773439 -0.03126527 -0.03126527 -0.03126527  0.55328334 -0.06262243\n  -0.0442374  -0.03126527 -0.03126527 -0.03126527 -0.03126527 -0.22894368\n  -0.03126527 -0.0442374  -0.03126527 -0.03126527 -0.03126527 -0.32163376\n  -0.2093629  -0.03126527 -0.03126527 -0.03126527 -0.03126527 -0.0442374\n  -0.03126527 -0.03126527 -0.03126527 -0.03126527 -0.03126527 -0.03126527\n  -0.03126527 -0.03126527 -0.03126527]\n [-0.03290203 -0.03287921 -0.03126527 -0.03126527 -0.03126527 -0.0442374\n  -0.03126527 -0.0442374  -0.03126527 -0.03126527 -0.0442374  -0.0442374\n  -0.0767718  -0.0442374  -0.03126527 -0.03126527 -0.08873565 -0.03126527\n  -0.03126527 -0.03126527 -0.03126527 -0.08873565 -0.03126527 -0.03126527\n  -0.08873565 -0.0442374  -0.03126527 -0.0442374  -0.03126527 -0.03126527\n  -0.03126527 -0.03126527 -0.0442374  -0.03126527 -0.03126527 -0.06262243\n  -2.14374169 -0.05420605 -0.05420605 -0.03126527 -0.0442374  -0.08873565\n  -0.03126527 -0.03126527 -0.0767718  -0.03126527 -0.15491933 -0.0442374\n  -0.03126527 -0.03126527 -0.17372705 -0.03126527 -0.03126527 -0.03126527\n  -0.03126527 -0.03126527 -0.03126527 -0.03126527 11.26942767 -0.03126527\n  -0.09416472 -0.03126527 -0.03126527 -0.03126527 -0.03126527 -0.03126527\n  -0.11773439 -0.03126527 -0.03126527 -0.03126527 -1.80739223 -0.06262243\n  -0.0442374  -0.03126527 -0.03126527 -0.03126527 -0.03126527 -0.22894368\n  -0.03126527 -0.0442374  -0.03126527 -0.03126527 -0.03126527 -0.32163376\n   4.77639545 -0.03126527 -0.03126527 -0.03126527 -0.03126527 -0.0442374\n  -0.03126527 -0.03126527 -0.03126527 -0.03126527 -0.03126527 -0.03126527\n  -0.03126527 -0.03126527 -0.03126527]\n [-0.03290203 -0.03287921 -0.03126527 -0.03126527 -0.03126527 -0.0442374\n  -0.03126527 -0.0442374  -0.03126527 -0.03126527 -0.0442374  -0.0442374\n  -0.0767718  -0.0442374  -0.03126527 -0.03126527 -0.08873565 -0.03126527\n  -0.03126527 -0.03126527 -0.03126527 -0.08873565 -0.03126527 -0.03126527\n  -0.08873565 -0.0442374  -0.03126527 -0.0442374  -0.03126527 -0.03126527\n  -0.03126527 -0.03126527 -0.0442374  -0.03126527 -0.03126527 -0.06262243\n  -2.14374169 -0.05420605 -0.05420605 -0.03126527 -0.0442374  -0.08873565\n  -0.03126527 -0.03126527 -0.0767718  -0.03126527 -0.15491933 -0.0442374\n  -0.03126527 -0.03126527  5.75615612 -0.03126527 -0.03126527 -0.03126527\n  -0.03126527 -0.03126527 -0.03126527 -0.03126527 -0.08873565 -0.03126527\n  -0.09416472 -0.03126527 -0.03126527 -0.03126527 -0.03126527 -0.03126527\n  -0.11773439 -0.03126527 -0.03126527 -0.03126527 -1.80739223 -0.06262243\n  -0.0442374  -0.03126527 -0.03126527 -0.03126527 -0.03126527 -0.22894368\n  -0.03126527 -0.0442374  -0.03126527 -0.03126527 -0.03126527 -0.32163376\n   4.77639545 -0.03126527 -0.03126527 -0.03126527 -0.03126527 -0.0442374\n  -0.03126527 -0.03126527 -0.03126527 -0.03126527 -0.03126527 -0.03126527\n  -0.03126527 -0.03126527 -0.03126527]\n [-0.03290203 -0.03287921 -0.03126527 -0.03126527 -0.03126527 -0.0442374\n  -0.03126527 -0.0442374  -0.03126527 -0.03126527 -0.0442374  -0.0442374\n  -0.0767718  -0.0442374  -0.03126527 -0.03126527 -0.08873565 -0.03126527\n  -0.03126527 -0.03126527 -0.03126527 -0.08873565 -0.03126527 -0.03126527\n  -0.08873565 -0.0442374  -0.03126527 -0.0442374  -0.03126527 -0.03126527\n  -0.03126527 -0.03126527 -0.0442374  -0.03126527 -0.03126527 -0.06262243\n  -2.14374169 -0.05420605 -0.05420605 -0.03126527 -0.0442374  -0.08873565\n  -0.03126527 -0.03126527 -0.0767718  -0.03126527  6.45497224 -0.0442374\n  -0.03126527 -0.03126527 -0.17372705 -0.03126527 -0.03126527 -0.03126527\n  -0.03126527 -0.03126527 -0.03126527 -0.03126527 -0.08873565 -0.03126527\n  -0.09416472 -0.03126527 -0.03126527 -0.03126527 -0.03126527 -0.03126527\n  -0.11773439 -0.03126527 -0.03126527 -0.03126527 -1.80739223 -0.06262243\n  -0.0442374  -0.03126527 -0.03126527 -0.03126527 -0.03126527 -0.22894368\n  -0.03126527 -0.0442374  -0.03126527 -0.03126527 -0.03126527  3.10912635\n  -0.2093629  -0.03126527 -0.03126527 -0.03126527 -0.03126527 -0.0442374\n  -0.03126527 -0.03126527 -0.03126527 -0.03126527 -0.03126527 -0.03126527\n  -0.03126527 -0.03126527 -0.03126527]]\n"
     ]
    }
   ],
   "source": [
    "# Standardize data\n",
    "X_scaled = StandardScaler().fit_transform(dummy_vars)\n",
    "print(X_scaled[0:5])"
   ]
  },
  {
   "cell_type": "markdown",
   "metadata": {},
   "source": [
    "### Reducing Dimensions Using PCA"
   ]
  },
  {
   "cell_type": "code",
   "execution_count": 228,
   "metadata": {},
   "outputs": [
    {
     "output_type": "execute_result",
     "data": {
      "text/plain": [
       "array([[ 4.20435738, -0.16719896, -0.39918542],\n",
       "       [-0.95068413, -0.01515376, -0.00755087],\n",
       "       [ 4.14110145, -0.30775634, -0.13786292],\n",
       "       ...,\n",
       "       [ 2.99204989,  0.0333473 , -0.14206808],\n",
       "       [-0.95068577, -0.01514232, -0.00754191],\n",
       "       [-0.95068413, -0.01515376, -0.00755087]])"
      ]
     },
     "metadata": {},
     "execution_count": 228
    }
   ],
   "source": [
    "# Use PCA to reduce dimensions to 3 principal components\n",
    "pca = PCA(n_components=3)\n",
    "X_pca = pca.fit_transform(X_scaled)\n",
    "X_pca"
   ]
  },
  {
   "cell_type": "code",
   "execution_count": 229,
   "metadata": {},
   "outputs": [
    {
     "output_type": "execute_result",
     "data": {
      "text/plain": [
       "          PC 1      PC 2      PC 3\n",
       "42    4.204357 -0.167199 -0.399185\n",
       "300  -0.950684 -0.015154 -0.007551\n",
       "365   4.141101 -0.307756 -0.137863\n",
       "404   4.204357 -0.167199 -0.399185\n",
       "611   3.977527 -0.146166 -0.350348\n",
       "808   4.086727 -0.142046 -0.367541\n",
       "888   1.432479 -0.100801 -0.185524\n",
       "1337  4.080582 -0.165833 -0.354351\n",
       "2015  4.141101 -0.307756 -0.137863\n",
       "GEO  -0.950684 -0.015154 -0.007551"
      ],
      "text/html": "<div>\n<style scoped>\n    .dataframe tbody tr th:only-of-type {\n        vertical-align: middle;\n    }\n\n    .dataframe tbody tr th {\n        vertical-align: top;\n    }\n\n    .dataframe thead th {\n        text-align: right;\n    }\n</style>\n<table border=\"1\" class=\"dataframe\">\n  <thead>\n    <tr style=\"text-align: right;\">\n      <th></th>\n      <th>PC 1</th>\n      <th>PC 2</th>\n      <th>PC 3</th>\n    </tr>\n  </thead>\n  <tbody>\n    <tr>\n      <th>42</th>\n      <td>4.204357</td>\n      <td>-0.167199</td>\n      <td>-0.399185</td>\n    </tr>\n    <tr>\n      <th>300</th>\n      <td>-0.950684</td>\n      <td>-0.015154</td>\n      <td>-0.007551</td>\n    </tr>\n    <tr>\n      <th>365</th>\n      <td>4.141101</td>\n      <td>-0.307756</td>\n      <td>-0.137863</td>\n    </tr>\n    <tr>\n      <th>404</th>\n      <td>4.204357</td>\n      <td>-0.167199</td>\n      <td>-0.399185</td>\n    </tr>\n    <tr>\n      <th>611</th>\n      <td>3.977527</td>\n      <td>-0.146166</td>\n      <td>-0.350348</td>\n    </tr>\n    <tr>\n      <th>808</th>\n      <td>4.086727</td>\n      <td>-0.142046</td>\n      <td>-0.367541</td>\n    </tr>\n    <tr>\n      <th>888</th>\n      <td>1.432479</td>\n      <td>-0.100801</td>\n      <td>-0.185524</td>\n    </tr>\n    <tr>\n      <th>1337</th>\n      <td>4.080582</td>\n      <td>-0.165833</td>\n      <td>-0.354351</td>\n    </tr>\n    <tr>\n      <th>2015</th>\n      <td>4.141101</td>\n      <td>-0.307756</td>\n      <td>-0.137863</td>\n    </tr>\n    <tr>\n      <th>GEO</th>\n      <td>-0.950684</td>\n      <td>-0.015154</td>\n      <td>-0.007551</td>\n    </tr>\n  </tbody>\n</table>\n</div>"
     },
     "metadata": {},
     "execution_count": 229
    }
   ],
   "source": [
    "# Create a DataFrame with the principal components data\n",
    "pcs_df = pd.DataFrame(\n",
    "    data=X_pca,\n",
    "    columns=['PC 1', 'PC 2', 'PC 3'],\n",
    "    index=dummy_vars.index\n",
    ")\n",
    "pcs_df.head(10)"
   ]
  },
  {
   "cell_type": "markdown",
   "metadata": {},
   "source": [
    "### Clustering Crytocurrencies Using K-Means\n",
    "\n",
    "#### Find the Best Value for `k` Using the Elbow Curve"
   ]
  },
  {
   "cell_type": "code",
   "execution_count": 230,
   "metadata": {},
   "outputs": [
    {
     "output_type": "display_data",
     "data": {},
     "metadata": {}
    },
    {
     "output_type": "execute_result",
     "data": {
      "text/html": "<div id='1159'>\n\n\n\n\n\n  <div class=\"bk-root\" id=\"a50bfec7-8d1c-4f0e-9dee-61659102ab7e\" data-root-id=\"1159\"></div>\n</div>\n<script type=\"application/javascript\">(function(root) {\n  function embed_document(root) {\n    var docs_json = {\"48709d43-57ab-45a9-a142-d66259fef6d4\":{\"roots\":{\"references\":[{\"attributes\":{},\"id\":\"1204\",\"type\":\"BasicTickFormatter\"},{\"attributes\":{\"end\":10.0,\"reset_end\":10.0,\"reset_start\":1.0,\"start\":1.0,\"tags\":[[[\"k\",\"k\",null]]]},\"id\":\"1161\",\"type\":\"Range1d\"},{\"attributes\":{\"end\":8147.83756886797,\"reset_end\":8147.83756886797,\"reset_start\":-697.4312220865651,\"start\":-697.4312220865651,\"tags\":[[[\"inertia\",\"inertia\",null]]]},\"id\":\"1162\",\"type\":\"Range1d\"},{\"attributes\":{\"children\":[{\"id\":\"1160\"},{\"id\":\"1164\"},{\"id\":\"1223\"}],\"margin\":[0,0,0,0],\"name\":\"Row01841\",\"tags\":[\"embedded\"]},\"id\":\"1159\",\"type\":\"Row\"},{\"attributes\":{\"text\":\"Elbow Curve\",\"text_color\":{\"value\":\"black\"},\"text_font_size\":{\"value\":\"12pt\"}},\"id\":\"1165\",\"type\":\"Title\"},{\"attributes\":{},\"id\":\"1169\",\"type\":\"LinearScale\"},{\"attributes\":{},\"id\":\"1208\",\"type\":\"BasicTickFormatter\"},{\"attributes\":{\"margin\":[5,5,5,5],\"name\":\"HSpacer01845\",\"sizing_mode\":\"stretch_width\"},\"id\":\"1160\",\"type\":\"Spacer\"},{\"attributes\":{\"margin\":[5,5,5,5],\"name\":\"HSpacer01846\",\"sizing_mode\":\"stretch_width\"},\"id\":\"1223\",\"type\":\"Spacer\"},{\"attributes\":{\"data\":{\"inertia\":{\"__ndarray__\":\"0HyfWbvyvEB1gT7/K1SxQBirp5M9CKdAojDPE/humkClOxA7AP2RQBThjEmpHIZAMirrznpzeUCvyZZ9iFVsQCsRxLogblxA9hMeXFbWQ0A=\",\"dtype\":\"float64\",\"order\":\"little\",\"shape\":[10]},\"k\":[1,2,3,4,5,6,7,8,9,10]},\"selected\":{\"id\":\"1195\"},\"selection_policy\":{\"id\":\"1214\"}},\"id\":\"1194\",\"type\":\"ColumnDataSource\"},{\"attributes\":{},\"id\":\"1182\",\"type\":\"PanTool\"},{\"attributes\":{},\"id\":\"1171\",\"type\":\"LinearScale\"},{\"attributes\":{\"axis_label\":\"k\",\"bounds\":\"auto\",\"formatter\":{\"id\":\"1204\"},\"major_label_orientation\":\"horizontal\",\"ticker\":{\"id\":\"1202\"}},\"id\":\"1173\",\"type\":\"LinearAxis\"},{\"attributes\":{\"axis\":{\"id\":\"1177\"},\"dimension\":1,\"grid_line_color\":null,\"ticker\":null},\"id\":\"1180\",\"type\":\"Grid\"},{\"attributes\":{\"axis_label\":\"inertia\",\"bounds\":\"auto\",\"formatter\":{\"id\":\"1208\"},\"major_label_orientation\":\"horizontal\",\"ticker\":{\"id\":\"1178\"}},\"id\":\"1177\",\"type\":\"LinearAxis\"},{\"attributes\":{},\"id\":\"1178\",\"type\":\"BasicTicker\"},{\"attributes\":{},\"id\":\"1183\",\"type\":\"WheelZoomTool\"},{\"attributes\":{},\"id\":\"1181\",\"type\":\"SaveTool\"},{\"attributes\":{\"overlay\":{\"id\":\"1186\"}},\"id\":\"1184\",\"type\":\"BoxZoomTool\"},{\"attributes\":{},\"id\":\"1195\",\"type\":\"Selection\"},{\"attributes\":{},\"id\":\"1185\",\"type\":\"ResetTool\"},{\"attributes\":{\"line_alpha\":0.1,\"line_color\":\"#1f77b3\",\"line_width\":2,\"x\":{\"field\":\"k\"},\"y\":{\"field\":\"inertia\"}},\"id\":\"1198\",\"type\":\"Line\"},{\"attributes\":{\"active_drag\":\"auto\",\"active_inspect\":\"auto\",\"active_multi\":null,\"active_scroll\":\"auto\",\"active_tap\":\"auto\",\"tools\":[{\"id\":\"1163\"},{\"id\":\"1181\"},{\"id\":\"1182\"},{\"id\":\"1183\"},{\"id\":\"1184\"},{\"id\":\"1185\"}]},\"id\":\"1187\",\"type\":\"Toolbar\"},{\"attributes\":{\"line_color\":\"#1f77b3\",\"line_width\":2,\"x\":{\"field\":\"k\"},\"y\":{\"field\":\"inertia\"}},\"id\":\"1197\",\"type\":\"Line\"},{\"attributes\":{\"data_source\":{\"id\":\"1194\"},\"glyph\":{\"id\":\"1197\"},\"hover_glyph\":null,\"muted_glyph\":{\"id\":\"1199\"},\"nonselection_glyph\":{\"id\":\"1198\"},\"selection_glyph\":null,\"view\":{\"id\":\"1201\"}},\"id\":\"1200\",\"type\":\"GlyphRenderer\"},{\"attributes\":{},\"id\":\"1214\",\"type\":\"UnionRenderers\"},{\"attributes\":{\"ticks\":[1,2,3,4,5,6,7,8,9,10]},\"id\":\"1202\",\"type\":\"FixedTicker\"},{\"attributes\":{\"below\":[{\"id\":\"1173\"}],\"center\":[{\"id\":\"1176\"},{\"id\":\"1180\"}],\"left\":[{\"id\":\"1177\"}],\"margin\":[5,5,5,5],\"min_border_bottom\":10,\"min_border_left\":10,\"min_border_right\":10,\"min_border_top\":10,\"plot_height\":300,\"plot_width\":700,\"renderers\":[{\"id\":\"1200\"}],\"sizing_mode\":\"fixed\",\"title\":{\"id\":\"1165\"},\"toolbar\":{\"id\":\"1187\"},\"x_range\":{\"id\":\"1161\"},\"x_scale\":{\"id\":\"1169\"},\"y_range\":{\"id\":\"1162\"},\"y_scale\":{\"id\":\"1171\"}},\"id\":\"1164\",\"subtype\":\"Figure\",\"type\":\"Plot\"},{\"attributes\":{\"line_alpha\":0.2,\"line_color\":\"#1f77b3\",\"line_width\":2,\"x\":{\"field\":\"k\"},\"y\":{\"field\":\"inertia\"}},\"id\":\"1199\",\"type\":\"Line\"},{\"attributes\":{\"source\":{\"id\":\"1194\"}},\"id\":\"1201\",\"type\":\"CDSView\"},{\"attributes\":{\"callback\":null,\"renderers\":[{\"id\":\"1200\"}],\"tags\":[\"hv_created\"],\"tooltips\":[[\"k\",\"@{k}\"],[\"inertia\",\"@{inertia}\"]]},\"id\":\"1163\",\"type\":\"HoverTool\"},{\"attributes\":{\"axis\":{\"id\":\"1173\"},\"grid_line_color\":null,\"ticker\":null},\"id\":\"1176\",\"type\":\"Grid\"},{\"attributes\":{\"bottom_units\":\"screen\",\"fill_alpha\":0.5,\"fill_color\":\"lightgrey\",\"left_units\":\"screen\",\"level\":\"overlay\",\"line_alpha\":1.0,\"line_color\":\"black\",\"line_dash\":[4,4],\"line_width\":2,\"right_units\":\"screen\",\"top_units\":\"screen\"},\"id\":\"1186\",\"type\":\"BoxAnnotation\"}],\"root_ids\":[\"1159\"]},\"title\":\"Bokeh Application\",\"version\":\"2.2.3\"}};\n    var render_items = [{\"docid\":\"48709d43-57ab-45a9-a142-d66259fef6d4\",\"root_ids\":[\"1159\"],\"roots\":{\"1159\":\"a50bfec7-8d1c-4f0e-9dee-61659102ab7e\"}}];\n    root.Bokeh.embed.embed_items_notebook(docs_json, render_items);\n  }\n  if (root.Bokeh !== undefined && root.Bokeh.Panel !== undefined) {\n    embed_document(root);\n  } else {\n    var attempts = 0;\n    var timer = setInterval(function(root) {\n      if (root.Bokeh !== undefined && root.Bokeh.Panel !== undefined) {\n        clearInterval(timer);\n        embed_document(root);\n      } else if (document.readyState == \"complete\") {\n        attempts++;\n        if (attempts > 100) {\n          clearInterval(timer);\n          console.log(\"Bokeh: ERROR: Unable to run BokehJS code because BokehJS library is missing\");\n        }\n      }\n    }, 10, root)\n  }\n})(window);</script>",
      "application/vnd.holoviews_exec.v0+json": "",
      "text/plain": [
       ":Curve   [k]   (inertia)"
      ]
     },
     "metadata": {
      "application/vnd.holoviews_exec.v0+json": {
       "id": "1159"
      }
     },
     "execution_count": 230
    }
   ],
   "source": [
    "inertia = []\n",
    "k = list(range(1, 11))\n",
    "\n",
    "# Calculate the inertia for the range of k values\n",
    "for i in k:\n",
    "   km = KMeans(n_clusters=i, random_state=0)\n",
    "   km.fit(pcs_df)\n",
    "   inertia.append(km.inertia_)\n",
    "\n",
    "\n",
    "# Create the Elbow Curve using hvPlot\n",
    "elbow_data = {\"k\": k, \"inertia\": inertia}\n",
    "df_elbow = pd.DataFrame(elbow_data)\n",
    "df_elbow.hvplot.line(x=\"k\", y=\"inertia\", title=\"Elbow Curve\", xticks=k)\n"
   ]
  },
  {
   "cell_type": "markdown",
   "metadata": {},
   "source": [
    "Running K-Means with `k=<your best value for k here>`"
   ]
  },
  {
   "cell_type": "code",
   "execution_count": 234,
   "metadata": {},
   "outputs": [],
   "source": [
    "# Initialize the K-Means model\n",
    "model = KMeans(n_clusters=4, random_state=0)\n",
    "# Fit the model\n",
    "model.fit(pcs_df)\n",
    "# Predict clusters\n",
    "predictions = model.predict(pcs_df)\n",
    "predictions\n",
    "# Create a new DataFrame including predicted clusters and cryptocurrencies features\n",
    "cryptocluster_df = pd.concat([updated_df, pcs_df], axis=1)\n",
    "cryptocluster_df[\"Class\"] = model.labels_\n",
    "cryptocluster_df['CoinName'] = coin_name_df[\"CoinName\"]"
   ]
  },
  {
   "cell_type": "markdown",
   "metadata": {},
   "source": [
    "### Visualizing Results\n",
    "\n",
    "#### 3D-Scatter with Clusters"
   ]
  },
  {
   "cell_type": "code",
   "execution_count": 236,
   "metadata": {},
   "outputs": [
    {
     "output_type": "display_data",
     "data": {
      "application/vnd.plotly.v1+json": {
       "config": {
        "plotlyServerURL": "https://plot.ly"
       },
       "data": [
        {
         "customdata": [
          [
           "Scrypt"
          ],
          [
           "X11"
          ],
          [
           "Scrypt"
          ],
          [
           "SHA-256"
          ],
          [
           "SHA-256"
          ],
          [
           "N/A"
          ],
          [
           "X13"
          ],
          [
           "X11"
          ],
          [
           "SHA-256"
          ],
          [
           "Multiple"
          ],
          [
           "Scrypt"
          ],
          [
           "Scrypt"
          ],
          [
           "Scrypt"
          ],
          [
           "SHA-256"
          ],
          [
           "PoS"
          ],
          [
           "Scrypt"
          ],
          [
           "X13"
          ],
          [
           "Scrypt"
          ],
          [
           "Scrypt"
          ],
          [
           "SHA-256"
          ],
          [
           "Scrypt"
          ],
          [
           "X13"
          ],
          [
           "PoS"
          ],
          [
           "SHA-256"
          ],
          [
           "SHA-256"
          ],
          [
           "Scrypt"
          ],
          [
           "Scrypt"
          ],
          [
           "CryptoNight"
          ],
          [
           "PoS"
          ],
          [
           "PoS"
          ],
          [
           "X13"
          ],
          [
           "X11"
          ],
          [
           "X11"
          ],
          [
           "Scrypt"
          ],
          [
           "SHA-256"
          ],
          [
           "Argon2d"
          ],
          [
           "N/A"
          ],
          [
           "CryptoNight"
          ],
          [
           "PoS"
          ],
          [
           "Dagger"
          ],
          [
           "N/A"
          ],
          [
           "Equihash"
          ],
          [
           "X11"
          ],
          [
           "SHA-256"
          ],
          [
           "SHA-256"
          ],
          [
           "SHA-256"
          ],
          [
           "POS 3.0"
          ],
          [
           "Equihash"
          ],
          [
           "N/A"
          ],
          [
           "Ethash"
          ],
          [
           "IMesh"
          ],
          [
           "N/A"
          ],
          [
           "Equihash"
          ],
          [
           "Semux BFT consensus"
          ],
          [
           "Scrypt"
          ],
          [
           "CryptoNight-Heavy"
          ],
          [
           "CryptoNight"
          ],
          [
           "CryptoNight"
          ],
          [
           "N/A"
          ],
          [
           "N/A"
          ],
          [
           "Quark"
          ],
          [
           "Quark"
          ],
          [
           "X11"
          ],
          [
           "Lyra2REv2"
          ],
          [
           "SHA-512"
          ],
          [
           "N/A"
          ],
          [
           "Lyra2Z"
          ],
          [
           "Ethash"
          ],
          [
           "X13"
          ],
          [
           "N/A"
          ],
          [
           "SHA-256"
          ],
          [
           "Equihash"
          ],
          [
           "N/A"
          ],
          [
           "Equihash1927"
          ],
          [
           "N/A"
          ],
          [
           "N/A"
          ],
          [
           "Quark"
          ],
          [
           "N/A"
          ],
          [
           "X13"
          ],
          [
           "Ethash"
          ],
          [
           "SHA-256"
          ],
          [
           "CryptoNight"
          ],
          [
           "Eaglesong"
          ],
          [
           "CryptoNote"
          ],
          [
           "ProgPowZ"
          ],
          [
           "SHA-256"
          ],
          [
           "Blake2B + SHA3"
          ],
          [
           "C31"
          ],
          [
           "SHA-256"
          ],
          [
           "X16R"
          ],
          [
           "Scrypt"
          ],
          [
           "Scrypt"
          ],
          [
           "Scrypt"
          ],
          [
           "N/A"
          ],
          [
           "CryptoNight-Heavy"
          ],
          [
           "N/A"
          ],
          [
           "CryptoNight-Lite"
          ],
          [
           "SHA-256"
          ],
          [
           "SHA-256"
          ],
          [
           "Autolykos"
          ],
          [
           "SHA-256"
          ],
          [
           "Scrypt"
          ],
          [
           "Scrypt"
          ],
          [
           "Scrypt-n"
          ],
          [
           "Scrypt"
          ],
          [
           "Groestl"
          ],
          [
           "TRC10"
          ],
          [
           "KECCAK"
          ],
          [
           "CryptoNight"
          ],
          [
           "IMesh"
          ],
          [
           "RandomX"
          ],
          [
           "HEX"
          ],
          [
           "N/A"
          ],
          [
           "X13"
          ],
          [
           "SHA-256"
          ],
          [
           "Ethash"
          ],
          [
           "DPoS"
          ],
          [
           "X11"
          ],
          [
           "Equihash"
          ],
          [
           "Scrypt"
          ],
          [
           "N/A"
          ],
          [
           "SHA-256"
          ],
          [
           "Scrypt"
          ],
          [
           "Dagger-Hashimoto"
          ],
          [
           "Scrypt"
          ],
          [
           "Scrypt"
          ],
          [
           "PoS"
          ],
          [
           "Equihash"
          ],
          [
           "Lyra2REv2"
          ],
          [
           "Scrypt"
          ],
          [
           "BLAKE256"
          ],
          [
           "SHA-256"
          ],
          [
           "Multiple"
          ],
          [
           "C31"
          ],
          [
           "BEP2 Token"
          ],
          [
           "SHA-256"
          ],
          [
           "Quark"
          ],
          [
           "Ethash"
          ],
          [
           "Scrypt"
          ],
          [
           "N/A"
          ],
          [
           "Scrypt"
          ],
          [
           "Scrypt"
          ],
          [
           "DPoS"
          ],
          [
           "SHA-256"
          ],
          [
           "Scrypt"
          ],
          [
           "X11GOST"
          ],
          [
           "Equihash"
          ],
          [
           "Groestl"
          ],
          [
           "BMW512 / Echo512"
          ],
          [
           "Scrypt"
          ],
          [
           "NeoScrypt"
          ],
          [
           "X11"
          ],
          [
           "Scrypt"
          ],
          [
           "MTP"
          ],
          [
           "X13"
          ],
          [
           "DPoS"
          ],
          [
           "Multiple"
          ],
          [
           "Shabal256"
          ],
          [
           "Blake2b"
          ],
          [
           "Proof-of-Authority"
          ],
          [
           "N/A"
          ],
          [
           "Tensority"
          ],
          [
           "BLAKE256"
          ],
          [
           "PoS"
          ],
          [
           "N/A"
          ],
          [
           "Quark"
          ],
          [
           "Equihash"
          ],
          [
           "N/A"
          ],
          [
           "Ethash"
          ],
          [
           "SHA-256"
          ],
          [
           "Equihash210,9"
          ],
          [
           "DPoS"
          ],
          [
           "X13"
          ],
          [
           "Multiple"
          ],
          [
           "VeChainThor Authority"
          ],
          [
           "POS 3.0"
          ],
          [
           "Quark"
          ],
          [
           "Blake2b"
          ],
          [
           "VBFT"
          ],
          [
           "Ethash"
          ],
          [
           "DPoS"
          ],
          [
           "Loopchain"
          ],
          [
           "PoS"
          ],
          [
           "SHA-512"
          ],
          [
           "Ethash"
          ],
          [
           "Ouroboros"
          ],
          [
           "DPoS"
          ]
         ],
         "hovertemplate": "<b>%{hovertext}</b><br><br>Class=%{marker.color}<br>PC 1=%{x}<br>PC 2=%{y}<br>PC 3=%{z}<br>Algorithm=%{customdata[0]}<extra></extra>",
         "hovertext": [
          "42 Coin",
          "365Coin",
          "404Coin",
          "SixEleven",
          "808",
          "Octocoin",
          "EliteCoin",
          "2015 coin",
          "BetaCoin",
          "MyriadCoin",
          "SexCoin",
          "NovaCoin",
          "VeriCoin",
          "CounterParty",
          "NuShares",
          "MonaCoin",
          "Triangles Coin",
          "Curecoin",
          "BitcoinPlus",
          "XCoin",
          "Sphere Coin",
          "Paycon",
          "Radium",
          "Emercoin",
          "OKCash",
          "SafeExchangeCoin",
          "CometCoin",
          "Karbo",
          "Opair",
          "LuckyBlocks",
          "FistBump",
          "Stakenet",
          "PAC Global",
          "OpenChat",
          "Prizm",
          "Dynamic",
          "Nimiq",
          "Dinastycoin",
          "Particl",
          "Amber",
          "Ripio",
          "BitcoinZ",
          "Pura",
          "Super Bitcoin",
          "HTML Coin",
          "UnitedBitcoin",
          "TokenPay",
          "Bitcoin Private",
          "Creditcoin",
          "Callisto Network",
          "Aidos Kuneen",
          "Pigeoncoin",
          "Zelcash",
          "Semux",
          "BitBlocks",
          "Haven Protocol",
          "Monero Classic",
          "Dero",
          "Verasity",
          "VideoCoin",
          "Giant",
          "Vitae",
          "EUNO",
          "NIX",
          "Kcash",
          "Paxos Standard",
          "Actinium",
          "ETHER-1",
          "ABBC Coin",
          "SINOVATE",
          "Smart Bitcoin",
          "Beam",
          "SOLVE",
          "Vidulum",
          "BitcoinX",
          "Aryacoin",
          "ESBC",
          "Smartshare",
          "Bitcoin Rhodium",
          "Super Zero",
          "Foin",
          "Beldex",
          "Nervos Network",
          "CUTcoin",
          "Zano",
          "Eureka Coin",
          "Handshake",
          "MimbleWimbleCoin",
          "Arweave",
          "Ravencoin Classic",
          "Buxcoin",
          "Velox",
          "Primas",
          "Meter",
          "Loki",
          "The Transfer Token",
          "AEON",
          "Bitcoin Vault",
          "Bitcoin ABC",
          "Ergo",
          "Infinity Economics",
          "BlackCoin",
          "Auroracoin",
          "SpainCoin",
          "TerraCredit",
          "FairCoin",
          "BitTorrent",
          "SmartCash",
          "ByteCoin",
          "INT",
          "Monero",
          "XDNA",
          "Gamecredits",
          "Bitcoin Diamond",
          "SysCoin",
          "Metaverse",
          "Lisk",
          "Dash",
          "Komodo",
          "GoldCoin",
          "Pyrk",
          "Wibcoin",
          "SaluS",
          "Ubiq",
          "Reddcoin",
          "Dogecoin",
          "Nxt",
          "ZCash",
          "Vertcoin",
          "Litecoin",
          "Decred",
          "Bitcoin",
          "Revain",
          "Grin",
          "Binance Coin",
          "Bitcoin SV",
          "QuarkCoin",
          "Expanse",
          "MegaCoin",
          "Electroneum",
          "PotCoin",
          "Gulden",
          "Rise",
          "Namecoin",
          "Einsteinium",
          "SibCoin",
          "Bitcoin Gold",
          "Groestlcoin",
          "DigitalNote ",
          "ViaCoin",
          "FeatherCoin",
          "IOCoin",
          "WhiteCoin",
          "Firo",
          "CloakCoin",
          "Achain",
          "Verge",
          "BurstCoin",
          "Siacoin",
          "Poa Network",
          "Aeternity",
          "Bytom",
          "HyperCash",
          "Neblio",
          "MOAC",
          "BlockNet",
          "Horizen",
          "GoChain",
          "Waltonchain",
          "Bitcoin Cash",
          "Aion",
          "Shift",
          "NavCoin",
          "DigiByte",
          "VeChain",
          "QTUM",
          "Private Instant Verified Transaction",
          "Nano",
          "Ontology",
          "Ethereum Classic",
          "ARK",
          "ICON Project",
          "Steem",
          "Bitshares",
          "Ethereum",
          "Cardano",
          "EOS"
         ],
         "legendgroup": "1",
         "marker": {
          "color": [
           1,
           1,
           1,
           1,
           1,
           1,
           1,
           1,
           1,
           1,
           1,
           1,
           1,
           1,
           1,
           1,
           1,
           1,
           1,
           1,
           1,
           1,
           1,
           1,
           1,
           1,
           1,
           1,
           1,
           1,
           1,
           1,
           1,
           1,
           1,
           1,
           1,
           1,
           1,
           1,
           1,
           1,
           1,
           1,
           1,
           1,
           1,
           1,
           1,
           1,
           1,
           1,
           1,
           1,
           1,
           1,
           1,
           1,
           1,
           1,
           1,
           1,
           1,
           1,
           1,
           1,
           1,
           1,
           1,
           1,
           1,
           1,
           1,
           1,
           1,
           1,
           1,
           1,
           1,
           1,
           1,
           1,
           1,
           1,
           1,
           1,
           1,
           1,
           1,
           1,
           1,
           1,
           1,
           1,
           1,
           1,
           1,
           1,
           1,
           1,
           1,
           1,
           1,
           1,
           1,
           1,
           1,
           1,
           1,
           1,
           1,
           1,
           1,
           1,
           1,
           1,
           1,
           1,
           1,
           1,
           1,
           1,
           1,
           1,
           1,
           1,
           1,
           1,
           1,
           1,
           1,
           1,
           1,
           1,
           1,
           1,
           1,
           1,
           1,
           1,
           1,
           1,
           1,
           1,
           1,
           1,
           1,
           1,
           1,
           1,
           1,
           1,
           1,
           1,
           1,
           1,
           1,
           1,
           1,
           1,
           1,
           1,
           1,
           1,
           1,
           1,
           1,
           1,
           1,
           1,
           1,
           1,
           1,
           1,
           1,
           1,
           1,
           1,
           1,
           1,
           1,
           1,
           1,
           1,
           1,
           1,
           1
          ],
          "coloraxis": "coloraxis",
          "symbol": "circle"
         },
         "mode": "markers",
         "name": "1",
         "scene": "scene",
         "showlegend": true,
         "type": "scatter3d",
         "x": [
          4.20435738256754,
          4.141101450689105,
          4.204357382567539,
          3.9775270247704784,
          4.086726988116533,
          1.4324789447769282,
          4.0805821859822275,
          4.141101450689104,
          3.9775270247704784,
          3.7784427036297483,
          4.095157419221483,
          4.204357377624534,
          4.221043962146219,
          3.9775270205818964,
          3.1763750781820512,
          4.095157290931803,
          4.080582185715213,
          4.095157419221483,
          3.5121506770941298,
          4.086726988116533,
          4.204357382567539,
          4.0805821859822275,
          3.1763844269245722,
          4.086726913265324,
          4.086726988116533,
          4.2144880664336295,
          4.095157417823535,
          4.049949540211309,
          3.1763844480719046,
          3.1763844480719046,
          4.0805821859822275,
          4.0798203847378085,
          3.448894745215695,
          4.204354178198154,
          3.3945202826431253,
          4.0462679150343135,
          1.4324327729862232,
          4.049949540211309,
          3.1763844480719046,
          3.2317067677058366,
          1.4324757405913253,
          4.0619082472993,
          4.031901186456295,
          3.9775270247704784,
          4.086726988116533,
          3.9775270247704784,
          3.2086296578707283,
          4.061908204522376,
          1.4324746586732084,
          3.7818206086573856,
          4.011882907071912,
          1.4324789447769282,
          4.171107683384687,
          3.185630389150392,
          4.204357382567539,
          4.038736184753713,
          4.049949540211309,
          4.049949540211309,
          1.4324457588321462,
          1.541678058965099,
          4.103749132028282,
          3.411542426554874,
          4.141101450689104,
          4.043023860008813,
          4.005656863128832,
          1.4324779763545699,
          4.050416871238904,
          3.7818206086573856,
          1.5882143399499822,
          1.4324789447769282,
          3.9775270247704784,
          4.061907725167359,
          1.4324757404075463,
          4.044285385434792,
          1.4324789447769282,
          1.4324789447769282,
          3.411542426554874,
          1.4324469010831082,
          3.9713822226361692,
          3.7818206086573856,
          1.5943636442454256,
          4.0499472975798,
          4.03649575096939,
          3.2061841194050684,
          4.196167191261778,
          1.594363952115631,
          4.0416464011918105,
          4.042387116430558,
          3.977526816973519,
          4.032132905200777,
          4.204356661716852,
          3.5121506770941298,
          4.095157098784544,
          1.4324788807119309,
          4.038736101369746,
          1.4324725360381645,
          4.042301246388238,
          3.9775269748403352,
          3.977526961319603,
          4.038095822089793,
          3.3945202826431253,
          3.5121504201022193,
          4.2043573184605885,
          4.041837108276185,
          4.204357382567539,
          4.177463112937516,
          3.1731211180981087,
          4.039425093004232,
          4.049358434290398,
          4.036381328154452,
          4.0378456844567046,
          4.197678160256946,
          1.432478303903052,
          4.080581530683433,
          3.9775246359226215,
          1.3986572483310735,
          2.992051307320084,
          4.080273814769985,
          4.153970798201573,
          4.09515723445616,
          1.4324789447769282,
          3.974322601778558,
          4.2043573809143755,
          4.034964844834735,
          4.2043095247713875,
          4.094953111636276,
          3.7324118418897303,
          4.061908196617766,
          4.043023632486481,
          4.0951571778509015,
          4.20070589983447,
          3.9775269613519013,
          1.395007079023999,
          4.042387073815926,
          3.3890166524727845,
          3.9775269613096933,
          4.103748703234535,
          3.781820392805996,
          4.095157288888367,
          1.4324289171419304,
          4.20435634852605,
          4.09515388390514,
          2.993998050800702,
          3.9775269971691953,
          4.095157065122934,
          4.038570044697801,
          4.061908183846279,
          4.068262858628292,
          4.1989584045078505,
          4.095157382107583,
          3.331297152366863,
          4.141101385646045,
          4.204354332168613,
          4.04204070383614,
          4.080582177071059,
          2.9920499343946276,
          3.7783898872523,
          4.217598492964962,
          4.0457191754149955,
          3.2236671462230877,
          1.541678309524882,
          4.0470937157999005,
          4.200705746762221,
          1.37622808990847,
          1.432478689239785,
          4.103749120186949,
          4.0619081966873845,
          1.432477158130943,
          1.3986573807606304,
          3.977526961301025,
          4.193013311736432,
          2.9920515128854914,
          4.08058207295231,
          3.7783867966916094,
          4.197844613476021,
          3.2086293200354064,
          4.103749130755039,
          4.045791185568516,
          3.2088030241496592,
          3.7818200722943174,
          2.9920512889352677,
          3.2123051259862416,
          3.759390592405465,
          3.3589420567492247,
          3.78182042608196,
          3.2057942356932676,
          2.9920498933317634
         ],
         "y": [
          -0.16719895684534725,
          -0.30775634359460946,
          -0.16719895684535635,
          -0.14616584351580278,
          -0.14204621541326834,
          -0.10080092057708018,
          -0.16583259947393394,
          -0.3077563435946151,
          -0.1461658435157997,
          -0.20427504354549403,
          -0.1713185849478808,
          -0.16719892228449124,
          -0.19205657257469258,
          -0.1461658142297714,
          -0.055954219815630896,
          -0.1713176879627057,
          -0.16583259760700395,
          -0.17131858494788071,
          -0.1348300364127512,
          -0.1420462154132672,
          -0.16719895684534816,
          -0.16583259947393403,
          -0.056019585112228536,
          -0.14204569206309364,
          -0.1420462154132672,
          -0.11401408666198933,
          -0.1713185751736172,
          -0.1776056706886348,
          -0.05601973289794081,
          -0.05601973289794081,
          -0.16583259947393403,
          -0.5973577013364215,
          -0.2753874231620175,
          -0.167176560496038,
          -0.10967729498067014,
          -0.22491585827753494,
          -0.10047826536928448,
          -0.1776056706886348,
          -0.05601973289794081,
          0.028863636630143102,
          -0.10077852551225915,
          -0.16672663735010038,
          -0.3118738679350996,
          -0.14616584351579975,
          -0.1420462154132672,
          -0.14616584351579975,
          -0.16801385855756643,
          -0.16672633844671042,
          -0.10077096907366452,
          -0.17358833594626022,
          0.019735375747666036,
          -0.10080092057707987,
          -0.16260332442880418,
          0.016185057650253114,
          -0.16719895684534816,
          -0.20406364552876602,
          -0.1776056706886348,
          -0.1776056706886348,
          -0.10056897353136444,
          -0.09667535744197991,
          -0.11421831503602878,
          -0.0818493946034321,
          -0.30775634359461435,
          -0.17663205420686912,
          -0.21993423761043226,
          -0.10079415196746044,
          -0.16876652191758232,
          -0.17358833594626022,
          -0.08427144913869311,
          -0.10080092057707987,
          -0.14616584351579975,
          -0.16672298882832592,
          -0.10077852422776928,
          -0.19964664657451725,
          -0.10080092057707987,
          -0.10080092057707987,
          -0.0818493946034321,
          -0.1005769570839758,
          -0.1699522275764673,
          -0.17358833594626022,
          -0.06051653212689771,
          -0.1775899904933494,
          -0.14163423213410092,
          -0.0350361869824362,
          -0.12033587377687899,
          -0.060518683896826526,
          -0.3076092464628815,
          -0.15279442204269586,
          -0.14616439116669055,
          -0.18452554292937842,
          -0.16719391674871786,
          -0.1348300364127512,
          -0.17131634531294965,
          -0.10080047264273578,
          -0.20406306251865253,
          -0.10075612787845893,
          -0.13217476255799454,
          -0.14616549458267417,
          -0.14616540004743467,
          -0.15425941379757707,
          -0.10967729498067014,
          -0.13482824037741545,
          -0.16719850878979545,
          -0.2094373817624574,
          -0.16719895684534816,
          -0.1338471561093652,
          0.09516476027895587,
          -0.1341027667833243,
          -0.17347424479089127,
          0.2949362527047733,
          -0.1954309330268203,
          -0.17567747232878256,
          -0.1007964413072177,
          -0.16582801942882597,
          -0.14614914827177988,
          -0.0879391657843826,
          0.03333741828389477,
          -0.592345447574891,
          -0.14623806093869848,
          -0.17131729368425655,
          -0.10080092057707987,
          -0.12376911950855987,
          -0.1671989452866481,
          -0.12477397839655033,
          -0.16686434120019714,
          -0.1698900922062442,
          0.10493094427510212,
          -0.16672628316334787,
          -0.17663046408794889,
          -0.17131689800378452,
          -0.151949795925521,
          -0.14616540027325392,
          -0.11672293229017444,
          -0.15279412392268502,
          -0.020118848267699784,
          -0.14616539997815042,
          -0.11421531696448804,
          -0.17358682756022245,
          -0.17131767401947406,
          -0.10045130579467927,
          -0.1671917304003263,
          -0.17129388023216485,
          -0.032779601162683615,
          -0.1461656505311327,
          -0.17131610913571219,
          -0.22300073516645572,
          -0.1667261938667271,
          -0.13796475069480676,
          -0.09202462674924539,
          -0.17131832545220985,
          -0.12987173989790163,
          -0.30775588900207745,
          -0.16717763703795033,
          -0.12813697489351478,
          -0.1658325371681845,
          0.033347017604685295,
          -0.2039058938012972,
          -0.03729544005526885,
          -0.20783634763722708,
          0.0032267033609661142,
          -0.09667710715248037,
          -0.2000618028193592,
          -0.15194872618006194,
          -0.006860928587103116,
          -0.10079913389375846,
          -0.11421823224291237,
          -0.16672628365011372,
          -0.10078842857479113,
          -0.08794009146920434,
          -0.14616539991753363,
          -0.24809413782994683,
          0.033335980996627115,
          -0.1658318091830836,
          -0.2038843214206856,
          -23.967200103517925,
          -0.1680114973394455,
          -0.11421830613367545,
          -0.20833983459603467,
          -0.17071882395867677,
          -0.1735845874904154,
          0.03333754682819861,
          -0.11972641724454512,
          -0.09250410173463877,
          -0.15257811712872202,
          -0.1735870594020313,
          -0.22798757646689416,
          0.03334730471102443
         ],
         "z": [
          -0.39918542023906084,
          -0.13786291843291243,
          -0.39918542023906806,
          -0.3503484253548974,
          -0.36754117768954786,
          -0.18552445729488695,
          -0.3543513567357971,
          -0.13786291843291584,
          -0.3503484253548969,
          -0.3362618354759015,
          -0.38199266790441294,
          -0.39918539318046836,
          -0.5187733648197889,
          -0.35034840242610454,
          -0.035913927888854336,
          -0.38199196563145577,
          -0.35435135527412764,
          -0.3819926679044127,
          -0.2349741461389053,
          -0.36754117768954536,
          -0.3991854202390603,
          -0.3543513567357958,
          -0.035965104070588304,
          -0.36754076794512164,
          -0.36754117768954536,
          -0.45962357781038016,
          -0.3819926602518881,
          -0.31921119415784127,
          -0.03596521978006288,
          -0.03596521978006288,
          -0.3543513567357958,
          0.3899088383197995,
          0.026348355667238445,
          -0.39916788508882234,
          -0.20332990358938993,
          -0.3413674384287784,
          -0.18527183234681868,
          -0.31921119415784127,
          -0.03596521978006288,
          -0.26262932966943753,
          -0.18550692315033165,
          -0.3856570606785506,
          -0.12066851900840075,
          -0.35034842535489713,
          -0.36754117768954536,
          -0.35034842535489713,
          -0.06257626945095786,
          -0.3856568266486408,
          -0.1855010065510363,
          -0.3110634790872222,
          -0.41910876233675487,
          -0.18552445729488318,
          -0.40284692797484617,
          -0.10666797911932081,
          -0.3991854202390603,
          -0.3480093146428055,
          -0.31921119415784127,
          -0.31921119415784127,
          -0.1853428550954559,
          -0.20271256281471764,
          -0.3295891262213502,
          -0.16537785212119402,
          -0.13786291843291643,
          -0.3464511321710133,
          -0.1975311812633242,
          -0.1855191578335762,
          -0.24301123456855162,
          -0.3110634790872222,
          -0.15915869190021006,
          -0.18552445729488318,
          -0.35034842535489713,
          -0.38565420403308914,
          -0.1855069221446446,
          -0.32495532927833765,
          -0.18552445729488318,
          -0.18552445729488318,
          -0.16537785212119402,
          -0.18534910579250197,
          -0.3371586044011478,
          -0.3110634790872222,
          -0.1723731498781526,
          -0.3191989177262903,
          -0.40605122915099895,
          0.02242658391949885,
          -0.4199487702163388,
          -0.17237483460138736,
          -0.41571464697527055,
          -0.36761514222073083,
          -0.3503472882422557,
          -0.40845094826176725,
          -0.3991814742166946,
          -0.2349741461389053,
          -0.38199091438938887,
          -0.18552410659546806,
          -0.34800885818906696,
          -0.18548938699440634,
          -0.2513073309456445,
          -0.35034815215628445,
          -0.35034807814219404,
          -0.3369245647076028,
          -0.20332990358938993,
          -0.23497273992950934,
          -0.3991850694349303,
          -0.3512156553467862,
          -0.3991854202390603,
          -0.34282220169602584,
          -0.08551767210207606,
          -0.2822774786713712,
          -0.31597650743171807,
          -0.5212755413044382,
          -0.3297969872871463,
          -0.4021809238989338,
          -0.18552095026483528,
          -0.35434777080151986,
          -0.35033535380020914,
          -0.13308831418077874,
          -0.14207581636150401,
          0.2566712488261677,
          -0.4783250926680966,
          -0.3819916569068563,
          -0.18552445729488318,
          -0.33281298174908014,
          -0.39918541118945433,
          -0.26247670923792377,
          -0.39892344097228494,
          -0.3808742638893253,
          0.012688444861285557,
          -0.38565678336673853,
          -0.3464498871864004,
          -0.3819913471128573,
          -0.36327854611363253,
          -0.3503480783189941,
          -0.15679676891637026,
          -0.3676149088241933,
          -0.36589314031329456,
          -0.3503480780879494,
          -0.3295867789533886,
          -0.311062298085922,
          -0.3819919546953023,
          -0.18525072499666934,
          -0.39917976227147844,
          -0.3819733251563359,
          -0.10530196611530165,
          -0.35034827426219556,
          -0.381990729526856,
          -0.33981747619432245,
          -0.3856567134540981,
          -0.3256278572190187,
          -0.517750505903326,
          -0.381992464738522,
          -0.14414506956509457,
          -0.1378625625103441,
          -0.39916872794140573,
          -0.4531808978110668,
          -0.3543513079550073,
          -0.1420683008043015,
          -0.3359728108275811,
          -0.50903228165415,
          -0.31841275554076226,
          -0.14822859081528203,
          -0.20271393283233927,
          -0.31771591978619435,
          -0.36327770855271524,
          -0.005009999509635855,
          -0.18552305845417352,
          -0.32958906140047256,
          -0.38565678374783957,
          -0.18551467698231341,
          -0.1330890389374589,
          -0.35034807804049156,
          -0.5207446384794449,
          -0.14207694165098259,
          -0.35435073799659317,
          -0.3359559191732061,
          -4.563342157650253,
          -0.06257442074164439,
          -0.32958911925146794,
          -0.3188069484763456,
          -0.015183854608223952,
          -0.3110605442254203,
          -0.14207571572083477,
          0.13791550176677012,
          -0.18298046915126864,
          -0.11035303320395534,
          -0.3110624796476395,
          -0.12537049095631878,
          -0.1420680760213017
         ]
        },
        {
         "customdata": [
          [
           "N/A"
          ],
          [
           "N/A"
          ],
          [
           "N/A"
          ],
          [
           "N/A"
          ],
          [
           "N/A"
          ],
          [
           "N/A"
          ],
          [
           "N/A"
          ],
          [
           "N/A"
          ],
          [
           "N/A"
          ],
          [
           "N/A"
          ],
          [
           "N/A"
          ],
          [
           "N/A"
          ],
          [
           "N/A"
          ],
          [
           "N/A"
          ],
          [
           "N/A"
          ],
          [
           "N/A"
          ],
          [
           "N/A"
          ],
          [
           "N/A"
          ],
          [
           "N/A"
          ],
          [
           "N/A"
          ],
          [
           "N/A"
          ],
          [
           "N/A"
          ],
          [
           "N/A"
          ],
          [
           "N/A"
          ],
          [
           "N/A"
          ],
          [
           "N/A"
          ],
          [
           "N/A"
          ],
          [
           "N/A"
          ],
          [
           "N/A"
          ],
          [
           "N/A"
          ],
          [
           "N/A"
          ],
          [
           "N/A"
          ],
          [
           "N/A"
          ],
          [
           "N/A"
          ],
          [
           "N/A"
          ],
          [
           "N/A"
          ],
          [
           "N/A"
          ],
          [
           "N/A"
          ],
          [
           "N/A"
          ],
          [
           "N/A"
          ],
          [
           "N/A"
          ],
          [
           "N/A"
          ],
          [
           "N/A"
          ],
          [
           "N/A"
          ],
          [
           "N/A"
          ],
          [
           "N/A"
          ],
          [
           "N/A"
          ],
          [
           "N/A"
          ],
          [
           "N/A"
          ],
          [
           "N/A"
          ],
          [
           "N/A"
          ],
          [
           "N/A"
          ],
          [
           "N/A"
          ],
          [
           "N/A"
          ],
          [
           "N/A"
          ],
          [
           "N/A"
          ],
          [
           "N/A"
          ],
          [
           "N/A"
          ],
          [
           "N/A"
          ],
          [
           "N/A"
          ],
          [
           "N/A"
          ],
          [
           "N/A"
          ],
          [
           "N/A"
          ],
          [
           "N/A"
          ],
          [
           "NEP-5"
          ],
          [
           "N/A"
          ],
          [
           "N/A"
          ],
          [
           "N/A"
          ],
          [
           "N/A"
          ],
          [
           "N/A"
          ],
          [
           "N/A"
          ],
          [
           "N/A"
          ],
          [
           "N/A"
          ],
          [
           "N/A"
          ],
          [
           "N/A"
          ],
          [
           "N/A"
          ],
          [
           "N/A"
          ],
          [
           "N/A"
          ],
          [
           "N/A"
          ],
          [
           "N/A"
          ],
          [
           "N/A"
          ],
          [
           "N/A"
          ],
          [
           "N/A"
          ],
          [
           "N/A"
          ],
          [
           "N/A"
          ],
          [
           "N/A"
          ],
          [
           "N/A"
          ],
          [
           "N/A"
          ],
          [
           "NEP-5"
          ],
          [
           "N/A"
          ],
          [
           "N/A"
          ],
          [
           "N/A"
          ],
          [
           "N/A"
          ],
          [
           "N/A"
          ],
          [
           "N/A"
          ],
          [
           "N/A"
          ],
          [
           "N/A"
          ],
          [
           "N/A"
          ],
          [
           "N/A"
          ],
          [
           "N/A"
          ],
          [
           "N/A"
          ],
          [
           "N/A"
          ],
          [
           "N/A"
          ],
          [
           "N/A"
          ],
          [
           "N/A"
          ],
          [
           "N/A"
          ],
          [
           "N/A"
          ],
          [
           "N/A"
          ],
          [
           "N/A"
          ],
          [
           "N/A"
          ],
          [
           "N/A"
          ],
          [
           "N/A"
          ],
          [
           "N/A"
          ],
          [
           "N/A"
          ],
          [
           "N/A"
          ],
          [
           "N/A"
          ],
          [
           "N/A"
          ],
          [
           "N/A"
          ],
          [
           "N/A"
          ],
          [
           "N/A"
          ],
          [
           "N/A"
          ],
          [
           "N/A"
          ],
          [
           "NeoScrypt"
          ],
          [
           "N/A"
          ],
          [
           "N/A"
          ],
          [
           "N/A"
          ],
          [
           "N/A"
          ],
          [
           "N/A"
          ],
          [
           "N/A"
          ],
          [
           "N/A"
          ],
          [
           "N/A"
          ],
          [
           "N/A"
          ],
          [
           "N/A"
          ],
          [
           "N/A"
          ],
          [
           "N/A"
          ],
          [
           "N/A"
          ],
          [
           "N/A"
          ],
          [
           "N/A"
          ],
          [
           "N/A"
          ],
          [
           "N/A"
          ],
          [
           "N/A"
          ],
          [
           "N/A"
          ],
          [
           "N/A"
          ],
          [
           "N/A"
          ],
          [
           "N/A"
          ],
          [
           "N/A"
          ],
          [
           "N/A"
          ],
          [
           "N/A"
          ],
          [
           "N/A"
          ],
          [
           "N/A"
          ],
          [
           "N/A"
          ],
          [
           "N/A"
          ],
          [
           "N/A"
          ],
          [
           "N/A"
          ],
          [
           "N/A"
          ],
          [
           "N/A"
          ],
          [
           "N/A"
          ],
          [
           "N/A"
          ],
          [
           "N/A"
          ],
          [
           "N/A"
          ],
          [
           "N/A"
          ],
          [
           "N/A"
          ],
          [
           "N/A"
          ],
          [
           "N/A"
          ],
          [
           "N/A"
          ],
          [
           "N/A"
          ],
          [
           "N/A"
          ],
          [
           "N/A"
          ],
          [
           "N/A"
          ],
          [
           "N/A"
          ],
          [
           "N/A"
          ],
          [
           "N/A"
          ],
          [
           "N/A"
          ],
          [
           "N/A"
          ],
          [
           "N/A"
          ],
          [
           "N/A"
          ],
          [
           "N/A"
          ],
          [
           "N/A"
          ],
          [
           "N/A"
          ],
          [
           "N/A"
          ],
          [
           "N/A"
          ],
          [
           "N/A"
          ],
          [
           "N/A"
          ],
          [
           "N/A"
          ],
          [
           "N/A"
          ],
          [
           "N/A"
          ],
          [
           "N/A"
          ],
          [
           "N/A"
          ],
          [
           "N/A"
          ],
          [
           "N/A"
          ],
          [
           "N/A"
          ],
          [
           "N/A"
          ],
          [
           "N/A"
          ],
          [
           "N/A"
          ],
          [
           "N/A"
          ],
          [
           "N/A"
          ],
          [
           "N/A"
          ],
          [
           "N/A"
          ],
          [
           "N/A"
          ],
          [
           "N/A"
          ],
          [
           "N/A"
          ],
          [
           "N/A"
          ],
          [
           "N/A"
          ],
          [
           "N/A"
          ],
          [
           "N/A"
          ],
          [
           "N/A"
          ],
          [
           "N/A"
          ],
          [
           "N/A"
          ],
          [
           "N/A"
          ],
          [
           "N/A"
          ],
          [
           "N/A"
          ],
          [
           "N/A"
          ],
          [
           "N/A"
          ],
          [
           "N/A"
          ],
          [
           "N/A"
          ],
          [
           "N/A"
          ],
          [
           "N/A"
          ],
          [
           "N/A"
          ],
          [
           "N/A"
          ],
          [
           "N/A"
          ],
          [
           "N/A"
          ],
          [
           "N/A"
          ],
          [
           "N/A"
          ],
          [
           "N/A"
          ],
          [
           "N/A"
          ],
          [
           "N/A"
          ],
          [
           "N/A"
          ],
          [
           "N/A"
          ],
          [
           "N/A"
          ],
          [
           "N/A"
          ],
          [
           "N/A"
          ],
          [
           "N/A"
          ],
          [
           "N/A"
          ],
          [
           "N/A"
          ],
          [
           "N/A"
          ],
          [
           "N/A"
          ],
          [
           "N/A"
          ],
          [
           "N/A"
          ],
          [
           "N/A"
          ],
          [
           "N/A"
          ],
          [
           "N/A"
          ],
          [
           "N/A"
          ],
          [
           "N/A"
          ],
          [
           "N/A"
          ],
          [
           "N/A"
          ],
          [
           "N/A"
          ],
          [
           "N/A"
          ],
          [
           "N/A"
          ],
          [
           "N/A"
          ],
          [
           "N/A"
          ],
          [
           "N/A"
          ],
          [
           "N/A"
          ],
          [
           "N/A"
          ],
          [
           "N/A"
          ],
          [
           "N/A"
          ],
          [
           "N/A"
          ],
          [
           "N/A"
          ],
          [
           "BEP-2"
          ],
          [
           "N/A"
          ],
          [
           "N/A"
          ],
          [
           "N/A"
          ],
          [
           "N/A"
          ],
          [
           "N/A"
          ],
          [
           "N/A"
          ],
          [
           "N/A"
          ],
          [
           "N/A"
          ],
          [
           "N/A"
          ],
          [
           "N/A"
          ],
          [
           "N/A"
          ],
          [
           "N/A"
          ],
          [
           "N/A"
          ],
          [
           "N/A"
          ],
          [
           "N/A"
          ],
          [
           "N/A"
          ],
          [
           "N/A"
          ],
          [
           "N/A"
          ],
          [
           "N/A"
          ],
          [
           "N/A"
          ],
          [
           "N/A"
          ],
          [
           "N/A"
          ],
          [
           "N/A"
          ],
          [
           "N/A"
          ],
          [
           "N/A"
          ],
          [
           "N/A"
          ],
          [
           "N/A"
          ],
          [
           "N/A"
          ],
          [
           "N/A"
          ],
          [
           "N/A"
          ],
          [
           "N/A"
          ],
          [
           "N/A"
          ],
          [
           "N/A"
          ],
          [
           "N/A"
          ],
          [
           "N/A"
          ],
          [
           "N/A"
          ],
          [
           "N/A"
          ],
          [
           "N/A"
          ],
          [
           "N/A"
          ],
          [
           "N/A"
          ],
          [
           "N/A"
          ],
          [
           "N/A"
          ],
          [
           "N/A"
          ],
          [
           "N/A"
          ],
          [
           "N/A"
          ],
          [
           "N/A"
          ],
          [
           "N/A"
          ],
          [
           "N/A"
          ],
          [
           "N/A"
          ],
          [
           "N/A"
          ],
          [
           "N/A"
          ],
          [
           "N/A"
          ],
          [
           "N/A"
          ],
          [
           "N/A"
          ],
          [
           "N/A"
          ],
          [
           "N/A"
          ],
          [
           "N/A"
          ],
          [
           "N/A"
          ],
          [
           "N/A"
          ],
          [
           "N/A"
          ],
          [
           "N/A"
          ],
          [
           "N/A"
          ],
          [
           "N/A"
          ],
          [
           "N/A"
          ],
          [
           "N/A"
          ],
          [
           "N/A"
          ],
          [
           "N/A"
          ],
          [
           "N/A"
          ],
          [
           "N/A"
          ],
          [
           "N/A"
          ],
          [
           "N/A"
          ],
          [
           "N/A"
          ],
          [
           "N/A"
          ],
          [
           "N/A"
          ],
          [
           "N/A"
          ],
          [
           "N/A"
          ],
          [
           "N/A"
          ],
          [
           "N/A"
          ],
          [
           "N/A"
          ],
          [
           "N/A"
          ],
          [
           "N/A"
          ],
          [
           "N/A"
          ],
          [
           "N/A"
          ],
          [
           "N/A"
          ],
          [
           "N/A"
          ],
          [
           "N/A"
          ],
          [
           "N/A"
          ],
          [
           "N/A"
          ],
          [
           "N/A"
          ],
          [
           "N/A"
          ],
          [
           "N/A"
          ],
          [
           "N/A"
          ],
          [
           "N/A"
          ],
          [
           "N/A"
          ],
          [
           "N/A"
          ],
          [
           "N/A"
          ],
          [
           "N/A"
          ],
          [
           "N/A"
          ],
          [
           "N/A"
          ],
          [
           "N/A"
          ],
          [
           "N/A"
          ],
          [
           "N/A"
          ],
          [
           "N/A"
          ],
          [
           "N/A"
          ],
          [
           "N/A"
          ],
          [
           "N/A"
          ],
          [
           "N/A"
          ],
          [
           "NEP-5"
          ],
          [
           "N/A"
          ],
          [
           "N/A"
          ],
          [
           "N/A"
          ],
          [
           "N/A"
          ],
          [
           "N/A"
          ],
          [
           "N/A"
          ],
          [
           "N/A"
          ],
          [
           "N/A"
          ],
          [
           "N/A"
          ],
          [
           "N/A"
          ],
          [
           "N/A"
          ],
          [
           "N/A"
          ],
          [
           "N/A"
          ],
          [
           "N/A"
          ],
          [
           "N/A"
          ],
          [
           "N/A"
          ],
          [
           "N/A"
          ],
          [
           "N/A"
          ],
          [
           "N/A"
          ],
          [
           "N/A"
          ],
          [
           "N/A"
          ],
          [
           "N/A"
          ],
          [
           "NeoScrypt"
          ],
          [
           "N/A"
          ],
          [
           "N/A"
          ],
          [
           "N/A"
          ],
          [
           "N/A"
          ],
          [
           "N/A"
          ],
          [
           "N/A"
          ],
          [
           "N/A"
          ],
          [
           "N/A"
          ],
          [
           "N/A"
          ],
          [
           "N/A"
          ],
          [
           "N/A"
          ],
          [
           "N/A"
          ],
          [
           "N/A"
          ],
          [
           "N/A"
          ],
          [
           "N/A"
          ],
          [
           "N/A"
          ],
          [
           "N/A"
          ],
          [
           "N/A"
          ],
          [
           "N/A"
          ],
          [
           "N/A"
          ],
          [
           "N/A"
          ],
          [
           "N/A"
          ],
          [
           "N/A"
          ],
          [
           "N/A"
          ],
          [
           "N/A"
          ],
          [
           "N/A"
          ],
          [
           "N/A"
          ],
          [
           "N/A"
          ],
          [
           "N/A"
          ],
          [
           "N/A"
          ],
          [
           "N/A"
          ],
          [
           "N/A"
          ],
          [
           "N/A"
          ],
          [
           "N/A"
          ],
          [
           "N/A"
          ],
          [
           "N/A"
          ],
          [
           "N/A"
          ],
          [
           "N/A"
          ],
          [
           "N/A"
          ],
          [
           "N/A"
          ],
          [
           "N/A"
          ],
          [
           "N/A"
          ],
          [
           "N/A"
          ],
          [
           "N/A"
          ],
          [
           "N/A"
          ],
          [
           "N/A"
          ],
          [
           "N/A"
          ],
          [
           "N/A"
          ],
          [
           "N/A"
          ],
          [
           "N/A"
          ],
          [
           "N/A"
          ],
          [
           "N/A"
          ],
          [
           "N/A"
          ],
          [
           "N/A"
          ],
          [
           "N/A"
          ],
          [
           "N/A"
          ],
          [
           "N/A"
          ],
          [
           "N/A"
          ],
          [
           "N/A"
          ],
          [
           "N/A"
          ],
          [
           "N/A"
          ],
          [
           "N/A"
          ],
          [
           "N/A"
          ],
          [
           "N/A"
          ],
          [
           "N/A"
          ],
          [
           "N/A"
          ],
          [
           "N/A"
          ],
          [
           "N/A"
          ],
          [
           "N/A"
          ],
          [
           "N/A"
          ],
          [
           "N/A"
          ],
          [
           "N/A"
          ],
          [
           "N/A"
          ],
          [
           "N/A"
          ],
          [
           "N/A"
          ],
          [
           "N/A"
          ],
          [
           "N/A"
          ],
          [
           "N/A"
          ],
          [
           "N/A"
          ],
          [
           "N/A"
          ],
          [
           "N/A"
          ],
          [
           "N/A"
          ],
          [
           "N/A"
          ],
          [
           "N/A"
          ],
          [
           "N/A"
          ],
          [
           "N/A"
          ],
          [
           "N/A"
          ],
          [
           "N/A"
          ],
          [
           "N/A"
          ],
          [
           "N/A"
          ],
          [
           "N/A"
          ],
          [
           "N/A"
          ],
          [
           "N/A"
          ],
          [
           "N/A"
          ],
          [
           "N/A"
          ],
          [
           "N/A"
          ],
          [
           "N/A"
          ],
          [
           "N/A"
          ],
          [
           "N/A"
          ],
          [
           "N/A"
          ],
          [
           "N/A"
          ],
          [
           "N/A"
          ],
          [
           "N/A"
          ],
          [
           "N/A"
          ],
          [
           "N/A"
          ],
          [
           "N/A"
          ],
          [
           "N/A"
          ],
          [
           "N/A"
          ],
          [
           "N/A"
          ],
          [
           "N/A"
          ],
          [
           "N/A"
          ],
          [
           "N/A"
          ],
          [
           "N/A"
          ],
          [
           "N/A"
          ],
          [
           "N/A"
          ],
          [
           "N/A"
          ],
          [
           "N/A"
          ],
          [
           "N/A"
          ],
          [
           "N/A"
          ],
          [
           "N/A"
          ],
          [
           "N/A"
          ],
          [
           "N/A"
          ],
          [
           "N/A"
          ],
          [
           "N/A"
          ],
          [
           "N/A"
          ],
          [
           "N/A"
          ],
          [
           "N/A"
          ],
          [
           "N/A"
          ],
          [
           "N/A"
          ],
          [
           "N/A"
          ],
          [
           "N/A"
          ],
          [
           "N/A"
          ],
          [
           "N/A"
          ],
          [
           "N/A"
          ],
          [
           "N/A"
          ],
          [
           "N/A"
          ],
          [
           "N/A"
          ],
          [
           "N/A"
          ],
          [
           "N/A"
          ],
          [
           "N/A"
          ],
          [
           "N/A"
          ],
          [
           "N/A"
          ],
          [
           "N/A"
          ],
          [
           "N/A"
          ],
          [
           "N/A"
          ],
          [
           "N/A"
          ],
          [
           "N/A"
          ],
          [
           "N/A"
          ],
          [
           "N/A"
          ],
          [
           "N/A"
          ],
          [
           "N/A"
          ],
          [
           "N/A"
          ],
          [
           "N/A"
          ],
          [
           "N/A"
          ],
          [
           "N/A"
          ],
          [
           "N/A"
          ],
          [
           "N/A"
          ],
          [
           "N/A"
          ],
          [
           "N/A"
          ],
          [
           "N/A"
          ],
          [
           "N/A"
          ],
          [
           "N/A"
          ],
          [
           "N/A"
          ],
          [
           "N/A"
          ],
          [
           "N/A"
          ],
          [
           "N/A"
          ],
          [
           "N/A"
          ],
          [
           "N/A"
          ],
          [
           "N/A"
          ],
          [
           "N/A"
          ],
          [
           "N/A"
          ],
          [
           "N/A"
          ],
          [
           "N/A"
          ],
          [
           "N/A"
          ],
          [
           "N/A"
          ],
          [
           "N/A"
          ],
          [
           "N/A"
          ],
          [
           "N/A"
          ],
          [
           "N/A"
          ],
          [
           "N/A"
          ],
          [
           "N/A"
          ],
          [
           "N/A"
          ],
          [
           "N/A"
          ],
          [
           "N/A"
          ],
          [
           "N/A"
          ],
          [
           "N/A"
          ],
          [
           "N/A"
          ],
          [
           "N/A"
          ],
          [
           "N/A"
          ],
          [
           "N/A"
          ],
          [
           "N/A"
          ],
          [
           "N/A"
          ],
          [
           "N/A"
          ],
          [
           "N/A"
          ],
          [
           "N/A"
          ],
          [
           "N/A"
          ],
          [
           "N/A"
          ],
          [
           "N/A"
          ],
          [
           "N/A"
          ],
          [
           "N/A"
          ],
          [
           "N/A"
          ],
          [
           "N/A"
          ],
          [
           "N/A"
          ],
          [
           "N/A"
          ],
          [
           "N/A"
          ],
          [
           "N/A"
          ],
          [
           "N/A"
          ],
          [
           "N/A"
          ],
          [
           "N/A"
          ],
          [
           "N/A"
          ],
          [
           "N/A"
          ],
          [
           "N/A"
          ],
          [
           "N/A"
          ],
          [
           "N/A"
          ],
          [
           "N/A"
          ],
          [
           "N/A"
          ],
          [
           "N/A"
          ],
          [
           "N/A"
          ],
          [
           "N/A"
          ],
          [
           "N/A"
          ],
          [
           "N/A"
          ],
          [
           "N/A"
          ],
          [
           "N/A"
          ],
          [
           "N/A"
          ],
          [
           "N/A"
          ],
          [
           "N/A"
          ],
          [
           "N/A"
          ],
          [
           "N/A"
          ],
          [
           "N/A"
          ],
          [
           "N/A"
          ],
          [
           "N/A"
          ],
          [
           "N/A"
          ],
          [
           "N/A"
          ],
          [
           "N/A"
          ],
          [
           "N/A"
          ],
          [
           "N/A"
          ],
          [
           "N/A"
          ],
          [
           "N/A"
          ],
          [
           "N/A"
          ],
          [
           "N/A"
          ],
          [
           "N/A"
          ],
          [
           "N/A"
          ],
          [
           "N/A"
          ],
          [
           "N/A"
          ],
          [
           "N/A"
          ],
          [
           "N/A"
          ],
          [
           "N/A"
          ],
          [
           "N/A"
          ],
          [
           "N/A"
          ],
          [
           "N/A"
          ],
          [
           "N/A"
          ],
          [
           "N/A"
          ],
          [
           "N/A"
          ],
          [
           "N/A"
          ],
          [
           "N/A"
          ],
          [
           "N/A"
          ],
          [
           "N/A"
          ],
          [
           "N/A"
          ],
          [
           "N/A"
          ],
          [
           "N/A"
          ],
          [
           "N/A"
          ],
          [
           "N/A"
          ],
          [
           "N/A"
          ],
          [
           "N/A"
          ],
          [
           "N/A"
          ],
          [
           "N/A"
          ],
          [
           "N/A"
          ],
          [
           "N/A"
          ],
          [
           "N/A"
          ],
          [
           "N/A"
          ],
          [
           "N/A"
          ],
          [
           "N/A"
          ],
          [
           "N/A"
          ],
          [
           "N/A"
          ],
          [
           "N/A"
          ],
          [
           "N/A"
          ],
          [
           "N/A"
          ],
          [
           "N/A"
          ],
          [
           "N/A"
          ],
          [
           "N/A"
          ],
          [
           "N/A"
          ],
          [
           "N/A"
          ],
          [
           "N/A"
          ],
          [
           "N/A"
          ],
          [
           "N/A"
          ],
          [
           "N/A"
          ],
          [
           "N/A"
          ],
          [
           "N/A"
          ],
          [
           "N/A"
          ],
          [
           "N/A"
          ],
          [
           "N/A"
          ],
          [
           "N/A"
          ],
          [
           "N/A"
          ],
          [
           "N/A"
          ],
          [
           "N/A"
          ],
          [
           "N/A"
          ],
          [
           "N/A"
          ],
          [
           "N/A"
          ],
          [
           "N/A"
          ],
          [
           "N/A"
          ],
          [
           "N/A"
          ],
          [
           "N/A"
          ],
          [
           "N/A"
          ],
          [
           "N/A"
          ],
          [
           "N/A"
          ],
          [
           "N/A"
          ],
          [
           "N/A"
          ],
          [
           "N/A"
          ],
          [
           "N/A"
          ],
          [
           "N/A"
          ],
          [
           "N/A"
          ],
          [
           "N/A"
          ],
          [
           "N/A"
          ],
          [
           "N/A"
          ],
          [
           "N/A"
          ],
          [
           "N/A"
          ],
          [
           "N/A"
          ],
          [
           "N/A"
          ],
          [
           "N/A"
          ],
          [
           "BEP20 Token"
          ],
          [
           "N/A"
          ],
          [
           "N/A"
          ],
          [
           "N/A"
          ],
          [
           "N/A"
          ],
          [
           "N/A"
          ],
          [
           "N/A"
          ],
          [
           "N/A"
          ],
          [
           "N/A"
          ],
          [
           "N/A"
          ],
          [
           "N/A"
          ],
          [
           "N/A"
          ],
          [
           "N/A"
          ],
          [
           "N/A"
          ],
          [
           "N/A"
          ],
          [
           "N/A"
          ],
          [
           "N/A"
          ],
          [
           "N/A"
          ],
          [
           "N/A"
          ],
          [
           "N/A"
          ],
          [
           "N/A"
          ],
          [
           "N/A"
          ],
          [
           "N/A"
          ],
          [
           "N/A"
          ],
          [
           "N/A"
          ],
          [
           "N/A"
          ],
          [
           "N/A"
          ],
          [
           "N/A"
          ],
          [
           "N/A"
          ],
          [
           "N/A"
          ],
          [
           "N/A"
          ],
          [
           "N/A"
          ],
          [
           "N/A"
          ],
          [
           "N/A"
          ],
          [
           "N/A"
          ],
          [
           "N/A"
          ],
          [
           "N/A"
          ],
          [
           "N/A"
          ],
          [
           "N/A"
          ],
          [
           "N/A"
          ],
          [
           "N/A"
          ],
          [
           "N/A"
          ],
          [
           "N/A"
          ],
          [
           "N/A"
          ],
          [
           "N/A"
          ],
          [
           "N/A"
          ],
          [
           "N/A"
          ],
          [
           "N/A"
          ],
          [
           "N/A"
          ],
          [
           "N/A"
          ],
          [
           "N/A"
          ],
          [
           "N/A"
          ],
          [
           "N/A"
          ],
          [
           "N/A"
          ],
          [
           "N/A"
          ],
          [
           "N/A"
          ],
          [
           "N/A"
          ],
          [
           "N/A"
          ],
          [
           "N/A"
          ],
          [
           "N/A"
          ],
          [
           "N/A"
          ],
          [
           "N/A"
          ],
          [
           "DPoS"
          ],
          [
           "N/A"
          ],
          [
           "N/A"
          ],
          [
           "N/A"
          ],
          [
           "N/A"
          ],
          [
           "N/A"
          ],
          [
           "N/A"
          ],
          [
           "N/A"
          ],
          [
           "N/A"
          ],
          [
           "N/A"
          ],
          [
           "N/A"
          ],
          [
           "N/A"
          ],
          [
           "N/A"
          ],
          [
           "N/A"
          ],
          [
           "N/A"
          ],
          [
           "BEP2 Token"
          ],
          [
           "N/A"
          ],
          [
           "N/A"
          ],
          [
           "N/A"
          ],
          [
           "N/A"
          ],
          [
           "N/A"
          ],
          [
           "N/A"
          ],
          [
           "N/A"
          ],
          [
           "N/A"
          ],
          [
           "N/A"
          ],
          [
           "N/A"
          ],
          [
           "N/A"
          ],
          [
           "N/A"
          ],
          [
           "N/A"
          ],
          [
           "N/A"
          ],
          [
           "N/A"
          ],
          [
           "N/A"
          ],
          [
           "N/A"
          ],
          [
           "N/A"
          ],
          [
           "N/A"
          ],
          [
           "N/A"
          ],
          [
           "N/A"
          ],
          [
           "N/A"
          ],
          [
           "N/A"
          ],
          [
           "N/A"
          ],
          [
           "N/A"
          ],
          [
           "N/A"
          ],
          [
           "N/A"
          ],
          [
           "N/A"
          ],
          [
           "KAWPOW"
          ],
          [
           "DPoS"
          ],
          [
           "N/A"
          ],
          [
           "N/A"
          ],
          [
           "N/A"
          ],
          [
           "N/A"
          ],
          [
           "N/A"
          ],
          [
           "N/A"
          ],
          [
           "N/A"
          ],
          [
           "N/A"
          ],
          [
           "N/A"
          ],
          [
           "N/A"
          ],
          [
           "N/A"
          ],
          [
           "N/A"
          ],
          [
           "dBFT2.0"
          ],
          [
           "N/A"
          ],
          [
           "N/A"
          ],
          [
           "N/A"
          ]
         ],
         "hovertemplate": "<b>%{hovertext}</b><br><br>Class=%{marker.color}<br>PC 1=%{x}<br>PC 2=%{y}<br>PC 3=%{z}<br>Algorithm=%{customdata[0]}<extra></extra>",
         "hovertext": [
          "300 token",
          "GeoCoin",
          "MaidSafe Coin",
          "Factom",
          "Digix DAO",
          "Bancor Network Token",
          "LBRY Credits",
          "SingularDTV",
          "Wings DAO",
          "bitCNY",
          "Peerplays",
          "Mycelium Token",
          "Veros",
          "Nexium",
          "iEx.ec",
          "Gnosis",
          "XTRABYTES",
          "Lunyr",
          "Basic Attention Token",
          "ZrCoin",
          "Status Network Token",
          "Crypto.com",
          "Numeraire",
          "AdEx",
          "Polybius",
          "district0x",
          "Suretly",
          "CryptoPing",
          "DAOBet",
          "Santiment",
          "Wagerr",
          "SunContract",
          "Oax",
          "EncrypGen",
          "LATOKEN",
          "0x",
          "Tierion",
          "Storj",
          "Crypviser",
          "Viberate",
          "Decentraland",
          "Mobius",
          "KickToken",
          "Monetha",
          "Gas",
          "Dentacoin",
          "Agrello Delta",
          "Ignis",
          "Utrust",
          "Enjin Coin",
          "Etherparty",
          "Cappasity",
          "Chainlink",
          "Kyber Network",
          "Salt Lending",
          "Yoyow",
          "Request Network",
          "Datum",
          "VIBEHub",
          "AirSwap",
          "Cindicator",
          "Covesting",
          "Power Ledger",
          "Crypto20",
          "Red Pulse Phoenix",
          "Zeusshield",
          "Soma",
          "KuCoin Shares",
          "WePower",
          "Dragonchain",
          "Streamr DATAcoin",
          "HEROcoin",
          "Insolar",
          "Neumark",
          "BlockMason Credit Protocol",
          "Genesis Vision",
          "Jibrel Network Token",
          "Aave",
          "Sether",
          "CoinFi",
          "FlypMe",
          "Adbank",
          "LockTrip",
          "HOQU",
          "MediBloc",
          "Bounty0x",
          "Bread token",
          "aelf",
          "DeepBrain Chain",
          "REMME",
          "QLC Chain",
          "Energo",
          "PumaPay",
          "MediShares",
          "Game",
          "Ink",
          "Telcoin",
          "Zap",
          "AI Doctor",
          "EchoLink",
          "Bottos",
          "IDEX",
          "CommerceBlock Token",
          "Data",
          "CarVertical",
          "Odyssey",
          "Theta",
          "OriginTrail",
          "Qbao",
          "SwftCoin",
          "Sentinel",
          "InsurePal",
          "Scry.info",
          "CPChain",
          "Zeepin",
          "LeadCoin",
          "BlockCDN ",
          "STK Token",
          "Polymath Network",
          "Bluzelle",
          "SwissBorg",
          "Medicalchain",
          "THEKEY Token",
          "Lympo",
          "RED MegaWatt",
          "Huobi Token",
          "BitcoinFile",
          "BABB",
          "SpaceChain",
          "All Sports Coin",
          "Nucleus Vision",
          "Ink Protocol",
          "XY Oracle",
          "Props",
          "Celsius Network",
          "Credits",
          "Alphacat",
          "DATx",
          "TomoChain",
          "Insights Network",
          "CoinPoker Token",
          "I-House Token",
          "Electrify.Asia",
          "Pantos",
          "True USD",
          "Mithril",
          "Switcheo",
          "eosDAC",
          "Bidipass",
          "Sentinel Chain",
          "U Network",
          "Zilla",
          "Gems",
          "Kryll",
          "NEXO",
          "0xBitcoin",
          "EduCoin",
          "CyberVein",
          "Global Social Chain",
          "UniBright",
          "AMO Coin",
          "Content Neutrality Network",
          "Skrumble Network",
          "ShareToken",
          "Ubex",
          "Open Platform",
          "Morpheus Network",
          "IoTeX Network",
          "NKN",
          "Elysian",
          "Repo Coin",
          "Bezant",
          "Phantasma",
          "PCHAIN",
          "IQeon",
          "CoinEx Token",
          "Mixin",
          "CoinMeet",
          "HashCoin ",
          "OneLedger",
          "Everipedia",
          "XMax",
          "VITE",
          "OneRoot Network",
          "LikeCoin",
          "GoToken",
          "Centrality Token",
          "Red Community Token",
          "NOIA Network",
          "Green Energy Token",
          "Apollo Currency",
          "Hdac",
          "QuickX Protocol",
          "Cryptocean",
          "Insureum",
          "Okex",
          "1World",
          "ZB",
          "STASIS EURS",
          "Omnitude",
          "HitChain",
          "The Midas Touch Gold",
          "FXPay",
          "Digitex Futures",
          "Topchain",
          "Delphy",
          "FundFantasy",
          "HYCON",
          "Decentralized Accessible Content Chain ",
          "MetaHash",
          "USD Coin",
          "Ontology Gas",
          "Sogur Currency",
          "VestChain",
          "VeChainThor ",
          "BitForex Token",
          "Adab Solutions",
          "Livepeer",
          "Mycro",
          "WOM",
          "Newton",
          "SilkChain",
          "Sylo",
          "Travala",
          "AgaveCoin",
          "AERGO ",
          "Hashgard",
          "Vidy",
          "WETH",
          "Agricultural Trade Chain",
          "Bgogo Token",
          "HedgeTrade",
          "Wrapped Bitcoin",
          "BitMax Token",
          "Zeux",
          "Fetch.AI",
          "StableUSD",
          "Ankr Network",
          "Safe Haven",
          "Crypto.com Chain Token",
          "Hoard",
          "Theta Fuel",
          "Levolution",
          "Evedo",
          "2key.network",
          "Orbs",
          "SESSIA",
          "NeuroChain",
          "Consentium",
          "Thorecoin",
          "Matic Network",
          "Lambda",
          "Function X",
          "Ocean Protocol",
          "Poseidon Network",
          "iOWN Token",
          "LEO Token",
          "Red Pulse Phoenix Binance",
          "Reserve Rights",
          "Harmony",
          "Baer Chain",
          "Mossland",
          "Yuan Chain Coin",
          "USDK",
          "MIXMARVEL",
          "BUMO",
          "DxChain Token",
          "MultiVAC",
          "VNT Chain",
          "Origo",
          "Carry",
          "Bryllite",
          "Wirex Token",
          "BEST",
          "Atlas Protocol",
          "WaykiChain",
          "EDUCare",
          "Bitcoin HD",
          "YOU Chain",
          "GMB",
          "NNB Token",
          "Ultiledger",
          "Snetwork",
          "IRIS Network",
          "Airbloc",
          "Hyperion",
          "MIR COIN",
          "FansTime",
          "Algorand",
          "MovieBloc",
          "Machine Xchange Coin",
          "Jarvis+",
          "DPRating",
          "Ampleforth",
          "LemoChain",
          "Elrond",
          "SparkPoint",
          "ToKoin",
          "TEMCO",
          "Stronghold Token",
          "Hxro",
          "WINk",
          "FTX Token",
          "TrustVerse",
          "GoWithMi",
          "EMOGI Network",
          "SIX Network",
          "LITEX",
          "BOTXCOIN",
          "Gatechain Token",
          "Chiliz",
          "BitUP Token",
          "Akropolis",
          "Blockchain of Hash Power",
          "CryptoFranc",
          "Decentralized Vulnerability Platform",
          "Kleros",
          "Prometeus",
          "PROT",
          "Thorenext",
          "Thore Exchange",
          "ThoreCashTRX",
          "Ultra",
          "VINCI",
          "Xensor",
          "Zaif Token",
          "Amino Network",
          "NewYork Exchange",
          "LinkToken",
          "MEX",
          "BeeKan",
          "Band Protocol",
          "Emirex Token",
          "Hedera Hashgraph",
          "PAX Gold",
          "MX Token",
          "PLANET",
          "BCB Blockchain",
          "All.me",
          "RON",
          "Temtum",
          "Kava",
          "Multi Collateral Dai",
          "UNICORN Token",
          "Yap Stone",
          "Suterusu",
          "Whole Network",
          "Thorchain",
          "DAD",
          "Elitium",
          "Sport and Leisure",
          "Klaytn",
          "Troy",
          "Football Coin",
          "Neutrino",
          "Brazilian Digital Token",
          "Kusama",
          "Connectome",
          "Xinfin Network",
          "Tellor",
          "Orchid Protocol",
          "Digital Gold",
          "MarcoPolo Protocol",
          "BOSAGORA",
          "PlayFuel",
          "Nevula",
          "Compound Ethereum",
          "Tap",
          "Zynecoin",
          "Origin Protocol",
          "EXMO Coin",
          "HEX",
          "TerraKRW",
          "BenePit",
          "apM Coin",
          "Renrenbit",
          "PayProtocol Paycoin",
          "Bitcoin God",
          "Ally",
          "Coindy",
          "Spock",
          "Kadena",
          "Jobchain",
          "GoldFinX",
          "Blucon",
          "NewsToken",
          "FunKeyPay",
          "AIDUS Token",
          "01coin",
          "WazirX",
          "EtherGem",
          "Coinsbit Token",
          "POC Chain",
          "Newscrypto Coin",
          "Tether Gold",
          "NextDAO",
          "3X Long EOS Token",
          "3X Short XRP Token",
          "Sologenic",
          "3X Long BNB Token",
          "BiLira",
          "3X Long TRX Token",
          "3X Short TRX Token",
          "3X Long Litecoin Token",
          "3X Short Litecoin Token",
          "Hive Dollar",
          "Elamachain",
          "Anchor",
          "USDJ",
          "Universal Euro",
          "Universal Protocol Token",
          "Energy Web Token",
          "More Coin",
          "HyperDAO",
          "Euro Tether",
          "LCX",
          "Hive",
          "HUNT",
          "Portal",
          "Intelligent Investment Chain",
          "Solana",
          "3X Long Altcoin Index Token",
          "3X Short Altcoin Index Token",
          "DEAPCOIN",
          "Homeros",
          "Latamcash",
          "3X Long Bitcoin SV Token",
          "3X Short Bitcoin SV Token",
          "3X Long Bitcoin Cash Token",
          "3X Short Bitcoin Cash Token",
          "Cartesi",
          "SENSO",
          "xDai Chain",
          "OBSERVER Coin",
          "Unknown Fair Object",
          "3X Long TezosToken",
          "3X Short Tezos Token",
          "JUST",
          "IdeaChain",
          "BNS token",
          "ITAM Games",
          "Metaverse",
          "Metacoin",
          "Loon Network",
          "The Forbidden Forest",
          "Proton",
          "Unicorn Technology International",
          "dKargo",
          "King DAG",
          "Spice",
          "Rite Aid",
          "3X Short Cardano Token",
          "3X Long Cardano Token",
          "3X Long Matic Token",
          "3X Long Cosmos Token",
          "3X Short Cosmos Token",
          "3X Long Algorand Token",
          "3X Short Algorand Token",
          "3X Long Theta Network Token",
          "3X Short Kyber Network Token",
          "3X Long Ethereum Classic Token",
          "3X Long TomoChain Token",
          "3X Short Theta Network Token",
          "3X Short Midcap Index Token",
          "3X Long BitMax Token Token",
          "3X Long Tether Token",
          "Compound",
          "CACHE Gold",
          "UMA",
          "Celo",
          "DarkPayCoin",
          "Balancer",
          "BTSE Token",
          "DMM: Governance",
          "ARCS",
          "Perth Mint Gold Token",
          "Paparazzi",
          "KardiaChain",
          "Trustswap",
          "Keep Network",
          "Waves Enterprise",
          "ETHUP",
          "Oikos",
          "Meta",
          "DeFiChain",
          "yearn.finance",
          "Add.xyz",
          "Nest Protocol",
          "DigiDinar Token",
          "MCDEX",
          "Wrapped NXM",
          "Centric Cash",
          "Darwinia Commitment Token",
          "SUKU",
          "DIA",
          "dForce",
          "MiL.k",
          "Cream",
          "Serum",
          "Curve DAO Token",
          "The Sandbox",
          "Bitcoin Captain",
          "DFI.money",
          "Hakka Finance",
          "Jarvis Reward Token",
          "SatoPay",
          "Klever",
          "Pearl Finance",
          "Elrond",
          "Insight Protocol",
          "TerraUSD",
          "QOOBER",
          "Bella Protocol",
          "MATH",
          "Sun Token",
          "Swerve",
          "Universal Money Intrument",
          "Hedget",
          "Phala Network",
          "Bounce Token",
          "Alchemy Pay",
          "Sashimi",
          "REVV",
          "3X Long Sushi Token",
          "3X Short Sushi Token",
          "Rarible",
          "New BitShares",
          "dHedge DAO",
          "Flamingo",
          "PowerTrade Fuel",
          "Maro",
          "Mini",
          "ONBUFF",
          "TitanSwap",
          "Crust Network",
          "Beowulf",
          "AhaToken",
          "S.Finance",
          "Venus",
          "cVault.finance",
          "AXEL",
          "DODO",
          "Dify.Finance",
          "PlatonCoin",
          "OctoFi",
          "NuCypher",
          "1X Short Bitcoin SV Token",
          "Harvest Finance",
          "Datamine",
          "Darwinia Network",
          "Pundi X",
          "sUSD",
          "DREP",
          "FunFair",
          "Huobi Pool Token",
          "SingularityNET",
          "Constellation ",
          "COCOS BCX",
          "Melon",
          "Quoine Liquid",
          "Voyager Token",
          "STP Network",
          "CNNS",
          "Davinci Coin",
          "TOP Network",
          "BORA",
          "Force Protocol",
          "Civic",
          "Velas",
          "tBTC",
          "Reserve",
          "Perpetual Protocol",
          "Value Liquidity",
          "Yobit Token",
          "Contentos",
          "APIX",
          "3X Long Bitcoin Token",
          "Quantstamp",
          "Cortex",
          "RAKON",
          "Bitkan",
          "ARPA Chain",
          "ROOBEE",
          "StormX",
          "BitMart Coin",
          "Mainframe",
          "SAI",
          "Metal",
          "RING X PLATFORM",
          "Dent",
          "RIF Token",
          "Gemini Dollar",
          "Loom Network",
          "LUKSO",
          "3X Long Ethereum Token",
          "BKEX Token",
          "Content Value Network",
          "12Ships",
          "SelfKey",
          "MANTRA DAO",
          "BiboxCoin",
          "ArcBlock",
          "Measurable Data Token ",
          "Populous",
          "Dego Finance",
          "Aavegotchi",
          "UniTrade",
          "LinkEye",
          "Yee",
          "Fyooz",
          "GIFTO",
          "Augur",
          "Chromia",
          "Celer Network",
          "MVL",
          "Frontier",
          "pNetwork Token",
          "Dusk Network",
          "Sentivate",
          "GoMoney2",
          "Perlin",
          "Molecular Future",
          "Raiden Network",
          "FNB protocol",
          "Moeda",
          "TenX",
          "Presearch",
          "Morpheus Infrastructure Token",
          "3X Short Bitcoin",
          "Piction Network",
          "Metronome",
          "Cred",
          "SmartMesh",
          "Dock.io",
          "Genaro Network",
          "Ultrain",
          "Sentinel Protocol",
          "BF Token",
          "EOSDT",
          "Seele",
          "YYFI.Protocol",
          "Pickle Finance",
          "3X Short Ethereum Token",
          "Propy",
          "Time New Bank",
          "QunQun",
          "Matryx",
          "AppCoins",
          "CyberMiles",
          "3X Short EOS Token",
          "IoT Chain",
          "DMarket",
          "FairGame",
          "Eminer",
          "Endor Protocol Token ",
          "WABI",
          "ContentBox",
          "SpendCoin",
          "Trump Loses Token",
          "Egretia",
          "SirinLabs",
          "3X Long XRP Token",
          "The Abyss",
          "Simple Token",
          "Ruff",
          "Rio DeFi",
          "3X Short Chainlink Token",
          "TokenClub ",
          "Everex",
          "BetProtocol",
          "Tokenomy",
          "Merculet",
          "Pivot Token",
          "Monolith",
          "Nectar",
          "COTI",
          "Ferrum Network",
          "Fusion",
          "Injective Protocol",
          "Aurei",
          "Atari Token",
          "BUSD",
          "PANTHEON X",
          "8X8 Protocol",
          "LTO Network",
          "Meme",
          "Trump Wins Token",
          "Golff",
          "Blox",
          "Exchange Union",
          "Fatcoin",
          "3X Long Chainlink Token",
          "FLETA",
          "OriginSport",
          "V-ID",
          "SONM",
          "Refereum",
          "Tripio",
          "Akropolis Delphi",
          "YAM",
          "Loopring [NEO]",
          "WaykiChain Governance Coin",
          "RedFOX Labs",
          "Rotten",
          "Nash Exchange",
          "Lendroid Support Token",
          "Thunder Token",
          "Akoin",
          "Alpha Finance Lab",
          "Avalanche",
          "YAM v1",
          "YAM v2 ",
          "Metadium",
          "FileCoin",
          "Hydro Protocol",
          "Orbit Chain",
          "Bit Financial",
          "Synthetix",
          "Quant",
          "Maker",
          "REN",
          "Swipe",
          "Loopring",
          "Linear",
          "Aave",
          "DeFiner",
          "Aragon",
          "HBTC Captain Token",
          "Orion Protocol",
          "bZx",
          "Tesla FTX",
          "SPDR S&P 500 ETF FTX",
          "Uquid Coin",
          "Experty Wisdom Token",
          "Oasis Labs",
          "renBTC ",
          "Nexus Mutual",
          "Lien",
          "DigitalBits",
          "Hegic",
          "Energi",
          "Sperax",
          "API3",
          "FinNexus",
          "Terra",
          "DeFiPulse Index",
          "Stafi",
          "Golem Network Token",
          "Uniswap Protocol Token",
          "Sushi",
          "TON Crystal",
          "Tokamak Network",
          "Fantom",
          "Near",
          "BuySell",
          "Mineral",
          "Medibloc",
          "Tether",
          "Guppy",
          "NewsTokens",
          "Steem Dollars",
          "Inda",
          "FIO Protocol",
          "True Chain",
          "Auctus",
          "ClinTex CTi",
          "PowerPool Concentrated Voting Power",
          "Secret",
          "Cryptobuyer",
          "Wing Finance",
          "Worldwide Asset eXchange",
          "Asch",
          "Nuls",
          "Bridge Oracle",
          "Raiden Network Token",
          "Elastos",
          "Enigma",
          "OMG Network",
          "Holo",
          "OPEN Governance Token",
          "Axion",
          "Marlin",
          "MahaDAO",
          "BIZZCOIN",
          "2Based Finance",
          "Swingby",
          "UNION Protocol Governance Token",
          "Golden Ratio Per Liquidity",
          "The Graph",
          "AnRKey X",
          "Reflector.Finance",
          "YVS.Finance",
          "NEST Protocol",
          "Mediconnect",
          "Dexfin",
          "xETH-G",
          "DXdao",
          "Trade Butler Bot",
          "DeFi Yield Protocol",
          "Staked Ether",
          "TNC Coin",
          "Helium",
          "Polkadot",
          "Skycoin",
          "Zilliqa",
          "Tezos",
          "IOTA",
          "Own",
          "Crypterium",
          "Coin",
          "Cosmos",
          "QuarkChain",
          "Aurora",
          "Kin",
          "Ravencoin",
          "High Performance Blockchain",
          "PeerCoin",
          "Matrix AI Network",
          "Obyte",
          "Nebulas",
          "Stratis",
          "IOS token",
          "GXChain",
          "Wanchain",
          "Ardor",
          "NEM",
          "Stellar",
          "TRON",
          "NEO",
          "XRP",
          "Empty Set Dollar",
          "Pylon Finance"
         ],
         "legendgroup": "0",
         "marker": {
          "color": [
           0,
           0,
           0,
           0,
           0,
           0,
           0,
           0,
           0,
           0,
           0,
           0,
           0,
           0,
           0,
           0,
           0,
           0,
           0,
           0,
           0,
           0,
           0,
           0,
           0,
           0,
           0,
           0,
           0,
           0,
           0,
           0,
           0,
           0,
           0,
           0,
           0,
           0,
           0,
           0,
           0,
           0,
           0,
           0,
           0,
           0,
           0,
           0,
           0,
           0,
           0,
           0,
           0,
           0,
           0,
           0,
           0,
           0,
           0,
           0,
           0,
           0,
           0,
           0,
           0,
           0,
           0,
           0,
           0,
           0,
           0,
           0,
           0,
           0,
           0,
           0,
           0,
           0,
           0,
           0,
           0,
           0,
           0,
           0,
           0,
           0,
           0,
           0,
           0,
           0,
           0,
           0,
           0,
           0,
           0,
           0,
           0,
           0,
           0,
           0,
           0,
           0,
           0,
           0,
           0,
           0,
           0,
           0,
           0,
           0,
           0,
           0,
           0,
           0,
           0,
           0,
           0,
           0,
           0,
           0,
           0,
           0,
           0,
           0,
           0,
           0,
           0,
           0,
           0,
           0,
           0,
           0,
           0,
           0,
           0,
           0,
           0,
           0,
           0,
           0,
           0,
           0,
           0,
           0,
           0,
           0,
           0,
           0,
           0,
           0,
           0,
           0,
           0,
           0,
           0,
           0,
           0,
           0,
           0,
           0,
           0,
           0,
           0,
           0,
           0,
           0,
           0,
           0,
           0,
           0,
           0,
           0,
           0,
           0,
           0,
           0,
           0,
           0,
           0,
           0,
           0,
           0,
           0,
           0,
           0,
           0,
           0,
           0,
           0,
           0,
           0,
           0,
           0,
           0,
           0,
           0,
           0,
           0,
           0,
           0,
           0,
           0,
           0,
           0,
           0,
           0,
           0,
           0,
           0,
           0,
           0,
           0,
           0,
           0,
           0,
           0,
           0,
           0,
           0,
           0,
           0,
           0,
           0,
           0,
           0,
           0,
           0,
           0,
           0,
           0,
           0,
           0,
           0,
           0,
           0,
           0,
           0,
           0,
           0,
           0,
           0,
           0,
           0,
           0,
           0,
           0,
           0,
           0,
           0,
           0,
           0,
           0,
           0,
           0,
           0,
           0,
           0,
           0,
           0,
           0,
           0,
           0,
           0,
           0,
           0,
           0,
           0,
           0,
           0,
           0,
           0,
           0,
           0,
           0,
           0,
           0,
           0,
           0,
           0,
           0,
           0,
           0,
           0,
           0,
           0,
           0,
           0,
           0,
           0,
           0,
           0,
           0,
           0,
           0,
           0,
           0,
           0,
           0,
           0,
           0,
           0,
           0,
           0,
           0,
           0,
           0,
           0,
           0,
           0,
           0,
           0,
           0,
           0,
           0,
           0,
           0,
           0,
           0,
           0,
           0,
           0,
           0,
           0,
           0,
           0,
           0,
           0,
           0,
           0,
           0,
           0,
           0,
           0,
           0,
           0,
           0,
           0,
           0,
           0,
           0,
           0,
           0,
           0,
           0,
           0,
           0,
           0,
           0,
           0,
           0,
           0,
           0,
           0,
           0,
           0,
           0,
           0,
           0,
           0,
           0,
           0,
           0,
           0,
           0,
           0,
           0,
           0,
           0,
           0,
           0,
           0,
           0,
           0,
           0,
           0,
           0,
           0,
           0,
           0,
           0,
           0,
           0,
           0,
           0,
           0,
           0,
           0,
           0,
           0,
           0,
           0,
           0,
           0,
           0,
           0,
           0,
           0,
           0,
           0,
           0,
           0,
           0,
           0,
           0,
           0,
           0,
           0,
           0,
           0,
           0,
           0,
           0,
           0,
           0,
           0,
           0,
           0,
           0,
           0,
           0,
           0,
           0,
           0,
           0,
           0,
           0,
           0,
           0,
           0,
           0,
           0,
           0,
           0,
           0,
           0,
           0,
           0,
           0,
           0,
           0,
           0,
           0,
           0,
           0,
           0,
           0,
           0,
           0,
           0,
           0,
           0,
           0,
           0,
           0,
           0,
           0,
           0,
           0,
           0,
           0,
           0,
           0,
           0,
           0,
           0,
           0,
           0,
           0,
           0,
           0,
           0,
           0,
           0,
           0,
           0,
           0,
           0,
           0,
           0,
           0,
           0,
           0,
           0,
           0,
           0,
           0,
           0,
           0,
           0,
           0,
           0,
           0,
           0,
           0,
           0,
           0,
           0,
           0,
           0,
           0,
           0,
           0,
           0,
           0,
           0,
           0,
           0,
           0,
           0,
           0,
           0,
           0,
           0,
           0,
           0,
           0,
           0,
           0,
           0,
           0,
           0,
           0,
           0,
           0,
           0,
           0,
           0,
           0,
           0,
           0,
           0,
           0,
           0,
           0,
           0,
           0,
           0,
           0,
           0,
           0,
           0,
           0,
           0,
           0,
           0,
           0,
           0,
           0,
           0,
           0,
           0,
           0,
           0,
           0,
           0,
           0,
           0,
           0,
           0,
           0,
           0,
           0,
           0,
           0,
           0,
           0,
           0,
           0,
           0,
           0,
           0,
           0,
           0,
           0,
           0,
           0,
           0,
           0,
           0,
           0,
           0,
           0,
           0,
           0,
           0,
           0,
           0,
           0,
           0,
           0,
           0,
           0,
           0,
           0,
           0,
           0,
           0,
           0,
           0,
           0,
           0,
           0,
           0,
           0,
           0,
           0,
           0,
           0,
           0,
           0,
           0,
           0,
           0,
           0,
           0,
           0,
           0,
           0,
           0,
           0,
           0,
           0,
           0,
           0,
           0,
           0,
           0,
           0,
           0,
           0,
           0,
           0,
           0,
           0,
           0,
           0,
           0,
           0,
           0,
           0,
           0,
           0,
           0,
           0,
           0,
           0,
           0,
           0,
           0,
           0,
           0,
           0,
           0,
           0,
           0,
           0,
           0,
           0,
           0,
           0,
           0,
           0,
           0,
           0,
           0,
           0,
           0,
           0,
           0,
           0,
           0,
           0,
           0,
           0,
           0,
           0,
           0,
           0,
           0,
           0,
           0,
           0,
           0,
           0,
           0,
           0,
           0,
           0,
           0,
           0,
           0,
           0,
           0,
           0,
           0,
           0,
           0,
           0,
           0,
           0,
           0,
           0,
           0,
           0,
           0,
           0,
           0,
           0,
           0,
           0,
           0,
           0,
           0,
           0,
           0,
           0,
           0,
           0,
           0,
           0,
           0,
           0,
           0,
           0,
           0,
           0,
           0,
           0,
           0,
           0,
           0,
           0,
           0,
           0,
           0,
           0,
           0,
           0,
           0,
           0,
           0,
           0,
           0,
           0,
           0,
           0,
           0,
           0,
           0,
           0,
           0,
           0,
           0,
           0,
           0,
           0,
           0,
           0,
           0,
           0,
           0,
           0,
           0,
           0,
           0,
           0,
           0,
           0,
           0,
           0,
           0,
           0,
           0,
           0,
           0,
           0,
           0,
           0,
           0,
           0,
           0,
           0,
           0,
           0,
           0,
           0,
           0,
           0,
           0,
           0,
           0,
           0,
           0,
           0,
           0,
           0,
           0,
           0,
           0,
           0,
           0,
           0,
           0,
           0,
           0,
           0,
           0,
           0,
           0,
           0,
           0,
           0,
           0,
           0,
           0,
           0,
           0,
           0,
           0,
           0,
           0,
           0,
           0,
           0,
           0,
           0,
           0,
           0,
           0,
           0,
           0,
           0
          ],
          "coloraxis": "coloraxis",
          "symbol": "diamond"
         },
         "mode": "markers",
         "name": "0",
         "scene": "scene",
         "showlegend": true,
         "type": "scatter3d",
         "x": [
          -0.9506841278788791,
          -0.9506841278779176,
          -0.9506848526971645,
          -0.9506841278779176,
          -0.9506841313157842,
          -0.9506844308079587,
          -0.9506869894149864,
          -0.9506873322472996,
          -0.9506844483148558,
          -0.9506841947263533,
          -0.9506841278779176,
          -0.9506841278779176,
          -0.9506841599216116,
          -0.9506843409989832,
          -0.9506844066573654,
          -0.9506841599216116,
          0.35504112816117933,
          -0.9506841365404692,
          -0.9506889344319911,
          -0.9506841278779176,
          -0.9507059331955549,
          -0.9506841784695373,
          -0.9506841630433013,
          -0.9506844705901552,
          -0.9506841405978705,
          -0.9506873322472996,
          -0.9506841286318751,
          -0.9506841278779176,
          -0.9506846638754137,
          -0.9506843949204489,
          0.8494718522157859,
          -0.9506845210780824,
          -0.9506844483148558,
          -0.9506844483148558,
          -0.9506854096256705,
          -0.9506873322472996,
          -0.9506873322472996,
          -0.9506854897348991,
          -0.9506841278779176,
          -0.9506847687517944,
          -0.9506911613219873,
          -0.9506841278779176,
          -2.539613106881004,
          -0.950685417316157,
          -0.9506843104711882,
          -0.9761586785352082,
          -0.9506845453143861,
          -0.9506857286215165,
          -0.9506857300626089,
          -0.9506873322472996,
          -0.9506873322472996,
          -0.9506862532432814,
          -0.9506873322472996,
          -0.9506848018522261,
          -0.9506845124022436,
          -0.9506905366166818,
          -0.950687332138358,
          -0.950692631766679,
          -0.950684983444543,
          -0.9506857300626089,
          -0.9506905366166968,
          -0.9506841912330115,
          -0.9506873322472996,
          -0.9506842581550223,
          0.5866688612071868,
          -0.9507022085321554,
          -0.9506841740787522,
          -0.950684673000873,
          -0.9506865159283778,
          -0.950685516954219,
          -0.9506872910856181,
          -0.9506849359078149,
          0.8475222140300986,
          -0.950684343767622,
          -0.9506841278779176,
          -0.9506841420834145,
          -0.9506847687517944,
          -0.9506864168933359,
          -0.9506841278779176,
          -0.9506850891887326,
          -0.9506842409196192,
          -0.9506873322472996,
          -0.9506841874341116,
          -0.9506859943534489,
          -0.9506841278779176,
          -0.9506857300626089,
          -0.9506844126268904,
          -0.9506869477229739,
          0.5866528449573741,
          0.35189976789503086,
          -0.9506850888529054,
          -0.9506873322472996,
          -0.9509342063392588,
          -0.9506905366166818,
          -0.9506905366166818,
          -0.9506841278779176,
          -0.9510045648161151,
          -0.9506857941499962,
          -0.9506866201652127,
          -0.9506857300626089,
          -0.9506841278779176,
          -0.9506857295028973,
          -0.9506873322472996,
          -0.950704665480142,
          -0.9507159509316087,
          -0.9507161715717373,
          -0.9506873322472996,
          -0.9506857300626089,
          -0.9506841278779176,
          -0.9507161715717373,
          -0.9506905365205508,
          -0.9506850891887326,
          -0.9506873322472996,
          -0.9506873322472176,
          -0.9506841278779176,
          -0.950692547078745,
          -0.9506841310822873,
          -0.9506857300626089,
          -0.9506873322472996,
          -0.9506857300626089,
          -0.9506873322472996,
          -0.9506857300626089,
          0.9481349949933445,
          -0.9506873322472996,
          -0.9506857300626089,
          -0.9506853727229099,
          0.8494722026495759,
          -0.9508443463470164,
          -0.9506841278779176,
          -0.9506889344319911,
          -0.9507161715717373,
          -0.9506857300626089,
          -0.9507287703742375,
          -0.9506862706609631,
          -0.9506863570236291,
          -0.9506849272753802,
          -0.9506841278779176,
          -0.9507161715717373,
          -0.9506844483148558,
          -0.9506841278779176,
          -0.9506852647447066,
          -0.9506873210036868,
          -0.9506865311547787,
          -0.9506873322472996,
          -0.9506850079119806,
          0.8494689982801937,
          -0.9506857295028973,
          -0.9506879731211761,
          -0.9506889344319911,
          -0.9506857300626089,
          -0.9507161715717373,
          -0.9506843201400809,
          -0.9507097628329738,
          -0.9506842862293546,
          -0.9506873322472996,
          -0.9506841951696228,
          -0.9507321934186468,
          -0.9506910092087679,
          -0.9506873322472996,
          -0.950684608533325,
          -0.9507438232914166,
          -0.9510045648161151,
          -0.9506889344319911,
          -0.9506906697394205,
          0.849459469915269,
          -0.9506897209349863,
          -0.9506842813582966,
          0.34737959638776456,
          0.35848614492417435,
          -0.9506849610139572,
          -0.9506841278779176,
          -0.950687332246723,
          0.8494722026495759,
          -0.9506841278779176,
          -0.9506841454758664,
          -0.9507029338380812,
          -0.9506841310822873,
          -0.9506854096256705,
          -0.9508443463470164,
          -0.9506873322472996,
          -0.9508604437173642,
          -0.9507802589593772,
          -0.9506857394451448,
          -0.9506854096256705,
          -0.950684643419184,
          -0.9506844483148558,
          -0.9506879731211761,
          -0.9506847687517944,
          -0.9506873322472996,
          -0.9507001497248277,
          0.8494722026495759,
          0.35201904598436945,
          -0.9506857300626089,
          -0.9506841278779176,
          -0.9506850795756242,
          -0.9506850499682331,
          -0.950684247142793,
          -0.9506881189057981,
          -0.9506842303511095,
          -0.9506843663256223,
          -0.9510122553026317,
          -0.9507134835533676,
          -0.950685646676449,
          -0.9506882935581146,
          -0.9506885438994722,
          -0.9506844483148558,
          -0.9506843835756604,
          -0.9506969720105022,
          -0.9506841278779177,
          -0.9507027965427207,
          -0.9506960107544946,
          -0.9506857295028973,
          -0.9506841323288302,
          -0.9507124801382095,
          -0.9506841278779161,
          -0.9507161715717373,
          -0.9506852494072017,
          -0.9506842012222101,
          -0.9506842094436827,
          -0.9506873322472996,
          -0.9510045648161151,
          -0.9507161715717373,
          -0.9507161715717373,
          -0.9506841278779176,
          -0.9507962808062868,
          -0.9506857300626089,
          -0.9506841278779176,
          -0.9507161715717373,
          -0.950684145931523,
          -0.9507161715717373,
          -0.9507082499943157,
          -0.9506873322472996,
          -0.950684128239844,
          -0.9506865869191333,
          -0.9506865311549542,
          -0.9506878225080446,
          -0.9506841295617767,
          -0.9507161715717373,
          -0.9506841278779176,
          -0.9510045648161151,
          -0.9506873322472996,
          0.8494641945246706,
          -0.9506851244367955,
          -0.9506841847765899,
          -0.9506860489306252,
          -0.9507161715717373,
          -0.9506844483148558,
          -0.9506862345585243,
          -0.9506848969265691,
          -0.9506841296574994,
          -0.9507161715717373,
          -0.9507033540942097,
          -0.9506853410666667,
          -0.9506860924740332,
          -0.9507514196349393,
          -0.950685093431074,
          -0.9506856835197426,
          0.5871448842647449,
          -0.9506852220135283,
          -0.9507245029321307,
          -0.9506859864121597,
          -0.9506857300626089,
          -0.9507161715717373,
          -0.950684231951705,
          -0.9507161715717373,
          -0.9506841278779176,
          -0.9510045648161151,
          -0.9507161715717373,
          -0.9507161715717373,
          -0.9506873322472996,
          -0.9507095978000664,
          -0.9506852494072017,
          -0.9507161715713378,
          -0.9506870738101474,
          -0.9507161715717373,
          -0.9506847671613636,
          -0.9506873322472996,
          -0.950684175015441,
          -0.9506932795568727,
          -0.9507001497248277,
          -0.9507033540942097,
          -0.9506985475401364,
          -0.9506873322472996,
          -0.9506873351426228,
          -0.9506853238046474,
          -0.9507161715717373,
          -0.9506841278779176,
          -0.9507002944892645,
          0.8494502140895499,
          -0.9507802589593772,
          -0.9506926308421444,
          -0.9506860504995467,
          -0.9507161715717373,
          -0.9506853287261519,
          -0.9506892548689287,
          -0.9507308475538665,
          -0.95073016999056,
          -0.9506847687491027,
          -0.9507033540942097,
          -0.9506841278779176,
          -0.9506873322472996,
          -0.9522775139852806,
          -0.9506852098575873,
          -0.9506873322472996,
          -0.9507318729817091,
          -0.950862008998579,
          -0.9506841278779176,
          -0.9506905366166818,
          -0.9507001497248277,
          -0.9506849073745368,
          -0.9507126111613106,
          -0.9506873322472996,
          -0.9506969453554462,
          -0.9506843883176682,
          -0.9506841342866571,
          -0.9507001497248277,
          -0.9506865780243171,
          -0.9506841907640723,
          -0.9506841278779176,
          -0.9506848007954881,
          -0.9506841599216116,
          -0.9506841278779176,
          -0.9506873322472996,
          -0.9506850891887326,
          -0.9506995088509511,
          -0.9506841278779176,
          -0.9506873322472996,
          -0.9506856972356749,
          -0.9506856894429403,
          -0.9506903443544228,
          -0.9507161715717373,
          -0.9506844483148558,
          -0.9506857300626089,
          0.8493814898809309,
          -0.9506841279990276,
          -0.9506861352028291,
          -0.9507001497248277,
          0.8494722026495759,
          -0.9507161715717373,
          -0.9507161715717373,
          -0.9506841278779176,
          0.8494720203765247,
          -0.9506877647938361,
          -0.9507065584635915,
          -0.9506841278779176,
          -0.9507161715717373,
          -0.9507152909243641,
          -0.9506857300626089,
          -0.9506873322472996,
          -0.9506851923694265,
          -0.9506872144931341,
          -0.9506841278779161,
          -0.9507161715717373,
          -0.9506873322472996,
          -0.952287081475345,
          -0.9506847687517944,
          -0.9506841433355473,
          -0.9506845764896312,
          -0.9507444021889003,
          -0.9506841306158158,
          -0.9506873322472996,
          -0.9506841278779176,
          -0.9507161715717373,
          -0.9506849961670759,
          -0.9507161715717373,
          0.5865406864319078,
          -0.950684304289146,
          -0.9507161715717373,
          -0.9506842913307254,
          -0.9506873322472996,
          -0.9506883895061049,
          -0.9525009252112455,
          -0.9508013015719251,
          -0.9507802589593772,
          -0.9506899357974229,
          -0.9506841278779176,
          0.8494722026495759,
          -0.9506841278779176,
          -0.9507161715717373,
          -0.9506873322472996,
          -0.9506841278779176,
          -0.9506841278779176,
          -0.9510045648161151,
          -0.9506849869814177,
          -0.9506937409860637,
          -0.9507161715717373,
          -0.9507482152655575,
          -0.9507161715717373,
          0.9481349949933445,
          -0.9506857228294614,
          -0.9506841278779176,
          -0.9506879484555429,
          -0.9507161715717373,
          -0.9506850235745445,
          -0.9506841280331721,
          -0.9506841278779176,
          -0.9506841728019357,
          -0.9506841531839081,
          -0.9506854096205904,
          -0.9506841279159038,
          -0.9506841851741633,
          -0.9506841324824779,
          -0.9506842096056786,
          -0.9506841291433819,
          -0.9506841290680177,
          -0.9506841278779176,
          -0.9506873322472996,
          -0.9506865615761833,
          -0.9506841752445542,
          -0.9506841280381366,
          -0.9507161715717373,
          -0.9506843852912374,
          -0.9506842240089993,
          -0.9507001497248277,
          -0.9506842880965475,
          -0.9506871821731435,
          0.3501147889203081,
          -0.9506848012091849,
          -0.9506873322472996,
          -0.9507514196349393,
          -0.9506849104157362,
          -0.9506841280390403,
          -0.9506841285070785,
          -0.9507802589593772,
          -0.9507161715717373,
          -0.9506873322472996,
          -0.9506841856731094,
          -0.9506842021457048,
          -0.9506841304884975,
          -0.9506841320339259,
          -0.9506873322472996,
          -0.9507030826200357,
          -0.9506841553065751,
          -0.9507081522526369,
          -0.9506841278779176,
          -0.9506841278950773,
          -0.9506841279968534,
          -0.9507158511347988,
          -0.9506843023564465,
          -0.9506921388013727,
          -0.9506841278779176,
          -0.9506841278779176,
          -0.9506841278779176,
          -0.9506908570536204,
          -0.9506841278779176,
          -0.9507161715717373,
          -0.9506847687517944,
          -0.9507001497248277,
          -0.9506873322472996,
          -0.9506841278779176,
          -0.9506841530695002,
          -0.9506842489849644,
          -0.9506841278837534,
          -0.9506841291869158,
          -0.9506841279403743,
          -0.9506841284653531,
          -0.9506915549057052,
          -0.9506842573439961,
          -0.9506841278779176,
          -0.9506841278779176,
          -0.9506841278779176,
          -0.9506841304544391,
          -0.9506841278779176,
          -0.950684128036811,
          -0.9506841279045625,
          -0.9506841278779176,
          -0.9506841599216116,
          -0.9506841280198732,
          -0.9506844520722023,
          -0.9506867152068292,
          -0.9506841278779176,
          -0.9506842539698531,
          -0.9506841278779176,
          -0.9506845282354016,
          -0.9507482152655575,
          -0.9506841278798844,
          -0.9506846685119451,
          -0.9507001497248277,
          -0.9506844483065046,
          -0.9506873317627376,
          -0.9506841278779176,
          -0.9506841278779176,
          -0.9506843550314592,
          -0.9506844483148558,
          -0.9506871278468482,
          -0.9506841279740489,
          -0.9506844684825657,
          -0.9507161715717373,
          -0.9506841679185408,
          -0.9506842912420256,
          -0.9506841336835586,
          -0.9506841278779176,
          -0.9506841280437116,
          -0.9506889344319911,
          -0.9506847369807576,
          -0.9506873320918828,
          -0.9506881113659359,
          -0.9506841469873701,
          -0.9506846437813918,
          -0.9506886132645197,
          -0.9506937409860637,
          -0.9506841366273241,
          -0.9506841280060924,
          -0.9506861658008099,
          -0.9506848516216612,
          -0.9506852654682281,
          -0.9506841278779176,
          -0.9506841279900707,
          0.8494721699798826,
          -0.9506905366166818,
          0.8494719406867487,
          -0.9506841278779176,
          -0.9506844483148558,
          -0.9506847687517944,
          -0.9506841916472079,
          -0.9506841629998511,
          0.8761140673873318,
          -0.9506841335890053,
          -0.9506873322472996,
          -0.9506841280380789,
          -0.9507161715717373,
          -0.9506843368940249,
          -0.9506937409860637,
          -0.9506841278779176,
          -0.9506841278779176,
          -0.9506842079871525,
          -0.95068909248592,
          -0.9506844483148558,
          -0.950684335318008,
          -0.9506854096256705,
          -0.9506867262613905,
          -0.9506846011690874,
          -0.9506866311076881,
          -0.950701756946905,
          -0.9506841342866892,
          -0.9506937409860637,
          -0.9506841278779176,
          -0.9506841951696752,
          -0.9506842240089993,
          -0.9506841279099616,
          -0.950686950106289,
          -0.9506873322472996,
          -0.9506841279740489,
          -0.9506850891887326,
          -0.9506841304414138,
          -0.9506965781029326,
          -0.9506841278779176,
          -0.9506841291742543,
          -0.9506841278779161,
          -0.9506874268286581,
          -0.9510981906033791,
          -0.9506844803915017,
          -0.9507161715717373,
          -0.9507193755361557,
          -0.9507161715717373,
          -0.9506873322472996,
          -0.9506841278779176,
          -0.9510045648161151,
          -0.9506841327614793,
          -0.9506873322472996,
          -0.9506848401938768,
          -0.9506903521099997,
          -0.9507161473531139,
          -0.950712326328479,
          -0.9507482152655575,
          -0.9506879915463003,
          -0.9506873226815722,
          -0.9506873322472996,
          0.8494722026495759,
          -0.9506841278808313,
          -0.9506841324370586,
          -0.950684608533325,
          -0.9506841492195754,
          -0.9506841279323919,
          -0.9506972657923837,
          -0.9506847817225856,
          -0.9506841278837854,
          -0.9506872567600103,
          -0.9506846244834375,
          -0.9506850434120282,
          -0.9507148214256227,
          -0.9506887422369931,
          0.8494548990549132,
          -0.9507147834030831,
          -0.9506870137380473,
          -0.9507161715717373,
          -0.9506841421467418,
          0.35128388216107387,
          -0.9506855774468168,
          -0.9510045648161151,
          -0.9506857295028973,
          -0.9506841780928466,
          -0.9506873322472996,
          -0.9506844483148558,
          -0.9506841279382262,
          -0.9506845255530134,
          -0.9506873322472996,
          -0.9507000915033201,
          -0.9507033540940641,
          -0.9506848360435513,
          -0.9506849003743018,
          -0.950684723890623,
          -0.9506873322472996,
          -0.9506842985177846,
          -0.9506841580700459,
          -0.9506842107623606,
          -0.9506842880963869,
          -0.9506873322472996,
          -0.9507161715717373,
          -0.9506842880963869,
          -0.9506857296631738,
          -0.9506841459638931,
          -0.9506857856299364,
          -0.9507161715717373,
          -0.9507802589593772,
          -0.9506844483148558,
          -0.950684347957662,
          -0.9506857300626089,
          -0.9506975862293222,
          -0.9506872260685751,
          -0.9506855092094536,
          -0.9506844483148558,
          -0.9506844483148558,
          -0.9506921067581919,
          -0.9506841907761256,
          -0.9506847854730137,
          -0.9506857300626089,
          -0.9506869062150467,
          -0.9506850351282443,
          -0.9506872921926826,
          -0.9506841683677663,
          -0.9506872973627242,
          -0.9506941947012256,
          -0.9506873322472996,
          -0.9506862107180158,
          -0.9506873322472996,
          -0.9506857300626089,
          -0.9506873322472996,
          -0.9506845640106802,
          -0.9507802589593772,
          -0.9506841278779176,
          -0.9506841318186702,
          -0.950687474771735,
          -0.9506844483148558,
          -0.9506982774355682,
          -0.9506891170810453,
          -0.9506851345602478,
          -0.9506849153534629,
          -0.9506873322472996,
          -0.9506841462834508,
          -0.9506844483148528,
          -0.9506843102763051,
          -0.9506879731211761,
          -0.9506908570536204,
          -0.9506888851211888,
          -0.9506844483148558,
          0.8494673977746334,
          -0.9506905366166818,
          -0.9506841759434583,
          -0.9507097628329738,
          -0.9506859613094628,
          -0.9506841410769299,
          -0.9506857577103308,
          -0.950686691373423,
          -0.9506901520923559,
          -0.9506847018766056,
          -0.9506913650740155,
          -0.9506873246227642,
          -0.9506842079871525,
          -0.9507161715717373,
          -0.9506847687517944,
          -0.9507161715717373,
          -0.9507847961110129,
          -0.9506842541517332,
          -0.9506861086054346,
          -0.9506905366166818,
          -0.9506846551628905,
          -0.950684364574595,
          -0.9506844483148558,
          -0.9506841280392959,
          -0.9507090290323851,
          -0.9506867506061194,
          -0.9506865952423421,
          -0.9506869477229739,
          -0.9506844021354015,
          -0.9506841279676395,
          -0.9506841759434583,
          -0.95068414632707,
          -0.9506873322472996,
          -0.9506937409860637,
          -0.9506847687517944,
          -0.9506841279167726,
          -0.9506905366166818,
          -0.9506850891887326,
          -0.9506843096928399,
          -0.9506855506179234,
          -0.9507001486032985,
          -0.9507001497248277,
          -0.9506842240089993,
          -0.950684165662788,
          -0.9506843513167816,
          -0.9507514196349393,
          -0.9506905366166818,
          -0.9506842030743076,
          -0.9506842079591653,
          -0.9507204266364679,
          0.8494401752450526,
          -0.9506841278779176,
          0.5953466346856029,
          0.8494710094181449,
          -0.9506842024123384,
          -0.9506841345062447,
          -0.9506873311278807,
          -0.9506874047738956,
          -0.9506891266941536,
          -0.9506841278779176,
          -0.9506841278779176,
          -0.9506848108771883,
          -0.9506842582822431,
          -0.950684131073737,
          -0.950687332246123,
          -0.9506850543771418,
          -0.9506885323280508,
          -0.9507161715717373,
          -0.9506841791478281,
          -0.9506846662119739,
          -0.950684254801463,
          -0.9506878796960286,
          -0.9506844483148558,
          -0.950687428378381,
          -0.9506841278779176,
          -0.9506841278779176,
          -0.950684256052693,
          -0.9506843823194718,
          -0.9507161715717373,
          -0.9506841279224556,
          -0.9506841493655348,
          -0.9506841310822873,
          -0.9506889344319911,
          -0.9506937794701811,
          0.8494721446167902,
          -0.9507001497248277,
          -0.9506844483148558,
          -0.950685569900111,
          0.8475238246438954,
          -0.9506841285529674,
          0.8494720377668172,
          -0.9506852073733586,
          -0.9506873322472996,
          -0.9506846942612249,
          -0.9506921638926993,
          -0.9506842880963869,
          -0.950693286565085,
          0.8494702254317689,
          0.8494720343088781,
          -0.9506873322472996,
          0.8494587809196218,
          -0.9507513307755807,
          -0.9510008962926102,
          -0.9506841281983548,
          0.8475254089469771,
          -0.9506841439053616,
          0.8475226401144518,
          0.3470243836205616,
          -0.9506843388203707,
          -0.9506844345018984,
          -0.9506844483148558,
          -0.9506843224172522,
          -0.9506846253704918,
          -0.9506841397111974,
          1.1938360023583652,
          -0.9506841278779161,
          -0.950684644248313,
          -0.9507161715717373,
          0.8494718822126378,
          -0.9506841656403575,
          -0.950684608533325,
          0.8494717532515159,
          -0.9512532861524002,
          -0.9506844483148558,
          -0.9510045513103699,
          -0.950694330590033,
          -0.9506841599216116,
          -0.9506851532761199,
          -0.9506841295444168,
          1.1226421408078355,
          -0.9506873322472996,
          -0.9506841476781089,
          -0.950716180079476,
          -0.9506847687517944,
          -0.9506841639000668,
          -0.9506841341385095,
          -0.9506841412030507,
          0.8761125236112874,
          -0.9506878705813563,
          -0.9506841393151277,
          -0.9506841283552948,
          -0.9506841278843263,
          -0.9506842170443816,
          -0.9506841279162684,
          -0.9506841278779176,
          -0.9506845917061717,
          -0.9506857758820862,
          -0.9506843281929825,
          -0.95074034874712,
          0.8475242092916435,
          0.34521693159567296,
          -0.9506843984829024,
          -0.9506844463213825,
          -0.9506844712032086,
          0.8494717768908439,
          -0.9507104032747892,
          0.34953916059500423,
          0.31392814287498466,
          0.5932372441826219,
          1.1938416883232543,
          0.3514670797792766,
          0.3514663214151379,
          -0.950684130702849,
          -0.9506844483148558,
          0.8494719999366955,
          0.3492798277977831,
          0.8475250981902307,
          0.8494715583658208,
          0.8494690014861814,
          0.35544243703765355,
          0.34589175255698423,
          0.8473664700177688,
          0.5917044436391461,
          -0.9510045354022888,
          -0.9506857650674077,
          -0.9506841279250222
         ],
         "y": [
          -0.015153760951377535,
          -0.015153760958106152,
          -0.015148693113796782,
          -0.015153760958106543,
          -0.015153736937370654,
          -0.015151643684410259,
          -0.015133762330743204,
          -0.015131364608796148,
          -0.015151521323175507,
          -0.015153293734420781,
          -0.015153760958106543,
          -0.015153760958106543,
          -0.015153536994613434,
          -0.015152271387697746,
          -0.015151812480532056,
          -0.015153536994613434,
          0.0243116717150822,
          -0.015153700412799488,
          -0.015120166434140936,
          -0.015153760958106543,
          -0.015001356708658105,
          -0.01515340722791449,
          -0.01515351517614042,
          -0.015151365634075783,
          -0.015153672054342236,
          -0.015131364608796148,
          -0.015153755688461095,
          -0.015153760958106543,
          -0.015150014702376988,
          -0.015151894513544067,
          -0.06430992185330531,
          -0.015151012758013236,
          -0.015151521323175507,
          -0.015151521323175507,
          -0.015144802418382383,
          -0.015131364608796148,
          -0.015131364608796148,
          -0.015144242509694416,
          -0.015153760958106543,
          -0.015149281688244453,
          -0.015104601996873978,
          -0.015153760958106543,
          11.090372538030191,
          -0.01514474866714404,
          -0.015152485108630714,
          0.16289550630063485,
          -0.015150843362836805,
          -0.015142568761745285,
          -0.01514256278345134,
          -0.015131364608796148,
          -0.015131364608796148,
          -0.01513890610854945,
          -0.015131364608796148,
          -0.015149050338874055,
          -0.015151073396189294,
          -0.015108968259485761,
          -0.015131365370225325,
          -0.015094324594663882,
          -0.015147781132840658,
          -0.01514256278345134,
          -0.01510896825938256,
          -0.015153318149353301,
          -0.015131364608796148,
          -0.015152850410292925,
          0.00835076332622201,
          -0.015027389557122654,
          -0.015153438045888612,
          -0.015149950921665687,
          -0.01513707011947497,
          -0.015144052265271393,
          -0.015131652300787678,
          -0.015148113382039786,
          0.001827328808963242,
          -0.015152252036804034,
          -0.015153760958106543,
          -0.015153661671434492,
          -0.015149281688244453,
          -0.015137767106283782,
          -0.015153760958106543,
          -0.015147042053313426,
          -0.015152970873968346,
          -0.015131364608796148,
          -0.015153344701064605,
          -0.015140718082442148,
          -0.015153760958106543,
          -0.01514256278345224,
          -0.015151770757633536,
          -0.0151340521707137,
          0.008462746914997175,
          0.1185662515449673,
          -0.01514704194279056,
          -0.015131364608796148,
          -0.013405883635748309,
          -0.015108968259485761,
          -0.015108968259485761,
          -0.015153760958106543,
          -0.012914126027067215,
          -0.015142114856465147,
          -0.015136341575326985,
          -0.01514256278345134,
          -0.015153760958106543,
          -0.015142562599239108,
          -0.015131364608796148,
          -0.015010258892075155,
          -0.014931339588523454,
          -0.014929797465002613,
          -0.015131364608796148,
          -0.01514256278345134,
          -0.015153760958106543,
          -0.014929797465002613,
          -0.015108968931376237,
          -0.015147042053313426,
          -0.015131364608796148,
          -0.015131364609374608,
          -0.015153760958106543,
          -0.015094916505370872,
          -0.015153738561757238,
          -0.01514256278345134,
          -0.015131364608796148,
          -0.01514256278345134,
          -0.015131364608796148,
          -0.01514256278345134,
          -0.0442309770563611,
          -0.015131364608796148,
          -0.01514256278345134,
          -0.015145061257338329,
          -0.06431237204195019,
          -0.014033943492586883,
          -0.015153760958106543,
          -0.015120166434140936,
          -0.014929797465002613,
          -0.01514256278345134,
          -0.014841740456570622,
          -0.015138784370872635,
          -0.015138180754932907,
          -0.015148173716852882,
          -0.015153760958106543,
          -0.014929797465002613,
          -0.015151521323175507,
          -0.015153760958106543,
          -0.015145815037184356,
          -0.015131443193957676,
          -0.015136963697349452,
          -0.015131364608796148,
          -0.015147610122193232,
          -0.06428997569263986,
          -0.015142562599239108,
          -0.015126885338934085,
          -0.015120166434140936,
          -0.01514256278345134,
          -0.014929797465002613,
          -0.015152417177147926,
          -0.014974590163623396,
          -0.015152654189918735,
          -0.015131364608796148,
          -0.015153290635136317,
          -0.014817815718450637,
          -0.015105665164187572,
          -0.015131364608796148,
          -0.015150401505709992,
          -0.014736539467865675,
          -0.012914126027067215,
          -0.015120166434140936,
          -0.01510803782263713,
          -0.06422337894183718,
          -0.015114669316383932,
          -0.015152688235281217,
          0.03589107397233308,
          -0.07223522147851391,
          -0.015147937907285846,
          -0.015153760958106543,
          -0.015131364612827488,
          -0.06431237204195019,
          -0.015153760958106543,
          -0.01515363796048717,
          -0.01502232016501019,
          -0.015153738561757238,
          -0.015144802418382383,
          -0.014033943492586883,
          -0.015131364608796148,
          -0.01392180248350247,
          -0.014481870478794744,
          -0.015142493084306525,
          -0.015144802418382383,
          -0.015150157677430722,
          -0.015151521323175507,
          -0.015126885338934085,
          -0.015149281688244453,
          -0.015131364608796148,
          -0.015041779211554583,
          -0.06431237204195019,
          -0.014033666855215189,
          -0.01514256278345134,
          -0.015153760958106543,
          -0.01514710924236136,
          -0.015147316278071327,
          -0.01515292737823691,
          -0.015125873407091648,
          -0.015153044740615898,
          -0.015152094371816447,
          -0.012860374788722274,
          -0.01494858487406388,
          -0.01514314559565169,
          -0.015124645704003037,
          -0.015122895989213158,
          -0.015151521323175507,
          -0.015151973805851598,
          -0.015063997387372534,
          -0.015153760958105873,
          -0.015023307416498117,
          -0.015070707781990236,
          -0.015142562599239108,
          -0.015153729849275563,
          -0.014955598059408184,
          -0.01515376095811774,
          -0.014929797465002613,
          -0.015145922235847905,
          -0.015153248331692999,
          -0.015153190869225185,
          -0.015131364608796148,
          -0.012914126027067215,
          -0.014929797465002613,
          -0.014929797465002613,
          -0.015153760958106543,
          -0.014369888732242778,
          -0.01514256278345134,
          -0.015153760958106543,
          -0.014929797465002613,
          -0.01515363477575994,
          -0.014929797465002613,
          -0.014985184130351154,
          -0.015131364608796148,
          -0.015153758428490607,
          -0.015136573942669432,
          -0.015136963696123749,
          -0.015127938021662811,
          -0.015153749189083214,
          -0.014929797465002613,
          -0.015153760958106543,
          -0.012914126027067215,
          -0.015131364608796148,
          -0.06425638024756826,
          -0.015146795693471016,
          -0.015153363275321342,
          -0.015140334118222427,
          -0.014929797465002613,
          -0.015151521323175507,
          -0.015139036702215919,
          -0.015148385834272065,
          -0.015153748515498004,
          -0.014929797465002613,
          -0.015019382862244194,
          -0.015145281598903788,
          -0.015140029775582816,
          -0.014683437622588284,
          -0.015147012402249058,
          -0.01514288410762871,
          0.1039289781596498,
          -0.015146113698877174,
          -0.014871566956795593,
          -0.015140771075506518,
          -0.01514256278345134,
          -0.014929797465002613,
          -0.015153033553549838,
          -0.014929797465002613,
          -0.015153760958106543,
          -0.012914126027067215,
          -0.014929797465002613,
          -0.014929797465002613,
          -0.015131364608796148,
          -0.014975743630714999,
          -0.015145922235847905,
          -0.014929797467794341,
          -0.015133170907651237,
          -0.014929797465002613,
          -0.015149292890287814,
          -0.015131364608796148,
          -0.015153431550618424,
          -0.015089796984476055,
          -0.015041779211554583,
          -0.015019382862244194,
          -0.015052977386209766,
          -0.015131364608796148,
          -0.015131336169781668,
          -0.015145402248607796,
          -0.014929797465002613,
          -0.015153760958106543,
          -0.015040767407202515,
          -0.06415871276993695,
          -0.014481870478794744,
          -0.01509433115005947,
          -0.015140323148520318,
          -0.014929797465002613,
          -0.015145367850661846,
          -0.015117926799209912,
          -0.01482722239232724,
          -0.014831958096200814,
          -0.01514928170705739,
          -0.015019382862244194,
          -0.015153760958106543,
          -0.015131364608796148,
          -0.004013007242532147,
          -0.015146198693721196,
          -0.015131364608796148,
          -0.014820055353381692,
          -0.013910776282797117,
          -0.015153760958106543,
          -0.015108968259485761,
          -0.015041779211554583,
          -0.015148313275125192,
          -0.014954682297589625,
          -0.015131364608796148,
          -0.015064175560864972,
          -0.01515194081590853,
          -0.015153716165407918,
          -0.015041779211554583,
          -0.015136636111351711,
          -0.015153321429990272,
          -0.015153760958106543,
          -0.015149057724751358,
          -0.015153536994613434,
          -0.015153760958106543,
          -0.015131364608796148,
          -0.015147042053313426,
          -0.01504625848141665,
          -0.015153760958106543,
          -0.015131364608796148,
          -0.01514279312474051,
          -0.01514284269338139,
          -0.015110312041116262,
          -0.014929797465002613,
          -0.015151521323175507,
          -0.01514256278345134,
          -0.06367852962479248,
          -0.015153760111627793,
          -0.015139731130537962,
          -0.015041779211554583,
          -0.06431237204195019,
          -0.014929797465002613,
          -0.014929797465002613,
          -0.015153760958106543,
          -0.06431109761187814,
          -0.01512834140449107,
          -0.014996986512933796,
          -0.015153760958106543,
          -0.014929797465002613,
          -0.014935952587536917,
          -0.01514256278345134,
          -0.015131364608796148,
          -0.015146320890865634,
          -0.015132187629840614,
          -0.01515376095811774,
          -0.014929797465002613,
          -0.015131364608796148,
          -0.003954307848451973,
          -0.015149281688244453,
          -0.015153652880321099,
          -0.0151506254692031,
          -0.014732330614932877,
          -0.015153741815069795,
          -0.015131364608796148,
          -0.015153760958106543,
          -0.014929797465002613,
          -0.015147689990360884,
          -0.014929797465002613,
          0.00924661729863775,
          -0.015152527964337045,
          -0.014929797465002613,
          -0.01515261853482779,
          -0.015131364608796148,
          -0.015123975093203193,
          -0.002455590786986972,
          -0.014334497340300891,
          -0.014481870478794744,
          -0.015113167574981462,
          -0.015153760958106543,
          -0.06431237204195019,
          -0.015153760958106543,
          -0.014929797465002613,
          -0.015131364608796148,
          -0.015153760958106543,
          -0.015153760958106543,
          -0.012914126027067215,
          -0.015147756412503951,
          -0.015086571910175376,
          -0.014929797465002613,
          -0.01470583397189867,
          -0.014929797465002613,
          -0.0442309770563611,
          -0.015142609259060295,
          -0.015153760958106543,
          -0.015127057734832888,
          -0.014929797465002613,
          -0.015147500655493595,
          -0.015153759872987026,
          -0.015153760958106543,
          -0.015153446969961576,
          -0.015153584086549427,
          -0.0151448024539014,
          -0.015153760692611535,
          -0.015153360496558072,
          -0.015153728775382645,
          -0.01515318973698194,
          -0.015153752113379998,
          -0.015153752640124538,
          -0.015153760958106543,
          -0.015131364608796148,
          -0.015136751072551797,
          -0.015153429897732022,
          -0.015153759838289076,
          -0.014929797465002613,
          -0.015151961976329759,
          -0.015153089067627233,
          -0.015041779211554583,
          -0.015152641139521144,
          -0.015132413524458937,
          -0.017504606627087794,
          -0.015149054833293084,
          -0.015131364608796148,
          -0.014683437622588284,
          -0.015148289552856981,
          -0.015153759831971604,
          -0.015153756560702562,
          -0.014481870478794744,
          -0.014929797465002613,
          -0.015131364608796148,
          -0.01515335700926461,
          -0.01515324187709645,
          -0.015153742711941517,
          -0.015153731910454866,
          -0.015131364608796148,
          -0.015021280280957764,
          -0.015153569250562129,
          -0.014985785574938185,
          -0.015153760958106543,
          -0.015153760838172404,
          -0.015153760126827228,
          -0.014932037099933662,
          -0.015152541477089235,
          -0.015097770084830566,
          -0.015153760958106543,
          -0.015153760958106543,
          -0.015153760958106543,
          -0.015106728624554717,
          -0.015153760958106543,
          -0.014929797465002613,
          -0.015149281688244453,
          -0.015041779211554583,
          -0.015131364608796148,
          -0.015153760958106543,
          -0.01515358488618292,
          -0.015152914502723096,
          -0.015153760917320609,
          -0.015153751809107954,
          -0.01515376052158011,
          -0.015153756852336457,
          -0.015101851116002252,
          -0.015152856078810199,
          -0.015153760958106543,
          -0.015153760958106543,
          -0.015153760958106543,
          -0.015153742949986561,
          -0.015153760958106543,
          -0.015153759847553919,
          -0.0151537607718783,
          -0.015153760958106543,
          -0.015153536994613434,
          -0.015153759965935511,
          -0.015151495061896293,
          -0.015135678877563022,
          -0.015153760958106543,
          -0.015152879661761176,
          -0.015153760958106543,
          -0.015150963756464143,
          -0.01470583397189867,
          -0.015153760944360595,
          -0.015149982296196317,
          -0.015041779211554583,
          -0.015151521381544884,
          -0.015131367995554182,
          -0.015153760958106543,
          -0.015153760958106543,
          -0.01515217272933447,
          -0.015151521323175507,
          -0.015132795389905498,
          -0.015153760286216074,
          -0.015151380364684783,
          -0.014929797465002613,
          -0.015153480999145779,
          -0.015152619154777851,
          -0.015153720380652531,
          -0.015153760958106543,
          -0.0151537597993226,
          -0.015120166434140936,
          -0.015149503827307636,
          -0.015131365695053587,
          -0.015125919568625162,
          -0.015153627420992943,
          -0.015150155145845176,
          -0.015122411174997418,
          -0.015086571910175376,
          -0.015153699805746507,
          -0.015153760062253219,
          -0.015139517271590098,
          -0.015148702484579965,
          -0.015145810266996995,
          -0.015153760958106543,
          -0.015153760174234318,
          -0.0643121436195952,
          -0.015108968259485761,
          -0.064310540431064,
          -0.015153760958106543,
          -0.015151521323175507,
          -0.015149281688244453,
          -0.015153315254405933,
          -0.015153515479824653,
          -0.009546344677468918,
          -0.015153721041511223,
          -0.015131364608796148,
          -0.01515375983828185,
          -0.014929797465002613,
          -0.015152300078699511,
          -0.015086571910175376,
          -0.015153760958106543,
          -0.015153760958106543,
          -0.015153201049373776,
          -0.015119049048173808,
          -0.015151521323175507,
          -0.015152310563286045,
          -0.015144802418382383,
          -0.015135601585471012,
          -0.015150452976694213,
          -0.01513626516615132,
          -0.015030582694910354,
          -0.015153716165183954,
          -0.015086571910175376,
          -0.015153760958106543,
          -0.01515329063477102,
          -0.015153089067627233,
          -0.015153760734143058,
          -0.015134036490311711,
          -0.015131364608796148,
          -0.015153760286216074,
          -0.015147042053313426,
          -0.015153743041027084,
          -0.015066742404628582,
          -0.015153760958106543,
          -0.015153751897662443,
          -0.01515376095811774,
          -0.015130703549821546,
          -0.01225868686034359,
          -0.015151297129373891,
          -0.014929797465002613,
          -0.014907403946111532,
          -0.014929797465002613,
          -0.015131364608796148,
          -0.015153760958106543,
          -0.012914126027067215,
          -0.015153726825355778,
          -0.015131364608796148,
          -0.015148782356972805,
          -0.015110257834940294,
          -0.014929966736610706,
          -0.01495667308417508,
          -0.01470583397189867,
          -0.015126756559925536,
          -0.01513143149115244,
          -0.015131364608796148,
          -0.06431237204195019,
          -0.015153760937738745,
          -0.015153729092831747,
          -0.015150401505709992,
          -0.015153611794522511,
          -0.01515376057736861,
          -0.015061935925933934,
          -0.015149191031289186,
          -0.015153760917094927,
          -0.01513189221329623,
          -0.015150291212137007,
          -0.015147362001154322,
          -0.014939237515521633,
          -0.015121510237206384,
          -0.0641914317556741,
          -0.014939499814006371,
          -0.01513359077052085,
          -0.014929797465002613,
          -0.015153661228792076,
          -0.004076532224145372,
          -0.015143629463405677,
          -0.012914126027067215,
          -0.015142562599239108,
          -0.015153409990113787,
          -0.015131364608796148,
          -0.015151521323175507,
          -0.015153760536592618,
          -0.015150981481306561,
          -0.015131364608796148,
          -0.015042186140055681,
          -0.01501938286326402,
          -0.01514881136490984,
          -0.015148361736981154,
          -0.015149595237134801,
          -0.015131364608796148,
          -0.015152568302203556,
          -0.015153549939669473,
          -0.015153181652565158,
          -0.015152641140641026,
          -0.015131364608796148,
          -0.014929797465002613,
          -0.015152641140641026,
          -0.015142561479428863,
          -0.015153634549516962,
          -0.015142174405853174,
          -0.014929797465002613,
          -0.014481870478794744,
          -0.015151521323175507,
          -0.015152222751290008,
          -0.01514256278345134,
          -0.015059696291002891,
          -0.015132106725425127,
          -0.015144106395882484,
          -0.015151521323175507,
          -0.015151521323175507,
          -0.015097994044740255,
          -0.015153321342674315,
          -0.015149164818361443,
          -0.01514256278345134,
          -0.015134343372313855,
          -0.015147419899134392,
          -0.015131644563162525,
          -0.015153477961771683,
          -0.015131608517328117,
          -0.015083400751658997,
          -0.015131364608796148,
          -0.015139203331054792,
          -0.015131364608796148,
          -0.01514256278345134,
          -0.015131364608796148,
          -0.0151507137858334,
          -0.014481870478794744,
          -0.015153760958106543,
          -0.015153733414945535,
          -0.015130368460518313,
          -0.015151521323175507,
          -0.015054865232315634,
          -0.015118889842230265,
          -0.01514672493746851,
          -0.015148257042897705,
          -0.015131364608796148,
          -0.015153632316025987,
          -0.0151515213231979,
          -0.015152486118191213,
          -0.015126885338934085,
          -0.015106728624554717,
          -0.015120511209018844,
          -0.015151521323175507,
          -0.06427877696532552,
          -0.015108968259485761,
          -0.01515342501286689,
          -0.014974590163623396,
          -0.015140946526180353,
          -0.01515366870604703,
          -0.015142369544792257,
          -0.015135843878658232,
          -0.015111655821403008,
          -0.015149749100054575,
          -0.015103177909615406,
          -0.015131417918583598,
          -0.015153201049373776,
          -0.014929797465002613,
          -0.015149281688244453,
          -0.014929797465002613,
          -0.01445015889351903,
          -0.015152878390545998,
          -0.01513991702812505,
          -0.015108968259485761,
          -0.01515007424840566,
          -0.01515210667629389,
          -0.015151521323175507,
          -0.015153759830182117,
          -0.014979718927615472,
          -0.015135429882643789,
          -0.015136515769137545,
          -0.015134052170713409,
          -0.015151844085965186,
          -0.015153760331014362,
          -0.01515342501286689,
          -0.015153632011156793,
          -0.015131364608796148,
          -0.015086571910175376,
          -0.015149281688244453,
          -0.015153760686536922,
          -0.015108968259485761,
          -0.015147042053313426,
          -0.015152490196211931,
          -0.015143816979012733,
          -0.015041787050276827,
          -0.015041779211554583,
          -0.015153089067627233,
          -0.015153496867718384,
          -0.015152198701890652,
          -0.014683437622588284,
          -0.015108968259485761,
          -0.0151532351944791,
          -0.015153201040173807,
          -0.014900057474171294,
          -0.06408852244154246,
          -0.015153760958106543,
          0.0373405743409621,
          -0.06430403501962106,
          -0.015153239822884903,
          -0.015153714644224256,
          -0.01513136424034927,
          -0.015130865707315132,
          -0.015118822653182333,
          -0.015153760958106543,
          -0.015153760958106543,
          -0.015148987260562883,
          -0.015152849560205338,
          -0.015153738621518734,
          -0.015131364617020013,
          -0.015147285362510135,
          -0.01512297686553311,
          -0.014929797465002613,
          -0.015153402616517575,
          -0.015149998371422398,
          -0.015152873849375284,
          -0.015127538316784839,
          -0.015151521323175507,
          -0.015130692718316841,
          -0.015153760958106543,
          -0.015153760958106543,
          -0.015152865104134144,
          -0.01515198258575488,
          -0.014929797465002613,
          -0.015153760646815354,
          -0.015153610774367055,
          -0.015153738561757238,
          -0.015120166434140936,
          -0.015086302932528542,
          -0.06431196628406873,
          -0.015041779211554583,
          -0.015151521323175507,
          -0.015143682619339214,
          0.001816075796709055,
          -0.015153756239972761,
          -0.06431121920259873,
          -0.0151462160236504,
          -0.015131364608796148,
          -0.015149802326351734,
          -0.015097574161246538,
          -0.015152641140641026,
          -0.01508975059823844,
          -0.06429855578092246,
          -0.06431119584465543,
          -0.015131364608796148,
          -0.06421852900719371,
          -0.014684059378339904,
          -0.012939766496085837,
          -0.015153758718471614,
          0.0018049985503582754,
          -0.015153648978202223,
          0.0018243496811690997,
          0.02705539052733708,
          -0.01515228661470421,
          -0.015151618649950816,
          -0.015151521323175507,
          -0.01515240076373588,
          -0.01515028382543631,
          -0.015153678262290863,
          0.016418988857046738,
          -0.01515376095811774,
          -0.015150152282761025,
          -0.014929797465002613,
          -0.06431013240701912,
          -0.015153496927913112,
          -0.015150401505709992,
          -0.06430923105702191,
          -0.01117573408020496,
          -0.015151521323175507,
          -0.012914220422986317,
          -0.01508245098187986,
          -0.015153536994613434,
          -0.015146594126327226,
          -0.015153749310419103,
          -0.010023719735180804,
          -0.015131364608796148,
          -0.015153622571274245,
          -0.014929738001734251,
          -0.015149281688244453,
          -0.01515350919414957,
          -0.015153717200855866,
          -0.015153667824545277,
          -0.009535554888670887,
          -0.015127602022112012,
          -0.01515368102077736,
          -0.015153757621568382,
          -0.015153760913313852,
          -0.015153137763350788,
          -0.01515376069006482,
          -0.015153760958106543,
          -0.0151505197572932,
          -0.01514223832183088,
          -0.015152361200091393,
          -0.014760843867087649,
          0.001813386388405598,
          0.005250146551317727,
          -0.015151868922348459,
          -0.015151535256190726,
          -0.015151361349255063,
          -0.06430939519085689,
          -0.014970128666187965,
          0.0028565041972386943,
          0.28331073860119826,
          0.03223244418642741,
          0.01637923249165481,
          0.0201567088635939,
          0.02016200920071459,
          -0.015153741214741537,
          -0.015151521323175507,
          -0.06431095469918366,
          -0.003379656969338399,
          0.0018071705026153466,
          -0.0643078690126015,
          -0.06428999810029926,
          -0.10353831425336862,
          0.059907183638253876,
          0.0029162793993288043,
          0.10218161782854958,
          -0.01291433160958529,
          -0.015142318123858347,
          -0.015153760628880209
         ],
         "z": [
          -0.007550866536095234,
          -0.007550866541372746,
          -0.007546898794629596,
          -0.007550866541373205,
          -0.007550847733981045,
          -0.007549208828687744,
          -0.007535208590933398,
          -0.007533331391135074,
          -0.007549113026349384,
          -0.007550500730014371,
          -0.007550866541373205,
          -0.007550866541373205,
          -0.007550691189870815,
          -0.007549700286974044,
          -0.007549340987072782,
          -0.007550691189870815,
          0.02427817454389252,
          -0.007550819137618203,
          -0.007524563816016001,
          -0.007550866541373205,
          -0.007431542120505834,
          -0.007550589596831914,
          -0.007550674107166977,
          -0.0075489911300654754,
          -0.007550796934454575,
          -0.007533331391135074,
          -0.007550862415521111,
          -0.007550866541373205,
          -0.007547933422401982,
          -0.007549405214557824,
          -0.03850401721314132,
          -0.007548714846878148,
          -0.007549113026349384,
          -0.007549113026349384,
          -0.007543852481277949,
          -0.007533331391135074,
          -0.007533331391135074,
          -0.007543414102557052,
          -0.007550866541373205,
          -0.007547359511325563,
          -0.007512377689515412,
          -0.007550866541373205,
          8.687485517613124,
          -0.007543810396917367,
          -0.007549867598977838,
          0.13185226261299107,
          -0.007548582219465204,
          -0.007542103880574713,
          -0.007542098966254141,
          -0.007533331391135074,
          -0.007533331391135074,
          -0.007539235984306141,
          -0.007533331391135074,
          -0.007547178377074138,
          -0.007548762323344614,
          -0.007515796240896948,
          -0.007533331987293623,
          -0.007504331030244568,
          -0.007546184656259616,
          -0.007542098966254141,
          -0.007515796240816173,
          -0.007550519845672592,
          -0.007533331391135074,
          -0.007550153630867578,
          0.032797665556613786,
          -0.007451924456154611,
          -0.007550613718282393,
          -0.007547883485497567,
          -0.007537798502517923,
          -0.00754326515129303,
          -0.007533556638661979,
          -0.007546444789710044,
          -0.07526202744836794,
          -0.00754968513625353,
          -0.007550866541373205,
          -0.0075507888051884586,
          -0.007547359511325563,
          -0.007538343932210104,
          -0.007550866541373205,
          -0.007545605996301768,
          -0.007550247947517912,
          -0.007533331391135074,
          -0.007550540634250256,
          -0.007540654520179801,
          -0.007550866541373205,
          -0.007542098966254859,
          -0.007549308320262498,
          -0.007535435609163913,
          0.032885340412536844,
          -0.038395017795557596,
          -0.0075456060500260595,
          -0.007533331391135074,
          -0.006182371568349902,
          -0.007515796240896948,
          -0.007515796240896948,
          -0.007550866541373205,
          -0.005797351517561651,
          -0.007541748263249381,
          -0.007537228091201643,
          -0.007542098966254141,
          -0.007550866541373205,
          -0.007542099055788783,
          -0.007533331391135074,
          -0.00743850967571982,
          -0.007376722439682616,
          -0.007375515038992054,
          -0.007533331391135074,
          -0.007542098966254141,
          -0.007550866541373205,
          -0.007375515038992054,
          -0.0075157967669514806,
          -0.007545605996301768,
          -0.007533331391135074,
          -0.007533331391587971,
          -0.007550866541373205,
          -0.007504794464844146,
          -0.007550849006222953,
          -0.007542098966254141,
          -0.007533331391135074,
          -0.007542098966254141,
          -0.007533331391135074,
          -0.007542098966254141,
          0.03382351282837696,
          -0.007533331391135074,
          -0.007542098966254141,
          -0.007544055086257645,
          -0.03850593552937622,
          -0.006674109029467419,
          -0.007550866541373205,
          -0.007524563816016001,
          -0.007375515038992054,
          -0.007542098966254141,
          -0.00730657108518179,
          -0.007539140670180506,
          -0.007538668071006261,
          -0.007546492028659472,
          -0.007550866541373205,
          -0.007375515038992054,
          -0.007549113026349384,
          -0.007550866541373205,
          -0.007544645307938253,
          -0.007533392919136581,
          -0.007537715179654279,
          -0.007533331391135074,
          -0.007546050764018795,
          -0.03848840037913822,
          -0.007542099055788783,
          -0.007529824361087458,
          -0.007524563816016001,
          -0.007542098966254141,
          -0.007375515038992054,
          -0.007549814432358915,
          -0.007410585339468269,
          -0.007550000000751637,
          -0.007533331391135074,
          -0.007550498303504199,
          -0.007287839287801453,
          -0.007513210092971622,
          -0.007533331391135074,
          -0.007548236268837476,
          -0.007224203815811479,
          -0.005797351517561651,
          -0.007524563816016001,
          -0.007515067758334851,
          -0.038436258665571,
          -0.00752025986520646,
          -0.007550026656459586,
          -0.07069266172764564,
          0.1719471424774145,
          -0.007546307402311282,
          -0.007550866541373205,
          -0.007533331394291426,
          -0.03850593552937622,
          -0.007550866541373205,
          -0.00755077024077954,
          -0.0074479553917738426,
          -0.007550849006222953,
          -0.007543852481277949,
          -0.006674109029467419,
          -0.007533331391135074,
          -0.006586287549182492,
          -0.0070248120342297484,
          -0.007542044630745224,
          -0.007543852481277949,
          -0.007548045364264154,
          -0.007549113026349384,
          -0.007529824361087458,
          -0.007547359511325563,
          -0.007533331391135074,
          -0.007463190790182636,
          -0.03850593552937622,
          -0.06328490320640111,
          -0.007542098966254141,
          -0.007550866541373205,
          -0.007545658601752464,
          -0.007545820693976691,
          -0.0075502138926737735,
          -0.007529031672637225,
          -0.007550305781173959,
          -0.007549561692954539,
          -0.005755267156990157,
          -0.007390224580976242,
          -0.007542555277206978,
          -0.0075280708460636675,
          -0.007526700912451304,
          -0.007549113026349384,
          -0.0075494672962170255,
          -0.007480585976254235,
          -0.007550866541372684,
          -0.007448726779193563,
          -0.0074858403221100284,
          -0.007542099055788783,
          -0.007550842184813247,
          -0.007395715532066365,
          -0.007550866541381967,
          -0.007375515038992054,
          -0.007544729238789862,
          -0.007550465182158223,
          -0.007550420192102373,
          -0.007533331391135074,
          -0.005797351517561651,
          -0.007375515038992054,
          -0.007375515038992054,
          -0.007550866541373205,
          -0.006937136283039153,
          -0.007542098966254141,
          -0.007550866541373205,
          -0.007375515038992054,
          -0.007550767747307505,
          -0.007375515038992054,
          -0.007418878695734984,
          -0.007533331391135074,
          -0.007550864560818491,
          -0.007537410022471035,
          -0.007537715178694628,
          -0.007530648555671393,
          -0.007550857326853939,
          -0.007375515038992054,
          -0.007550866541373205,
          -0.005797351517561651,
          -0.007533331391135074,
          -0.03846209810141916,
          -0.007545413109649161,
          -0.00755055517690531,
          -0.007540354039694606,
          -0.007375515038992054,
          -0.007549113026349384,
          -0.007539338232200657,
          -0.007546658105316065,
          -0.007550856799732274,
          -0.007375515038992054,
          -0.007445655639944514,
          -0.007544227654138382,
          -0.0075401157558249105,
          -0.007182628386372783,
          -0.0075455827810955245,
          -0.007542350773045268,
          -0.1310977348790704,
          -0.00754487914415776,
          -0.007329923648372941,
          -0.007540696154235104,
          -0.007542098966254141,
          -0.007375515038992054,
          -0.007550297022296279,
          -0.007375515038992054,
          -0.007550866541373205,
          -0.005797351517561651,
          -0.007375515038992054,
          -0.007375515038992054,
          -0.007533331391135074,
          -0.00741148844284757,
          -0.007544729238789862,
          -0.007375515041177824,
          -0.007534745627060775,
          -0.007375515038992054,
          -0.0075473682770206526,
          -0.007533331391135074,
          -0.007550608629889758,
          -0.007500786152293149,
          -0.007463190790182636,
          -0.007445655639944514,
          -0.007471958365301673,
          -0.007533331391135074,
          -0.007533309593011475,
          -0.007544322116439211,
          -0.007375515038992054,
          -0.007550866541373205,
          -0.007462398601193283,
          -0.038385627025011936,
          -0.0070248120342297484,
          -0.007504336157433014,
          -0.007540345451230345,
          -0.007375515038992054,
          -0.007544295184677185,
          -0.007522810300992216,
          -0.007295204213101614,
          -0.0072989120173404184,
          -0.007547359526055097,
          -0.007445655639944514,
          -0.007550866541373205,
          -0.007533331391135074,
          0.0011715184756625552,
          -0.007544945688709115,
          -0.007533331391135074,
          -0.00728959280282528,
          -0.00657765952587191,
          -0.007550866541373205,
          -0.007515796240896948,
          -0.007463190790182636,
          -0.007546601268827055,
          -0.0073949985392722205,
          -0.007533331391135074,
          -0.007480725940420746,
          -0.007549441458089548,
          -0.007550831471072738,
          -0.007463190790182636,
          -0.007537458697242494,
          -0.007550522414061543,
          -0.007550866541373205,
          -0.0075471841598231905,
          -0.007550691189870815,
          -0.007550866541373205,
          -0.007533331391135074,
          -0.007545605996301768,
          -0.007466697820230239,
          -0.007550866541373205,
          -0.007533331391135074,
          -0.007542279259671442,
          -0.00754231834875696,
          -0.007516848350437294,
          -0.007375515038992054,
          -0.007549113026349384,
          -0.007542098966254141,
          -0.03800966048649382,
          -0.007550865878625354,
          -0.007539881932639855,
          -0.007463190790182636,
          -0.03850593552937622,
          -0.007375515038992054,
          -0.007375515038992054,
          -0.007550866541373205,
          -0.0385049377450206,
          -0.0075309643829697915,
          -0.007428120489706403,
          -0.007550866541373205,
          -0.007375515038992054,
          -0.007380334172542673,
          -0.007542098966254141,
          -0.007533331391135074,
          -0.007545041364464115,
          -0.007533975772836035,
          -0.007550866541381967,
          -0.007375515038992054,
          -0.007533331391135074,
          0.0012179432720276038,
          -0.007547359511325563,
          -0.0075507819244720045,
          -0.007548411620339873,
          -0.0072209177959949205,
          -0.007550851553793253,
          -0.007533331391135074,
          -0.007550866541373205,
          -0.007375515038992054,
          -0.007546113423275852,
          -0.007375515038992054,
          0.03349907156613859,
          -0.007549901172835168,
          -0.007375515038992054,
          -0.007549972084711938,
          -0.007533331391135074,
          -0.00752754579347748,
          0.002391125281214103,
          -0.006909443807562955,
          -0.0070248120342297484,
          -0.007519084081566615,
          -0.007550866541373205,
          -0.03850593552937622,
          -0.007550866541373205,
          -0.007375515038992054,
          -0.007533331391135074,
          -0.007550866541373205,
          -0.007550866541373205,
          -0.005797351517561651,
          -0.007546165301550862,
          -0.007498261090658838,
          -0.007375515038992054,
          -0.007200163536610889,
          -0.007375515038992054,
          0.03382351282837696,
          -0.007542135586972921,
          -0.007550866541373205,
          -0.007529959337906403,
          -0.007375515038992054,
          -0.007545965057192736,
          -0.007550865691782333,
          -0.007550866541373205,
          -0.007550620705356867,
          -0.007550728060351835,
          -0.0075438525090867235,
          -0.007550866333504743,
          -0.007550553001281491,
          -0.007550841344012214,
          -0.007550419305616153,
          -0.0075508596164227774,
          -0.00755086002883573,
          -0.007550866541373205,
          -0.007533331391135074,
          -0.007537548705747307,
          -0.007550607338709207,
          -0.007550865664615695,
          -0.007375515038992054,
          -0.007549458025132089,
          -0.007550340486866061,
          -0.007463190790182636,
          -0.007549989782984481,
          -0.007534152636306753,
          -0.03213840118923646,
          -0.00754718189596515,
          -0.007533331391135074,
          -0.007182628386372783,
          -0.00754658283630356,
          -0.007550865659669433,
          -0.007550863098439782,
          -0.0070248120342297484,
          -0.007375515038992054,
          -0.007533331391135074,
          -0.007550550270916183,
          -0.00755046012855245,
          -0.007550852255596505,
          -0.007550843798606986,
          -0.007533331391135074,
          -0.007447141217872694,
          -0.0075507164445629315,
          -0.0074193542574843025,
          -0.007550866541373205,
          -0.007550866447471149,
          -0.007550865890525693,
          -0.00737726855401586,
          -0.007549911752344254,
          -0.007507028665777916,
          -0.007550866541373205,
          -0.007550866541373205,
          -0.007550866541373205,
          -0.007514042725873151,
          -0.007550866541373205,
          -0.007375515038992054,
          -0.007547359511325563,
          -0.007463190790182636,
          -0.007533331391135074,
          -0.007550866541373205,
          -0.007550728686422362,
          -0.0075502038118313115,
          -0.007550866509439991,
          -0.007550859378193956,
          -0.00755086619959622,
          -0.007550863326773607,
          -0.00751022389611346,
          -0.007550158069015102,
          -0.007550866541373205,
          -0.007550866541373205,
          -0.007550866541373205,
          -0.007550852441973096,
          -0.007550866541373205,
          -0.007550865671869582,
          -0.0075508663955663816,
          -0.007550866541373205,
          -0.007550691189870815,
          -0.007550865764556063,
          -0.007549092465164618,
          -0.00753670914404231,
          -0.007550866541373205,
          -0.007550176533211315,
          -0.007550866541373205,
          -0.0075486764228787796,
          -0.007200163536610889,
          -0.007550866530610857,
          -0.00754790805008623,
          -0.007463190790182636,
          -0.007549113072049517,
          -0.007533334042786487,
          -0.007550866541373205,
          -0.007550866541373205,
          -0.007549623075877158,
          -0.007549113026349384,
          -0.007534451493268915,
          -0.007550866015318693,
          -0.00754900266334879,
          -0.007375515038992054,
          -0.007550647354242154,
          -0.00754997257009988,
          -0.007550834771385049,
          -0.007550866541373205,
          -0.0075508656341070094,
          -0.007524563816016001,
          -0.00754753342975926,
          -0.007533332241616865,
          -0.007529068187713736,
          -0.007550761987496039,
          -0.007548043382167337,
          -0.007526321328707873,
          -0.007498261090658838,
          -0.007550818662327997,
          -0.007550865839967691,
          -0.007539714492458929,
          -0.007546906025664388,
          -0.007544641556771858,
          -0.007550866541373205,
          -0.0075508659276429515,
          -0.03850575669159043,
          -0.007515796240896948,
          -0.03850450151371088,
          -0.007550866541373205,
          -0.007549113026349384,
          -0.007547359511325563,
          -0.007550517579082809,
          -0.007550674344935572,
          -0.10053274080311041,
          -0.0075508352888022405,
          -0.007533331391135074,
          -0.00755086566463339,
          -0.007375515038992054,
          -0.007549722750493415,
          -0.007498261090658838,
          -0.007550866541373205,
          -0.007550866541373205,
          -0.007550428162617266,
          -0.007523689686840745,
          -0.007549113026349384,
          -0.007549730989652548,
          -0.007543852481277949,
          -0.007536648630058946,
          -0.007548276567880381,
          -0.007537168262815719,
          -0.007454422409330626,
          -0.007550831470897372,
          -0.007498261090658838,
          -0.007550866541373205,
          -0.007550498303218205,
          -0.007550340486866061,
          -0.00755086636602172,
          -0.0075354232764683,
          -0.007533331391135074,
          -0.007550866015318693,
          -0.007545605996301768,
          -0.00755085251325301,
          -0.00748273564255607,
          -0.007550866541373205,
          -0.007550859447523931,
          -0.007550866541381967,
          -0.00753281381711999,
          -0.005284237947094653,
          -0.007548937494527675,
          -0.007375515038992054,
          -0.007357982104821725,
          -0.007375515038992054,
          -0.007533331391135074,
          -0.007550866541373205,
          -0.005797351517561651,
          -0.007550839817244887,
          -0.007533331391135074,
          -0.007546968561499502,
          -0.007516805909884763,
          -0.007375647569657532,
          -0.007396557219277783,
          -0.007200163536610889,
          -0.007529723533973599,
          -0.007533383755066406,
          -0.007533331391135074,
          -0.03850593552937622,
          -0.0075508665254267315,
          -0.007550841592557961,
          -0.007548236268837476,
          -0.0075507497542209945,
          -0.0075508662432756226,
          -0.007478972425396915,
          -0.007547288531751662,
          -0.007550866509263269,
          -0.007533744477395137,
          -0.007548149847108023,
          -0.007545856498443005,
          -0.00738290589936912,
          -0.007525615914287211,
          -0.03841124571809041,
          -0.0073831114621896905,
          -0.007535074357354976,
          -0.007375515038992054,
          -0.0075507884586246245,
          -0.12621147158174664,
          -0.007542934119921199,
          -0.005797351517561651,
          -0.007542099055788783,
          -0.007550591752103016,
          -0.007533331391135074,
          -0.007549113026349384,
          -0.007550866211350211,
          -0.007548690358880432,
          -0.007533331391135074,
          -0.0074635093935542535,
          -0.0074456556407429845,
          -0.0075469912731712715,
          -0.00754663923841904,
          -0.007547605003428921,
          -0.007533331391135074,
          -0.0075499327552390584,
          -0.0075507013249397036,
          -0.007550412975947818,
          -0.0075499897838613005,
          -0.007533331391135074,
          -0.007375515038992054,
          -0.0075499897838613005,
          -0.00754209817901356,
          -0.00755076757017129,
          -0.007541794887252753,
          -0.007375515038992054,
          -0.0070248120342297484,
          -0.007549113026349384,
          -0.007549662207253758,
          -0.007542098966254141,
          -0.0074772189103731145,
          -0.00753391242898206,
          -0.007543307532682285,
          -0.007549113026349384,
          -0.007549113026349384,
          -0.007507204014474671,
          -0.0075505223458731015,
          -0.007547268008423505,
          -0.007542098966254141,
          -0.007535663542346705,
          -0.007545901829481783,
          -0.007533550580513055,
          -0.007550644970295705,
          -0.007533522353450453,
          -0.007495778242215887,
          -0.007533331391135074,
          -0.007539468693718419,
          -0.007533331391135074,
          -0.007542098966254141,
          -0.007533331391135074,
          -0.007548480704942805,
          -0.0070248120342297484,
          -0.007550866541373205,
          -0.0075508449765431624,
          -0.0075325514600191,
          -0.007549113026349384,
          -0.0074734364483871624,
          -0.007523564312452461,
          -0.007545357711462726,
          -0.007546557268520405,
          -0.007533331391135074,
          -0.007550765821466636,
          -0.007549113026366918,
          -0.007549868409528812,
          -0.007529824361087458,
          -0.007514042725873151,
          -0.007524833749209579,
          -0.007549113026349384,
          -0.03847963307260547,
          -0.007515796240896948,
          -0.0075506035141196266,
          -0.007410585339468269,
          -0.00754083352278041,
          -0.007550794312917511,
          -0.007541947670662537,
          -0.007536838421182719,
          -0.0075179004589255504,
          -0.007547725469911051,
          -0.0075112627049398,
          -0.007533373128750256,
          -0.007550428162617266,
          -0.007375515038992054,
          -0.007547359511325563,
          -0.007375515038992054,
          -0.006999983549712381,
          -0.007550175537917454,
          -0.007540027480562573,
          -0.007515796240896948,
          -0.007547980120734327,
          -0.007549571322939513,
          -0.007549113026349384,
          -0.007550865658268367,
          -0.007414600888872795,
          -0.007536514284324044,
          -0.007537364475689864,
          -0.00753543560916367,
          -0.007549365732445799,
          -0.007550866050393367,
          -0.0075506035141196266,
          -0.007550765582770275,
          -0.007533331391135074,
          -0.007498261090658838,
          -0.007547359511325563,
          -0.007550866328748606,
          -0.007515796240896948,
          -0.007545605996301768,
          -0.007549871602402113,
          -0.007543080934667503,
          -0.007463196927485211,
          -0.007463190790182636,
          -0.007550340486866061,
          -0.007550659772646359,
          -0.007549643410464993,
          -0.007182628386372783,
          -0.007515796240896948,
          -0.007550454907393696,
          -0.007550428167102309,
          -0.007352230208054676,
          -0.03833067319654076,
          -0.007550866541373205,
          0.07351618092175158,
          -0.03849940792176252,
          -0.0075504585310926485,
          -0.007550830279291435,
          -0.007533331570186838,
          -0.007532940320708304,
          -0.007523511707001746,
          -0.007550866541373205,
          -0.007550866541373205,
          -0.007547128990111653,
          -0.0075501529630627754,
          -0.007550849053013034,
          -0.007533331397573945,
          -0.0075457964944610646,
          -0.00752676423430797,
          -0.007375515038992054,
          -0.007550585978969383,
          -0.007547920636133201,
          -0.007550171982422342,
          -0.007530335608012429,
          -0.007549113026349384,
          -0.007532805336627943,
          -0.007550866541373205,
          -0.007550866541373205,
          -0.007550165135363648,
          -0.007549474170414291,
          -0.007375515038992054,
          -0.0075508662976487475,
          -0.007550748955493518,
          -0.007550849006222953,
          -0.007524563816016001,
          -0.007498050495468398,
          -0.03850561785100732,
          -0.007463190790182636,
          -0.007549113026349384,
          -0.00754297571481344,
          -0.07527083819102444,
          -0.007550862847325404,
          -0.0385050329415493,
          -0.007544959259012497,
          -0.007533331391135074,
          -0.007547767143270605,
          -0.007506876440918713,
          -0.0075499897838613005,
          -0.007500749686166318,
          -0.03849511795277732,
          -0.038505014607257824,
          -0.007533331391135074,
          -0.038432463383665814,
          -0.007183115148698262,
          -0.005817426640975109,
          -0.007550864787858162,
          -0.07527951085447855,
          -0.00755077886472675,
          -0.07526435988478088,
          -0.12333341012892145,
          -0.007549712208910174,
          -0.007549189183315956,
          -0.007549113026349384,
          -0.00754980160992406,
          -0.00754814413144266,
          -0.007550801794336807,
          -0.0743155965815484,
          -0.007550866541381967,
          -0.007548041117676107,
          -0.007375515038992054,
          -0.03850418201435232,
          -0.007550659825287195,
          -0.007548236268837476,
          -0.038503476305247634,
          -0.0044362830890202955,
          -0.007549113026349384,
          -0.005797425424545323,
          -0.007495034622997499,
          -0.007550691189870815,
          -0.007545255293297017,
          -0.007550857421853468,
          -0.1458925289934939,
          -0.007533331391135074,
          -0.007550758191675844,
          -0.007375468482415805,
          -0.007547359511325563,
          -0.0075506694232316245,
          -0.007550832281773381,
          -0.00755079362274854,
          -0.10052429296387058,
          -0.007530385485895079,
          -0.0075508039546425855,
          -0.007550863929041286,
          -0.007550866506302921,
          -0.00755037861201093,
          -0.007550866331510788,
          -0.007550866541373205,
          -0.007548328816939972,
          -0.007541845170595833,
          -0.007549770587768872,
          -0.007243231742706043,
          -0.07527294379853408,
          -0.11771354007660725,
          -0.007549385217508628,
          -0.007549123935159192,
          -0.007548987775278756,
          -0.03850360487545119,
          -0.007407091382381305,
          -0.04819807797810864,
          0.2402880232439028,
          0.10294760004990687,
          -0.07434672282433483,
          -0.0910535206937407,
          -0.09104937080546632,
          -0.007550851083313179,
          -0.007549113026349384,
          -0.038504825854965834,
          -0.04890897877591439,
          -0.07527781032997563,
          -0.03850240989273528,
          -0.03848841792314325,
          0.02609779419330098,
          0.06537491095520546,
          -0.07440946025698404,
          0.13622004778162408,
          -0.005797512477738273,
          -0.00754190741080638,
          -0.007550866283606461
         ]
        },
        {
         "customdata": [
          [
           "SPoS"
          ],
          [
           "Leased POS"
          ]
         ],
         "hovertemplate": "<b>%{hovertext}</b><br><br>Class=%{marker.color}<br>PC 1=%{x}<br>PC 2=%{y}<br>PC 3=%{z}<br>Algorithm=%{customdata[0]}<extra></extra>",
         "hovertext": [
          "V Systems",
          "Waves"
         ],
         "legendgroup": "2",
         "marker": {
          "color": [
           2,
           2
          ],
          "coloraxis": "coloraxis",
          "symbol": "square"
         },
         "mode": "markers",
         "name": "2",
         "scene": "scene",
         "showlegend": true,
         "type": "scatter3d",
         "x": [
          4.227630535136379,
          4.160023642681826
         ],
         "y": [
          29.66512865262847,
          15.693988443174614
         ],
         "z": [
          -4.1322574556900635,
          -9.673647005701694
         ]
        },
        {
         "customdata": [
          [
           "vBlake"
          ],
          [
           "ECC 256K1"
          ],
          [
           "SHA3"
          ]
         ],
         "hovertemplate": "<b>%{hovertext}</b><br><br>Class=%{marker.color}<br>PC 1=%{x}<br>PC 2=%{y}<br>PC 3=%{z}<br>Algorithm=%{customdata[0]}<extra></extra>",
         "hovertext": [
          "VeriBlock",
          "Acute Angle Cloud",
          "Nexus"
         ],
         "legendgroup": "3",
         "marker": {
          "color": [
           3,
           3,
           3
          ],
          "coloraxis": "coloraxis",
          "symbol": "x"
         },
         "mode": "markers",
         "name": "3",
         "scene": "scene",
         "showlegend": true,
         "type": "scatter3d",
         "x": [
          4.205632395107715,
          4.1910733930605355,
          4.2153056357885
         ],
         "y": [
          -3.5890678489868026,
          -3.951391836133468,
          13.840569167965592
         ],
         "z": [
          14.872340617383017,
          35.540211398609856,
          18.42914685424252
         ]
        }
       ],
       "layout": {
        "coloraxis": {
         "colorbar": {
          "title": {
           "text": "Class"
          }
         },
         "colorscale": [
          [
           0,
           "#0d0887"
          ],
          [
           0.1111111111111111,
           "#46039f"
          ],
          [
           0.2222222222222222,
           "#7201a8"
          ],
          [
           0.3333333333333333,
           "#9c179e"
          ],
          [
           0.4444444444444444,
           "#bd3786"
          ],
          [
           0.5555555555555556,
           "#d8576b"
          ],
          [
           0.6666666666666666,
           "#ed7953"
          ],
          [
           0.7777777777777778,
           "#fb9f3a"
          ],
          [
           0.8888888888888888,
           "#fdca26"
          ],
          [
           1,
           "#f0f921"
          ]
         ]
        },
        "legend": {
         "title": {
          "text": "Class"
         },
         "tracegroupgap": 0,
         "x": 0,
         "y": 1
        },
        "margin": {
         "t": 60
        },
        "scene": {
         "domain": {
          "x": [
           0,
           1
          ],
          "y": [
           0,
           1
          ]
         },
         "xaxis": {
          "title": {
           "text": "PC 1"
          }
         },
         "yaxis": {
          "title": {
           "text": "PC 2"
          }
         },
         "zaxis": {
          "title": {
           "text": "PC 3"
          }
         }
        },
        "template": {
         "data": {
          "bar": [
           {
            "error_x": {
             "color": "#2a3f5f"
            },
            "error_y": {
             "color": "#2a3f5f"
            },
            "marker": {
             "line": {
              "color": "#E5ECF6",
              "width": 0.5
             }
            },
            "type": "bar"
           }
          ],
          "barpolar": [
           {
            "marker": {
             "line": {
              "color": "#E5ECF6",
              "width": 0.5
             }
            },
            "type": "barpolar"
           }
          ],
          "carpet": [
           {
            "aaxis": {
             "endlinecolor": "#2a3f5f",
             "gridcolor": "white",
             "linecolor": "white",
             "minorgridcolor": "white",
             "startlinecolor": "#2a3f5f"
            },
            "baxis": {
             "endlinecolor": "#2a3f5f",
             "gridcolor": "white",
             "linecolor": "white",
             "minorgridcolor": "white",
             "startlinecolor": "#2a3f5f"
            },
            "type": "carpet"
           }
          ],
          "choropleth": [
           {
            "colorbar": {
             "outlinewidth": 0,
             "ticks": ""
            },
            "type": "choropleth"
           }
          ],
          "contour": [
           {
            "colorbar": {
             "outlinewidth": 0,
             "ticks": ""
            },
            "colorscale": [
             [
              0,
              "#0d0887"
             ],
             [
              0.1111111111111111,
              "#46039f"
             ],
             [
              0.2222222222222222,
              "#7201a8"
             ],
             [
              0.3333333333333333,
              "#9c179e"
             ],
             [
              0.4444444444444444,
              "#bd3786"
             ],
             [
              0.5555555555555556,
              "#d8576b"
             ],
             [
              0.6666666666666666,
              "#ed7953"
             ],
             [
              0.7777777777777778,
              "#fb9f3a"
             ],
             [
              0.8888888888888888,
              "#fdca26"
             ],
             [
              1,
              "#f0f921"
             ]
            ],
            "type": "contour"
           }
          ],
          "contourcarpet": [
           {
            "colorbar": {
             "outlinewidth": 0,
             "ticks": ""
            },
            "type": "contourcarpet"
           }
          ],
          "heatmap": [
           {
            "colorbar": {
             "outlinewidth": 0,
             "ticks": ""
            },
            "colorscale": [
             [
              0,
              "#0d0887"
             ],
             [
              0.1111111111111111,
              "#46039f"
             ],
             [
              0.2222222222222222,
              "#7201a8"
             ],
             [
              0.3333333333333333,
              "#9c179e"
             ],
             [
              0.4444444444444444,
              "#bd3786"
             ],
             [
              0.5555555555555556,
              "#d8576b"
             ],
             [
              0.6666666666666666,
              "#ed7953"
             ],
             [
              0.7777777777777778,
              "#fb9f3a"
             ],
             [
              0.8888888888888888,
              "#fdca26"
             ],
             [
              1,
              "#f0f921"
             ]
            ],
            "type": "heatmap"
           }
          ],
          "heatmapgl": [
           {
            "colorbar": {
             "outlinewidth": 0,
             "ticks": ""
            },
            "colorscale": [
             [
              0,
              "#0d0887"
             ],
             [
              0.1111111111111111,
              "#46039f"
             ],
             [
              0.2222222222222222,
              "#7201a8"
             ],
             [
              0.3333333333333333,
              "#9c179e"
             ],
             [
              0.4444444444444444,
              "#bd3786"
             ],
             [
              0.5555555555555556,
              "#d8576b"
             ],
             [
              0.6666666666666666,
              "#ed7953"
             ],
             [
              0.7777777777777778,
              "#fb9f3a"
             ],
             [
              0.8888888888888888,
              "#fdca26"
             ],
             [
              1,
              "#f0f921"
             ]
            ],
            "type": "heatmapgl"
           }
          ],
          "histogram": [
           {
            "marker": {
             "colorbar": {
              "outlinewidth": 0,
              "ticks": ""
             }
            },
            "type": "histogram"
           }
          ],
          "histogram2d": [
           {
            "colorbar": {
             "outlinewidth": 0,
             "ticks": ""
            },
            "colorscale": [
             [
              0,
              "#0d0887"
             ],
             [
              0.1111111111111111,
              "#46039f"
             ],
             [
              0.2222222222222222,
              "#7201a8"
             ],
             [
              0.3333333333333333,
              "#9c179e"
             ],
             [
              0.4444444444444444,
              "#bd3786"
             ],
             [
              0.5555555555555556,
              "#d8576b"
             ],
             [
              0.6666666666666666,
              "#ed7953"
             ],
             [
              0.7777777777777778,
              "#fb9f3a"
             ],
             [
              0.8888888888888888,
              "#fdca26"
             ],
             [
              1,
              "#f0f921"
             ]
            ],
            "type": "histogram2d"
           }
          ],
          "histogram2dcontour": [
           {
            "colorbar": {
             "outlinewidth": 0,
             "ticks": ""
            },
            "colorscale": [
             [
              0,
              "#0d0887"
             ],
             [
              0.1111111111111111,
              "#46039f"
             ],
             [
              0.2222222222222222,
              "#7201a8"
             ],
             [
              0.3333333333333333,
              "#9c179e"
             ],
             [
              0.4444444444444444,
              "#bd3786"
             ],
             [
              0.5555555555555556,
              "#d8576b"
             ],
             [
              0.6666666666666666,
              "#ed7953"
             ],
             [
              0.7777777777777778,
              "#fb9f3a"
             ],
             [
              0.8888888888888888,
              "#fdca26"
             ],
             [
              1,
              "#f0f921"
             ]
            ],
            "type": "histogram2dcontour"
           }
          ],
          "mesh3d": [
           {
            "colorbar": {
             "outlinewidth": 0,
             "ticks": ""
            },
            "type": "mesh3d"
           }
          ],
          "parcoords": [
           {
            "line": {
             "colorbar": {
              "outlinewidth": 0,
              "ticks": ""
             }
            },
            "type": "parcoords"
           }
          ],
          "pie": [
           {
            "automargin": true,
            "type": "pie"
           }
          ],
          "scatter": [
           {
            "marker": {
             "colorbar": {
              "outlinewidth": 0,
              "ticks": ""
             }
            },
            "type": "scatter"
           }
          ],
          "scatter3d": [
           {
            "line": {
             "colorbar": {
              "outlinewidth": 0,
              "ticks": ""
             }
            },
            "marker": {
             "colorbar": {
              "outlinewidth": 0,
              "ticks": ""
             }
            },
            "type": "scatter3d"
           }
          ],
          "scattercarpet": [
           {
            "marker": {
             "colorbar": {
              "outlinewidth": 0,
              "ticks": ""
             }
            },
            "type": "scattercarpet"
           }
          ],
          "scattergeo": [
           {
            "marker": {
             "colorbar": {
              "outlinewidth": 0,
              "ticks": ""
             }
            },
            "type": "scattergeo"
           }
          ],
          "scattergl": [
           {
            "marker": {
             "colorbar": {
              "outlinewidth": 0,
              "ticks": ""
             }
            },
            "type": "scattergl"
           }
          ],
          "scattermapbox": [
           {
            "marker": {
             "colorbar": {
              "outlinewidth": 0,
              "ticks": ""
             }
            },
            "type": "scattermapbox"
           }
          ],
          "scatterpolar": [
           {
            "marker": {
             "colorbar": {
              "outlinewidth": 0,
              "ticks": ""
             }
            },
            "type": "scatterpolar"
           }
          ],
          "scatterpolargl": [
           {
            "marker": {
             "colorbar": {
              "outlinewidth": 0,
              "ticks": ""
             }
            },
            "type": "scatterpolargl"
           }
          ],
          "scatterternary": [
           {
            "marker": {
             "colorbar": {
              "outlinewidth": 0,
              "ticks": ""
             }
            },
            "type": "scatterternary"
           }
          ],
          "surface": [
           {
            "colorbar": {
             "outlinewidth": 0,
             "ticks": ""
            },
            "colorscale": [
             [
              0,
              "#0d0887"
             ],
             [
              0.1111111111111111,
              "#46039f"
             ],
             [
              0.2222222222222222,
              "#7201a8"
             ],
             [
              0.3333333333333333,
              "#9c179e"
             ],
             [
              0.4444444444444444,
              "#bd3786"
             ],
             [
              0.5555555555555556,
              "#d8576b"
             ],
             [
              0.6666666666666666,
              "#ed7953"
             ],
             [
              0.7777777777777778,
              "#fb9f3a"
             ],
             [
              0.8888888888888888,
              "#fdca26"
             ],
             [
              1,
              "#f0f921"
             ]
            ],
            "type": "surface"
           }
          ],
          "table": [
           {
            "cells": {
             "fill": {
              "color": "#EBF0F8"
             },
             "line": {
              "color": "white"
             }
            },
            "header": {
             "fill": {
              "color": "#C8D4E3"
             },
             "line": {
              "color": "white"
             }
            },
            "type": "table"
           }
          ]
         },
         "layout": {
          "annotationdefaults": {
           "arrowcolor": "#2a3f5f",
           "arrowhead": 0,
           "arrowwidth": 1
          },
          "autotypenumbers": "strict",
          "coloraxis": {
           "colorbar": {
            "outlinewidth": 0,
            "ticks": ""
           }
          },
          "colorscale": {
           "diverging": [
            [
             0,
             "#8e0152"
            ],
            [
             0.1,
             "#c51b7d"
            ],
            [
             0.2,
             "#de77ae"
            ],
            [
             0.3,
             "#f1b6da"
            ],
            [
             0.4,
             "#fde0ef"
            ],
            [
             0.5,
             "#f7f7f7"
            ],
            [
             0.6,
             "#e6f5d0"
            ],
            [
             0.7,
             "#b8e186"
            ],
            [
             0.8,
             "#7fbc41"
            ],
            [
             0.9,
             "#4d9221"
            ],
            [
             1,
             "#276419"
            ]
           ],
           "sequential": [
            [
             0,
             "#0d0887"
            ],
            [
             0.1111111111111111,
             "#46039f"
            ],
            [
             0.2222222222222222,
             "#7201a8"
            ],
            [
             0.3333333333333333,
             "#9c179e"
            ],
            [
             0.4444444444444444,
             "#bd3786"
            ],
            [
             0.5555555555555556,
             "#d8576b"
            ],
            [
             0.6666666666666666,
             "#ed7953"
            ],
            [
             0.7777777777777778,
             "#fb9f3a"
            ],
            [
             0.8888888888888888,
             "#fdca26"
            ],
            [
             1,
             "#f0f921"
            ]
           ],
           "sequentialminus": [
            [
             0,
             "#0d0887"
            ],
            [
             0.1111111111111111,
             "#46039f"
            ],
            [
             0.2222222222222222,
             "#7201a8"
            ],
            [
             0.3333333333333333,
             "#9c179e"
            ],
            [
             0.4444444444444444,
             "#bd3786"
            ],
            [
             0.5555555555555556,
             "#d8576b"
            ],
            [
             0.6666666666666666,
             "#ed7953"
            ],
            [
             0.7777777777777778,
             "#fb9f3a"
            ],
            [
             0.8888888888888888,
             "#fdca26"
            ],
            [
             1,
             "#f0f921"
            ]
           ]
          },
          "colorway": [
           "#636efa",
           "#EF553B",
           "#00cc96",
           "#ab63fa",
           "#FFA15A",
           "#19d3f3",
           "#FF6692",
           "#B6E880",
           "#FF97FF",
           "#FECB52"
          ],
          "font": {
           "color": "#2a3f5f"
          },
          "geo": {
           "bgcolor": "white",
           "lakecolor": "white",
           "landcolor": "#E5ECF6",
           "showlakes": true,
           "showland": true,
           "subunitcolor": "white"
          },
          "hoverlabel": {
           "align": "left"
          },
          "hovermode": "closest",
          "mapbox": {
           "style": "light"
          },
          "paper_bgcolor": "white",
          "plot_bgcolor": "#E5ECF6",
          "polar": {
           "angularaxis": {
            "gridcolor": "white",
            "linecolor": "white",
            "ticks": ""
           },
           "bgcolor": "#E5ECF6",
           "radialaxis": {
            "gridcolor": "white",
            "linecolor": "white",
            "ticks": ""
           }
          },
          "scene": {
           "xaxis": {
            "backgroundcolor": "#E5ECF6",
            "gridcolor": "white",
            "gridwidth": 2,
            "linecolor": "white",
            "showbackground": true,
            "ticks": "",
            "zerolinecolor": "white"
           },
           "yaxis": {
            "backgroundcolor": "#E5ECF6",
            "gridcolor": "white",
            "gridwidth": 2,
            "linecolor": "white",
            "showbackground": true,
            "ticks": "",
            "zerolinecolor": "white"
           },
           "zaxis": {
            "backgroundcolor": "#E5ECF6",
            "gridcolor": "white",
            "gridwidth": 2,
            "linecolor": "white",
            "showbackground": true,
            "ticks": "",
            "zerolinecolor": "white"
           }
          },
          "shapedefaults": {
           "line": {
            "color": "#2a3f5f"
           }
          },
          "ternary": {
           "aaxis": {
            "gridcolor": "white",
            "linecolor": "white",
            "ticks": ""
           },
           "baxis": {
            "gridcolor": "white",
            "linecolor": "white",
            "ticks": ""
           },
           "bgcolor": "#E5ECF6",
           "caxis": {
            "gridcolor": "white",
            "linecolor": "white",
            "ticks": ""
           }
          },
          "title": {
           "x": 0.05
          },
          "xaxis": {
           "automargin": true,
           "gridcolor": "white",
           "linecolor": "white",
           "ticks": "",
           "title": {
            "standoff": 15
           },
           "zerolinecolor": "white",
           "zerolinewidth": 2
          },
          "yaxis": {
           "automargin": true,
           "gridcolor": "white",
           "linecolor": "white",
           "ticks": "",
           "title": {
            "standoff": 15
           },
           "zerolinecolor": "white",
           "zerolinewidth": 2
          }
         }
        },
        "width": 1000
       }
      }
     },
     "metadata": {}
    }
   ],
   "source": [
    "# Create a 3D-Scatter with the PCA data and the clusters\n",
    "fig = px.scatter_3d(\n",
    "    cryptocluster_df,\n",
    "    x=\"PC 1\",\n",
    "    y=\"PC 2\",\n",
    "    z=\"PC 3\",\n",
    "    color=\"Class\",\n",
    "    symbol=\"Class\",\n",
    "    width=1000,\n",
    "    hover_name = \"CoinName\",\n",
    "    hover_data = [\"Algorithm\"],\n",
    ")\n",
    "fig.update_layout(legend=dict(x=0, y=1))\n",
    "fig.show()\n"
   ]
  },
  {
   "cell_type": "markdown",
   "metadata": {},
   "source": [
    "#### Table of Tradable Cryptocurrencies"
   ]
  },
  {
   "cell_type": "code",
   "execution_count": 237,
   "metadata": {},
   "outputs": [
    {
     "output_type": "display_data",
     "data": {},
     "metadata": {}
    },
    {
     "output_type": "execute_result",
     "data": {
      "text/html": "<div id='1260'>\n\n\n\n\n\n  <div class=\"bk-root\" id=\"437ac32b-86ce-4a83-9216-6ff5ae4b7477\" data-root-id=\"1260\"></div>\n</div>\n<script type=\"application/javascript\">(function(root) {\n  function embed_document(root) {\n    var docs_json = {\"fbc55161-fb06-480d-8802-e76c297f58dc\":{\"roots\":{\"references\":[{\"attributes\":{},\"id\":\"1270\",\"type\":\"StringEditor\"},{\"attributes\":{\"data\":{\"Algorithm\":[\"Scrypt\",\"N/A\",\"X11\",\"Scrypt\",\"SHA-256\",\"SHA-256\",\"N/A\",\"X13\",\"X11\",\"N/A\",\"SHA-256\",\"Multiple\",\"Scrypt\",\"Scrypt\",\"Scrypt\",\"SHA-256\",\"N/A\",\"PoS\",\"Scrypt\",\"X13\",\"Scrypt\",\"Scrypt\",\"SHA-256\",\"Scrypt\",\"X13\",\"N/A\",\"PoS\",\"SHA-256\",\"SHA-256\",\"N/A\",\"Scrypt\",\"N/A\",\"Scrypt\",\"N/A\",\"N/A\",\"N/A\",\"N/A\",\"CryptoNight\",\"PoS\",\"N/A\",\"N/A\",\"PoS\",\"N/A\",\"X13\",\"X11\",\"N/A\",\"X11\",\"Scrypt\",\"N/A\",\"N/A\",\"N/A\",\"N/A\",\"SHA-256\",\"N/A\",\"N/A\",\"Argon2d\",\"N/A\",\"N/A\",\"N/A\",\"N/A\",\"N/A\",\"N/A\",\"N/A\",\"N/A\",\"N/A\",\"N/A\",\"N/A\",\"N/A\",\"N/A\",\"N/A\",\"N/A\",\"CryptoNight\",\"N/A\",\"N/A\",\"N/A\",\"N/A\",\"N/A\",\"PoS\",\"N/A\",\"N/A\",\"N/A\",\"N/A\",\"N/A\",\"N/A\",\"N/A\",\"N/A\",\"N/A\",\"N/A\",\"Dagger\",\"N/A\",\"N/A\",\"N/A\",\"N/A\",\"N/A\",\"N/A\",\"N/A\",\"N/A\",\"Equihash\",\"N/A\",\"N/A\",\"N/A\",\"N/A\",\"N/A\",\"N/A\",\"N/A\",\"N/A\",\"NEP-5\",\"N/A\",\"N/A\",\"N/A\",\"N/A\",\"N/A\",\"N/A\",\"N/A\",\"N/A\",\"N/A\",\"X11\",\"N/A\",\"N/A\",\"N/A\",\"N/A\",\"N/A\",\"N/A\",\"N/A\",\"N/A\",\"SHA-256\",\"N/A\",\"N/A\",\"N/A\",\"N/A\",\"N/A\",\"N/A\",\"NEP-5\",\"SHA-256\",\"N/A\",\"N/A\",\"N/A\",\"N/A\",\"N/A\",\"N/A\",\"N/A\",\"N/A\",\"N/A\",\"N/A\",\"N/A\",\"SHA-256\",\"N/A\",\"N/A\",\"N/A\",\"N/A\",\"N/A\",\"N/A\",\"N/A\",\"N/A\",\"N/A\",\"N/A\",\"N/A\",\"N/A\",\"N/A\",\"N/A\",\"N/A\",\"N/A\",\"N/A\",\"N/A\",\"N/A\",\"POS 3.0\",\"N/A\",\"N/A\",\"N/A\",\"NeoScrypt\",\"N/A\",\"Equihash\",\"N/A\",\"N/A\",\"N/A\",\"N/A\",\"N/A\",\"N/A\",\"N/A\",\"N/A\",\"N/A\",\"N/A\",\"N/A\",\"N/A\",\"N/A\",\"N/A\",\"Ethash\",\"N/A\",\"N/A\",\"N/A\",\"N/A\",\"N/A\",\"N/A\",\"N/A\",\"IMesh\",\"N/A\",\"N/A\",\"N/A\",\"N/A\",\"N/A\",\"N/A\",\"Equihash\",\"N/A\",\"Semux BFT consensus\",\"Scrypt\",\"N/A\",\"CryptoNight-Heavy\",\"N/A\",\"CryptoNight\",\"N/A\",\"CryptoNight\",\"N/A\",\"N/A\",\"N/A\",\"N/A\",\"N/A\",\"N/A\",\"N/A\",\"N/A\",\"N/A\",\"N/A\",\"N/A\",\"N/A\",\"N/A\",\"N/A\",\"N/A\",\"N/A\",\"N/A\",\"N/A\",\"N/A\",\"N/A\",\"N/A\",\"N/A\",\"N/A\",\"N/A\",\"Quark\",\"Quark\",\"X11\",\"N/A\",\"Lyra2REv2\",\"N/A\",\"N/A\",\"N/A\",\"N/A\",\"N/A\",\"N/A\",\"N/A\",\"N/A\",\"N/A\",\"N/A\",\"N/A\",\"N/A\",\"N/A\",\"N/A\",\"N/A\",\"N/A\",\"N/A\",\"N/A\",\"N/A\",\"N/A\",\"SHA-512\",\"N/A\",\"N/A\",\"N/A\",\"N/A\",\"N/A\",\"N/A\",\"N/A\",\"N/A\",\"N/A\",\"N/A\",\"N/A\",\"N/A\",\"N/A\",\"N/A\",\"N/A\",\"N/A\",\"N/A\",\"N/A\",\"N/A\",\"N/A\",\"Lyra2Z\",\"N/A\",\"Ethash\",\"X13\",\"N/A\",\"N/A\",\"N/A\",\"N/A\",\"N/A\",\"N/A\",\"N/A\",\"N/A\",\"N/A\",\"SHA-256\",\"N/A\",\"N/A\",\"N/A\",\"N/A\",\"N/A\",\"Equihash\",\"N/A\",\"N/A\",\"N/A\",\"N/A\",\"N/A\",\"N/A\",\"N/A\",\"N/A\",\"N/A\",\"N/A\",\"N/A\",\"SPoS\",\"N/A\",\"N/A\",\"N/A\",\"N/A\",\"N/A\",\"N/A\",\"N/A\",\"N/A\",\"N/A\",\"N/A\",\"N/A\",\"N/A\",\"N/A\",\"Equihash1927\",\"N/A\",\"N/A\",\"N/A\",\"N/A\",\"N/A\",\"N/A\",\"N/A\",\"BEP-2\",\"N/A\",\"N/A\",\"Quark\",\"N/A\",\"N/A\",\"vBlake\",\"N/A\",\"N/A\",\"N/A\",\"N/A\",\"N/A\",\"N/A\",\"N/A\",\"N/A\",\"N/A\",\"N/A\",\"N/A\",\"N/A\",\"N/A\",\"N/A\",\"N/A\",\"N/A\",\"N/A\",\"N/A\",\"N/A\",\"N/A\",\"N/A\",\"N/A\",\"N/A\",\"N/A\",\"N/A\",\"N/A\",\"N/A\",\"N/A\",\"N/A\",\"X13\",\"N/A\",\"N/A\",\"N/A\",\"N/A\",\"N/A\",\"N/A\",\"N/A\",\"N/A\",\"N/A\",\"N/A\",\"N/A\",\"N/A\",\"N/A\",\"N/A\",\"N/A\",\"N/A\",\"N/A\",\"Ethash\",\"SHA-256\",\"N/A\",\"N/A\",\"N/A\",\"N/A\",\"CryptoNight\",\"N/A\",\"N/A\",\"N/A\",\"N/A\",\"N/A\",\"N/A\",\"N/A\",\"N/A\",\"N/A\",\"N/A\",\"N/A\",\"N/A\",\"N/A\",\"N/A\",\"N/A\",\"N/A\",\"N/A\",\"N/A\",\"N/A\",\"N/A\",\"N/A\",\"N/A\",\"N/A\",\"N/A\",\"N/A\",\"N/A\",\"N/A\",\"N/A\",\"N/A\",\"N/A\",\"N/A\",\"Eaglesong\",\"N/A\",\"N/A\",\"N/A\",\"N/A\",\"N/A\",\"N/A\",\"N/A\",\"N/A\",\"N/A\",\"N/A\",\"N/A\",\"N/A\",\"N/A\",\"N/A\",\"N/A\",\"N/A\",\"N/A\",\"N/A\",\"N/A\",\"N/A\",\"N/A\",\"N/A\",\"N/A\",\"NEP-5\",\"N/A\",\"N/A\",\"N/A\",\"N/A\",\"N/A\",\"CryptoNote\",\"ProgPowZ\",\"N/A\",\"N/A\",\"SHA-256\",\"N/A\",\"N/A\",\"N/A\",\"N/A\",\"N/A\",\"N/A\",\"N/A\",\"N/A\",\"N/A\",\"N/A\",\"N/A\",\"N/A\",\"N/A\",\"N/A\",\"N/A\",\"NeoScrypt\",\"N/A\",\"N/A\",\"N/A\",\"Blake2B + SHA3\",\"N/A\",\"N/A\",\"N/A\",\"N/A\",\"N/A\",\"N/A\",\"N/A\",\"N/A\",\"N/A\",\"N/A\",\"N/A\",\"N/A\",\"N/A\",\"N/A\",\"N/A\",\"N/A\",\"N/A\",\"N/A\",\"N/A\",\"N/A\",\"N/A\",\"N/A\",\"N/A\",\"N/A\",\"N/A\",\"N/A\",\"N/A\",\"N/A\",\"N/A\",\"N/A\",\"N/A\",\"N/A\",\"N/A\",\"N/A\",\"N/A\",\"N/A\",\"N/A\",\"N/A\",\"N/A\",\"C31\",\"N/A\",\"N/A\",\"N/A\",\"N/A\",\"N/A\",\"N/A\",\"N/A\",\"N/A\",\"N/A\",\"N/A\",\"N/A\",\"N/A\",\"N/A\",\"N/A\",\"N/A\",\"N/A\",\"SHA-256\",\"N/A\",\"N/A\",\"N/A\",\"N/A\",\"N/A\",\"N/A\",\"N/A\",\"N/A\",\"N/A\",\"N/A\",\"N/A\",\"N/A\",\"N/A\",\"N/A\",\"N/A\",\"N/A\",\"N/A\",\"N/A\",\"N/A\",\"N/A\",\"N/A\",\"N/A\",\"N/A\",\"N/A\",\"N/A\",\"N/A\",\"N/A\",\"N/A\",\"N/A\",\"N/A\",\"N/A\",\"N/A\",\"N/A\",\"N/A\",\"N/A\",\"N/A\",\"N/A\",\"N/A\",\"N/A\",\"N/A\",\"N/A\",\"N/A\",\"N/A\",\"N/A\",\"N/A\",\"N/A\",\"N/A\",\"N/A\",\"N/A\",\"N/A\",\"N/A\",\"N/A\",\"N/A\",\"N/A\",\"N/A\",\"N/A\",\"N/A\",\"N/A\",\"N/A\",\"N/A\",\"N/A\",\"N/A\",\"N/A\",\"N/A\",\"N/A\",\"N/A\",\"N/A\",\"N/A\",\"N/A\",\"N/A\",\"N/A\",\"X16R\",\"N/A\",\"N/A\",\"N/A\",\"N/A\",\"N/A\",\"N/A\",\"N/A\",\"N/A\",\"N/A\",\"N/A\",\"N/A\",\"N/A\",\"N/A\",\"N/A\",\"N/A\",\"N/A\",\"N/A\",\"N/A\",\"N/A\",\"N/A\",\"N/A\",\"N/A\",\"N/A\",\"N/A\",\"N/A\",\"N/A\",\"N/A\",\"N/A\",\"N/A\",\"N/A\",\"N/A\",\"Scrypt\",\"N/A\",\"N/A\",\"N/A\",\"N/A\",\"N/A\",\"N/A\",\"N/A\",\"N/A\",\"N/A\",\"N/A\",\"N/A\",\"N/A\",\"N/A\",\"N/A\",\"N/A\",\"N/A\",\"N/A\",\"N/A\",\"N/A\",\"Scrypt\",\"N/A\",\"N/A\",\"N/A\",\"N/A\",\"N/A\",\"N/A\",\"N/A\",\"N/A\",\"N/A\",\"N/A\",\"N/A\",\"N/A\",\"N/A\",\"N/A\",\"N/A\",\"N/A\",\"N/A\",\"N/A\",\"N/A\",\"N/A\",\"N/A\",\"N/A\",\"N/A\",\"N/A\",\"N/A\",\"N/A\",\"N/A\",\"N/A\",\"N/A\",\"ECC 256K1\",\"N/A\",\"N/A\",\"N/A\",\"N/A\",\"N/A\",\"N/A\",\"N/A\",\"N/A\",\"N/A\",\"N/A\",\"N/A\",\"N/A\",\"N/A\",\"N/A\",\"N/A\",\"N/A\",\"N/A\",\"N/A\",\"N/A\",\"N/A\",\"N/A\",\"N/A\",\"N/A\",\"N/A\",\"N/A\",\"N/A\",\"N/A\",\"N/A\",\"N/A\",\"N/A\",\"N/A\",\"N/A\",\"N/A\",\"N/A\",\"N/A\",\"N/A\",\"N/A\",\"N/A\",\"N/A\",\"N/A\",\"N/A\",\"N/A\",\"N/A\",\"N/A\",\"N/A\",\"N/A\",\"N/A\",\"N/A\",\"N/A\",\"N/A\",\"N/A\",\"N/A\",\"N/A\",\"N/A\",\"N/A\",\"N/A\",\"N/A\",\"N/A\",\"N/A\",\"N/A\",\"N/A\",\"N/A\",\"N/A\",\"N/A\",\"N/A\",\"N/A\",\"N/A\",\"N/A\",\"N/A\",\"N/A\",\"N/A\",\"N/A\",\"N/A\",\"N/A\",\"N/A\",\"N/A\",\"N/A\",\"N/A\",\"N/A\",\"N/A\",\"N/A\",\"N/A\",\"N/A\",\"N/A\",\"N/A\",\"N/A\",\"Scrypt\",\"N/A\",\"N/A\",\"N/A\",\"N/A\",\"N/A\",\"N/A\",\"N/A\",\"N/A\",\"N/A\",\"N/A\",\"N/A\",\"N/A\",\"N/A\",\"N/A\",\"N/A\",\"N/A\",\"N/A\",\"N/A\",\"N/A\",\"N/A\",\"N/A\",\"N/A\",\"N/A\",\"N/A\",\"N/A\",\"N/A\",\"BEP20 Token\",\"N/A\",\"N/A\",\"N/A\",\"N/A\",\"CryptoNight-Heavy\",\"N/A\",\"N/A\",\"N/A\",\"N/A\",\"N/A\",\"N/A\",\"N/A\",\"N/A\",\"N/A\",\"N/A\",\"N/A\",\"N/A\",\"N/A\",\"N/A\",\"N/A\",\"N/A\",\"N/A\",\"CryptoNight-Lite\",\"N/A\",\"N/A\",\"N/A\",\"N/A\",\"SHA-256\",\"SHA-256\",\"N/A\",\"N/A\",\"N/A\",\"N/A\",\"N/A\",\"N/A\",\"N/A\",\"Autolykos\",\"SHA-256\",\"Scrypt\",\"N/A\",\"Scrypt\",\"Scrypt-n\",\"N/A\",\"Scrypt\",\"N/A\",\"Groestl\",\"N/A\",\"N/A\",\"N/A\",\"N/A\",\"N/A\",\"N/A\",\"TRC10\",\"N/A\",\"N/A\",\"N/A\",\"N/A\",\"N/A\",\"N/A\",\"N/A\",\"N/A\",\"N/A\",\"N/A\",\"KECCAK\",\"CryptoNight\",\"N/A\",\"N/A\",\"N/A\",\"IMesh\",\"N/A\",\"N/A\",\"N/A\",\"N/A\",\"N/A\",\"N/A\",\"N/A\",\"N/A\",\"DPoS\",\"N/A\",\"N/A\",\"RandomX\",\"N/A\",\"N/A\",\"HEX\",\"N/A\",\"X13\",\"SHA-256\",\"Ethash\",\"N/A\",\"N/A\",\"DPoS\",\"X11\",\"N/A\",\"Equihash\",\"N/A\",\"N/A\",\"N/A\",\"N/A\",\"N/A\",\"N/A\",\"N/A\",\"BEP2 Token\",\"N/A\",\"N/A\",\"N/A\",\"N/A\",\"N/A\",\"N/A\",\"N/A\",\"N/A\",\"N/A\",\"N/A\",\"Scrypt\",\"N/A\",\"N/A\",\"SHA-256\",\"N/A\",\"N/A\",\"N/A\",\"N/A\",\"N/A\",\"N/A\",\"Scrypt\",\"Dagger-Hashimoto\",\"Scrypt\",\"Scrypt\",\"N/A\",\"PoS\",\"N/A\",\"Equihash\",\"Lyra2REv2\",\"N/A\",\"N/A\",\"Scrypt\",\"BLAKE256\",\"SHA-256\",\"Multiple\",\"N/A\",\"N/A\",\"N/A\",\"C31\",\"N/A\",\"BEP2 Token\",\"SHA-256\",\"N/A\",\"Quark\",\"Ethash\",\"Scrypt\",\"N/A\",\"Scrypt\",\"N/A\",\"Scrypt\",\"DPoS\",\"SHA-256\",\"Scrypt\",\"X11GOST\",\"Equihash\",\"N/A\",\"Groestl\",\"BMW512 / Echo512\",\"Scrypt\",\"NeoScrypt\",\"X11\",\"Scrypt\",\"MTP\",\"X13\",\"KAWPOW\",\"DPoS\",\"Multiple\",\"DPoS\",\"N/A\",\"N/A\",\"Shabal256\",\"Blake2b\",\"Proof-of-Authority\",\"N/A\",\"N/A\",\"Tensority\",\"N/A\",\"BLAKE256\",\"N/A\",\"PoS\",\"N/A\",\"Quark\",\"Equihash\",\"N/A\",\"N/A\",\"N/A\",\"Ethash\",\"SHA-256\",\"Equihash210,9\",\"N/A\",\"DPoS\",\"X13\",\"SHA3\",\"Multiple\",\"VeChainThor Authority\",\"POS 3.0\",\"N/A\",\"Quark\",\"Blake2b\",\"VBFT\",\"Ethash\",\"N/A\",\"DPoS\",\"Loopchain\",\"PoS\",\"SHA-512\",\"N/A\",\"Ethash\",\"N/A\",\"Leased POS\",\"Ouroboros\",\"dBFT2.0\",\"N/A\",\"DPoS\",\"N/A\",\"N/A\"],\"Class\":{\"__ndarray__\":\"AQAAAAAAAAABAAAAAQAAAAEAAAABAAAAAQAAAAEAAAABAAAAAAAAAAEAAAABAAAAAQAAAAEAAAABAAAAAQAAAAAAAAABAAAAAQAAAAEAAAABAAAAAQAAAAEAAAABAAAAAQAAAAAAAAABAAAAAQAAAAEAAAAAAAAAAQAAAAAAAAABAAAAAAAAAAAAAAAAAAAAAAAAAAEAAAABAAAAAAAAAAAAAAABAAAAAAAAAAEAAAABAAAAAAAAAAEAAAABAAAAAAAAAAAAAAAAAAAAAAAAAAEAAAAAAAAAAAAAAAEAAAAAAAAAAAAAAAAAAAAAAAAAAAAAAAEAAAAAAAAAAAAAAAAAAAAAAAAAAAAAAAAAAAAAAAAAAAAAAAAAAAABAAAAAAAAAAAAAAAAAAAAAAAAAAAAAAABAAAAAAAAAAAAAAAAAAAAAAAAAAAAAAAAAAAAAAAAAAAAAAAAAAAAAAAAAAEAAAAAAAAAAAAAAAAAAAABAAAAAAAAAAAAAAAAAAAAAAAAAAEAAAAAAAAAAAAAAAAAAAAAAAAAAAAAAAAAAAAAAAAAAAAAAAAAAAAAAAAAAAAAAAAAAAAAAAAAAAAAAAAAAAAAAAAAAAAAAAAAAAABAAAAAAAAAAAAAAAAAAAAAAAAAAAAAAAAAAAAAAAAAAAAAAABAAAAAAAAAAAAAAAAAAAAAAAAAAAAAAAAAAAAAAAAAAEAAAAAAAAAAAAAAAAAAAAAAAAAAAAAAAAAAAAAAAAAAAAAAAAAAAAAAAAAAAAAAAEAAAAAAAAAAAAAAAAAAAAAAAAAAAAAAAAAAAAAAAAAAAAAAAAAAAAAAAAAAAAAAAAAAAAAAAAAAAAAAAAAAAAAAAAAAAAAAAAAAAAAAAAAAQAAAAAAAAAAAAAAAAAAAAAAAAAAAAAAAQAAAAAAAAAAAAAAAAAAAAEAAAAAAAAAAAAAAAAAAAAAAAAAAAAAAAAAAAAAAAAAAAAAAAAAAAAAAAAAAQAAAAAAAAAAAAAAAAAAAAAAAAAAAAAAAAAAAAAAAAABAAAAAQAAAAAAAAAAAAAAAAAAAAAAAAAAAAAAAQAAAAAAAAABAAAAAQAAAAAAAAABAAAAAAAAAAEAAAAAAAAAAQAAAAAAAAAAAAAAAAAAAAAAAAAAAAAAAAAAAAEAAAAAAAAAAAAAAAAAAAAAAAAAAAAAAAAAAAAAAAAAAAAAAAAAAAABAAAAAAAAAAAAAAAAAAAAAAAAAAAAAAAAAAAAAAAAAAEAAAABAAAAAQAAAAAAAAABAAAAAAAAAAAAAAAAAAAAAAAAAAAAAAAAAAAAAAAAAAAAAAAAAAAAAAAAAAAAAAAAAAAAAAAAAAAAAAAAAAAAAAAAAAAAAAAAAAAAAAAAAAAAAAABAAAAAAAAAAAAAAAAAAAAAAAAAAAAAAAAAAAAAAAAAAAAAAAAAAAAAAAAAAAAAAAAAAAAAAAAAAAAAAAAAAAAAAAAAAAAAAAAAAAAAQAAAAAAAAABAAAAAAAAAAEAAAABAAAAAAAAAAAAAAAAAAAAAAAAAAEAAAAAAAAAAAAAAAAAAAAAAAAAAQAAAAAAAAAAAAAAAAAAAAAAAAAAAAAAAQAAAAAAAAAAAAAAAAAAAAAAAAAAAAAAAAAAAAAAAAAAAAAAAAAAAAAAAAAAAAAAAgAAAAAAAAAAAAAAAAAAAAAAAAAAAAAAAAAAAAAAAAAAAAAAAAAAAAEAAAAAAAAAAAAAAAAAAAABAAAAAAAAAAAAAAAAAAAAAAAAAAEAAAAAAAAAAQAAAAAAAAAAAAAAAAAAAAEAAAAAAAAAAAAAAAMAAAAAAAAAAAAAAAAAAAAAAAAAAAAAAAAAAAAAAAAAAAAAAAAAAAAAAAAAAAAAAAAAAAAAAAAAAAAAAAAAAAAAAAAAAAAAAAAAAAAAAAAAAAAAAAAAAAAAAAAAAQAAAAAAAAAAAAAAAAAAAAAAAAAAAAAAAAAAAAEAAAAAAAAAAAAAAAAAAAAAAAAAAAAAAAAAAAAAAAAAAAAAAAAAAAAAAAAAAAAAAAAAAAAAAAAAAAAAAAAAAAAAAAAAAAAAAAEAAAABAAAAAAAAAAAAAAAAAAAAAAAAAAEAAAAAAAAAAAAAAAAAAAAAAAAAAAAAAAAAAAAAAAAAAAAAAAAAAAAAAAAAAAAAAAAAAAAAAAAAAAAAAAAAAAAAAAAAAAAAAAAAAAAAAAAAAAAAAAAAAAAAAAAAAAAAAAAAAAAAAAAAAAAAAAAAAAAAAAAAAAAAAAAAAAAAAAAAAQAAAAAAAAAAAAAAAAAAAAAAAAAAAAAAAAAAAAAAAAAAAAAAAAAAAAAAAAAAAAAAAAAAAAAAAAAAAAAAAAAAAAAAAAAAAAAAAAAAAAAAAAAAAAAAAAAAAAAAAAAAAAAAAAAAAAAAAAAAAAAAAAAAAAAAAAAAAAAAAQAAAAEAAAAAAAAAAAAAAAEAAAAAAAAAAAAAAAAAAAAAAAAAAAAAAAAAAAAAAAAAAAAAAAAAAAAAAAAAAAAAAAAAAAAAAAAAAAAAAAAAAAAAAAAAAAAAAAAAAAAAAAAAAQAAAAAAAAAAAAAAAAAAAAAAAAAAAAAAAAAAAAAAAAAAAAAAAAAAAAAAAAAAAAAAAAAAAAAAAAAAAAAAAAAAAAAAAAAAAAAAAAAAAAAAAAAAAAAAAAAAAAAAAAAAAAAAAAAAAAAAAAAAAAAAAAAAAAAAAAAAAAAAAAAAAAAAAAAAAAAAAAAAAAAAAAAAAAAAAAAAAAAAAAAAAAAAAAAAAAEAAAAAAAAAAAAAAAAAAAAAAAAAAAAAAAAAAAAAAAAAAAAAAAAAAAAAAAAAAAAAAAAAAAAAAAAAAAAAAAAAAAAAAAAAAQAAAAAAAAAAAAAAAAAAAAAAAAAAAAAAAAAAAAAAAAAAAAAAAAAAAAAAAAAAAAAAAAAAAAAAAAAAAAAAAAAAAAAAAAAAAAAAAAAAAAAAAAAAAAAAAAAAAAAAAAAAAAAAAAAAAAAAAAAAAAAAAAAAAAAAAAAAAAAAAAAAAAAAAAAAAAAAAAAAAAAAAAAAAAAAAAAAAAAAAAAAAAAAAAAAAAAAAAAAAAAAAAAAAAAAAAAAAAAAAAAAAAAAAAAAAAAAAAAAAAAAAAAAAAAAAAAAAAAAAAAAAAAAAAAAAAAAAAAAAAAAAAAAAAAAAAAAAAAAAAAAAAAAAAAAAAAAAAAAAAAAAAAAAAAAAAAAAAAAAAAAAAAAAAAAAAAAAAAAAAAAAQAAAAAAAAAAAAAAAAAAAAAAAAAAAAAAAAAAAAAAAAAAAAAAAAAAAAAAAAAAAAAAAAAAAAAAAAAAAAAAAAAAAAAAAAAAAAAAAAAAAAAAAAAAAAAAAAAAAAAAAAAAAAAAAAAAAAAAAAAAAAAAAAAAAAAAAAAAAAAAAAAAAAAAAAABAAAAAAAAAAAAAAAAAAAAAAAAAAAAAAAAAAAAAAAAAAAAAAAAAAAAAAAAAAAAAAAAAAAAAAAAAAAAAAAAAAAAAAAAAAAAAAAAAAAAAAAAAAEAAAAAAAAAAAAAAAAAAAAAAAAAAAAAAAAAAAAAAAAAAAAAAAAAAAAAAAAAAAAAAAAAAAAAAAAAAAAAAAAAAAAAAAAAAAAAAAAAAAAAAAAAAAAAAAAAAAAAAAAAAAAAAAAAAAAAAAAAAAAAAAAAAAAAAAAAAAAAAAMAAAAAAAAAAAAAAAAAAAAAAAAAAAAAAAAAAAAAAAAAAAAAAAAAAAAAAAAAAAAAAAAAAAAAAAAAAAAAAAAAAAAAAAAAAAAAAAAAAAAAAAAAAAAAAAAAAAAAAAAAAAAAAAAAAAAAAAAAAAAAAAAAAAAAAAAAAAAAAAAAAAAAAAAAAAAAAAAAAAAAAAAAAAAAAAAAAAAAAAAAAAAAAAAAAAAAAAAAAAAAAAAAAAAAAAAAAAAAAAAAAAAAAAAAAAAAAAAAAAAAAAAAAAAAAAAAAAAAAAAAAAAAAAAAAAAAAAAAAAAAAAAAAAAAAAAAAAAAAAAAAAAAAAAAAAAAAAAAAAAAAAAAAAAAAAAAAAAAAAAAAAAAAAAAAAAAAAAAAAAAAAAAAAAAAAAAAAAAAAAAAAAAAAAAAAAAAAAAAAAAAAAAAAAAAAAAAAAAAAAAAAAAAAAAAAAAAAAAAAAAAAEAAAAAAAAAAAAAAAAAAAAAAAAAAAAAAAAAAAAAAAAAAAAAAAAAAAAAAAAAAAAAAAAAAAAAAAAAAAAAAAAAAAAAAAAAAAAAAAAAAAAAAAAAAAAAAAAAAAAAAAAAAAAAAAEAAAAAAAAAAAAAAAAAAAAAAAAAAAAAAAAAAAAAAAAAAQAAAAAAAAAAAAAAAAAAAAAAAAAAAAAAAAAAAAAAAAAAAAAAAAAAAAAAAAAAAAAAAAAAAAAAAAABAAAAAAAAAAAAAAAAAAAAAQAAAAAAAAAAAAAAAAAAAAAAAAABAAAAAQAAAAAAAAAAAAAAAAAAAAAAAAAAAAAAAAAAAAAAAAABAAAAAQAAAAEAAAAAAAAAAQAAAAEAAAAAAAAAAQAAAAAAAAABAAAAAAAAAAAAAAAAAAAAAAAAAAAAAAAAAAAAAQAAAAAAAAAAAAAAAAAAAAAAAAAAAAAAAAAAAAAAAAAAAAAAAAAAAAAAAAABAAAAAQAAAAAAAAAAAAAAAAAAAAEAAAAAAAAAAAAAAAAAAAAAAAAAAAAAAAAAAAAAAAAAAAAAAAAAAAAAAAAAAAAAAAEAAAAAAAAAAAAAAAEAAAABAAAAAQAAAAEAAAABAAAAAAAAAAAAAAABAAAAAQAAAAAAAAABAAAAAAAAAAAAAAAAAAAAAAAAAAAAAAAAAAAAAAAAAAAAAAAAAAAAAAAAAAAAAAAAAAAAAAAAAAAAAAAAAAAAAAAAAAAAAAAAAAAAAQAAAAAAAAABAAAAAQAAAAAAAAAAAAAAAAAAAAAAAAAAAAAAAAAAAAEAAAABAAAAAQAAAAEAAAAAAAAAAQAAAAAAAAABAAAAAQAAAAAAAAAAAAAAAQAAAAEAAAABAAAAAQAAAAAAAAAAAAAAAAAAAAEAAAAAAAAAAQAAAAEAAAAAAAAAAQAAAAEAAAABAAAAAQAAAAEAAAAAAAAAAQAAAAEAAAABAAAAAQAAAAEAAAABAAAAAAAAAAEAAAABAAAAAQAAAAEAAAABAAAAAQAAAAEAAAABAAAAAAAAAAEAAAABAAAAAAAAAAAAAAAAAAAAAQAAAAEAAAABAAAAAQAAAAAAAAABAAAAAAAAAAEAAAAAAAAAAQAAAAEAAAABAAAAAQAAAAEAAAAAAAAAAAAAAAEAAAABAAAAAQAAAAAAAAABAAAAAQAAAAMAAAABAAAAAQAAAAEAAAAAAAAAAQAAAAEAAAABAAAAAQAAAAAAAAABAAAAAQAAAAEAAAABAAAAAAAAAAEAAAAAAAAAAgAAAAEAAAAAAAAAAAAAAAEAAAAAAAAAAAAAAA==\",\"dtype\":\"int32\",\"order\":\"little\",\"shape\":[1024]},\"CoinName\":[\"42 Coin\",\"300 token\",\"365Coin\",\"404Coin\",\"SixEleven\",\"808\",\"Octocoin\",\"EliteCoin\",\"2015 coin\",\"GeoCoin\",\"BetaCoin\",\"MyriadCoin\",\"SexCoin\",\"NovaCoin\",\"VeriCoin\",\"CounterParty\",\"MaidSafe Coin\",\"NuShares\",\"MonaCoin\",\"Triangles Coin\",\"Curecoin\",\"BitcoinPlus\",\"XCoin\",\"Sphere Coin\",\"Paycon\",\"Factom\",\"Radium\",\"Emercoin\",\"OKCash\",\"Digix DAO\",\"SafeExchangeCoin\",\"Bancor Network Token\",\"CometCoin\",\"LBRY Credits\",\"SingularDTV\",\"Wings DAO\",\"bitCNY\",\"Karbo\",\"Opair\",\"Peerplays\",\"Mycelium Token\",\"LuckyBlocks\",\"Veros\",\"FistBump\",\"Stakenet\",\"Nexium\",\"PAC Global\",\"OpenChat\",\"iEx.ec\",\"Gnosis\",\"XTRABYTES\",\"Lunyr\",\"Prizm\",\"Basic Attention Token\",\"ZrCoin\",\"Dynamic\",\"Status Network Token\",\"Crypto.com\",\"Numeraire\",\"AdEx\",\"Polybius\",\"Nimiq\",\"district0x\",\"Suretly\",\"CryptoPing\",\"DAOBet\",\"Santiment\",\"Wagerr\",\"SunContract\",\"Oax\",\"EncrypGen\",\"Dinastycoin\",\"LATOKEN\",\"0x\",\"Tierion\",\"Storj\",\"Crypviser\",\"Particl\",\"Viberate\",\"Decentraland\",\"Mobius\",\"KickToken\",\"Monetha\",\"Gas\",\"Dentacoin\",\"Agrello Delta\",\"Ignis\",\"Utrust\",\"Amber\",\"Enjin Coin\",\"Etherparty\",\"Cappasity\",\"Ripio\",\"Chainlink\",\"Kyber Network\",\"Salt Lending\",\"Yoyow\",\"BitcoinZ\",\"Request Network\",\"Datum\",\"VIBEHub\",\"AirSwap\",\"Cindicator\",\"Covesting\",\"Power Ledger\",\"Crypto20\",\"Red Pulse Phoenix\",\"Zeusshield\",\"Soma\",\"KuCoin Shares\",\"WePower\",\"Dragonchain\",\"Streamr DATAcoin\",\"HEROcoin\",\"Insolar\",\"Neumark\",\"Pura\",\"BlockMason Credit Protocol\",\"Genesis Vision\",\"Jibrel Network Token\",\"Aave\",\"Sether\",\"CoinFi\",\"FlypMe\",\"Adbank\",\"Super Bitcoin\",\"LockTrip\",\"HOQU\",\"MediBloc\",\"Bounty0x\",\"Bread token\",\"aelf\",\"DeepBrain Chain\",\"HTML Coin\",\"REMME\",\"QLC Chain\",\"Energo\",\"PumaPay\",\"MediShares\",\"Game\",\"Ink\",\"Telcoin\",\"Zap\",\"AI Doctor\",\"EchoLink\",\"UnitedBitcoin\",\"Bottos\",\"IDEX\",\"CommerceBlock Token\",\"Data\",\"CarVertical\",\"Odyssey\",\"Theta\",\"OriginTrail\",\"Qbao\",\"SwftCoin\",\"Sentinel\",\"InsurePal\",\"Scry.info\",\"CPChain\",\"Zeepin\",\"LeadCoin\",\"BlockCDN \",\"STK Token\",\"Polymath Network\",\"TokenPay\",\"Bluzelle\",\"SwissBorg\",\"Medicalchain\",\"THEKEY Token\",\"Lympo\",\"Bitcoin Private\",\"RED MegaWatt\",\"Huobi Token\",\"BitcoinFile\",\"Creditcoin\",\"BABB\",\"SpaceChain\",\"All Sports Coin\",\"Nucleus Vision\",\"Ink Protocol\",\"XY Oracle\",\"Props\",\"Celsius Network\",\"Credits\",\"Alphacat\",\"Callisto Network\",\"DATx\",\"TomoChain\",\"Insights Network\",\"CoinPoker Token\",\"I-House Token\",\"Electrify.Asia\",\"Pantos\",\"Aidos Kuneen\",\"Pigeoncoin\",\"True USD\",\"Mithril\",\"Switcheo\",\"eosDAC\",\"Bidipass\",\"Zelcash\",\"Sentinel Chain\",\"Semux\",\"BitBlocks\",\"U Network\",\"Haven Protocol\",\"Zilla\",\"Monero Classic\",\"Gems\",\"Dero\",\"Kryll\",\"NEXO\",\"0xBitcoin\",\"EduCoin\",\"CyberVein\",\"Global Social Chain\",\"Verasity\",\"UniBright\",\"AMO Coin\",\"Content Neutrality Network\",\"Skrumble Network\",\"ShareToken\",\"Ubex\",\"Open Platform\",\"Morpheus Network\",\"IoTeX Network\",\"VideoCoin\",\"NKN\",\"Elysian\",\"Repo Coin\",\"Bezant\",\"Phantasma\",\"PCHAIN\",\"IQeon\",\"Giant\",\"Vitae\",\"EUNO\",\"CoinEx Token\",\"NIX\",\"Mixin\",\"CoinMeet\",\"HashCoin \",\"OneLedger\",\"Everipedia\",\"XMax\",\"VITE\",\"OneRoot Network\",\"LikeCoin\",\"GoToken\",\"Centrality Token\",\"Red Community Token\",\"NOIA Network\",\"Green Energy Token\",\"Apollo Currency\",\"Hdac\",\"QuickX Protocol\",\"Cryptocean\",\"Insureum\",\"Okex\",\"Kcash\",\"1World\",\"ZB\",\"STASIS EURS\",\"Omnitude\",\"HitChain\",\"The Midas Touch Gold\",\"FXPay\",\"Digitex Futures\",\"Topchain\",\"Delphy\",\"FundFantasy\",\"HYCON\",\"Decentralized Accessible Content Chain \",\"MetaHash\",\"USD Coin\",\"Ontology Gas\",\"Sogur Currency\",\"VestChain\",\"Paxos Standard\",\"VeChainThor \",\"Actinium\",\"BitForex Token\",\"ETHER-1\",\"ABBC Coin\",\"Adab Solutions\",\"Livepeer\",\"Mycro\",\"WOM\",\"SINOVATE\",\"Newton\",\"SilkChain\",\"Sylo\",\"Travala\",\"Smart Bitcoin\",\"AgaveCoin\",\"AERGO \",\"Hashgard\",\"Vidy\",\"WETH\",\"Beam\",\"Agricultural Trade Chain\",\"Bgogo Token\",\"HedgeTrade\",\"Wrapped Bitcoin\",\"BitMax Token\",\"Zeux\",\"Fetch.AI\",\"StableUSD\",\"Ankr Network\",\"Safe Haven\",\"Crypto.com Chain Token\",\"V Systems\",\"Hoard\",\"Theta Fuel\",\"Levolution\",\"Evedo\",\"2key.network\",\"Orbs\",\"SESSIA\",\"NeuroChain\",\"Consentium\",\"SOLVE\",\"Thorecoin\",\"Matic Network\",\"Lambda\",\"Vidulum\",\"Function X\",\"Ocean Protocol\",\"Poseidon Network\",\"iOWN Token\",\"BitcoinX\",\"LEO Token\",\"Aryacoin\",\"Red Pulse Phoenix Binance\",\"Reserve Rights\",\"Harmony\",\"ESBC\",\"Baer Chain\",\"Mossland\",\"VeriBlock\",\"Yuan Chain Coin\",\"USDK\",\"MIXMARVEL\",\"BUMO\",\"DxChain Token\",\"MultiVAC\",\"VNT Chain\",\"Origo\",\"Carry\",\"Bryllite\",\"Wirex Token\",\"BEST\",\"Atlas Protocol\",\"WaykiChain\",\"EDUCare\",\"Bitcoin HD\",\"YOU Chain\",\"GMB\",\"NNB Token\",\"Ultiledger\",\"Snetwork\",\"IRIS Network\",\"Smartshare\",\"Airbloc\",\"Hyperion\",\"MIR COIN\",\"FansTime\",\"Algorand\",\"MovieBloc\",\"Bitcoin Rhodium\",\"Machine Xchange Coin\",\"Jarvis+\",\"DPRating\",\"Ampleforth\",\"LemoChain\",\"Elrond\",\"SparkPoint\",\"ToKoin\",\"TEMCO\",\"Stronghold Token\",\"Hxro\",\"WINk\",\"FTX Token\",\"TrustVerse\",\"GoWithMi\",\"EMOGI Network\",\"SIX Network\",\"Super Zero\",\"Foin\",\"LITEX\",\"BOTXCOIN\",\"Gatechain Token\",\"Chiliz\",\"Beldex\",\"BitUP Token\",\"Akropolis\",\"Blockchain of Hash Power\",\"CryptoFranc\",\"Decentralized Vulnerability Platform\",\"Kleros\",\"Prometeus\",\"PROT\",\"Thorenext\",\"Thore Exchange\",\"ThoreCashTRX\",\"Ultra\",\"VINCI\",\"Xensor\",\"Zaif Token\",\"Amino Network\",\"NewYork Exchange\",\"LinkToken\",\"MEX\",\"BeeKan\",\"Band Protocol\",\"Emirex Token\",\"Hedera Hashgraph\",\"PAX Gold\",\"MX Token\",\"PLANET\",\"BCB Blockchain\",\"All.me\",\"RON\",\"Temtum\",\"Kava\",\"Nervos Network\",\"Multi Collateral Dai\",\"UNICORN Token\",\"Yap Stone\",\"Suterusu\",\"Whole Network\",\"Thorchain\",\"DAD\",\"Elitium\",\"Sport and Leisure\",\"Klaytn\",\"Troy\",\"Football Coin\",\"Neutrino\",\"Brazilian Digital Token\",\"Kusama\",\"Connectome\",\"Xinfin Network\",\"Tellor\",\"Orchid Protocol\",\"Digital Gold\",\"MarcoPolo Protocol\",\"BOSAGORA\",\"PlayFuel\",\"Nevula\",\"Compound Ethereum\",\"Tap\",\"Zynecoin\",\"Origin Protocol\",\"EXMO Coin\",\"CUTcoin\",\"Zano\",\"HEX\",\"TerraKRW\",\"Eureka Coin\",\"BenePit\",\"apM Coin\",\"Renrenbit\",\"PayProtocol Paycoin\",\"Bitcoin God\",\"Ally\",\"Coindy\",\"Spock\",\"Kadena\",\"Jobchain\",\"GoldFinX\",\"Blucon\",\"NewsToken\",\"FunKeyPay\",\"AIDUS Token\",\"01coin\",\"WazirX\",\"EtherGem\",\"Coinsbit Token\",\"Handshake\",\"POC Chain\",\"Newscrypto Coin\",\"Tether Gold\",\"NextDAO\",\"3X Long EOS Token\",\"3X Short XRP Token\",\"Sologenic\",\"3X Long BNB Token\",\"BiLira\",\"3X Long TRX Token\",\"3X Short TRX Token\",\"3X Long Litecoin Token\",\"3X Short Litecoin Token\",\"Hive Dollar\",\"Elamachain\",\"Anchor\",\"USDJ\",\"Universal Euro\",\"Universal Protocol Token\",\"Energy Web Token\",\"More Coin\",\"HyperDAO\",\"Euro Tether\",\"LCX\",\"Hive\",\"HUNT\",\"Portal\",\"Intelligent Investment Chain\",\"Solana\",\"3X Long Altcoin Index Token\",\"3X Short Altcoin Index Token\",\"DEAPCOIN\",\"Homeros\",\"Latamcash\",\"3X Long Bitcoin SV Token\",\"3X Short Bitcoin SV Token\",\"3X Long Bitcoin Cash Token\",\"3X Short Bitcoin Cash Token\",\"Cartesi\",\"MimbleWimbleCoin\",\"SENSO\",\"xDai Chain\",\"OBSERVER Coin\",\"Unknown Fair Object\",\"3X Long TezosToken\",\"3X Short Tezos Token\",\"JUST\",\"IdeaChain\",\"BNS token\",\"ITAM Games\",\"Metaverse\",\"Metacoin\",\"Loon Network\",\"The Forbidden Forest\",\"Proton\",\"Unicorn Technology International\",\"Arweave\",\"dKargo\",\"King DAG\",\"Spice\",\"Rite Aid\",\"3X Short Cardano Token\",\"3X Long Cardano Token\",\"3X Long Matic Token\",\"3X Long Cosmos Token\",\"3X Short Cosmos Token\",\"3X Long Algorand Token\",\"3X Short Algorand Token\",\"3X Long Theta Network Token\",\"3X Short Kyber Network Token\",\"3X Long Ethereum Classic Token\",\"3X Long TomoChain Token\",\"3X Short Theta Network Token\",\"3X Short Midcap Index Token\",\"3X Long BitMax Token Token\",\"3X Long Tether Token\",\"Compound\",\"CACHE Gold\",\"UMA\",\"Celo\",\"DarkPayCoin\",\"Balancer\",\"BTSE Token\",\"DMM: Governance\",\"ARCS\",\"Perth Mint Gold Token\",\"Paparazzi\",\"KardiaChain\",\"Trustswap\",\"Keep Network\",\"Waves Enterprise\",\"ETHUP\",\"Oikos\",\"Meta\",\"DeFiChain\",\"yearn.finance\",\"Add.xyz\",\"Nest Protocol\",\"DigiDinar Token\",\"MCDEX\",\"Wrapped NXM\",\"Centric Cash\",\"Darwinia Commitment Token\",\"SUKU\",\"DIA\",\"dForce\",\"MiL.k\",\"Cream\",\"Serum\",\"Curve DAO Token\",\"The Sandbox\",\"Bitcoin Captain\",\"DFI.money\",\"Hakka Finance\",\"Jarvis Reward Token\",\"SatoPay\",\"Klever\",\"Pearl Finance\",\"Elrond\",\"Insight Protocol\",\"TerraUSD\",\"QOOBER\",\"Bella Protocol\",\"MATH\",\"Sun Token\",\"Swerve\",\"Universal Money Intrument\",\"Hedget\",\"Ravencoin Classic\",\"Phala Network\",\"Bounce Token\",\"Alchemy Pay\",\"Sashimi\",\"REVV\",\"3X Long Sushi Token\",\"3X Short Sushi Token\",\"Rarible\",\"New BitShares\",\"dHedge DAO\",\"Flamingo\",\"PowerTrade Fuel\",\"Maro\",\"Mini\",\"ONBUFF\",\"TitanSwap\",\"Crust Network\",\"Beowulf\",\"AhaToken\",\"S.Finance\",\"Venus\",\"cVault.finance\",\"AXEL\",\"DODO\",\"Dify.Finance\",\"PlatonCoin\",\"OctoFi\",\"NuCypher\",\"1X Short Bitcoin SV Token\",\"Harvest Finance\",\"Datamine\",\"Buxcoin\",\"Darwinia Network\",\"Pundi X\",\"sUSD\",\"DREP\",\"FunFair\",\"Huobi Pool Token\",\"SingularityNET\",\"Constellation \",\"COCOS BCX\",\"Melon\",\"Quoine Liquid\",\"Voyager Token\",\"STP Network\",\"CNNS\",\"Davinci Coin\",\"TOP Network\",\"BORA\",\"Force Protocol\",\"Civic\",\"Velox\",\"Velas\",\"tBTC\",\"Reserve\",\"Perpetual Protocol\",\"Value Liquidity\",\"Yobit Token\",\"Contentos\",\"APIX\",\"3X Long Bitcoin Token\",\"Quantstamp\",\"Cortex\",\"RAKON\",\"Bitkan\",\"ARPA Chain\",\"ROOBEE\",\"StormX\",\"BitMart Coin\",\"Mainframe\",\"SAI\",\"Metal\",\"RING X PLATFORM\",\"Dent\",\"RIF Token\",\"Gemini Dollar\",\"Loom Network\",\"LUKSO\",\"3X Long Ethereum Token\",\"BKEX Token\",\"Content Value Network\",\"Acute Angle Cloud\",\"12Ships\",\"SelfKey\",\"MANTRA DAO\",\"BiboxCoin\",\"ArcBlock\",\"Measurable Data Token \",\"Populous\",\"Dego Finance\",\"Aavegotchi\",\"UniTrade\",\"LinkEye\",\"Yee\",\"Fyooz\",\"GIFTO\",\"Augur\",\"Chromia\",\"Celer Network\",\"MVL\",\"Frontier\",\"pNetwork Token\",\"Dusk Network\",\"Sentivate\",\"GoMoney2\",\"Perlin\",\"Molecular Future\",\"Raiden Network\",\"FNB protocol\",\"Moeda\",\"TenX\",\"Presearch\",\"Morpheus Infrastructure Token\",\"3X Short Bitcoin\",\"Piction Network\",\"Metronome\",\"Cred\",\"SmartMesh\",\"Dock.io\",\"Genaro Network\",\"Ultrain\",\"Sentinel Protocol\",\"BF Token\",\"EOSDT\",\"Seele\",\"YYFI.Protocol\",\"Pickle Finance\",\"3X Short Ethereum Token\",\"Propy\",\"Time New Bank\",\"QunQun\",\"Matryx\",\"AppCoins\",\"CyberMiles\",\"3X Short EOS Token\",\"IoT Chain\",\"DMarket\",\"FairGame\",\"Eminer\",\"Endor Protocol Token \",\"WABI\",\"ContentBox\",\"SpendCoin\",\"Trump Loses Token\",\"Egretia\",\"SirinLabs\",\"3X Long XRP Token\",\"The Abyss\",\"Simple Token\",\"Ruff\",\"Rio DeFi\",\"3X Short Chainlink Token\",\"TokenClub \",\"Everex\",\"BetProtocol\",\"Tokenomy\",\"Merculet\",\"Pivot Token\",\"Monolith\",\"Nectar\",\"COTI\",\"Ferrum Network\",\"Fusion\",\"Injective Protocol\",\"Aurei\",\"Atari Token\",\"BUSD\",\"PANTHEON X\",\"Primas\",\"8X8 Protocol\",\"LTO Network\",\"Meme\",\"Trump Wins Token\",\"Golff\",\"Blox\",\"Exchange Union\",\"Fatcoin\",\"3X Long Chainlink Token\",\"FLETA\",\"OriginSport\",\"V-ID\",\"SONM\",\"Refereum\",\"Tripio\",\"Akropolis Delphi\",\"YAM\",\"Loopring [NEO]\",\"WaykiChain Governance Coin\",\"RedFOX Labs\",\"Rotten\",\"Nash Exchange\",\"Lendroid Support Token\",\"Meter\",\"Thunder Token\",\"Akoin\",\"Alpha Finance Lab\",\"Avalanche\",\"YAM v1\",\"YAM v2 \",\"Metadium\",\"Loki\",\"FileCoin\",\"Hydro Protocol\",\"Orbit Chain\",\"Bit Financial\",\"Synthetix\",\"Quant\",\"Maker\",\"REN\",\"Swipe\",\"Loopring\",\"Linear\",\"Aave\",\"DeFiner\",\"The Transfer Token\",\"Aragon\",\"HBTC Captain Token\",\"Orion Protocol\",\"AEON\",\"bZx\",\"Tesla FTX\",\"SPDR S&P 500 ETF FTX\",\"Uquid Coin\",\"Bitcoin Vault\",\"Bitcoin ABC\",\"Experty Wisdom Token\",\"Oasis Labs\",\"renBTC \",\"Nexus Mutual\",\"Lien\",\"DigitalBits\",\"Hegic\",\"Ergo\",\"Infinity Economics\",\"BlackCoin\",\"Energi\",\"Auroracoin\",\"SpainCoin\",\"Sperax\",\"TerraCredit\",\"API3\",\"FairCoin\",\"FinNexus\",\"Terra\",\"DeFiPulse Index\",\"Stafi\",\"Golem Network Token\",\"Uniswap Protocol Token\",\"BitTorrent\",\"Sushi\",\"TON Crystal\",\"Tokamak Network\",\"Fantom\",\"Near\",\"BuySell\",\"Mineral\",\"Medibloc\",\"Tether\",\"Guppy\",\"SmartCash\",\"ByteCoin\",\"NewsTokens\",\"Steem Dollars\",\"Inda\",\"INT\",\"FIO Protocol\",\"True Chain\",\"Auctus\",\"ClinTex CTi\",\"PowerPool Concentrated Voting Power\",\"Secret\",\"Cryptobuyer\",\"Wing Finance\",\"Worldwide Asset eXchange\",\"Asch\",\"Nuls\",\"Monero\",\"Bridge Oracle\",\"Raiden Network Token\",\"XDNA\",\"Gamecredits\",\"Bitcoin Diamond\",\"SysCoin\",\"Metaverse\",\"Elastos\",\"Enigma\",\"Lisk\",\"Dash\",\"OMG Network\",\"Komodo\",\"Holo\",\"OPEN Governance Token\",\"Axion\",\"Marlin\",\"MahaDAO\",\"BIZZCOIN\",\"2Based Finance\",\"Swingby\",\"UNION Protocol Governance Token\",\"Golden Ratio Per Liquidity\",\"The Graph\",\"AnRKey X\",\"Reflector.Finance\",\"YVS.Finance\",\"NEST Protocol\",\"Mediconnect\",\"Dexfin\",\"xETH-G\",\"GoldCoin\",\"DXdao\",\"Pyrk\",\"Wibcoin\",\"Trade Butler Bot\",\"DeFi Yield Protocol\",\"Staked Ether\",\"TNC Coin\",\"Helium\",\"Polkadot\",\"SaluS\",\"Ubiq\",\"Reddcoin\",\"Dogecoin\",\"Skycoin\",\"Nxt\",\"Zilliqa\",\"ZCash\",\"Vertcoin\",\"Tezos\",\"IOTA\",\"Litecoin\",\"Decred\",\"Bitcoin\",\"Revain\",\"Own\",\"Crypterium\",\"Coin\",\"Grin\",\"Cosmos\",\"Binance Coin\",\"Bitcoin SV\",\"QuarkChain\",\"QuarkCoin\",\"Expanse\",\"MegaCoin\",\"Electroneum\",\"PotCoin\",\"Aurora\",\"Gulden\",\"Rise\",\"Namecoin\",\"Einsteinium\",\"SibCoin\",\"Bitcoin Gold\",\"Kin\",\"Groestlcoin\",\"DigitalNote \",\"ViaCoin\",\"FeatherCoin\",\"IOCoin\",\"WhiteCoin\",\"Firo\",\"CloakCoin\",\"Ravencoin\",\"Achain\",\"Verge\",\"High Performance Blockchain\",\"PeerCoin\",\"Matrix AI Network\",\"BurstCoin\",\"Siacoin\",\"Poa Network\",\"Aeternity\",\"Obyte\",\"Bytom\",\"Nebulas\",\"HyperCash\",\"Stratis\",\"Neblio\",\"MOAC\",\"BlockNet\",\"Horizen\",\"GoChain\",\"IOS token\",\"GXChain\",\"Waltonchain\",\"Bitcoin Cash\",\"Aion\",\"Wanchain\",\"Shift\",\"NavCoin\",\"Nexus\",\"DigiByte\",\"VeChain\",\"QTUM\",\"Ardor\",\"Private Instant Verified Transaction\",\"Nano\",\"Ontology\",\"Ethereum Classic\",\"NEM\",\"ARK\",\"ICON Project\",\"Steem\",\"Bitshares\",\"Stellar\",\"Ethereum\",\"TRON\",\"Waves\",\"Cardano\",\"NEO\",\"XRP\",\"EOS\",\"Empty Set Dollar\",\"Pylon Finance\"],\"MaxSupply\":{\"__ndarray__\":\"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\",\"dtype\":\"float64\",\"order\":\"little\",\"shape\":[1024]},\"PC_1\":{\"__ndarray__\":\"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\",\"dtype\":\"float64\",\"order\":\"little\",\"shape\":[1024]},\"PC_2\":{\"__ndarray__\":\"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\",\"dtype\":\"float64\",\"order\":\"little\",\"shape\":[1024]},\"PC_3\":{\"__ndarray__\":\"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\",\"dtype\":\"float64\",\"order\":\"little\",\"shape\":[1024]},\"ProofType\":[\"PoW/PoS\",\"N/A\",\"PoW/PoS\",\"PoW/PoS\",\"PoW\",\"PoW/PoS\",\"PoW\",\"PoW/PoS\",\"PoW/PoS\",\"N/A\",\"PoW\",\"PoW\",\"PoW\",\"PoW/PoS\",\"PoST\",\"PoW\",\"N/A\",\"PoS\",\"PoW\",\"PoW/PoS\",\"PoW\",\"PoS\",\"PoW/PoS\",\"PoW/PoS\",\"PoW/PoS\",\"N/A\",\"PoS\",\"PoW/PoS\",\"PoW/PoS\",\"N/A\",\"PoC\",\"N/A\",\"PoW\",\"N/A\",\"N/A\",\"N/A\",\"N/A\",\"PoW\",\"PoS\",\"N/A\",\"N/A\",\"PoS\",\"N/A\",\"PoW/PoS\",\"TPoS\",\"N/A\",\"PoS\",\"PoW/PoS\",\"N/A\",\"N/A\",\"PoSign\",\"N/A\",\"PoS\",\"N/A\",\"N/A\",\"PoW\",\"N/A\",\"N/A\",\"N/A\",\"N/A\",\"N/A\",\"PoW\",\"N/A\",\"N/A\",\"N/A\",\"N/A\",\"N/A\",\"PoS\",\"N/A\",\"N/A\",\"N/A\",\"PoW\",\"N/A\",\"N/A\",\"N/A\",\"N/A\",\"N/A\",\"PoS\",\"N/A\",\"N/A\",\"N/A\",\"N/A\",\"N/A\",\"N/A\",\"N/A\",\"N/A\",\"N/A\",\"N/A\",\"PoA\",\"N/A\",\"N/A\",\"N/A\",\"PoW\",\"N/A\",\"N/A\",\"N/A\",\"N/A\",\"PoW\",\"N/A\",\"N/A\",\"N/A\",\"N/A\",\"N/A\",\"N/A\",\"N/A\",\"N/A\",\"N/A\",\"N/A\",\"N/A\",\"N/A\",\"N/A\",\"N/A\",\"N/A\",\"N/A\",\"DPoS\",\"N/A\",\"PoW\",\"N/A\",\"N/A\",\"N/A\",\"N/A\",\"N/A\",\"N/A\",\"N/A\",\"N/A\",\"PoW\",\"N/A\",\"N/A\",\"N/A\",\"N/A\",\"N/A\",\"N/A\",\"N/A\",\"PoW/PoS\",\"dPoS\",\"N/A\",\"N/A\",\"N/A\",\"N/A\",\"N/A\",\"N/A\",\"N/A\",\"N/A\",\"N/A\",\"N/A\",\"PoW\",\"N/A\",\"N/A\",\"N/A\",\"N/A\",\"N/A\",\"N/A\",\"N/A\",\"N/A\",\"N/A\",\"N/A\",\"N/A\",\"N/A\",\"N/A\",\"N/A\",\"N/A\",\"N/A\",\"N/A\",\"N/A\",\"N/A\",\"PoS\",\"N/A\",\"N/A\",\"N/A\",\"N/A\",\"N/A\",\"PoW\",\"N/A\",\"N/A\",\"PoS\",\"PoW\",\"N/A\",\"N/A\",\"N/A\",\"N/A\",\"N/A\",\"N/A\",\"N/A\",\"N/A\",\"N/A\",\"N/A\",\"PoW\",\"N/A\",\"N/A\",\"N/A\",\"N/A\",\"N/A\",\"N/A\",\"N/A\",\"PoW\",\"PoW\",\"N/A\",\"PoS\",\"N/A\",\"N/A\",\"N/A\",\"PoW/PoS\",\"N/A\",\"DPoS\",\"PoW/PoS\",\"N/A\",\"PoW\",\"N/A\",\"PoW\",\"N/A\",\"PoW\",\"N/A\",\"N/A\",\"N/A\",\"N/A\",\"N/A\",\"N/A\",\"PoW\",\"N/A\",\"N/A\",\"N/A\",\"N/A\",\"N/A\",\"PoS\",\"N/A\",\"N/A\",\"Roll-DPoS\",\"PoW/PoS\",\"PoR\",\"N/A\",\"N/A\",\"N/A\",\"PoS\",\"N/A\",\"N/A\",\"PoW/PoS\",\"PoS\",\"PoW/PoS\",\"N/A\",\"PoW\",\"N/A\",\"N/A\",\"N/A\",\"N/A\",\"N/A\",\"N/A\",\"N/A\",\"N/A\",\"N/A\",\"N/A\",\"N/A\",\"N/A\",\"N/A\",\"N/A\",\"PoS\",\"ePoW\",\"N/A\",\"N/A\",\"N/A\",\"N/A\",\"Zero-Knowledge Proof\",\"N/A\",\"N/A\",\"N/A\",\"N/A\",\"N/A\",\"N/A\",\"N/A\",\"N/A\",\"N/A\",\"N/A\",\"N/A\",\"N/A\",\"N/A\",\"N/A\",\"N/A\",\"N/A\",\"N/A\",\"N/A\",\"PoW\",\"N/A\",\"PoW\",\"N/A\",\"PoW\",\"N/A\",\"N/A\",\"N/A\",\"N/A\",\"N/A\",\"PoW\",\"N/A\",\"N/A\",\"N/A\",\"N/A\",\"PoW\",\"N/A\",\"N/A\",\"N/A\",\"N/A\",\"N/A\",\"PoW\",\"N/A\",\"N/A\",\"N/A\",\"N/A\",\"N/A\",\"N/A\",\"N/A\",\"N/A\",\"N/A\",\"N/A\",\"N/A\",\"SPoS\",\"N/A\",\"PoS\",\"N/A\",\"N/A\",\"N/A\",\"N/A\",\"N/A\",\"N/A\",\"N/A\",\"PoW\",\"N/A\",\"N/A\",\"N/A\",\"PoW\",\"N/A\",\"N/A\",\"N/A\",\"N/A\",\"PoW\",\"N/A\",\"PoW\",\"N/A\",\"N/A\",\"N/A\",\"PoS\",\"N/A\",\"N/A\",\"PoP + PoW\",\"N/A\",\"N/A\",\"N/A\",\"N/A\",\"N/A\",\"N/A\",\"N/A\",\"N/A\",\"N/A\",\"N/A\",\"N/A\",\"N/A\",\"N/A\",\"N/A\",\"N/A\",\"N/A\",\"N/A\",\"N/A\",\"N/A\",\"N/A\",\"N/A\",\"N/A\",\"PoW\",\"N/A\",\"N/A\",\"N/A\",\"N/A\",\"PoS\",\"N/A\",\"PoW\",\"N/A\",\"N/A\",\"N/A\",\"N/A\",\"N/A\",\"N/A\",\"N/A\",\"N/A\",\"N/A\",\"N/A\",\"N/A\",\"N/A\",\"N/A\",\"N/A\",\"N/A\",\"N/A\",\"N/A\",\"PoW\",\"N/A\",\"N/A\",\"N/A\",\"N/A\",\"N/A\",\"PoW\",\"N/A\",\"N/A\",\"N/A\",\"N/A\",\"N/A\",\"N/A\",\"N/A\",\"N/A\",\"N/A\",\"N/A\",\"N/A\",\"N/A\",\"N/A\",\"N/A\",\"N/A\",\"N/A\",\"N/A\",\"N/A\",\"N/A\",\"N/A\",\"N/A\",\"N/A\",\"PoS\",\"N/A\",\"N/A\",\"N/A\",\"PoS\",\"N/A\",\"N/A\",\"N/A\",\"PoS\",\"PoW\",\"N/A\",\"N/A\",\"N/A\",\"N/A\",\"N/A\",\"N/A\",\"N/A\",\"N/A\",\"N/A\",\"N/A\",\"N/A\",\"N/A\",\"N/A\",\"N/A\",\"N/A\",\"N/A\",\"N/A\",\"N/A\",\"N/A\",\"N/A\",\"N/A\",\"N/A\",\"N/A\",\"N/A\",\"N/A\",\"N/A\",\"N/A\",\"N/A\",\"N/A\",\"PoS\",\"PoW/PoS\",\"N/A\",\"N/A\",\"N/A\",\"N/A\",\"N/A\",\"N/A\",\"PoS\",\"N/A\",\"N/A\",\"N/A\",\"N/A\",\"N/A\",\"N/A\",\"N/A\",\"N/A\",\"N/A\",\"N/A\",\"N/A\",\"N/A\",\"N/A\",\"N/A\",\"N/A\",\"PoW\",\"N/A\",\"N/A\",\"N/A\",\"N/A\",\"N/A\",\"N/A\",\"N/A\",\"N/A\",\"N/A\",\"N/A\",\"N/A\",\"N/A\",\"N/A\",\"N/A\",\"N/A\",\"N/A\",\"N/A\",\"N/A\",\"N/A\",\"N/A\",\"N/A\",\"N/A\",\"N/A\",\"N/A\",\"DPoS/PoB\",\"N/A\",\"N/A\",\"N/A\",\"N/A\",\"N/A\",\"N/A\",\"N/A\",\"N/A\",\"N/A\",\"N/A\",\"N/A\",\"N/A\",\"N/A\",\"N/A\",\"PoW\",\"N/A\",\"N/A\",\"N/A\",\"N/A\",\"N/A\",\"N/A\",\"N/A\",\"N/A\",\"N/A\",\"N/A\",\"N/A\",\"N/A\",\"N/A\",\"N/A\",\"N/A\",\"N/A\",\"PoW\",\"N/A\",\"N/A\",\"N/A\",\"N/A\",\"N/A\",\"N/A\",\"N/A\",\"N/A\",\"N/A\",\"N/A\",\"N/A\",\"N/A\",\"N/A\",\"N/A\",\"N/A\",\"N/A\",\"N/A\",\"N/A\",\"N/A\",\"N/A\",\"N/A\",\"N/A\",\"N/A\",\"N/A\",\"N/A\",\"N/A\",\"N/A\",\"N/A\",\"N/A\",\"N/A\",\"N/A\",\"N/A\",\"N/A\",\"N/A\",\"N/A\",\"N/A\",\"N/A\",\"N/A\",\"N/A\",\"N/A\",\"N/A\",\"N/A\",\"N/A\",\"N/A\",\"N/A\",\"N/A\",\"N/A\",\"N/A\",\"N/A\",\"N/A\",\"N/A\",\"N/A\",\"N/A\",\"N/A\",\"N/A\",\"N/A\",\"N/A\",\"N/A\",\"N/A\",\"N/A\",\"N/A\",\"PoS\",\"N/A\",\"PoS\",\"N/A\",\"N/A\",\"N/A\",\"N/A\",\"N/A\",\"PoA\",\"N/A\",\"PoW\",\"N/A\",\"N/A\",\"N/A\",\"N/A\",\"N/A\",\"N/A\",\"N/A\",\"N/A\",\"N/A\",\"N/A\",\"N/A\",\"N/A\",\"N/A\",\"N/A\",\"N/A\",\"N/A\",\"N/A\",\"N/A\",\"N/A\",\"N/A\",\"N/A\",\"N/A\",\"N/A\",\"N/A\",\"N/A\",\"N/A\",\"N/A\",\"N/A\",\"N/A\",\"N/A\",\"N/A\",\"PoW/PoS\",\"N/A\",\"N/A\",\"N/A\",\"N/A\",\"N/A\",\"N/A\",\"N/A\",\"N/A\",\"N/A\",\"N/A\",\"N/A\",\"N/A\",\"N/A\",\"N/A\",\"N/A\",\"N/A\",\"N/A\",\"N/A\",\"N/A\",\"PoS\",\"PoS\",\"N/A\",\"N/A\",\"N/A\",\"N/A\",\"N/A\",\"N/A\",\"N/A\",\"N/A\",\"N/A\",\"N/A\",\"N/A\",\"N/A\",\"N/A\",\"PoS\",\"N/A\",\"N/A\",\"N/A\",\"N/A\",\"PoPP\",\"N/A\",\"N/A\",\"N/A\",\"N/A\",\"N/A\",\"N/A\",\"N/A\",\"N/A\",\"N/A\",\"DPOS\",\"N/A\",\"N/A\",\"N/A\",\"N/A\",\"N/A\",\"N/A\",\"N/A\",\"N/A\",\"N/A\",\"N/A\",\"N/A\",\"N/A\",\"N/A\",\"N/A\",\"N/A\",\"N/A\",\"N/A\",\"N/A\",\"N/A\",\"N/A\",\"N/A\",\"N/A\",\"N/A\",\"N/A\",\"N/A\",\"N/A\",\"N/A\",\"N/A\",\"N/A\",\"N/A\",\"N/A\",\"N/A\",\"N/A\",\"N/A\",\"N/A\",\"N/A\",\"N/A\",\"N/A\",\"N/A\",\"N/A\",\"N/A\",\"N/A\",\"N/A\",\"N/A\",\"N/A\",\"N/A\",\"N/A\",\"N/A\",\"N/A\",\"N/A\",\"N/A\",\"N/A\",\"N/A\",\"N/A\",\"N/A\",\"N/A\",\"N/A\",\"N/A\",\"N/A\",\"PoS\",\"N/A\",\"N/A\",\"N/A\",\"N/A\",\"N/A\",\"N/A\",\"N/A\",\"N/A\",\"N/A\",\"N/A\",\"N/A\",\"N/A\",\"N/A\",\"N/A\",\"N/A\",\"N/A\",\"N/A\",\"N/A\",\"N/A\",\"N/A\",\"N/A\",\"N/A\",\"N/A\",\"N/A\",\"N/A\",\"N/A\",\"PoW\",\"N/A\",\"N/A\",\"N/A\",\"N/A\",\"N/A\",\"N/A\",\"N/A\",\"N/A\",\"N/A\",\"N/A\",\"N/A\",\"N/A\",\"N/A\",\"N/A\",\"N/A\",\"N/A\",\"N/A\",\"N/A\",\"N/A\",\"N/A\",\"N/A\",\"N/A\",\"N/A\",\"PoW\",\"PoS\",\"N/A\",\"N/A\",\"PoS\",\"N/A\",\"N/A\",\"N/A\",\"PoW\",\"N/A\",\"N/A\",\"N/A\",\"N/A\",\"N/A\",\"N/A\",\"N/A\",\"N/A\",\"N/A\",\"N/A\",\"N/A\",\"N/A\",\"N/A\",\"PoW\",\"N/A\",\"N/A\",\"N/A\",\"PoW\",\"N/A\",\"N/A\",\"N/A\",\"N/A\",\"PoW\",\"PoW\",\"N/A\",\"N/A\",\"N/A\",\"N/A\",\"N/A\",\"N/A\",\"N/A\",\"PoW\",\"PoS\",\"PoS\",\"PoS\",\"PoW/PoS\",\"PoW\",\"N/A\",\"PoW/PoS\",\"N/A\",\"PoW/PoS\",\"N/A\",\"DPoS\",\"N/A\",\"PoS\",\"N/A\",\"N/A\",\"DPoS\",\"N/A\",\"N/A\",\"N/A\",\"N/A\",\"PoS\",\"PoS\",\"N/A\",\"PoS\",\"N/A\",\"N/A\",\"PoW\",\"PoW\",\"N/A\",\"DPoS\",\"N/A\",\"DPoS+dBFT\",\"DPoS\",\"fPoW+ PBFT\",\"N/A\",\"N/A\",\"N/A\",\"N/A\",\"N/A\",\"N/A\",\"N/A\",\"N/A\",\"N/A\",\"PoW\",\"N/A\",\"PoS\",\"PoW/PoS\",\"PoW\",\"PoW/PoS\",\"PoW\",\"N/A\",\"N/A\",\"N/A\",\"DPoS\",\"PoW/PoSe\",\"PoS\",\"dPoW/PoW\",\"N/A\",\"N/A\",\"N/A\",\"N/A\",\"N/A\",\"N/A\",\"N/A\",\"N/A\",\"N/A\",\"N/A\",\"N/A\",\"N/A\",\"N/A\",\"N/A\",\"N/A\",\"PoA\",\"N/A\",\"N/A\",\"PoW\",\"N/A\",\"PoW\",\"PoW\",\"N/A\",\"N/A\",\"N/A\",\"N/A\",\"N/A\",\"N/A\",\"PoW/PoS\",\"PoW\",\"PoW/PoS\",\"PoW\",\"N/A\",\"PoS/LPoS\",\"N/A\",\"PoW\",\"PoW\",\"DPoS\",\"Tangle\",\"PoW\",\"PoW/PoS\",\"PoW\",\"N/A\",\"N/A\",\"N/A\",\"N/A\",\"PoW\",\"PoS\",\"PoSA\",\"PoW\",\"N/A\",\"PoW/PoS\",\"PoW\",\"PoW\",\"PoW\",\"PoW/PoS\",\"dPoS/BFT\",\"PoW\",\"PoS\",\"PoW\",\"PoW\",\"PoW\",\"PoW\",\"SCP\",\"PoW\",\"PoW/PoS\",\"PoW\",\"PoW\",\"PoW/PoS\",\"PoW/PoS\",\"PoW\",\"PoW/PoS\",\"N/A\",\"DPoS\",\"PoW\",\"N/A\",\"PoS/PoW\",\"PoS/PoW\",\"PoC\",\"PoW\",\"PoA\",\"PoW/PoS\",\"N/A\",\"PoW\",\"N/A\",\"PoW/PoS\",\"PoS\",\"N/A\",\"PoW\",\"PoW/PoS\",\"PoW\",\"PoW\",\"(PoB)\",\"DPoS\",\"N/A\",\"PoW\",\"PoW/PoS\",\"PoS\",\"DPoS\",\"PoW/PoS\",\"PoW/nPoS\",\"PoW\",\"Proof of Authority\",\"PoS\",\"PoS\",\"PoW/PoS\",\"PoW\",\"PoS\",\"PoW\",\"PoI\",\"DPoS\",\"PoS\",\"PoW\",\"PoS\",\"SCP\",\"PoW\",\"DPoS\",\"LPoS\",\"PoS\",\"N/A\",\"N/A\",\"DPoS\",\"N/A\",\"N/A\"],\"TotalCoinsMined\":{\"__ndarray__\":\"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\",\"dtype\":\"float64\",\"order\":\"little\",\"shape\":[1024]}},\"selected\":{\"id\":\"1263\"},\"selection_policy\":{\"id\":\"1312\"}},\"id\":\"1262\",\"type\":\"ColumnDataSource\"},{\"attributes\":{},\"id\":\"1269\",\"type\":\"StringFormatter\"},{\"attributes\":{},\"id\":\"1264\",\"type\":\"StringFormatter\"},{\"attributes\":{},\"id\":\"1263\",\"type\":\"Selection\"},{\"attributes\":{},\"id\":\"1265\",\"type\":\"StringEditor\"},{\"attributes\":{\"editor\":{\"id\":\"1265\"},\"field\":\"Algorithm\",\"formatter\":{\"id\":\"1264\"},\"title\":\"Algorithm\"},\"id\":\"1266\",\"type\":\"TableColumn\"},{\"attributes\":{\"margin\":[5,5,5,5],\"name\":\"HSpacer02017\",\"sizing_mode\":\"stretch_width\"},\"id\":\"1261\",\"type\":\"Spacer\"},{\"attributes\":{},\"id\":\"1280\",\"type\":\"StringEditor\"},{\"attributes\":{},\"id\":\"1285\",\"type\":\"NumberEditor\"},{\"attributes\":{},\"id\":\"1274\",\"type\":\"StringFormatter\"},{\"attributes\":{\"editor\":{\"id\":\"1270\"},\"field\":\"ProofType\",\"formatter\":{\"id\":\"1269\"},\"title\":\"ProofType\"},\"id\":\"1271\",\"type\":\"TableColumn\"},{\"attributes\":{\"format\":\"0,0.0[00000]\"},\"id\":\"1289\",\"type\":\"NumberFormatter\"},{\"attributes\":{},\"id\":\"1279\",\"type\":\"StringFormatter\"},{\"attributes\":{},\"id\":\"1312\",\"type\":\"UnionRenderers\"},{\"attributes\":{\"editor\":{\"id\":\"1275\"},\"field\":\"TotalCoinsMined\",\"formatter\":{\"id\":\"1274\"},\"title\":\"TotalCoinsMined\"},\"id\":\"1276\",\"type\":\"TableColumn\"},{\"attributes\":{},\"id\":\"1290\",\"type\":\"NumberEditor\"},{\"attributes\":{\"format\":\"0,0.0[00000]\"},\"id\":\"1284\",\"type\":\"NumberFormatter\"},{\"attributes\":{\"editor\":{\"id\":\"1280\"},\"field\":\"MaxSupply\",\"formatter\":{\"id\":\"1279\"},\"title\":\"MaxSupply\"},\"id\":\"1281\",\"type\":\"TableColumn\"},{\"attributes\":{\"editor\":{\"id\":\"1285\"},\"field\":\"PC_1\",\"formatter\":{\"id\":\"1284\"},\"title\":\"PC 1\"},\"id\":\"1286\",\"type\":\"TableColumn\"},{\"attributes\":{\"format\":\"0,0.0[00000]\"},\"id\":\"1294\",\"type\":\"NumberFormatter\"},{\"attributes\":{},\"id\":\"1295\",\"type\":\"NumberEditor\"},{\"attributes\":{\"editor\":{\"id\":\"1290\"},\"field\":\"PC_2\",\"formatter\":{\"id\":\"1289\"},\"title\":\"PC 2\"},\"id\":\"1291\",\"type\":\"TableColumn\"},{\"attributes\":{},\"id\":\"1299\",\"type\":\"NumberFormatter\"},{\"attributes\":{\"margin\":[5,5,5,5],\"name\":\"HSpacer02018\",\"sizing_mode\":\"stretch_width\"},\"id\":\"1315\",\"type\":\"Spacer\"},{\"attributes\":{},\"id\":\"1300\",\"type\":\"IntEditor\"},{\"attributes\":{\"editor\":{\"id\":\"1295\"},\"field\":\"PC_3\",\"formatter\":{\"id\":\"1294\"},\"title\":\"PC 3\"},\"id\":\"1296\",\"type\":\"TableColumn\"},{\"attributes\":{},\"id\":\"1305\",\"type\":\"StringEditor\"},{\"attributes\":{\"source\":{\"id\":\"1262\"}},\"id\":\"1310\",\"type\":\"CDSView\"},{\"attributes\":{},\"id\":\"1304\",\"type\":\"StringFormatter\"},{\"attributes\":{\"editor\":{\"id\":\"1300\"},\"field\":\"Class\",\"formatter\":{\"id\":\"1299\"},\"title\":\"Class\"},\"id\":\"1301\",\"type\":\"TableColumn\"},{\"attributes\":{\"columns\":[{\"id\":\"1266\"},{\"id\":\"1271\"},{\"id\":\"1276\"},{\"id\":\"1281\"},{\"id\":\"1286\"},{\"id\":\"1291\"},{\"id\":\"1296\"},{\"id\":\"1301\"},{\"id\":\"1306\"}],\"height\":300,\"reorderable\":false,\"source\":{\"id\":\"1262\"},\"view\":{\"id\":\"1310\"},\"width\":700},\"id\":\"1309\",\"type\":\"DataTable\"},{\"attributes\":{},\"id\":\"1275\",\"type\":\"StringEditor\"},{\"attributes\":{\"editor\":{\"id\":\"1305\"},\"field\":\"CoinName\",\"formatter\":{\"id\":\"1304\"},\"title\":\"CoinName\"},\"id\":\"1306\",\"type\":\"TableColumn\"},{\"attributes\":{\"children\":[{\"id\":\"1261\"},{\"id\":\"1309\"},{\"id\":\"1315\"}],\"margin\":[0,0,0,0],\"name\":\"Row02013\",\"tags\":[\"embedded\"]},\"id\":\"1260\",\"type\":\"Row\"}],\"root_ids\":[\"1260\"]},\"title\":\"Bokeh Application\",\"version\":\"2.2.3\"}};\n    var render_items = [{\"docid\":\"fbc55161-fb06-480d-8802-e76c297f58dc\",\"root_ids\":[\"1260\"],\"roots\":{\"1260\":\"437ac32b-86ce-4a83-9216-6ff5ae4b7477\"}}];\n    root.Bokeh.embed.embed_items_notebook(docs_json, render_items);\n  }\n  if (root.Bokeh !== undefined && root.Bokeh.Panel !== undefined) {\n    embed_document(root);\n  } else {\n    var attempts = 0;\n    var timer = setInterval(function(root) {\n      if (root.Bokeh !== undefined && root.Bokeh.Panel !== undefined) {\n        clearInterval(timer);\n        embed_document(root);\n      } else if (document.readyState == \"complete\") {\n        attempts++;\n        if (attempts > 100) {\n          clearInterval(timer);\n          console.log(\"Bokeh: ERROR: Unable to run BokehJS code because BokehJS library is missing\");\n        }\n      }\n    }, 10, root)\n  }\n})(window);</script>",
      "application/vnd.holoviews_exec.v0+json": "",
      "text/plain": [
       ":Table   [Algorithm,ProofType,TotalCoinsMined,MaxSupply,PC 1,PC 2,PC 3,Class,CoinName]"
      ]
     },
     "metadata": {
      "application/vnd.holoviews_exec.v0+json": {
       "id": "1260"
      }
     },
     "execution_count": 237
    }
   ],
   "source": [
    "# Table with tradable cryptos\n",
    "cryptocluster_df.hvplot.table()"
   ]
  },
  {
   "cell_type": "code",
   "execution_count": 238,
   "metadata": {},
   "outputs": [
    {
     "output_type": "stream",
     "name": "stdout",
     "text": [
      " There are 1024 tradable cryptocurrencies\n"
     ]
    }
   ],
   "source": [
    "# Print the total number of tradable cryptocurrencies\n",
    "print(f' There are {cryptocluster_df[\"MaxSupply\"].count()} tradable cryptocurrencies')"
   ]
  },
  {
   "cell_type": "markdown",
   "metadata": {},
   "source": [
    "#### Scatter Plot with Tradable Cryptocurrencies"
   ]
  },
  {
   "cell_type": "code",
   "execution_count": 241,
   "metadata": {},
   "outputs": [
    {
     "output_type": "execute_result",
     "data": {
      "text/plain": [
       "array([[0.00000000e+00, 2.01668509e-15],\n",
       "       [6.05005527e-13, 6.07022212e-13],\n",
       "       [0.00000000e+00, 2.01668509e-15],\n",
       "       ...,\n",
       "       [2.06838937e-06, 0.00000000e+00],\n",
       "       [1.03037298e-06, 1.03037298e-06],\n",
       "       [2.96452708e-11, 2.96472875e-11]])"
      ]
     },
     "metadata": {},
     "execution_count": 241
    }
   ],
   "source": [
    "# Scale data to create the scatter plot\n",
    "scaling_data = cryptocluster_df.copy()\n",
    "scaling_data_2 = scaling_data.drop(\n",
    "    [\"Algorithm\", \"ProofType\",\"PC 1\", \"PC 2\", \"PC 3\", \"CoinName\" , \"Class\"], \n",
    "    axis=1\n",
    ")\n",
    "min_max = MinMaxScaler().fit_transform(scaling_data_2)\n",
    "min_max"
   ]
  },
  {
   "cell_type": "code",
   "execution_count": 244,
   "metadata": {},
   "outputs": [
    {
     "output_type": "display_data",
     "data": {},
     "metadata": {}
    },
    {
     "output_type": "execute_result",
     "data": {
      "text/html": "<div id='1327'>\n\n\n\n\n\n  <div class=\"bk-root\" id=\"0d98b00d-cf35-4b47-81bf-3eb01dba2c10\" data-root-id=\"1327\"></div>\n</div>\n<script type=\"application/javascript\">(function(root) {\n  function embed_document(root) {\n    var docs_json = {\"00736edf-3265-41bb-b95c-9e70c54970c4\":{\"roots\":{\"references\":[{\"attributes\":{},\"id\":\"1388\",\"type\":\"Selection\"},{\"attributes\":{\"margin\":[5,5,5,5],\"name\":\"HSpacer02231\",\"sizing_mode\":\"stretch_width\"},\"id\":\"1328\",\"type\":\"Spacer\"},{\"attributes\":{\"fill_alpha\":{\"value\":0.1},\"fill_color\":{\"value\":\"#ff7e0e\"},\"line_alpha\":{\"value\":0.1},\"line_color\":{\"value\":\"#ff7e0e\"},\"size\":{\"units\":\"screen\",\"value\":5.477225575051661},\"x\":{\"field\":\"TotalCoinsMined\"},\"y\":{\"field\":\"MaxSupply\"}},\"id\":\"1391\",\"type\":\"Scatter\"},{\"attributes\":{},\"id\":\"1353\",\"type\":\"PanTool\"},{\"attributes\":{\"fill_alpha\":{\"value\":0.2},\"fill_color\":{\"value\":\"#ff7e0e\"},\"line_alpha\":{\"value\":0.2},\"line_color\":{\"value\":\"#ff7e0e\"},\"size\":{\"units\":\"screen\",\"value\":5.477225575051661},\"x\":{\"field\":\"TotalCoinsMined\"},\"y\":{\"field\":\"MaxSupply\"}},\"id\":\"1392\",\"type\":\"Scatter\"},{\"attributes\":{\"axis\":{\"id\":\"1348\"},\"dimension\":1,\"grid_line_color\":null,\"ticker\":null},\"id\":\"1351\",\"type\":\"Grid\"},{\"attributes\":{},\"id\":\"1424\",\"type\":\"UnionRenderers\"},{\"attributes\":{},\"id\":\"1349\",\"type\":\"BasicTicker\"},{\"attributes\":{},\"id\":\"1354\",\"type\":\"WheelZoomTool\"},{\"attributes\":{\"label\":{\"value\":\"1\"},\"renderers\":[{\"id\":\"1393\"}]},\"id\":\"1405\",\"type\":\"LegendItem\"},{\"attributes\":{\"active_drag\":\"auto\",\"active_inspect\":\"auto\",\"active_multi\":null,\"active_scroll\":\"auto\",\"active_tap\":\"auto\",\"tools\":[{\"id\":\"1331\"},{\"id\":\"1352\"},{\"id\":\"1353\"},{\"id\":\"1354\"},{\"id\":\"1355\"},{\"id\":\"1356\"}]},\"id\":\"1358\",\"type\":\"Toolbar\"},{\"attributes\":{},\"id\":\"1352\",\"type\":\"SaveTool\"},{\"attributes\":{},\"id\":\"1403\",\"type\":\"UnionRenderers\"},{\"attributes\":{\"overlay\":{\"id\":\"1357\"}},\"id\":\"1355\",\"type\":\"BoxZoomTool\"},{\"attributes\":{},\"id\":\"1356\",\"type\":\"ResetTool\"},{\"attributes\":{},\"id\":\"1366\",\"type\":\"BasicTickFormatter\"},{\"attributes\":{\"fill_alpha\":{\"value\":0.1},\"fill_color\":{\"value\":\"#2ba02b\"},\"line_alpha\":{\"value\":0.1},\"line_color\":{\"value\":\"#2ba02b\"},\"size\":{\"units\":\"screen\",\"value\":5.477225575051661},\"x\":{\"field\":\"TotalCoinsMined\"},\"y\":{\"field\":\"MaxSupply\"}},\"id\":\"1410\",\"type\":\"Scatter\"},{\"attributes\":{\"data_source\":{\"id\":\"1369\"},\"glyph\":{\"id\":\"1372\"},\"hover_glyph\":null,\"muted_glyph\":{\"id\":\"1374\"},\"nonselection_glyph\":{\"id\":\"1373\"},\"selection_glyph\":null,\"view\":{\"id\":\"1376\"}},\"id\":\"1375\",\"type\":\"GlyphRenderer\"},{\"attributes\":{\"margin\":[5,5,5,5],\"name\":\"HSpacer02232\",\"sizing_mode\":\"stretch_width\"},\"id\":\"1576\",\"type\":\"Spacer\"},{\"attributes\":{},\"id\":\"1383\",\"type\":\"UnionRenderers\"},{\"attributes\":{\"end\":1.1,\"reset_end\":1.1,\"reset_start\":-0.1,\"start\":-0.1,\"tags\":[[[\"MaxSupply\",\"MaxSupply\",null]]]},\"id\":\"1330\",\"type\":\"Range1d\"},{\"attributes\":{\"fill_alpha\":{\"value\":0.2},\"fill_color\":{\"value\":\"#2ba02b\"},\"line_alpha\":{\"value\":0.2},\"line_color\":{\"value\":\"#2ba02b\"},\"size\":{\"units\":\"screen\",\"value\":5.477225575051661},\"x\":{\"field\":\"TotalCoinsMined\"},\"y\":{\"field\":\"MaxSupply\"}},\"id\":\"1411\",\"type\":\"Scatter\"},{\"attributes\":{\"fill_alpha\":{\"value\":0.1},\"fill_color\":{\"value\":\"#1f77b3\"},\"line_alpha\":{\"value\":0.1},\"line_color\":{\"value\":\"#1f77b3\"},\"size\":{\"units\":\"screen\",\"value\":5.477225575051661},\"x\":{\"field\":\"TotalCoinsMined\"},\"y\":{\"field\":\"MaxSupply\"}},\"id\":\"1373\",\"type\":\"Scatter\"},{\"attributes\":{\"data\":{\"Class\":[0,0,0,0,0,0,0,0,0,0,0,0,0,0,0,0,0,0,0,0,0,0,0,0,0,0,0,0,0,0,0,0,0,0,0,0,0,0,0,0,0,0,0,0,0,0,0,0,0,0,0,0,0,0,0,0,0,0,0,0,0,0,0,0,0,0,0,0,0,0,0,0,0,0,0,0,0,0,0,0,0,0,0,0,0,0,0,0,0,0,0,0,0,0,0,0,0,0,0,0,0,0,0,0,0,0,0,0,0,0,0,0,0,0,0,0,0,0,0,0,0,0,0,0,0,0,0,0,0,0,0,0,0,0,0,0,0,0,0,0,0,0,0,0,0,0,0,0,0,0,0,0,0,0,0,0,0,0,0,0,0,0,0,0,0,0,0,0,0,0,0,0,0,0,0,0,0,0,0,0,0,0,0,0,0,0,0,0,0,0,0,0,0,0,0,0,0,0,0,0,0,0,0,0,0,0,0,0,0,0,0,0,0,0,0,0,0,0,0,0,0,0,0,0,0,0,0,0,0,0,0,0,0,0,0,0,0,0,0,0,0,0,0,0,0,0,0,0,0,0,0,0,0,0,0,0,0,0,0,0,0,0,0,0,0,0,0,0,0,0,0,0,0,0,0,0,0,0,0,0,0,0,0,0,0,0,0,0,0,0,0,0,0,0,0,0,0,0,0,0,0,0,0,0,0,0,0,0,0,0,0,0,0,0,0,0,0,0,0,0,0,0,0,0,0,0,0,0,0,0,0,0,0,0,0,0,0,0,0,0,0,0,0,0,0,0,0,0,0,0,0,0,0,0,0,0,0,0,0,0,0,0,0,0,0,0,0,0,0,0,0,0,0,0,0,0,0,0,0,0,0,0,0,0,0,0,0,0,0,0,0,0,0,0,0,0,0,0,0,0,0,0,0,0,0,0,0,0,0,0,0,0,0,0,0,0,0,0,0,0,0,0,0,0,0,0,0,0,0,0,0,0,0,0,0,0,0,0,0,0,0,0,0,0,0,0,0,0,0,0,0,0,0,0,0,0,0,0,0,0,0,0,0,0,0,0,0,0,0,0,0,0,0,0,0,0,0,0,0,0,0,0,0,0,0,0,0,0,0,0,0,0,0,0,0,0,0,0,0,0,0,0,0,0,0,0,0,0,0,0,0,0,0,0,0,0,0,0,0,0,0,0,0,0,0,0,0,0,0,0,0,0,0,0,0,0,0,0,0,0,0,0,0,0,0,0,0,0,0,0,0,0,0,0,0,0,0,0,0,0,0,0,0,0,0,0,0,0,0,0,0,0,0,0,0,0,0,0,0,0,0,0,0,0,0,0,0,0,0,0,0,0,0,0,0,0,0,0,0,0,0,0,0,0,0,0,0,0,0,0,0,0,0,0,0,0,0,0,0,0,0,0,0,0,0,0,0,0,0,0,0,0,0,0,0,0,0,0,0,0,0,0,0,0,0,0,0,0,0,0,0,0,0,0,0,0,0,0,0,0,0,0,0,0,0,0,0,0,0,0,0,0,0,0,0,0,0,0,0,0,0,0,0,0,0,0,0,0,0,0,0,0,0,0,0,0,0,0,0,0,0,0,0,0,0,0,0,0,0,0,0,0,0,0,0,0,0,0,0,0,0,0,0,0,0,0,0,0,0,0,0,0,0,0,0,0,0,0,0,0,0,0,0,0,0,0,0,0,0,0,0,0,0,0,0,0,0,0,0,0,0,0,0,0,0,0,0,0,0,0,0,0,0,0,0,0,0,0,0,0,0,0,0,0,0,0,0,0,0,0,0,0,0,0,0,0,0,0,0,0,0,0,0,0,0,0,0,0,0,0,0,0,0,0,0,0,0,0,0,0,0,0,0,0,0,0,0,0,0,0,0,0],\"CoinName\":[\"300 token\",\"GeoCoin\",\"MaidSafe Coin\",\"Factom\",\"Digix DAO\",\"Bancor Network Token\",\"LBRY Credits\",\"SingularDTV\",\"Wings DAO\",\"bitCNY\",\"Peerplays\",\"Mycelium Token\",\"Veros\",\"Nexium\",\"iEx.ec\",\"Gnosis\",\"XTRABYTES\",\"Lunyr\",\"Basic Attention Token\",\"ZrCoin\",\"Status Network Token\",\"Crypto.com\",\"Numeraire\",\"AdEx\",\"Polybius\",\"district0x\",\"Suretly\",\"CryptoPing\",\"DAOBet\",\"Santiment\",\"Wagerr\",\"SunContract\",\"Oax\",\"EncrypGen\",\"LATOKEN\",\"0x\",\"Tierion\",\"Storj\",\"Crypviser\",\"Viberate\",\"Decentraland\",\"Mobius\",\"KickToken\",\"Monetha\",\"Gas\",\"Dentacoin\",\"Agrello Delta\",\"Ignis\",\"Utrust\",\"Enjin Coin\",\"Etherparty\",\"Cappasity\",\"Chainlink\",\"Kyber Network\",\"Salt Lending\",\"Yoyow\",\"Request Network\",\"Datum\",\"VIBEHub\",\"AirSwap\",\"Cindicator\",\"Covesting\",\"Power Ledger\",\"Crypto20\",\"Red Pulse Phoenix\",\"Zeusshield\",\"Soma\",\"KuCoin Shares\",\"WePower\",\"Dragonchain\",\"Streamr DATAcoin\",\"HEROcoin\",\"Insolar\",\"Neumark\",\"BlockMason Credit Protocol\",\"Genesis Vision\",\"Jibrel Network Token\",\"Aave\",\"Sether\",\"CoinFi\",\"FlypMe\",\"Adbank\",\"LockTrip\",\"HOQU\",\"MediBloc\",\"Bounty0x\",\"Bread token\",\"aelf\",\"DeepBrain Chain\",\"REMME\",\"QLC Chain\",\"Energo\",\"PumaPay\",\"MediShares\",\"Game\",\"Ink\",\"Telcoin\",\"Zap\",\"AI Doctor\",\"EchoLink\",\"Bottos\",\"IDEX\",\"CommerceBlock Token\",\"Data\",\"CarVertical\",\"Odyssey\",\"Theta\",\"OriginTrail\",\"Qbao\",\"SwftCoin\",\"Sentinel\",\"InsurePal\",\"Scry.info\",\"CPChain\",\"Zeepin\",\"LeadCoin\",\"BlockCDN \",\"STK Token\",\"Polymath Network\",\"Bluzelle\",\"SwissBorg\",\"Medicalchain\",\"THEKEY Token\",\"Lympo\",\"RED MegaWatt\",\"Huobi Token\",\"BitcoinFile\",\"BABB\",\"SpaceChain\",\"All Sports Coin\",\"Nucleus Vision\",\"Ink Protocol\",\"XY Oracle\",\"Props\",\"Celsius Network\",\"Credits\",\"Alphacat\",\"DATx\",\"TomoChain\",\"Insights Network\",\"CoinPoker Token\",\"I-House Token\",\"Electrify.Asia\",\"Pantos\",\"True USD\",\"Mithril\",\"Switcheo\",\"eosDAC\",\"Bidipass\",\"Sentinel Chain\",\"U Network\",\"Zilla\",\"Gems\",\"Kryll\",\"NEXO\",\"0xBitcoin\",\"EduCoin\",\"CyberVein\",\"Global Social Chain\",\"UniBright\",\"AMO Coin\",\"Content Neutrality Network\",\"Skrumble Network\",\"ShareToken\",\"Ubex\",\"Open Platform\",\"Morpheus Network\",\"IoTeX Network\",\"NKN\",\"Elysian\",\"Repo Coin\",\"Bezant\",\"Phantasma\",\"PCHAIN\",\"IQeon\",\"CoinEx Token\",\"Mixin\",\"CoinMeet\",\"HashCoin \",\"OneLedger\",\"Everipedia\",\"XMax\",\"VITE\",\"OneRoot Network\",\"LikeCoin\",\"GoToken\",\"Centrality Token\",\"Red Community Token\",\"NOIA Network\",\"Green Energy Token\",\"Apollo Currency\",\"Hdac\",\"QuickX Protocol\",\"Cryptocean\",\"Insureum\",\"Okex\",\"1World\",\"ZB\",\"STASIS EURS\",\"Omnitude\",\"HitChain\",\"The Midas Touch Gold\",\"FXPay\",\"Digitex Futures\",\"Topchain\",\"Delphy\",\"FundFantasy\",\"HYCON\",\"Decentralized Accessible Content Chain \",\"MetaHash\",\"USD Coin\",\"Ontology Gas\",\"Sogur Currency\",\"VestChain\",\"VeChainThor \",\"BitForex Token\",\"Adab Solutions\",\"Livepeer\",\"Mycro\",\"WOM\",\"Newton\",\"SilkChain\",\"Sylo\",\"Travala\",\"AgaveCoin\",\"AERGO \",\"Hashgard\",\"Vidy\",\"WETH\",\"Agricultural Trade Chain\",\"Bgogo Token\",\"HedgeTrade\",\"Wrapped Bitcoin\",\"BitMax Token\",\"Zeux\",\"Fetch.AI\",\"StableUSD\",\"Ankr Network\",\"Safe Haven\",\"Crypto.com Chain Token\",\"Hoard\",\"Theta Fuel\",\"Levolution\",\"Evedo\",\"2key.network\",\"Orbs\",\"SESSIA\",\"NeuroChain\",\"Consentium\",\"Thorecoin\",\"Matic Network\",\"Lambda\",\"Function X\",\"Ocean Protocol\",\"Poseidon Network\",\"iOWN Token\",\"LEO Token\",\"Red Pulse Phoenix Binance\",\"Reserve Rights\",\"Harmony\",\"Baer Chain\",\"Mossland\",\"Yuan Chain Coin\",\"USDK\",\"MIXMARVEL\",\"BUMO\",\"DxChain Token\",\"MultiVAC\",\"VNT Chain\",\"Origo\",\"Carry\",\"Bryllite\",\"Wirex Token\",\"BEST\",\"Atlas Protocol\",\"WaykiChain\",\"EDUCare\",\"Bitcoin HD\",\"YOU Chain\",\"GMB\",\"NNB Token\",\"Ultiledger\",\"Snetwork\",\"IRIS Network\",\"Airbloc\",\"Hyperion\",\"MIR COIN\",\"FansTime\",\"Algorand\",\"MovieBloc\",\"Machine Xchange Coin\",\"Jarvis+\",\"DPRating\",\"Ampleforth\",\"LemoChain\",\"Elrond\",\"SparkPoint\",\"ToKoin\",\"TEMCO\",\"Stronghold Token\",\"Hxro\",\"WINk\",\"FTX Token\",\"TrustVerse\",\"GoWithMi\",\"EMOGI Network\",\"SIX Network\",\"LITEX\",\"BOTXCOIN\",\"Gatechain Token\",\"Chiliz\",\"BitUP Token\",\"Akropolis\",\"Blockchain of Hash Power\",\"CryptoFranc\",\"Decentralized Vulnerability Platform\",\"Kleros\",\"Prometeus\",\"PROT\",\"Thorenext\",\"Thore Exchange\",\"ThoreCashTRX\",\"Ultra\",\"VINCI\",\"Xensor\",\"Zaif Token\",\"Amino Network\",\"NewYork Exchange\",\"LinkToken\",\"MEX\",\"BeeKan\",\"Band Protocol\",\"Emirex Token\",\"Hedera Hashgraph\",\"PAX Gold\",\"MX Token\",\"PLANET\",\"BCB Blockchain\",\"All.me\",\"RON\",\"Temtum\",\"Kava\",\"Multi Collateral Dai\",\"UNICORN Token\",\"Yap Stone\",\"Suterusu\",\"Whole Network\",\"Thorchain\",\"DAD\",\"Elitium\",\"Sport and Leisure\",\"Klaytn\",\"Troy\",\"Football Coin\",\"Neutrino\",\"Brazilian Digital Token\",\"Kusama\",\"Connectome\",\"Xinfin Network\",\"Tellor\",\"Orchid Protocol\",\"Digital Gold\",\"MarcoPolo Protocol\",\"BOSAGORA\",\"PlayFuel\",\"Nevula\",\"Compound Ethereum\",\"Tap\",\"Zynecoin\",\"Origin Protocol\",\"EXMO Coin\",\"HEX\",\"TerraKRW\",\"BenePit\",\"apM Coin\",\"Renrenbit\",\"PayProtocol Paycoin\",\"Bitcoin God\",\"Ally\",\"Coindy\",\"Spock\",\"Kadena\",\"Jobchain\",\"GoldFinX\",\"Blucon\",\"NewsToken\",\"FunKeyPay\",\"AIDUS Token\",\"01coin\",\"WazirX\",\"EtherGem\",\"Coinsbit Token\",\"POC Chain\",\"Newscrypto Coin\",\"Tether Gold\",\"NextDAO\",\"3X Long EOS Token\",\"3X Short XRP Token\",\"Sologenic\",\"3X Long BNB Token\",\"BiLira\",\"3X Long TRX Token\",\"3X Short TRX Token\",\"3X Long Litecoin Token\",\"3X Short Litecoin Token\",\"Hive Dollar\",\"Elamachain\",\"Anchor\",\"USDJ\",\"Universal Euro\",\"Universal Protocol Token\",\"Energy Web Token\",\"More Coin\",\"HyperDAO\",\"Euro Tether\",\"LCX\",\"Hive\",\"HUNT\",\"Portal\",\"Intelligent Investment Chain\",\"Solana\",\"3X Long Altcoin Index Token\",\"3X Short Altcoin Index Token\",\"DEAPCOIN\",\"Homeros\",\"Latamcash\",\"3X Long Bitcoin SV Token\",\"3X Short Bitcoin SV Token\",\"3X Long Bitcoin Cash Token\",\"3X Short Bitcoin Cash Token\",\"Cartesi\",\"SENSO\",\"xDai Chain\",\"OBSERVER Coin\",\"Unknown Fair Object\",\"3X Long TezosToken\",\"3X Short Tezos Token\",\"JUST\",\"IdeaChain\",\"BNS token\",\"ITAM Games\",\"Metaverse\",\"Metacoin\",\"Loon Network\",\"The Forbidden Forest\",\"Proton\",\"Unicorn Technology International\",\"dKargo\",\"King DAG\",\"Spice\",\"Rite Aid\",\"3X Short Cardano Token\",\"3X Long Cardano Token\",\"3X Long Matic Token\",\"3X Long Cosmos Token\",\"3X Short Cosmos Token\",\"3X Long Algorand Token\",\"3X Short Algorand Token\",\"3X Long Theta Network Token\",\"3X Short Kyber Network Token\",\"3X Long Ethereum Classic Token\",\"3X Long TomoChain Token\",\"3X Short Theta Network Token\",\"3X Short Midcap Index Token\",\"3X Long BitMax Token Token\",\"3X Long Tether Token\",\"Compound\",\"CACHE Gold\",\"UMA\",\"Celo\",\"DarkPayCoin\",\"Balancer\",\"BTSE Token\",\"DMM: Governance\",\"ARCS\",\"Perth Mint Gold Token\",\"Paparazzi\",\"KardiaChain\",\"Trustswap\",\"Keep Network\",\"Waves Enterprise\",\"ETHUP\",\"Oikos\",\"Meta\",\"DeFiChain\",\"yearn.finance\",\"Add.xyz\",\"Nest Protocol\",\"DigiDinar Token\",\"MCDEX\",\"Wrapped NXM\",\"Centric Cash\",\"Darwinia Commitment Token\",\"SUKU\",\"DIA\",\"dForce\",\"MiL.k\",\"Cream\",\"Serum\",\"Curve DAO Token\",\"The Sandbox\",\"Bitcoin Captain\",\"DFI.money\",\"Hakka Finance\",\"Jarvis Reward Token\",\"SatoPay\",\"Klever\",\"Pearl Finance\",\"Elrond\",\"Insight Protocol\",\"TerraUSD\",\"QOOBER\",\"Bella Protocol\",\"MATH\",\"Sun Token\",\"Swerve\",\"Universal Money Intrument\",\"Hedget\",\"Phala Network\",\"Bounce Token\",\"Alchemy Pay\",\"Sashimi\",\"REVV\",\"3X Long Sushi Token\",\"3X Short Sushi Token\",\"Rarible\",\"New BitShares\",\"dHedge DAO\",\"Flamingo\",\"PowerTrade Fuel\",\"Maro\",\"Mini\",\"ONBUFF\",\"TitanSwap\",\"Crust Network\",\"Beowulf\",\"AhaToken\",\"S.Finance\",\"Venus\",\"cVault.finance\",\"AXEL\",\"DODO\",\"Dify.Finance\",\"PlatonCoin\",\"OctoFi\",\"NuCypher\",\"1X Short Bitcoin SV Token\",\"Harvest Finance\",\"Datamine\",\"Darwinia Network\",\"Pundi X\",\"sUSD\",\"DREP\",\"FunFair\",\"Huobi Pool Token\",\"SingularityNET\",\"Constellation \",\"COCOS BCX\",\"Melon\",\"Quoine Liquid\",\"Voyager Token\",\"STP Network\",\"CNNS\",\"Davinci Coin\",\"TOP Network\",\"BORA\",\"Force Protocol\",\"Civic\",\"Velas\",\"tBTC\",\"Reserve\",\"Perpetual Protocol\",\"Value Liquidity\",\"Yobit Token\",\"Contentos\",\"APIX\",\"3X Long Bitcoin Token\",\"Quantstamp\",\"Cortex\",\"RAKON\",\"Bitkan\",\"ARPA Chain\",\"ROOBEE\",\"StormX\",\"BitMart Coin\",\"Mainframe\",\"SAI\",\"Metal\",\"RING X PLATFORM\",\"Dent\",\"RIF Token\",\"Gemini Dollar\",\"Loom Network\",\"LUKSO\",\"3X Long Ethereum Token\",\"BKEX Token\",\"Content Value Network\",\"12Ships\",\"SelfKey\",\"MANTRA DAO\",\"BiboxCoin\",\"ArcBlock\",\"Measurable Data Token \",\"Populous\",\"Dego Finance\",\"Aavegotchi\",\"UniTrade\",\"LinkEye\",\"Yee\",\"Fyooz\",\"GIFTO\",\"Augur\",\"Chromia\",\"Celer Network\",\"MVL\",\"Frontier\",\"pNetwork Token\",\"Dusk Network\",\"Sentivate\",\"GoMoney2\",\"Perlin\",\"Molecular Future\",\"Raiden Network\",\"FNB protocol\",\"Moeda\",\"TenX\",\"Presearch\",\"Morpheus Infrastructure Token\",\"3X Short Bitcoin\",\"Piction Network\",\"Metronome\",\"Cred\",\"SmartMesh\",\"Dock.io\",\"Genaro Network\",\"Ultrain\",\"Sentinel Protocol\",\"BF Token\",\"EOSDT\",\"Seele\",\"YYFI.Protocol\",\"Pickle Finance\",\"3X Short Ethereum Token\",\"Propy\",\"Time New Bank\",\"QunQun\",\"Matryx\",\"AppCoins\",\"CyberMiles\",\"3X Short EOS Token\",\"IoT Chain\",\"DMarket\",\"FairGame\",\"Eminer\",\"Endor Protocol Token \",\"WABI\",\"ContentBox\",\"SpendCoin\",\"Trump Loses Token\",\"Egretia\",\"SirinLabs\",\"3X Long XRP Token\",\"The Abyss\",\"Simple Token\",\"Ruff\",\"Rio DeFi\",\"3X Short Chainlink Token\",\"TokenClub \",\"Everex\",\"BetProtocol\",\"Tokenomy\",\"Merculet\",\"Pivot Token\",\"Monolith\",\"Nectar\",\"COTI\",\"Ferrum Network\",\"Fusion\",\"Injective Protocol\",\"Aurei\",\"Atari Token\",\"BUSD\",\"PANTHEON X\",\"8X8 Protocol\",\"LTO Network\",\"Meme\",\"Trump Wins Token\",\"Golff\",\"Blox\",\"Exchange Union\",\"Fatcoin\",\"3X Long Chainlink Token\",\"FLETA\",\"OriginSport\",\"V-ID\",\"SONM\",\"Refereum\",\"Tripio\",\"Akropolis Delphi\",\"YAM\",\"Loopring [NEO]\",\"WaykiChain Governance Coin\",\"RedFOX Labs\",\"Rotten\",\"Nash Exchange\",\"Lendroid Support Token\",\"Thunder Token\",\"Akoin\",\"Alpha Finance Lab\",\"Avalanche\",\"YAM v1\",\"YAM v2 \",\"Metadium\",\"FileCoin\",\"Hydro Protocol\",\"Orbit Chain\",\"Bit Financial\",\"Synthetix\",\"Quant\",\"Maker\",\"REN\",\"Swipe\",\"Loopring\",\"Linear\",\"Aave\",\"DeFiner\",\"Aragon\",\"HBTC Captain Token\",\"Orion Protocol\",\"bZx\",\"Tesla FTX\",\"SPDR S&P 500 ETF FTX\",\"Uquid Coin\",\"Experty Wisdom Token\",\"Oasis Labs\",\"renBTC \",\"Nexus Mutual\",\"Lien\",\"DigitalBits\",\"Hegic\",\"Energi\",\"Sperax\",\"API3\",\"FinNexus\",\"Terra\",\"DeFiPulse Index\",\"Stafi\",\"Golem Network Token\",\"Uniswap Protocol Token\",\"Sushi\",\"TON Crystal\",\"Tokamak Network\",\"Fantom\",\"Near\",\"BuySell\",\"Mineral\",\"Medibloc\",\"Tether\",\"Guppy\",\"NewsTokens\",\"Steem Dollars\",\"Inda\",\"FIO Protocol\",\"True Chain\",\"Auctus\",\"ClinTex CTi\",\"PowerPool Concentrated Voting Power\",\"Secret\",\"Cryptobuyer\",\"Wing Finance\",\"Worldwide Asset eXchange\",\"Asch\",\"Nuls\",\"Bridge Oracle\",\"Raiden Network Token\",\"Elastos\",\"Enigma\",\"OMG Network\",\"Holo\",\"OPEN Governance Token\",\"Axion\",\"Marlin\",\"MahaDAO\",\"BIZZCOIN\",\"2Based Finance\",\"Swingby\",\"UNION Protocol Governance Token\",\"Golden Ratio Per Liquidity\",\"The Graph\",\"AnRKey X\",\"Reflector.Finance\",\"YVS.Finance\",\"NEST Protocol\",\"Mediconnect\",\"Dexfin\",\"xETH-G\",\"DXdao\",\"Trade Butler Bot\",\"DeFi Yield Protocol\",\"Staked Ether\",\"TNC Coin\",\"Helium\",\"Polkadot\",\"Skycoin\",\"Zilliqa\",\"Tezos\",\"IOTA\",\"Own\",\"Crypterium\",\"Coin\",\"Cosmos\",\"QuarkChain\",\"Aurora\",\"Kin\",\"Ravencoin\",\"High Performance Blockchain\",\"PeerCoin\",\"Matrix AI Network\",\"Obyte\",\"Nebulas\",\"Stratis\",\"IOS token\",\"GXChain\",\"Wanchain\",\"Ardor\",\"NEM\",\"Stellar\",\"TRON\",\"NEO\",\"XRP\",\"Empty Set Dollar\",\"Pylon Finance\"],\"MaxSupply\":{\"__ndarray__\":\"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\",\"dtype\":\"float64\",\"order\":\"little\",\"shape\":[832]},\"TotalCoinsMined\":{\"__ndarray__\":\"NgLww2dJZT0AAAAAAAAAACRU7Rynn64+AAAAAAAAAAA9mFYDcRv0PTi9ES6zlok+zR3DRGTGtz6MQnRazOrAPnpqIPdGEYs+zPCDj99vZj4AAAAAAAAAAAAAAAAAAAAAlbvm+GunVT5ZUwkAoQCCPnHFRM50jIc+lbvm+GunVT6DVsqoCf61PtuW31BWajc+02OuhzJgyT4AAAAAAAAAANBLuEWhx+w+OkI9nZgZcT7ZADTudcNXPiF2B/j38ow+dqNQnv4wQT6MQnRazOrAPolIttvNTQA+AAAAAAAAAACLNlVVVKOWPuBL5timjoY+aORnYJecnT42tS4bX5uQPnpqIPdGEYs+emog90YRiz56aiD3RhGrPoxCdFrM6sA+jEJ0WszqwD4ILU1kW8KsPgAAAAAAAAAAemog90YRmz5guvCx85DSPgAAAAAAAAAAAAAAAAAA8D8/G8tV2jqrPtu+YJrSLF4+vb/vYFlQkD+5I2mIa6GRPo5mBD1q6MA+jEJ0WszqsD6MQnRazOrAPoxCdFrM6sA+5r8Mavxwtj6MQnRazOrAPir2UrEqd5w+sAyt+pA9kD6MQnRazOrQPpeuDqmm6sA+Nr70U6By1j5QUa3jShGiPoxCdFrM6rA+n6kbW8zq0D6wSWh1FGhlPoxCdFrM6sA+jKH4YVgCdj4AAAAAAAAAAHpHrd0h3ec+DN3v4os4Xz7U0C/6/gWXPvav+f8JN7k+2LyM/4FVrT5yU5XDKrPAPmQ66K9NEKE+jEJ0WszqwD7k17LOfzyCPgAAAAAAAAAAq26OrB4vQz56aiD3RhGbPmPOWkNAXJE+AAAAAAAAAADcT1g59UykPgpa67juGHM+jEJ0WszqwD4u112zex9kPiLTV72tqqI+AAAAAAAAAAB/cm5azOqwPqem2UeLDYg+cEo7djTGvT4vUxFxfyX1PoxCdFrM6sA+3E9YOfVMtD6MQnRazOrAPtZpfzQRoSQ/jEJ0Wszq0D6MQnRazOrQPgAAAAAAAAAA+6dVTd9uKj9peDu6B5ixPoe2fBrMULo+jEJ0WszqsD4AAAAAAAAAAIxCdFrM6sA+jEJ0WszqwD6tYHUAvj7GPlBwDf44APU+L1MRcX8l9T6MQnRazOrAPoxCdFrM6rA+AAAAAAAAAAAvUxFxfyX1PnkxG7m76tA+3E9YOfVMpD6MQnRazOrAPkacH1PM6sA+AAAAAAAAAAC05J2tZTnWPnf8Hse8UiE+jEJ0WszqsD6MQnRazOrAPoxCdFrM6rA+jEJ0WszqwD6MQnRazOqwPgAAAAAAAAAAjEJ0WszqwD6MQnRazOqwPmEVZkKbvKI+AAAAAAAAAAD6p1VN324aPwAAAAAAAAAA02OuhzJgyT4vUxFxfyX1PoxCdFrM6rA+xchWKPR1/T7NUM0mEaC2PhPQ/KKCibc+mDprsaLhoD4AAAAAAAAAAC9TEXF/JfU+emog90YRiz4AAAAAAAAAANgw/KwIAqg+wxrYKJrbwD4VhJ1oMmC5PoxCdFrM6sA+F2QX/JCVoj6MQnRazOrAPoxCdFrM6sA+3E9YOfVMxD7TY66HMmDJPoxCdFrM6rA+L1MRcX8l9T6wDK36kD2APoxCdFrM6vA+YBdEsofAej6MQnRazOrAPpKSFJ2WvGY+x/yZKT+4/z7LtoHCKCrSPoxCdFrM6sA+3E9YOfVMlD4C+VGGMpYCP/qnVU3fbio/02OuhzJgyT7ibU4EwkTRPqmEBz8qzuA+D/wP1C2HzT49HGKt3O15PqgtqnXUXPQ+K108GB6vtz5peDu6B5ihPgAAAAAAAAAA6a9dJ8zqwD4AAAAAAAAAAAAAAAAAAAAA8nEbTr3IRz5192dGM9LoPnf8Hse8UiE+emog90YRqz76p1VN324aP4xCdFrM6sA+0BMWlv8t9T7H/JkpP7gPP5rnUJ+uBcE+emog90YRqz7XaqbjJsaVPnpqIPdGEYs+3E9YOfVMxD56aiD3RhGbPoxCdFrM6sA+L1MRcX8l5T4AAAAAAAAAAPOx1i+uH9g+jEJ0WszqsD4AAAAAAAAAAObyAgP9GKQ+ZA8jor+koj5kQB4BFCZ0PjfNhnreaqo+Sq36FdtPcT6ByFPOTSSEPnpqIPdGESs/QLGbhmFf8z7Tzi6PZgmwPoNWyqgJ/sU+tmvbn2FQxz56aiD3RhGLPl+VdKdTmYU+DsOxuriC2T6PXSAhJ3CRPHe6jdF2uNQ+SJngvgZe3z6MQnRazOrAPvyfe/foDyg+r/cQ5dy18j4AAAAAAAAAAC9TEXF/JfU+K108GB6vpz7PPYfJH8hoPgginpFDj2s+jEJ0WszqwD77p1VN324qPy9TEXF/JfU+L1MRcX8l9T4AAAAAAAAAAMoo74LPgBI/jEJ0WszqsD4AAAAAAAAAAC9TEXF/JfU+SYJ5iWRmSD4vUxFxfyX1Ph6YoQQBYOU+jEJ0WszqwD5SiXkpS07vPQPN8GLu9rk+02OuhzJguT5bM+9eZoHDPjgkxofONBI+L1MRcX8l9T4AAAAAAAAAAPunVU3fbio/jEJ0WszqwD4vUxFxfyXlPrWk5lWDC6U+Q/V/AJ05Yz64h5kheUS0Pi9TEXF/JfU+emog90YRiz4bguzhej62PrAMrfqQPaA+DtAsS3w/Iz4vUxFxfyX1PtNjrocyYOk+nxxop6OeqT55cW7Zar60PliXuDYsNAY/BVezeuRjpD6qemStdW7APgAAAAAAAAAAPWOmMAYbpz7Q6EPbAaX6Pv8Zkdm5n7M+jEJ0WszqsD4vUxFxfyX1Ps+sP3AUlXE+L1MRcX8l9T4AAAAAAAAAAPqnVU3fbio/L1MRcX8l9T4vUxFxfyX1PoxCdFrM6sA+Kl1a2+rO8D4rXTwYHq+nPn80pWx/JfU+eEMQoAYbvz4vUxFxfyX1PsjAA74qlJk+jEJ0WszqwD7Tmt+AjjlSPhI2rkFhKNg+L1MRcX8l5T7TY66HMmDpPt7KwuUlCOM+jEJ0WszqwD605bXnOfDQPkYETpxRQak+L1MRcX8l9T4AAAAAAAAAAMFvX0FpVuU+TJ3Q1m973z7H/JkpP7gPP4FFI2lFWdY+3E9YOfVMtD4vUxFxfyX1PpADt83sW6k+emog90YRyz6027jz39T+Pj1NjBBoYv4+s7LVgz8Rmz7TY66HMmDpPgAAAAAAAAAAjEJ0WszqwD4N5lQUim9gPwk6OQg7k6Y+jEJ0WszqwD7yu6ubHIL/PliXuDYsNAY/AAAAAAAAAACMQnRazOrQPi9TEXF/JeU+MHrnP+g8mT7f4eqA/8vyPoxCdFrM6sA+jEJ0Wszq4D7+VVNpju2APnf8Hse8UjE+L1MRcX8l5T7ecGNT4965PunYFXyK12Q+AAAAAAAAAAA01q62vWucPpW75vhrp1U+AAAAAAAAAACMQnRazOrAPtxPWDn1TKQ+3E9YOfVM5D4AAAAAAAAAAIxCdFrM6sA+b66qjQKtqT4pV2jceX7APpn4XM7faNA+L1MRcX8l9T56aiD3RhGLPoxCdFrM6rA+4mr29RPt6z4GdGiqmvPUPa/qpXHqMbU+L1MRcX8l5T4AAAAAAAAAAC9TEXF/JfU+L1MRcX8l9T4AAAAAAAAAAEtYcoPezY4+3vK9v2Uzwz52dEue5ZrtPgAAAAAAAAAAL1MRcX8l9T4Gn8hiuJD0PoxCdFrM6rA+jEJ0WszqwD7QaMrEw3qmPptPtGumS8A+AAAAAAAAAAAvUxFxfyX1PoxCdFrM6sA+bzYqm16tkT56aiD3RhGbPiqYBq8T5lQ+IuTJeX7ykj6HPwMxL+UTP1vr6Zf3nC0+jEJ0WszqwD4AAAAAAAAAAC9TEXF/JfU+O1u5YrZXsj4vUxFxfyX1Pi9TEXF/JRU/SmF7wJjNfT4vUxFxfyX1PlSryqwonXs+jEJ0WszqwD5s9ZLXtn/GPqL9ISzPu1I/t80x75dWIz/H/JkpP7gPP5648mOSqc4+AAAAAAAAAAAAAAAAAAAAAAAAAAAAAAAAL1MRcX8l9T6MQnRazOrAPgAAAAAAAAAAAAAAAAAAAAD7p1VN324qP9JepM1pJKI+02OuhzJg2T4vUxFxfyX1Pi9TEXF/JQU/L1MRcX8l9T4AAAAAAAAAALLy/9XA2MA+AAAAAAAAAACXP04gnyvEPi9TEXF/JfU+pWqe6/rhoj6CGA2EuNvaPQAAAAAAAAAA3X1KpKlbXj6lbHf00xlRPoC0MuY4Eas+E6q6pxlJuj0jiv6jAFxjPl+eOKWN5Cg+bnTWuUadaz7FYE09b10LPmi+n3Y6vAk+AAAAAAAAAACMQnRazOrAPnzpvX9tsrk+bH150RwBYD6MLctxlLfbPS9TEXF/JfU+cnB4455qgD6wDK36kD1wPi9TEXF/JeU+GGtEvUgRez7g1xr79x/APupAU96uK6k+uUtczDZwnD6MQnRazOrAPliXuDYsNAY/i3NY//eHsD7OUdIVnN/bPXm2vY3lNfs9x/yZKT+4Dz8vUxFxfyX1PoxCdFrM6sA+FDHfCCmHYz7/MCwmARhpPks+HcjnORw+0b01x8V3Jj6MQnRazOrAPjs0bJh4BOk++mZ+SQqJUj7H/JkpP7j/PgAAAAAAAAAA/HoM8ZO/pz2AsRN+S5PUPVsSI+Nc7/Q+cmTLxcItfT4vUxFxfyXVPgAAAAAAAAAAAAAAAAAAAAAAAAAAAAAAAOBFLZJWw9E+AAAAAAAAAAAvUxFxfyX1PnpqIPdGEZs+L1MRcX8l5T6MQnRazOrAPgAAAAAAAAAASZv+LQkGUT4H1+IDwHV0PlU29Vj1JpA9Ig8goG5ODD4sBnHS/JvFPQNydOjrZ/k9L1EM/uua0z6aqaXsRN91PgAAAAAAAAAAAAAAAAAAAAAAAAAAAAAAAP1J5k+i2xs+AAAAAAAAAAC6vdfZ33zbPZfoZK8LcLI9AAAAAAAAAACVu+b4a6dVPo4E5L/Djtg9gT5+Hodiiz40bm1po8y0PgAAAAAAAAAAQed0VldNdT4AAAAAAAAAAAAAAAAAAAAAL1MRcX8lBT8BRXHuXMZ1Pfn4Gu911ZY+L1MRcX8l5T6wTey7GBGLPlAP8LIk6sA+AAAAAAAAAAAAAAAAAAAAANA38FLKMZM+emog90YRiz5wZ3zuqr62PrqBExFZodA9o2dQpGTFjD4vUxFxfyX1PnpqIPdGEWs+hBTQnVKZez4bdoyyzmIvPgAAAAAAAAAAPRCJZXyu3D3TY66HMmDJPqDFhGUBYpg+AZaXlJbqwD7VJzq8YxHEPqK3A7DNVTk+pj66dBHKlT4GzyZWIa7HPtNjrocyYNk+JbK8XnCmNz6Sxlm3dSzWPajL6bifhLU+VnzQE0mRnj6Vu+b4a6elPgAAAAAAAAAArmxB6edm0z1seXQ9sRVmPoxCdFrM6tA+OwaJGckilj4AAAAAAAAAAHpqIPdGEYs+emog90YRmz4NK60w6ItlPhd0nazxu1c+YeB5E/29cz4Zn3Qg898uPoxCdFrM6sA+jC3LcZS36z0vUxFxfyX1PnJ/UCuKpoE+02OuhzJg2T4AAAAAAAAAAAAAAAAAAAAAemog90YRaz589xodKDjaPnpqIPdGEYs+FVBCOVmHkT56aiD3RhGrPvMvdeRrCLU+Oa+ehFX9kz51qH4iByO6PoxCdFrM6sA+QLlLdMJSMT7TY66HMmDZPgAAAAAAAAAAXKtYxZe8Zj6wDK36kD1wPqNXb8F2LLY9UgiJ0vnCuT6MQnRazOrAPrqBExFZodA93E9YOfVMpD6KLctxlLcbPjTxLMy1buA+AAAAAAAAAAA6aw8WlYQLPgAAAAAAAAAAVKVnsaBqwT60mgW5ihVBP4KxfeDqxo0+L1MRcX8l9T4LJbp4x0L3Pi9TEXF/JfU+jEJ0WszqwD4AAAAAAAAAAPqnVU3fbio/jF6AaK5mKj6MQnRazOrAPgGm6cC5FZ4+0cLZfB1u0D6azhoDaCH1PjRJ5sngm/I+L1MRcX8lBT9njLYo3GXEPhBhbLju0MA+jEJ0WszqwD4AAAAAAAAAADB/75cOJJA9udZN17GlKD7cT1g59UyUPoqzZd4H2Ew+StfRiv7Ywj03xFB2EVfhPnfs/TmFnZs+6s8hadY9kD1Lj9plxoTAPkBKXDWLyVU+WzFq1XtVoz4ZdOnhJV3zPj3CWGiAWMc+1lmD4JPW5j5M6Eyi+jr0Prq3/8KleL4+L1MRcX8l9T50sXAK5EhDPmxWhO4gBoI+xZdBromcrj77p1VN324qP4xCdFrM6sA+QVak2nv3YD6MQnRazOrAPnpqIPdGEYs+JJ8z67zdxD0xFq5owcuQPoxCdFrM6sA+nTbrZ9MR5T6CPnOEMmDpPrE/tO/Z6J0+WkbXhTRQoD7dBllROiyZPoxCdFrM6sA+XV1K0v3TfD7QJIdveGBTPqg5TqlTAWw+emog90YRez6MQnRazOrAPi9TEXF/JfU+emog90YRez6MQnRazOrAPjyg/6eXcUg+ghj4/f+AsT4vUxFxfyX1Psf8mSk/uA8/emog90YRiz6gyLRLG5eCPoxCdFrM6rA+4EUtklbD4T6lDqBsS1vAPhWfG4KjK60+emog90YRiz53aiD3RhGLPmcfzRvYD9U+vAuHbI9AZT4WhbUnEsabPoxCdFrM6rA+kNWenpzVuD7AQF5csyijPrcBhsyptMA+v11CApJcWz5DmYhjeIzAPu5bOU/Nkto+jEJ0WszqwD6DVsqoCf61PoxCdFrM6sA+jEJ0WszqsD6MQnRazOrAPouEiWu9VzI+x/yZKT+4Dz8AAAAAAAAAABGBFq7dTSU+FDJClmyrwT56aiD3RhGLPtasTW7irOI+YN3DiQ1Xyj4uf6PYPUKlPg3q+yovoaA+jEJ0WszqwD5FW20dKOBIPkrglfJGEYs+iHjc74jQfj7cT1g59UzEPuBFLZJWw9E+aJ8eYNzayD56aiD3RhGLPtNjrocyYNk+jEJ0Wszq0D6wDK36kD1gPoxCdFrM6vA+dfi5Nt9bsz5op5O0vtZBPmFFcxqINbE+emog90YRuz6D45KV5s3PPqyflAY1Ppg+yxxa7KMa0z6ZDiN2LtbAPnpqIPdGEWs+L1MRcX8l9T56aiD3RhGbPi9TEXF/JfU+zjOPUcCbED/82IwPNVV1Pu0Xs4AF6rQ+jEJ0Wszq0D48YTK1HkemPuYvRB8G0IE+emog90YRiz6uI5jW8urbPc5Mg0PUbvA+XTrj+WKxuz6vmXXnbQ26Pu1BPXY0xr0+6cFp1asqhz5i6z9++grPPbAMrfqQPWA+3HffpD/vSD6MQnRazOrAPtNjrocyYNk+emog90YRmz7R6sB9EOO6PYxCdFrM6tA+3E9YOfVMpD6gGhn5TLd+Pt+9WWl/C64+6MSJbh4l5T4vUxFxfyXlPrAMrfqQPXA+u+185p6IWT5tYNAwb+GSPliXuDYsNAY/jEJ0Wszq0D4r+mWOmWp5PnpqIPdGEXs+LUQ4b1r09z6wUMT1/R/1PgAAAAAAAAAAjEJ0WszqwD4ZjbhqZolqPkkityVSMXk+e8/NudVfDD6MQnRazOrQPjiQh++5Ing+njRZlwtkyj4AAAAAAAAAAAAAAAAAAAAADsp7K7/YnD5gVbDsKXJzPsXSr2jnRiE+cT488svqwD4OTf4sw5CjPn3U+wK+QMc+L1MRcX8l9T53/B7HvFJhPlyrWMWXvJY+C3iCsk5xdT5Aw2fssM7DPnpqIPdGEYs+8qpJ4rhswT4AAAAAAAAAAAAAAAAAAAAAlbvm+GundT4PZwiQKX6FPi9TEXF/JfU+j1mlwtPRvj324owJiApNPnf8Hse8UiE+02OuhzJgyT7/3hEeNHrZPrjRtkt3nXM+L1MRcX8l5T56aiD3RhGLPnpqIPdGEas+zeHD9oTVwD47vzdo9jH9PSBAba1+3Ys+Q+omsuDLpj6MQnRazOrAPvidzize65c+P9Dz9Fk45T56aiD3RhF7PgYG2yKcftU+bsY85Z2knz4jCrWoqc9FPoxCdFrM6sA+rtiqmoy48T66fmiL3xUGP8ePhdZmISo/ii3LcZS36z0vk9lMQY9JPgAAAAAAAAAAuVJjfVTVuD56aiD3RhGLPplT1oCE0YE+AAAAAAAAAAB6aiD3RhGLPmYk9XBHcJA+5nLpWAEDlT526577+6c0Pi2xS3Xznt8+AAAAAAAAAAB1nONPnmKOPi9TEXF/JfU+d2og90YRiz67RGgIBodpPtxPWDn1TJQ+kNl/B//6kj4ykKHdo3k3P3pqIPdGEYs+n4DYSZZuKj/TgLZ9oe7aPpW75vhrp1U+lbvm+GunpT6HVKRCwQQSPoxCdFrM6sA+jEJ0WszqwD4iowdo5jJJPsOcaWTvJvU+emog90YRmz62iTV59LJWPshSXtg47DA+jgdQwGECQj6MQnRazOqwPvhXH1NfwsM+CPO2TkTrPT70bMT4YqX0PYKs8s0rvZE9UceZ0tzFaz70CeTmpYm6PQAAAAAAAAAA2FVxT//7gT5ogOsrNWjBPnpqIPdGEWs+iOyksWHK/T4T3tSX3Iq5Pjp8Ct7Kgtc+fTWYnrvdlj4YSaJeK+aKPnyn/L45AI0+B6uW0wL9oT4PFoR+nw/rPi9TEXF/JfU+POtqdJ6mlD/8wRvS6sbwPo0FJ3572oc+jT9QVGHibD6MQnRazOqgPqTEkPY4cBo+emog90YRiz6GOy/kFiGRPgE7BRdDjgc/QUgfLm0Hiz4Ff4lxVQCaPi/R7Rt35sA+yrW55SUI8z4VcBbKHW8aP0oP4GeTOyo/emog90YRiz5pa5tJQG4qPzf8FBNrSbE+ssEDcjNMwD0=\",\"dtype\":\"float64\",\"order\":\"little\",\"shape\":[832]}},\"selected\":{\"id\":\"1370\"},\"selection_policy\":{\"id\":\"1383\"}},\"id\":\"1369\",\"type\":\"ColumnDataSource\"},{\"attributes\":{\"end\":1.042857142857143,\"reset_end\":1.042857142857143,\"reset_start\":-0.04285714285714286,\"start\":-0.04285714285714286,\"tags\":[[[\"TotalCoinsMined\",\"TotalCoinsMined\",null]]]},\"id\":\"1329\",\"type\":\"Range1d\"},{\"attributes\":{\"fill_color\":{\"value\":\"#d62628\"},\"line_color\":{\"value\":\"#d62628\"},\"size\":{\"units\":\"screen\",\"value\":5.477225575051661},\"x\":{\"field\":\"TotalCoinsMined\"},\"y\":{\"field\":\"MaxSupply\"}},\"id\":\"1430\",\"type\":\"Scatter\"},{\"attributes\":{\"source\":{\"id\":\"1427\"}},\"id\":\"1434\",\"type\":\"CDSView\"},{\"attributes\":{},\"id\":\"1368\",\"type\":\"BasicTickFormatter\"},{\"attributes\":{\"below\":[{\"id\":\"1344\"}],\"center\":[{\"id\":\"1347\"},{\"id\":\"1351\"}],\"left\":[{\"id\":\"1348\"}],\"margin\":[5,5,5,5],\"min_border_bottom\":10,\"min_border_left\":10,\"min_border_right\":10,\"min_border_top\":10,\"plot_height\":300,\"plot_width\":700,\"renderers\":[{\"id\":\"1375\"},{\"id\":\"1393\"},{\"id\":\"1412\"},{\"id\":\"1433\"}],\"right\":[{\"id\":\"1385\"}],\"sizing_mode\":\"fixed\",\"title\":{\"id\":\"1336\"},\"toolbar\":{\"id\":\"1358\"},\"x_range\":{\"id\":\"1329\"},\"x_scale\":{\"id\":\"1340\"},\"y_range\":{\"id\":\"1330\"},\"y_scale\":{\"id\":\"1342\"}},\"id\":\"1335\",\"subtype\":\"Figure\",\"type\":\"Plot\"},{\"attributes\":{},\"id\":\"1345\",\"type\":\"BasicTicker\"},{\"attributes\":{\"bottom_units\":\"screen\",\"fill_alpha\":0.5,\"fill_color\":\"lightgrey\",\"left_units\":\"screen\",\"level\":\"overlay\",\"line_alpha\":1.0,\"line_color\":\"black\",\"line_dash\":[4,4],\"line_width\":2,\"right_units\":\"screen\",\"top_units\":\"screen\"},\"id\":\"1357\",\"type\":\"BoxAnnotation\"},{\"attributes\":{\"text\":\"\",\"text_color\":{\"value\":\"black\"},\"text_font_size\":{\"value\":\"12pt\"}},\"id\":\"1336\",\"type\":\"Title\"},{\"attributes\":{\"axis\":{\"id\":\"1344\"},\"grid_line_color\":null,\"ticker\":null},\"id\":\"1347\",\"type\":\"Grid\"},{\"attributes\":{\"source\":{\"id\":\"1406\"}},\"id\":\"1413\",\"type\":\"CDSView\"},{\"attributes\":{\"axis_label\":\"TotalCoinsMined\",\"bounds\":\"auto\",\"formatter\":{\"id\":\"1366\"},\"major_label_orientation\":\"horizontal\",\"ticker\":{\"id\":\"1345\"}},\"id\":\"1344\",\"type\":\"LinearAxis\"},{\"attributes\":{\"data_source\":{\"id\":\"1427\"},\"glyph\":{\"id\":\"1430\"},\"hover_glyph\":null,\"muted_glyph\":{\"id\":\"1432\"},\"nonselection_glyph\":{\"id\":\"1431\"},\"selection_glyph\":null,\"view\":{\"id\":\"1434\"}},\"id\":\"1433\",\"type\":\"GlyphRenderer\"},{\"attributes\":{\"children\":[{\"id\":\"1328\"},{\"id\":\"1335\"},{\"id\":\"1576\"}],\"margin\":[0,0,0,0],\"name\":\"Row02227\",\"tags\":[\"embedded\"]},\"id\":\"1327\",\"type\":\"Row\"},{\"attributes\":{\"fill_color\":{\"value\":\"#1f77b3\"},\"line_color\":{\"value\":\"#1f77b3\"},\"size\":{\"units\":\"screen\",\"value\":5.477225575051661},\"x\":{\"field\":\"TotalCoinsMined\"},\"y\":{\"field\":\"MaxSupply\"}},\"id\":\"1372\",\"type\":\"Scatter\"},{\"attributes\":{\"source\":{\"id\":\"1387\"}},\"id\":\"1394\",\"type\":\"CDSView\"},{\"attributes\":{\"fill_color\":{\"value\":\"#2ba02b\"},\"line_color\":{\"value\":\"#2ba02b\"},\"size\":{\"units\":\"screen\",\"value\":5.477225575051661},\"x\":{\"field\":\"TotalCoinsMined\"},\"y\":{\"field\":\"MaxSupply\"}},\"id\":\"1409\",\"type\":\"Scatter\"},{\"attributes\":{\"label\":{\"value\":\"2\"},\"renderers\":[{\"id\":\"1412\"}]},\"id\":\"1426\",\"type\":\"LegendItem\"},{\"attributes\":{\"fill_alpha\":{\"value\":0.1},\"fill_color\":{\"value\":\"#d62628\"},\"line_alpha\":{\"value\":0.1},\"line_color\":{\"value\":\"#d62628\"},\"size\":{\"units\":\"screen\",\"value\":5.477225575051661},\"x\":{\"field\":\"TotalCoinsMined\"},\"y\":{\"field\":\"MaxSupply\"}},\"id\":\"1431\",\"type\":\"Scatter\"},{\"attributes\":{\"callback\":null,\"renderers\":[{\"id\":\"1375\"},{\"id\":\"1393\"},{\"id\":\"1412\"},{\"id\":\"1433\"}],\"tags\":[\"hv_created\"],\"tooltips\":[[\"Class\",\"@{Class}\"],[\"TotalCoinsMined\",\"@{TotalCoinsMined}\"],[\"MaxSupply\",\"@{MaxSupply}\"],[\"CoinName\",\"@{CoinName}\"]]},\"id\":\"1331\",\"type\":\"HoverTool\"},{\"attributes\":{},\"id\":\"1428\",\"type\":\"Selection\"},{\"attributes\":{\"fill_color\":{\"value\":\"#ff7e0e\"},\"line_color\":{\"value\":\"#ff7e0e\"},\"size\":{\"units\":\"screen\",\"value\":5.477225575051661},\"x\":{\"field\":\"TotalCoinsMined\"},\"y\":{\"field\":\"MaxSupply\"}},\"id\":\"1390\",\"type\":\"Scatter\"},{\"attributes\":{},\"id\":\"1342\",\"type\":\"LinearScale\"},{\"attributes\":{\"source\":{\"id\":\"1369\"}},\"id\":\"1376\",\"type\":\"CDSView\"},{\"attributes\":{\"fill_alpha\":{\"value\":0.2},\"fill_color\":{\"value\":\"#d62628\"},\"line_alpha\":{\"value\":0.2},\"line_color\":{\"value\":\"#d62628\"},\"size\":{\"units\":\"screen\",\"value\":5.477225575051661},\"x\":{\"field\":\"TotalCoinsMined\"},\"y\":{\"field\":\"MaxSupply\"}},\"id\":\"1432\",\"type\":\"Scatter\"},{\"attributes\":{\"label\":{\"value\":\"0\"},\"renderers\":[{\"id\":\"1375\"}]},\"id\":\"1386\",\"type\":\"LegendItem\"},{\"attributes\":{},\"id\":\"1340\",\"type\":\"LinearScale\"},{\"attributes\":{\"label\":{\"value\":\"3\"},\"renderers\":[{\"id\":\"1433\"}]},\"id\":\"1449\",\"type\":\"LegendItem\"},{\"attributes\":{\"data_source\":{\"id\":\"1406\"},\"glyph\":{\"id\":\"1409\"},\"hover_glyph\":null,\"muted_glyph\":{\"id\":\"1411\"},\"nonselection_glyph\":{\"id\":\"1410\"},\"selection_glyph\":null,\"view\":{\"id\":\"1413\"}},\"id\":\"1412\",\"type\":\"GlyphRenderer\"},{\"attributes\":{},\"id\":\"1370\",\"type\":\"Selection\"},{\"attributes\":{\"data\":{\"Class\":[3,3,3],\"CoinName\":[\"VeriBlock\",\"Acute Angle Cloud\",\"Nexus\"],\"MaxSupply\":{\"__ndarray__\":\"wbaBwigq4jwm67xazOrAPtdNOBfWHIU+\",\"dtype\":\"float64\",\"order\":\"little\",\"shape\":[3]},\"TotalCoinsMined\":{\"__ndarray__\":\"AAAAAAAAAACMQnRazOrAPsKxyHgBs4I+\",\"dtype\":\"float64\",\"order\":\"little\",\"shape\":[3]}},\"selected\":{\"id\":\"1428\"},\"selection_policy\":{\"id\":\"1447\"}},\"id\":\"1427\",\"type\":\"ColumnDataSource\"},{\"attributes\":{\"axis_label\":\"MaxSupply\",\"bounds\":\"auto\",\"formatter\":{\"id\":\"1368\"},\"major_label_orientation\":\"horizontal\",\"ticker\":{\"id\":\"1349\"}},\"id\":\"1348\",\"type\":\"LinearAxis\"},{\"attributes\":{},\"id\":\"1407\",\"type\":\"Selection\"},{\"attributes\":{},\"id\":\"1447\",\"type\":\"UnionRenderers\"},{\"attributes\":{\"data\":{\"Class\":[1,1,1,1,1,1,1,1,1,1,1,1,1,1,1,1,1,1,1,1,1,1,1,1,1,1,1,1,1,1,1,1,1,1,1,1,1,1,1,1,1,1,1,1,1,1,1,1,1,1,1,1,1,1,1,1,1,1,1,1,1,1,1,1,1,1,1,1,1,1,1,1,1,1,1,1,1,1,1,1,1,1,1,1,1,1,1,1,1,1,1,1,1,1,1,1,1,1,1,1,1,1,1,1,1,1,1,1,1,1,1,1,1,1,1,1,1,1,1,1,1,1,1,1,1,1,1,1,1,1,1,1,1,1,1,1,1,1,1,1,1,1,1,1,1,1,1,1,1,1,1,1,1,1,1,1,1,1,1,1,1,1,1,1,1,1,1,1,1,1,1,1,1,1,1,1,1,1,1,1,1,1,1,1,1,1,1],\"CoinName\":[\"42 Coin\",\"365Coin\",\"404Coin\",\"SixEleven\",\"808\",\"Octocoin\",\"EliteCoin\",\"2015 coin\",\"BetaCoin\",\"MyriadCoin\",\"SexCoin\",\"NovaCoin\",\"VeriCoin\",\"CounterParty\",\"NuShares\",\"MonaCoin\",\"Triangles Coin\",\"Curecoin\",\"BitcoinPlus\",\"XCoin\",\"Sphere Coin\",\"Paycon\",\"Radium\",\"Emercoin\",\"OKCash\",\"SafeExchangeCoin\",\"CometCoin\",\"Karbo\",\"Opair\",\"LuckyBlocks\",\"FistBump\",\"Stakenet\",\"PAC Global\",\"OpenChat\",\"Prizm\",\"Dynamic\",\"Nimiq\",\"Dinastycoin\",\"Particl\",\"Amber\",\"Ripio\",\"BitcoinZ\",\"Pura\",\"Super Bitcoin\",\"HTML Coin\",\"UnitedBitcoin\",\"TokenPay\",\"Bitcoin Private\",\"Creditcoin\",\"Callisto Network\",\"Aidos Kuneen\",\"Pigeoncoin\",\"Zelcash\",\"Semux\",\"BitBlocks\",\"Haven Protocol\",\"Monero Classic\",\"Dero\",\"Verasity\",\"VideoCoin\",\"Giant\",\"Vitae\",\"EUNO\",\"NIX\",\"Kcash\",\"Paxos Standard\",\"Actinium\",\"ETHER-1\",\"ABBC Coin\",\"SINOVATE\",\"Smart Bitcoin\",\"Beam\",\"SOLVE\",\"Vidulum\",\"BitcoinX\",\"Aryacoin\",\"ESBC\",\"Smartshare\",\"Bitcoin Rhodium\",\"Super Zero\",\"Foin\",\"Beldex\",\"Nervos Network\",\"CUTcoin\",\"Zano\",\"Eureka Coin\",\"Handshake\",\"MimbleWimbleCoin\",\"Arweave\",\"Ravencoin Classic\",\"Buxcoin\",\"Velox\",\"Primas\",\"Meter\",\"Loki\",\"The Transfer Token\",\"AEON\",\"Bitcoin Vault\",\"Bitcoin ABC\",\"Ergo\",\"Infinity Economics\",\"BlackCoin\",\"Auroracoin\",\"SpainCoin\",\"TerraCredit\",\"FairCoin\",\"BitTorrent\",\"SmartCash\",\"ByteCoin\",\"INT\",\"Monero\",\"XDNA\",\"Gamecredits\",\"Bitcoin Diamond\",\"SysCoin\",\"Metaverse\",\"Lisk\",\"Dash\",\"Komodo\",\"GoldCoin\",\"Pyrk\",\"Wibcoin\",\"SaluS\",\"Ubiq\",\"Reddcoin\",\"Dogecoin\",\"Nxt\",\"ZCash\",\"Vertcoin\",\"Litecoin\",\"Decred\",\"Bitcoin\",\"Revain\",\"Grin\",\"Binance Coin\",\"Bitcoin SV\",\"QuarkCoin\",\"Expanse\",\"MegaCoin\",\"Electroneum\",\"PotCoin\",\"Gulden\",\"Rise\",\"Namecoin\",\"Einsteinium\",\"SibCoin\",\"Bitcoin Gold\",\"Groestlcoin\",\"DigitalNote \",\"ViaCoin\",\"FeatherCoin\",\"IOCoin\",\"WhiteCoin\",\"Firo\",\"CloakCoin\",\"Achain\",\"Verge\",\"BurstCoin\",\"Siacoin\",\"Poa Network\",\"Aeternity\",\"Bytom\",\"HyperCash\",\"Neblio\",\"MOAC\",\"BlockNet\",\"Horizen\",\"GoChain\",\"Waltonchain\",\"Bitcoin Cash\",\"Aion\",\"Shift\",\"NavCoin\",\"DigiByte\",\"VeChain\",\"QTUM\",\"Private Instant Verified Transaction\",\"Nano\",\"Ontology\",\"Ethereum Classic\",\"ARK\",\"ICON Project\",\"Steem\",\"Bitshares\",\"Ethereum\",\"Cardano\",\"EOS\"],\"MaxSupply\":{\"__ndarray__\":\"wbaBwigq4jzBtoHCKCriPMG2gcIoKuI8wbaBwigq4jzBtoHCKCriPMG2gcIoKuI8wbaBwigq4jzBtoHCKCriPMG2gcIoKuI8wbaBwigq4jzBtoHCKCriPAAAAAAAAAAAwbaBwigq4jwAAAAAAAAAAMG2gcIoKuI8AAAAAAAAAADBtoHCKCriPMG2gcIoKuI8wbaBwigq4jzBtoHCKCriPMG2gcIoKuI8wbaBwigq4jyALVeEFH1TPgAAAAAAAAAAwbaBwigq4jzBtoHCKCriPMG2gcIoKuI8wbaBwigq4jzBtoHCKCriPMG2gcIoKuI8wbaBwigq4jwAAAAAAAAAAMG2gcIoKuI8Juu8WszqwD7BtoHCKCriPMG2gcIoKuI81iG9Niw0Bj/BtoHCKCriPMG2gcIoKuI8AAAAAAAAAABY/LnEjOrAPsG2gcIoKuI8AAAAAAAAAADBtoHCKCriPMG2gcIoKuI8wbaBwigq4jzBtoHCKCriPNSkT8blw2g+1ZaYWszq0D7BtoHCKCriPMG2gcIoKuI8wbaBwigq4jw8G/S4vWucPsG2gcIoKuI8wbaBwigq4jzBtoHCKCriPMG2gcIoKuI8wbaBwigq4jz5TpqSeOb1Ptm1QWul7qE+wbaBwigq4jzBtoHCKCriPMG2gcIoKuI8wbaBwigq4jwm67xazOrAPmS1kFxnc6Q+wbaBwigq4jzBtoHCKCriPOBuieaXack+wbaBwigq4jzBtoHCKCriPLYCOQLL0qE+Juu8WszqwD7BtoHCKCriPMG2gcIoKuI8wbaBwigq4jzBtoHCKCriPDhoGnF/JfU+wbaBwigq4jzBtoHCKCriPJz0qvtGEYs+AAAAAAAAAAAAAAAAAAAAAMG2gcIoKuI8wbaBwigq4jzBtoHCKCriPMG2gcIoKuI8TOQQC2ynZT6CfuKxUt2BPsG2gcIoKuI8AAAAAAAAAADBtoHCKCriPJz0qvtGEYs+AAAAAAAAAAAAAAAAAAAAANWWmFrM6tA+AAAAAAAAAAAT1ILXl7xmPuRoF9eXvGY+wbaBwigq4jzBtoHCKCriPJz0qvtGEYs+E9SC15e8Zj7BtoHCKCriPMG2gcIoKuI8wbaBwigq4jx4eHORAFtgP019I3F/JeU+X3pStWxhOD8m67xazOrAPgAAAAAAAAAAwbaBwigq4jyDr2X5RhGbPjwb9Li9a5w+FA/raX8Lvj6c9Kr7RhGLPgAAAAAAAAAAWCktqoh2ZD6Dr2X5RhGbPmJcS9oajoM+wbaBwigq4jxD4XqtXYVgPwAAAAAAAAAAAAAAAAAAAAAAAAAAAAAAAAAAAAAAAAAAJuu8WszqwD4T1ILXl7xmPoE148mXvIY+gTXjyZe8hj4T1ILXl7xmPuRoF9eXvGY+ONbnf6d7Jj8AAAAAAAAAAAkObnLKkZc+5GgX15e8Zj4AAAAAAAAAAJz0qvtGEYs+sb9tzpe8dj7WIb02LDQGP7B40be9a6w+x373tr1rzD4AAAAAAAAAAAAAAAAAAAAAAAAAAAAAAAAT1ILXl7xmPhPUgteXvGY+VWA5u71rjD4AAAAAAAAAAAAAAAAAAAAA3E17xpe8pj7aw/Sjw9FnPibrvFrM6sA+yQBKKXYrZz4AAAAAAAAAAMG2gcIoKuI8wo2H1wWBAT98Q7T8sELSPgAAAAAAAAAAAAAAAAAAAADBtoHCKCriPDwb9Li9a5w+gTXjyZe8hj4AAAAAAAAAAAAAAAAAAAAAAAAAAAAAAAAT1ILXl7xmPgAAAAAAAAAASW5Ufn7ygj7kaBfXl7xmPgAAAAAAAAAAAAAAAAAAAAAAAAAAAAAAANYhvTYsNAY/F9VHtLvrJj9WRMkuUC+NPgAAAAAAAAAAeH7bXJIIkj4AAAAAAAAAAASt11r+g5w+AAAAAAAAAAAAAAAAAAAAAAAAAAAAAAAAWGgCF6x03j4AAAAAAAAAAM3CNV8vyhc/AAAAAAAAAAA=\",\"dtype\":\"float64\",\"order\":\"little\",\"shape\":[187]},\"TotalCoinsMined\":{\"__ndarray__\":\"AAAAAAAAAAAAAAAAAAAAAAAAAAAAAAAAAAAAAAAAAAAAAAAAAAAAAAAAAAAAAAAAAAAAAAAAAAAAAAAAAAAAAAAAAAAAAAAAAAAAAAAAAAAAAAAAAAAAAIYjv0ZXuzo+AAAAAAAAAAD3ZEl14aY2PokhRUUNvug+GzOIi1SuhT7UiG1Qrxr3PQAAAAAAAAAAAAAAAAAAAAAAAAAAAAAAAAAAAAAAAAAAAAAAAAAAAAA+baWUki1CPoSmOmm7THk+AAAAAAAAAAAAAAAAAAAAAOAhxjCLPR4+AAAAAAAAAAAAAAAAAAAAAAAAAAAAAAAAAAAAAAAAAAD1xUKyBGmPPgAAAAAAAAAAjEJ0WszqwD4AAAAAAAAAAAAAAAAAAAAA6uxOKsqF8D4AAAAAAAAAAAAAAAAAAAAA8UhtmYZYtT6+U3HEjOrAPgAAAAAAAAAAQnJT7MlsmT4AAAAAAAAAAAAAAAAAAAAAAAAAAAAAAAAAAAAAAAAAAIDbZEPuiUA+c/hgpvjTtj4AAAAAAAAAAHpqIPdGEWs+AAAAAAAAAAA8QWFK4xyQPgAAAAAAAAAAAAAAAAAAAAAAAAAAAAAAAAAAAAAAAAAAAAAAAAAAAADxOZGSeOb1PlcTH2ql7qE+AAAAAAAAAAAAAAAAAAAAAAAAAAAAAAAAAAAAAAAAAACMQnRazOrAPuQSbltnc6Q+AAAAAAAAAAAAAAAAAAAAANNjrocyYMk+AAAAAAAAAAAAAAAAAAAAAKW7MEuc5YA+jEJ0WszqwD4AAAAAAAAAAAAAAAAAAAAAAAAAAAAAAAAAAAAAAAAAAC9TEXF/JfU+AAAAAAAAAAAAAAAAAAAAAP6gaeyW8Yg+MPsd5hSwxz4btIRtBwMQPwAAAAAAAAAAAAAAAAAAAAAAAAAAAAAAAAAAAAAAAAAApfEhtWIiVz5Dvh//nT2BPgAAAAAAAAAA78pdkbp0rj4AAAAAAAAAAHpqIPdGEYs+lbvm+GundT5QY1oVDi98PoxCdFrM6tA+l/G50kUyYz5heOzTHQBWPnKQ/H3nI2Q+AAAAAAAAAAAAAAAAAAAAAMzzXIdjWIA+87/2I3GVZD4AAAAAAAAAAAAAAAAAAAAAAAAAAAAAAADYsKtM9FpgP627/vZK19U+iJB9ilZhOD/Mcw107SOvPiujOoehRGM+AAAAAAAAAAB6aiD3RhGbPpXaXYCc7po+pJt3TgdmtD477WzetYeFPsAS6Kk7U5M+BGpb62hqVT64cm+dvPaQPlabLZkuUHc+AAAAAAAAAAAiz3qtXYVgP6aZmGdx4SE+I1oxZWzwej6Kzk3A+ZcPPzUm7YQA3DA/9YXOlnfmwD5OJzmbLgRXPhZXlgPAZX8+490okAEKgj5NSMDsZedaPpTM6qNQHmQ+obPmf6d7Jj8C+t1vmwV/Pv7IKHDKkZc+2MjXfp4lZD72FX161h2iPnt41Zf3yHI+J1w+VdBMdT4XJfH9EJ31PpG+klPBfp4+UqnLclvNsT4NIV7HKMWWPqt3cpCSqGI+MjR8EN7rnT7mcegxh3BkPmp+jZZGJGQ+jMm/r2q7hD6iQT/ts4nlPvqepxXKFmk+ds8BNxDWnz6apcvBEyJkPoG7uGfslL4+dkdzXxKaWD5j/zXohxhIPoxCdFrM6sA+yfxJatJZAT8LoiWS9NzRPrBPSI/x6Bc/fKDI2k4koz71ei2KcUqpPlq9RAT/1Ms+am0hHehVeD7hd0QDkq5iPo1fJffIl5U+0OMD024CUD6vqQYMFuxWPsFCEnYY38I+kgiHpQgabT7/fVOUHidkPipTIVCAfrA+cxxNGwFHXz7qQsaYIRqDPk0D/9ZFYP0+/oEYd3+6Jj81hxI9luOLPiLgXnn4ihs+ajmWWpIIkj6MQnRazOrAPqY+K4+FyZA+7fZzDe/glD7+ZCy02XW9PmnElX2+Qak+Z+5fs/1U2T4mqMx689qOPgOrBpX40BA/nkcgFdVZwT4=\",\"dtype\":\"float64\",\"order\":\"little\",\"shape\":[187]}},\"selected\":{\"id\":\"1388\"},\"selection_policy\":{\"id\":\"1403\"}},\"id\":\"1387\",\"type\":\"ColumnDataSource\"},{\"attributes\":{\"data\":{\"Class\":[2,2],\"CoinName\":[\"V Systems\",\"Waves\"],\"MaxSupply\":{\"__ndarray__\":\"AAAAAAAAAAAAAAAAAAAAAA==\",\"dtype\":\"float64\",\"order\":\"little\",\"shape\":[2]},\"TotalCoinsMined\":{\"__ndarray__\":\"P5HNLOE66D7sThbS6SGMPg==\",\"dtype\":\"float64\",\"order\":\"little\",\"shape\":[2]}},\"selected\":{\"id\":\"1407\"},\"selection_policy\":{\"id\":\"1424\"}},\"id\":\"1406\",\"type\":\"ColumnDataSource\"},{\"attributes\":{\"click_policy\":\"mute\",\"items\":[{\"id\":\"1386\"},{\"id\":\"1405\"},{\"id\":\"1426\"},{\"id\":\"1449\"}],\"location\":[0,0],\"title\":\"Class\"},\"id\":\"1385\",\"type\":\"Legend\"},{\"attributes\":{\"fill_alpha\":{\"value\":0.2},\"fill_color\":{\"value\":\"#1f77b3\"},\"line_alpha\":{\"value\":0.2},\"line_color\":{\"value\":\"#1f77b3\"},\"size\":{\"units\":\"screen\",\"value\":5.477225575051661},\"x\":{\"field\":\"TotalCoinsMined\"},\"y\":{\"field\":\"MaxSupply\"}},\"id\":\"1374\",\"type\":\"Scatter\"},{\"attributes\":{\"data_source\":{\"id\":\"1387\"},\"glyph\":{\"id\":\"1390\"},\"hover_glyph\":null,\"muted_glyph\":{\"id\":\"1392\"},\"nonselection_glyph\":{\"id\":\"1391\"},\"selection_glyph\":null,\"view\":{\"id\":\"1394\"}},\"id\":\"1393\",\"type\":\"GlyphRenderer\"}],\"root_ids\":[\"1327\"]},\"title\":\"Bokeh Application\",\"version\":\"2.2.3\"}};\n    var render_items = [{\"docid\":\"00736edf-3265-41bb-b95c-9e70c54970c4\",\"root_ids\":[\"1327\"],\"roots\":{\"1327\":\"0d98b00d-cf35-4b47-81bf-3eb01dba2c10\"}}];\n    root.Bokeh.embed.embed_items_notebook(docs_json, render_items);\n  }\n  if (root.Bokeh !== undefined && root.Bokeh.Panel !== undefined) {\n    embed_document(root);\n  } else {\n    var attempts = 0;\n    var timer = setInterval(function(root) {\n      if (root.Bokeh !== undefined && root.Bokeh.Panel !== undefined) {\n        clearInterval(timer);\n        embed_document(root);\n      } else if (document.readyState == \"complete\") {\n        attempts++;\n        if (attempts > 100) {\n          clearInterval(timer);\n          console.log(\"Bokeh: ERROR: Unable to run BokehJS code because BokehJS library is missing\");\n        }\n      }\n    }, 10, root)\n  }\n})(window);</script>",
      "application/vnd.holoviews_exec.v0+json": "",
      "text/plain": [
       ":NdOverlay   [Class]\n",
       "   :Scatter   [TotalCoinsMined]   (MaxSupply,CoinName)"
      ]
     },
     "metadata": {
      "application/vnd.holoviews_exec.v0+json": {
       "id": "1327"
      }
     },
     "execution_count": 244
    }
   ],
   "source": [
    "# Plot the scatter with x=\"TotalCoinsMined\" and y=\"TotalCoinSupply\"\n",
    "min_max_df = pd.DataFrame(\n",
    "    data=min_max,\n",
    "    columns=[\"TotalCoinsMined\", \"MaxSupply\"],\n",
    "    index=clustered_df.index\n",
    ")\n",
    "\n",
    "min_max_df.head\n",
    "\n",
    "# Create a hvplot.scatter plot using x=\"TotalCoinsMined\" and y=\"TotalCoinSupply\".\n",
    "min_max_df[\"CoinName\"] = coin_name_df[\"CoinName\"]\n",
    "min_max_df[\"Class\"] = cryptocluster_df[\"Class\"] \n",
    "min_max_df.hvplot.scatter(\n",
    "    x=\"TotalCoinsMined\",\n",
    "    y=\"MaxSupply\",\n",
    "    by=\"Class\",\n",
    "    hover_cols=[\"CoinName\"],\n",
    ")"
   ]
  },
  {
   "cell_type": "code",
   "execution_count": null,
   "metadata": {},
   "outputs": [],
   "source": []
  }
 ],
 "metadata": {
  "file_extension": ".py",
  "kernelspec": {
   "display_name": "Python 3",
   "language": "python",
   "name": "python3"
  },
  "language_info": {
   "codemirror_mode": {
    "name": "ipython",
    "version": 3
   },
   "file_extension": ".py",
   "mimetype": "text/x-python",
   "name": "python",
   "nbconvert_exporter": "python",
   "pygments_lexer": "ipython3",
   "version": "3.8.5-final"
  },
  "mimetype": "text/x-python",
  "name": "python",
  "npconvert_exporter": "python",
  "pygments_lexer": "ipython3",
  "version": 3
 },
 "nbformat": 4,
 "nbformat_minor": 4
}