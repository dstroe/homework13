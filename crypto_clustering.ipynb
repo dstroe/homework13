{
 "cells": [
  {
   "cell_type": "markdown",
   "metadata": {},
   "source": [
    "# Clustering Crypto"
   ]
  },
  {
   "cell_type": "code",
   "execution_count": 134,
   "metadata": {},
   "outputs": [],
   "source": [
    "# Initial imports\n",
    "import requests\n",
    "import pandas as pd\n",
    "import matplotlib.pyplot as plt\n",
    "import hvplot.pandas\n",
    "import plotly.express as px\n",
    "from sklearn.preprocessing import StandardScaler, MinMaxScaler\n",
    "from sklearn.decomposition import PCA\n",
    "from sklearn.cluster import KMeans\n",
    "from urllib.request import Request, urlopen\n",
    "import json"
   ]
  },
  {
   "cell_type": "markdown",
   "metadata": {},
   "source": [
    "### Fetching Cryptocurrency Data"
   ]
  },
  {
   "cell_type": "code",
   "execution_count": 135,
   "metadata": {},
   "outputs": [],
   "source": [
    "# Use the following endpoint to fetch json data\n",
    "url = \"https://min-api.cryptocompare.com/data/all/coinlist\"\n",
    "json_request = Request(url)\n",
    "json_response = urlopen(json_request)\n",
    "data = json_response.read()\n",
    "json_data = json.loads(data)"
   ]
  },
  {
   "cell_type": "code",
   "execution_count": 136,
   "metadata": {},
   "outputs": [
    {
     "output_type": "execute_result",
     "data": {
      "text/plain": [
       "         Id                  Url                         ImageUrl  \\\n",
       "42     4321   /coins/42/overview           /media/35650717/42.jpg   \n",
       "300  749869  /coins/300/overview          /media/27010595/300.png   \n",
       "365   33639  /coins/365/overview            /media/352070/365.png   \n",
       "404   21227  /coins/404/overview  /media/35650851/404-300x300.jpg   \n",
       "433  926547  /coins/433/overview          /media/34836095/433.png   \n",
       "\n",
       "    ContentCreatedOn Name Symbol   CoinName         FullName  \\\n",
       "42        1427211129   42     42    42 Coin     42 Coin (42)   \n",
       "300       1517935016  300    300  300 token  300 token (300)   \n",
       "365       1480032918  365    365    365Coin    365Coin (365)   \n",
       "404       1466100361  404    404    404Coin    404Coin (404)   \n",
       "433       1541597321  433    433  433 Token  433 Token (433)   \n",
       "\n",
       "                                           Description AssetTokenStatus  ...  \\\n",
       "42   Everything about 42 coin is 42 - apart from th...              N/A  ...   \n",
       "300  300 token is an ERC20 token. This Token was cr...              N/A  ...   \n",
       "365  365Coin is a Proof of Work and Proof of Stake ...              N/A  ...   \n",
       "404  404 is a PoW/PoS hybrid cryptocurrency that al...              N/A  ...   \n",
       "433  433 Token is a decentralised soccer platform t...         Finished  ...   \n",
       "\n",
       "    BlockTime AssetLaunchDate MaxSupply MktCapPenalty PlatformType BuiltOn  \\\n",
       "42          0      0000-00-00         0             0          NaN     NaN   \n",
       "300         0      2017-07-01       300             0        token     ETH   \n",
       "365         0      0000-00-00         0             0          NaN     NaN   \n",
       "404         0      0000-00-00         0             0          NaN     NaN   \n",
       "433       NaN             NaN       NaN           NaN          NaN     NaN   \n",
       "\n",
       "                           SmartContractAddress DecimalPoints Difficulty  \\\n",
       "42                                          NaN           NaN        NaN   \n",
       "300  0xaec98a708810414878c3bcdf46aad31ded4a4557            18        NaN   \n",
       "365                                         NaN           NaN        NaN   \n",
       "404                                         NaN           NaN        NaN   \n",
       "433                                         NaN           NaN        NaN   \n",
       "\n",
       "    IsUsedInDefi  \n",
       "42           NaN  \n",
       "300          NaN  \n",
       "365          NaN  \n",
       "404          NaN  \n",
       "433          NaN  \n",
       "\n",
       "[5 rows x 31 columns]"
      ],
      "text/html": "<div>\n<style scoped>\n    .dataframe tbody tr th:only-of-type {\n        vertical-align: middle;\n    }\n\n    .dataframe tbody tr th {\n        vertical-align: top;\n    }\n\n    .dataframe thead th {\n        text-align: right;\n    }\n</style>\n<table border=\"1\" class=\"dataframe\">\n  <thead>\n    <tr style=\"text-align: right;\">\n      <th></th>\n      <th>Id</th>\n      <th>Url</th>\n      <th>ImageUrl</th>\n      <th>ContentCreatedOn</th>\n      <th>Name</th>\n      <th>Symbol</th>\n      <th>CoinName</th>\n      <th>FullName</th>\n      <th>Description</th>\n      <th>AssetTokenStatus</th>\n      <th>...</th>\n      <th>BlockTime</th>\n      <th>AssetLaunchDate</th>\n      <th>MaxSupply</th>\n      <th>MktCapPenalty</th>\n      <th>PlatformType</th>\n      <th>BuiltOn</th>\n      <th>SmartContractAddress</th>\n      <th>DecimalPoints</th>\n      <th>Difficulty</th>\n      <th>IsUsedInDefi</th>\n    </tr>\n  </thead>\n  <tbody>\n    <tr>\n      <th>42</th>\n      <td>4321</td>\n      <td>/coins/42/overview</td>\n      <td>/media/35650717/42.jpg</td>\n      <td>1427211129</td>\n      <td>42</td>\n      <td>42</td>\n      <td>42 Coin</td>\n      <td>42 Coin (42)</td>\n      <td>Everything about 42 coin is 42 - apart from th...</td>\n      <td>N/A</td>\n      <td>...</td>\n      <td>0</td>\n      <td>0000-00-00</td>\n      <td>0</td>\n      <td>0</td>\n      <td>NaN</td>\n      <td>NaN</td>\n      <td>NaN</td>\n      <td>NaN</td>\n      <td>NaN</td>\n      <td>NaN</td>\n    </tr>\n    <tr>\n      <th>300</th>\n      <td>749869</td>\n      <td>/coins/300/overview</td>\n      <td>/media/27010595/300.png</td>\n      <td>1517935016</td>\n      <td>300</td>\n      <td>300</td>\n      <td>300 token</td>\n      <td>300 token (300)</td>\n      <td>300 token is an ERC20 token. This Token was cr...</td>\n      <td>N/A</td>\n      <td>...</td>\n      <td>0</td>\n      <td>2017-07-01</td>\n      <td>300</td>\n      <td>0</td>\n      <td>token</td>\n      <td>ETH</td>\n      <td>0xaec98a708810414878c3bcdf46aad31ded4a4557</td>\n      <td>18</td>\n      <td>NaN</td>\n      <td>NaN</td>\n    </tr>\n    <tr>\n      <th>365</th>\n      <td>33639</td>\n      <td>/coins/365/overview</td>\n      <td>/media/352070/365.png</td>\n      <td>1480032918</td>\n      <td>365</td>\n      <td>365</td>\n      <td>365Coin</td>\n      <td>365Coin (365)</td>\n      <td>365Coin is a Proof of Work and Proof of Stake ...</td>\n      <td>N/A</td>\n      <td>...</td>\n      <td>0</td>\n      <td>0000-00-00</td>\n      <td>0</td>\n      <td>0</td>\n      <td>NaN</td>\n      <td>NaN</td>\n      <td>NaN</td>\n      <td>NaN</td>\n      <td>NaN</td>\n      <td>NaN</td>\n    </tr>\n    <tr>\n      <th>404</th>\n      <td>21227</td>\n      <td>/coins/404/overview</td>\n      <td>/media/35650851/404-300x300.jpg</td>\n      <td>1466100361</td>\n      <td>404</td>\n      <td>404</td>\n      <td>404Coin</td>\n      <td>404Coin (404)</td>\n      <td>404 is a PoW/PoS hybrid cryptocurrency that al...</td>\n      <td>N/A</td>\n      <td>...</td>\n      <td>0</td>\n      <td>0000-00-00</td>\n      <td>0</td>\n      <td>0</td>\n      <td>NaN</td>\n      <td>NaN</td>\n      <td>NaN</td>\n      <td>NaN</td>\n      <td>NaN</td>\n      <td>NaN</td>\n    </tr>\n    <tr>\n      <th>433</th>\n      <td>926547</td>\n      <td>/coins/433/overview</td>\n      <td>/media/34836095/433.png</td>\n      <td>1541597321</td>\n      <td>433</td>\n      <td>433</td>\n      <td>433 Token</td>\n      <td>433 Token (433)</td>\n      <td>433 Token is a decentralised soccer platform t...</td>\n      <td>Finished</td>\n      <td>...</td>\n      <td>NaN</td>\n      <td>NaN</td>\n      <td>NaN</td>\n      <td>NaN</td>\n      <td>NaN</td>\n      <td>NaN</td>\n      <td>NaN</td>\n      <td>NaN</td>\n      <td>NaN</td>\n      <td>NaN</td>\n    </tr>\n  </tbody>\n</table>\n<p>5 rows × 31 columns</p>\n</div>"
     },
     "metadata": {},
     "execution_count": 136
    }
   ],
   "source": [
    "# Create a DataFrame \n",
    "crypto_df = pd.DataFrame(json_data['Data']).T\n",
    "crypto_df.head()"
   ]
  },
  {
   "cell_type": "code",
   "execution_count": null,
   "metadata": {},
   "outputs": [],
   "source": [
    "# Alternatively, use the provided csv file:\n",
    "# file_path = Path(\"Resources/crypto_data.csv\")\n",
    "\n",
    "# Create a DataFrame"
   ]
  },
  {
   "cell_type": "markdown",
   "metadata": {},
   "source": [
    "### Data Preprocessing"
   ]
  },
  {
   "cell_type": "code",
   "execution_count": 159,
   "metadata": {},
   "outputs": [],
   "source": [
    "# Keep only necessary columns:\n",
    "# 'CoinName','Algorithm','IsTrading','ProofType','TotalCoinsMined','TotalCoinSupply'\n",
    "\n",
    "new_crypto_df = crypto_df.drop(columns=['Id','Url','ImageUrl','ContentCreatedOn','Name','Symbol','FullName','Description', 'AssetTokenStatus','BlockTime','AssetLaunchDate', 'MktCapPenalty', 'PlatformType', 'BuiltOn', 'SmartContractAddress', 'DecimalPoints', 'Difficulty', 'Taxonomy', 'Sponsored', 'SortOrder', 'Rating','NetHashesPerSecond','BlockNumber','BlockReward','IsUsedInDefi'])\n"
   ]
  },
  {
   "cell_type": "code",
   "execution_count": 160,
   "metadata": {},
   "outputs": [
    {
     "output_type": "execute_result",
     "data": {
      "text/plain": [
       "         CoinName Algorithm ProofType IsTrading TotalCoinsMined MaxSupply\n",
       "42        42 Coin    Scrypt   PoW/PoS      True               0         0\n",
       "300     300 token       N/A       N/A      True             300       300\n",
       "365       365Coin       X11   PoW/PoS      True               0         0\n",
       "404       404Coin    Scrypt   PoW/PoS      True               0         0\n",
       "611     SixEleven   SHA-256       PoW      True               0         0\n",
       "808           808   SHA-256   PoW/PoS      True               0         0\n",
       "888      Octocoin       N/A       PoW      True               0         0\n",
       "1337    EliteCoin       X13   PoW/PoS      True               0         0\n",
       "2015    2015 coin       X11   PoW/PoS      True               0         0\n",
       "BTCD  BitcoinDark   SHA-256   PoW/PoS      True             NaN       NaN"
      ],
      "text/html": "<div>\n<style scoped>\n    .dataframe tbody tr th:only-of-type {\n        vertical-align: middle;\n    }\n\n    .dataframe tbody tr th {\n        vertical-align: top;\n    }\n\n    .dataframe thead th {\n        text-align: right;\n    }\n</style>\n<table border=\"1\" class=\"dataframe\">\n  <thead>\n    <tr style=\"text-align: right;\">\n      <th></th>\n      <th>CoinName</th>\n      <th>Algorithm</th>\n      <th>ProofType</th>\n      <th>IsTrading</th>\n      <th>TotalCoinsMined</th>\n      <th>MaxSupply</th>\n    </tr>\n  </thead>\n  <tbody>\n    <tr>\n      <th>42</th>\n      <td>42 Coin</td>\n      <td>Scrypt</td>\n      <td>PoW/PoS</td>\n      <td>True</td>\n      <td>0</td>\n      <td>0</td>\n    </tr>\n    <tr>\n      <th>300</th>\n      <td>300 token</td>\n      <td>N/A</td>\n      <td>N/A</td>\n      <td>True</td>\n      <td>300</td>\n      <td>300</td>\n    </tr>\n    <tr>\n      <th>365</th>\n      <td>365Coin</td>\n      <td>X11</td>\n      <td>PoW/PoS</td>\n      <td>True</td>\n      <td>0</td>\n      <td>0</td>\n    </tr>\n    <tr>\n      <th>404</th>\n      <td>404Coin</td>\n      <td>Scrypt</td>\n      <td>PoW/PoS</td>\n      <td>True</td>\n      <td>0</td>\n      <td>0</td>\n    </tr>\n    <tr>\n      <th>611</th>\n      <td>SixEleven</td>\n      <td>SHA-256</td>\n      <td>PoW</td>\n      <td>True</td>\n      <td>0</td>\n      <td>0</td>\n    </tr>\n    <tr>\n      <th>808</th>\n      <td>808</td>\n      <td>SHA-256</td>\n      <td>PoW/PoS</td>\n      <td>True</td>\n      <td>0</td>\n      <td>0</td>\n    </tr>\n    <tr>\n      <th>888</th>\n      <td>Octocoin</td>\n      <td>N/A</td>\n      <td>PoW</td>\n      <td>True</td>\n      <td>0</td>\n      <td>0</td>\n    </tr>\n    <tr>\n      <th>1337</th>\n      <td>EliteCoin</td>\n      <td>X13</td>\n      <td>PoW/PoS</td>\n      <td>True</td>\n      <td>0</td>\n      <td>0</td>\n    </tr>\n    <tr>\n      <th>2015</th>\n      <td>2015 coin</td>\n      <td>X11</td>\n      <td>PoW/PoS</td>\n      <td>True</td>\n      <td>0</td>\n      <td>0</td>\n    </tr>\n    <tr>\n      <th>BTCD</th>\n      <td>BitcoinDark</td>\n      <td>SHA-256</td>\n      <td>PoW/PoS</td>\n      <td>True</td>\n      <td>NaN</td>\n      <td>NaN</td>\n    </tr>\n  </tbody>\n</table>\n</div>"
     },
     "metadata": {},
     "execution_count": 160
    }
   ],
   "source": [
    "# Keep only cryptocurrencies that are trading\n",
    "is_trading_df = new_crypto_df[new_crypto_df.IsTrading == True]\n",
    "is_trading_df.head(10)"
   ]
  },
  {
   "cell_type": "code",
   "execution_count": 164,
   "metadata": {},
   "outputs": [
    {
     "output_type": "execute_result",
     "data": {
      "text/plain": [
       "         CoinName Algorithm ProofType IsTrading TotalCoinsMined MaxSupply\n",
       "42        42 Coin    Scrypt   PoW/PoS      True               0         0\n",
       "300     300 token       N/A       N/A      True             300       300\n",
       "365       365Coin       X11   PoW/PoS      True               0         0\n",
       "404       404Coin    Scrypt   PoW/PoS      True               0         0\n",
       "611     SixEleven   SHA-256       PoW      True               0         0\n",
       "808           808   SHA-256   PoW/PoS      True               0         0\n",
       "888      Octocoin       N/A       PoW      True               0         0\n",
       "1337    EliteCoin       X13   PoW/PoS      True               0         0\n",
       "2015    2015 coin       X11   PoW/PoS      True               0         0\n",
       "BTCD  BitcoinDark   SHA-256   PoW/PoS      True             NaN       NaN"
      ],
      "text/html": "<div>\n<style scoped>\n    .dataframe tbody tr th:only-of-type {\n        vertical-align: middle;\n    }\n\n    .dataframe tbody tr th {\n        vertical-align: top;\n    }\n\n    .dataframe thead th {\n        text-align: right;\n    }\n</style>\n<table border=\"1\" class=\"dataframe\">\n  <thead>\n    <tr style=\"text-align: right;\">\n      <th></th>\n      <th>CoinName</th>\n      <th>Algorithm</th>\n      <th>ProofType</th>\n      <th>IsTrading</th>\n      <th>TotalCoinsMined</th>\n      <th>MaxSupply</th>\n    </tr>\n  </thead>\n  <tbody>\n    <tr>\n      <th>42</th>\n      <td>42 Coin</td>\n      <td>Scrypt</td>\n      <td>PoW/PoS</td>\n      <td>True</td>\n      <td>0</td>\n      <td>0</td>\n    </tr>\n    <tr>\n      <th>300</th>\n      <td>300 token</td>\n      <td>N/A</td>\n      <td>N/A</td>\n      <td>True</td>\n      <td>300</td>\n      <td>300</td>\n    </tr>\n    <tr>\n      <th>365</th>\n      <td>365Coin</td>\n      <td>X11</td>\n      <td>PoW/PoS</td>\n      <td>True</td>\n      <td>0</td>\n      <td>0</td>\n    </tr>\n    <tr>\n      <th>404</th>\n      <td>404Coin</td>\n      <td>Scrypt</td>\n      <td>PoW/PoS</td>\n      <td>True</td>\n      <td>0</td>\n      <td>0</td>\n    </tr>\n    <tr>\n      <th>611</th>\n      <td>SixEleven</td>\n      <td>SHA-256</td>\n      <td>PoW</td>\n      <td>True</td>\n      <td>0</td>\n      <td>0</td>\n    </tr>\n    <tr>\n      <th>808</th>\n      <td>808</td>\n      <td>SHA-256</td>\n      <td>PoW/PoS</td>\n      <td>True</td>\n      <td>0</td>\n      <td>0</td>\n    </tr>\n    <tr>\n      <th>888</th>\n      <td>Octocoin</td>\n      <td>N/A</td>\n      <td>PoW</td>\n      <td>True</td>\n      <td>0</td>\n      <td>0</td>\n    </tr>\n    <tr>\n      <th>1337</th>\n      <td>EliteCoin</td>\n      <td>X13</td>\n      <td>PoW/PoS</td>\n      <td>True</td>\n      <td>0</td>\n      <td>0</td>\n    </tr>\n    <tr>\n      <th>2015</th>\n      <td>2015 coin</td>\n      <td>X11</td>\n      <td>PoW/PoS</td>\n      <td>True</td>\n      <td>0</td>\n      <td>0</td>\n    </tr>\n    <tr>\n      <th>BTCD</th>\n      <td>BitcoinDark</td>\n      <td>SHA-256</td>\n      <td>PoW/PoS</td>\n      <td>True</td>\n      <td>NaN</td>\n      <td>NaN</td>\n    </tr>\n  </tbody>\n</table>\n</div>"
     },
     "metadata": {},
     "execution_count": 164
    }
   ],
   "source": [
    "# Keep only cryptocurrencies with a working algorithm\n",
    "working_algo_df = is_trading_df.dropna(axis=0, subset=[\"Algorithm\"])\n",
    "working_algo_df.head(10)"
   ]
  },
  {
   "cell_type": "code",
   "execution_count": 166,
   "metadata": {},
   "outputs": [
    {
     "output_type": "execute_result",
     "data": {
      "text/plain": [
       "         CoinName Algorithm ProofType TotalCoinsMined MaxSupply\n",
       "42        42 Coin    Scrypt   PoW/PoS               0         0\n",
       "300     300 token       N/A       N/A             300       300\n",
       "365       365Coin       X11   PoW/PoS               0         0\n",
       "404       404Coin    Scrypt   PoW/PoS               0         0\n",
       "611     SixEleven   SHA-256       PoW               0         0\n",
       "808           808   SHA-256   PoW/PoS               0         0\n",
       "888      Octocoin       N/A       PoW               0         0\n",
       "1337    EliteCoin       X13   PoW/PoS               0         0\n",
       "2015    2015 coin       X11   PoW/PoS               0         0\n",
       "BTCD  BitcoinDark   SHA-256   PoW/PoS             NaN       NaN"
      ],
      "text/html": "<div>\n<style scoped>\n    .dataframe tbody tr th:only-of-type {\n        vertical-align: middle;\n    }\n\n    .dataframe tbody tr th {\n        vertical-align: top;\n    }\n\n    .dataframe thead th {\n        text-align: right;\n    }\n</style>\n<table border=\"1\" class=\"dataframe\">\n  <thead>\n    <tr style=\"text-align: right;\">\n      <th></th>\n      <th>CoinName</th>\n      <th>Algorithm</th>\n      <th>ProofType</th>\n      <th>TotalCoinsMined</th>\n      <th>MaxSupply</th>\n    </tr>\n  </thead>\n  <tbody>\n    <tr>\n      <th>42</th>\n      <td>42 Coin</td>\n      <td>Scrypt</td>\n      <td>PoW/PoS</td>\n      <td>0</td>\n      <td>0</td>\n    </tr>\n    <tr>\n      <th>300</th>\n      <td>300 token</td>\n      <td>N/A</td>\n      <td>N/A</td>\n      <td>300</td>\n      <td>300</td>\n    </tr>\n    <tr>\n      <th>365</th>\n      <td>365Coin</td>\n      <td>X11</td>\n      <td>PoW/PoS</td>\n      <td>0</td>\n      <td>0</td>\n    </tr>\n    <tr>\n      <th>404</th>\n      <td>404Coin</td>\n      <td>Scrypt</td>\n      <td>PoW/PoS</td>\n      <td>0</td>\n      <td>0</td>\n    </tr>\n    <tr>\n      <th>611</th>\n      <td>SixEleven</td>\n      <td>SHA-256</td>\n      <td>PoW</td>\n      <td>0</td>\n      <td>0</td>\n    </tr>\n    <tr>\n      <th>808</th>\n      <td>808</td>\n      <td>SHA-256</td>\n      <td>PoW/PoS</td>\n      <td>0</td>\n      <td>0</td>\n    </tr>\n    <tr>\n      <th>888</th>\n      <td>Octocoin</td>\n      <td>N/A</td>\n      <td>PoW</td>\n      <td>0</td>\n      <td>0</td>\n    </tr>\n    <tr>\n      <th>1337</th>\n      <td>EliteCoin</td>\n      <td>X13</td>\n      <td>PoW/PoS</td>\n      <td>0</td>\n      <td>0</td>\n    </tr>\n    <tr>\n      <th>2015</th>\n      <td>2015 coin</td>\n      <td>X11</td>\n      <td>PoW/PoS</td>\n      <td>0</td>\n      <td>0</td>\n    </tr>\n    <tr>\n      <th>BTCD</th>\n      <td>BitcoinDark</td>\n      <td>SHA-256</td>\n      <td>PoW/PoS</td>\n      <td>NaN</td>\n      <td>NaN</td>\n    </tr>\n  </tbody>\n</table>\n</div>"
     },
     "metadata": {},
     "execution_count": 166
    }
   ],
   "source": [
    "# Remove the \"IsTrading\" column\n",
    "newer_crypto_df = working_algo_df.drop(\"IsTrading\", axis=1)\n",
    "newer_crypto_df.head(10)"
   ]
  },
  {
   "cell_type": "code",
   "execution_count": 167,
   "metadata": {},
   "outputs": [
    {
     "output_type": "execute_result",
     "data": {
      "text/plain": [
       "         CoinName Algorithm ProofType TotalCoinsMined MaxSupply\n",
       "42        42 Coin    Scrypt   PoW/PoS               0         0\n",
       "300     300 token       N/A       N/A             300       300\n",
       "365       365Coin       X11   PoW/PoS               0         0\n",
       "404       404Coin    Scrypt   PoW/PoS               0         0\n",
       "611     SixEleven   SHA-256       PoW               0         0\n",
       "808           808   SHA-256   PoW/PoS               0         0\n",
       "888      Octocoin       N/A       PoW               0         0\n",
       "1337    EliteCoin       X13   PoW/PoS               0         0\n",
       "2015    2015 coin       X11   PoW/PoS               0         0\n",
       "BTCD  BitcoinDark   SHA-256   PoW/PoS             NaN       NaN"
      ],
      "text/html": "<div>\n<style scoped>\n    .dataframe tbody tr th:only-of-type {\n        vertical-align: middle;\n    }\n\n    .dataframe tbody tr th {\n        vertical-align: top;\n    }\n\n    .dataframe thead th {\n        text-align: right;\n    }\n</style>\n<table border=\"1\" class=\"dataframe\">\n  <thead>\n    <tr style=\"text-align: right;\">\n      <th></th>\n      <th>CoinName</th>\n      <th>Algorithm</th>\n      <th>ProofType</th>\n      <th>TotalCoinsMined</th>\n      <th>MaxSupply</th>\n    </tr>\n  </thead>\n  <tbody>\n    <tr>\n      <th>42</th>\n      <td>42 Coin</td>\n      <td>Scrypt</td>\n      <td>PoW/PoS</td>\n      <td>0</td>\n      <td>0</td>\n    </tr>\n    <tr>\n      <th>300</th>\n      <td>300 token</td>\n      <td>N/A</td>\n      <td>N/A</td>\n      <td>300</td>\n      <td>300</td>\n    </tr>\n    <tr>\n      <th>365</th>\n      <td>365Coin</td>\n      <td>X11</td>\n      <td>PoW/PoS</td>\n      <td>0</td>\n      <td>0</td>\n    </tr>\n    <tr>\n      <th>404</th>\n      <td>404Coin</td>\n      <td>Scrypt</td>\n      <td>PoW/PoS</td>\n      <td>0</td>\n      <td>0</td>\n    </tr>\n    <tr>\n      <th>611</th>\n      <td>SixEleven</td>\n      <td>SHA-256</td>\n      <td>PoW</td>\n      <td>0</td>\n      <td>0</td>\n    </tr>\n    <tr>\n      <th>808</th>\n      <td>808</td>\n      <td>SHA-256</td>\n      <td>PoW/PoS</td>\n      <td>0</td>\n      <td>0</td>\n    </tr>\n    <tr>\n      <th>888</th>\n      <td>Octocoin</td>\n      <td>N/A</td>\n      <td>PoW</td>\n      <td>0</td>\n      <td>0</td>\n    </tr>\n    <tr>\n      <th>1337</th>\n      <td>EliteCoin</td>\n      <td>X13</td>\n      <td>PoW/PoS</td>\n      <td>0</td>\n      <td>0</td>\n    </tr>\n    <tr>\n      <th>2015</th>\n      <td>2015 coin</td>\n      <td>X11</td>\n      <td>PoW/PoS</td>\n      <td>0</td>\n      <td>0</td>\n    </tr>\n    <tr>\n      <th>BTCD</th>\n      <td>BitcoinDark</td>\n      <td>SHA-256</td>\n      <td>PoW/PoS</td>\n      <td>NaN</td>\n      <td>NaN</td>\n    </tr>\n  </tbody>\n</table>\n</div>"
     },
     "metadata": {},
     "execution_count": 167
    }
   ],
   "source": [
    "# Remove rows with at least 1 null value\n",
    "newer_crypto_df.dropna()\n",
    "newer_crypto_df.head(10)"
   ]
  },
  {
   "cell_type": "code",
   "execution_count": 168,
   "metadata": {},
   "outputs": [
    {
     "output_type": "execute_result",
     "data": {
      "text/plain": [
       "       CoinName Algorithm ProofType TotalCoinsMined MaxSupply\n",
       "42      42 Coin    Scrypt   PoW/PoS               0         0\n",
       "300   300 token       N/A       N/A             300       300\n",
       "365     365Coin       X11   PoW/PoS               0         0\n",
       "404     404Coin    Scrypt   PoW/PoS               0         0\n",
       "611   SixEleven   SHA-256       PoW               0         0\n",
       "808         808   SHA-256   PoW/PoS               0         0\n",
       "888    Octocoin       N/A       PoW               0         0\n",
       "1337  EliteCoin       X13   PoW/PoS               0         0\n",
       "2015  2015 coin       X11   PoW/PoS               0         0\n",
       "GEO     GeoCoin       N/A       N/A               0         0"
      ],
      "text/html": "<div>\n<style scoped>\n    .dataframe tbody tr th:only-of-type {\n        vertical-align: middle;\n    }\n\n    .dataframe tbody tr th {\n        vertical-align: top;\n    }\n\n    .dataframe thead th {\n        text-align: right;\n    }\n</style>\n<table border=\"1\" class=\"dataframe\">\n  <thead>\n    <tr style=\"text-align: right;\">\n      <th></th>\n      <th>CoinName</th>\n      <th>Algorithm</th>\n      <th>ProofType</th>\n      <th>TotalCoinsMined</th>\n      <th>MaxSupply</th>\n    </tr>\n  </thead>\n  <tbody>\n    <tr>\n      <th>42</th>\n      <td>42 Coin</td>\n      <td>Scrypt</td>\n      <td>PoW/PoS</td>\n      <td>0</td>\n      <td>0</td>\n    </tr>\n    <tr>\n      <th>300</th>\n      <td>300 token</td>\n      <td>N/A</td>\n      <td>N/A</td>\n      <td>300</td>\n      <td>300</td>\n    </tr>\n    <tr>\n      <th>365</th>\n      <td>365Coin</td>\n      <td>X11</td>\n      <td>PoW/PoS</td>\n      <td>0</td>\n      <td>0</td>\n    </tr>\n    <tr>\n      <th>404</th>\n      <td>404Coin</td>\n      <td>Scrypt</td>\n      <td>PoW/PoS</td>\n      <td>0</td>\n      <td>0</td>\n    </tr>\n    <tr>\n      <th>611</th>\n      <td>SixEleven</td>\n      <td>SHA-256</td>\n      <td>PoW</td>\n      <td>0</td>\n      <td>0</td>\n    </tr>\n    <tr>\n      <th>808</th>\n      <td>808</td>\n      <td>SHA-256</td>\n      <td>PoW/PoS</td>\n      <td>0</td>\n      <td>0</td>\n    </tr>\n    <tr>\n      <th>888</th>\n      <td>Octocoin</td>\n      <td>N/A</td>\n      <td>PoW</td>\n      <td>0</td>\n      <td>0</td>\n    </tr>\n    <tr>\n      <th>1337</th>\n      <td>EliteCoin</td>\n      <td>X13</td>\n      <td>PoW/PoS</td>\n      <td>0</td>\n      <td>0</td>\n    </tr>\n    <tr>\n      <th>2015</th>\n      <td>2015 coin</td>\n      <td>X11</td>\n      <td>PoW/PoS</td>\n      <td>0</td>\n      <td>0</td>\n    </tr>\n    <tr>\n      <th>GEO</th>\n      <td>GeoCoin</td>\n      <td>N/A</td>\n      <td>N/A</td>\n      <td>0</td>\n      <td>0</td>\n    </tr>\n  </tbody>\n</table>\n</div>"
     },
     "metadata": {},
     "execution_count": 168
    }
   ],
   "source": [
    "# Remove rows with cryptocurrencies having no coins mined\n",
    "newer_crypto_df.dropna(inplace=True)\n",
    "newer_crypto_df.head(10)"
   ]
  },
  {
   "cell_type": "code",
   "execution_count": 169,
   "metadata": {},
   "outputs": [],
   "source": [
    "# Drop rows where there are 'N/A' text values\n",
    "newest_crypto_df = newer_crypto_df.dropna(axis=1)"
   ]
  },
  {
   "cell_type": "code",
   "execution_count": 170,
   "metadata": {},
   "outputs": [
    {
     "output_type": "execute_result",
     "data": {
      "text/plain": [
       "      CoinName\n",
       "42     42 Coin\n",
       "300  300 token\n",
       "365    365Coin\n",
       "404    404Coin\n",
       "611  SixEleven"
      ],
      "text/html": "<div>\n<style scoped>\n    .dataframe tbody tr th:only-of-type {\n        vertical-align: middle;\n    }\n\n    .dataframe tbody tr th {\n        vertical-align: top;\n    }\n\n    .dataframe thead th {\n        text-align: right;\n    }\n</style>\n<table border=\"1\" class=\"dataframe\">\n  <thead>\n    <tr style=\"text-align: right;\">\n      <th></th>\n      <th>CoinName</th>\n    </tr>\n  </thead>\n  <tbody>\n    <tr>\n      <th>42</th>\n      <td>42 Coin</td>\n    </tr>\n    <tr>\n      <th>300</th>\n      <td>300 token</td>\n    </tr>\n    <tr>\n      <th>365</th>\n      <td>365Coin</td>\n    </tr>\n    <tr>\n      <th>404</th>\n      <td>404Coin</td>\n    </tr>\n    <tr>\n      <th>611</th>\n      <td>SixEleven</td>\n    </tr>\n  </tbody>\n</table>\n</div>"
     },
     "metadata": {},
     "execution_count": 170
    }
   ],
   "source": [
    "# Store the 'CoinName'column in its own DataFrame prior to dropping it from crypto_df\n",
    "\n",
    "coin_name_df = pd.DataFrame(newest_crypto_df[\"CoinName\"])\n",
    "coin_name_df.head()\n",
    "\n",
    "\n"
   ]
  },
  {
   "cell_type": "code",
   "execution_count": 174,
   "metadata": {},
   "outputs": [
    {
     "output_type": "execute_result",
     "data": {
      "text/plain": [
       "<bound method NDFrame.head of       Algorithm ProofType TotalCoinsMined    MaxSupply\n",
       "42       Scrypt   PoW/PoS               0            0\n",
       "300         N/A       N/A             300          300\n",
       "365         X11   PoW/PoS               0            0\n",
       "404      Scrypt   PoW/PoS               0            0\n",
       "611     SHA-256       PoW               0            0\n",
       "...         ...       ...             ...          ...\n",
       "NEO     dBFT2.0       N/A       100000000    100000000\n",
       "XRP         N/A       N/A     99990820713  99990820713\n",
       "EOS        DPoS      DPoS     1.02564e+09           -1\n",
       "ESD         N/A       N/A     5.10924e+08  5.10924e+08\n",
       "PYLON       N/A       N/A           14700        14700\n",
       "\n",
       "[1024 rows x 4 columns]>"
      ]
     },
     "metadata": {},
     "execution_count": 174
    }
   ],
   "source": [
    "# Drop the 'CoinName' column since it's not going to be used on the clustering algorithm\n",
    "updated_df = newest_crypto_df.drop([\"CoinName\"],axis=1)\n",
    "updated_df.head"
   ]
  },
  {
   "cell_type": "code",
   "execution_count": 175,
   "metadata": {},
   "outputs": [
    {
     "output_type": "execute_result",
     "data": {
      "text/plain": [
       "     TotalCoinsMined MaxSupply  Algorithm_Argon2d  Algorithm_Autolykos  \\\n",
       "42                 0         0                  0                    0   \n",
       "300              300       300                  0                    0   \n",
       "365                0         0                  0                    0   \n",
       "404                0         0                  0                    0   \n",
       "611                0         0                  0                    0   \n",
       "808                0         0                  0                    0   \n",
       "888                0         0                  0                    0   \n",
       "1337               0         0                  0                    0   \n",
       "2015               0         0                  0                    0   \n",
       "GEO                0         0                  0                    0   \n",
       "\n",
       "      Algorithm_BEP-2  Algorithm_BEP2 Token  Algorithm_BEP20 Token  \\\n",
       "42                  0                     0                      0   \n",
       "300                 0                     0                      0   \n",
       "365                 0                     0                      0   \n",
       "404                 0                     0                      0   \n",
       "611                 0                     0                      0   \n",
       "808                 0                     0                      0   \n",
       "888                 0                     0                      0   \n",
       "1337                0                     0                      0   \n",
       "2015                0                     0                      0   \n",
       "GEO                 0                     0                      0   \n",
       "\n",
       "      Algorithm_BLAKE256  Algorithm_BMW512 / Echo512  \\\n",
       "42                     0                           0   \n",
       "300                    0                           0   \n",
       "365                    0                           0   \n",
       "404                    0                           0   \n",
       "611                    0                           0   \n",
       "808                    0                           0   \n",
       "888                    0                           0   \n",
       "1337                   0                           0   \n",
       "2015                   0                           0   \n",
       "GEO                    0                           0   \n",
       "\n",
       "      Algorithm_Blake2B + SHA3  ...  ProofType_SCP  ProofType_SPoS  \\\n",
       "42                           0  ...              0               0   \n",
       "300                          0  ...              0               0   \n",
       "365                          0  ...              0               0   \n",
       "404                          0  ...              0               0   \n",
       "611                          0  ...              0               0   \n",
       "808                          0  ...              0               0   \n",
       "888                          0  ...              0               0   \n",
       "1337                         0  ...              0               0   \n",
       "2015                         0  ...              0               0   \n",
       "GEO                          0  ...              0               0   \n",
       "\n",
       "      ProofType_TPoS  ProofType_Tangle  ProofType_Zero-Knowledge Proof  \\\n",
       "42                 0                 0                               0   \n",
       "300                0                 0                               0   \n",
       "365                0                 0                               0   \n",
       "404                0                 0                               0   \n",
       "611                0                 0                               0   \n",
       "808                0                 0                               0   \n",
       "888                0                 0                               0   \n",
       "1337               0                 0                               0   \n",
       "2015               0                 0                               0   \n",
       "GEO                0                 0                               0   \n",
       "\n",
       "      ProofType_dPoS  ProofType_dPoS/BFT  ProofType_dPoW/PoW  ProofType_ePoW  \\\n",
       "42                 0                   0                   0               0   \n",
       "300                0                   0                   0               0   \n",
       "365                0                   0                   0               0   \n",
       "404                0                   0                   0               0   \n",
       "611                0                   0                   0               0   \n",
       "808                0                   0                   0               0   \n",
       "888                0                   0                   0               0   \n",
       "1337               0                   0                   0               0   \n",
       "2015               0                   0                   0               0   \n",
       "GEO                0                   0                   0               0   \n",
       "\n",
       "      ProofType_fPoW+ PBFT  \n",
       "42                       0  \n",
       "300                      0  \n",
       "365                      0  \n",
       "404                      0  \n",
       "611                      0  \n",
       "808                      0  \n",
       "888                      0  \n",
       "1337                     0  \n",
       "2015                     0  \n",
       "GEO                      0  \n",
       "\n",
       "[10 rows x 99 columns]"
      ],
      "text/html": "<div>\n<style scoped>\n    .dataframe tbody tr th:only-of-type {\n        vertical-align: middle;\n    }\n\n    .dataframe tbody tr th {\n        vertical-align: top;\n    }\n\n    .dataframe thead th {\n        text-align: right;\n    }\n</style>\n<table border=\"1\" class=\"dataframe\">\n  <thead>\n    <tr style=\"text-align: right;\">\n      <th></th>\n      <th>TotalCoinsMined</th>\n      <th>MaxSupply</th>\n      <th>Algorithm_Argon2d</th>\n      <th>Algorithm_Autolykos</th>\n      <th>Algorithm_BEP-2</th>\n      <th>Algorithm_BEP2 Token</th>\n      <th>Algorithm_BEP20 Token</th>\n      <th>Algorithm_BLAKE256</th>\n      <th>Algorithm_BMW512 / Echo512</th>\n      <th>Algorithm_Blake2B + SHA3</th>\n      <th>...</th>\n      <th>ProofType_SCP</th>\n      <th>ProofType_SPoS</th>\n      <th>ProofType_TPoS</th>\n      <th>ProofType_Tangle</th>\n      <th>ProofType_Zero-Knowledge Proof</th>\n      <th>ProofType_dPoS</th>\n      <th>ProofType_dPoS/BFT</th>\n      <th>ProofType_dPoW/PoW</th>\n      <th>ProofType_ePoW</th>\n      <th>ProofType_fPoW+ PBFT</th>\n    </tr>\n  </thead>\n  <tbody>\n    <tr>\n      <th>42</th>\n      <td>0</td>\n      <td>0</td>\n      <td>0</td>\n      <td>0</td>\n      <td>0</td>\n      <td>0</td>\n      <td>0</td>\n      <td>0</td>\n      <td>0</td>\n      <td>0</td>\n      <td>...</td>\n      <td>0</td>\n      <td>0</td>\n      <td>0</td>\n      <td>0</td>\n      <td>0</td>\n      <td>0</td>\n      <td>0</td>\n      <td>0</td>\n      <td>0</td>\n      <td>0</td>\n    </tr>\n    <tr>\n      <th>300</th>\n      <td>300</td>\n      <td>300</td>\n      <td>0</td>\n      <td>0</td>\n      <td>0</td>\n      <td>0</td>\n      <td>0</td>\n      <td>0</td>\n      <td>0</td>\n      <td>0</td>\n      <td>...</td>\n      <td>0</td>\n      <td>0</td>\n      <td>0</td>\n      <td>0</td>\n      <td>0</td>\n      <td>0</td>\n      <td>0</td>\n      <td>0</td>\n      <td>0</td>\n      <td>0</td>\n    </tr>\n    <tr>\n      <th>365</th>\n      <td>0</td>\n      <td>0</td>\n      <td>0</td>\n      <td>0</td>\n      <td>0</td>\n      <td>0</td>\n      <td>0</td>\n      <td>0</td>\n      <td>0</td>\n      <td>0</td>\n      <td>...</td>\n      <td>0</td>\n      <td>0</td>\n      <td>0</td>\n      <td>0</td>\n      <td>0</td>\n      <td>0</td>\n      <td>0</td>\n      <td>0</td>\n      <td>0</td>\n      <td>0</td>\n    </tr>\n    <tr>\n      <th>404</th>\n      <td>0</td>\n      <td>0</td>\n      <td>0</td>\n      <td>0</td>\n      <td>0</td>\n      <td>0</td>\n      <td>0</td>\n      <td>0</td>\n      <td>0</td>\n      <td>0</td>\n      <td>...</td>\n      <td>0</td>\n      <td>0</td>\n      <td>0</td>\n      <td>0</td>\n      <td>0</td>\n      <td>0</td>\n      <td>0</td>\n      <td>0</td>\n      <td>0</td>\n      <td>0</td>\n    </tr>\n    <tr>\n      <th>611</th>\n      <td>0</td>\n      <td>0</td>\n      <td>0</td>\n      <td>0</td>\n      <td>0</td>\n      <td>0</td>\n      <td>0</td>\n      <td>0</td>\n      <td>0</td>\n      <td>0</td>\n      <td>...</td>\n      <td>0</td>\n      <td>0</td>\n      <td>0</td>\n      <td>0</td>\n      <td>0</td>\n      <td>0</td>\n      <td>0</td>\n      <td>0</td>\n      <td>0</td>\n      <td>0</td>\n    </tr>\n    <tr>\n      <th>808</th>\n      <td>0</td>\n      <td>0</td>\n      <td>0</td>\n      <td>0</td>\n      <td>0</td>\n      <td>0</td>\n      <td>0</td>\n      <td>0</td>\n      <td>0</td>\n      <td>0</td>\n      <td>...</td>\n      <td>0</td>\n      <td>0</td>\n      <td>0</td>\n      <td>0</td>\n      <td>0</td>\n      <td>0</td>\n      <td>0</td>\n      <td>0</td>\n      <td>0</td>\n      <td>0</td>\n    </tr>\n    <tr>\n      <th>888</th>\n      <td>0</td>\n      <td>0</td>\n      <td>0</td>\n      <td>0</td>\n      <td>0</td>\n      <td>0</td>\n      <td>0</td>\n      <td>0</td>\n      <td>0</td>\n      <td>0</td>\n      <td>...</td>\n      <td>0</td>\n      <td>0</td>\n      <td>0</td>\n      <td>0</td>\n      <td>0</td>\n      <td>0</td>\n      <td>0</td>\n      <td>0</td>\n      <td>0</td>\n      <td>0</td>\n    </tr>\n    <tr>\n      <th>1337</th>\n      <td>0</td>\n      <td>0</td>\n      <td>0</td>\n      <td>0</td>\n      <td>0</td>\n      <td>0</td>\n      <td>0</td>\n      <td>0</td>\n      <td>0</td>\n      <td>0</td>\n      <td>...</td>\n      <td>0</td>\n      <td>0</td>\n      <td>0</td>\n      <td>0</td>\n      <td>0</td>\n      <td>0</td>\n      <td>0</td>\n      <td>0</td>\n      <td>0</td>\n      <td>0</td>\n    </tr>\n    <tr>\n      <th>2015</th>\n      <td>0</td>\n      <td>0</td>\n      <td>0</td>\n      <td>0</td>\n      <td>0</td>\n      <td>0</td>\n      <td>0</td>\n      <td>0</td>\n      <td>0</td>\n      <td>0</td>\n      <td>...</td>\n      <td>0</td>\n      <td>0</td>\n      <td>0</td>\n      <td>0</td>\n      <td>0</td>\n      <td>0</td>\n      <td>0</td>\n      <td>0</td>\n      <td>0</td>\n      <td>0</td>\n    </tr>\n    <tr>\n      <th>GEO</th>\n      <td>0</td>\n      <td>0</td>\n      <td>0</td>\n      <td>0</td>\n      <td>0</td>\n      <td>0</td>\n      <td>0</td>\n      <td>0</td>\n      <td>0</td>\n      <td>0</td>\n      <td>...</td>\n      <td>0</td>\n      <td>0</td>\n      <td>0</td>\n      <td>0</td>\n      <td>0</td>\n      <td>0</td>\n      <td>0</td>\n      <td>0</td>\n      <td>0</td>\n      <td>0</td>\n    </tr>\n  </tbody>\n</table>\n<p>10 rows × 99 columns</p>\n</div>"
     },
     "metadata": {},
     "execution_count": 175
    }
   ],
   "source": [
    "# Create dummy variables for text features\n",
    "dummy_vars = pd.get_dummies(updated_df, columns=[\"Algorithm\", \"ProofType\"])\n",
    "dummy_vars.head(10)"
   ]
  },
  {
   "cell_type": "code",
   "execution_count": 176,
   "metadata": {},
   "outputs": [
    {
     "output_type": "stream",
     "name": "stdout",
     "text": [
      "[[-0.03290203 -0.03287921 -0.03126527 -0.03126527 -0.03126527 -0.0442374\n  -0.03126527 -0.0442374  -0.03126527 -0.03126527 -0.0442374  -0.0442374\n  -0.0767718  -0.0442374  -0.03126527 -0.03126527 -0.08873565 -0.03126527\n  -0.03126527 -0.03126527 -0.03126527 -0.08873565 -0.03126527 -0.03126527\n  -0.08873565 -0.0442374  -0.03126527 -0.0442374  -0.03126527 -0.03126527\n  -0.03126527 -0.03126527 -0.0442374  -0.03126527 -0.03126527 -0.06262243\n  -2.14374169 -0.05420605 -0.05420605 -0.03126527 -0.0442374  -0.08873565\n  -0.03126527 -0.03126527 -0.0767718  -0.03126527 -0.15491933 -0.0442374\n  -0.03126527 -0.03126527  5.75615612 -0.03126527 -0.03126527 -0.03126527\n  -0.03126527 -0.03126527 -0.03126527 -0.03126527 -0.08873565 -0.03126527\n  -0.09416472 -0.03126527 -0.03126527 -0.03126527 -0.03126527 -0.03126527\n  -0.11773439 -0.03126527 -0.03126527 -0.03126527 -1.80739223 -0.06262243\n  -0.0442374  -0.03126527 -0.03126527 -0.03126527 -0.03126527 -0.22894368\n  -0.03126527 -0.0442374  -0.03126527 -0.03126527 -0.03126527 -0.32163376\n   4.77639545 -0.03126527 -0.03126527 -0.03126527 -0.03126527 -0.0442374\n  -0.03126527 -0.03126527 -0.03126527 -0.03126527 -0.03126527 -0.03126527\n  -0.03126527 -0.03126527 -0.03126527]\n [-0.03290203 -0.03287921 -0.03126527 -0.03126527 -0.03126527 -0.0442374\n  -0.03126527 -0.0442374  -0.03126527 -0.03126527 -0.0442374  -0.0442374\n  -0.0767718  -0.0442374  -0.03126527 -0.03126527 -0.08873565 -0.03126527\n  -0.03126527 -0.03126527 -0.03126527 -0.08873565 -0.03126527 -0.03126527\n  -0.08873565 -0.0442374  -0.03126527 -0.0442374  -0.03126527 -0.03126527\n  -0.03126527 -0.03126527 -0.0442374  -0.03126527 -0.03126527 -0.06262243\n   0.46647411 -0.05420605 -0.05420605 -0.03126527 -0.0442374  -0.08873565\n  -0.03126527 -0.03126527 -0.0767718  -0.03126527 -0.15491933 -0.0442374\n  -0.03126527 -0.03126527 -0.17372705 -0.03126527 -0.03126527 -0.03126527\n  -0.03126527 -0.03126527 -0.03126527 -0.03126527 -0.08873565 -0.03126527\n  -0.09416472 -0.03126527 -0.03126527 -0.03126527 -0.03126527 -0.03126527\n  -0.11773439 -0.03126527 -0.03126527 -0.03126527  0.55328334 -0.06262243\n  -0.0442374  -0.03126527 -0.03126527 -0.03126527 -0.03126527 -0.22894368\n  -0.03126527 -0.0442374  -0.03126527 -0.03126527 -0.03126527 -0.32163376\n  -0.2093629  -0.03126527 -0.03126527 -0.03126527 -0.03126527 -0.0442374\n  -0.03126527 -0.03126527 -0.03126527 -0.03126527 -0.03126527 -0.03126527\n  -0.03126527 -0.03126527 -0.03126527]\n [-0.03290203 -0.03287921 -0.03126527 -0.03126527 -0.03126527 -0.0442374\n  -0.03126527 -0.0442374  -0.03126527 -0.03126527 -0.0442374  -0.0442374\n  -0.0767718  -0.0442374  -0.03126527 -0.03126527 -0.08873565 -0.03126527\n  -0.03126527 -0.03126527 -0.03126527 -0.08873565 -0.03126527 -0.03126527\n  -0.08873565 -0.0442374  -0.03126527 -0.0442374  -0.03126527 -0.03126527\n  -0.03126527 -0.03126527 -0.0442374  -0.03126527 -0.03126527 -0.06262243\n  -2.14374169 -0.05420605 -0.05420605 -0.03126527 -0.0442374  -0.08873565\n  -0.03126527 -0.03126527 -0.0767718  -0.03126527 -0.15491933 -0.0442374\n  -0.03126527 -0.03126527 -0.17372705 -0.03126527 -0.03126527 -0.03126527\n  -0.03126527 -0.03126527 -0.03126527 -0.03126527 11.26942767 -0.03126527\n  -0.09416472 -0.03126527 -0.03126527 -0.03126527 -0.03126527 -0.03126527\n  -0.11773439 -0.03126527 -0.03126527 -0.03126527 -1.80739223 -0.06262243\n  -0.0442374  -0.03126527 -0.03126527 -0.03126527 -0.03126527 -0.22894368\n  -0.03126527 -0.0442374  -0.03126527 -0.03126527 -0.03126527 -0.32163376\n   4.77639545 -0.03126527 -0.03126527 -0.03126527 -0.03126527 -0.0442374\n  -0.03126527 -0.03126527 -0.03126527 -0.03126527 -0.03126527 -0.03126527\n  -0.03126527 -0.03126527 -0.03126527]\n [-0.03290203 -0.03287921 -0.03126527 -0.03126527 -0.03126527 -0.0442374\n  -0.03126527 -0.0442374  -0.03126527 -0.03126527 -0.0442374  -0.0442374\n  -0.0767718  -0.0442374  -0.03126527 -0.03126527 -0.08873565 -0.03126527\n  -0.03126527 -0.03126527 -0.03126527 -0.08873565 -0.03126527 -0.03126527\n  -0.08873565 -0.0442374  -0.03126527 -0.0442374  -0.03126527 -0.03126527\n  -0.03126527 -0.03126527 -0.0442374  -0.03126527 -0.03126527 -0.06262243\n  -2.14374169 -0.05420605 -0.05420605 -0.03126527 -0.0442374  -0.08873565\n  -0.03126527 -0.03126527 -0.0767718  -0.03126527 -0.15491933 -0.0442374\n  -0.03126527 -0.03126527  5.75615612 -0.03126527 -0.03126527 -0.03126527\n  -0.03126527 -0.03126527 -0.03126527 -0.03126527 -0.08873565 -0.03126527\n  -0.09416472 -0.03126527 -0.03126527 -0.03126527 -0.03126527 -0.03126527\n  -0.11773439 -0.03126527 -0.03126527 -0.03126527 -1.80739223 -0.06262243\n  -0.0442374  -0.03126527 -0.03126527 -0.03126527 -0.03126527 -0.22894368\n  -0.03126527 -0.0442374  -0.03126527 -0.03126527 -0.03126527 -0.32163376\n   4.77639545 -0.03126527 -0.03126527 -0.03126527 -0.03126527 -0.0442374\n  -0.03126527 -0.03126527 -0.03126527 -0.03126527 -0.03126527 -0.03126527\n  -0.03126527 -0.03126527 -0.03126527]\n [-0.03290203 -0.03287921 -0.03126527 -0.03126527 -0.03126527 -0.0442374\n  -0.03126527 -0.0442374  -0.03126527 -0.03126527 -0.0442374  -0.0442374\n  -0.0767718  -0.0442374  -0.03126527 -0.03126527 -0.08873565 -0.03126527\n  -0.03126527 -0.03126527 -0.03126527 -0.08873565 -0.03126527 -0.03126527\n  -0.08873565 -0.0442374  -0.03126527 -0.0442374  -0.03126527 -0.03126527\n  -0.03126527 -0.03126527 -0.0442374  -0.03126527 -0.03126527 -0.06262243\n  -2.14374169 -0.05420605 -0.05420605 -0.03126527 -0.0442374  -0.08873565\n  -0.03126527 -0.03126527 -0.0767718  -0.03126527  6.45497224 -0.0442374\n  -0.03126527 -0.03126527 -0.17372705 -0.03126527 -0.03126527 -0.03126527\n  -0.03126527 -0.03126527 -0.03126527 -0.03126527 -0.08873565 -0.03126527\n  -0.09416472 -0.03126527 -0.03126527 -0.03126527 -0.03126527 -0.03126527\n  -0.11773439 -0.03126527 -0.03126527 -0.03126527 -1.80739223 -0.06262243\n  -0.0442374  -0.03126527 -0.03126527 -0.03126527 -0.03126527 -0.22894368\n  -0.03126527 -0.0442374  -0.03126527 -0.03126527 -0.03126527  3.10912635\n  -0.2093629  -0.03126527 -0.03126527 -0.03126527 -0.03126527 -0.0442374\n  -0.03126527 -0.03126527 -0.03126527 -0.03126527 -0.03126527 -0.03126527\n  -0.03126527 -0.03126527 -0.03126527]]\n"
     ]
    }
   ],
   "source": [
    "# Standardize data\n",
    "X_scaled = StandardScaler().fit_transform(dummy_vars)\n",
    "print(X_scaled[0:5])"
   ]
  },
  {
   "cell_type": "markdown",
   "metadata": {},
   "source": [
    "### Reducing Dimensions Using PCA"
   ]
  },
  {
   "cell_type": "code",
   "execution_count": 177,
   "metadata": {},
   "outputs": [
    {
     "output_type": "execute_result",
     "data": {
      "text/plain": [
       "array([[ 4.18363851e+00, -1.31516542e-01, -9.39020131e-02],\n",
       "       [-9.49621092e-01, -1.41163297e-03,  3.26515617e-02],\n",
       "       [ 4.13280017e+00, -1.07112167e-01, -1.08990129e-02],\n",
       "       ...,\n",
       "       [ 2.95413967e+00, -5.10851273e-02, -6.65705440e-02],\n",
       "       [-9.49622824e-01, -1.40911452e-03,  3.26316107e-02],\n",
       "       [-9.49621092e-01, -1.41163290e-03,  3.26515611e-02]])"
      ]
     },
     "metadata": {},
     "execution_count": 177
    }
   ],
   "source": [
    "# Use PCA to reduce dimensions to 3 principal components\n",
    "pca = PCA(n_components=3)\n",
    "X_pca = pca.fit_transform(X_scaled)\n",
    "X_pca"
   ]
  },
  {
   "cell_type": "code",
   "execution_count": 181,
   "metadata": {},
   "outputs": [
    {
     "output_type": "execute_result",
     "data": {
      "text/plain": [
       "          PC 1      PC 2      PC 3\n",
       "42    4.183639 -0.131517 -0.093902\n",
       "300  -0.949621 -0.001412  0.032652\n",
       "365   4.132800 -0.107112 -0.010899\n",
       "404   4.183639 -0.131517 -0.093902\n",
       "611   3.995283 -0.143348 -0.079523\n",
       "808   4.080203 -0.150494 -0.103968\n",
       "888   1.445101 -0.071771 -0.011815\n",
       "1337  4.058965 -0.134837 -0.105323\n",
       "2015  4.132800 -0.107112 -0.010899\n",
       "GEO  -0.949621 -0.001412  0.032652"
      ],
      "text/html": "<div>\n<style scoped>\n    .dataframe tbody tr th:only-of-type {\n        vertical-align: middle;\n    }\n\n    .dataframe tbody tr th {\n        vertical-align: top;\n    }\n\n    .dataframe thead th {\n        text-align: right;\n    }\n</style>\n<table border=\"1\" class=\"dataframe\">\n  <thead>\n    <tr style=\"text-align: right;\">\n      <th></th>\n      <th>PC 1</th>\n      <th>PC 2</th>\n      <th>PC 3</th>\n    </tr>\n  </thead>\n  <tbody>\n    <tr>\n      <th>42</th>\n      <td>4.183639</td>\n      <td>-0.131517</td>\n      <td>-0.093902</td>\n    </tr>\n    <tr>\n      <th>300</th>\n      <td>-0.949621</td>\n      <td>-0.001412</td>\n      <td>0.032652</td>\n    </tr>\n    <tr>\n      <th>365</th>\n      <td>4.132800</td>\n      <td>-0.107112</td>\n      <td>-0.010899</td>\n    </tr>\n    <tr>\n      <th>404</th>\n      <td>4.183639</td>\n      <td>-0.131517</td>\n      <td>-0.093902</td>\n    </tr>\n    <tr>\n      <th>611</th>\n      <td>3.995283</td>\n      <td>-0.143348</td>\n      <td>-0.079523</td>\n    </tr>\n    <tr>\n      <th>808</th>\n      <td>4.080203</td>\n      <td>-0.150494</td>\n      <td>-0.103968</td>\n    </tr>\n    <tr>\n      <th>888</th>\n      <td>1.445101</td>\n      <td>-0.071771</td>\n      <td>-0.011815</td>\n    </tr>\n    <tr>\n      <th>1337</th>\n      <td>4.058965</td>\n      <td>-0.134837</td>\n      <td>-0.105323</td>\n    </tr>\n    <tr>\n      <th>2015</th>\n      <td>4.132800</td>\n      <td>-0.107112</td>\n      <td>-0.010899</td>\n    </tr>\n    <tr>\n      <th>GEO</th>\n      <td>-0.949621</td>\n      <td>-0.001412</td>\n      <td>0.032652</td>\n    </tr>\n  </tbody>\n</table>\n</div>"
     },
     "metadata": {},
     "execution_count": 181
    }
   ],
   "source": [
    "# Create a DataFrame with the principal components data\n",
    "pcs_df = pd.DataFrame(\n",
    "    data=X_pca,\n",
    "    columns=['PC 1', 'PC 2', 'PC 3'],\n",
    "    index=dummy_vars.index\n",
    ")\n",
    "pcs_df.head(10)"
   ]
  },
  {
   "cell_type": "markdown",
   "metadata": {},
   "source": [
    "### Clustering Crytocurrencies Using K-Means\n",
    "\n",
    "#### Find the Best Value for `k` Using the Elbow Curve"
   ]
  },
  {
   "cell_type": "code",
   "execution_count": 182,
   "metadata": {},
   "outputs": [
    {
     "output_type": "display_data",
     "data": {},
     "metadata": {}
    },
    {
     "output_type": "execute_result",
     "data": {
      "text/html": "<div id='1001'>\n\n\n\n\n\n  <div class=\"bk-root\" id=\"53b0f80e-1914-4a6d-90f3-48b688b682e2\" data-root-id=\"1001\"></div>\n</div>\n<script type=\"application/javascript\">(function(root) {\n  function embed_document(root) {\n    var docs_json = {\"4827b5a9-60de-428e-a3f5-eda6ed775489\":{\"roots\":{\"references\":[{\"attributes\":{\"axis_label\":\"inertia\",\"bounds\":\"auto\",\"formatter\":{\"id\":\"1050\"},\"major_label_orientation\":\"horizontal\",\"ticker\":{\"id\":\"1020\"}},\"id\":\"1019\",\"type\":\"LinearAxis\"},{\"attributes\":{\"axis\":{\"id\":\"1019\"},\"dimension\":1,\"grid_line_color\":null,\"ticker\":null},\"id\":\"1022\",\"type\":\"Grid\"},{\"attributes\":{},\"id\":\"1024\",\"type\":\"PanTool\"},{\"attributes\":{},\"id\":\"1020\",\"type\":\"BasicTicker\"},{\"attributes\":{\"data\":{\"inertia\":{\"__ndarray__\":\"n45PZVjyvEAoqFduv1SxQM8FRTySbKZAm148sDtwl0BM57G7JcKLQD2yUEMZhoFAF46Ot8pdcED3yJMX/T9QQLobRz4YhUZA5EBiWtrKOUA=\",\"dtype\":\"float64\",\"order\":\"little\",\"shape\":[10]},\"k\":[1,2,3,4,5,6,7,8,9,10]},\"selected\":{\"id\":\"1037\"},\"selection_policy\":{\"id\":\"1056\"}},\"id\":\"1036\",\"type\":\"ColumnDataSource\"},{\"attributes\":{\"below\":[{\"id\":\"1015\"}],\"center\":[{\"id\":\"1018\"},{\"id\":\"1022\"}],\"left\":[{\"id\":\"1019\"}],\"margin\":[5,5,5,5],\"min_border_bottom\":10,\"min_border_left\":10,\"min_border_right\":10,\"min_border_top\":10,\"plot_height\":300,\"plot_width\":700,\"renderers\":[{\"id\":\"1042\"}],\"sizing_mode\":\"fixed\",\"title\":{\"id\":\"1007\"},\"toolbar\":{\"id\":\"1029\"},\"x_range\":{\"id\":\"1003\"},\"x_scale\":{\"id\":\"1011\"},\"y_range\":{\"id\":\"1004\"},\"y_scale\":{\"id\":\"1013\"}},\"id\":\"1006\",\"subtype\":\"Figure\",\"type\":\"Plot\"},{\"attributes\":{},\"id\":\"1025\",\"type\":\"WheelZoomTool\"},{\"attributes\":{\"children\":[{\"id\":\"1002\"},{\"id\":\"1006\"},{\"id\":\"1065\"}],\"margin\":[0,0,0,0],\"name\":\"Row01534\",\"tags\":[\"embedded\"]},\"id\":\"1001\",\"type\":\"Row\"},{\"attributes\":{\"source\":{\"id\":\"1036\"}},\"id\":\"1043\",\"type\":\"CDSView\"},{\"attributes\":{\"active_drag\":\"auto\",\"active_inspect\":\"auto\",\"active_multi\":null,\"active_scroll\":\"auto\",\"active_tap\":\"auto\",\"tools\":[{\"id\":\"1005\"},{\"id\":\"1023\"},{\"id\":\"1024\"},{\"id\":\"1025\"},{\"id\":\"1026\"},{\"id\":\"1027\"}]},\"id\":\"1029\",\"type\":\"Toolbar\"},{\"attributes\":{},\"id\":\"1023\",\"type\":\"SaveTool\"},{\"attributes\":{\"overlay\":{\"id\":\"1028\"}},\"id\":\"1026\",\"type\":\"BoxZoomTool\"},{\"attributes\":{},\"id\":\"1027\",\"type\":\"ResetTool\"},{\"attributes\":{},\"id\":\"1050\",\"type\":\"BasicTickFormatter\"},{\"attributes\":{\"ticks\":[1,2,3,4,5,6,7,8,9,10]},\"id\":\"1044\",\"type\":\"FixedTicker\"},{\"attributes\":{},\"id\":\"1037\",\"type\":\"Selection\"},{\"attributes\":{\"line_alpha\":0.2,\"line_color\":\"#1f77b3\",\"line_width\":2,\"x\":{\"field\":\"k\"},\"y\":{\"field\":\"inertia\"}},\"id\":\"1041\",\"type\":\"Line\"},{\"attributes\":{\"data_source\":{\"id\":\"1036\"},\"glyph\":{\"id\":\"1039\"},\"hover_glyph\":null,\"muted_glyph\":{\"id\":\"1041\"},\"nonselection_glyph\":{\"id\":\"1040\"},\"selection_glyph\":null,\"view\":{\"id\":\"1043\"}},\"id\":\"1042\",\"type\":\"GlyphRenderer\"},{\"attributes\":{\"end\":8148.800586037305,\"reset_end\":8148.800586037305,\"reset_start\":-712.6628958543258,\"start\":-712.6628958543258,\"tags\":[[[\"inertia\",\"inertia\",null]]]},\"id\":\"1004\",\"type\":\"Range1d\"},{\"attributes\":{\"margin\":[5,5,5,5],\"name\":\"HSpacer01538\",\"sizing_mode\":\"stretch_width\"},\"id\":\"1002\",\"type\":\"Spacer\"},{\"attributes\":{},\"id\":\"1046\",\"type\":\"BasicTickFormatter\"},{\"attributes\":{},\"id\":\"1056\",\"type\":\"UnionRenderers\"},{\"attributes\":{\"line_color\":\"#1f77b3\",\"line_width\":2,\"x\":{\"field\":\"k\"},\"y\":{\"field\":\"inertia\"}},\"id\":\"1039\",\"type\":\"Line\"},{\"attributes\":{\"line_alpha\":0.1,\"line_color\":\"#1f77b3\",\"line_width\":2,\"x\":{\"field\":\"k\"},\"y\":{\"field\":\"inertia\"}},\"id\":\"1040\",\"type\":\"Line\"},{\"attributes\":{\"margin\":[5,5,5,5],\"name\":\"HSpacer01539\",\"sizing_mode\":\"stretch_width\"},\"id\":\"1065\",\"type\":\"Spacer\"},{\"attributes\":{\"bottom_units\":\"screen\",\"fill_alpha\":0.5,\"fill_color\":\"lightgrey\",\"left_units\":\"screen\",\"level\":\"overlay\",\"line_alpha\":1.0,\"line_color\":\"black\",\"line_dash\":[4,4],\"line_width\":2,\"right_units\":\"screen\",\"top_units\":\"screen\"},\"id\":\"1028\",\"type\":\"BoxAnnotation\"},{\"attributes\":{\"text\":\"Elbow Curve\",\"text_color\":{\"value\":\"black\"},\"text_font_size\":{\"value\":\"12pt\"}},\"id\":\"1007\",\"type\":\"Title\"},{\"attributes\":{\"axis_label\":\"k\",\"bounds\":\"auto\",\"formatter\":{\"id\":\"1046\"},\"major_label_orientation\":\"horizontal\",\"ticker\":{\"id\":\"1044\"}},\"id\":\"1015\",\"type\":\"LinearAxis\"},{\"attributes\":{\"callback\":null,\"renderers\":[{\"id\":\"1042\"}],\"tags\":[\"hv_created\"],\"tooltips\":[[\"k\",\"@{k}\"],[\"inertia\",\"@{inertia}\"]]},\"id\":\"1005\",\"type\":\"HoverTool\"},{\"attributes\":{},\"id\":\"1013\",\"type\":\"LinearScale\"},{\"attributes\":{\"axis\":{\"id\":\"1015\"},\"grid_line_color\":null,\"ticker\":null},\"id\":\"1018\",\"type\":\"Grid\"},{\"attributes\":{\"end\":10.0,\"reset_end\":10.0,\"reset_start\":1.0,\"start\":1.0,\"tags\":[[[\"k\",\"k\",null]]]},\"id\":\"1003\",\"type\":\"Range1d\"},{\"attributes\":{},\"id\":\"1011\",\"type\":\"LinearScale\"}],\"root_ids\":[\"1001\"]},\"title\":\"Bokeh Application\",\"version\":\"2.2.3\"}};\n    var render_items = [{\"docid\":\"4827b5a9-60de-428e-a3f5-eda6ed775489\",\"root_ids\":[\"1001\"],\"roots\":{\"1001\":\"53b0f80e-1914-4a6d-90f3-48b688b682e2\"}}];\n    root.Bokeh.embed.embed_items_notebook(docs_json, render_items);\n  }\n  if (root.Bokeh !== undefined && root.Bokeh.Panel !== undefined) {\n    embed_document(root);\n  } else {\n    var attempts = 0;\n    var timer = setInterval(function(root) {\n      if (root.Bokeh !== undefined && root.Bokeh.Panel !== undefined) {\n        clearInterval(timer);\n        embed_document(root);\n      } else if (document.readyState == \"complete\") {\n        attempts++;\n        if (attempts > 100) {\n          clearInterval(timer);\n          console.log(\"Bokeh: ERROR: Unable to run BokehJS code because BokehJS library is missing\");\n        }\n      }\n    }, 10, root)\n  }\n})(window);</script>",
      "application/vnd.holoviews_exec.v0+json": "",
      "text/plain": [
       ":Curve   [k]   (inertia)"
      ]
     },
     "metadata": {
      "application/vnd.holoviews_exec.v0+json": {
       "id": "1001"
      }
     },
     "execution_count": 182
    }
   ],
   "source": [
    "inertia = []\n",
    "k = list(range(1, 11))\n",
    "\n",
    "# Calculate the inertia for the range of k values\n",
    "for i in k:\n",
    "   km = KMeans(n_clusters=i, random_state=0)\n",
    "   km.fit(pcs_df)\n",
    "   inertia.append(km.inertia_)\n",
    "\n",
    "\n",
    "# Create the Elbow Curve using hvPlot\n",
    "elbow_data = {\"k\": k, \"inertia\": inertia}\n",
    "df_elbow = pd.DataFrame(elbow_data)\n",
    "df_elbow.hvplot.line(x=\"k\", y=\"inertia\", title=\"Elbow Curve\", xticks=k)\n"
   ]
  },
  {
   "cell_type": "markdown",
   "metadata": {},
   "source": [
    "Running K-Means with `k=<your best value for k here>`"
   ]
  },
  {
   "cell_type": "code",
   "execution_count": 190,
   "metadata": {},
   "outputs": [],
   "source": [
    "# Initialize the K-Means model\n",
    "model = KMeans(n_clusters=4, random_state=0)\n",
    "# Fit the model\n",
    "model.fit(pcs_df)\n",
    "# Predict clusters\n",
    "predictions = model.predict(pcs_df)\n",
    "predictions\n",
    "# Create a new DataFrame including predicted clusters and cryptocurrencies features\n",
    "cryptocluster_df = pd.concat([updated_df, pcs_df], axis=1)"
   ]
  },
  {
   "cell_type": "markdown",
   "metadata": {},
   "source": [
    "### Visualizing Results\n",
    "\n",
    "#### 3D-Scatter with Clusters"
   ]
  },
  {
   "cell_type": "code",
   "execution_count": 191,
   "metadata": {},
   "outputs": [
    {
     "output_type": "error",
     "ename": "ValueError",
     "evalue": "Value of 'color' is not the name of a column in 'data_frame'. Expected one of ['Algorithm', 'ProofType', 'TotalCoinsMined', 'MaxSupply', 'PC 1', 'PC 2', 'PC 3'] but received: Class",
     "traceback": [
      "\u001b[1;31m---------------------------------------------------------------------------\u001b[0m",
      "\u001b[1;31mValueError\u001b[0m                                Traceback (most recent call last)",
      "\u001b[1;32m<ipython-input-191-92dc6e91af2a>\u001b[0m in \u001b[0;36m<module>\u001b[1;34m\u001b[0m\n\u001b[0;32m      1\u001b[0m \u001b[1;31m# Create a 3D-Scatter with the PCA data and the clusters\u001b[0m\u001b[1;33m\u001b[0m\u001b[1;33m\u001b[0m\u001b[1;33m\u001b[0m\u001b[0m\n\u001b[1;32m----> 2\u001b[1;33m fig = px.scatter_3d(\n\u001b[0m\u001b[0;32m      3\u001b[0m     \u001b[0mcryptocluster_df\u001b[0m\u001b[1;33m,\u001b[0m\u001b[1;33m\u001b[0m\u001b[1;33m\u001b[0m\u001b[0m\n\u001b[0;32m      4\u001b[0m     \u001b[0mx\u001b[0m\u001b[1;33m=\u001b[0m\u001b[1;34m\"PC 1\"\u001b[0m\u001b[1;33m,\u001b[0m\u001b[1;33m\u001b[0m\u001b[1;33m\u001b[0m\u001b[0m\n\u001b[0;32m      5\u001b[0m     \u001b[0my\u001b[0m\u001b[1;33m=\u001b[0m\u001b[1;34m\"PC 2\"\u001b[0m\u001b[1;33m,\u001b[0m\u001b[1;33m\u001b[0m\u001b[1;33m\u001b[0m\u001b[0m\n",
      "\u001b[1;32m~\\anaconda3\\lib\\site-packages\\plotly\\express\\_chart_types.py\u001b[0m in \u001b[0;36mscatter_3d\u001b[1;34m(data_frame, x, y, z, color, symbol, size, text, hover_name, hover_data, custom_data, error_x, error_x_minus, error_y, error_y_minus, error_z, error_z_minus, animation_frame, animation_group, category_orders, labels, size_max, color_discrete_sequence, color_discrete_map, color_continuous_scale, range_color, color_continuous_midpoint, symbol_sequence, symbol_map, opacity, log_x, log_y, log_z, range_x, range_y, range_z, title, template, width, height)\u001b[0m\n\u001b[0;32m    672\u001b[0m     \u001b[0msymbol\u001b[0m \u001b[0mmark\u001b[0m \u001b[1;32min\u001b[0m \u001b[1;36m3\u001b[0m\u001b[0mD\u001b[0m \u001b[0mspace\u001b[0m\u001b[1;33m.\u001b[0m\u001b[1;33m\u001b[0m\u001b[1;33m\u001b[0m\u001b[0m\n\u001b[0;32m    673\u001b[0m     \"\"\"\n\u001b[1;32m--> 674\u001b[1;33m     \u001b[1;32mreturn\u001b[0m \u001b[0mmake_figure\u001b[0m\u001b[1;33m(\u001b[0m\u001b[0margs\u001b[0m\u001b[1;33m=\u001b[0m\u001b[0mlocals\u001b[0m\u001b[1;33m(\u001b[0m\u001b[1;33m)\u001b[0m\u001b[1;33m,\u001b[0m \u001b[0mconstructor\u001b[0m\u001b[1;33m=\u001b[0m\u001b[0mgo\u001b[0m\u001b[1;33m.\u001b[0m\u001b[0mScatter3d\u001b[0m\u001b[1;33m)\u001b[0m\u001b[1;33m\u001b[0m\u001b[1;33m\u001b[0m\u001b[0m\n\u001b[0m\u001b[0;32m    675\u001b[0m \u001b[1;33m\u001b[0m\u001b[0m\n\u001b[0;32m    676\u001b[0m \u001b[1;33m\u001b[0m\u001b[0m\n",
      "\u001b[1;32m~\\anaconda3\\lib\\site-packages\\plotly\\express\\_core.py\u001b[0m in \u001b[0;36mmake_figure\u001b[1;34m(args, constructor, trace_patch, layout_patch)\u001b[0m\n\u001b[0;32m   1831\u001b[0m     \u001b[0mapply_default_cascade\u001b[0m\u001b[1;33m(\u001b[0m\u001b[0margs\u001b[0m\u001b[1;33m)\u001b[0m\u001b[1;33m\u001b[0m\u001b[1;33m\u001b[0m\u001b[0m\n\u001b[0;32m   1832\u001b[0m \u001b[1;33m\u001b[0m\u001b[0m\n\u001b[1;32m-> 1833\u001b[1;33m     \u001b[0margs\u001b[0m \u001b[1;33m=\u001b[0m \u001b[0mbuild_dataframe\u001b[0m\u001b[1;33m(\u001b[0m\u001b[0margs\u001b[0m\u001b[1;33m,\u001b[0m \u001b[0mconstructor\u001b[0m\u001b[1;33m)\u001b[0m\u001b[1;33m\u001b[0m\u001b[1;33m\u001b[0m\u001b[0m\n\u001b[0m\u001b[0;32m   1834\u001b[0m     \u001b[1;32mif\u001b[0m \u001b[0mconstructor\u001b[0m \u001b[1;32min\u001b[0m \u001b[1;33m[\u001b[0m\u001b[0mgo\u001b[0m\u001b[1;33m.\u001b[0m\u001b[0mTreemap\u001b[0m\u001b[1;33m,\u001b[0m \u001b[0mgo\u001b[0m\u001b[1;33m.\u001b[0m\u001b[0mSunburst\u001b[0m\u001b[1;33m]\u001b[0m \u001b[1;32mand\u001b[0m \u001b[0margs\u001b[0m\u001b[1;33m[\u001b[0m\u001b[1;34m\"path\"\u001b[0m\u001b[1;33m]\u001b[0m \u001b[1;32mis\u001b[0m \u001b[1;32mnot\u001b[0m \u001b[1;32mNone\u001b[0m\u001b[1;33m:\u001b[0m\u001b[1;33m\u001b[0m\u001b[1;33m\u001b[0m\u001b[0m\n\u001b[0;32m   1835\u001b[0m         \u001b[0margs\u001b[0m \u001b[1;33m=\u001b[0m \u001b[0mprocess_dataframe_hierarchy\u001b[0m\u001b[1;33m(\u001b[0m\u001b[0margs\u001b[0m\u001b[1;33m)\u001b[0m\u001b[1;33m\u001b[0m\u001b[1;33m\u001b[0m\u001b[0m\n",
      "\u001b[1;32m~\\anaconda3\\lib\\site-packages\\plotly\\express\\_core.py\u001b[0m in \u001b[0;36mbuild_dataframe\u001b[1;34m(args, constructor)\u001b[0m\n\u001b[0;32m   1355\u001b[0m     \u001b[1;31m# now that things have been prepped, we do the systematic rewriting of `args`\u001b[0m\u001b[1;33m\u001b[0m\u001b[1;33m\u001b[0m\u001b[1;33m\u001b[0m\u001b[0m\n\u001b[0;32m   1356\u001b[0m \u001b[1;33m\u001b[0m\u001b[0m\n\u001b[1;32m-> 1357\u001b[1;33m     df_output, wide_id_vars = process_args_into_dataframe(\n\u001b[0m\u001b[0;32m   1358\u001b[0m         \u001b[0margs\u001b[0m\u001b[1;33m,\u001b[0m \u001b[0mwide_mode\u001b[0m\u001b[1;33m,\u001b[0m \u001b[0mvar_name\u001b[0m\u001b[1;33m,\u001b[0m \u001b[0mvalue_name\u001b[0m\u001b[1;33m\u001b[0m\u001b[1;33m\u001b[0m\u001b[0m\n\u001b[0;32m   1359\u001b[0m     )\n",
      "\u001b[1;32m~\\anaconda3\\lib\\site-packages\\plotly\\express\\_core.py\u001b[0m in \u001b[0;36mprocess_args_into_dataframe\u001b[1;34m(args, wide_mode, var_name, value_name)\u001b[0m\n\u001b[0;32m   1161\u001b[0m                         \u001b[1;32mif\u001b[0m \u001b[0margument\u001b[0m \u001b[1;33m==\u001b[0m \u001b[1;34m\"index\"\u001b[0m\u001b[1;33m:\u001b[0m\u001b[1;33m\u001b[0m\u001b[1;33m\u001b[0m\u001b[0m\n\u001b[0;32m   1162\u001b[0m                             \u001b[0merr_msg\u001b[0m \u001b[1;33m+=\u001b[0m \u001b[1;34m\"\\n To use the index, pass it in directly as `df.index`.\"\u001b[0m\u001b[1;33m\u001b[0m\u001b[1;33m\u001b[0m\u001b[0m\n\u001b[1;32m-> 1163\u001b[1;33m                         \u001b[1;32mraise\u001b[0m \u001b[0mValueError\u001b[0m\u001b[1;33m(\u001b[0m\u001b[0merr_msg\u001b[0m\u001b[1;33m)\u001b[0m\u001b[1;33m\u001b[0m\u001b[1;33m\u001b[0m\u001b[0m\n\u001b[0m\u001b[0;32m   1164\u001b[0m                 \u001b[1;32melif\u001b[0m \u001b[0mlength\u001b[0m \u001b[1;32mand\u001b[0m \u001b[0mlen\u001b[0m\u001b[1;33m(\u001b[0m\u001b[0mdf_input\u001b[0m\u001b[1;33m[\u001b[0m\u001b[0margument\u001b[0m\u001b[1;33m]\u001b[0m\u001b[1;33m)\u001b[0m \u001b[1;33m!=\u001b[0m \u001b[0mlength\u001b[0m\u001b[1;33m:\u001b[0m\u001b[1;33m\u001b[0m\u001b[1;33m\u001b[0m\u001b[0m\n\u001b[0;32m   1165\u001b[0m                     raise ValueError(\n",
      "\u001b[1;31mValueError\u001b[0m: Value of 'color' is not the name of a column in 'data_frame'. Expected one of ['Algorithm', 'ProofType', 'TotalCoinsMined', 'MaxSupply', 'PC 1', 'PC 2', 'PC 3'] but received: Class"
     ]
    }
   ],
   "source": [
    "# Create a 3D-Scatter with the PCA data and the clusters\n",
    "fig = px.scatter_3d(\n",
    "    cryptocluster_df,\n",
    "    x=\"PC 1\",\n",
    "    y=\"PC 2\",\n",
    "    z=\"PC 3\",\n",
    "    color=\"Class\",\n",
    "    symbol=\"Class\",\n",
    "    width=600,\n",
    "    hover_data = [\"Algorithm\"],\n",
    ")\n",
    "fig.update_layout(legend=dict(x=0, y=1))\n",
    "fig.show()"
   ]
  },
  {
   "cell_type": "markdown",
   "metadata": {},
   "source": [
    "#### Table of Tradable Cryptocurrencies"
   ]
  },
  {
   "cell_type": "code",
   "execution_count": 192,
   "metadata": {},
   "outputs": [
    {
     "output_type": "display_data",
     "data": {},
     "metadata": {}
    },
    {
     "output_type": "execute_result",
     "data": {
      "text/html": "<div id='1102'>\n\n\n\n\n\n  <div class=\"bk-root\" id=\"bc0198c2-5593-428c-8a80-db7edcc6f545\" data-root-id=\"1102\"></div>\n</div>\n<script type=\"application/javascript\">(function(root) {\n  function embed_document(root) {\n    var docs_json = {\"a7b7dda0-dfd8-4cd2-a735-fa102df9a911\":{\"roots\":{\"references\":[{\"attributes\":{\"editor\":{\"id\":\"1127\"},\"field\":\"PC_1\",\"formatter\":{\"id\":\"1126\"},\"title\":\"PC 1\"},\"id\":\"1128\",\"type\":\"TableColumn\"},{\"attributes\":{\"editor\":{\"id\":\"1122\"},\"field\":\"MaxSupply\",\"formatter\":{\"id\":\"1121\"},\"title\":\"MaxSupply\"},\"id\":\"1123\",\"type\":\"TableColumn\"},{\"attributes\":{\"format\":\"0,0.0[00000]\"},\"id\":\"1131\",\"type\":\"NumberFormatter\"},{\"attributes\":{\"editor\":{\"id\":\"1112\"},\"field\":\"ProofType\",\"formatter\":{\"id\":\"1111\"},\"title\":\"ProofType\"},\"id\":\"1113\",\"type\":\"TableColumn\"},{\"attributes\":{\"columns\":[{\"id\":\"1108\"},{\"id\":\"1113\"},{\"id\":\"1118\"},{\"id\":\"1123\"},{\"id\":\"1128\"},{\"id\":\"1133\"},{\"id\":\"1138\"}],\"height\":300,\"reorderable\":false,\"source\":{\"id\":\"1104\"},\"view\":{\"id\":\"1142\"},\"width\":700},\"id\":\"1141\",\"type\":\"DataTable\"},{\"attributes\":{},\"id\":\"1144\",\"type\":\"UnionRenderers\"},{\"attributes\":{\"margin\":[5,5,5,5],\"name\":\"HSpacer01707\",\"sizing_mode\":\"stretch_width\"},\"id\":\"1147\",\"type\":\"Spacer\"},{\"attributes\":{\"data\":{\"Algorithm\":[\"Scrypt\",\"N/A\",\"X11\",\"Scrypt\",\"SHA-256\",\"SHA-256\",\"N/A\",\"X13\",\"X11\",\"N/A\",\"SHA-256\",\"Multiple\",\"Scrypt\",\"Scrypt\",\"Scrypt\",\"SHA-256\",\"N/A\",\"PoS\",\"Scrypt\",\"X13\",\"Scrypt\",\"Scrypt\",\"SHA-256\",\"Scrypt\",\"X13\",\"N/A\",\"PoS\",\"SHA-256\",\"SHA-256\",\"N/A\",\"Scrypt\",\"N/A\",\"Scrypt\",\"N/A\",\"N/A\",\"N/A\",\"N/A\",\"CryptoNight\",\"PoS\",\"N/A\",\"N/A\",\"PoS\",\"N/A\",\"X13\",\"X11\",\"N/A\",\"X11\",\"Scrypt\",\"N/A\",\"N/A\",\"N/A\",\"N/A\",\"SHA-256\",\"N/A\",\"N/A\",\"Argon2d\",\"N/A\",\"N/A\",\"N/A\",\"N/A\",\"N/A\",\"N/A\",\"N/A\",\"N/A\",\"N/A\",\"N/A\",\"N/A\",\"N/A\",\"N/A\",\"N/A\",\"N/A\",\"CryptoNight\",\"N/A\",\"N/A\",\"N/A\",\"N/A\",\"N/A\",\"PoS\",\"N/A\",\"N/A\",\"N/A\",\"N/A\",\"N/A\",\"N/A\",\"N/A\",\"N/A\",\"N/A\",\"N/A\",\"Dagger\",\"N/A\",\"N/A\",\"N/A\",\"N/A\",\"N/A\",\"N/A\",\"N/A\",\"N/A\",\"Equihash\",\"N/A\",\"N/A\",\"N/A\",\"N/A\",\"N/A\",\"N/A\",\"N/A\",\"N/A\",\"NEP-5\",\"N/A\",\"N/A\",\"N/A\",\"N/A\",\"N/A\",\"N/A\",\"N/A\",\"N/A\",\"N/A\",\"X11\",\"N/A\",\"N/A\",\"N/A\",\"N/A\",\"N/A\",\"N/A\",\"N/A\",\"N/A\",\"SHA-256\",\"N/A\",\"N/A\",\"N/A\",\"N/A\",\"N/A\",\"N/A\",\"NEP-5\",\"SHA-256\",\"N/A\",\"N/A\",\"N/A\",\"N/A\",\"N/A\",\"N/A\",\"N/A\",\"N/A\",\"N/A\",\"N/A\",\"N/A\",\"SHA-256\",\"N/A\",\"N/A\",\"N/A\",\"N/A\",\"N/A\",\"N/A\",\"N/A\",\"N/A\",\"N/A\",\"N/A\",\"N/A\",\"N/A\",\"N/A\",\"N/A\",\"N/A\",\"N/A\",\"N/A\",\"N/A\",\"N/A\",\"POS 3.0\",\"N/A\",\"N/A\",\"N/A\",\"NeoScrypt\",\"N/A\",\"Equihash\",\"N/A\",\"N/A\",\"N/A\",\"N/A\",\"N/A\",\"N/A\",\"N/A\",\"N/A\",\"N/A\",\"N/A\",\"N/A\",\"N/A\",\"N/A\",\"N/A\",\"Ethash\",\"N/A\",\"N/A\",\"N/A\",\"N/A\",\"N/A\",\"N/A\",\"N/A\",\"IMesh\",\"N/A\",\"N/A\",\"N/A\",\"N/A\",\"N/A\",\"N/A\",\"Equihash\",\"N/A\",\"Semux BFT consensus\",\"Scrypt\",\"N/A\",\"CryptoNight-Heavy\",\"N/A\",\"CryptoNight\",\"N/A\",\"CryptoNight\",\"N/A\",\"N/A\",\"N/A\",\"N/A\",\"N/A\",\"N/A\",\"N/A\",\"N/A\",\"N/A\",\"N/A\",\"N/A\",\"N/A\",\"N/A\",\"N/A\",\"N/A\",\"N/A\",\"N/A\",\"N/A\",\"N/A\",\"N/A\",\"N/A\",\"N/A\",\"N/A\",\"N/A\",\"Quark\",\"Quark\",\"X11\",\"N/A\",\"Lyra2REv2\",\"N/A\",\"N/A\",\"N/A\",\"N/A\",\"N/A\",\"N/A\",\"N/A\",\"N/A\",\"N/A\",\"N/A\",\"N/A\",\"N/A\",\"N/A\",\"N/A\",\"N/A\",\"N/A\",\"N/A\",\"N/A\",\"N/A\",\"N/A\",\"SHA-512\",\"N/A\",\"N/A\",\"N/A\",\"N/A\",\"N/A\",\"N/A\",\"N/A\",\"N/A\",\"N/A\",\"N/A\",\"N/A\",\"N/A\",\"N/A\",\"N/A\",\"N/A\",\"N/A\",\"N/A\",\"N/A\",\"N/A\",\"N/A\",\"Lyra2Z\",\"N/A\",\"Ethash\",\"X13\",\"N/A\",\"N/A\",\"N/A\",\"N/A\",\"N/A\",\"N/A\",\"N/A\",\"N/A\",\"N/A\",\"SHA-256\",\"N/A\",\"N/A\",\"N/A\",\"N/A\",\"N/A\",\"Equihash\",\"N/A\",\"N/A\",\"N/A\",\"N/A\",\"N/A\",\"N/A\",\"N/A\",\"N/A\",\"N/A\",\"N/A\",\"N/A\",\"SPoS\",\"N/A\",\"N/A\",\"N/A\",\"N/A\",\"N/A\",\"N/A\",\"N/A\",\"N/A\",\"N/A\",\"N/A\",\"N/A\",\"N/A\",\"N/A\",\"Equihash1927\",\"N/A\",\"N/A\",\"N/A\",\"N/A\",\"N/A\",\"N/A\",\"N/A\",\"BEP-2\",\"N/A\",\"N/A\",\"Quark\",\"N/A\",\"N/A\",\"vBlake\",\"N/A\",\"N/A\",\"N/A\",\"N/A\",\"N/A\",\"N/A\",\"N/A\",\"N/A\",\"N/A\",\"N/A\",\"N/A\",\"N/A\",\"N/A\",\"N/A\",\"N/A\",\"N/A\",\"N/A\",\"N/A\",\"N/A\",\"N/A\",\"N/A\",\"N/A\",\"N/A\",\"N/A\",\"N/A\",\"N/A\",\"N/A\",\"N/A\",\"N/A\",\"X13\",\"N/A\",\"N/A\",\"N/A\",\"N/A\",\"N/A\",\"N/A\",\"N/A\",\"N/A\",\"N/A\",\"N/A\",\"N/A\",\"N/A\",\"N/A\",\"N/A\",\"N/A\",\"N/A\",\"N/A\",\"Ethash\",\"SHA-256\",\"N/A\",\"N/A\",\"N/A\",\"N/A\",\"CryptoNight\",\"N/A\",\"N/A\",\"N/A\",\"N/A\",\"N/A\",\"N/A\",\"N/A\",\"N/A\",\"N/A\",\"N/A\",\"N/A\",\"N/A\",\"N/A\",\"N/A\",\"N/A\",\"N/A\",\"N/A\",\"N/A\",\"N/A\",\"N/A\",\"N/A\",\"N/A\",\"N/A\",\"N/A\",\"N/A\",\"N/A\",\"N/A\",\"N/A\",\"N/A\",\"N/A\",\"N/A\",\"Eaglesong\",\"N/A\",\"N/A\",\"N/A\",\"N/A\",\"N/A\",\"N/A\",\"N/A\",\"N/A\",\"N/A\",\"N/A\",\"N/A\",\"N/A\",\"N/A\",\"N/A\",\"N/A\",\"N/A\",\"N/A\",\"N/A\",\"N/A\",\"N/A\",\"N/A\",\"N/A\",\"N/A\",\"NEP-5\",\"N/A\",\"N/A\",\"N/A\",\"N/A\",\"N/A\",\"CryptoNote\",\"ProgPowZ\",\"N/A\",\"N/A\",\"SHA-256\",\"N/A\",\"N/A\",\"N/A\",\"N/A\",\"N/A\",\"N/A\",\"N/A\",\"N/A\",\"N/A\",\"N/A\",\"N/A\",\"N/A\",\"N/A\",\"N/A\",\"N/A\",\"NeoScrypt\",\"N/A\",\"N/A\",\"N/A\",\"Blake2B + SHA3\",\"N/A\",\"N/A\",\"N/A\",\"N/A\",\"N/A\",\"N/A\",\"N/A\",\"N/A\",\"N/A\",\"N/A\",\"N/A\",\"N/A\",\"N/A\",\"N/A\",\"N/A\",\"N/A\",\"N/A\",\"N/A\",\"N/A\",\"N/A\",\"N/A\",\"N/A\",\"N/A\",\"N/A\",\"N/A\",\"N/A\",\"N/A\",\"N/A\",\"N/A\",\"N/A\",\"N/A\",\"N/A\",\"N/A\",\"N/A\",\"N/A\",\"N/A\",\"N/A\",\"N/A\",\"N/A\",\"C31\",\"N/A\",\"N/A\",\"N/A\",\"N/A\",\"N/A\",\"N/A\",\"N/A\",\"N/A\",\"N/A\",\"N/A\",\"N/A\",\"N/A\",\"N/A\",\"N/A\",\"N/A\",\"N/A\",\"SHA-256\",\"N/A\",\"N/A\",\"N/A\",\"N/A\",\"N/A\",\"N/A\",\"N/A\",\"N/A\",\"N/A\",\"N/A\",\"N/A\",\"N/A\",\"N/A\",\"N/A\",\"N/A\",\"N/A\",\"N/A\",\"N/A\",\"N/A\",\"N/A\",\"N/A\",\"N/A\",\"N/A\",\"N/A\",\"N/A\",\"N/A\",\"N/A\",\"N/A\",\"N/A\",\"N/A\",\"N/A\",\"N/A\",\"N/A\",\"N/A\",\"N/A\",\"N/A\",\"N/A\",\"N/A\",\"N/A\",\"N/A\",\"N/A\",\"N/A\",\"N/A\",\"N/A\",\"N/A\",\"N/A\",\"N/A\",\"N/A\",\"N/A\",\"N/A\",\"N/A\",\"N/A\",\"N/A\",\"N/A\",\"N/A\",\"N/A\",\"N/A\",\"N/A\",\"N/A\",\"N/A\",\"N/A\",\"N/A\",\"N/A\",\"N/A\",\"N/A\",\"N/A\",\"N/A\",\"N/A\",\"N/A\",\"N/A\",\"N/A\",\"X16R\",\"N/A\",\"N/A\",\"N/A\",\"N/A\",\"N/A\",\"N/A\",\"N/A\",\"N/A\",\"N/A\",\"N/A\",\"N/A\",\"N/A\",\"N/A\",\"N/A\",\"N/A\",\"N/A\",\"N/A\",\"N/A\",\"N/A\",\"N/A\",\"N/A\",\"N/A\",\"N/A\",\"N/A\",\"N/A\",\"N/A\",\"N/A\",\"N/A\",\"N/A\",\"N/A\",\"N/A\",\"Scrypt\",\"N/A\",\"N/A\",\"N/A\",\"N/A\",\"N/A\",\"N/A\",\"N/A\",\"N/A\",\"N/A\",\"N/A\",\"N/A\",\"N/A\",\"N/A\",\"N/A\",\"N/A\",\"N/A\",\"N/A\",\"N/A\",\"N/A\",\"Scrypt\",\"N/A\",\"N/A\",\"N/A\",\"N/A\",\"N/A\",\"N/A\",\"N/A\",\"N/A\",\"N/A\",\"N/A\",\"N/A\",\"N/A\",\"N/A\",\"N/A\",\"N/A\",\"N/A\",\"N/A\",\"N/A\",\"N/A\",\"N/A\",\"N/A\",\"N/A\",\"N/A\",\"N/A\",\"N/A\",\"N/A\",\"N/A\",\"N/A\",\"N/A\",\"ECC 256K1\",\"N/A\",\"N/A\",\"N/A\",\"N/A\",\"N/A\",\"N/A\",\"N/A\",\"N/A\",\"N/A\",\"N/A\",\"N/A\",\"N/A\",\"N/A\",\"N/A\",\"N/A\",\"N/A\",\"N/A\",\"N/A\",\"N/A\",\"N/A\",\"N/A\",\"N/A\",\"N/A\",\"N/A\",\"N/A\",\"N/A\",\"N/A\",\"N/A\",\"N/A\",\"N/A\",\"N/A\",\"N/A\",\"N/A\",\"N/A\",\"N/A\",\"N/A\",\"N/A\",\"N/A\",\"N/A\",\"N/A\",\"N/A\",\"N/A\",\"N/A\",\"N/A\",\"N/A\",\"N/A\",\"N/A\",\"N/A\",\"N/A\",\"N/A\",\"N/A\",\"N/A\",\"N/A\",\"N/A\",\"N/A\",\"N/A\",\"N/A\",\"N/A\",\"N/A\",\"N/A\",\"N/A\",\"N/A\",\"N/A\",\"N/A\",\"N/A\",\"N/A\",\"N/A\",\"N/A\",\"N/A\",\"N/A\",\"N/A\",\"N/A\",\"N/A\",\"N/A\",\"N/A\",\"N/A\",\"N/A\",\"N/A\",\"N/A\",\"N/A\",\"N/A\",\"N/A\",\"N/A\",\"N/A\",\"N/A\",\"N/A\",\"Scrypt\",\"N/A\",\"N/A\",\"N/A\",\"N/A\",\"N/A\",\"N/A\",\"N/A\",\"N/A\",\"N/A\",\"N/A\",\"N/A\",\"N/A\",\"N/A\",\"N/A\",\"N/A\",\"N/A\",\"N/A\",\"N/A\",\"N/A\",\"N/A\",\"N/A\",\"N/A\",\"N/A\",\"N/A\",\"N/A\",\"N/A\",\"BEP20 Token\",\"N/A\",\"N/A\",\"N/A\",\"N/A\",\"CryptoNight-Heavy\",\"N/A\",\"N/A\",\"N/A\",\"N/A\",\"N/A\",\"N/A\",\"N/A\",\"N/A\",\"N/A\",\"N/A\",\"N/A\",\"N/A\",\"N/A\",\"N/A\",\"N/A\",\"N/A\",\"N/A\",\"CryptoNight-Lite\",\"N/A\",\"N/A\",\"N/A\",\"N/A\",\"SHA-256\",\"SHA-256\",\"N/A\",\"N/A\",\"N/A\",\"N/A\",\"N/A\",\"N/A\",\"N/A\",\"Autolykos\",\"SHA-256\",\"Scrypt\",\"N/A\",\"Scrypt\",\"Scrypt-n\",\"N/A\",\"Scrypt\",\"N/A\",\"Groestl\",\"N/A\",\"N/A\",\"N/A\",\"N/A\",\"N/A\",\"N/A\",\"TRC10\",\"N/A\",\"N/A\",\"N/A\",\"N/A\",\"N/A\",\"N/A\",\"N/A\",\"N/A\",\"N/A\",\"N/A\",\"KECCAK\",\"CryptoNight\",\"N/A\",\"N/A\",\"N/A\",\"IMesh\",\"N/A\",\"N/A\",\"N/A\",\"N/A\",\"N/A\",\"N/A\",\"N/A\",\"N/A\",\"DPoS\",\"N/A\",\"N/A\",\"RandomX\",\"N/A\",\"N/A\",\"HEX\",\"N/A\",\"X13\",\"SHA-256\",\"Ethash\",\"N/A\",\"N/A\",\"DPoS\",\"X11\",\"N/A\",\"Equihash\",\"N/A\",\"N/A\",\"N/A\",\"N/A\",\"N/A\",\"N/A\",\"N/A\",\"BEP2 Token\",\"N/A\",\"N/A\",\"N/A\",\"N/A\",\"N/A\",\"N/A\",\"N/A\",\"N/A\",\"N/A\",\"N/A\",\"Scrypt\",\"N/A\",\"N/A\",\"SHA-256\",\"N/A\",\"N/A\",\"N/A\",\"N/A\",\"N/A\",\"N/A\",\"Scrypt\",\"Dagger-Hashimoto\",\"Scrypt\",\"Scrypt\",\"N/A\",\"PoS\",\"N/A\",\"Equihash\",\"Lyra2REv2\",\"N/A\",\"N/A\",\"Scrypt\",\"BLAKE256\",\"SHA-256\",\"Multiple\",\"N/A\",\"N/A\",\"N/A\",\"C31\",\"N/A\",\"BEP2 Token\",\"SHA-256\",\"N/A\",\"Quark\",\"Ethash\",\"Scrypt\",\"N/A\",\"Scrypt\",\"N/A\",\"Scrypt\",\"DPoS\",\"SHA-256\",\"Scrypt\",\"X11GOST\",\"Equihash\",\"N/A\",\"Groestl\",\"BMW512 / Echo512\",\"Scrypt\",\"NeoScrypt\",\"X11\",\"Scrypt\",\"MTP\",\"X13\",\"KAWPOW\",\"DPoS\",\"Multiple\",\"DPoS\",\"N/A\",\"N/A\",\"Shabal256\",\"Blake2b\",\"Proof-of-Authority\",\"N/A\",\"N/A\",\"Tensority\",\"N/A\",\"BLAKE256\",\"N/A\",\"PoS\",\"N/A\",\"Quark\",\"Equihash\",\"N/A\",\"N/A\",\"N/A\",\"Ethash\",\"SHA-256\",\"Equihash210,9\",\"N/A\",\"DPoS\",\"X13\",\"SHA3\",\"Multiple\",\"VeChainThor Authority\",\"POS 3.0\",\"N/A\",\"Quark\",\"Blake2b\",\"VBFT\",\"Ethash\",\"N/A\",\"DPoS\",\"Loopchain\",\"PoS\",\"SHA-512\",\"N/A\",\"Ethash\",\"N/A\",\"Leased POS\",\"Ouroboros\",\"dBFT2.0\",\"N/A\",\"DPoS\",\"N/A\",\"N/A\"],\"MaxSupply\":{\"__ndarray__\":\"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\",\"dtype\":\"float64\",\"order\":\"little\",\"shape\":[1024]},\"PC_1\":{\"__ndarray__\":\"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\",\"dtype\":\"float64\",\"order\":\"little\",\"shape\":[1024]},\"PC_2\":{\"__ndarray__\":\"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\",\"dtype\":\"float64\",\"order\":\"little\",\"shape\":[1024]},\"PC_3\":{\"__ndarray__\":\"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\",\"dtype\":\"float64\",\"order\":\"little\",\"shape\":[1024]},\"ProofType\":[\"PoW/PoS\",\"N/A\",\"PoW/PoS\",\"PoW/PoS\",\"PoW\",\"PoW/PoS\",\"PoW\",\"PoW/PoS\",\"PoW/PoS\",\"N/A\",\"PoW\",\"PoW\",\"PoW\",\"PoW/PoS\",\"PoST\",\"PoW\",\"N/A\",\"PoS\",\"PoW\",\"PoW/PoS\",\"PoW\",\"PoS\",\"PoW/PoS\",\"PoW/PoS\",\"PoW/PoS\",\"N/A\",\"PoS\",\"PoW/PoS\",\"PoW/PoS\",\"N/A\",\"PoC\",\"N/A\",\"PoW\",\"N/A\",\"N/A\",\"N/A\",\"N/A\",\"PoW\",\"PoS\",\"N/A\",\"N/A\",\"PoS\",\"N/A\",\"PoW/PoS\",\"TPoS\",\"N/A\",\"PoS\",\"PoW/PoS\",\"N/A\",\"N/A\",\"PoSign\",\"N/A\",\"PoS\",\"N/A\",\"N/A\",\"PoW\",\"N/A\",\"N/A\",\"N/A\",\"N/A\",\"N/A\",\"PoW\",\"N/A\",\"N/A\",\"N/A\",\"N/A\",\"N/A\",\"PoS\",\"N/A\",\"N/A\",\"N/A\",\"PoW\",\"N/A\",\"N/A\",\"N/A\",\"N/A\",\"N/A\",\"PoS\",\"N/A\",\"N/A\",\"N/A\",\"N/A\",\"N/A\",\"N/A\",\"N/A\",\"N/A\",\"N/A\",\"N/A\",\"PoA\",\"N/A\",\"N/A\",\"N/A\",\"PoW\",\"N/A\",\"N/A\",\"N/A\",\"N/A\",\"PoW\",\"N/A\",\"N/A\",\"N/A\",\"N/A\",\"N/A\",\"N/A\",\"N/A\",\"N/A\",\"N/A\",\"N/A\",\"N/A\",\"N/A\",\"N/A\",\"N/A\",\"N/A\",\"N/A\",\"DPoS\",\"N/A\",\"PoW\",\"N/A\",\"N/A\",\"N/A\",\"N/A\",\"N/A\",\"N/A\",\"N/A\",\"N/A\",\"PoW\",\"N/A\",\"N/A\",\"N/A\",\"N/A\",\"N/A\",\"N/A\",\"N/A\",\"PoW/PoS\",\"dPoS\",\"N/A\",\"N/A\",\"N/A\",\"N/A\",\"N/A\",\"N/A\",\"N/A\",\"N/A\",\"N/A\",\"N/A\",\"PoW\",\"N/A\",\"N/A\",\"N/A\",\"N/A\",\"N/A\",\"N/A\",\"N/A\",\"N/A\",\"N/A\",\"N/A\",\"N/A\",\"N/A\",\"N/A\",\"N/A\",\"N/A\",\"N/A\",\"N/A\",\"N/A\",\"N/A\",\"PoS\",\"N/A\",\"N/A\",\"N/A\",\"N/A\",\"N/A\",\"PoW\",\"N/A\",\"N/A\",\"PoS\",\"PoW\",\"N/A\",\"N/A\",\"N/A\",\"N/A\",\"N/A\",\"N/A\",\"N/A\",\"N/A\",\"N/A\",\"N/A\",\"PoW\",\"N/A\",\"N/A\",\"N/A\",\"N/A\",\"N/A\",\"N/A\",\"N/A\",\"PoW\",\"PoW\",\"N/A\",\"PoS\",\"N/A\",\"N/A\",\"N/A\",\"PoW/PoS\",\"N/A\",\"DPoS\",\"PoW/PoS\",\"N/A\",\"PoW\",\"N/A\",\"PoW\",\"N/A\",\"PoW\",\"N/A\",\"N/A\",\"N/A\",\"N/A\",\"N/A\",\"N/A\",\"PoW\",\"N/A\",\"N/A\",\"N/A\",\"N/A\",\"N/A\",\"PoS\",\"N/A\",\"N/A\",\"Roll-DPoS\",\"PoW/PoS\",\"PoR\",\"N/A\",\"N/A\",\"N/A\",\"PoS\",\"N/A\",\"N/A\",\"PoW/PoS\",\"PoS\",\"PoW/PoS\",\"N/A\",\"PoW\",\"N/A\",\"N/A\",\"N/A\",\"N/A\",\"N/A\",\"N/A\",\"N/A\",\"N/A\",\"N/A\",\"N/A\",\"N/A\",\"N/A\",\"N/A\",\"N/A\",\"PoS\",\"ePoW\",\"N/A\",\"N/A\",\"N/A\",\"N/A\",\"Zero-Knowledge Proof\",\"N/A\",\"N/A\",\"N/A\",\"N/A\",\"N/A\",\"N/A\",\"N/A\",\"N/A\",\"N/A\",\"N/A\",\"N/A\",\"N/A\",\"N/A\",\"N/A\",\"N/A\",\"N/A\",\"N/A\",\"N/A\",\"PoW\",\"N/A\",\"PoW\",\"N/A\",\"PoW\",\"N/A\",\"N/A\",\"N/A\",\"N/A\",\"N/A\",\"PoW\",\"N/A\",\"N/A\",\"N/A\",\"N/A\",\"PoW\",\"N/A\",\"N/A\",\"N/A\",\"N/A\",\"N/A\",\"PoW\",\"N/A\",\"N/A\",\"N/A\",\"N/A\",\"N/A\",\"N/A\",\"N/A\",\"N/A\",\"N/A\",\"N/A\",\"N/A\",\"SPoS\",\"N/A\",\"PoS\",\"N/A\",\"N/A\",\"N/A\",\"N/A\",\"N/A\",\"N/A\",\"N/A\",\"PoW\",\"N/A\",\"N/A\",\"N/A\",\"PoW\",\"N/A\",\"N/A\",\"N/A\",\"N/A\",\"PoW\",\"N/A\",\"PoW\",\"N/A\",\"N/A\",\"N/A\",\"PoS\",\"N/A\",\"N/A\",\"PoP + PoW\",\"N/A\",\"N/A\",\"N/A\",\"N/A\",\"N/A\",\"N/A\",\"N/A\",\"N/A\",\"N/A\",\"N/A\",\"N/A\",\"N/A\",\"N/A\",\"N/A\",\"N/A\",\"N/A\",\"N/A\",\"N/A\",\"N/A\",\"N/A\",\"N/A\",\"N/A\",\"PoW\",\"N/A\",\"N/A\",\"N/A\",\"N/A\",\"PoS\",\"N/A\",\"PoW\",\"N/A\",\"N/A\",\"N/A\",\"N/A\",\"N/A\",\"N/A\",\"N/A\",\"N/A\",\"N/A\",\"N/A\",\"N/A\",\"N/A\",\"N/A\",\"N/A\",\"N/A\",\"N/A\",\"N/A\",\"PoW\",\"N/A\",\"N/A\",\"N/A\",\"N/A\",\"N/A\",\"PoW\",\"N/A\",\"N/A\",\"N/A\",\"N/A\",\"N/A\",\"N/A\",\"N/A\",\"N/A\",\"N/A\",\"N/A\",\"N/A\",\"N/A\",\"N/A\",\"N/A\",\"N/A\",\"N/A\",\"N/A\",\"N/A\",\"N/A\",\"N/A\",\"N/A\",\"N/A\",\"PoS\",\"N/A\",\"N/A\",\"N/A\",\"PoS\",\"N/A\",\"N/A\",\"N/A\",\"PoS\",\"PoW\",\"N/A\",\"N/A\",\"N/A\",\"N/A\",\"N/A\",\"N/A\",\"N/A\",\"N/A\",\"N/A\",\"N/A\",\"N/A\",\"N/A\",\"N/A\",\"N/A\",\"N/A\",\"N/A\",\"N/A\",\"N/A\",\"N/A\",\"N/A\",\"N/A\",\"N/A\",\"N/A\",\"N/A\",\"N/A\",\"N/A\",\"N/A\",\"N/A\",\"N/A\",\"PoS\",\"PoW/PoS\",\"N/A\",\"N/A\",\"N/A\",\"N/A\",\"N/A\",\"N/A\",\"PoS\",\"N/A\",\"N/A\",\"N/A\",\"N/A\",\"N/A\",\"N/A\",\"N/A\",\"N/A\",\"N/A\",\"N/A\",\"N/A\",\"N/A\",\"N/A\",\"N/A\",\"N/A\",\"PoW\",\"N/A\",\"N/A\",\"N/A\",\"N/A\",\"N/A\",\"N/A\",\"N/A\",\"N/A\",\"N/A\",\"N/A\",\"N/A\",\"N/A\",\"N/A\",\"N/A\",\"N/A\",\"N/A\",\"N/A\",\"N/A\",\"N/A\",\"N/A\",\"N/A\",\"N/A\",\"N/A\",\"N/A\",\"DPoS/PoB\",\"N/A\",\"N/A\",\"N/A\",\"N/A\",\"N/A\",\"N/A\",\"N/A\",\"N/A\",\"N/A\",\"N/A\",\"N/A\",\"N/A\",\"N/A\",\"N/A\",\"PoW\",\"N/A\",\"N/A\",\"N/A\",\"N/A\",\"N/A\",\"N/A\",\"N/A\",\"N/A\",\"N/A\",\"N/A\",\"N/A\",\"N/A\",\"N/A\",\"N/A\",\"N/A\",\"N/A\",\"PoW\",\"N/A\",\"N/A\",\"N/A\",\"N/A\",\"N/A\",\"N/A\",\"N/A\",\"N/A\",\"N/A\",\"N/A\",\"N/A\",\"N/A\",\"N/A\",\"N/A\",\"N/A\",\"N/A\",\"N/A\",\"N/A\",\"N/A\",\"N/A\",\"N/A\",\"N/A\",\"N/A\",\"N/A\",\"N/A\",\"N/A\",\"N/A\",\"N/A\",\"N/A\",\"N/A\",\"N/A\",\"N/A\",\"N/A\",\"N/A\",\"N/A\",\"N/A\",\"N/A\",\"N/A\",\"N/A\",\"N/A\",\"N/A\",\"N/A\",\"N/A\",\"N/A\",\"N/A\",\"N/A\",\"N/A\",\"N/A\",\"N/A\",\"N/A\",\"N/A\",\"N/A\",\"N/A\",\"N/A\",\"N/A\",\"N/A\",\"N/A\",\"N/A\",\"N/A\",\"N/A\",\"N/A\",\"PoS\",\"N/A\",\"PoS\",\"N/A\",\"N/A\",\"N/A\",\"N/A\",\"N/A\",\"PoA\",\"N/A\",\"PoW\",\"N/A\",\"N/A\",\"N/A\",\"N/A\",\"N/A\",\"N/A\",\"N/A\",\"N/A\",\"N/A\",\"N/A\",\"N/A\",\"N/A\",\"N/A\",\"N/A\",\"N/A\",\"N/A\",\"N/A\",\"N/A\",\"N/A\",\"N/A\",\"N/A\",\"N/A\",\"N/A\",\"N/A\",\"N/A\",\"N/A\",\"N/A\",\"N/A\",\"N/A\",\"N/A\",\"N/A\",\"PoW/PoS\",\"N/A\",\"N/A\",\"N/A\",\"N/A\",\"N/A\",\"N/A\",\"N/A\",\"N/A\",\"N/A\",\"N/A\",\"N/A\",\"N/A\",\"N/A\",\"N/A\",\"N/A\",\"N/A\",\"N/A\",\"N/A\",\"N/A\",\"PoS\",\"PoS\",\"N/A\",\"N/A\",\"N/A\",\"N/A\",\"N/A\",\"N/A\",\"N/A\",\"N/A\",\"N/A\",\"N/A\",\"N/A\",\"N/A\",\"N/A\",\"PoS\",\"N/A\",\"N/A\",\"N/A\",\"N/A\",\"PoPP\",\"N/A\",\"N/A\",\"N/A\",\"N/A\",\"N/A\",\"N/A\",\"N/A\",\"N/A\",\"N/A\",\"DPOS\",\"N/A\",\"N/A\",\"N/A\",\"N/A\",\"N/A\",\"N/A\",\"N/A\",\"N/A\",\"N/A\",\"N/A\",\"N/A\",\"N/A\",\"N/A\",\"N/A\",\"N/A\",\"N/A\",\"N/A\",\"N/A\",\"N/A\",\"N/A\",\"N/A\",\"N/A\",\"N/A\",\"N/A\",\"N/A\",\"N/A\",\"N/A\",\"N/A\",\"N/A\",\"N/A\",\"N/A\",\"N/A\",\"N/A\",\"N/A\",\"N/A\",\"N/A\",\"N/A\",\"N/A\",\"N/A\",\"N/A\",\"N/A\",\"N/A\",\"N/A\",\"N/A\",\"N/A\",\"N/A\",\"N/A\",\"N/A\",\"N/A\",\"N/A\",\"N/A\",\"N/A\",\"N/A\",\"N/A\",\"N/A\",\"N/A\",\"N/A\",\"N/A\",\"N/A\",\"PoS\",\"N/A\",\"N/A\",\"N/A\",\"N/A\",\"N/A\",\"N/A\",\"N/A\",\"N/A\",\"N/A\",\"N/A\",\"N/A\",\"N/A\",\"N/A\",\"N/A\",\"N/A\",\"N/A\",\"N/A\",\"N/A\",\"N/A\",\"N/A\",\"N/A\",\"N/A\",\"N/A\",\"N/A\",\"N/A\",\"N/A\",\"PoW\",\"N/A\",\"N/A\",\"N/A\",\"N/A\",\"N/A\",\"N/A\",\"N/A\",\"N/A\",\"N/A\",\"N/A\",\"N/A\",\"N/A\",\"N/A\",\"N/A\",\"N/A\",\"N/A\",\"N/A\",\"N/A\",\"N/A\",\"N/A\",\"N/A\",\"N/A\",\"N/A\",\"PoW\",\"PoS\",\"N/A\",\"N/A\",\"PoS\",\"N/A\",\"N/A\",\"N/A\",\"PoW\",\"N/A\",\"N/A\",\"N/A\",\"N/A\",\"N/A\",\"N/A\",\"N/A\",\"N/A\",\"N/A\",\"N/A\",\"N/A\",\"N/A\",\"N/A\",\"PoW\",\"N/A\",\"N/A\",\"N/A\",\"PoW\",\"N/A\",\"N/A\",\"N/A\",\"N/A\",\"PoW\",\"PoW\",\"N/A\",\"N/A\",\"N/A\",\"N/A\",\"N/A\",\"N/A\",\"N/A\",\"PoW\",\"PoS\",\"PoS\",\"PoS\",\"PoW/PoS\",\"PoW\",\"N/A\",\"PoW/PoS\",\"N/A\",\"PoW/PoS\",\"N/A\",\"DPoS\",\"N/A\",\"PoS\",\"N/A\",\"N/A\",\"DPoS\",\"N/A\",\"N/A\",\"N/A\",\"N/A\",\"PoS\",\"PoS\",\"N/A\",\"PoS\",\"N/A\",\"N/A\",\"PoW\",\"PoW\",\"N/A\",\"DPoS\",\"N/A\",\"DPoS+dBFT\",\"DPoS\",\"fPoW+ PBFT\",\"N/A\",\"N/A\",\"N/A\",\"N/A\",\"N/A\",\"N/A\",\"N/A\",\"N/A\",\"N/A\",\"PoW\",\"N/A\",\"PoS\",\"PoW/PoS\",\"PoW\",\"PoW/PoS\",\"PoW\",\"N/A\",\"N/A\",\"N/A\",\"DPoS\",\"PoW/PoSe\",\"PoS\",\"dPoW/PoW\",\"N/A\",\"N/A\",\"N/A\",\"N/A\",\"N/A\",\"N/A\",\"N/A\",\"N/A\",\"N/A\",\"N/A\",\"N/A\",\"N/A\",\"N/A\",\"N/A\",\"N/A\",\"PoA\",\"N/A\",\"N/A\",\"PoW\",\"N/A\",\"PoW\",\"PoW\",\"N/A\",\"N/A\",\"N/A\",\"N/A\",\"N/A\",\"N/A\",\"PoW/PoS\",\"PoW\",\"PoW/PoS\",\"PoW\",\"N/A\",\"PoS/LPoS\",\"N/A\",\"PoW\",\"PoW\",\"DPoS\",\"Tangle\",\"PoW\",\"PoW/PoS\",\"PoW\",\"N/A\",\"N/A\",\"N/A\",\"N/A\",\"PoW\",\"PoS\",\"PoSA\",\"PoW\",\"N/A\",\"PoW/PoS\",\"PoW\",\"PoW\",\"PoW\",\"PoW/PoS\",\"dPoS/BFT\",\"PoW\",\"PoS\",\"PoW\",\"PoW\",\"PoW\",\"PoW\",\"SCP\",\"PoW\",\"PoW/PoS\",\"PoW\",\"PoW\",\"PoW/PoS\",\"PoW/PoS\",\"PoW\",\"PoW/PoS\",\"N/A\",\"DPoS\",\"PoW\",\"N/A\",\"PoS/PoW\",\"PoS/PoW\",\"PoC\",\"PoW\",\"PoA\",\"PoW/PoS\",\"N/A\",\"PoW\",\"N/A\",\"PoW/PoS\",\"PoS\",\"N/A\",\"PoW\",\"PoW/PoS\",\"PoW\",\"PoW\",\"(PoB)\",\"DPoS\",\"N/A\",\"PoW\",\"PoW/PoS\",\"PoS\",\"DPoS\",\"PoW/PoS\",\"PoW/nPoS\",\"PoW\",\"Proof of Authority\",\"PoS\",\"PoS\",\"PoW/PoS\",\"PoW\",\"PoS\",\"PoW\",\"PoI\",\"DPoS\",\"PoS\",\"PoW\",\"PoS\",\"SCP\",\"PoW\",\"DPoS\",\"LPoS\",\"PoS\",\"N/A\",\"N/A\",\"DPoS\",\"N/A\",\"N/A\"],\"TotalCoinsMined\":{\"__ndarray__\":\"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\",\"dtype\":\"float64\",\"order\":\"little\",\"shape\":[1024]}},\"selected\":{\"id\":\"1105\"},\"selection_policy\":{\"id\":\"1144\"}},\"id\":\"1104\",\"type\":\"ColumnDataSource\"},{\"attributes\":{},\"id\":\"1107\",\"type\":\"StringEditor\"},{\"attributes\":{\"margin\":[5,5,5,5],\"name\":\"HSpacer01706\",\"sizing_mode\":\"stretch_width\"},\"id\":\"1103\",\"type\":\"Spacer\"},{\"attributes\":{},\"id\":\"1127\",\"type\":\"NumberEditor\"},{\"attributes\":{\"editor\":{\"id\":\"1107\"},\"field\":\"Algorithm\",\"formatter\":{\"id\":\"1106\"},\"title\":\"Algorithm\"},\"id\":\"1108\",\"type\":\"TableColumn\"},{\"attributes\":{\"format\":\"0,0.0[00000]\"},\"id\":\"1136\",\"type\":\"NumberFormatter\"},{\"attributes\":{\"source\":{\"id\":\"1104\"}},\"id\":\"1142\",\"type\":\"CDSView\"},{\"attributes\":{},\"id\":\"1112\",\"type\":\"StringEditor\"},{\"attributes\":{\"editor\":{\"id\":\"1137\"},\"field\":\"PC_3\",\"formatter\":{\"id\":\"1136\"},\"title\":\"PC 3\"},\"id\":\"1138\",\"type\":\"TableColumn\"},{\"attributes\":{},\"id\":\"1106\",\"type\":\"StringFormatter\"},{\"attributes\":{},\"id\":\"1117\",\"type\":\"StringEditor\"},{\"attributes\":{},\"id\":\"1111\",\"type\":\"StringFormatter\"},{\"attributes\":{},\"id\":\"1137\",\"type\":\"NumberEditor\"},{\"attributes\":{},\"id\":\"1122\",\"type\":\"StringEditor\"},{\"attributes\":{},\"id\":\"1105\",\"type\":\"Selection\"},{\"attributes\":{\"children\":[{\"id\":\"1103\"},{\"id\":\"1141\"},{\"id\":\"1147\"}],\"margin\":[0,0,0,0],\"name\":\"Row01702\",\"tags\":[\"embedded\"]},\"id\":\"1102\",\"type\":\"Row\"},{\"attributes\":{},\"id\":\"1116\",\"type\":\"StringFormatter\"},{\"attributes\":{\"editor\":{\"id\":\"1132\"},\"field\":\"PC_2\",\"formatter\":{\"id\":\"1131\"},\"title\":\"PC 2\"},\"id\":\"1133\",\"type\":\"TableColumn\"},{\"attributes\":{},\"id\":\"1121\",\"type\":\"StringFormatter\"},{\"attributes\":{\"editor\":{\"id\":\"1117\"},\"field\":\"TotalCoinsMined\",\"formatter\":{\"id\":\"1116\"},\"title\":\"TotalCoinsMined\"},\"id\":\"1118\",\"type\":\"TableColumn\"},{\"attributes\":{\"format\":\"0,0.0[00000]\"},\"id\":\"1126\",\"type\":\"NumberFormatter\"},{\"attributes\":{},\"id\":\"1132\",\"type\":\"NumberEditor\"}],\"root_ids\":[\"1102\"]},\"title\":\"Bokeh Application\",\"version\":\"2.2.3\"}};\n    var render_items = [{\"docid\":\"a7b7dda0-dfd8-4cd2-a735-fa102df9a911\",\"root_ids\":[\"1102\"],\"roots\":{\"1102\":\"bc0198c2-5593-428c-8a80-db7edcc6f545\"}}];\n    root.Bokeh.embed.embed_items_notebook(docs_json, render_items);\n  }\n  if (root.Bokeh !== undefined && root.Bokeh.Panel !== undefined) {\n    embed_document(root);\n  } else {\n    var attempts = 0;\n    var timer = setInterval(function(root) {\n      if (root.Bokeh !== undefined && root.Bokeh.Panel !== undefined) {\n        clearInterval(timer);\n        embed_document(root);\n      } else if (document.readyState == \"complete\") {\n        attempts++;\n        if (attempts > 100) {\n          clearInterval(timer);\n          console.log(\"Bokeh: ERROR: Unable to run BokehJS code because BokehJS library is missing\");\n        }\n      }\n    }, 10, root)\n  }\n})(window);</script>",
      "application/vnd.holoviews_exec.v0+json": "",
      "text/plain": [
       ":Table   [Algorithm,ProofType,TotalCoinsMined,MaxSupply,PC 1,PC 2,PC 3]"
      ]
     },
     "metadata": {
      "application/vnd.holoviews_exec.v0+json": {
       "id": "1102"
      }
     },
     "execution_count": 192
    }
   ],
   "source": [
    "# Table with tradable cryptos\n",
    "cryptocluster_df.hvplot.table()"
   ]
  },
  {
   "cell_type": "code",
   "execution_count": 194,
   "metadata": {},
   "outputs": [
    {
     "output_type": "stream",
     "name": "stdout",
     "text": [
      " There are 1024 tradable cryptocurrencies\n"
     ]
    }
   ],
   "source": [
    "# Print the total number of tradable cryptocurrencies\n",
    "print(f' There are {clustered_df[\"MaxSupply\"].count()} tradable cryptocurrencies')"
   ]
  },
  {
   "cell_type": "markdown",
   "metadata": {},
   "source": [
    "#### Scatter Plot with Tradable Cryptocurrencies"
   ]
  },
  {
   "cell_type": "code",
   "execution_count": null,
   "metadata": {},
   "outputs": [],
   "source": [
    "# Scale data to create the scatter plot\n"
   ]
  },
  {
   "cell_type": "code",
   "execution_count": null,
   "metadata": {},
   "outputs": [],
   "source": [
    "# Plot the scatter with x=\"TotalCoinsMined\" and y=\"TotalCoinSupply\"\n"
   ]
  }
 ],
 "metadata": {
  "file_extension": ".py",
  "kernelspec": {
   "display_name": "Python 3",
   "language": "python",
   "name": "python3"
  },
  "language_info": {
   "codemirror_mode": {
    "name": "ipython",
    "version": 3
   },
   "file_extension": ".py",
   "mimetype": "text/x-python",
   "name": "python",
   "nbconvert_exporter": "python",
   "pygments_lexer": "ipython3",
   "version": "3.8.5-final"
  },
  "mimetype": "text/x-python",
  "name": "python",
  "npconvert_exporter": "python",
  "pygments_lexer": "ipython3",
  "version": 3
 },
 "nbformat": 4,
 "nbformat_minor": 4
}