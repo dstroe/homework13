{
 "cells": [
  {
   "cell_type": "markdown",
   "metadata": {},
   "source": [
    "# Clustering Crypto"
   ]
  },
  {
   "cell_type": "code",
   "execution_count": 134,
   "metadata": {},
   "outputs": [],
   "source": [
    "# Initial imports\n",
    "import requests\n",
    "import pandas as pd\n",
    "import matplotlib.pyplot as plt\n",
    "import hvplot.pandas\n",
    "import plotly.express as px\n",
    "from sklearn.preprocessing import StandardScaler, MinMaxScaler\n",
    "from sklearn.decomposition import PCA\n",
    "from sklearn.cluster import KMeans\n",
    "from urllib.request import Request, urlopen\n",
    "import json"
   ]
  },
  {
   "cell_type": "markdown",
   "metadata": {},
   "source": [
    "### Fetching Cryptocurrency Data"
   ]
  },
  {
   "cell_type": "code",
   "execution_count": 135,
   "metadata": {},
   "outputs": [],
   "source": [
    "# Use the following endpoint to fetch json data\n",
    "url = \"https://min-api.cryptocompare.com/data/all/coinlist\"\n",
    "json_request = Request(url)\n",
    "json_response = urlopen(json_request)\n",
    "data = json_response.read()\n",
    "json_data = json.loads(data)"
   ]
  },
  {
   "cell_type": "code",
   "execution_count": 136,
   "metadata": {},
   "outputs": [
    {
     "output_type": "execute_result",
     "data": {
      "text/plain": [
       "         Id                  Url                         ImageUrl  \\\n",
       "42     4321   /coins/42/overview           /media/35650717/42.jpg   \n",
       "300  749869  /coins/300/overview          /media/27010595/300.png   \n",
       "365   33639  /coins/365/overview            /media/352070/365.png   \n",
       "404   21227  /coins/404/overview  /media/35650851/404-300x300.jpg   \n",
       "433  926547  /coins/433/overview          /media/34836095/433.png   \n",
       "\n",
       "    ContentCreatedOn Name Symbol   CoinName         FullName  \\\n",
       "42        1427211129   42     42    42 Coin     42 Coin (42)   \n",
       "300       1517935016  300    300  300 token  300 token (300)   \n",
       "365       1480032918  365    365    365Coin    365Coin (365)   \n",
       "404       1466100361  404    404    404Coin    404Coin (404)   \n",
       "433       1541597321  433    433  433 Token  433 Token (433)   \n",
       "\n",
       "                                           Description AssetTokenStatus  ...  \\\n",
       "42   Everything about 42 coin is 42 - apart from th...              N/A  ...   \n",
       "300  300 token is an ERC20 token. This Token was cr...              N/A  ...   \n",
       "365  365Coin is a Proof of Work and Proof of Stake ...              N/A  ...   \n",
       "404  404 is a PoW/PoS hybrid cryptocurrency that al...              N/A  ...   \n",
       "433  433 Token is a decentralised soccer platform t...         Finished  ...   \n",
       "\n",
       "    BlockTime AssetLaunchDate MaxSupply MktCapPenalty PlatformType BuiltOn  \\\n",
       "42          0      0000-00-00         0             0          NaN     NaN   \n",
       "300         0      2017-07-01       300             0        token     ETH   \n",
       "365         0      0000-00-00         0             0          NaN     NaN   \n",
       "404         0      0000-00-00         0             0          NaN     NaN   \n",
       "433       NaN             NaN       NaN           NaN          NaN     NaN   \n",
       "\n",
       "                           SmartContractAddress DecimalPoints Difficulty  \\\n",
       "42                                          NaN           NaN        NaN   \n",
       "300  0xaec98a708810414878c3bcdf46aad31ded4a4557            18        NaN   \n",
       "365                                         NaN           NaN        NaN   \n",
       "404                                         NaN           NaN        NaN   \n",
       "433                                         NaN           NaN        NaN   \n",
       "\n",
       "    IsUsedInDefi  \n",
       "42           NaN  \n",
       "300          NaN  \n",
       "365          NaN  \n",
       "404          NaN  \n",
       "433          NaN  \n",
       "\n",
       "[5 rows x 31 columns]"
      ],
      "text/html": "<div>\n<style scoped>\n    .dataframe tbody tr th:only-of-type {\n        vertical-align: middle;\n    }\n\n    .dataframe tbody tr th {\n        vertical-align: top;\n    }\n\n    .dataframe thead th {\n        text-align: right;\n    }\n</style>\n<table border=\"1\" class=\"dataframe\">\n  <thead>\n    <tr style=\"text-align: right;\">\n      <th></th>\n      <th>Id</th>\n      <th>Url</th>\n      <th>ImageUrl</th>\n      <th>ContentCreatedOn</th>\n      <th>Name</th>\n      <th>Symbol</th>\n      <th>CoinName</th>\n      <th>FullName</th>\n      <th>Description</th>\n      <th>AssetTokenStatus</th>\n      <th>...</th>\n      <th>BlockTime</th>\n      <th>AssetLaunchDate</th>\n      <th>MaxSupply</th>\n      <th>MktCapPenalty</th>\n      <th>PlatformType</th>\n      <th>BuiltOn</th>\n      <th>SmartContractAddress</th>\n      <th>DecimalPoints</th>\n      <th>Difficulty</th>\n      <th>IsUsedInDefi</th>\n    </tr>\n  </thead>\n  <tbody>\n    <tr>\n      <th>42</th>\n      <td>4321</td>\n      <td>/coins/42/overview</td>\n      <td>/media/35650717/42.jpg</td>\n      <td>1427211129</td>\n      <td>42</td>\n      <td>42</td>\n      <td>42 Coin</td>\n      <td>42 Coin (42)</td>\n      <td>Everything about 42 coin is 42 - apart from th...</td>\n      <td>N/A</td>\n      <td>...</td>\n      <td>0</td>\n      <td>0000-00-00</td>\n      <td>0</td>\n      <td>0</td>\n      <td>NaN</td>\n      <td>NaN</td>\n      <td>NaN</td>\n      <td>NaN</td>\n      <td>NaN</td>\n      <td>NaN</td>\n    </tr>\n    <tr>\n      <th>300</th>\n      <td>749869</td>\n      <td>/coins/300/overview</td>\n      <td>/media/27010595/300.png</td>\n      <td>1517935016</td>\n      <td>300</td>\n      <td>300</td>\n      <td>300 token</td>\n      <td>300 token (300)</td>\n      <td>300 token is an ERC20 token. This Token was cr...</td>\n      <td>N/A</td>\n      <td>...</td>\n      <td>0</td>\n      <td>2017-07-01</td>\n      <td>300</td>\n      <td>0</td>\n      <td>token</td>\n      <td>ETH</td>\n      <td>0xaec98a708810414878c3bcdf46aad31ded4a4557</td>\n      <td>18</td>\n      <td>NaN</td>\n      <td>NaN</td>\n    </tr>\n    <tr>\n      <th>365</th>\n      <td>33639</td>\n      <td>/coins/365/overview</td>\n      <td>/media/352070/365.png</td>\n      <td>1480032918</td>\n      <td>365</td>\n      <td>365</td>\n      <td>365Coin</td>\n      <td>365Coin (365)</td>\n      <td>365Coin is a Proof of Work and Proof of Stake ...</td>\n      <td>N/A</td>\n      <td>...</td>\n      <td>0</td>\n      <td>0000-00-00</td>\n      <td>0</td>\n      <td>0</td>\n      <td>NaN</td>\n      <td>NaN</td>\n      <td>NaN</td>\n      <td>NaN</td>\n      <td>NaN</td>\n      <td>NaN</td>\n    </tr>\n    <tr>\n      <th>404</th>\n      <td>21227</td>\n      <td>/coins/404/overview</td>\n      <td>/media/35650851/404-300x300.jpg</td>\n      <td>1466100361</td>\n      <td>404</td>\n      <td>404</td>\n      <td>404Coin</td>\n      <td>404Coin (404)</td>\n      <td>404 is a PoW/PoS hybrid cryptocurrency that al...</td>\n      <td>N/A</td>\n      <td>...</td>\n      <td>0</td>\n      <td>0000-00-00</td>\n      <td>0</td>\n      <td>0</td>\n      <td>NaN</td>\n      <td>NaN</td>\n      <td>NaN</td>\n      <td>NaN</td>\n      <td>NaN</td>\n      <td>NaN</td>\n    </tr>\n    <tr>\n      <th>433</th>\n      <td>926547</td>\n      <td>/coins/433/overview</td>\n      <td>/media/34836095/433.png</td>\n      <td>1541597321</td>\n      <td>433</td>\n      <td>433</td>\n      <td>433 Token</td>\n      <td>433 Token (433)</td>\n      <td>433 Token is a decentralised soccer platform t...</td>\n      <td>Finished</td>\n      <td>...</td>\n      <td>NaN</td>\n      <td>NaN</td>\n      <td>NaN</td>\n      <td>NaN</td>\n      <td>NaN</td>\n      <td>NaN</td>\n      <td>NaN</td>\n      <td>NaN</td>\n      <td>NaN</td>\n      <td>NaN</td>\n    </tr>\n  </tbody>\n</table>\n<p>5 rows × 31 columns</p>\n</div>"
     },
     "metadata": {},
     "execution_count": 136
    }
   ],
   "source": [
    "# Create a DataFrame \n",
    "crypto_df = pd.DataFrame(json_data['Data']).T\n",
    "crypto_df.head()"
   ]
  },
  {
   "cell_type": "code",
   "execution_count": null,
   "metadata": {},
   "outputs": [],
   "source": [
    "# Alternatively, use the provided csv file:\n",
    "# file_path = Path(\"Resources/crypto_data.csv\")\n",
    "\n",
    "# Create a DataFrame"
   ]
  },
  {
   "cell_type": "markdown",
   "metadata": {},
   "source": [
    "### Data Preprocessing"
   ]
  },
  {
   "cell_type": "code",
   "execution_count": 137,
   "metadata": {},
   "outputs": [],
   "source": [
    "# Keep only necessary columns:\n",
    "# 'CoinName','Algorithm','IsTrading','ProofType','TotalCoinsMined','TotalCoinSupply'\n",
    "\n",
    "new_crypto_df = crypto_df.drop(columns=['Id','Url','ImageUrl','ContentCreatedOn','Name','Symbol','FullName','Description', 'AssetTokenStatus','BlockTime','AssetLaunchDate','MaxSupply', 'MktCapPenalty', 'PlatformType', 'BuiltOn', 'SmartContractAddress', 'DecimalPoints', 'Difficulty'])\n"
   ]
  },
  {
   "cell_type": "code",
   "execution_count": 138,
   "metadata": {},
   "outputs": [
    {
     "output_type": "execute_result",
     "data": {
      "text/plain": [
       "         CoinName Algorithm ProofType SortOrder Sponsored  \\\n",
       "42        42 Coin    Scrypt   PoW/PoS        34     False   \n",
       "300     300 token       N/A       N/A      2212     False   \n",
       "365       365Coin       X11   PoW/PoS       916     False   \n",
       "404       404Coin    Scrypt   PoW/PoS       602     False   \n",
       "611     SixEleven   SHA-256       PoW       586     False   \n",
       "808           808   SHA-256   PoW/PoS       750     False   \n",
       "888      Octocoin       N/A       PoW       811     False   \n",
       "1337    EliteCoin       X13   PoW/PoS       577     False   \n",
       "2015    2015 coin       X11   PoW/PoS        33     False   \n",
       "BTCD  BitcoinDark   SHA-256   PoW/PoS        13     False   \n",
       "\n",
       "                                               Taxonomy  \\\n",
       "42    {'Access': '', 'FCA': '', 'FINMA': '', 'Indust...   \n",
       "300   {'Access': '', 'FCA': '', 'FINMA': '', 'Indust...   \n",
       "365   {'Access': '', 'FCA': '', 'FINMA': '', 'Indust...   \n",
       "404   {'Access': '', 'FCA': '', 'FINMA': '', 'Indust...   \n",
       "611   {'Access': '', 'FCA': '', 'FINMA': '', 'Indust...   \n",
       "808   {'Access': '', 'FCA': '', 'FINMA': '', 'Indust...   \n",
       "888   {'Access': '', 'FCA': '', 'FINMA': '', 'Indust...   \n",
       "1337  {'Access': '', 'FCA': '', 'FINMA': '', 'Indust...   \n",
       "2015  {'Access': '', 'FCA': '', 'FINMA': '', 'Indust...   \n",
       "BTCD  {'Access': 'Permissionless', 'FCA': 'Exchange'...   \n",
       "\n",
       "                                                 Rating IsTrading  \\\n",
       "42    {'Weiss': {'Rating': '', 'TechnologyAdoptionRa...      True   \n",
       "300   {'Weiss': {'Rating': '', 'TechnologyAdoptionRa...      True   \n",
       "365   {'Weiss': {'Rating': '', 'TechnologyAdoptionRa...      True   \n",
       "404   {'Weiss': {'Rating': '', 'TechnologyAdoptionRa...      True   \n",
       "611   {'Weiss': {'Rating': '', 'TechnologyAdoptionRa...      True   \n",
       "808   {'Weiss': {'Rating': '', 'TechnologyAdoptionRa...      True   \n",
       "888   {'Weiss': {'Rating': '', 'TechnologyAdoptionRa...      True   \n",
       "1337  {'Weiss': {'Rating': '', 'TechnologyAdoptionRa...      True   \n",
       "2015  {'Weiss': {'Rating': '', 'TechnologyAdoptionRa...      True   \n",
       "BTCD  {'Weiss': {'Rating': '', 'TechnologyAdoptionRa...      True   \n",
       "\n",
       "     TotalCoinsMined BlockNumber NetHashesPerSecond BlockReward IsUsedInDefi  \n",
       "42                 0           0                  0           0          NaN  \n",
       "300              300           0                  0           0          NaN  \n",
       "365                0           0                  0           0          NaN  \n",
       "404                0           0                  0           0          NaN  \n",
       "611                0           0                  0           0          NaN  \n",
       "808                0           0                  0           0          NaN  \n",
       "888                0           0                  0           0          NaN  \n",
       "1337               0           0                  0           0          NaN  \n",
       "2015               0           0                  0           0          NaN  \n",
       "BTCD             NaN         NaN                NaN         NaN          NaN  "
      ],
      "text/html": "<div>\n<style scoped>\n    .dataframe tbody tr th:only-of-type {\n        vertical-align: middle;\n    }\n\n    .dataframe tbody tr th {\n        vertical-align: top;\n    }\n\n    .dataframe thead th {\n        text-align: right;\n    }\n</style>\n<table border=\"1\" class=\"dataframe\">\n  <thead>\n    <tr style=\"text-align: right;\">\n      <th></th>\n      <th>CoinName</th>\n      <th>Algorithm</th>\n      <th>ProofType</th>\n      <th>SortOrder</th>\n      <th>Sponsored</th>\n      <th>Taxonomy</th>\n      <th>Rating</th>\n      <th>IsTrading</th>\n      <th>TotalCoinsMined</th>\n      <th>BlockNumber</th>\n      <th>NetHashesPerSecond</th>\n      <th>BlockReward</th>\n      <th>IsUsedInDefi</th>\n    </tr>\n  </thead>\n  <tbody>\n    <tr>\n      <th>42</th>\n      <td>42 Coin</td>\n      <td>Scrypt</td>\n      <td>PoW/PoS</td>\n      <td>34</td>\n      <td>False</td>\n      <td>{'Access': '', 'FCA': '', 'FINMA': '', 'Indust...</td>\n      <td>{'Weiss': {'Rating': '', 'TechnologyAdoptionRa...</td>\n      <td>True</td>\n      <td>0</td>\n      <td>0</td>\n      <td>0</td>\n      <td>0</td>\n      <td>NaN</td>\n    </tr>\n    <tr>\n      <th>300</th>\n      <td>300 token</td>\n      <td>N/A</td>\n      <td>N/A</td>\n      <td>2212</td>\n      <td>False</td>\n      <td>{'Access': '', 'FCA': '', 'FINMA': '', 'Indust...</td>\n      <td>{'Weiss': {'Rating': '', 'TechnologyAdoptionRa...</td>\n      <td>True</td>\n      <td>300</td>\n      <td>0</td>\n      <td>0</td>\n      <td>0</td>\n      <td>NaN</td>\n    </tr>\n    <tr>\n      <th>365</th>\n      <td>365Coin</td>\n      <td>X11</td>\n      <td>PoW/PoS</td>\n      <td>916</td>\n      <td>False</td>\n      <td>{'Access': '', 'FCA': '', 'FINMA': '', 'Indust...</td>\n      <td>{'Weiss': {'Rating': '', 'TechnologyAdoptionRa...</td>\n      <td>True</td>\n      <td>0</td>\n      <td>0</td>\n      <td>0</td>\n      <td>0</td>\n      <td>NaN</td>\n    </tr>\n    <tr>\n      <th>404</th>\n      <td>404Coin</td>\n      <td>Scrypt</td>\n      <td>PoW/PoS</td>\n      <td>602</td>\n      <td>False</td>\n      <td>{'Access': '', 'FCA': '', 'FINMA': '', 'Indust...</td>\n      <td>{'Weiss': {'Rating': '', 'TechnologyAdoptionRa...</td>\n      <td>True</td>\n      <td>0</td>\n      <td>0</td>\n      <td>0</td>\n      <td>0</td>\n      <td>NaN</td>\n    </tr>\n    <tr>\n      <th>611</th>\n      <td>SixEleven</td>\n      <td>SHA-256</td>\n      <td>PoW</td>\n      <td>586</td>\n      <td>False</td>\n      <td>{'Access': '', 'FCA': '', 'FINMA': '', 'Indust...</td>\n      <td>{'Weiss': {'Rating': '', 'TechnologyAdoptionRa...</td>\n      <td>True</td>\n      <td>0</td>\n      <td>0</td>\n      <td>0</td>\n      <td>0</td>\n      <td>NaN</td>\n    </tr>\n    <tr>\n      <th>808</th>\n      <td>808</td>\n      <td>SHA-256</td>\n      <td>PoW/PoS</td>\n      <td>750</td>\n      <td>False</td>\n      <td>{'Access': '', 'FCA': '', 'FINMA': '', 'Indust...</td>\n      <td>{'Weiss': {'Rating': '', 'TechnologyAdoptionRa...</td>\n      <td>True</td>\n      <td>0</td>\n      <td>0</td>\n      <td>0</td>\n      <td>0</td>\n      <td>NaN</td>\n    </tr>\n    <tr>\n      <th>888</th>\n      <td>Octocoin</td>\n      <td>N/A</td>\n      <td>PoW</td>\n      <td>811</td>\n      <td>False</td>\n      <td>{'Access': '', 'FCA': '', 'FINMA': '', 'Indust...</td>\n      <td>{'Weiss': {'Rating': '', 'TechnologyAdoptionRa...</td>\n      <td>True</td>\n      <td>0</td>\n      <td>0</td>\n      <td>0</td>\n      <td>0</td>\n      <td>NaN</td>\n    </tr>\n    <tr>\n      <th>1337</th>\n      <td>EliteCoin</td>\n      <td>X13</td>\n      <td>PoW/PoS</td>\n      <td>577</td>\n      <td>False</td>\n      <td>{'Access': '', 'FCA': '', 'FINMA': '', 'Indust...</td>\n      <td>{'Weiss': {'Rating': '', 'TechnologyAdoptionRa...</td>\n      <td>True</td>\n      <td>0</td>\n      <td>0</td>\n      <td>0</td>\n      <td>0</td>\n      <td>NaN</td>\n    </tr>\n    <tr>\n      <th>2015</th>\n      <td>2015 coin</td>\n      <td>X11</td>\n      <td>PoW/PoS</td>\n      <td>33</td>\n      <td>False</td>\n      <td>{'Access': '', 'FCA': '', 'FINMA': '', 'Indust...</td>\n      <td>{'Weiss': {'Rating': '', 'TechnologyAdoptionRa...</td>\n      <td>True</td>\n      <td>0</td>\n      <td>0</td>\n      <td>0</td>\n      <td>0</td>\n      <td>NaN</td>\n    </tr>\n    <tr>\n      <th>BTCD</th>\n      <td>BitcoinDark</td>\n      <td>SHA-256</td>\n      <td>PoW/PoS</td>\n      <td>13</td>\n      <td>False</td>\n      <td>{'Access': 'Permissionless', 'FCA': 'Exchange'...</td>\n      <td>{'Weiss': {'Rating': '', 'TechnologyAdoptionRa...</td>\n      <td>True</td>\n      <td>NaN</td>\n      <td>NaN</td>\n      <td>NaN</td>\n      <td>NaN</td>\n      <td>NaN</td>\n    </tr>\n  </tbody>\n</table>\n</div>"
     },
     "metadata": {},
     "execution_count": 138
    }
   ],
   "source": [
    "# Keep only cryptocurrencies that are trading\n",
    "is_trading_df = new_crypto_df[new_crypto_df.IsTrading == True]\n",
    "is_trading_df.head(10)"
   ]
  },
  {
   "cell_type": "code",
   "execution_count": 114,
   "metadata": {},
   "outputs": [
    {
     "output_type": "execute_result",
     "data": {
      "text/plain": [
       "          CoinName Algorithm ProofType SortOrder Sponsored  \\\n",
       "42         42 Coin    Scrypt   PoW/PoS        34     False   \n",
       "365        365Coin       X11   PoW/PoS       916     False   \n",
       "404        404Coin    Scrypt   PoW/PoS       602     False   \n",
       "611      SixEleven   SHA-256       PoW       586     False   \n",
       "808            808   SHA-256   PoW/PoS       750     False   \n",
       "1337     EliteCoin       X13   PoW/PoS       577     False   \n",
       "2015     2015 coin       X11   PoW/PoS        33     False   \n",
       "BTCD   BitcoinDark   SHA-256   PoW/PoS        13     False   \n",
       "CRAIG   CraigsCoin       X11       PoS        15     False   \n",
       "XBS       Bitstake       X11   PoW/PoS        16     False   \n",
       "\n",
       "                                                Taxonomy  \\\n",
       "42     {'Access': '', 'FCA': '', 'FINMA': '', 'Indust...   \n",
       "365    {'Access': '', 'FCA': '', 'FINMA': '', 'Indust...   \n",
       "404    {'Access': '', 'FCA': '', 'FINMA': '', 'Indust...   \n",
       "611    {'Access': '', 'FCA': '', 'FINMA': '', 'Indust...   \n",
       "808    {'Access': '', 'FCA': '', 'FINMA': '', 'Indust...   \n",
       "1337   {'Access': '', 'FCA': '', 'FINMA': '', 'Indust...   \n",
       "2015   {'Access': '', 'FCA': '', 'FINMA': '', 'Indust...   \n",
       "BTCD   {'Access': 'Permissionless', 'FCA': 'Exchange'...   \n",
       "CRAIG  {'Access': '', 'FCA': '', 'FINMA': '', 'Indust...   \n",
       "XBS    {'Access': '', 'FCA': '', 'FINMA': '', 'Indust...   \n",
       "\n",
       "                                                  Rating IsTrading  \\\n",
       "42     {'Weiss': {'Rating': '', 'TechnologyAdoptionRa...      True   \n",
       "365    {'Weiss': {'Rating': '', 'TechnologyAdoptionRa...      True   \n",
       "404    {'Weiss': {'Rating': '', 'TechnologyAdoptionRa...      True   \n",
       "611    {'Weiss': {'Rating': '', 'TechnologyAdoptionRa...      True   \n",
       "808    {'Weiss': {'Rating': '', 'TechnologyAdoptionRa...      True   \n",
       "1337   {'Weiss': {'Rating': '', 'TechnologyAdoptionRa...      True   \n",
       "2015   {'Weiss': {'Rating': '', 'TechnologyAdoptionRa...      True   \n",
       "BTCD   {'Weiss': {'Rating': '', 'TechnologyAdoptionRa...      True   \n",
       "CRAIG  {'Weiss': {'Rating': '', 'TechnologyAdoptionRa...      True   \n",
       "XBS    {'Weiss': {'Rating': '', 'TechnologyAdoptionRa...      True   \n",
       "\n",
       "      TotalCoinsMined BlockNumber NetHashesPerSecond BlockReward IsUsedInDefi  \n",
       "42                  0           0                  0           0          NaN  \n",
       "365                 0           0                  0           0          NaN  \n",
       "404                 0           0                  0           0          NaN  \n",
       "611                 0           0                  0           0          NaN  \n",
       "808                 0           0                  0           0          NaN  \n",
       "1337                0           0                  0           0          NaN  \n",
       "2015                0           0                  0           0          NaN  \n",
       "BTCD              NaN         NaN                NaN         NaN          NaN  \n",
       "CRAIG             NaN         NaN                NaN         NaN          NaN  \n",
       "XBS               NaN         NaN                NaN         NaN          NaN  "
      ],
      "text/html": "<div>\n<style scoped>\n    .dataframe tbody tr th:only-of-type {\n        vertical-align: middle;\n    }\n\n    .dataframe tbody tr th {\n        vertical-align: top;\n    }\n\n    .dataframe thead th {\n        text-align: right;\n    }\n</style>\n<table border=\"1\" class=\"dataframe\">\n  <thead>\n    <tr style=\"text-align: right;\">\n      <th></th>\n      <th>CoinName</th>\n      <th>Algorithm</th>\n      <th>ProofType</th>\n      <th>SortOrder</th>\n      <th>Sponsored</th>\n      <th>Taxonomy</th>\n      <th>Rating</th>\n      <th>IsTrading</th>\n      <th>TotalCoinsMined</th>\n      <th>BlockNumber</th>\n      <th>NetHashesPerSecond</th>\n      <th>BlockReward</th>\n      <th>IsUsedInDefi</th>\n    </tr>\n  </thead>\n  <tbody>\n    <tr>\n      <th>42</th>\n      <td>42 Coin</td>\n      <td>Scrypt</td>\n      <td>PoW/PoS</td>\n      <td>34</td>\n      <td>False</td>\n      <td>{'Access': '', 'FCA': '', 'FINMA': '', 'Indust...</td>\n      <td>{'Weiss': {'Rating': '', 'TechnologyAdoptionRa...</td>\n      <td>True</td>\n      <td>0</td>\n      <td>0</td>\n      <td>0</td>\n      <td>0</td>\n      <td>NaN</td>\n    </tr>\n    <tr>\n      <th>365</th>\n      <td>365Coin</td>\n      <td>X11</td>\n      <td>PoW/PoS</td>\n      <td>916</td>\n      <td>False</td>\n      <td>{'Access': '', 'FCA': '', 'FINMA': '', 'Indust...</td>\n      <td>{'Weiss': {'Rating': '', 'TechnologyAdoptionRa...</td>\n      <td>True</td>\n      <td>0</td>\n      <td>0</td>\n      <td>0</td>\n      <td>0</td>\n      <td>NaN</td>\n    </tr>\n    <tr>\n      <th>404</th>\n      <td>404Coin</td>\n      <td>Scrypt</td>\n      <td>PoW/PoS</td>\n      <td>602</td>\n      <td>False</td>\n      <td>{'Access': '', 'FCA': '', 'FINMA': '', 'Indust...</td>\n      <td>{'Weiss': {'Rating': '', 'TechnologyAdoptionRa...</td>\n      <td>True</td>\n      <td>0</td>\n      <td>0</td>\n      <td>0</td>\n      <td>0</td>\n      <td>NaN</td>\n    </tr>\n    <tr>\n      <th>611</th>\n      <td>SixEleven</td>\n      <td>SHA-256</td>\n      <td>PoW</td>\n      <td>586</td>\n      <td>False</td>\n      <td>{'Access': '', 'FCA': '', 'FINMA': '', 'Indust...</td>\n      <td>{'Weiss': {'Rating': '', 'TechnologyAdoptionRa...</td>\n      <td>True</td>\n      <td>0</td>\n      <td>0</td>\n      <td>0</td>\n      <td>0</td>\n      <td>NaN</td>\n    </tr>\n    <tr>\n      <th>808</th>\n      <td>808</td>\n      <td>SHA-256</td>\n      <td>PoW/PoS</td>\n      <td>750</td>\n      <td>False</td>\n      <td>{'Access': '', 'FCA': '', 'FINMA': '', 'Indust...</td>\n      <td>{'Weiss': {'Rating': '', 'TechnologyAdoptionRa...</td>\n      <td>True</td>\n      <td>0</td>\n      <td>0</td>\n      <td>0</td>\n      <td>0</td>\n      <td>NaN</td>\n    </tr>\n    <tr>\n      <th>1337</th>\n      <td>EliteCoin</td>\n      <td>X13</td>\n      <td>PoW/PoS</td>\n      <td>577</td>\n      <td>False</td>\n      <td>{'Access': '', 'FCA': '', 'FINMA': '', 'Indust...</td>\n      <td>{'Weiss': {'Rating': '', 'TechnologyAdoptionRa...</td>\n      <td>True</td>\n      <td>0</td>\n      <td>0</td>\n      <td>0</td>\n      <td>0</td>\n      <td>NaN</td>\n    </tr>\n    <tr>\n      <th>2015</th>\n      <td>2015 coin</td>\n      <td>X11</td>\n      <td>PoW/PoS</td>\n      <td>33</td>\n      <td>False</td>\n      <td>{'Access': '', 'FCA': '', 'FINMA': '', 'Indust...</td>\n      <td>{'Weiss': {'Rating': '', 'TechnologyAdoptionRa...</td>\n      <td>True</td>\n      <td>0</td>\n      <td>0</td>\n      <td>0</td>\n      <td>0</td>\n      <td>NaN</td>\n    </tr>\n    <tr>\n      <th>BTCD</th>\n      <td>BitcoinDark</td>\n      <td>SHA-256</td>\n      <td>PoW/PoS</td>\n      <td>13</td>\n      <td>False</td>\n      <td>{'Access': 'Permissionless', 'FCA': 'Exchange'...</td>\n      <td>{'Weiss': {'Rating': '', 'TechnologyAdoptionRa...</td>\n      <td>True</td>\n      <td>NaN</td>\n      <td>NaN</td>\n      <td>NaN</td>\n      <td>NaN</td>\n      <td>NaN</td>\n    </tr>\n    <tr>\n      <th>CRAIG</th>\n      <td>CraigsCoin</td>\n      <td>X11</td>\n      <td>PoS</td>\n      <td>15</td>\n      <td>False</td>\n      <td>{'Access': '', 'FCA': '', 'FINMA': '', 'Indust...</td>\n      <td>{'Weiss': {'Rating': '', 'TechnologyAdoptionRa...</td>\n      <td>True</td>\n      <td>NaN</td>\n      <td>NaN</td>\n      <td>NaN</td>\n      <td>NaN</td>\n      <td>NaN</td>\n    </tr>\n    <tr>\n      <th>XBS</th>\n      <td>Bitstake</td>\n      <td>X11</td>\n      <td>PoW/PoS</td>\n      <td>16</td>\n      <td>False</td>\n      <td>{'Access': '', 'FCA': '', 'FINMA': '', 'Indust...</td>\n      <td>{'Weiss': {'Rating': '', 'TechnologyAdoptionRa...</td>\n      <td>True</td>\n      <td>NaN</td>\n      <td>NaN</td>\n      <td>NaN</td>\n      <td>NaN</td>\n      <td>NaN</td>\n    </tr>\n  </tbody>\n</table>\n</div>"
     },
     "metadata": {},
     "execution_count": 114
    }
   ],
   "source": [
    "# Keep only cryptocurrencies with a working algorithm\n",
    "working_algo_df = traded_df.dropna(axis=0, subset=[\"Algorithm\"])\n",
    "working_algo_df.head(10)"
   ]
  },
  {
   "cell_type": "code",
   "execution_count": 126,
   "metadata": {},
   "outputs": [
    {
     "output_type": "execute_result",
     "data": {
      "text/plain": [
       "          CoinName Algorithm ProofType SortOrder Sponsored  \\\n",
       "42         42 Coin    Scrypt   PoW/PoS        34     False   \n",
       "365        365Coin       X11   PoW/PoS       916     False   \n",
       "404        404Coin    Scrypt   PoW/PoS       602     False   \n",
       "611      SixEleven   SHA-256       PoW       586     False   \n",
       "808            808   SHA-256   PoW/PoS       750     False   \n",
       "1337     EliteCoin       X13   PoW/PoS       577     False   \n",
       "2015     2015 coin       X11   PoW/PoS        33     False   \n",
       "BTCD   BitcoinDark   SHA-256   PoW/PoS        13     False   \n",
       "CRAIG   CraigsCoin       X11       PoS        15     False   \n",
       "XBS       Bitstake       X11   PoW/PoS        16     False   \n",
       "\n",
       "                                                Taxonomy  \\\n",
       "42     {'Access': '', 'FCA': '', 'FINMA': '', 'Indust...   \n",
       "365    {'Access': '', 'FCA': '', 'FINMA': '', 'Indust...   \n",
       "404    {'Access': '', 'FCA': '', 'FINMA': '', 'Indust...   \n",
       "611    {'Access': '', 'FCA': '', 'FINMA': '', 'Indust...   \n",
       "808    {'Access': '', 'FCA': '', 'FINMA': '', 'Indust...   \n",
       "1337   {'Access': '', 'FCA': '', 'FINMA': '', 'Indust...   \n",
       "2015   {'Access': '', 'FCA': '', 'FINMA': '', 'Indust...   \n",
       "BTCD   {'Access': 'Permissionless', 'FCA': 'Exchange'...   \n",
       "CRAIG  {'Access': '', 'FCA': '', 'FINMA': '', 'Indust...   \n",
       "XBS    {'Access': '', 'FCA': '', 'FINMA': '', 'Indust...   \n",
       "\n",
       "                                                  Rating TotalCoinsMined  \\\n",
       "42     {'Weiss': {'Rating': '', 'TechnologyAdoptionRa...               0   \n",
       "365    {'Weiss': {'Rating': '', 'TechnologyAdoptionRa...               0   \n",
       "404    {'Weiss': {'Rating': '', 'TechnologyAdoptionRa...               0   \n",
       "611    {'Weiss': {'Rating': '', 'TechnologyAdoptionRa...               0   \n",
       "808    {'Weiss': {'Rating': '', 'TechnologyAdoptionRa...               0   \n",
       "1337   {'Weiss': {'Rating': '', 'TechnologyAdoptionRa...               0   \n",
       "2015   {'Weiss': {'Rating': '', 'TechnologyAdoptionRa...               0   \n",
       "BTCD   {'Weiss': {'Rating': '', 'TechnologyAdoptionRa...             NaN   \n",
       "CRAIG  {'Weiss': {'Rating': '', 'TechnologyAdoptionRa...             NaN   \n",
       "XBS    {'Weiss': {'Rating': '', 'TechnologyAdoptionRa...             NaN   \n",
       "\n",
       "      BlockNumber NetHashesPerSecond BlockReward IsUsedInDefi  \n",
       "42              0                  0           0          NaN  \n",
       "365             0                  0           0          NaN  \n",
       "404             0                  0           0          NaN  \n",
       "611             0                  0           0          NaN  \n",
       "808             0                  0           0          NaN  \n",
       "1337            0                  0           0          NaN  \n",
       "2015            0                  0           0          NaN  \n",
       "BTCD          NaN                NaN         NaN          NaN  \n",
       "CRAIG         NaN                NaN         NaN          NaN  \n",
       "XBS           NaN                NaN         NaN          NaN  "
      ],
      "text/html": "<div>\n<style scoped>\n    .dataframe tbody tr th:only-of-type {\n        vertical-align: middle;\n    }\n\n    .dataframe tbody tr th {\n        vertical-align: top;\n    }\n\n    .dataframe thead th {\n        text-align: right;\n    }\n</style>\n<table border=\"1\" class=\"dataframe\">\n  <thead>\n    <tr style=\"text-align: right;\">\n      <th></th>\n      <th>CoinName</th>\n      <th>Algorithm</th>\n      <th>ProofType</th>\n      <th>SortOrder</th>\n      <th>Sponsored</th>\n      <th>Taxonomy</th>\n      <th>Rating</th>\n      <th>TotalCoinsMined</th>\n      <th>BlockNumber</th>\n      <th>NetHashesPerSecond</th>\n      <th>BlockReward</th>\n      <th>IsUsedInDefi</th>\n    </tr>\n  </thead>\n  <tbody>\n    <tr>\n      <th>42</th>\n      <td>42 Coin</td>\n      <td>Scrypt</td>\n      <td>PoW/PoS</td>\n      <td>34</td>\n      <td>False</td>\n      <td>{'Access': '', 'FCA': '', 'FINMA': '', 'Indust...</td>\n      <td>{'Weiss': {'Rating': '', 'TechnologyAdoptionRa...</td>\n      <td>0</td>\n      <td>0</td>\n      <td>0</td>\n      <td>0</td>\n      <td>NaN</td>\n    </tr>\n    <tr>\n      <th>365</th>\n      <td>365Coin</td>\n      <td>X11</td>\n      <td>PoW/PoS</td>\n      <td>916</td>\n      <td>False</td>\n      <td>{'Access': '', 'FCA': '', 'FINMA': '', 'Indust...</td>\n      <td>{'Weiss': {'Rating': '', 'TechnologyAdoptionRa...</td>\n      <td>0</td>\n      <td>0</td>\n      <td>0</td>\n      <td>0</td>\n      <td>NaN</td>\n    </tr>\n    <tr>\n      <th>404</th>\n      <td>404Coin</td>\n      <td>Scrypt</td>\n      <td>PoW/PoS</td>\n      <td>602</td>\n      <td>False</td>\n      <td>{'Access': '', 'FCA': '', 'FINMA': '', 'Indust...</td>\n      <td>{'Weiss': {'Rating': '', 'TechnologyAdoptionRa...</td>\n      <td>0</td>\n      <td>0</td>\n      <td>0</td>\n      <td>0</td>\n      <td>NaN</td>\n    </tr>\n    <tr>\n      <th>611</th>\n      <td>SixEleven</td>\n      <td>SHA-256</td>\n      <td>PoW</td>\n      <td>586</td>\n      <td>False</td>\n      <td>{'Access': '', 'FCA': '', 'FINMA': '', 'Indust...</td>\n      <td>{'Weiss': {'Rating': '', 'TechnologyAdoptionRa...</td>\n      <td>0</td>\n      <td>0</td>\n      <td>0</td>\n      <td>0</td>\n      <td>NaN</td>\n    </tr>\n    <tr>\n      <th>808</th>\n      <td>808</td>\n      <td>SHA-256</td>\n      <td>PoW/PoS</td>\n      <td>750</td>\n      <td>False</td>\n      <td>{'Access': '', 'FCA': '', 'FINMA': '', 'Indust...</td>\n      <td>{'Weiss': {'Rating': '', 'TechnologyAdoptionRa...</td>\n      <td>0</td>\n      <td>0</td>\n      <td>0</td>\n      <td>0</td>\n      <td>NaN</td>\n    </tr>\n    <tr>\n      <th>1337</th>\n      <td>EliteCoin</td>\n      <td>X13</td>\n      <td>PoW/PoS</td>\n      <td>577</td>\n      <td>False</td>\n      <td>{'Access': '', 'FCA': '', 'FINMA': '', 'Indust...</td>\n      <td>{'Weiss': {'Rating': '', 'TechnologyAdoptionRa...</td>\n      <td>0</td>\n      <td>0</td>\n      <td>0</td>\n      <td>0</td>\n      <td>NaN</td>\n    </tr>\n    <tr>\n      <th>2015</th>\n      <td>2015 coin</td>\n      <td>X11</td>\n      <td>PoW/PoS</td>\n      <td>33</td>\n      <td>False</td>\n      <td>{'Access': '', 'FCA': '', 'FINMA': '', 'Indust...</td>\n      <td>{'Weiss': {'Rating': '', 'TechnologyAdoptionRa...</td>\n      <td>0</td>\n      <td>0</td>\n      <td>0</td>\n      <td>0</td>\n      <td>NaN</td>\n    </tr>\n    <tr>\n      <th>BTCD</th>\n      <td>BitcoinDark</td>\n      <td>SHA-256</td>\n      <td>PoW/PoS</td>\n      <td>13</td>\n      <td>False</td>\n      <td>{'Access': 'Permissionless', 'FCA': 'Exchange'...</td>\n      <td>{'Weiss': {'Rating': '', 'TechnologyAdoptionRa...</td>\n      <td>NaN</td>\n      <td>NaN</td>\n      <td>NaN</td>\n      <td>NaN</td>\n      <td>NaN</td>\n    </tr>\n    <tr>\n      <th>CRAIG</th>\n      <td>CraigsCoin</td>\n      <td>X11</td>\n      <td>PoS</td>\n      <td>15</td>\n      <td>False</td>\n      <td>{'Access': '', 'FCA': '', 'FINMA': '', 'Indust...</td>\n      <td>{'Weiss': {'Rating': '', 'TechnologyAdoptionRa...</td>\n      <td>NaN</td>\n      <td>NaN</td>\n      <td>NaN</td>\n      <td>NaN</td>\n      <td>NaN</td>\n    </tr>\n    <tr>\n      <th>XBS</th>\n      <td>Bitstake</td>\n      <td>X11</td>\n      <td>PoW/PoS</td>\n      <td>16</td>\n      <td>False</td>\n      <td>{'Access': '', 'FCA': '', 'FINMA': '', 'Indust...</td>\n      <td>{'Weiss': {'Rating': '', 'TechnologyAdoptionRa...</td>\n      <td>NaN</td>\n      <td>NaN</td>\n      <td>NaN</td>\n      <td>NaN</td>\n      <td>NaN</td>\n    </tr>\n  </tbody>\n</table>\n</div>"
     },
     "metadata": {},
     "execution_count": 126
    }
   ],
   "source": [
    "# Remove the \"IsTrading\" column\n",
    "newer_crypto_df = working_df.drop(\"IsTrading\", axis=1)\n",
    "newer_crypto_df.head(10)"
   ]
  },
  {
   "cell_type": "code",
   "execution_count": 127,
   "metadata": {},
   "outputs": [
    {
     "output_type": "execute_result",
     "data": {
      "text/plain": [
       "       CoinName Algorithm ProofType SortOrder Sponsored  \\\n",
       "42      42 Coin    Scrypt   PoW/PoS        34     False   \n",
       "300   300 token       N/A       N/A      2212     False   \n",
       "365     365Coin       X11   PoW/PoS       916     False   \n",
       "404     404Coin    Scrypt   PoW/PoS       602     False   \n",
       "433   433 Token       N/A       N/A      3505     False   \n",
       "611   SixEleven   SHA-256       PoW       586     False   \n",
       "808         808   SHA-256   PoW/PoS       750     False   \n",
       "888    Octocoin       N/A       PoW       811     False   \n",
       "1337  EliteCoin       X13   PoW/PoS       577     False   \n",
       "2015  2015 coin       X11   PoW/PoS        33     False   \n",
       "\n",
       "                                               Taxonomy  \\\n",
       "42    {'Access': '', 'FCA': '', 'FINMA': '', 'Indust...   \n",
       "300   {'Access': '', 'FCA': '', 'FINMA': '', 'Indust...   \n",
       "365   {'Access': '', 'FCA': '', 'FINMA': '', 'Indust...   \n",
       "404   {'Access': '', 'FCA': '', 'FINMA': '', 'Indust...   \n",
       "433   {'Access': '', 'FCA': '', 'FINMA': '', 'Indust...   \n",
       "611   {'Access': '', 'FCA': '', 'FINMA': '', 'Indust...   \n",
       "808   {'Access': '', 'FCA': '', 'FINMA': '', 'Indust...   \n",
       "888   {'Access': '', 'FCA': '', 'FINMA': '', 'Indust...   \n",
       "1337  {'Access': '', 'FCA': '', 'FINMA': '', 'Indust...   \n",
       "2015  {'Access': '', 'FCA': '', 'FINMA': '', 'Indust...   \n",
       "\n",
       "                                                 Rating IsTrading  \\\n",
       "42    {'Weiss': {'Rating': '', 'TechnologyAdoptionRa...      True   \n",
       "300   {'Weiss': {'Rating': '', 'TechnologyAdoptionRa...      True   \n",
       "365   {'Weiss': {'Rating': '', 'TechnologyAdoptionRa...      True   \n",
       "404   {'Weiss': {'Rating': '', 'TechnologyAdoptionRa...      True   \n",
       "433   {'Weiss': {'Rating': '', 'TechnologyAdoptionRa...     False   \n",
       "611   {'Weiss': {'Rating': '', 'TechnologyAdoptionRa...      True   \n",
       "808   {'Weiss': {'Rating': '', 'TechnologyAdoptionRa...      True   \n",
       "888   {'Weiss': {'Rating': '', 'TechnologyAdoptionRa...      True   \n",
       "1337  {'Weiss': {'Rating': '', 'TechnologyAdoptionRa...      True   \n",
       "2015  {'Weiss': {'Rating': '', 'TechnologyAdoptionRa...      True   \n",
       "\n",
       "     TotalCoinsMined BlockNumber NetHashesPerSecond BlockReward IsUsedInDefi  \n",
       "42                 0           0                  0           0          NaN  \n",
       "300              300           0                  0           0          NaN  \n",
       "365                0           0                  0           0          NaN  \n",
       "404                0           0                  0           0          NaN  \n",
       "433              NaN         NaN                NaN         NaN          NaN  \n",
       "611                0           0                  0           0          NaN  \n",
       "808                0           0                  0           0          NaN  \n",
       "888                0           0                  0           0          NaN  \n",
       "1337               0           0                  0           0          NaN  \n",
       "2015               0           0                  0           0          NaN  "
      ],
      "text/html": "<div>\n<style scoped>\n    .dataframe tbody tr th:only-of-type {\n        vertical-align: middle;\n    }\n\n    .dataframe tbody tr th {\n        vertical-align: top;\n    }\n\n    .dataframe thead th {\n        text-align: right;\n    }\n</style>\n<table border=\"1\" class=\"dataframe\">\n  <thead>\n    <tr style=\"text-align: right;\">\n      <th></th>\n      <th>CoinName</th>\n      <th>Algorithm</th>\n      <th>ProofType</th>\n      <th>SortOrder</th>\n      <th>Sponsored</th>\n      <th>Taxonomy</th>\n      <th>Rating</th>\n      <th>IsTrading</th>\n      <th>TotalCoinsMined</th>\n      <th>BlockNumber</th>\n      <th>NetHashesPerSecond</th>\n      <th>BlockReward</th>\n      <th>IsUsedInDefi</th>\n    </tr>\n  </thead>\n  <tbody>\n    <tr>\n      <th>42</th>\n      <td>42 Coin</td>\n      <td>Scrypt</td>\n      <td>PoW/PoS</td>\n      <td>34</td>\n      <td>False</td>\n      <td>{'Access': '', 'FCA': '', 'FINMA': '', 'Indust...</td>\n      <td>{'Weiss': {'Rating': '', 'TechnologyAdoptionRa...</td>\n      <td>True</td>\n      <td>0</td>\n      <td>0</td>\n      <td>0</td>\n      <td>0</td>\n      <td>NaN</td>\n    </tr>\n    <tr>\n      <th>300</th>\n      <td>300 token</td>\n      <td>N/A</td>\n      <td>N/A</td>\n      <td>2212</td>\n      <td>False</td>\n      <td>{'Access': '', 'FCA': '', 'FINMA': '', 'Indust...</td>\n      <td>{'Weiss': {'Rating': '', 'TechnologyAdoptionRa...</td>\n      <td>True</td>\n      <td>300</td>\n      <td>0</td>\n      <td>0</td>\n      <td>0</td>\n      <td>NaN</td>\n    </tr>\n    <tr>\n      <th>365</th>\n      <td>365Coin</td>\n      <td>X11</td>\n      <td>PoW/PoS</td>\n      <td>916</td>\n      <td>False</td>\n      <td>{'Access': '', 'FCA': '', 'FINMA': '', 'Indust...</td>\n      <td>{'Weiss': {'Rating': '', 'TechnologyAdoptionRa...</td>\n      <td>True</td>\n      <td>0</td>\n      <td>0</td>\n      <td>0</td>\n      <td>0</td>\n      <td>NaN</td>\n    </tr>\n    <tr>\n      <th>404</th>\n      <td>404Coin</td>\n      <td>Scrypt</td>\n      <td>PoW/PoS</td>\n      <td>602</td>\n      <td>False</td>\n      <td>{'Access': '', 'FCA': '', 'FINMA': '', 'Indust...</td>\n      <td>{'Weiss': {'Rating': '', 'TechnologyAdoptionRa...</td>\n      <td>True</td>\n      <td>0</td>\n      <td>0</td>\n      <td>0</td>\n      <td>0</td>\n      <td>NaN</td>\n    </tr>\n    <tr>\n      <th>433</th>\n      <td>433 Token</td>\n      <td>N/A</td>\n      <td>N/A</td>\n      <td>3505</td>\n      <td>False</td>\n      <td>{'Access': '', 'FCA': '', 'FINMA': '', 'Indust...</td>\n      <td>{'Weiss': {'Rating': '', 'TechnologyAdoptionRa...</td>\n      <td>False</td>\n      <td>NaN</td>\n      <td>NaN</td>\n      <td>NaN</td>\n      <td>NaN</td>\n      <td>NaN</td>\n    </tr>\n    <tr>\n      <th>611</th>\n      <td>SixEleven</td>\n      <td>SHA-256</td>\n      <td>PoW</td>\n      <td>586</td>\n      <td>False</td>\n      <td>{'Access': '', 'FCA': '', 'FINMA': '', 'Indust...</td>\n      <td>{'Weiss': {'Rating': '', 'TechnologyAdoptionRa...</td>\n      <td>True</td>\n      <td>0</td>\n      <td>0</td>\n      <td>0</td>\n      <td>0</td>\n      <td>NaN</td>\n    </tr>\n    <tr>\n      <th>808</th>\n      <td>808</td>\n      <td>SHA-256</td>\n      <td>PoW/PoS</td>\n      <td>750</td>\n      <td>False</td>\n      <td>{'Access': '', 'FCA': '', 'FINMA': '', 'Indust...</td>\n      <td>{'Weiss': {'Rating': '', 'TechnologyAdoptionRa...</td>\n      <td>True</td>\n      <td>0</td>\n      <td>0</td>\n      <td>0</td>\n      <td>0</td>\n      <td>NaN</td>\n    </tr>\n    <tr>\n      <th>888</th>\n      <td>Octocoin</td>\n      <td>N/A</td>\n      <td>PoW</td>\n      <td>811</td>\n      <td>False</td>\n      <td>{'Access': '', 'FCA': '', 'FINMA': '', 'Indust...</td>\n      <td>{'Weiss': {'Rating': '', 'TechnologyAdoptionRa...</td>\n      <td>True</td>\n      <td>0</td>\n      <td>0</td>\n      <td>0</td>\n      <td>0</td>\n      <td>NaN</td>\n    </tr>\n    <tr>\n      <th>1337</th>\n      <td>EliteCoin</td>\n      <td>X13</td>\n      <td>PoW/PoS</td>\n      <td>577</td>\n      <td>False</td>\n      <td>{'Access': '', 'FCA': '', 'FINMA': '', 'Indust...</td>\n      <td>{'Weiss': {'Rating': '', 'TechnologyAdoptionRa...</td>\n      <td>True</td>\n      <td>0</td>\n      <td>0</td>\n      <td>0</td>\n      <td>0</td>\n      <td>NaN</td>\n    </tr>\n    <tr>\n      <th>2015</th>\n      <td>2015 coin</td>\n      <td>X11</td>\n      <td>PoW/PoS</td>\n      <td>33</td>\n      <td>False</td>\n      <td>{'Access': '', 'FCA': '', 'FINMA': '', 'Indust...</td>\n      <td>{'Weiss': {'Rating': '', 'TechnologyAdoptionRa...</td>\n      <td>True</td>\n      <td>0</td>\n      <td>0</td>\n      <td>0</td>\n      <td>0</td>\n      <td>NaN</td>\n    </tr>\n  </tbody>\n</table>\n</div>"
     },
     "metadata": {},
     "execution_count": 127
    }
   ],
   "source": [
    "# Remove rows with at least 1 null value\n",
    "new_crypto_df.dropna()\n",
    "new_crypto_df.head(10)"
   ]
  },
  {
   "cell_type": "code",
   "execution_count": 128,
   "metadata": {},
   "outputs": [
    {
     "output_type": "execute_result",
     "data": {
      "text/plain": [
       "       CoinName          Algorithm ProofType SortOrder Sponsored  \\\n",
       "LOKI       Loki  CryptoNight-Heavy       PoW      2838     False   \n",
       "BTC     Bitcoin            SHA-256       PoW         1     False   \n",
       "BTS   Bitshares            SHA-512       PoS        10     False   \n",
       "ETH    Ethereum             Ethash       PoW         2     False   \n",
       "\n",
       "                                               Taxonomy  \\\n",
       "LOKI  {'Access': '', 'FCA': '', 'FINMA': '', 'Indust...   \n",
       "BTC   {'Access': 'Permissionless', 'FCA': 'Exchange'...   \n",
       "BTS   {'Access': 'Permissioned', 'FCA': 'Utility', '...   \n",
       "ETH   {'Access': 'Permissionless', 'FCA': 'Exchange,...   \n",
       "\n",
       "                                                 Rating TotalCoinsMined  \\\n",
       "LOKI  {'Weiss': {'Rating': '', 'TechnologyAdoptionRa...        52062104   \n",
       "BTC   {'Weiss': {'Rating': 'A-', 'TechnologyAdoption...        18581718   \n",
       "BTS   {'Weiss': {'Rating': 'D+', 'TechnologyAdoption...     2.99482e+09   \n",
       "ETH   {'Weiss': {'Rating': 'A-', 'TechnologyAdoption...     1.13994e+08   \n",
       "\n",
       "     BlockNumber NetHashesPerSecond BlockReward IsUsedInDefi  \n",
       "LOKI           0                  0           0            1  \n",
       "BTC       663734        1.68533e+11        6.25            0  \n",
       "BTS     54461018                  0           0            1  \n",
       "ETH     11540963    310044061945319     3.29321            0  "
      ],
      "text/html": "<div>\n<style scoped>\n    .dataframe tbody tr th:only-of-type {\n        vertical-align: middle;\n    }\n\n    .dataframe tbody tr th {\n        vertical-align: top;\n    }\n\n    .dataframe thead th {\n        text-align: right;\n    }\n</style>\n<table border=\"1\" class=\"dataframe\">\n  <thead>\n    <tr style=\"text-align: right;\">\n      <th></th>\n      <th>CoinName</th>\n      <th>Algorithm</th>\n      <th>ProofType</th>\n      <th>SortOrder</th>\n      <th>Sponsored</th>\n      <th>Taxonomy</th>\n      <th>Rating</th>\n      <th>TotalCoinsMined</th>\n      <th>BlockNumber</th>\n      <th>NetHashesPerSecond</th>\n      <th>BlockReward</th>\n      <th>IsUsedInDefi</th>\n    </tr>\n  </thead>\n  <tbody>\n    <tr>\n      <th>LOKI</th>\n      <td>Loki</td>\n      <td>CryptoNight-Heavy</td>\n      <td>PoW</td>\n      <td>2838</td>\n      <td>False</td>\n      <td>{'Access': '', 'FCA': '', 'FINMA': '', 'Indust...</td>\n      <td>{'Weiss': {'Rating': '', 'TechnologyAdoptionRa...</td>\n      <td>52062104</td>\n      <td>0</td>\n      <td>0</td>\n      <td>0</td>\n      <td>1</td>\n    </tr>\n    <tr>\n      <th>BTC</th>\n      <td>Bitcoin</td>\n      <td>SHA-256</td>\n      <td>PoW</td>\n      <td>1</td>\n      <td>False</td>\n      <td>{'Access': 'Permissionless', 'FCA': 'Exchange'...</td>\n      <td>{'Weiss': {'Rating': 'A-', 'TechnologyAdoption...</td>\n      <td>18581718</td>\n      <td>663734</td>\n      <td>1.68533e+11</td>\n      <td>6.25</td>\n      <td>0</td>\n    </tr>\n    <tr>\n      <th>BTS</th>\n      <td>Bitshares</td>\n      <td>SHA-512</td>\n      <td>PoS</td>\n      <td>10</td>\n      <td>False</td>\n      <td>{'Access': 'Permissioned', 'FCA': 'Utility', '...</td>\n      <td>{'Weiss': {'Rating': 'D+', 'TechnologyAdoption...</td>\n      <td>2.99482e+09</td>\n      <td>54461018</td>\n      <td>0</td>\n      <td>0</td>\n      <td>1</td>\n    </tr>\n    <tr>\n      <th>ETH</th>\n      <td>Ethereum</td>\n      <td>Ethash</td>\n      <td>PoW</td>\n      <td>2</td>\n      <td>False</td>\n      <td>{'Access': 'Permissionless', 'FCA': 'Exchange,...</td>\n      <td>{'Weiss': {'Rating': 'A-', 'TechnologyAdoption...</td>\n      <td>1.13994e+08</td>\n      <td>11540963</td>\n      <td>310044061945319</td>\n      <td>3.29321</td>\n      <td>0</td>\n    </tr>\n  </tbody>\n</table>\n</div>"
     },
     "metadata": {},
     "execution_count": 128
    }
   ],
   "source": [
    "# Remove rows with cryptocurrencies having no coins mined\n",
    "newer_crypto_df.dropna(inplace=True)\n",
    "newer_crypto_df.head(10)"
   ]
  },
  {
   "cell_type": "code",
   "execution_count": 139,
   "metadata": {},
   "outputs": [],
   "source": [
    "# Drop rows where there are 'N/A' text values\n",
    "newest_crypto_df = newer_crypto_df.dropna(axis=1)"
   ]
  },
  {
   "cell_type": "code",
   "execution_count": 140,
   "metadata": {},
   "outputs": [
    {
     "output_type": "execute_result",
     "data": {
      "text/plain": [
       "       CoinName\n",
       "LOKI       Loki\n",
       "BTC     Bitcoin\n",
       "BTS   Bitshares\n",
       "ETH    Ethereum"
      ],
      "text/html": "<div>\n<style scoped>\n    .dataframe tbody tr th:only-of-type {\n        vertical-align: middle;\n    }\n\n    .dataframe tbody tr th {\n        vertical-align: top;\n    }\n\n    .dataframe thead th {\n        text-align: right;\n    }\n</style>\n<table border=\"1\" class=\"dataframe\">\n  <thead>\n    <tr style=\"text-align: right;\">\n      <th></th>\n      <th>CoinName</th>\n    </tr>\n  </thead>\n  <tbody>\n    <tr>\n      <th>LOKI</th>\n      <td>Loki</td>\n    </tr>\n    <tr>\n      <th>BTC</th>\n      <td>Bitcoin</td>\n    </tr>\n    <tr>\n      <th>BTS</th>\n      <td>Bitshares</td>\n    </tr>\n    <tr>\n      <th>ETH</th>\n      <td>Ethereum</td>\n    </tr>\n  </tbody>\n</table>\n</div>"
     },
     "metadata": {},
     "execution_count": 140
    }
   ],
   "source": [
    "# Store the 'CoinName'column in its own DataFrame prior to dropping it from crypto_df\n",
    "\n",
    "coin_name_df = pd.DataFrame(newest_crypto_df[\"CoinName\"])\n",
    "coin_name_df.head()\n",
    "\n",
    "\n"
   ]
  },
  {
   "cell_type": "code",
   "execution_count": 144,
   "metadata": {},
   "outputs": [],
   "source": [
    "# Drop the 'CoinName' column since it's not going to be used on the clustering algorithm\n",
    "updated_df = newest_crypto_df.drop([\"CoinName\"], axis=1)"
   ]
  },
  {
   "cell_type": "code",
   "execution_count": 145,
   "metadata": {},
   "outputs": [
    {
     "output_type": "execute_result",
     "data": {
      "text/plain": [
       "     SortOrder Sponsored                                           Taxonomy  \\\n",
       "LOKI      2838     False  {'Access': '', 'FCA': '', 'FINMA': '', 'Indust...   \n",
       "BTC          1     False  {'Access': 'Permissionless', 'FCA': 'Exchange'...   \n",
       "BTS         10     False  {'Access': 'Permissioned', 'FCA': 'Utility', '...   \n",
       "ETH          2     False  {'Access': 'Permissionless', 'FCA': 'Exchange,...   \n",
       "\n",
       "                                                 Rating TotalCoinsMined  \\\n",
       "LOKI  {'Weiss': {'Rating': '', 'TechnologyAdoptionRa...        52062104   \n",
       "BTC   {'Weiss': {'Rating': 'A-', 'TechnologyAdoption...        18581718   \n",
       "BTS   {'Weiss': {'Rating': 'D+', 'TechnologyAdoption...     2.99482e+09   \n",
       "ETH   {'Weiss': {'Rating': 'A-', 'TechnologyAdoption...     1.13994e+08   \n",
       "\n",
       "     BlockNumber NetHashesPerSecond BlockReward IsUsedInDefi  \\\n",
       "LOKI           0                  0           0            1   \n",
       "BTC       663734        1.68533e+11        6.25            0   \n",
       "BTS     54461018                  0           0            1   \n",
       "ETH     11540963    310044061945319     3.29321            0   \n",
       "\n",
       "      Algorithm_CryptoNight-Heavy  Algorithm_Ethash  Algorithm_SHA-256  \\\n",
       "LOKI                            1                 0                  0   \n",
       "BTC                             0                 0                  1   \n",
       "BTS                             0                 0                  0   \n",
       "ETH                             0                 1                  0   \n",
       "\n",
       "      Algorithm_SHA-512  ProofType_PoS  ProofType_PoW  \n",
       "LOKI                  0              0              1  \n",
       "BTC                   0              0              1  \n",
       "BTS                   1              1              0  \n",
       "ETH                   0              0              1  "
      ],
      "text/html": "<div>\n<style scoped>\n    .dataframe tbody tr th:only-of-type {\n        vertical-align: middle;\n    }\n\n    .dataframe tbody tr th {\n        vertical-align: top;\n    }\n\n    .dataframe thead th {\n        text-align: right;\n    }\n</style>\n<table border=\"1\" class=\"dataframe\">\n  <thead>\n    <tr style=\"text-align: right;\">\n      <th></th>\n      <th>SortOrder</th>\n      <th>Sponsored</th>\n      <th>Taxonomy</th>\n      <th>Rating</th>\n      <th>TotalCoinsMined</th>\n      <th>BlockNumber</th>\n      <th>NetHashesPerSecond</th>\n      <th>BlockReward</th>\n      <th>IsUsedInDefi</th>\n      <th>Algorithm_CryptoNight-Heavy</th>\n      <th>Algorithm_Ethash</th>\n      <th>Algorithm_SHA-256</th>\n      <th>Algorithm_SHA-512</th>\n      <th>ProofType_PoS</th>\n      <th>ProofType_PoW</th>\n    </tr>\n  </thead>\n  <tbody>\n    <tr>\n      <th>LOKI</th>\n      <td>2838</td>\n      <td>False</td>\n      <td>{'Access': '', 'FCA': '', 'FINMA': '', 'Indust...</td>\n      <td>{'Weiss': {'Rating': '', 'TechnologyAdoptionRa...</td>\n      <td>52062104</td>\n      <td>0</td>\n      <td>0</td>\n      <td>0</td>\n      <td>1</td>\n      <td>1</td>\n      <td>0</td>\n      <td>0</td>\n      <td>0</td>\n      <td>0</td>\n      <td>1</td>\n    </tr>\n    <tr>\n      <th>BTC</th>\n      <td>1</td>\n      <td>False</td>\n      <td>{'Access': 'Permissionless', 'FCA': 'Exchange'...</td>\n      <td>{'Weiss': {'Rating': 'A-', 'TechnologyAdoption...</td>\n      <td>18581718</td>\n      <td>663734</td>\n      <td>1.68533e+11</td>\n      <td>6.25</td>\n      <td>0</td>\n      <td>0</td>\n      <td>0</td>\n      <td>1</td>\n      <td>0</td>\n      <td>0</td>\n      <td>1</td>\n    </tr>\n    <tr>\n      <th>BTS</th>\n      <td>10</td>\n      <td>False</td>\n      <td>{'Access': 'Permissioned', 'FCA': 'Utility', '...</td>\n      <td>{'Weiss': {'Rating': 'D+', 'TechnologyAdoption...</td>\n      <td>2.99482e+09</td>\n      <td>54461018</td>\n      <td>0</td>\n      <td>0</td>\n      <td>1</td>\n      <td>0</td>\n      <td>0</td>\n      <td>0</td>\n      <td>1</td>\n      <td>1</td>\n      <td>0</td>\n    </tr>\n    <tr>\n      <th>ETH</th>\n      <td>2</td>\n      <td>False</td>\n      <td>{'Access': 'Permissionless', 'FCA': 'Exchange,...</td>\n      <td>{'Weiss': {'Rating': 'A-', 'TechnologyAdoption...</td>\n      <td>1.13994e+08</td>\n      <td>11540963</td>\n      <td>310044061945319</td>\n      <td>3.29321</td>\n      <td>0</td>\n      <td>0</td>\n      <td>1</td>\n      <td>0</td>\n      <td>0</td>\n      <td>0</td>\n      <td>1</td>\n    </tr>\n  </tbody>\n</table>\n</div>"
     },
     "metadata": {},
     "execution_count": 145
    }
   ],
   "source": [
    "# Create dummy variables for text features\n",
    "dummy_vars = pd.get_dummies(updated_df, columns=[\"Algorithm\", \"ProofType\"])\n",
    "dummy_vars.head(10)"
   ]
  },
  {
   "cell_type": "code",
   "execution_count": 146,
   "metadata": {},
   "outputs": [
    {
     "output_type": "error",
     "ename": "TypeError",
     "evalue": "float() argument must be a string or a number, not 'dict'",
     "traceback": [
      "\u001b[1;31m---------------------------------------------------------------------------\u001b[0m",
      "\u001b[1;31mTypeError\u001b[0m                                 Traceback (most recent call last)",
      "\u001b[1;32m<ipython-input-146-9a4244c0bdcc>\u001b[0m in \u001b[0;36m<module>\u001b[1;34m\u001b[0m\n\u001b[0;32m      1\u001b[0m \u001b[1;31m# Standardize data\u001b[0m\u001b[1;33m\u001b[0m\u001b[1;33m\u001b[0m\u001b[1;33m\u001b[0m\u001b[0m\n\u001b[1;32m----> 2\u001b[1;33m \u001b[0mX_scaled\u001b[0m \u001b[1;33m=\u001b[0m \u001b[0mStandardScaler\u001b[0m\u001b[1;33m(\u001b[0m\u001b[1;33m)\u001b[0m\u001b[1;33m.\u001b[0m\u001b[0mfit_transform\u001b[0m\u001b[1;33m(\u001b[0m\u001b[0mdummy_vars\u001b[0m\u001b[1;33m)\u001b[0m\u001b[1;33m\u001b[0m\u001b[1;33m\u001b[0m\u001b[0m\n\u001b[0m\u001b[0;32m      3\u001b[0m \u001b[0mprint\u001b[0m\u001b[1;33m(\u001b[0m\u001b[0mX_scaled\u001b[0m\u001b[1;33m[\u001b[0m\u001b[1;36m0\u001b[0m\u001b[1;33m:\u001b[0m\u001b[1;36m5\u001b[0m\u001b[1;33m]\u001b[0m\u001b[1;33m)\u001b[0m\u001b[1;33m\u001b[0m\u001b[1;33m\u001b[0m\u001b[0m\n",
      "\u001b[1;32m~\\anaconda3\\lib\\site-packages\\sklearn\\base.py\u001b[0m in \u001b[0;36mfit_transform\u001b[1;34m(self, X, y, **fit_params)\u001b[0m\n\u001b[0;32m    688\u001b[0m         \u001b[1;32mif\u001b[0m \u001b[0my\u001b[0m \u001b[1;32mis\u001b[0m \u001b[1;32mNone\u001b[0m\u001b[1;33m:\u001b[0m\u001b[1;33m\u001b[0m\u001b[1;33m\u001b[0m\u001b[0m\n\u001b[0;32m    689\u001b[0m             \u001b[1;31m# fit method of arity 1 (unsupervised transformation)\u001b[0m\u001b[1;33m\u001b[0m\u001b[1;33m\u001b[0m\u001b[1;33m\u001b[0m\u001b[0m\n\u001b[1;32m--> 690\u001b[1;33m             \u001b[1;32mreturn\u001b[0m \u001b[0mself\u001b[0m\u001b[1;33m.\u001b[0m\u001b[0mfit\u001b[0m\u001b[1;33m(\u001b[0m\u001b[0mX\u001b[0m\u001b[1;33m,\u001b[0m \u001b[1;33m**\u001b[0m\u001b[0mfit_params\u001b[0m\u001b[1;33m)\u001b[0m\u001b[1;33m.\u001b[0m\u001b[0mtransform\u001b[0m\u001b[1;33m(\u001b[0m\u001b[0mX\u001b[0m\u001b[1;33m)\u001b[0m\u001b[1;33m\u001b[0m\u001b[1;33m\u001b[0m\u001b[0m\n\u001b[0m\u001b[0;32m    691\u001b[0m         \u001b[1;32melse\u001b[0m\u001b[1;33m:\u001b[0m\u001b[1;33m\u001b[0m\u001b[1;33m\u001b[0m\u001b[0m\n\u001b[0;32m    692\u001b[0m             \u001b[1;31m# fit method of arity 2 (supervised transformation)\u001b[0m\u001b[1;33m\u001b[0m\u001b[1;33m\u001b[0m\u001b[1;33m\u001b[0m\u001b[0m\n",
      "\u001b[1;32m~\\anaconda3\\lib\\site-packages\\sklearn\\preprocessing\\_data.py\u001b[0m in \u001b[0;36mfit\u001b[1;34m(self, X, y)\u001b[0m\n\u001b[0;32m    665\u001b[0m         \u001b[1;31m# Reset internal state before fitting\u001b[0m\u001b[1;33m\u001b[0m\u001b[1;33m\u001b[0m\u001b[1;33m\u001b[0m\u001b[0m\n\u001b[0;32m    666\u001b[0m         \u001b[0mself\u001b[0m\u001b[1;33m.\u001b[0m\u001b[0m_reset\u001b[0m\u001b[1;33m(\u001b[0m\u001b[1;33m)\u001b[0m\u001b[1;33m\u001b[0m\u001b[1;33m\u001b[0m\u001b[0m\n\u001b[1;32m--> 667\u001b[1;33m         \u001b[1;32mreturn\u001b[0m \u001b[0mself\u001b[0m\u001b[1;33m.\u001b[0m\u001b[0mpartial_fit\u001b[0m\u001b[1;33m(\u001b[0m\u001b[0mX\u001b[0m\u001b[1;33m,\u001b[0m \u001b[0my\u001b[0m\u001b[1;33m)\u001b[0m\u001b[1;33m\u001b[0m\u001b[1;33m\u001b[0m\u001b[0m\n\u001b[0m\u001b[0;32m    668\u001b[0m \u001b[1;33m\u001b[0m\u001b[0m\n\u001b[0;32m    669\u001b[0m     \u001b[1;32mdef\u001b[0m \u001b[0mpartial_fit\u001b[0m\u001b[1;33m(\u001b[0m\u001b[0mself\u001b[0m\u001b[1;33m,\u001b[0m \u001b[0mX\u001b[0m\u001b[1;33m,\u001b[0m \u001b[0my\u001b[0m\u001b[1;33m=\u001b[0m\u001b[1;32mNone\u001b[0m\u001b[1;33m)\u001b[0m\u001b[1;33m:\u001b[0m\u001b[1;33m\u001b[0m\u001b[1;33m\u001b[0m\u001b[0m\n",
      "\u001b[1;32m~\\anaconda3\\lib\\site-packages\\sklearn\\preprocessing\\_data.py\u001b[0m in \u001b[0;36mpartial_fit\u001b[1;34m(self, X, y)\u001b[0m\n\u001b[0;32m    694\u001b[0m             \u001b[0mTransformer\u001b[0m \u001b[0minstance\u001b[0m\u001b[1;33m.\u001b[0m\u001b[1;33m\u001b[0m\u001b[1;33m\u001b[0m\u001b[0m\n\u001b[0;32m    695\u001b[0m         \"\"\"\n\u001b[1;32m--> 696\u001b[1;33m         X = self._validate_data(X, accept_sparse=('csr', 'csc'),\n\u001b[0m\u001b[0;32m    697\u001b[0m                                 \u001b[0mestimator\u001b[0m\u001b[1;33m=\u001b[0m\u001b[0mself\u001b[0m\u001b[1;33m,\u001b[0m \u001b[0mdtype\u001b[0m\u001b[1;33m=\u001b[0m\u001b[0mFLOAT_DTYPES\u001b[0m\u001b[1;33m,\u001b[0m\u001b[1;33m\u001b[0m\u001b[1;33m\u001b[0m\u001b[0m\n\u001b[0;32m    698\u001b[0m                                 force_all_finite='allow-nan')\n",
      "\u001b[1;32m~\\anaconda3\\lib\\site-packages\\sklearn\\base.py\u001b[0m in \u001b[0;36m_validate_data\u001b[1;34m(self, X, y, reset, validate_separately, **check_params)\u001b[0m\n\u001b[0;32m    418\u001b[0m                     \u001b[1;34mf\"requires y to be passed, but the target y is None.\"\u001b[0m\u001b[1;33m\u001b[0m\u001b[1;33m\u001b[0m\u001b[0m\n\u001b[0;32m    419\u001b[0m                 )\n\u001b[1;32m--> 420\u001b[1;33m             \u001b[0mX\u001b[0m \u001b[1;33m=\u001b[0m \u001b[0mcheck_array\u001b[0m\u001b[1;33m(\u001b[0m\u001b[0mX\u001b[0m\u001b[1;33m,\u001b[0m \u001b[1;33m**\u001b[0m\u001b[0mcheck_params\u001b[0m\u001b[1;33m)\u001b[0m\u001b[1;33m\u001b[0m\u001b[1;33m\u001b[0m\u001b[0m\n\u001b[0m\u001b[0;32m    421\u001b[0m             \u001b[0mout\u001b[0m \u001b[1;33m=\u001b[0m \u001b[0mX\u001b[0m\u001b[1;33m\u001b[0m\u001b[1;33m\u001b[0m\u001b[0m\n\u001b[0;32m    422\u001b[0m         \u001b[1;32melse\u001b[0m\u001b[1;33m:\u001b[0m\u001b[1;33m\u001b[0m\u001b[1;33m\u001b[0m\u001b[0m\n",
      "\u001b[1;32m~\\anaconda3\\lib\\site-packages\\sklearn\\utils\\validation.py\u001b[0m in \u001b[0;36minner_f\u001b[1;34m(*args, **kwargs)\u001b[0m\n\u001b[0;32m     70\u001b[0m                           FutureWarning)\n\u001b[0;32m     71\u001b[0m         \u001b[0mkwargs\u001b[0m\u001b[1;33m.\u001b[0m\u001b[0mupdate\u001b[0m\u001b[1;33m(\u001b[0m\u001b[1;33m{\u001b[0m\u001b[0mk\u001b[0m\u001b[1;33m:\u001b[0m \u001b[0marg\u001b[0m \u001b[1;32mfor\u001b[0m \u001b[0mk\u001b[0m\u001b[1;33m,\u001b[0m \u001b[0marg\u001b[0m \u001b[1;32min\u001b[0m \u001b[0mzip\u001b[0m\u001b[1;33m(\u001b[0m\u001b[0msig\u001b[0m\u001b[1;33m.\u001b[0m\u001b[0mparameters\u001b[0m\u001b[1;33m,\u001b[0m \u001b[0margs\u001b[0m\u001b[1;33m)\u001b[0m\u001b[1;33m}\u001b[0m\u001b[1;33m)\u001b[0m\u001b[1;33m\u001b[0m\u001b[1;33m\u001b[0m\u001b[0m\n\u001b[1;32m---> 72\u001b[1;33m         \u001b[1;32mreturn\u001b[0m \u001b[0mf\u001b[0m\u001b[1;33m(\u001b[0m\u001b[1;33m**\u001b[0m\u001b[0mkwargs\u001b[0m\u001b[1;33m)\u001b[0m\u001b[1;33m\u001b[0m\u001b[1;33m\u001b[0m\u001b[0m\n\u001b[0m\u001b[0;32m     73\u001b[0m     \u001b[1;32mreturn\u001b[0m \u001b[0minner_f\u001b[0m\u001b[1;33m\u001b[0m\u001b[1;33m\u001b[0m\u001b[0m\n\u001b[0;32m     74\u001b[0m \u001b[1;33m\u001b[0m\u001b[0m\n",
      "\u001b[1;32m~\\anaconda3\\lib\\site-packages\\sklearn\\utils\\validation.py\u001b[0m in \u001b[0;36mcheck_array\u001b[1;34m(array, accept_sparse, accept_large_sparse, dtype, order, copy, force_all_finite, ensure_2d, allow_nd, ensure_min_samples, ensure_min_features, estimator)\u001b[0m\n\u001b[0;32m    596\u001b[0m                     \u001b[0marray\u001b[0m \u001b[1;33m=\u001b[0m \u001b[0marray\u001b[0m\u001b[1;33m.\u001b[0m\u001b[0mastype\u001b[0m\u001b[1;33m(\u001b[0m\u001b[0mdtype\u001b[0m\u001b[1;33m,\u001b[0m \u001b[0mcasting\u001b[0m\u001b[1;33m=\u001b[0m\u001b[1;34m\"unsafe\"\u001b[0m\u001b[1;33m,\u001b[0m \u001b[0mcopy\u001b[0m\u001b[1;33m=\u001b[0m\u001b[1;32mFalse\u001b[0m\u001b[1;33m)\u001b[0m\u001b[1;33m\u001b[0m\u001b[1;33m\u001b[0m\u001b[0m\n\u001b[0;32m    597\u001b[0m                 \u001b[1;32melse\u001b[0m\u001b[1;33m:\u001b[0m\u001b[1;33m\u001b[0m\u001b[1;33m\u001b[0m\u001b[0m\n\u001b[1;32m--> 598\u001b[1;33m                     \u001b[0marray\u001b[0m \u001b[1;33m=\u001b[0m \u001b[0mnp\u001b[0m\u001b[1;33m.\u001b[0m\u001b[0masarray\u001b[0m\u001b[1;33m(\u001b[0m\u001b[0marray\u001b[0m\u001b[1;33m,\u001b[0m \u001b[0morder\u001b[0m\u001b[1;33m=\u001b[0m\u001b[0morder\u001b[0m\u001b[1;33m,\u001b[0m \u001b[0mdtype\u001b[0m\u001b[1;33m=\u001b[0m\u001b[0mdtype\u001b[0m\u001b[1;33m)\u001b[0m\u001b[1;33m\u001b[0m\u001b[1;33m\u001b[0m\u001b[0m\n\u001b[0m\u001b[0;32m    599\u001b[0m             \u001b[1;32mexcept\u001b[0m \u001b[0mComplexWarning\u001b[0m\u001b[1;33m:\u001b[0m\u001b[1;33m\u001b[0m\u001b[1;33m\u001b[0m\u001b[0m\n\u001b[0;32m    600\u001b[0m                 raise ValueError(\"Complex data not supported\\n\"\n",
      "\u001b[1;32m~\\anaconda3\\lib\\site-packages\\numpy\\core\\_asarray.py\u001b[0m in \u001b[0;36masarray\u001b[1;34m(a, dtype, order)\u001b[0m\n\u001b[0;32m     81\u001b[0m \u001b[1;33m\u001b[0m\u001b[0m\n\u001b[0;32m     82\u001b[0m     \"\"\"\n\u001b[1;32m---> 83\u001b[1;33m     \u001b[1;32mreturn\u001b[0m \u001b[0marray\u001b[0m\u001b[1;33m(\u001b[0m\u001b[0ma\u001b[0m\u001b[1;33m,\u001b[0m \u001b[0mdtype\u001b[0m\u001b[1;33m,\u001b[0m \u001b[0mcopy\u001b[0m\u001b[1;33m=\u001b[0m\u001b[1;32mFalse\u001b[0m\u001b[1;33m,\u001b[0m \u001b[0morder\u001b[0m\u001b[1;33m=\u001b[0m\u001b[0morder\u001b[0m\u001b[1;33m)\u001b[0m\u001b[1;33m\u001b[0m\u001b[1;33m\u001b[0m\u001b[0m\n\u001b[0m\u001b[0;32m     84\u001b[0m \u001b[1;33m\u001b[0m\u001b[0m\n\u001b[0;32m     85\u001b[0m \u001b[1;33m\u001b[0m\u001b[0m\n",
      "\u001b[1;32m~\\anaconda3\\lib\\site-packages\\pandas\\core\\generic.py\u001b[0m in \u001b[0;36m__array__\u001b[1;34m(self, dtype)\u001b[0m\n\u001b[0;32m   1779\u001b[0m \u001b[1;33m\u001b[0m\u001b[0m\n\u001b[0;32m   1780\u001b[0m     \u001b[1;32mdef\u001b[0m \u001b[0m__array__\u001b[0m\u001b[1;33m(\u001b[0m\u001b[0mself\u001b[0m\u001b[1;33m,\u001b[0m \u001b[0mdtype\u001b[0m\u001b[1;33m=\u001b[0m\u001b[1;32mNone\u001b[0m\u001b[1;33m)\u001b[0m \u001b[1;33m->\u001b[0m \u001b[0mnp\u001b[0m\u001b[1;33m.\u001b[0m\u001b[0mndarray\u001b[0m\u001b[1;33m:\u001b[0m\u001b[1;33m\u001b[0m\u001b[1;33m\u001b[0m\u001b[0m\n\u001b[1;32m-> 1781\u001b[1;33m         \u001b[1;32mreturn\u001b[0m \u001b[0mnp\u001b[0m\u001b[1;33m.\u001b[0m\u001b[0masarray\u001b[0m\u001b[1;33m(\u001b[0m\u001b[0mself\u001b[0m\u001b[1;33m.\u001b[0m\u001b[0m_values\u001b[0m\u001b[1;33m,\u001b[0m \u001b[0mdtype\u001b[0m\u001b[1;33m=\u001b[0m\u001b[0mdtype\u001b[0m\u001b[1;33m)\u001b[0m\u001b[1;33m\u001b[0m\u001b[1;33m\u001b[0m\u001b[0m\n\u001b[0m\u001b[0;32m   1782\u001b[0m \u001b[1;33m\u001b[0m\u001b[0m\n\u001b[0;32m   1783\u001b[0m     \u001b[1;32mdef\u001b[0m \u001b[0m__array_wrap__\u001b[0m\u001b[1;33m(\u001b[0m\u001b[0mself\u001b[0m\u001b[1;33m,\u001b[0m \u001b[0mresult\u001b[0m\u001b[1;33m,\u001b[0m \u001b[0mcontext\u001b[0m\u001b[1;33m=\u001b[0m\u001b[1;32mNone\u001b[0m\u001b[1;33m)\u001b[0m\u001b[1;33m:\u001b[0m\u001b[1;33m\u001b[0m\u001b[1;33m\u001b[0m\u001b[0m\n",
      "\u001b[1;32m~\\anaconda3\\lib\\site-packages\\numpy\\core\\_asarray.py\u001b[0m in \u001b[0;36masarray\u001b[1;34m(a, dtype, order)\u001b[0m\n\u001b[0;32m     81\u001b[0m \u001b[1;33m\u001b[0m\u001b[0m\n\u001b[0;32m     82\u001b[0m     \"\"\"\n\u001b[1;32m---> 83\u001b[1;33m     \u001b[1;32mreturn\u001b[0m \u001b[0marray\u001b[0m\u001b[1;33m(\u001b[0m\u001b[0ma\u001b[0m\u001b[1;33m,\u001b[0m \u001b[0mdtype\u001b[0m\u001b[1;33m,\u001b[0m \u001b[0mcopy\u001b[0m\u001b[1;33m=\u001b[0m\u001b[1;32mFalse\u001b[0m\u001b[1;33m,\u001b[0m \u001b[0morder\u001b[0m\u001b[1;33m=\u001b[0m\u001b[0morder\u001b[0m\u001b[1;33m)\u001b[0m\u001b[1;33m\u001b[0m\u001b[1;33m\u001b[0m\u001b[0m\n\u001b[0m\u001b[0;32m     84\u001b[0m \u001b[1;33m\u001b[0m\u001b[0m\n\u001b[0;32m     85\u001b[0m \u001b[1;33m\u001b[0m\u001b[0m\n",
      "\u001b[1;31mTypeError\u001b[0m: float() argument must be a string or a number, not 'dict'"
     ]
    }
   ],
   "source": [
    "# Standardize data\n",
    "X_scaled = StandardScaler().fit_transform(dummy_vars)\n",
    "print(X_scaled[0:5])"
   ]
  },
  {
   "cell_type": "markdown",
   "metadata": {},
   "source": [
    "### Reducing Dimensions Using PCA"
   ]
  },
  {
   "cell_type": "code",
   "execution_count": 95,
   "metadata": {},
   "outputs": [
    {
     "output_type": "execute_result",
     "data": {
      "text/plain": [
       "array([[-6.02344401e-01,  1.70150287e-02, -1.21125467e-03],\n",
       "       [-6.02344401e-01,  1.70150287e-02, -1.21125467e-03],\n",
       "       [-6.02344401e-01,  1.70150287e-02, -1.21125467e-03],\n",
       "       ...,\n",
       "       [ 6.61263657e+00, -8.29948344e-01, -4.22374379e-02],\n",
       "       [ 6.61263657e+00, -8.29948344e-01, -4.22374379e-02],\n",
       "       [-6.02344401e-01,  1.70150287e-02, -1.21125467e-03]])"
      ]
     },
     "metadata": {},
     "execution_count": 95
    }
   ],
   "source": [
    "# Use PCA to reduce dimensions to 3 principal components\n",
    "pca = PCA(n_components=3)\n",
    "X_pca = pca.fit_transform(X_scaled)\n",
    "X_pca"
   ]
  },
  {
   "cell_type": "code",
   "execution_count": null,
   "metadata": {},
   "outputs": [],
   "source": [
    "# Create a DataFrame with the principal components data\n"
   ]
  },
  {
   "cell_type": "markdown",
   "metadata": {},
   "source": [
    "### Clustering Crytocurrencies Using K-Means\n",
    "\n",
    "#### Find the Best Value for `k` Using the Elbow Curve"
   ]
  },
  {
   "cell_type": "code",
   "execution_count": null,
   "metadata": {},
   "outputs": [],
   "source": [
    "inertia = []\n",
    "k = list(range(1, 11))\n",
    "\n",
    "# Calculate the inertia for the range of k values\n",
    "\n",
    "\n",
    "# Create the Elbow Curve using hvPlot\n"
   ]
  },
  {
   "cell_type": "markdown",
   "metadata": {},
   "source": [
    "Running K-Means with `k=<your best value for k here>`"
   ]
  },
  {
   "cell_type": "code",
   "execution_count": null,
   "metadata": {},
   "outputs": [],
   "source": [
    "# Initialize the K-Means model\n",
    "\n",
    "# Fit the model\n",
    "\n",
    "# Predict clusters\n",
    "\n",
    "# Create a new DataFrame including predicted clusters and cryptocurrencies features\n"
   ]
  },
  {
   "cell_type": "markdown",
   "metadata": {},
   "source": [
    "### Visualizing Results\n",
    "\n",
    "#### 3D-Scatter with Clusters"
   ]
  },
  {
   "cell_type": "code",
   "execution_count": null,
   "metadata": {},
   "outputs": [],
   "source": [
    "# Create a 3D-Scatter with the PCA data and the clusters\n"
   ]
  },
  {
   "cell_type": "markdown",
   "metadata": {},
   "source": [
    "#### Table of Tradable Cryptocurrencies"
   ]
  },
  {
   "cell_type": "code",
   "execution_count": null,
   "metadata": {},
   "outputs": [],
   "source": [
    "# Table with tradable cryptos\n"
   ]
  },
  {
   "cell_type": "code",
   "execution_count": null,
   "metadata": {},
   "outputs": [],
   "source": [
    "# Print the total number of tradable cryptocurrencies\n"
   ]
  },
  {
   "cell_type": "markdown",
   "metadata": {},
   "source": [
    "#### Scatter Plot with Tradable Cryptocurrencies"
   ]
  },
  {
   "cell_type": "code",
   "execution_count": null,
   "metadata": {},
   "outputs": [],
   "source": [
    "# Scale data to create the scatter plot\n"
   ]
  },
  {
   "cell_type": "code",
   "execution_count": null,
   "metadata": {},
   "outputs": [],
   "source": [
    "# Plot the scatter with x=\"TotalCoinsMined\" and y=\"TotalCoinSupply\"\n"
   ]
  }
 ],
 "metadata": {
  "file_extension": ".py",
  "kernelspec": {
   "display_name": "Python 3",
   "language": "python",
   "name": "python3"
  },
  "language_info": {
   "codemirror_mode": {
    "name": "ipython",
    "version": 3
   },
   "file_extension": ".py",
   "mimetype": "text/x-python",
   "name": "python",
   "nbconvert_exporter": "python",
   "pygments_lexer": "ipython3",
   "version": "3.8.5-final"
  },
  "mimetype": "text/x-python",
  "name": "python",
  "npconvert_exporter": "python",
  "pygments_lexer": "ipython3",
  "version": 3
 },
 "nbformat": 4,
 "nbformat_minor": 4
}