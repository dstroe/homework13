{
 "cells": [
  {
   "cell_type": "markdown",
   "metadata": {},
   "source": [
    "# Clustering Crypto"
   ]
  },
  {
   "cell_type": "code",
   "execution_count": 35,
   "metadata": {},
   "outputs": [],
   "source": [
    "# Initial imports\n",
    "import requests\n",
    "import pandas as pd\n",
    "import matplotlib.pyplot as plt\n",
    "import hvplot.pandas\n",
    "import plotly.express as px\n",
    "from sklearn.preprocessing import StandardScaler, MinMaxScaler\n",
    "from sklearn.decomposition import PCA\n",
    "from sklearn.cluster import KMeans\n",
    "from urllib.request import Request, urlopen\n",
    "import json"
   ]
  },
  {
   "cell_type": "markdown",
   "metadata": {},
   "source": [
    "### Fetching Cryptocurrency Data"
   ]
  },
  {
   "cell_type": "code",
   "execution_count": 13,
   "metadata": {},
   "outputs": [],
   "source": [
    "# Use the following endpoint to fetch json data\n",
    "url = \"https://min-api.cryptocompare.com/data/all/coinlist\"\n",
    "json_request = Request(url)\n",
    "json_response = urlopen(json_request)\n",
    "data = json_response.read()\n",
    "json_data = json.loads(data)"
   ]
  },
  {
   "cell_type": "code",
   "execution_count": 14,
   "metadata": {},
   "outputs": [
    {
     "output_type": "execute_result",
     "data": {
      "text/plain": [
       "         Id                  Url                         ImageUrl  \\\n",
       "42     4321   /coins/42/overview           /media/35650717/42.jpg   \n",
       "300  749869  /coins/300/overview          /media/27010595/300.png   \n",
       "365   33639  /coins/365/overview            /media/352070/365.png   \n",
       "404   21227  /coins/404/overview  /media/35650851/404-300x300.jpg   \n",
       "433  926547  /coins/433/overview          /media/34836095/433.png   \n",
       "\n",
       "    ContentCreatedOn Name Symbol   CoinName         FullName  \\\n",
       "42        1427211129   42     42    42 Coin     42 Coin (42)   \n",
       "300       1517935016  300    300  300 token  300 token (300)   \n",
       "365       1480032918  365    365    365Coin    365Coin (365)   \n",
       "404       1466100361  404    404    404Coin    404Coin (404)   \n",
       "433       1541597321  433    433  433 Token  433 Token (433)   \n",
       "\n",
       "                                           Description AssetTokenStatus  ...  \\\n",
       "42   Everything about 42 coin is 42 - apart from th...              N/A  ...   \n",
       "300  300 token is an ERC20 token. This Token was cr...              N/A  ...   \n",
       "365  365Coin is a Proof of Work and Proof of Stake ...              N/A  ...   \n",
       "404  404 is a PoW/PoS hybrid cryptocurrency that al...              N/A  ...   \n",
       "433  433 Token is a decentralised soccer platform t...         Finished  ...   \n",
       "\n",
       "    BlockTime AssetLaunchDate MaxSupply MktCapPenalty PlatformType BuiltOn  \\\n",
       "42          0      0000-00-00         0             0          NaN     NaN   \n",
       "300         0      2017-07-01       300             0        token     ETH   \n",
       "365         0      0000-00-00         0             0          NaN     NaN   \n",
       "404         0      0000-00-00         0             0          NaN     NaN   \n",
       "433       NaN             NaN       NaN           NaN          NaN     NaN   \n",
       "\n",
       "                           SmartContractAddress DecimalPoints Difficulty  \\\n",
       "42                                          NaN           NaN        NaN   \n",
       "300  0xaec98a708810414878c3bcdf46aad31ded4a4557            18        NaN   \n",
       "365                                         NaN           NaN        NaN   \n",
       "404                                         NaN           NaN        NaN   \n",
       "433                                         NaN           NaN        NaN   \n",
       "\n",
       "    IsUsedInDefi  \n",
       "42           NaN  \n",
       "300          NaN  \n",
       "365          NaN  \n",
       "404          NaN  \n",
       "433          NaN  \n",
       "\n",
       "[5 rows x 31 columns]"
      ],
      "text/html": "<div>\n<style scoped>\n    .dataframe tbody tr th:only-of-type {\n        vertical-align: middle;\n    }\n\n    .dataframe tbody tr th {\n        vertical-align: top;\n    }\n\n    .dataframe thead th {\n        text-align: right;\n    }\n</style>\n<table border=\"1\" class=\"dataframe\">\n  <thead>\n    <tr style=\"text-align: right;\">\n      <th></th>\n      <th>Id</th>\n      <th>Url</th>\n      <th>ImageUrl</th>\n      <th>ContentCreatedOn</th>\n      <th>Name</th>\n      <th>Symbol</th>\n      <th>CoinName</th>\n      <th>FullName</th>\n      <th>Description</th>\n      <th>AssetTokenStatus</th>\n      <th>...</th>\n      <th>BlockTime</th>\n      <th>AssetLaunchDate</th>\n      <th>MaxSupply</th>\n      <th>MktCapPenalty</th>\n      <th>PlatformType</th>\n      <th>BuiltOn</th>\n      <th>SmartContractAddress</th>\n      <th>DecimalPoints</th>\n      <th>Difficulty</th>\n      <th>IsUsedInDefi</th>\n    </tr>\n  </thead>\n  <tbody>\n    <tr>\n      <th>42</th>\n      <td>4321</td>\n      <td>/coins/42/overview</td>\n      <td>/media/35650717/42.jpg</td>\n      <td>1427211129</td>\n      <td>42</td>\n      <td>42</td>\n      <td>42 Coin</td>\n      <td>42 Coin (42)</td>\n      <td>Everything about 42 coin is 42 - apart from th...</td>\n      <td>N/A</td>\n      <td>...</td>\n      <td>0</td>\n      <td>0000-00-00</td>\n      <td>0</td>\n      <td>0</td>\n      <td>NaN</td>\n      <td>NaN</td>\n      <td>NaN</td>\n      <td>NaN</td>\n      <td>NaN</td>\n      <td>NaN</td>\n    </tr>\n    <tr>\n      <th>300</th>\n      <td>749869</td>\n      <td>/coins/300/overview</td>\n      <td>/media/27010595/300.png</td>\n      <td>1517935016</td>\n      <td>300</td>\n      <td>300</td>\n      <td>300 token</td>\n      <td>300 token (300)</td>\n      <td>300 token is an ERC20 token. This Token was cr...</td>\n      <td>N/A</td>\n      <td>...</td>\n      <td>0</td>\n      <td>2017-07-01</td>\n      <td>300</td>\n      <td>0</td>\n      <td>token</td>\n      <td>ETH</td>\n      <td>0xaec98a708810414878c3bcdf46aad31ded4a4557</td>\n      <td>18</td>\n      <td>NaN</td>\n      <td>NaN</td>\n    </tr>\n    <tr>\n      <th>365</th>\n      <td>33639</td>\n      <td>/coins/365/overview</td>\n      <td>/media/352070/365.png</td>\n      <td>1480032918</td>\n      <td>365</td>\n      <td>365</td>\n      <td>365Coin</td>\n      <td>365Coin (365)</td>\n      <td>365Coin is a Proof of Work and Proof of Stake ...</td>\n      <td>N/A</td>\n      <td>...</td>\n      <td>0</td>\n      <td>0000-00-00</td>\n      <td>0</td>\n      <td>0</td>\n      <td>NaN</td>\n      <td>NaN</td>\n      <td>NaN</td>\n      <td>NaN</td>\n      <td>NaN</td>\n      <td>NaN</td>\n    </tr>\n    <tr>\n      <th>404</th>\n      <td>21227</td>\n      <td>/coins/404/overview</td>\n      <td>/media/35650851/404-300x300.jpg</td>\n      <td>1466100361</td>\n      <td>404</td>\n      <td>404</td>\n      <td>404Coin</td>\n      <td>404Coin (404)</td>\n      <td>404 is a PoW/PoS hybrid cryptocurrency that al...</td>\n      <td>N/A</td>\n      <td>...</td>\n      <td>0</td>\n      <td>0000-00-00</td>\n      <td>0</td>\n      <td>0</td>\n      <td>NaN</td>\n      <td>NaN</td>\n      <td>NaN</td>\n      <td>NaN</td>\n      <td>NaN</td>\n      <td>NaN</td>\n    </tr>\n    <tr>\n      <th>433</th>\n      <td>926547</td>\n      <td>/coins/433/overview</td>\n      <td>/media/34836095/433.png</td>\n      <td>1541597321</td>\n      <td>433</td>\n      <td>433</td>\n      <td>433 Token</td>\n      <td>433 Token (433)</td>\n      <td>433 Token is a decentralised soccer platform t...</td>\n      <td>Finished</td>\n      <td>...</td>\n      <td>NaN</td>\n      <td>NaN</td>\n      <td>NaN</td>\n      <td>NaN</td>\n      <td>NaN</td>\n      <td>NaN</td>\n      <td>NaN</td>\n      <td>NaN</td>\n      <td>NaN</td>\n      <td>NaN</td>\n    </tr>\n  </tbody>\n</table>\n<p>5 rows × 31 columns</p>\n</div>"
     },
     "metadata": {},
     "execution_count": 14
    }
   ],
   "source": [
    "# Create a DataFrame \n",
    "crypto_df = pd.DataFrame(json_data['Data']).T\n",
    "crypto_df.head()"
   ]
  },
  {
   "cell_type": "code",
   "execution_count": null,
   "metadata": {},
   "outputs": [],
   "source": [
    "# Alternatively, use the provided csv file:\n",
    "# file_path = Path(\"Resources/crypto_data.csv\")\n",
    "\n",
    "# Create a DataFrame"
   ]
  },
  {
   "cell_type": "markdown",
   "metadata": {},
   "source": [
    "### Data Preprocessing"
   ]
  },
  {
   "cell_type": "code",
   "execution_count": 15,
   "metadata": {},
   "outputs": [],
   "source": [
    "# Keep only necessary columns:\n",
    "# 'CoinName','Algorithm','IsTrading','ProofType','TotalCoinsMined','TotalCoinSupply'\n",
    "\n",
    "new_crypto_df = crypto_df.drop(columns=['Id','Url','ImageUrl','ContentCreatedOn','Name','Symbol','FullName','Description', 'AssetTokenStatus','BlockTime','AssetLaunchDate', 'MktCapPenalty', 'PlatformType', 'BuiltOn', 'SmartContractAddress', 'DecimalPoints', 'Difficulty', 'Taxonomy', 'Sponsored', 'SortOrder', 'Rating','NetHashesPerSecond','BlockNumber','BlockReward','IsUsedInDefi' ])\n"
   ]
  },
  {
   "cell_type": "code",
   "execution_count": 16,
   "metadata": {},
   "outputs": [
    {
     "output_type": "execute_result",
     "data": {
      "text/plain": [
       "         CoinName Algorithm ProofType IsTrading TotalCoinsMined MaxSupply\n",
       "42        42 Coin    Scrypt   PoW/PoS      True               0         0\n",
       "300     300 token       N/A       N/A      True             300       300\n",
       "365       365Coin       X11   PoW/PoS      True               0         0\n",
       "404       404Coin    Scrypt   PoW/PoS      True               0         0\n",
       "611     SixEleven   SHA-256       PoW      True               0         0\n",
       "808           808   SHA-256   PoW/PoS      True               0         0\n",
       "888      Octocoin       N/A       PoW      True               0         0\n",
       "1337    EliteCoin       X13   PoW/PoS      True               0         0\n",
       "2015    2015 coin       X11   PoW/PoS      True               0         0\n",
       "BTCD  BitcoinDark   SHA-256   PoW/PoS      True             NaN       NaN"
      ],
      "text/html": "<div>\n<style scoped>\n    .dataframe tbody tr th:only-of-type {\n        vertical-align: middle;\n    }\n\n    .dataframe tbody tr th {\n        vertical-align: top;\n    }\n\n    .dataframe thead th {\n        text-align: right;\n    }\n</style>\n<table border=\"1\" class=\"dataframe\">\n  <thead>\n    <tr style=\"text-align: right;\">\n      <th></th>\n      <th>CoinName</th>\n      <th>Algorithm</th>\n      <th>ProofType</th>\n      <th>IsTrading</th>\n      <th>TotalCoinsMined</th>\n      <th>MaxSupply</th>\n    </tr>\n  </thead>\n  <tbody>\n    <tr>\n      <th>42</th>\n      <td>42 Coin</td>\n      <td>Scrypt</td>\n      <td>PoW/PoS</td>\n      <td>True</td>\n      <td>0</td>\n      <td>0</td>\n    </tr>\n    <tr>\n      <th>300</th>\n      <td>300 token</td>\n      <td>N/A</td>\n      <td>N/A</td>\n      <td>True</td>\n      <td>300</td>\n      <td>300</td>\n    </tr>\n    <tr>\n      <th>365</th>\n      <td>365Coin</td>\n      <td>X11</td>\n      <td>PoW/PoS</td>\n      <td>True</td>\n      <td>0</td>\n      <td>0</td>\n    </tr>\n    <tr>\n      <th>404</th>\n      <td>404Coin</td>\n      <td>Scrypt</td>\n      <td>PoW/PoS</td>\n      <td>True</td>\n      <td>0</td>\n      <td>0</td>\n    </tr>\n    <tr>\n      <th>611</th>\n      <td>SixEleven</td>\n      <td>SHA-256</td>\n      <td>PoW</td>\n      <td>True</td>\n      <td>0</td>\n      <td>0</td>\n    </tr>\n    <tr>\n      <th>808</th>\n      <td>808</td>\n      <td>SHA-256</td>\n      <td>PoW/PoS</td>\n      <td>True</td>\n      <td>0</td>\n      <td>0</td>\n    </tr>\n    <tr>\n      <th>888</th>\n      <td>Octocoin</td>\n      <td>N/A</td>\n      <td>PoW</td>\n      <td>True</td>\n      <td>0</td>\n      <td>0</td>\n    </tr>\n    <tr>\n      <th>1337</th>\n      <td>EliteCoin</td>\n      <td>X13</td>\n      <td>PoW/PoS</td>\n      <td>True</td>\n      <td>0</td>\n      <td>0</td>\n    </tr>\n    <tr>\n      <th>2015</th>\n      <td>2015 coin</td>\n      <td>X11</td>\n      <td>PoW/PoS</td>\n      <td>True</td>\n      <td>0</td>\n      <td>0</td>\n    </tr>\n    <tr>\n      <th>BTCD</th>\n      <td>BitcoinDark</td>\n      <td>SHA-256</td>\n      <td>PoW/PoS</td>\n      <td>True</td>\n      <td>NaN</td>\n      <td>NaN</td>\n    </tr>\n  </tbody>\n</table>\n</div>"
     },
     "metadata": {},
     "execution_count": 16
    }
   ],
   "source": [
    "# Keep only cryptocurrencies that are trading\n",
    "is_trading_df = new_crypto_df[new_crypto_df.IsTrading == True]\n",
    "is_trading_df.head(10)"
   ]
  },
  {
   "cell_type": "code",
   "execution_count": 17,
   "metadata": {},
   "outputs": [
    {
     "output_type": "execute_result",
     "data": {
      "text/plain": [
       "         CoinName Algorithm ProofType IsTrading TotalCoinsMined MaxSupply\n",
       "42        42 Coin    Scrypt   PoW/PoS      True               0         0\n",
       "300     300 token       N/A       N/A      True             300       300\n",
       "365       365Coin       X11   PoW/PoS      True               0         0\n",
       "404       404Coin    Scrypt   PoW/PoS      True               0         0\n",
       "611     SixEleven   SHA-256       PoW      True               0         0\n",
       "808           808   SHA-256   PoW/PoS      True               0         0\n",
       "888      Octocoin       N/A       PoW      True               0         0\n",
       "1337    EliteCoin       X13   PoW/PoS      True               0         0\n",
       "2015    2015 coin       X11   PoW/PoS      True               0         0\n",
       "BTCD  BitcoinDark   SHA-256   PoW/PoS      True             NaN       NaN"
      ],
      "text/html": "<div>\n<style scoped>\n    .dataframe tbody tr th:only-of-type {\n        vertical-align: middle;\n    }\n\n    .dataframe tbody tr th {\n        vertical-align: top;\n    }\n\n    .dataframe thead th {\n        text-align: right;\n    }\n</style>\n<table border=\"1\" class=\"dataframe\">\n  <thead>\n    <tr style=\"text-align: right;\">\n      <th></th>\n      <th>CoinName</th>\n      <th>Algorithm</th>\n      <th>ProofType</th>\n      <th>IsTrading</th>\n      <th>TotalCoinsMined</th>\n      <th>MaxSupply</th>\n    </tr>\n  </thead>\n  <tbody>\n    <tr>\n      <th>42</th>\n      <td>42 Coin</td>\n      <td>Scrypt</td>\n      <td>PoW/PoS</td>\n      <td>True</td>\n      <td>0</td>\n      <td>0</td>\n    </tr>\n    <tr>\n      <th>300</th>\n      <td>300 token</td>\n      <td>N/A</td>\n      <td>N/A</td>\n      <td>True</td>\n      <td>300</td>\n      <td>300</td>\n    </tr>\n    <tr>\n      <th>365</th>\n      <td>365Coin</td>\n      <td>X11</td>\n      <td>PoW/PoS</td>\n      <td>True</td>\n      <td>0</td>\n      <td>0</td>\n    </tr>\n    <tr>\n      <th>404</th>\n      <td>404Coin</td>\n      <td>Scrypt</td>\n      <td>PoW/PoS</td>\n      <td>True</td>\n      <td>0</td>\n      <td>0</td>\n    </tr>\n    <tr>\n      <th>611</th>\n      <td>SixEleven</td>\n      <td>SHA-256</td>\n      <td>PoW</td>\n      <td>True</td>\n      <td>0</td>\n      <td>0</td>\n    </tr>\n    <tr>\n      <th>808</th>\n      <td>808</td>\n      <td>SHA-256</td>\n      <td>PoW/PoS</td>\n      <td>True</td>\n      <td>0</td>\n      <td>0</td>\n    </tr>\n    <tr>\n      <th>888</th>\n      <td>Octocoin</td>\n      <td>N/A</td>\n      <td>PoW</td>\n      <td>True</td>\n      <td>0</td>\n      <td>0</td>\n    </tr>\n    <tr>\n      <th>1337</th>\n      <td>EliteCoin</td>\n      <td>X13</td>\n      <td>PoW/PoS</td>\n      <td>True</td>\n      <td>0</td>\n      <td>0</td>\n    </tr>\n    <tr>\n      <th>2015</th>\n      <td>2015 coin</td>\n      <td>X11</td>\n      <td>PoW/PoS</td>\n      <td>True</td>\n      <td>0</td>\n      <td>0</td>\n    </tr>\n    <tr>\n      <th>BTCD</th>\n      <td>BitcoinDark</td>\n      <td>SHA-256</td>\n      <td>PoW/PoS</td>\n      <td>True</td>\n      <td>NaN</td>\n      <td>NaN</td>\n    </tr>\n  </tbody>\n</table>\n</div>"
     },
     "metadata": {},
     "execution_count": 17
    }
   ],
   "source": [
    "# Keep only cryptocurrencies with a working algorithm\n",
    "working_algo_df = is_trading_df.dropna(axis=0, subset=[\"Algorithm\"])\n",
    "working_algo_df.head(10)"
   ]
  },
  {
   "cell_type": "code",
   "execution_count": 18,
   "metadata": {},
   "outputs": [
    {
     "output_type": "execute_result",
     "data": {
      "text/plain": [
       "         CoinName Algorithm ProofType TotalCoinsMined MaxSupply\n",
       "42        42 Coin    Scrypt   PoW/PoS               0         0\n",
       "300     300 token       N/A       N/A             300       300\n",
       "365       365Coin       X11   PoW/PoS               0         0\n",
       "404       404Coin    Scrypt   PoW/PoS               0         0\n",
       "611     SixEleven   SHA-256       PoW               0         0\n",
       "808           808   SHA-256   PoW/PoS               0         0\n",
       "888      Octocoin       N/A       PoW               0         0\n",
       "1337    EliteCoin       X13   PoW/PoS               0         0\n",
       "2015    2015 coin       X11   PoW/PoS               0         0\n",
       "BTCD  BitcoinDark   SHA-256   PoW/PoS             NaN       NaN"
      ],
      "text/html": "<div>\n<style scoped>\n    .dataframe tbody tr th:only-of-type {\n        vertical-align: middle;\n    }\n\n    .dataframe tbody tr th {\n        vertical-align: top;\n    }\n\n    .dataframe thead th {\n        text-align: right;\n    }\n</style>\n<table border=\"1\" class=\"dataframe\">\n  <thead>\n    <tr style=\"text-align: right;\">\n      <th></th>\n      <th>CoinName</th>\n      <th>Algorithm</th>\n      <th>ProofType</th>\n      <th>TotalCoinsMined</th>\n      <th>MaxSupply</th>\n    </tr>\n  </thead>\n  <tbody>\n    <tr>\n      <th>42</th>\n      <td>42 Coin</td>\n      <td>Scrypt</td>\n      <td>PoW/PoS</td>\n      <td>0</td>\n      <td>0</td>\n    </tr>\n    <tr>\n      <th>300</th>\n      <td>300 token</td>\n      <td>N/A</td>\n      <td>N/A</td>\n      <td>300</td>\n      <td>300</td>\n    </tr>\n    <tr>\n      <th>365</th>\n      <td>365Coin</td>\n      <td>X11</td>\n      <td>PoW/PoS</td>\n      <td>0</td>\n      <td>0</td>\n    </tr>\n    <tr>\n      <th>404</th>\n      <td>404Coin</td>\n      <td>Scrypt</td>\n      <td>PoW/PoS</td>\n      <td>0</td>\n      <td>0</td>\n    </tr>\n    <tr>\n      <th>611</th>\n      <td>SixEleven</td>\n      <td>SHA-256</td>\n      <td>PoW</td>\n      <td>0</td>\n      <td>0</td>\n    </tr>\n    <tr>\n      <th>808</th>\n      <td>808</td>\n      <td>SHA-256</td>\n      <td>PoW/PoS</td>\n      <td>0</td>\n      <td>0</td>\n    </tr>\n    <tr>\n      <th>888</th>\n      <td>Octocoin</td>\n      <td>N/A</td>\n      <td>PoW</td>\n      <td>0</td>\n      <td>0</td>\n    </tr>\n    <tr>\n      <th>1337</th>\n      <td>EliteCoin</td>\n      <td>X13</td>\n      <td>PoW/PoS</td>\n      <td>0</td>\n      <td>0</td>\n    </tr>\n    <tr>\n      <th>2015</th>\n      <td>2015 coin</td>\n      <td>X11</td>\n      <td>PoW/PoS</td>\n      <td>0</td>\n      <td>0</td>\n    </tr>\n    <tr>\n      <th>BTCD</th>\n      <td>BitcoinDark</td>\n      <td>SHA-256</td>\n      <td>PoW/PoS</td>\n      <td>NaN</td>\n      <td>NaN</td>\n    </tr>\n  </tbody>\n</table>\n</div>"
     },
     "metadata": {},
     "execution_count": 18
    }
   ],
   "source": [
    "# Remove the \"IsTrading\" column\n",
    "newer_crypto_df = working_algo_df.drop(\"IsTrading\", axis=1)\n",
    "newer_crypto_df.head(10)"
   ]
  },
  {
   "cell_type": "code",
   "execution_count": 19,
   "metadata": {},
   "outputs": [
    {
     "output_type": "execute_result",
     "data": {
      "text/plain": [
       "         CoinName Algorithm ProofType TotalCoinsMined MaxSupply\n",
       "42        42 Coin    Scrypt   PoW/PoS               0         0\n",
       "300     300 token       N/A       N/A             300       300\n",
       "365       365Coin       X11   PoW/PoS               0         0\n",
       "404       404Coin    Scrypt   PoW/PoS               0         0\n",
       "611     SixEleven   SHA-256       PoW               0         0\n",
       "808           808   SHA-256   PoW/PoS               0         0\n",
       "888      Octocoin       N/A       PoW               0         0\n",
       "1337    EliteCoin       X13   PoW/PoS               0         0\n",
       "2015    2015 coin       X11   PoW/PoS               0         0\n",
       "BTCD  BitcoinDark   SHA-256   PoW/PoS             NaN       NaN"
      ],
      "text/html": "<div>\n<style scoped>\n    .dataframe tbody tr th:only-of-type {\n        vertical-align: middle;\n    }\n\n    .dataframe tbody tr th {\n        vertical-align: top;\n    }\n\n    .dataframe thead th {\n        text-align: right;\n    }\n</style>\n<table border=\"1\" class=\"dataframe\">\n  <thead>\n    <tr style=\"text-align: right;\">\n      <th></th>\n      <th>CoinName</th>\n      <th>Algorithm</th>\n      <th>ProofType</th>\n      <th>TotalCoinsMined</th>\n      <th>MaxSupply</th>\n    </tr>\n  </thead>\n  <tbody>\n    <tr>\n      <th>42</th>\n      <td>42 Coin</td>\n      <td>Scrypt</td>\n      <td>PoW/PoS</td>\n      <td>0</td>\n      <td>0</td>\n    </tr>\n    <tr>\n      <th>300</th>\n      <td>300 token</td>\n      <td>N/A</td>\n      <td>N/A</td>\n      <td>300</td>\n      <td>300</td>\n    </tr>\n    <tr>\n      <th>365</th>\n      <td>365Coin</td>\n      <td>X11</td>\n      <td>PoW/PoS</td>\n      <td>0</td>\n      <td>0</td>\n    </tr>\n    <tr>\n      <th>404</th>\n      <td>404Coin</td>\n      <td>Scrypt</td>\n      <td>PoW/PoS</td>\n      <td>0</td>\n      <td>0</td>\n    </tr>\n    <tr>\n      <th>611</th>\n      <td>SixEleven</td>\n      <td>SHA-256</td>\n      <td>PoW</td>\n      <td>0</td>\n      <td>0</td>\n    </tr>\n    <tr>\n      <th>808</th>\n      <td>808</td>\n      <td>SHA-256</td>\n      <td>PoW/PoS</td>\n      <td>0</td>\n      <td>0</td>\n    </tr>\n    <tr>\n      <th>888</th>\n      <td>Octocoin</td>\n      <td>N/A</td>\n      <td>PoW</td>\n      <td>0</td>\n      <td>0</td>\n    </tr>\n    <tr>\n      <th>1337</th>\n      <td>EliteCoin</td>\n      <td>X13</td>\n      <td>PoW/PoS</td>\n      <td>0</td>\n      <td>0</td>\n    </tr>\n    <tr>\n      <th>2015</th>\n      <td>2015 coin</td>\n      <td>X11</td>\n      <td>PoW/PoS</td>\n      <td>0</td>\n      <td>0</td>\n    </tr>\n    <tr>\n      <th>BTCD</th>\n      <td>BitcoinDark</td>\n      <td>SHA-256</td>\n      <td>PoW/PoS</td>\n      <td>NaN</td>\n      <td>NaN</td>\n    </tr>\n  </tbody>\n</table>\n</div>"
     },
     "metadata": {},
     "execution_count": 19
    }
   ],
   "source": [
    "# Remove rows with at least 1 null value\n",
    "newer_crypto_df.dropna()\n",
    "newer_crypto_df.head(10)"
   ]
  },
  {
   "cell_type": "code",
   "execution_count": 20,
   "metadata": {},
   "outputs": [
    {
     "output_type": "execute_result",
     "data": {
      "text/plain": [
       "       CoinName Algorithm ProofType TotalCoinsMined MaxSupply\n",
       "42      42 Coin    Scrypt   PoW/PoS               0         0\n",
       "300   300 token       N/A       N/A             300       300\n",
       "365     365Coin       X11   PoW/PoS               0         0\n",
       "404     404Coin    Scrypt   PoW/PoS               0         0\n",
       "611   SixEleven   SHA-256       PoW               0         0\n",
       "808         808   SHA-256   PoW/PoS               0         0\n",
       "888    Octocoin       N/A       PoW               0         0\n",
       "1337  EliteCoin       X13   PoW/PoS               0         0\n",
       "2015  2015 coin       X11   PoW/PoS               0         0\n",
       "GEO     GeoCoin       N/A       N/A               0         0"
      ],
      "text/html": "<div>\n<style scoped>\n    .dataframe tbody tr th:only-of-type {\n        vertical-align: middle;\n    }\n\n    .dataframe tbody tr th {\n        vertical-align: top;\n    }\n\n    .dataframe thead th {\n        text-align: right;\n    }\n</style>\n<table border=\"1\" class=\"dataframe\">\n  <thead>\n    <tr style=\"text-align: right;\">\n      <th></th>\n      <th>CoinName</th>\n      <th>Algorithm</th>\n      <th>ProofType</th>\n      <th>TotalCoinsMined</th>\n      <th>MaxSupply</th>\n    </tr>\n  </thead>\n  <tbody>\n    <tr>\n      <th>42</th>\n      <td>42 Coin</td>\n      <td>Scrypt</td>\n      <td>PoW/PoS</td>\n      <td>0</td>\n      <td>0</td>\n    </tr>\n    <tr>\n      <th>300</th>\n      <td>300 token</td>\n      <td>N/A</td>\n      <td>N/A</td>\n      <td>300</td>\n      <td>300</td>\n    </tr>\n    <tr>\n      <th>365</th>\n      <td>365Coin</td>\n      <td>X11</td>\n      <td>PoW/PoS</td>\n      <td>0</td>\n      <td>0</td>\n    </tr>\n    <tr>\n      <th>404</th>\n      <td>404Coin</td>\n      <td>Scrypt</td>\n      <td>PoW/PoS</td>\n      <td>0</td>\n      <td>0</td>\n    </tr>\n    <tr>\n      <th>611</th>\n      <td>SixEleven</td>\n      <td>SHA-256</td>\n      <td>PoW</td>\n      <td>0</td>\n      <td>0</td>\n    </tr>\n    <tr>\n      <th>808</th>\n      <td>808</td>\n      <td>SHA-256</td>\n      <td>PoW/PoS</td>\n      <td>0</td>\n      <td>0</td>\n    </tr>\n    <tr>\n      <th>888</th>\n      <td>Octocoin</td>\n      <td>N/A</td>\n      <td>PoW</td>\n      <td>0</td>\n      <td>0</td>\n    </tr>\n    <tr>\n      <th>1337</th>\n      <td>EliteCoin</td>\n      <td>X13</td>\n      <td>PoW/PoS</td>\n      <td>0</td>\n      <td>0</td>\n    </tr>\n    <tr>\n      <th>2015</th>\n      <td>2015 coin</td>\n      <td>X11</td>\n      <td>PoW/PoS</td>\n      <td>0</td>\n      <td>0</td>\n    </tr>\n    <tr>\n      <th>GEO</th>\n      <td>GeoCoin</td>\n      <td>N/A</td>\n      <td>N/A</td>\n      <td>0</td>\n      <td>0</td>\n    </tr>\n  </tbody>\n</table>\n</div>"
     },
     "metadata": {},
     "execution_count": 20
    }
   ],
   "source": [
    "# Remove rows with cryptocurrencies having no coins mined\n",
    "newer_crypto_df.dropna(inplace=True)\n",
    "newer_crypto_df.head(10)"
   ]
  },
  {
   "cell_type": "code",
   "execution_count": 21,
   "metadata": {},
   "outputs": [],
   "source": [
    "# Drop rows where there are 'N/A' text values\n",
    "newest_crypto_df = newer_crypto_df.dropna(axis=1)"
   ]
  },
  {
   "cell_type": "code",
   "execution_count": 22,
   "metadata": {},
   "outputs": [
    {
     "output_type": "execute_result",
     "data": {
      "text/plain": [
       "      CoinName\n",
       "42     42 Coin\n",
       "300  300 token\n",
       "365    365Coin\n",
       "404    404Coin\n",
       "611  SixEleven"
      ],
      "text/html": "<div>\n<style scoped>\n    .dataframe tbody tr th:only-of-type {\n        vertical-align: middle;\n    }\n\n    .dataframe tbody tr th {\n        vertical-align: top;\n    }\n\n    .dataframe thead th {\n        text-align: right;\n    }\n</style>\n<table border=\"1\" class=\"dataframe\">\n  <thead>\n    <tr style=\"text-align: right;\">\n      <th></th>\n      <th>CoinName</th>\n    </tr>\n  </thead>\n  <tbody>\n    <tr>\n      <th>42</th>\n      <td>42 Coin</td>\n    </tr>\n    <tr>\n      <th>300</th>\n      <td>300 token</td>\n    </tr>\n    <tr>\n      <th>365</th>\n      <td>365Coin</td>\n    </tr>\n    <tr>\n      <th>404</th>\n      <td>404Coin</td>\n    </tr>\n    <tr>\n      <th>611</th>\n      <td>SixEleven</td>\n    </tr>\n  </tbody>\n</table>\n</div>"
     },
     "metadata": {},
     "execution_count": 22
    }
   ],
   "source": [
    "# Store the 'CoinName'column in its own DataFrame prior to dropping it from crypto_df\n",
    "\n",
    "coin_name_df = pd.DataFrame(newest_crypto_df[\"CoinName\"])\n",
    "coin_name_df.head()\n",
    "\n",
    "\n"
   ]
  },
  {
   "cell_type": "code",
   "execution_count": 23,
   "metadata": {},
   "outputs": [
    {
     "output_type": "execute_result",
     "data": {
      "text/plain": [
       "<bound method NDFrame.head of      Algorithm ProofType TotalCoinsMined    MaxSupply\n",
       "42      Scrypt   PoW/PoS               0            0\n",
       "300        N/A       N/A             300          300\n",
       "365        X11   PoW/PoS               0            0\n",
       "404     Scrypt   PoW/PoS               0            0\n",
       "611    SHA-256       PoW               0            0\n",
       "...        ...       ...             ...          ...\n",
       "FRAX       N/A       N/A     7.63292e+07  7.63292e+07\n",
       "FXS        N/A       N/A     9.91509e+07  9.91509e+07\n",
       "WIFI       N/A       N/A      1000000000   1000000000\n",
       "SPI        N/A       N/A         1000000      1000000\n",
       "ONS        N/A       N/A          100001       100001\n",
       "\n",
       "[1029 rows x 4 columns]>"
      ]
     },
     "metadata": {},
     "execution_count": 23
    }
   ],
   "source": [
    "# Drop the 'CoinName' column since it's not going to be used on the clustering algorithm\n",
    "updated_df = newest_crypto_df.drop([\"CoinName\"],axis=1)\n",
    "updated_df.head"
   ]
  },
  {
   "cell_type": "code",
   "execution_count": 24,
   "metadata": {},
   "outputs": [
    {
     "output_type": "execute_result",
     "data": {
      "text/plain": [
       "     TotalCoinsMined MaxSupply  Algorithm_Argon2d  Algorithm_Autolykos  \\\n",
       "42                 0         0                  0                    0   \n",
       "300              300       300                  0                    0   \n",
       "365                0         0                  0                    0   \n",
       "404                0         0                  0                    0   \n",
       "611                0         0                  0                    0   \n",
       "808                0         0                  0                    0   \n",
       "888                0         0                  0                    0   \n",
       "1337               0         0                  0                    0   \n",
       "2015               0         0                  0                    0   \n",
       "GEO                0         0                  0                    0   \n",
       "\n",
       "      Algorithm_BEP-2  Algorithm_BEP2 Token  Algorithm_BEP20 Token  \\\n",
       "42                  0                     0                      0   \n",
       "300                 0                     0                      0   \n",
       "365                 0                     0                      0   \n",
       "404                 0                     0                      0   \n",
       "611                 0                     0                      0   \n",
       "808                 0                     0                      0   \n",
       "888                 0                     0                      0   \n",
       "1337                0                     0                      0   \n",
       "2015                0                     0                      0   \n",
       "GEO                 0                     0                      0   \n",
       "\n",
       "      Algorithm_BLAKE256  Algorithm_BMW512 / Echo512  \\\n",
       "42                     0                           0   \n",
       "300                    0                           0   \n",
       "365                    0                           0   \n",
       "404                    0                           0   \n",
       "611                    0                           0   \n",
       "808                    0                           0   \n",
       "888                    0                           0   \n",
       "1337                   0                           0   \n",
       "2015                   0                           0   \n",
       "GEO                    0                           0   \n",
       "\n",
       "      Algorithm_Blake2B + SHA3  ...  ProofType_SCP  ProofType_SPoS  \\\n",
       "42                           0  ...              0               0   \n",
       "300                          0  ...              0               0   \n",
       "365                          0  ...              0               0   \n",
       "404                          0  ...              0               0   \n",
       "611                          0  ...              0               0   \n",
       "808                          0  ...              0               0   \n",
       "888                          0  ...              0               0   \n",
       "1337                         0  ...              0               0   \n",
       "2015                         0  ...              0               0   \n",
       "GEO                          0  ...              0               0   \n",
       "\n",
       "      ProofType_TPoS  ProofType_Tangle  ProofType_Zero-Knowledge Proof  \\\n",
       "42                 0                 0                               0   \n",
       "300                0                 0                               0   \n",
       "365                0                 0                               0   \n",
       "404                0                 0                               0   \n",
       "611                0                 0                               0   \n",
       "808                0                 0                               0   \n",
       "888                0                 0                               0   \n",
       "1337               0                 0                               0   \n",
       "2015               0                 0                               0   \n",
       "GEO                0                 0                               0   \n",
       "\n",
       "      ProofType_dPoS  ProofType_dPoS/BFT  ProofType_dPoW/PoW  ProofType_ePoW  \\\n",
       "42                 0                   0                   0               0   \n",
       "300                0                   0                   0               0   \n",
       "365                0                   0                   0               0   \n",
       "404                0                   0                   0               0   \n",
       "611                0                   0                   0               0   \n",
       "808                0                   0                   0               0   \n",
       "888                0                   0                   0               0   \n",
       "1337               0                   0                   0               0   \n",
       "2015               0                   0                   0               0   \n",
       "GEO                0                   0                   0               0   \n",
       "\n",
       "      ProofType_fPoW+ PBFT  \n",
       "42                       0  \n",
       "300                      0  \n",
       "365                      0  \n",
       "404                      0  \n",
       "611                      0  \n",
       "808                      0  \n",
       "888                      0  \n",
       "1337                     0  \n",
       "2015                     0  \n",
       "GEO                      0  \n",
       "\n",
       "[10 rows x 99 columns]"
      ],
      "text/html": "<div>\n<style scoped>\n    .dataframe tbody tr th:only-of-type {\n        vertical-align: middle;\n    }\n\n    .dataframe tbody tr th {\n        vertical-align: top;\n    }\n\n    .dataframe thead th {\n        text-align: right;\n    }\n</style>\n<table border=\"1\" class=\"dataframe\">\n  <thead>\n    <tr style=\"text-align: right;\">\n      <th></th>\n      <th>TotalCoinsMined</th>\n      <th>MaxSupply</th>\n      <th>Algorithm_Argon2d</th>\n      <th>Algorithm_Autolykos</th>\n      <th>Algorithm_BEP-2</th>\n      <th>Algorithm_BEP2 Token</th>\n      <th>Algorithm_BEP20 Token</th>\n      <th>Algorithm_BLAKE256</th>\n      <th>Algorithm_BMW512 / Echo512</th>\n      <th>Algorithm_Blake2B + SHA3</th>\n      <th>...</th>\n      <th>ProofType_SCP</th>\n      <th>ProofType_SPoS</th>\n      <th>ProofType_TPoS</th>\n      <th>ProofType_Tangle</th>\n      <th>ProofType_Zero-Knowledge Proof</th>\n      <th>ProofType_dPoS</th>\n      <th>ProofType_dPoS/BFT</th>\n      <th>ProofType_dPoW/PoW</th>\n      <th>ProofType_ePoW</th>\n      <th>ProofType_fPoW+ PBFT</th>\n    </tr>\n  </thead>\n  <tbody>\n    <tr>\n      <th>42</th>\n      <td>0</td>\n      <td>0</td>\n      <td>0</td>\n      <td>0</td>\n      <td>0</td>\n      <td>0</td>\n      <td>0</td>\n      <td>0</td>\n      <td>0</td>\n      <td>0</td>\n      <td>...</td>\n      <td>0</td>\n      <td>0</td>\n      <td>0</td>\n      <td>0</td>\n      <td>0</td>\n      <td>0</td>\n      <td>0</td>\n      <td>0</td>\n      <td>0</td>\n      <td>0</td>\n    </tr>\n    <tr>\n      <th>300</th>\n      <td>300</td>\n      <td>300</td>\n      <td>0</td>\n      <td>0</td>\n      <td>0</td>\n      <td>0</td>\n      <td>0</td>\n      <td>0</td>\n      <td>0</td>\n      <td>0</td>\n      <td>...</td>\n      <td>0</td>\n      <td>0</td>\n      <td>0</td>\n      <td>0</td>\n      <td>0</td>\n      <td>0</td>\n      <td>0</td>\n      <td>0</td>\n      <td>0</td>\n      <td>0</td>\n    </tr>\n    <tr>\n      <th>365</th>\n      <td>0</td>\n      <td>0</td>\n      <td>0</td>\n      <td>0</td>\n      <td>0</td>\n      <td>0</td>\n      <td>0</td>\n      <td>0</td>\n      <td>0</td>\n      <td>0</td>\n      <td>...</td>\n      <td>0</td>\n      <td>0</td>\n      <td>0</td>\n      <td>0</td>\n      <td>0</td>\n      <td>0</td>\n      <td>0</td>\n      <td>0</td>\n      <td>0</td>\n      <td>0</td>\n    </tr>\n    <tr>\n      <th>404</th>\n      <td>0</td>\n      <td>0</td>\n      <td>0</td>\n      <td>0</td>\n      <td>0</td>\n      <td>0</td>\n      <td>0</td>\n      <td>0</td>\n      <td>0</td>\n      <td>0</td>\n      <td>...</td>\n      <td>0</td>\n      <td>0</td>\n      <td>0</td>\n      <td>0</td>\n      <td>0</td>\n      <td>0</td>\n      <td>0</td>\n      <td>0</td>\n      <td>0</td>\n      <td>0</td>\n    </tr>\n    <tr>\n      <th>611</th>\n      <td>0</td>\n      <td>0</td>\n      <td>0</td>\n      <td>0</td>\n      <td>0</td>\n      <td>0</td>\n      <td>0</td>\n      <td>0</td>\n      <td>0</td>\n      <td>0</td>\n      <td>...</td>\n      <td>0</td>\n      <td>0</td>\n      <td>0</td>\n      <td>0</td>\n      <td>0</td>\n      <td>0</td>\n      <td>0</td>\n      <td>0</td>\n      <td>0</td>\n      <td>0</td>\n    </tr>\n    <tr>\n      <th>808</th>\n      <td>0</td>\n      <td>0</td>\n      <td>0</td>\n      <td>0</td>\n      <td>0</td>\n      <td>0</td>\n      <td>0</td>\n      <td>0</td>\n      <td>0</td>\n      <td>0</td>\n      <td>...</td>\n      <td>0</td>\n      <td>0</td>\n      <td>0</td>\n      <td>0</td>\n      <td>0</td>\n      <td>0</td>\n      <td>0</td>\n      <td>0</td>\n      <td>0</td>\n      <td>0</td>\n    </tr>\n    <tr>\n      <th>888</th>\n      <td>0</td>\n      <td>0</td>\n      <td>0</td>\n      <td>0</td>\n      <td>0</td>\n      <td>0</td>\n      <td>0</td>\n      <td>0</td>\n      <td>0</td>\n      <td>0</td>\n      <td>...</td>\n      <td>0</td>\n      <td>0</td>\n      <td>0</td>\n      <td>0</td>\n      <td>0</td>\n      <td>0</td>\n      <td>0</td>\n      <td>0</td>\n      <td>0</td>\n      <td>0</td>\n    </tr>\n    <tr>\n      <th>1337</th>\n      <td>0</td>\n      <td>0</td>\n      <td>0</td>\n      <td>0</td>\n      <td>0</td>\n      <td>0</td>\n      <td>0</td>\n      <td>0</td>\n      <td>0</td>\n      <td>0</td>\n      <td>...</td>\n      <td>0</td>\n      <td>0</td>\n      <td>0</td>\n      <td>0</td>\n      <td>0</td>\n      <td>0</td>\n      <td>0</td>\n      <td>0</td>\n      <td>0</td>\n      <td>0</td>\n    </tr>\n    <tr>\n      <th>2015</th>\n      <td>0</td>\n      <td>0</td>\n      <td>0</td>\n      <td>0</td>\n      <td>0</td>\n      <td>0</td>\n      <td>0</td>\n      <td>0</td>\n      <td>0</td>\n      <td>0</td>\n      <td>...</td>\n      <td>0</td>\n      <td>0</td>\n      <td>0</td>\n      <td>0</td>\n      <td>0</td>\n      <td>0</td>\n      <td>0</td>\n      <td>0</td>\n      <td>0</td>\n      <td>0</td>\n    </tr>\n    <tr>\n      <th>GEO</th>\n      <td>0</td>\n      <td>0</td>\n      <td>0</td>\n      <td>0</td>\n      <td>0</td>\n      <td>0</td>\n      <td>0</td>\n      <td>0</td>\n      <td>0</td>\n      <td>0</td>\n      <td>...</td>\n      <td>0</td>\n      <td>0</td>\n      <td>0</td>\n      <td>0</td>\n      <td>0</td>\n      <td>0</td>\n      <td>0</td>\n      <td>0</td>\n      <td>0</td>\n      <td>0</td>\n    </tr>\n  </tbody>\n</table>\n<p>10 rows × 99 columns</p>\n</div>"
     },
     "metadata": {},
     "execution_count": 24
    }
   ],
   "source": [
    "# Create dummy variables for text features\n",
    "dummy_vars = pd.get_dummies(updated_df, columns=[\"Algorithm\", \"ProofType\"])\n",
    "dummy_vars.head(10)"
   ]
  },
  {
   "cell_type": "code",
   "execution_count": 25,
   "metadata": {},
   "outputs": [
    {
     "output_type": "stream",
     "name": "stdout",
     "text": [
      "[[-0.03282198 -0.03279922 -0.03118914 -0.03118914 -0.03118914 -0.04412958\n  -0.03118914 -0.04412958 -0.03118914 -0.03118914 -0.04412958 -0.04412958\n  -0.07658396 -0.04412958 -0.03118914 -0.03118914 -0.08851811 -0.03118914\n  -0.03118914 -0.03118914 -0.03118914 -0.08851811 -0.03118914 -0.03118914\n  -0.08851811 -0.04412958 -0.03118914 -0.04412958 -0.03118914 -0.03118914\n  -0.03118914 -0.03118914 -0.04412958 -0.03118914 -0.03118914 -0.0624695\n  -2.15010484 -0.05407381 -0.05407381 -0.03118914 -0.04412958 -0.08851811\n  -0.03118914 -0.03118914 -0.07658396 -0.03118914 -0.15453348 -0.04412958\n  -0.03118914 -0.03118914  5.77061522 -0.03118914 -0.03118914 -0.03118914\n  -0.03118914 -0.03118914 -0.03118914 -0.03118914 -0.08851811 -0.03118914\n  -0.09393364 -0.03118914 -0.03118914 -0.03118914 -0.03118914 -0.03118914\n  -0.11744404 -0.03118914 -0.03118914 -0.03118914 -1.81314644 -0.0624695\n  -0.04412958 -0.03118914 -0.03118914 -0.03118914 -0.03118914 -0.2283577\n  -0.03118914 -0.04412958 -0.03118914 -0.03118914 -0.03118914 -0.32077078\n   4.78855224 -0.03118914 -0.03118914 -0.03118914 -0.03118914 -0.04412958\n  -0.03118914 -0.03118914 -0.03118914 -0.03118914 -0.03118914 -0.03118914\n  -0.03118914 -0.03118914 -0.03118914]\n [-0.03282198 -0.03279922 -0.03118914 -0.03118914 -0.03118914 -0.04412958\n  -0.03118914 -0.04412958 -0.03118914 -0.03118914 -0.04412958 -0.04412958\n  -0.07658396 -0.04412958 -0.03118914 -0.03118914 -0.08851811 -0.03118914\n  -0.03118914 -0.03118914 -0.03118914 -0.08851811 -0.03118914 -0.03118914\n  -0.08851811 -0.04412958 -0.03118914 -0.04412958 -0.03118914 -0.03118914\n  -0.03118914 -0.03118914 -0.04412958 -0.03118914 -0.03118914 -0.0624695\n   0.4650936  -0.05407381 -0.05407381 -0.03118914 -0.04412958 -0.08851811\n  -0.03118914 -0.03118914 -0.07658396 -0.03118914 -0.15453348 -0.04412958\n  -0.03118914 -0.03118914 -0.17329175 -0.03118914 -0.03118914 -0.03118914\n  -0.03118914 -0.03118914 -0.03118914 -0.03118914 -0.08851811 -0.03118914\n  -0.09393364 -0.03118914 -0.03118914 -0.03118914 -0.03118914 -0.03118914\n  -0.11744404 -0.03118914 -0.03118914 -0.03118914  0.55152743 -0.0624695\n  -0.04412958 -0.03118914 -0.03118914 -0.03118914 -0.03118914 -0.2283577\n  -0.03118914 -0.04412958 -0.03118914 -0.03118914 -0.03118914 -0.32077078\n  -0.20883139 -0.03118914 -0.03118914 -0.03118914 -0.03118914 -0.04412958\n  -0.03118914 -0.03118914 -0.03118914 -0.03118914 -0.03118914 -0.03118914\n  -0.03118914 -0.03118914 -0.03118914]\n [-0.03282198 -0.03279922 -0.03118914 -0.03118914 -0.03118914 -0.04412958\n  -0.03118914 -0.04412958 -0.03118914 -0.03118914 -0.04412958 -0.04412958\n  -0.07658396 -0.04412958 -0.03118914 -0.03118914 -0.08851811 -0.03118914\n  -0.03118914 -0.03118914 -0.03118914 -0.08851811 -0.03118914 -0.03118914\n  -0.08851811 -0.04412958 -0.03118914 -0.04412958 -0.03118914 -0.03118914\n  -0.03118914 -0.03118914 -0.04412958 -0.03118914 -0.03118914 -0.0624695\n  -2.15010484 -0.05407381 -0.05407381 -0.03118914 -0.04412958 -0.08851811\n  -0.03118914 -0.03118914 -0.07658396 -0.03118914 -0.15453348 -0.04412958\n  -0.03118914 -0.03118914 -0.17329175 -0.03118914 -0.03118914 -0.03118914\n  -0.03118914 -0.03118914 -0.03118914 -0.03118914 11.29712353 -0.03118914\n  -0.09393364 -0.03118914 -0.03118914 -0.03118914 -0.03118914 -0.03118914\n  -0.11744404 -0.03118914 -0.03118914 -0.03118914 -1.81314644 -0.0624695\n  -0.04412958 -0.03118914 -0.03118914 -0.03118914 -0.03118914 -0.2283577\n  -0.03118914 -0.04412958 -0.03118914 -0.03118914 -0.03118914 -0.32077078\n   4.78855224 -0.03118914 -0.03118914 -0.03118914 -0.03118914 -0.04412958\n  -0.03118914 -0.03118914 -0.03118914 -0.03118914 -0.03118914 -0.03118914\n  -0.03118914 -0.03118914 -0.03118914]\n [-0.03282198 -0.03279922 -0.03118914 -0.03118914 -0.03118914 -0.04412958\n  -0.03118914 -0.04412958 -0.03118914 -0.03118914 -0.04412958 -0.04412958\n  -0.07658396 -0.04412958 -0.03118914 -0.03118914 -0.08851811 -0.03118914\n  -0.03118914 -0.03118914 -0.03118914 -0.08851811 -0.03118914 -0.03118914\n  -0.08851811 -0.04412958 -0.03118914 -0.04412958 -0.03118914 -0.03118914\n  -0.03118914 -0.03118914 -0.04412958 -0.03118914 -0.03118914 -0.0624695\n  -2.15010484 -0.05407381 -0.05407381 -0.03118914 -0.04412958 -0.08851811\n  -0.03118914 -0.03118914 -0.07658396 -0.03118914 -0.15453348 -0.04412958\n  -0.03118914 -0.03118914  5.77061522 -0.03118914 -0.03118914 -0.03118914\n  -0.03118914 -0.03118914 -0.03118914 -0.03118914 -0.08851811 -0.03118914\n  -0.09393364 -0.03118914 -0.03118914 -0.03118914 -0.03118914 -0.03118914\n  -0.11744404 -0.03118914 -0.03118914 -0.03118914 -1.81314644 -0.0624695\n  -0.04412958 -0.03118914 -0.03118914 -0.03118914 -0.03118914 -0.2283577\n  -0.03118914 -0.04412958 -0.03118914 -0.03118914 -0.03118914 -0.32077078\n   4.78855224 -0.03118914 -0.03118914 -0.03118914 -0.03118914 -0.04412958\n  -0.03118914 -0.03118914 -0.03118914 -0.03118914 -0.03118914 -0.03118914\n  -0.03118914 -0.03118914 -0.03118914]\n [-0.03282198 -0.03279922 -0.03118914 -0.03118914 -0.03118914 -0.04412958\n  -0.03118914 -0.04412958 -0.03118914 -0.03118914 -0.04412958 -0.04412958\n  -0.07658396 -0.04412958 -0.03118914 -0.03118914 -0.08851811 -0.03118914\n  -0.03118914 -0.03118914 -0.03118914 -0.08851811 -0.03118914 -0.03118914\n  -0.08851811 -0.04412958 -0.03118914 -0.04412958 -0.03118914 -0.03118914\n  -0.03118914 -0.03118914 -0.04412958 -0.03118914 -0.03118914 -0.0624695\n  -2.15010484 -0.05407381 -0.05407381 -0.03118914 -0.04412958 -0.08851811\n  -0.03118914 -0.03118914 -0.07658396 -0.03118914  6.47108955 -0.04412958\n  -0.03118914 -0.03118914 -0.17329175 -0.03118914 -0.03118914 -0.03118914\n  -0.03118914 -0.03118914 -0.03118914 -0.03118914 -0.08851811 -0.03118914\n  -0.09393364 -0.03118914 -0.03118914 -0.03118914 -0.03118914 -0.03118914\n  -0.11744404 -0.03118914 -0.03118914 -0.03118914 -1.81314644 -0.0624695\n  -0.04412958 -0.03118914 -0.03118914 -0.03118914 -0.03118914 -0.2283577\n  -0.03118914 -0.04412958 -0.03118914 -0.03118914 -0.03118914  3.11749098\n  -0.20883139 -0.03118914 -0.03118914 -0.03118914 -0.03118914 -0.04412958\n  -0.03118914 -0.03118914 -0.03118914 -0.03118914 -0.03118914 -0.03118914\n  -0.03118914 -0.03118914 -0.03118914]]\n"
     ]
    }
   ],
   "source": [
    "# Standardize data\n",
    "X_scaled = StandardScaler().fit_transform(dummy_vars)\n",
    "print(X_scaled[0:5])"
   ]
  },
  {
   "cell_type": "markdown",
   "metadata": {},
   "source": [
    "### Reducing Dimensions Using PCA"
   ]
  },
  {
   "cell_type": "code",
   "execution_count": 26,
   "metadata": {},
   "outputs": [
    {
     "output_type": "execute_result",
     "data": {
      "text/plain": [
       "array([[ 4.22237845,  0.01786738, -0.17833883],\n",
       "       [-0.94795039, -0.00452139,  0.01897973],\n",
       "       [ 4.20165653,  0.00846805, -0.12317456],\n",
       "       ...,\n",
       "       [-0.94795344, -0.00451744,  0.0189561 ],\n",
       "       [-0.94795039, -0.00452139,  0.01897971],\n",
       "       [-0.94795039, -0.00452139,  0.01897973]])"
      ]
     },
     "metadata": {},
     "execution_count": 26
    }
   ],
   "source": [
    "# Use PCA to reduce dimensions to 3 principal components\n",
    "pca = PCA(n_components=3)\n",
    "X_pca = pca.fit_transform(X_scaled)\n",
    "X_pca"
   ]
  },
  {
   "cell_type": "code",
   "execution_count": 28,
   "metadata": {},
   "outputs": [
    {
     "output_type": "execute_result",
     "data": {
      "text/plain": [
       "          PC 1      PC 2      PC 3\n",
       "42    4.222378  0.017867 -0.178339\n",
       "300  -0.947950 -0.004521  0.018980\n",
       "365   4.201657  0.008468 -0.123175\n",
       "404   4.222378  0.017867 -0.178339\n",
       "611   3.985870 -0.013286 -0.083372\n",
       "808   4.108922  0.000064 -0.173943\n",
       "888   1.435310  0.006103 -0.017380\n",
       "1337  4.114141  0.023831 -0.256555\n",
       "2015  4.201657  0.008468 -0.123175\n",
       "GEO  -0.947950 -0.004521  0.018980"
      ],
      "text/html": "<div>\n<style scoped>\n    .dataframe tbody tr th:only-of-type {\n        vertical-align: middle;\n    }\n\n    .dataframe tbody tr th {\n        vertical-align: top;\n    }\n\n    .dataframe thead th {\n        text-align: right;\n    }\n</style>\n<table border=\"1\" class=\"dataframe\">\n  <thead>\n    <tr style=\"text-align: right;\">\n      <th></th>\n      <th>PC 1</th>\n      <th>PC 2</th>\n      <th>PC 3</th>\n    </tr>\n  </thead>\n  <tbody>\n    <tr>\n      <th>42</th>\n      <td>4.222378</td>\n      <td>0.017867</td>\n      <td>-0.178339</td>\n    </tr>\n    <tr>\n      <th>300</th>\n      <td>-0.947950</td>\n      <td>-0.004521</td>\n      <td>0.018980</td>\n    </tr>\n    <tr>\n      <th>365</th>\n      <td>4.201657</td>\n      <td>0.008468</td>\n      <td>-0.123175</td>\n    </tr>\n    <tr>\n      <th>404</th>\n      <td>4.222378</td>\n      <td>0.017867</td>\n      <td>-0.178339</td>\n    </tr>\n    <tr>\n      <th>611</th>\n      <td>3.985870</td>\n      <td>-0.013286</td>\n      <td>-0.083372</td>\n    </tr>\n    <tr>\n      <th>808</th>\n      <td>4.108922</td>\n      <td>0.000064</td>\n      <td>-0.173943</td>\n    </tr>\n    <tr>\n      <th>888</th>\n      <td>1.435310</td>\n      <td>0.006103</td>\n      <td>-0.017380</td>\n    </tr>\n    <tr>\n      <th>1337</th>\n      <td>4.114141</td>\n      <td>0.023831</td>\n      <td>-0.256555</td>\n    </tr>\n    <tr>\n      <th>2015</th>\n      <td>4.201657</td>\n      <td>0.008468</td>\n      <td>-0.123175</td>\n    </tr>\n    <tr>\n      <th>GEO</th>\n      <td>-0.947950</td>\n      <td>-0.004521</td>\n      <td>0.018980</td>\n    </tr>\n  </tbody>\n</table>\n</div>"
     },
     "metadata": {},
     "execution_count": 28
    }
   ],
   "source": [
    "# Create a DataFrame with the principal components data\n",
    "pcs_df = pd.DataFrame(\n",
    "    data=X_pca,\n",
    "    columns=['PC 1', 'PC 2', 'PC 3'],\n",
    "    index=dummy_vars.index\n",
    ")\n",
    "pcs_df.head(10)"
   ]
  },
  {
   "cell_type": "markdown",
   "metadata": {},
   "source": [
    "### Clustering Crytocurrencies Using K-Means\n",
    "\n",
    "#### Find the Best Value for `k` Using the Elbow Curve"
   ]
  },
  {
   "cell_type": "code",
   "execution_count": 29,
   "metadata": {},
   "outputs": [
    {
     "output_type": "display_data",
     "data": {},
     "metadata": {}
    },
    {
     "output_type": "execute_result",
     "data": {
      "text/html": "<div id='1001'>\n\n\n\n\n\n  <div class=\"bk-root\" id=\"c0671148-8a51-404d-aa94-1455767b176e\" data-root-id=\"1001\"></div>\n</div>\n<script type=\"application/javascript\">(function(root) {\n  function embed_document(root) {\n    var docs_json = {\"9a00b4e3-24e5-4412-bb43-5693fdf6270d\":{\"roots\":{\"references\":[{\"attributes\":{},\"id\":\"1023\",\"type\":\"SaveTool\"},{\"attributes\":{},\"id\":\"1024\",\"type\":\"PanTool\"},{\"attributes\":{\"active_drag\":\"auto\",\"active_inspect\":\"auto\",\"active_multi\":null,\"active_scroll\":\"auto\",\"active_tap\":\"auto\",\"tools\":[{\"id\":\"1005\"},{\"id\":\"1023\"},{\"id\":\"1024\"},{\"id\":\"1025\"},{\"id\":\"1026\"},{\"id\":\"1027\"}]},\"id\":\"1029\",\"type\":\"Toolbar\"},{\"attributes\":{},\"id\":\"1025\",\"type\":\"WheelZoomTool\"},{\"attributes\":{\"overlay\":{\"id\":\"1028\"}},\"id\":\"1026\",\"type\":\"BoxZoomTool\"},{\"attributes\":{},\"id\":\"1027\",\"type\":\"ResetTool\"},{\"attributes\":{},\"id\":\"1037\",\"type\":\"Selection\"},{\"attributes\":{\"line_color\":\"#1f77b3\",\"line_width\":2,\"x\":{\"field\":\"k\"},\"y\":{\"field\":\"inertia\"}},\"id\":\"1039\",\"type\":\"Line\"},{\"attributes\":{\"line_alpha\":0.2,\"line_color\":\"#1f77b3\",\"line_width\":2,\"x\":{\"field\":\"k\"},\"y\":{\"field\":\"inertia\"}},\"id\":\"1041\",\"type\":\"Line\"},{\"attributes\":{\"ticks\":[1,2,3,4,5,6,7,8,9,10]},\"id\":\"1044\",\"type\":\"FixedTicker\"},{\"attributes\":{\"source\":{\"id\":\"1036\"}},\"id\":\"1043\",\"type\":\"CDSView\"},{\"attributes\":{\"below\":[{\"id\":\"1015\"}],\"center\":[{\"id\":\"1018\"},{\"id\":\"1022\"}],\"left\":[{\"id\":\"1019\"}],\"margin\":[5,5,5,5],\"min_border_bottom\":10,\"min_border_left\":10,\"min_border_right\":10,\"min_border_top\":10,\"plot_height\":300,\"plot_width\":700,\"renderers\":[{\"id\":\"1042\"}],\"sizing_mode\":\"fixed\",\"title\":{\"id\":\"1007\"},\"toolbar\":{\"id\":\"1029\"},\"x_range\":{\"id\":\"1003\"},\"x_scale\":{\"id\":\"1011\"},\"y_range\":{\"id\":\"1004\"},\"y_scale\":{\"id\":\"1013\"}},\"id\":\"1006\",\"subtype\":\"Figure\",\"type\":\"Plot\"},{\"attributes\":{\"end\":8190.151524117994,\"reset_end\":8190.151524117994,\"reset_start\":-702.8532968273364,\"start\":-702.8532968273364,\"tags\":[[[\"inertia\",\"inertia\",null]]]},\"id\":\"1004\",\"type\":\"Range1d\"},{\"attributes\":{},\"id\":\"1050\",\"type\":\"BasicTickFormatter\"},{\"attributes\":{\"line_alpha\":0.1,\"line_color\":\"#1f77b3\",\"line_width\":2,\"x\":{\"field\":\"k\"},\"y\":{\"field\":\"inertia\"}},\"id\":\"1040\",\"type\":\"Line\"},{\"attributes\":{},\"id\":\"1056\",\"type\":\"UnionRenderers\"},{\"attributes\":{\"margin\":[5,5,5,5],\"name\":\"HSpacer01539\",\"sizing_mode\":\"stretch_width\"},\"id\":\"1065\",\"type\":\"Spacer\"},{\"attributes\":{\"data_source\":{\"id\":\"1036\"},\"glyph\":{\"id\":\"1039\"},\"hover_glyph\":null,\"muted_glyph\":{\"id\":\"1041\"},\"nonselection_glyph\":{\"id\":\"1040\"},\"selection_glyph\":null,\"view\":{\"id\":\"1043\"}},\"id\":\"1042\",\"type\":\"GlyphRenderer\"},{\"attributes\":{},\"id\":\"1013\",\"type\":\"LinearScale\"},{\"attributes\":{\"children\":[{\"id\":\"1002\"},{\"id\":\"1006\"},{\"id\":\"1065\"}],\"margin\":[0,0,0,0],\"name\":\"Row01534\",\"tags\":[\"embedded\"]},\"id\":\"1001\",\"type\":\"Row\"},{\"attributes\":{},\"id\":\"1046\",\"type\":\"BasicTickFormatter\"},{\"attributes\":{\"bottom_units\":\"screen\",\"fill_alpha\":0.5,\"fill_color\":\"lightgrey\",\"left_units\":\"screen\",\"level\":\"overlay\",\"line_alpha\":1.0,\"line_color\":\"black\",\"line_dash\":[4,4],\"line_width\":2,\"right_units\":\"screen\",\"top_units\":\"screen\"},\"id\":\"1028\",\"type\":\"BoxAnnotation\"},{\"attributes\":{\"text\":\"Elbow Curve\",\"text_color\":{\"value\":\"black\"},\"text_font_size\":{\"value\":\"12pt\"}},\"id\":\"1007\",\"type\":\"Title\"},{\"attributes\":{\"margin\":[5,5,5,5],\"name\":\"HSpacer01538\",\"sizing_mode\":\"stretch_width\"},\"id\":\"1002\",\"type\":\"Spacer\"},{\"attributes\":{\"callback\":null,\"renderers\":[{\"id\":\"1042\"}],\"tags\":[\"hv_created\"],\"tooltips\":[[\"k\",\"@{k}\"],[\"inertia\",\"@{inertia}\"]]},\"id\":\"1005\",\"type\":\"HoverTool\"},{\"attributes\":{},\"id\":\"1011\",\"type\":\"LinearScale\"},{\"attributes\":{\"end\":10.0,\"reset_end\":10.0,\"reset_start\":1.0,\"start\":1.0,\"tags\":[[[\"k\",\"k\",null]]]},\"id\":\"1003\",\"type\":\"Range1d\"},{\"attributes\":{\"axis\":{\"id\":\"1015\"},\"grid_line_color\":null,\"ticker\":null},\"id\":\"1018\",\"type\":\"Grid\"},{\"attributes\":{\"data\":{\"inertia\":{\"__ndarray__\":\"dlqfWhEZvUA6HJ8zPGmxQMBA1EynY6hAYJn9PZ+Rn0Cd/x2IpVqRQP+/EPkLnIZAzjsV3G1mekBdCS1ED1lsQAKdEZgd5VRA8dcoAH8dQ0A=\",\"dtype\":\"float64\",\"order\":\"little\",\"shape\":[10]},\"k\":[1,2,3,4,5,6,7,8,9,10]},\"selected\":{\"id\":\"1037\"},\"selection_policy\":{\"id\":\"1056\"}},\"id\":\"1036\",\"type\":\"ColumnDataSource\"},{\"attributes\":{\"axis_label\":\"k\",\"bounds\":\"auto\",\"formatter\":{\"id\":\"1046\"},\"major_label_orientation\":\"horizontal\",\"ticker\":{\"id\":\"1044\"}},\"id\":\"1015\",\"type\":\"LinearAxis\"},{\"attributes\":{\"axis\":{\"id\":\"1019\"},\"dimension\":1,\"grid_line_color\":null,\"ticker\":null},\"id\":\"1022\",\"type\":\"Grid\"},{\"attributes\":{},\"id\":\"1020\",\"type\":\"BasicTicker\"},{\"attributes\":{\"axis_label\":\"inertia\",\"bounds\":\"auto\",\"formatter\":{\"id\":\"1050\"},\"major_label_orientation\":\"horizontal\",\"ticker\":{\"id\":\"1020\"}},\"id\":\"1019\",\"type\":\"LinearAxis\"}],\"root_ids\":[\"1001\"]},\"title\":\"Bokeh Application\",\"version\":\"2.2.3\"}};\n    var render_items = [{\"docid\":\"9a00b4e3-24e5-4412-bb43-5693fdf6270d\",\"root_ids\":[\"1001\"],\"roots\":{\"1001\":\"c0671148-8a51-404d-aa94-1455767b176e\"}}];\n    root.Bokeh.embed.embed_items_notebook(docs_json, render_items);\n  }\n  if (root.Bokeh !== undefined && root.Bokeh.Panel !== undefined) {\n    embed_document(root);\n  } else {\n    var attempts = 0;\n    var timer = setInterval(function(root) {\n      if (root.Bokeh !== undefined && root.Bokeh.Panel !== undefined) {\n        clearInterval(timer);\n        embed_document(root);\n      } else if (document.readyState == \"complete\") {\n        attempts++;\n        if (attempts > 100) {\n          clearInterval(timer);\n          console.log(\"Bokeh: ERROR: Unable to run BokehJS code because BokehJS library is missing\");\n        }\n      }\n    }, 10, root)\n  }\n})(window);</script>",
      "application/vnd.holoviews_exec.v0+json": "",
      "text/plain": [
       ":Curve   [k]   (inertia)"
      ]
     },
     "metadata": {
      "application/vnd.holoviews_exec.v0+json": {
       "id": "1001"
      }
     },
     "execution_count": 29
    }
   ],
   "source": [
    "inertia = []\n",
    "k = list(range(1, 11))\n",
    "\n",
    "# Calculate the inertia for the range of k values\n",
    "for i in k:\n",
    "   km = KMeans(n_clusters=i, random_state=0)\n",
    "   km.fit(pcs_df)\n",
    "   inertia.append(km.inertia_)\n",
    "\n",
    "\n",
    "# Create the Elbow Curve using hvPlot\n",
    "elbow_data = {\"k\": k, \"inertia\": inertia}\n",
    "df_elbow = pd.DataFrame(elbow_data)\n",
    "df_elbow.hvplot.line(x=\"k\", y=\"inertia\", title=\"Elbow Curve\", xticks=k)\n"
   ]
  },
  {
   "cell_type": "markdown",
   "metadata": {},
   "source": [
    "Running K-Means with `k=<your best value for k here>`"
   ]
  },
  {
   "cell_type": "code",
   "execution_count": 30,
   "metadata": {},
   "outputs": [],
   "source": [
    "# Initialize the K-Means model\n",
    "model = KMeans(n_clusters=4, random_state=0)\n",
    "# Fit the model\n",
    "model.fit(pcs_df)\n",
    "# Predict clusters\n",
    "predictions = model.predict(pcs_df)\n",
    "predictions\n",
    "# Create a new DataFrame including predicted clusters and cryptocurrencies features\n",
    "cryptocluster_df = pd.concat([updated_df, pcs_df], axis=1)\n",
    "cryptocluster_df[\"Class\"] = model.labels_\n",
    "cryptocluster_df['CoinName'] = coin_name_df[\"CoinName\"]"
   ]
  },
  {
   "cell_type": "markdown",
   "metadata": {},
   "source": [
    "### Visualizing Results\n",
    "\n",
    "#### 3D-Scatter with Clusters"
   ]
  },
  {
   "cell_type": "code",
   "execution_count": 31,
   "metadata": {},
   "outputs": [
    {
     "output_type": "display_data",
     "data": {
      "application/vnd.plotly.v1+json": {
       "config": {
        "plotlyServerURL": "https://plot.ly"
       },
       "data": [
        {
         "customdata": [
          [
           "Scrypt"
          ],
          [
           "X11"
          ],
          [
           "Scrypt"
          ],
          [
           "SHA-256"
          ],
          [
           "SHA-256"
          ],
          [
           "X13"
          ],
          [
           "X11"
          ],
          [
           "SHA-256"
          ],
          [
           "Multiple"
          ],
          [
           "Scrypt"
          ],
          [
           "Scrypt"
          ],
          [
           "Scrypt"
          ],
          [
           "SHA-256"
          ],
          [
           "PoS"
          ],
          [
           "Scrypt"
          ],
          [
           "X13"
          ],
          [
           "Scrypt"
          ],
          [
           "Scrypt"
          ],
          [
           "SHA-256"
          ],
          [
           "Scrypt"
          ],
          [
           "X13"
          ],
          [
           "PoS"
          ],
          [
           "SHA-256"
          ],
          [
           "SHA-256"
          ],
          [
           "Scrypt"
          ],
          [
           "Scrypt"
          ],
          [
           "CryptoNight"
          ],
          [
           "PoS"
          ],
          [
           "PoS"
          ],
          [
           "X13"
          ],
          [
           "X11"
          ],
          [
           "X11"
          ],
          [
           "Scrypt"
          ],
          [
           "SHA-256"
          ],
          [
           "Argon2d"
          ],
          [
           "CryptoNight"
          ],
          [
           "PoS"
          ],
          [
           "Dagger"
          ],
          [
           "Equihash"
          ],
          [
           "X11"
          ],
          [
           "SHA-256"
          ],
          [
           "SHA-256"
          ],
          [
           "SHA-256"
          ],
          [
           "POS 3.0"
          ],
          [
           "Equihash"
          ],
          [
           "Ethash"
          ],
          [
           "IMesh"
          ],
          [
           "Equihash"
          ],
          [
           "Semux BFT consensus"
          ],
          [
           "Scrypt"
          ],
          [
           "CryptoNight-Heavy"
          ],
          [
           "CryptoNight"
          ],
          [
           "CryptoNight"
          ],
          [
           "N/A"
          ],
          [
           "Quark"
          ],
          [
           "Quark"
          ],
          [
           "X11"
          ],
          [
           "Lyra2REv2"
          ],
          [
           "SHA-512"
          ],
          [
           "Lyra2Z"
          ],
          [
           "Ethash"
          ],
          [
           "X13"
          ],
          [
           "SHA-256"
          ],
          [
           "Equihash"
          ],
          [
           "SPoS"
          ],
          [
           "Equihash1927"
          ],
          [
           "Quark"
          ],
          [
           "vBlake"
          ],
          [
           "X13"
          ],
          [
           "Ethash"
          ],
          [
           "SHA-256"
          ],
          [
           "CryptoNight"
          ],
          [
           "Eaglesong"
          ],
          [
           "CryptoNote"
          ],
          [
           "ProgPowZ"
          ],
          [
           "SHA-256"
          ],
          [
           "Blake2B + SHA3"
          ],
          [
           "C31"
          ],
          [
           "SHA-256"
          ],
          [
           "X16R"
          ],
          [
           "Scrypt"
          ],
          [
           "Scrypt"
          ],
          [
           "Scrypt"
          ],
          [
           "CryptoNight-Heavy"
          ],
          [
           "CryptoNight-Lite"
          ],
          [
           "SHA-256"
          ],
          [
           "SHA-256"
          ],
          [
           "Autolykos"
          ],
          [
           "SHA-256"
          ],
          [
           "Scrypt"
          ],
          [
           "Scrypt"
          ],
          [
           "Scrypt-n"
          ],
          [
           "Scrypt"
          ],
          [
           "Groestl"
          ],
          [
           "TRC10"
          ],
          [
           "KECCAK"
          ],
          [
           "CryptoNight"
          ],
          [
           "IMesh"
          ],
          [
           "RandomX"
          ],
          [
           "HEX"
          ],
          [
           "X13"
          ],
          [
           "SHA-256"
          ],
          [
           "DPoS"
          ],
          [
           "X11"
          ],
          [
           "Equihash"
          ],
          [
           "Scrypt"
          ],
          [
           "SHA-256"
          ],
          [
           "Scrypt"
          ],
          [
           "Dagger-Hashimoto"
          ],
          [
           "Scrypt"
          ],
          [
           "Scrypt"
          ],
          [
           "PoS"
          ],
          [
           "Equihash"
          ],
          [
           "Lyra2REv2"
          ],
          [
           "Scrypt"
          ],
          [
           "BLAKE256"
          ],
          [
           "SHA-256"
          ],
          [
           "C31"
          ],
          [
           "BEP2 Token"
          ],
          [
           "SHA-256"
          ],
          [
           "Quark"
          ],
          [
           "Ethash"
          ],
          [
           "Scrypt"
          ],
          [
           "Scrypt"
          ],
          [
           "Scrypt"
          ],
          [
           "DPoS"
          ],
          [
           "SHA-256"
          ],
          [
           "Scrypt"
          ],
          [
           "X11GOST"
          ],
          [
           "Equihash"
          ],
          [
           "Groestl"
          ],
          [
           "BMW512 / Echo512"
          ],
          [
           "Scrypt"
          ],
          [
           "NeoScrypt"
          ],
          [
           "X11"
          ],
          [
           "Scrypt"
          ],
          [
           "MTP"
          ],
          [
           "X13"
          ],
          [
           "DPoS"
          ],
          [
           "Multiple"
          ],
          [
           "Shabal256"
          ],
          [
           "Blake2b"
          ],
          [
           "Proof-of-Authority"
          ],
          [
           "N/A"
          ],
          [
           "Tensority"
          ],
          [
           "BLAKE256"
          ],
          [
           "Quark"
          ],
          [
           "Equihash"
          ],
          [
           "SHA-256"
          ],
          [
           "Equihash210,9"
          ],
          [
           "DPoS"
          ],
          [
           "X13"
          ],
          [
           "SHA3"
          ],
          [
           "Multiple"
          ],
          [
           "VeChainThor Authority"
          ],
          [
           "POS 3.0"
          ],
          [
           "Quark"
          ],
          [
           "Blake2b"
          ],
          [
           "VBFT"
          ],
          [
           "Ethash"
          ],
          [
           "DPoS"
          ],
          [
           "Loopchain"
          ],
          [
           "PoS"
          ],
          [
           "SHA-512"
          ],
          [
           "Ethash"
          ],
          [
           "Ouroboros"
          ],
          [
           "DPoS"
          ]
         ],
         "hovertemplate": "<b>%{hovertext}</b><br><br>Class=%{marker.color}<br>PC 1=%{x}<br>PC 2=%{y}<br>PC 3=%{z}<br>Algorithm=%{customdata[0]}<extra></extra>",
         "hovertext": [
          "42 Coin",
          "365Coin",
          "404Coin",
          "SixEleven",
          "808",
          "EliteCoin",
          "2015 coin",
          "BetaCoin",
          "MyriadCoin",
          "SexCoin",
          "NovaCoin",
          "VeriCoin",
          "CounterParty",
          "NuShares",
          "MonaCoin",
          "Triangles Coin",
          "Curecoin",
          "BitcoinPlus",
          "XCoin",
          "Sphere Coin",
          "Paycon",
          "Radium",
          "Emercoin",
          "OKCash",
          "SafeExchangeCoin",
          "CometCoin",
          "Karbo",
          "Opair",
          "LuckyBlocks",
          "FistBump",
          "Stakenet",
          "PAC Global",
          "OpenChat",
          "Prizm",
          "Dynamic",
          "Dinastycoin",
          "Particl",
          "Amber",
          "BitcoinZ",
          "Pura",
          "Super Bitcoin",
          "HTML Coin",
          "UnitedBitcoin",
          "TokenPay",
          "Bitcoin Private",
          "Callisto Network",
          "Aidos Kuneen",
          "Zelcash",
          "Semux",
          "BitBlocks",
          "Haven Protocol",
          "Monero Classic",
          "Dero",
          "VideoCoin",
          "Giant",
          "Vitae",
          "EUNO",
          "NIX",
          "Kcash",
          "Actinium",
          "ETHER-1",
          "ABBC Coin",
          "Smart Bitcoin",
          "Beam",
          "V Systems",
          "Vidulum",
          "ESBC",
          "VeriBlock",
          "Bitcoin Rhodium",
          "Super Zero",
          "Foin",
          "Beldex",
          "Nervos Network",
          "CUTcoin",
          "Zano",
          "Eureka Coin",
          "Handshake",
          "MimbleWimbleCoin",
          "Arweave",
          "Ravencoin Classic",
          "Buxcoin",
          "Velox",
          "Primas",
          "Loki",
          "AEON",
          "Bitcoin Vault",
          "Bitcoin ABC",
          "Ergo",
          "Infinity Economics",
          "BlackCoin",
          "Auroracoin",
          "SpainCoin",
          "TerraCredit",
          "FairCoin",
          "BitTorrent",
          "SmartCash",
          "ByteCoin",
          "INT",
          "Monero",
          "XDNA",
          "Bitcoin Diamond",
          "SysCoin",
          "Lisk",
          "Dash",
          "Komodo",
          "GoldCoin",
          "Wibcoin",
          "SaluS",
          "Ubiq",
          "Reddcoin",
          "Dogecoin",
          "Nxt",
          "ZCash",
          "Vertcoin",
          "Litecoin",
          "Decred",
          "Bitcoin",
          "Grin",
          "Binance Coin",
          "Bitcoin SV",
          "QuarkCoin",
          "Expanse",
          "MegaCoin",
          "PotCoin",
          "Gulden",
          "Rise",
          "Namecoin",
          "Einsteinium",
          "SibCoin",
          "Bitcoin Gold",
          "Groestlcoin",
          "DigitalNote ",
          "ViaCoin",
          "FeatherCoin",
          "IOCoin",
          "WhiteCoin",
          "Firo",
          "CloakCoin",
          "Achain",
          "Verge",
          "BurstCoin",
          "Siacoin",
          "Poa Network",
          "Aeternity",
          "Bytom",
          "HyperCash",
          "BlockNet",
          "Horizen",
          "Bitcoin Cash",
          "Aion",
          "Shift",
          "NavCoin",
          "Nexus",
          "DigiByte",
          "VeChain",
          "QTUM",
          "Private Instant Verified Transaction",
          "Nano",
          "Ontology",
          "Ethereum Classic",
          "ARK",
          "ICON Project",
          "Steem",
          "Bitshares",
          "Ethereum",
          "Cardano",
          "EOS"
         ],
         "legendgroup": "3",
         "marker": {
          "color": [
           3,
           3,
           3,
           3,
           3,
           3,
           3,
           3,
           3,
           3,
           3,
           3,
           3,
           3,
           3,
           3,
           3,
           3,
           3,
           3,
           3,
           3,
           3,
           3,
           3,
           3,
           3,
           3,
           3,
           3,
           3,
           3,
           3,
           3,
           3,
           3,
           3,
           3,
           3,
           3,
           3,
           3,
           3,
           3,
           3,
           3,
           3,
           3,
           3,
           3,
           3,
           3,
           3,
           3,
           3,
           3,
           3,
           3,
           3,
           3,
           3,
           3,
           3,
           3,
           3,
           3,
           3,
           3,
           3,
           3,
           3,
           3,
           3,
           3,
           3,
           3,
           3,
           3,
           3,
           3,
           3,
           3,
           3,
           3,
           3,
           3,
           3,
           3,
           3,
           3,
           3,
           3,
           3,
           3,
           3,
           3,
           3,
           3,
           3,
           3,
           3,
           3,
           3,
           3,
           3,
           3,
           3,
           3,
           3,
           3,
           3,
           3,
           3,
           3,
           3,
           3,
           3,
           3,
           3,
           3,
           3,
           3,
           3,
           3,
           3,
           3,
           3,
           3,
           3,
           3,
           3,
           3,
           3,
           3,
           3,
           3,
           3,
           3,
           3,
           3,
           3,
           3,
           3,
           3,
           3,
           3,
           3,
           3,
           3,
           3,
           3,
           3,
           3,
           3,
           3,
           3,
           3,
           3,
           3,
           3,
           3,
           3,
           3,
           3,
           3,
           3,
           3
          ],
          "coloraxis": "coloraxis",
          "symbol": "circle"
         },
         "mode": "markers",
         "name": "3",
         "scene": "scene",
         "showlegend": true,
         "type": "scatter3d",
         "x": [
          4.222378452315314,
          4.201656528224923,
          4.222378452315314,
          3.9858700199689747,
          4.108922271905807,
          4.114141281784919,
          4.201656528224923,
          3.9858700199689747,
          3.7791581504922016,
          4.0993262003784805,
          4.222378447608845,
          4.2006333047138735,
          3.985870015980828,
          3.164271934844777,
          4.099326078227766,
          4.114141281530684,
          4.0993262003784805,
          3.514262204897525,
          4.108922271905807,
          4.222378452315314,
          4.114141281784919,
          3.1642808362273676,
          4.108922200636403,
          4.108922271905807,
          4.227580523665108,
          4.099326199047427,
          4.05092087347544,
          3.164280856363267,
          3.164280856363267,
          4.114141281784919,
          4.201889287755019,
          3.493540280807133,
          4.222375401225178,
          3.400806024488018,
          4.040096979925385,
          4.05092087347544,
          3.164280856363267,
          3.2799267474066265,
          4.070681568430737,
          4.078603989799477,
          3.985870019968975,
          4.108922271905807,
          3.985870019968975,
          3.2002904672241765,
          4.070681527699475,
          3.7863423584010403,
          4.050666275692036,
          4.193733318325518,
          3.2363998622355243,
          4.222378452315314,
          4.045651758598501,
          4.05092087347544,
          4.05092087347544,
          1.558361471296068,
          4.1334381132298255,
          3.425321865812037,
          4.201656528224923,
          4.05393997208958,
          3.898671197658448,
          4.035183087994657,
          3.7863423584010403,
          1.6078240333997038,
          3.985870019968975,
          4.0706810712689245,
          4.2448994727747715,
          4.0412304009312745,
          3.425321865812037,
          4.196000740561967,
          3.991089029848089,
          3.7863423584010403,
          1.602609310323164,
          4.050918738159146,
          4.032110271278509,
          3.2119655014264112,
          4.226014275591539,
          1.6026096034667934,
          4.043550723689092,
          4.044295141013749,
          3.985869822111804,
          4.049105257927945,
          4.222377765959037,
          3.514262204897525,
          4.099325895269468,
          4.045651679204658,
          4.040541123651074,
          3.985869972426902,
          3.9858699595531717,
          4.039961429027638,
          3.400806024488018,
          3.514261960197544,
          4.22237839127483,
          4.047831315379248,
          4.222378452315314,
          4.200187020780567,
          3.232066516173118,
          4.030227183589489,
          4.050358042780595,
          4.125465218124723,
          4.041960147894374,
          4.228179342701221,
          4.114140657831669,
          3.9858677453821616,
          3.040671170305723,
          4.203980876228829,
          4.175387760188383,
          4.099326024450471,
          3.982818878785851,
          4.222378450741259,
          4.04928674004089,
          4.222332884627761,
          4.0991316693938495,
          3.689467723348393,
          4.0706815201732285,
          4.053939755449903,
          4.099325970553232,
          4.231952496890773,
          3.9858699595839218,
          4.044295100439477,
          3.2274338373262483,
          3.985869959543735,
          4.133437704954871,
          3.7863421528729058,
          4.099326076279706,
          4.222377467731044,
          4.099322834138946,
          3.0187274561209145,
          3.985869993688479,
          4.099325863224384,
          4.044629137751127,
          4.070681508012887,
          4.077134491797813,
          4.223398013752159,
          4.099326165040569,
          3.330856575694175,
          4.201656466293064,
          4.222375547827784,
          4.044391747872503,
          4.114141273300175,
          3.040669863077991,
          3.779107860552922,
          4.244166866622398,
          4.045728070738303,
          3.27736181852723,
          1.5583617098811848,
          4.036544089735597,
          4.2319523511397765,
          4.133438101955125,
          4.070681520239519,
          3.9858699595354796,
          4.231693457643795,
          3.040671366034339,
          4.114141174163753,
          4.197268793215336,
          3.7791049176277176,
          4.227017192555455,
          3.2002901455488835,
          4.133438112017511,
          4.045796635028226,
          3.1995877128077725,
          3.786341847692116,
          3.0406711528006625,
          3.2039867513177165,
          3.7493442826562764,
          3.313893421884409,
          3.7863421845622787,
          3.1984151694626917,
          3.0406698239800827
         ],
         "y": [
          0.017867382953018717,
          0.008468049051139931,
          0.017867382953021017,
          -0.013286441709084393,
          0.00006368476462335424,
          0.023831058959508038,
          0.008468049051142314,
          -0.013286441709082941,
          0.04158162199968989,
          0.004517256479305077,
          0.01786738905256866,
          -0.12738107082451286,
          -0.01328643654047243,
          -0.003881836584100656,
          0.004517414785758945,
          0.02383105928899411,
          0.004517256479304935,
          0.01302399899258692,
          0.00006368476462898114,
          0.017867382953017683,
          0.023831058959504766,
          -0.0038933727243870534,
          0.00006377712926623931,
          0.00006368476462898114,
          0.06997169232652262,
          0.004517258204337968,
          -0.02271626416975954,
          -0.0038933988083584684,
          -0.0038933988083584684,
          0.023831058959504766,
          -0.08256525845965317,
          0.003624665090709688,
          0.017871335809593554,
          -0.004779699195801475,
          -0.06757953822929899,
          -0.02271626416975954,
          -0.0038933988083584684,
          0.12534657931121324,
          0.06790234631993525,
          -0.004881706135378608,
          -0.01328644170908284,
          0.00006368476462898114,
          -0.01328644170908284,
          0.08240368250891608,
          0.06790239907683601,
          0.056471467778519656,
          -0.027210189509047918,
          0.08125312315633043,
          0.04662474368606419,
          0.017867382953017683,
          0.04292707365180192,
          -0.02271626416975954,
          -0.02271626416975954,
          0.019453728962182705,
          0.04521700532377699,
          0.040373621363344984,
          0.008468049051140075,
          -0.021094140644512743,
          -0.09315877793942642,
          0.048192048104138206,
          0.056471467778519656,
          -0.00013708191707334375,
          -0.01328644170908284,
          0.06790299028660843,
          -12.248177604933941,
          0.12418678802532862,
          0.040373621363344984,
          -16.10219948218672,
          0.01048093248579131,
          0.056471467778519656,
          -0.023910009906340908,
          -0.02271349681508918,
          0.09644132719923786,
          0.18533815328196124,
          0.056269590801029334,
          -0.02391038968494496,
          -0.015565850258756111,
          -0.12109533586104734,
          -0.013286185375675557,
          0.08449260094803226,
          0.01786827246585127,
          0.01302399899258692,
          0.00451765176496275,
          0.04292717654565805,
          0.048142002074286365,
          -0.013286380122920053,
          -0.013286363438655274,
          -0.005357797829371581,
          -0.004779699195801475,
          0.01302431598856826,
          0.017867462033025642,
          -0.04393599816857348,
          0.017867382953017683,
          -0.0024094152549522722,
          0.126878254253544,
          0.14756585616633638,
          -0.021987085775245416,
          -0.08151471200284269,
          0.20516396597055506,
          0.12445506875687545,
          0.023831867318229352,
          -0.013283495045812365,
          -0.06518357534446881,
          -0.02333438656959467,
          0.22611049648209422,
          0.004517484384340335,
          -0.00933351900083623,
          0.017867384992980673,
          -0.151275790737137,
          0.01792643835069982,
          0.004769367246286663,
          -0.11736488693766729,
          0.06790240883329682,
          -0.021093859993135095,
          0.004517554219091924,
          0.2157906275187532,
          -0.01328636347850929,
          -0.12109528325038993,
          -0.034514271042966525,
          -0.013286363426427578,
          0.045217534445202524,
          0.05647173400806499,
          0.004517417254386221,
          0.017868658406729323,
          0.004521616859820758,
          -0.04111924311564386,
          -0.013286407649748418,
          0.0045176934286059916,
          -0.04715834253304541,
          0.06790242459301171,
          -0.01575918281924858,
          0.04686438249069392,
          0.004517302276984526,
          -0.029687708656147758,
          0.00846812928502921,
          0.017871145813663118,
          -0.04743524214711532,
          0.02383106995567478,
          -0.06518188118666315,
          0.04164677530998026,
          0.17758534672444234,
          0.22344368531268485,
          0.15177634670419746,
          0.019453420111204982,
          -0.1357169634065748,
          0.21579081632693237,
          0.04521701993570715,
          0.0679024087473884,
          -0.013286363415729205,
          0.010590973865390353,
          -0.06518382900735704,
          0.023831198435769998,
          -21.192275097440582,
          0.04165058338837636,
          13.942502740100354,
          0.082404099253914,
          0.04521700689492847,
          0.22335482630473155,
          -0.047771045073529875,
          0.056472129372466345,
          -0.06518355265803696,
          -0.08802630578329702,
          -0.012399403658126683,
          -0.019974127833927078,
          0.05647169307231012,
          0.21122059317248904,
          -0.06518183051605372
         ],
         "z": [
          -0.17833883263169087,
          -0.12317455699374512,
          -0.17833883263169728,
          -0.08337228240553064,
          -0.17394332347589414,
          -0.25655487390240983,
          -0.12317455699374118,
          -0.08337228240553118,
          -0.11167879732181643,
          -0.08776779156133388,
          -0.17833886909248167,
          -0.0032799659475472526,
          -0.08337231330151555,
          -0.05399332964838528,
          -0.0877687378569404,
          -0.2565548758719738,
          -0.08776779156133394,
          -0.02811834141990783,
          -0.17394332347589084,
          -0.17833883263169292,
          -0.25655487390241155,
          -0.0539243709936408,
          -0.17394387559646468,
          -0.17394332347589084,
          -0.2107246180173342,
          -0.0877678018729232,
          0.0047856293774661525,
          -0.05392421508142548,
          -0.05392421508142548,
          -0.25655487390241155,
          0.1538381269613447,
          0.027045934218043164,
          -0.17836246043191073,
          -0.023722832264105754,
          -0.1681694724854931,
          0.0047856293774661525,
          -0.05392421508142548,
          0.1856435856274011,
          -0.12207530867730074,
          -0.032605735336631435,
          -0.0833722824055311,
          -0.17394332347589084,
          -0.0833722824055311,
          0.12843841830187233,
          -0.1220756240180611,
          -0.030728118777296125,
          -0.08174384402481603,
          -0.21265023718528056,
          -0.02266101099220832,
          -0.17833883263169292,
          -0.04432697423571605,
          0.0047856293774661525,
          0.0047856293774661525,
          -0.10795713815923963,
          -0.20060407682795323,
          -0.05038358561616953,
          -0.12317455699374097,
          -0.0784816398221664,
          -0.6289865054839979,
          -0.06739837357976543,
          -0.030728118777296125,
          -0.12965973341680845,
          -0.0833722824055311,
          -0.12207915783562832,
          0.608236612566822,
          -0.033548203860467536,
          -0.05038358561616953,
          -21.84671092861652,
          -0.16598383283205317,
          -0.030728118777296125,
          -0.047014985743792606,
          0.004769087186673149,
          -0.08282712110663518,
          0.2515873758157102,
          -0.29747372739994554,
          -0.047012715659021286,
          -0.012423492506630888,
          -0.0015803682919398126,
          -0.08337381461153656,
          -0.040996508627874746,
          -0.17834414980016935,
          -0.02811834141990783,
          -0.08777015434135568,
          -0.044327589295947004,
          -0.06078891356921878,
          -0.08337265052587861,
          -0.08337275025805327,
          -0.020694729121440235,
          -0.023722832264105754,
          -0.028120236214103797,
          -0.1783393053235765,
          -0.14257760429158922,
          -0.17833883263169292,
          -0.1957600812775094,
          -0.010986320015011083,
          0.012996280076778466,
          0.000427039306321172,
          -0.11638050349494924,
          -0.05836656733965009,
          -0.31686129836982513,
          -0.2565597057801191,
          -0.08338989566322494,
          0.024847763973273117,
          0.009045753872155768,
          -0.27912786080144114,
          -0.08776915382794748,
          -0.10700047792282977,
          -0.17833884482581552,
          0.03935708480972126,
          -0.17869184327624396,
          -0.08927481357530474,
          -0.41494414273405716,
          -0.12207568234008546,
          -0.07848331737608046,
          -0.08776957126324447,
          -0.28871339941902735,
          -0.08337275001981956,
          -0.0015806827957609013,
          0.1490923682314154,
          -0.08337275033114606,
          -0.20060723971403482,
          -0.030729710109100066,
          -0.08776875257696101,
          -0.17834645644263325,
          -0.0877938547934325,
          0.04744638822575558,
          -0.08337248599924445,
          -0.08777040347760867,
          -0.011042401082623146,
          -0.122075776545656,
          -0.10519118553953274,
          -0.3542400063153502,
          -0.08776806532239488,
          -0.004070509909521605,
          -0.12317503658221372,
          -0.1783613247087014,
          -0.07090358074990764,
          -0.25655493963332815,
          0.024837636944042417,
          -0.11206824457871128,
          -0.3487884896903622,
          -0.08057497602903402,
          0.27521944430851397,
          -0.10795529219612926,
          -0.06917136763722702,
          -0.2887145279875794,
          -0.2006041641724985,
          -0.12207568182656044,
          -0.08337275039509515,
          -0.3079156952188531,
          0.024849280273278828,
          -0.2565557076383307,
          3.8792972067987193,
          -0.11209100395704406,
          1.599967764541447,
          0.12843592725288985,
          -0.20060408621970063,
          -0.0800438106531377,
          0.21022812666223153,
          -0.030732073350524112,
          0.024847628362435596,
          0.06249296749640066,
          -0.11357807469401246,
          -0.22024124560508196,
          -0.030729465497652996,
          0.19567952805374675,
          0.024837334054456484
         ]
        },
        {
         "customdata": [
          [
           "N/A"
          ],
          [
           "N/A"
          ],
          [
           "N/A"
          ],
          [
           "N/A"
          ],
          [
           "N/A"
          ],
          [
           "N/A"
          ],
          [
           "N/A"
          ],
          [
           "N/A"
          ],
          [
           "N/A"
          ],
          [
           "N/A"
          ],
          [
           "N/A"
          ],
          [
           "N/A"
          ],
          [
           "N/A"
          ],
          [
           "N/A"
          ],
          [
           "N/A"
          ],
          [
           "N/A"
          ],
          [
           "N/A"
          ],
          [
           "N/A"
          ],
          [
           "N/A"
          ],
          [
           "N/A"
          ],
          [
           "N/A"
          ],
          [
           "N/A"
          ],
          [
           "N/A"
          ],
          [
           "N/A"
          ],
          [
           "N/A"
          ],
          [
           "N/A"
          ],
          [
           "N/A"
          ],
          [
           "N/A"
          ],
          [
           "N/A"
          ],
          [
           "N/A"
          ],
          [
           "N/A"
          ],
          [
           "N/A"
          ],
          [
           "N/A"
          ],
          [
           "N/A"
          ],
          [
           "N/A"
          ],
          [
           "N/A"
          ],
          [
           "N/A"
          ],
          [
           "N/A"
          ],
          [
           "N/A"
          ],
          [
           "N/A"
          ],
          [
           "N/A"
          ],
          [
           "N/A"
          ],
          [
           "N/A"
          ],
          [
           "N/A"
          ],
          [
           "N/A"
          ],
          [
           "N/A"
          ],
          [
           "N/A"
          ],
          [
           "N/A"
          ],
          [
           "N/A"
          ],
          [
           "N/A"
          ],
          [
           "N/A"
          ],
          [
           "N/A"
          ],
          [
           "N/A"
          ],
          [
           "N/A"
          ],
          [
           "N/A"
          ],
          [
           "N/A"
          ],
          [
           "N/A"
          ],
          [
           "N/A"
          ],
          [
           "N/A"
          ],
          [
           "N/A"
          ],
          [
           "N/A"
          ],
          [
           "N/A"
          ],
          [
           "N/A"
          ],
          [
           "N/A"
          ],
          [
           "N/A"
          ],
          [
           "N/A"
          ],
          [
           "N/A"
          ],
          [
           "NEP-5"
          ],
          [
           "N/A"
          ],
          [
           "N/A"
          ],
          [
           "N/A"
          ],
          [
           "N/A"
          ],
          [
           "N/A"
          ],
          [
           "N/A"
          ],
          [
           "N/A"
          ],
          [
           "N/A"
          ],
          [
           "N/A"
          ],
          [
           "N/A"
          ],
          [
           "N/A"
          ],
          [
           "N/A"
          ],
          [
           "N/A"
          ],
          [
           "N/A"
          ],
          [
           "N/A"
          ],
          [
           "N/A"
          ],
          [
           "N/A"
          ],
          [
           "N/A"
          ],
          [
           "N/A"
          ],
          [
           "N/A"
          ],
          [
           "N/A"
          ],
          [
           "N/A"
          ],
          [
           "N/A"
          ],
          [
           "NEP-5"
          ],
          [
           "N/A"
          ],
          [
           "N/A"
          ],
          [
           "N/A"
          ],
          [
           "N/A"
          ],
          [
           "N/A"
          ],
          [
           "N/A"
          ],
          [
           "N/A"
          ],
          [
           "N/A"
          ],
          [
           "N/A"
          ],
          [
           "N/A"
          ],
          [
           "N/A"
          ],
          [
           "N/A"
          ],
          [
           "N/A"
          ],
          [
           "N/A"
          ],
          [
           "N/A"
          ],
          [
           "N/A"
          ],
          [
           "N/A"
          ],
          [
           "N/A"
          ],
          [
           "N/A"
          ],
          [
           "N/A"
          ],
          [
           "N/A"
          ],
          [
           "N/A"
          ],
          [
           "N/A"
          ],
          [
           "N/A"
          ],
          [
           "N/A"
          ],
          [
           "N/A"
          ],
          [
           "N/A"
          ],
          [
           "N/A"
          ],
          [
           "N/A"
          ],
          [
           "N/A"
          ],
          [
           "N/A"
          ],
          [
           "N/A"
          ],
          [
           "N/A"
          ],
          [
           "NeoScrypt"
          ],
          [
           "N/A"
          ],
          [
           "N/A"
          ],
          [
           "N/A"
          ],
          [
           "N/A"
          ],
          [
           "N/A"
          ],
          [
           "N/A"
          ],
          [
           "N/A"
          ],
          [
           "N/A"
          ],
          [
           "N/A"
          ],
          [
           "N/A"
          ],
          [
           "N/A"
          ],
          [
           "N/A"
          ],
          [
           "N/A"
          ],
          [
           "N/A"
          ],
          [
           "N/A"
          ],
          [
           "N/A"
          ],
          [
           "N/A"
          ],
          [
           "N/A"
          ],
          [
           "N/A"
          ],
          [
           "N/A"
          ],
          [
           "N/A"
          ],
          [
           "N/A"
          ],
          [
           "N/A"
          ],
          [
           "N/A"
          ],
          [
           "N/A"
          ],
          [
           "N/A"
          ],
          [
           "N/A"
          ],
          [
           "N/A"
          ],
          [
           "N/A"
          ],
          [
           "N/A"
          ],
          [
           "N/A"
          ],
          [
           "N/A"
          ],
          [
           "N/A"
          ],
          [
           "N/A"
          ],
          [
           "N/A"
          ],
          [
           "N/A"
          ],
          [
           "N/A"
          ],
          [
           "N/A"
          ],
          [
           "N/A"
          ],
          [
           "N/A"
          ],
          [
           "N/A"
          ],
          [
           "N/A"
          ],
          [
           "N/A"
          ],
          [
           "N/A"
          ],
          [
           "N/A"
          ],
          [
           "N/A"
          ],
          [
           "N/A"
          ],
          [
           "N/A"
          ],
          [
           "N/A"
          ],
          [
           "N/A"
          ],
          [
           "N/A"
          ],
          [
           "N/A"
          ],
          [
           "N/A"
          ],
          [
           "N/A"
          ],
          [
           "N/A"
          ],
          [
           "N/A"
          ],
          [
           "N/A"
          ],
          [
           "N/A"
          ],
          [
           "N/A"
          ],
          [
           "N/A"
          ],
          [
           "N/A"
          ],
          [
           "N/A"
          ],
          [
           "N/A"
          ],
          [
           "N/A"
          ],
          [
           "N/A"
          ],
          [
           "N/A"
          ],
          [
           "N/A"
          ],
          [
           "N/A"
          ],
          [
           "N/A"
          ],
          [
           "N/A"
          ],
          [
           "N/A"
          ],
          [
           "N/A"
          ],
          [
           "N/A"
          ],
          [
           "N/A"
          ],
          [
           "N/A"
          ],
          [
           "N/A"
          ],
          [
           "N/A"
          ],
          [
           "N/A"
          ],
          [
           "N/A"
          ],
          [
           "N/A"
          ],
          [
           "N/A"
          ],
          [
           "N/A"
          ],
          [
           "N/A"
          ],
          [
           "N/A"
          ],
          [
           "N/A"
          ],
          [
           "N/A"
          ],
          [
           "N/A"
          ],
          [
           "N/A"
          ],
          [
           "N/A"
          ],
          [
           "N/A"
          ],
          [
           "N/A"
          ],
          [
           "N/A"
          ],
          [
           "N/A"
          ],
          [
           "N/A"
          ],
          [
           "N/A"
          ],
          [
           "N/A"
          ],
          [
           "N/A"
          ],
          [
           "N/A"
          ],
          [
           "N/A"
          ],
          [
           "N/A"
          ],
          [
           "N/A"
          ],
          [
           "N/A"
          ],
          [
           "N/A"
          ],
          [
           "N/A"
          ],
          [
           "N/A"
          ],
          [
           "N/A"
          ],
          [
           "N/A"
          ],
          [
           "N/A"
          ],
          [
           "N/A"
          ],
          [
           "N/A"
          ],
          [
           "N/A"
          ],
          [
           "N/A"
          ],
          [
           "N/A"
          ],
          [
           "N/A"
          ],
          [
           "N/A"
          ],
          [
           "N/A"
          ],
          [
           "N/A"
          ],
          [
           "N/A"
          ],
          [
           "N/A"
          ],
          [
           "N/A"
          ],
          [
           "N/A"
          ],
          [
           "N/A"
          ],
          [
           "N/A"
          ],
          [
           "N/A"
          ],
          [
           "N/A"
          ],
          [
           "N/A"
          ],
          [
           "N/A"
          ],
          [
           "N/A"
          ],
          [
           "N/A"
          ],
          [
           "N/A"
          ],
          [
           "N/A"
          ],
          [
           "N/A"
          ],
          [
           "N/A"
          ],
          [
           "N/A"
          ],
          [
           "N/A"
          ],
          [
           "N/A"
          ],
          [
           "N/A"
          ],
          [
           "N/A"
          ],
          [
           "N/A"
          ],
          [
           "N/A"
          ],
          [
           "N/A"
          ],
          [
           "N/A"
          ],
          [
           "BEP-2"
          ],
          [
           "N/A"
          ],
          [
           "N/A"
          ],
          [
           "N/A"
          ],
          [
           "N/A"
          ],
          [
           "N/A"
          ],
          [
           "N/A"
          ],
          [
           "N/A"
          ],
          [
           "N/A"
          ],
          [
           "N/A"
          ],
          [
           "N/A"
          ],
          [
           "N/A"
          ],
          [
           "N/A"
          ],
          [
           "N/A"
          ],
          [
           "N/A"
          ],
          [
           "N/A"
          ],
          [
           "N/A"
          ],
          [
           "N/A"
          ],
          [
           "N/A"
          ],
          [
           "N/A"
          ],
          [
           "N/A"
          ],
          [
           "N/A"
          ],
          [
           "N/A"
          ],
          [
           "N/A"
          ],
          [
           "N/A"
          ],
          [
           "N/A"
          ],
          [
           "N/A"
          ],
          [
           "N/A"
          ],
          [
           "N/A"
          ],
          [
           "N/A"
          ],
          [
           "N/A"
          ],
          [
           "N/A"
          ],
          [
           "N/A"
          ],
          [
           "N/A"
          ],
          [
           "N/A"
          ],
          [
           "N/A"
          ],
          [
           "N/A"
          ],
          [
           "N/A"
          ],
          [
           "N/A"
          ],
          [
           "N/A"
          ],
          [
           "N/A"
          ],
          [
           "N/A"
          ],
          [
           "N/A"
          ],
          [
           "N/A"
          ],
          [
           "N/A"
          ],
          [
           "N/A"
          ],
          [
           "N/A"
          ],
          [
           "N/A"
          ],
          [
           "N/A"
          ],
          [
           "N/A"
          ],
          [
           "N/A"
          ],
          [
           "N/A"
          ],
          [
           "N/A"
          ],
          [
           "N/A"
          ],
          [
           "N/A"
          ],
          [
           "N/A"
          ],
          [
           "N/A"
          ],
          [
           "N/A"
          ],
          [
           "N/A"
          ],
          [
           "N/A"
          ],
          [
           "N/A"
          ],
          [
           "N/A"
          ],
          [
           "N/A"
          ],
          [
           "N/A"
          ],
          [
           "N/A"
          ],
          [
           "N/A"
          ],
          [
           "N/A"
          ],
          [
           "N/A"
          ],
          [
           "N/A"
          ],
          [
           "N/A"
          ],
          [
           "N/A"
          ],
          [
           "N/A"
          ],
          [
           "N/A"
          ],
          [
           "N/A"
          ],
          [
           "N/A"
          ],
          [
           "N/A"
          ],
          [
           "N/A"
          ],
          [
           "N/A"
          ],
          [
           "N/A"
          ],
          [
           "N/A"
          ],
          [
           "N/A"
          ],
          [
           "N/A"
          ],
          [
           "N/A"
          ],
          [
           "N/A"
          ],
          [
           "N/A"
          ],
          [
           "N/A"
          ],
          [
           "N/A"
          ],
          [
           "N/A"
          ],
          [
           "N/A"
          ],
          [
           "N/A"
          ],
          [
           "N/A"
          ],
          [
           "N/A"
          ],
          [
           "N/A"
          ],
          [
           "N/A"
          ],
          [
           "N/A"
          ],
          [
           "N/A"
          ],
          [
           "N/A"
          ],
          [
           "N/A"
          ],
          [
           "N/A"
          ],
          [
           "N/A"
          ],
          [
           "N/A"
          ],
          [
           "N/A"
          ],
          [
           "N/A"
          ],
          [
           "N/A"
          ],
          [
           "N/A"
          ],
          [
           "N/A"
          ],
          [
           "N/A"
          ],
          [
           "N/A"
          ],
          [
           "N/A"
          ],
          [
           "NEP-5"
          ],
          [
           "N/A"
          ],
          [
           "N/A"
          ],
          [
           "N/A"
          ],
          [
           "N/A"
          ],
          [
           "N/A"
          ],
          [
           "N/A"
          ],
          [
           "N/A"
          ],
          [
           "N/A"
          ],
          [
           "N/A"
          ],
          [
           "N/A"
          ],
          [
           "N/A"
          ],
          [
           "N/A"
          ],
          [
           "N/A"
          ],
          [
           "N/A"
          ],
          [
           "N/A"
          ],
          [
           "N/A"
          ],
          [
           "N/A"
          ],
          [
           "N/A"
          ],
          [
           "N/A"
          ],
          [
           "N/A"
          ],
          [
           "N/A"
          ],
          [
           "N/A"
          ],
          [
           "NeoScrypt"
          ],
          [
           "N/A"
          ],
          [
           "N/A"
          ],
          [
           "N/A"
          ],
          [
           "N/A"
          ],
          [
           "N/A"
          ],
          [
           "N/A"
          ],
          [
           "N/A"
          ],
          [
           "N/A"
          ],
          [
           "N/A"
          ],
          [
           "N/A"
          ],
          [
           "N/A"
          ],
          [
           "N/A"
          ],
          [
           "N/A"
          ],
          [
           "N/A"
          ],
          [
           "N/A"
          ],
          [
           "N/A"
          ],
          [
           "N/A"
          ],
          [
           "N/A"
          ],
          [
           "N/A"
          ],
          [
           "N/A"
          ],
          [
           "N/A"
          ],
          [
           "N/A"
          ],
          [
           "N/A"
          ],
          [
           "N/A"
          ],
          [
           "N/A"
          ],
          [
           "N/A"
          ],
          [
           "N/A"
          ],
          [
           "N/A"
          ],
          [
           "N/A"
          ],
          [
           "N/A"
          ],
          [
           "N/A"
          ],
          [
           "N/A"
          ],
          [
           "N/A"
          ],
          [
           "N/A"
          ],
          [
           "N/A"
          ],
          [
           "N/A"
          ],
          [
           "N/A"
          ],
          [
           "N/A"
          ],
          [
           "N/A"
          ],
          [
           "N/A"
          ],
          [
           "N/A"
          ],
          [
           "N/A"
          ],
          [
           "N/A"
          ],
          [
           "N/A"
          ],
          [
           "N/A"
          ],
          [
           "N/A"
          ],
          [
           "N/A"
          ],
          [
           "N/A"
          ],
          [
           "N/A"
          ],
          [
           "N/A"
          ],
          [
           "N/A"
          ],
          [
           "N/A"
          ],
          [
           "N/A"
          ],
          [
           "N/A"
          ],
          [
           "N/A"
          ],
          [
           "N/A"
          ],
          [
           "N/A"
          ],
          [
           "N/A"
          ],
          [
           "N/A"
          ],
          [
           "N/A"
          ],
          [
           "N/A"
          ],
          [
           "N/A"
          ],
          [
           "N/A"
          ],
          [
           "N/A"
          ],
          [
           "N/A"
          ],
          [
           "N/A"
          ],
          [
           "N/A"
          ],
          [
           "N/A"
          ],
          [
           "N/A"
          ],
          [
           "N/A"
          ],
          [
           "N/A"
          ],
          [
           "N/A"
          ],
          [
           "N/A"
          ],
          [
           "N/A"
          ],
          [
           "N/A"
          ],
          [
           "N/A"
          ],
          [
           "N/A"
          ],
          [
           "N/A"
          ],
          [
           "N/A"
          ],
          [
           "N/A"
          ],
          [
           "N/A"
          ],
          [
           "N/A"
          ],
          [
           "N/A"
          ],
          [
           "N/A"
          ],
          [
           "N/A"
          ],
          [
           "N/A"
          ],
          [
           "N/A"
          ],
          [
           "N/A"
          ],
          [
           "N/A"
          ],
          [
           "N/A"
          ],
          [
           "N/A"
          ],
          [
           "N/A"
          ],
          [
           "N/A"
          ],
          [
           "N/A"
          ],
          [
           "N/A"
          ],
          [
           "N/A"
          ],
          [
           "N/A"
          ],
          [
           "N/A"
          ],
          [
           "N/A"
          ],
          [
           "N/A"
          ],
          [
           "N/A"
          ],
          [
           "N/A"
          ],
          [
           "N/A"
          ],
          [
           "N/A"
          ],
          [
           "N/A"
          ],
          [
           "N/A"
          ],
          [
           "N/A"
          ],
          [
           "N/A"
          ],
          [
           "N/A"
          ],
          [
           "N/A"
          ],
          [
           "N/A"
          ],
          [
           "N/A"
          ],
          [
           "N/A"
          ],
          [
           "N/A"
          ],
          [
           "N/A"
          ],
          [
           "N/A"
          ],
          [
           "N/A"
          ],
          [
           "N/A"
          ],
          [
           "N/A"
          ],
          [
           "N/A"
          ],
          [
           "N/A"
          ],
          [
           "N/A"
          ],
          [
           "N/A"
          ],
          [
           "N/A"
          ],
          [
           "N/A"
          ],
          [
           "N/A"
          ],
          [
           "N/A"
          ],
          [
           "N/A"
          ],
          [
           "N/A"
          ],
          [
           "N/A"
          ],
          [
           "N/A"
          ],
          [
           "N/A"
          ],
          [
           "N/A"
          ],
          [
           "N/A"
          ],
          [
           "N/A"
          ],
          [
           "N/A"
          ],
          [
           "N/A"
          ],
          [
           "N/A"
          ],
          [
           "N/A"
          ],
          [
           "N/A"
          ],
          [
           "N/A"
          ],
          [
           "N/A"
          ],
          [
           "N/A"
          ],
          [
           "N/A"
          ],
          [
           "N/A"
          ],
          [
           "N/A"
          ],
          [
           "N/A"
          ],
          [
           "N/A"
          ],
          [
           "N/A"
          ],
          [
           "N/A"
          ],
          [
           "N/A"
          ],
          [
           "N/A"
          ],
          [
           "N/A"
          ],
          [
           "N/A"
          ],
          [
           "N/A"
          ],
          [
           "N/A"
          ],
          [
           "N/A"
          ],
          [
           "N/A"
          ],
          [
           "N/A"
          ],
          [
           "N/A"
          ],
          [
           "N/A"
          ],
          [
           "N/A"
          ],
          [
           "N/A"
          ],
          [
           "N/A"
          ],
          [
           "N/A"
          ],
          [
           "N/A"
          ],
          [
           "N/A"
          ],
          [
           "N/A"
          ],
          [
           "N/A"
          ],
          [
           "N/A"
          ],
          [
           "N/A"
          ],
          [
           "N/A"
          ],
          [
           "N/A"
          ],
          [
           "N/A"
          ],
          [
           "N/A"
          ],
          [
           "N/A"
          ],
          [
           "N/A"
          ],
          [
           "N/A"
          ],
          [
           "N/A"
          ],
          [
           "N/A"
          ],
          [
           "N/A"
          ],
          [
           "N/A"
          ],
          [
           "N/A"
          ],
          [
           "N/A"
          ],
          [
           "N/A"
          ],
          [
           "N/A"
          ],
          [
           "N/A"
          ],
          [
           "N/A"
          ],
          [
           "N/A"
          ],
          [
           "N/A"
          ],
          [
           "N/A"
          ],
          [
           "N/A"
          ],
          [
           "N/A"
          ],
          [
           "N/A"
          ],
          [
           "N/A"
          ],
          [
           "N/A"
          ],
          [
           "N/A"
          ],
          [
           "N/A"
          ],
          [
           "N/A"
          ],
          [
           "N/A"
          ],
          [
           "N/A"
          ],
          [
           "N/A"
          ],
          [
           "N/A"
          ],
          [
           "N/A"
          ],
          [
           "N/A"
          ],
          [
           "N/A"
          ],
          [
           "N/A"
          ],
          [
           "N/A"
          ],
          [
           "N/A"
          ],
          [
           "N/A"
          ],
          [
           "N/A"
          ],
          [
           "N/A"
          ],
          [
           "N/A"
          ],
          [
           "N/A"
          ],
          [
           "N/A"
          ],
          [
           "N/A"
          ],
          [
           "N/A"
          ],
          [
           "N/A"
          ],
          [
           "N/A"
          ],
          [
           "N/A"
          ],
          [
           "N/A"
          ],
          [
           "N/A"
          ],
          [
           "N/A"
          ],
          [
           "N/A"
          ],
          [
           "N/A"
          ],
          [
           "N/A"
          ],
          [
           "N/A"
          ],
          [
           "N/A"
          ],
          [
           "N/A"
          ],
          [
           "N/A"
          ],
          [
           "N/A"
          ],
          [
           "N/A"
          ],
          [
           "N/A"
          ],
          [
           "N/A"
          ],
          [
           "N/A"
          ],
          [
           "N/A"
          ],
          [
           "N/A"
          ],
          [
           "N/A"
          ],
          [
           "N/A"
          ],
          [
           "N/A"
          ],
          [
           "N/A"
          ],
          [
           "N/A"
          ],
          [
           "N/A"
          ],
          [
           "N/A"
          ],
          [
           "N/A"
          ],
          [
           "N/A"
          ],
          [
           "N/A"
          ],
          [
           "N/A"
          ],
          [
           "N/A"
          ],
          [
           "N/A"
          ],
          [
           "N/A"
          ],
          [
           "N/A"
          ],
          [
           "N/A"
          ],
          [
           "N/A"
          ],
          [
           "N/A"
          ],
          [
           "N/A"
          ],
          [
           "N/A"
          ],
          [
           "N/A"
          ],
          [
           "N/A"
          ],
          [
           "N/A"
          ],
          [
           "N/A"
          ],
          [
           "N/A"
          ],
          [
           "N/A"
          ],
          [
           "N/A"
          ],
          [
           "N/A"
          ],
          [
           "N/A"
          ],
          [
           "N/A"
          ],
          [
           "N/A"
          ],
          [
           "N/A"
          ],
          [
           "N/A"
          ],
          [
           "N/A"
          ],
          [
           "N/A"
          ],
          [
           "N/A"
          ],
          [
           "N/A"
          ],
          [
           "N/A"
          ],
          [
           "N/A"
          ],
          [
           "N/A"
          ],
          [
           "N/A"
          ],
          [
           "N/A"
          ],
          [
           "N/A"
          ],
          [
           "N/A"
          ],
          [
           "N/A"
          ],
          [
           "N/A"
          ],
          [
           "N/A"
          ],
          [
           "N/A"
          ],
          [
           "N/A"
          ],
          [
           "N/A"
          ],
          [
           "N/A"
          ],
          [
           "N/A"
          ],
          [
           "N/A"
          ],
          [
           "N/A"
          ],
          [
           "N/A"
          ],
          [
           "N/A"
          ],
          [
           "N/A"
          ],
          [
           "N/A"
          ],
          [
           "N/A"
          ],
          [
           "N/A"
          ],
          [
           "N/A"
          ],
          [
           "N/A"
          ],
          [
           "N/A"
          ],
          [
           "N/A"
          ],
          [
           "N/A"
          ],
          [
           "N/A"
          ],
          [
           "N/A"
          ],
          [
           "N/A"
          ],
          [
           "N/A"
          ],
          [
           "N/A"
          ],
          [
           "N/A"
          ],
          [
           "N/A"
          ],
          [
           "N/A"
          ],
          [
           "N/A"
          ],
          [
           "N/A"
          ],
          [
           "N/A"
          ],
          [
           "N/A"
          ],
          [
           "N/A"
          ],
          [
           "N/A"
          ],
          [
           "N/A"
          ],
          [
           "N/A"
          ],
          [
           "N/A"
          ],
          [
           "N/A"
          ],
          [
           "BEP20 Token"
          ],
          [
           "N/A"
          ],
          [
           "N/A"
          ],
          [
           "N/A"
          ],
          [
           "N/A"
          ],
          [
           "N/A"
          ],
          [
           "N/A"
          ],
          [
           "N/A"
          ],
          [
           "N/A"
          ],
          [
           "N/A"
          ],
          [
           "N/A"
          ],
          [
           "N/A"
          ],
          [
           "N/A"
          ],
          [
           "N/A"
          ],
          [
           "N/A"
          ],
          [
           "N/A"
          ],
          [
           "N/A"
          ],
          [
           "N/A"
          ],
          [
           "N/A"
          ],
          [
           "N/A"
          ],
          [
           "N/A"
          ],
          [
           "N/A"
          ],
          [
           "N/A"
          ],
          [
           "N/A"
          ],
          [
           "N/A"
          ],
          [
           "N/A"
          ],
          [
           "N/A"
          ],
          [
           "N/A"
          ],
          [
           "N/A"
          ],
          [
           "N/A"
          ],
          [
           "N/A"
          ],
          [
           "N/A"
          ],
          [
           "N/A"
          ],
          [
           "N/A"
          ],
          [
           "N/A"
          ],
          [
           "N/A"
          ],
          [
           "N/A"
          ],
          [
           "N/A"
          ],
          [
           "N/A"
          ],
          [
           "N/A"
          ],
          [
           "N/A"
          ],
          [
           "N/A"
          ],
          [
           "N/A"
          ],
          [
           "N/A"
          ],
          [
           "N/A"
          ],
          [
           "N/A"
          ],
          [
           "N/A"
          ],
          [
           "N/A"
          ],
          [
           "N/A"
          ],
          [
           "N/A"
          ],
          [
           "N/A"
          ],
          [
           "N/A"
          ],
          [
           "N/A"
          ],
          [
           "N/A"
          ],
          [
           "N/A"
          ],
          [
           "N/A"
          ],
          [
           "N/A"
          ],
          [
           "N/A"
          ],
          [
           "N/A"
          ],
          [
           "N/A"
          ],
          [
           "N/A"
          ],
          [
           "N/A"
          ],
          [
           "N/A"
          ],
          [
           "DPoS"
          ],
          [
           "N/A"
          ],
          [
           "N/A"
          ],
          [
           "N/A"
          ],
          [
           "N/A"
          ],
          [
           "N/A"
          ],
          [
           "Ethash"
          ],
          [
           "N/A"
          ],
          [
           "N/A"
          ],
          [
           "N/A"
          ],
          [
           "N/A"
          ],
          [
           "N/A"
          ],
          [
           "N/A"
          ],
          [
           "N/A"
          ],
          [
           "N/A"
          ],
          [
           "N/A"
          ],
          [
           "N/A"
          ],
          [
           "BEP2 Token"
          ],
          [
           "N/A"
          ],
          [
           "N/A"
          ],
          [
           "N/A"
          ],
          [
           "N/A"
          ],
          [
           "N/A"
          ],
          [
           "N/A"
          ],
          [
           "N/A"
          ],
          [
           "N/A"
          ],
          [
           "N/A"
          ],
          [
           "N/A"
          ],
          [
           "N/A"
          ],
          [
           "N/A"
          ],
          [
           "N/A"
          ],
          [
           "N/A"
          ],
          [
           "N/A"
          ],
          [
           "N/A"
          ],
          [
           "N/A"
          ],
          [
           "N/A"
          ],
          [
           "N/A"
          ],
          [
           "N/A"
          ],
          [
           "N/A"
          ],
          [
           "N/A"
          ],
          [
           "Multiple"
          ],
          [
           "N/A"
          ],
          [
           "N/A"
          ],
          [
           "N/A"
          ],
          [
           "N/A"
          ],
          [
           "N/A"
          ],
          [
           "N/A"
          ],
          [
           "N/A"
          ],
          [
           "N/A"
          ],
          [
           "KAWPOW"
          ],
          [
           "DPoS"
          ],
          [
           "N/A"
          ],
          [
           "N/A"
          ],
          [
           "N/A"
          ],
          [
           "N/A"
          ],
          [
           "N/A"
          ],
          [
           "PoS"
          ],
          [
           "N/A"
          ],
          [
           "N/A"
          ],
          [
           "N/A"
          ],
          [
           "N/A"
          ],
          [
           "Ethash"
          ],
          [
           "N/A"
          ],
          [
           "N/A"
          ],
          [
           "N/A"
          ],
          [
           "N/A"
          ],
          [
           "N/A"
          ],
          [
           "dBFT2.0"
          ],
          [
           "N/A"
          ],
          [
           "N/A"
          ],
          [
           "N/A"
          ],
          [
           "N/A"
          ],
          [
           "N/A"
          ],
          [
           "N/A"
          ],
          [
           "N/A"
          ],
          [
           "N/A"
          ]
         ],
         "hovertemplate": "<b>%{hovertext}</b><br><br>Class=%{marker.color}<br>PC 1=%{x}<br>PC 2=%{y}<br>PC 3=%{z}<br>Algorithm=%{customdata[0]}<extra></extra>",
         "hovertext": [
          "300 token",
          "Octocoin",
          "GeoCoin",
          "MaidSafe Coin",
          "Factom",
          "Digix DAO",
          "Bancor Network Token",
          "LBRY Credits",
          "SingularDTV",
          "Wings DAO",
          "bitCNY",
          "Peerplays",
          "Mycelium Token",
          "Veros",
          "Nexium",
          "iEx.ec",
          "Gnosis",
          "XTRABYTES",
          "Lunyr",
          "Basic Attention Token",
          "ZrCoin",
          "Status Network Token",
          "Crypto.com",
          "Numeraire",
          "AdEx",
          "Polybius",
          "Nimiq",
          "district0x",
          "Suretly",
          "CryptoPing",
          "DAOBet",
          "Santiment",
          "Wagerr",
          "SunContract",
          "Oax",
          "EncrypGen",
          "LATOKEN",
          "0x",
          "Tierion",
          "Storj",
          "Crypviser",
          "Viberate",
          "Decentraland",
          "Mobius",
          "KickToken",
          "Monetha",
          "Gas",
          "Dentacoin",
          "Agrello Delta",
          "Ignis",
          "Utrust",
          "Enjin Coin",
          "Etherparty",
          "Cappasity",
          "Ripio",
          "Chainlink",
          "Kyber Network",
          "Salt Lending",
          "Yoyow",
          "Request Network",
          "Datum",
          "VIBEHub",
          "AirSwap",
          "Cindicator",
          "Covesting",
          "Power Ledger",
          "Crypto20",
          "Red Pulse Phoenix",
          "Zeusshield",
          "Soma",
          "KuCoin Shares",
          "WePower",
          "Dragonchain",
          "Streamr DATAcoin",
          "HEROcoin",
          "Insolar",
          "Neumark",
          "BlockMason Credit Protocol",
          "Genesis Vision",
          "Jibrel Network Token",
          "Aave",
          "Sether",
          "CoinFi",
          "FlypMe",
          "Adbank",
          "LockTrip",
          "HOQU",
          "MediBloc",
          "Bounty0x",
          "Bread token",
          "aelf",
          "DeepBrain Chain",
          "REMME",
          "QLC Chain",
          "Energo",
          "PumaPay",
          "MediShares",
          "Game",
          "Ink",
          "Telcoin",
          "Zap",
          "AI Doctor",
          "EchoLink",
          "Bottos",
          "IDEX",
          "CommerceBlock Token",
          "Data",
          "CarVertical",
          "Odyssey",
          "Theta",
          "OriginTrail",
          "Qbao",
          "SwftCoin",
          "Sentinel",
          "InsurePal",
          "Scry.info",
          "CPChain",
          "Zeepin",
          "LeadCoin",
          "BlockCDN ",
          "STK Token",
          "Polymath Network",
          "Bluzelle",
          "SwissBorg",
          "Medicalchain",
          "THEKEY Token",
          "Lympo",
          "RED MegaWatt",
          "Huobi Token",
          "BitcoinFile",
          "Creditcoin",
          "BABB",
          "SpaceChain",
          "All Sports Coin",
          "Nucleus Vision",
          "Ink Protocol",
          "XY Oracle",
          "Props",
          "Celsius Network",
          "Credits",
          "Alphacat",
          "DATx",
          "TomoChain",
          "Insights Network",
          "CoinPoker Token",
          "I-House Token",
          "Electrify.Asia",
          "Pantos",
          "Pigeoncoin",
          "True USD",
          "Mithril",
          "Switcheo",
          "eosDAC",
          "Bidipass",
          "Sentinel Chain",
          "U Network",
          "Zilla",
          "Gems",
          "Kryll",
          "NEXO",
          "0xBitcoin",
          "EduCoin",
          "CyberVein",
          "Global Social Chain",
          "Verasity",
          "UniBright",
          "AMO Coin",
          "Content Neutrality Network",
          "Skrumble Network",
          "ShareToken",
          "Ubex",
          "Open Platform",
          "Morpheus Network",
          "IoTeX Network",
          "NKN",
          "Elysian",
          "Repo Coin",
          "Bezant",
          "Phantasma",
          "PCHAIN",
          "IQeon",
          "CoinEx Token",
          "Mixin",
          "CoinMeet",
          "HashCoin ",
          "OneLedger",
          "Everipedia",
          "XMax",
          "VITE",
          "OneRoot Network",
          "LikeCoin",
          "GoToken",
          "Centrality Token",
          "Red Community Token",
          "NOIA Network",
          "Green Energy Token",
          "Apollo Currency",
          "Hdac",
          "QuickX Protocol",
          "Cryptocean",
          "Insureum",
          "Okex",
          "1World",
          "ZB",
          "STASIS EURS",
          "Omnitude",
          "HitChain",
          "The Midas Touch Gold",
          "FXPay",
          "Digitex Futures",
          "Topchain",
          "Delphy",
          "FundFantasy",
          "HYCON",
          "Decentralized Accessible Content Chain ",
          "MetaHash",
          "USD Coin",
          "Ontology Gas",
          "Sogur Currency",
          "VestChain",
          "Paxos Standard",
          "VeChainThor ",
          "BitForex Token",
          "Adab Solutions",
          "Livepeer",
          "Mycro",
          "WOM",
          "SINOVATE",
          "Newton",
          "SilkChain",
          "Sylo",
          "Travala",
          "AgaveCoin",
          "AERGO ",
          "Hashgard",
          "Vidy",
          "WETH",
          "Agricultural Trade Chain",
          "Bgogo Token",
          "HedgeTrade",
          "Wrapped Bitcoin",
          "BitMax Token",
          "Zeux",
          "Fetch.AI",
          "StableUSD",
          "Ankr Network",
          "Safe Haven",
          "Crypto.com Chain Token",
          "Hoard",
          "Theta Fuel",
          "Levolution",
          "Evedo",
          "2key.network",
          "Orbs",
          "SESSIA",
          "NeuroChain",
          "Consentium",
          "SOLVE",
          "Thorecoin",
          "Matic Network",
          "Lambda",
          "Function X",
          "Ocean Protocol",
          "Poseidon Network",
          "iOWN Token",
          "BitcoinX",
          "LEO Token",
          "Aryacoin",
          "Red Pulse Phoenix Binance",
          "Reserve Rights",
          "Harmony",
          "Baer Chain",
          "Mossland",
          "Yuan Chain Coin",
          "USDK",
          "MIXMARVEL",
          "BUMO",
          "DxChain Token",
          "MultiVAC",
          "VNT Chain",
          "Origo",
          "Carry",
          "Bryllite",
          "Wirex Token",
          "BEST",
          "Atlas Protocol",
          "WaykiChain",
          "EDUCare",
          "Bitcoin HD",
          "YOU Chain",
          "GMB",
          "NNB Token",
          "Ultiledger",
          "Snetwork",
          "IRIS Network",
          "Smartshare",
          "Airbloc",
          "Hyperion",
          "MIR COIN",
          "FansTime",
          "Algorand",
          "MovieBloc",
          "Machine Xchange Coin",
          "Jarvis+",
          "DPRating",
          "Ampleforth",
          "LemoChain",
          "Elrond",
          "SparkPoint",
          "ToKoin",
          "TEMCO",
          "Stronghold Token",
          "Hxro",
          "WINk",
          "FTX Token",
          "TrustVerse",
          "GoWithMi",
          "EMOGI Network",
          "SIX Network",
          "LITEX",
          "BOTXCOIN",
          "Gatechain Token",
          "Chiliz",
          "BitUP Token",
          "Akropolis",
          "Blockchain of Hash Power",
          "CryptoFranc",
          "Decentralized Vulnerability Platform",
          "Kleros",
          "Prometeus",
          "PROT",
          "Thorenext",
          "Thore Exchange",
          "ThoreCashTRX",
          "Ultra",
          "VINCI",
          "Xensor",
          "Zaif Token",
          "Amino Network",
          "NewYork Exchange",
          "LinkToken",
          "MEX",
          "BeeKan",
          "Band Protocol",
          "Emirex Token",
          "Hedera Hashgraph",
          "PAX Gold",
          "MX Token",
          "PLANET",
          "BCB Blockchain",
          "All.me",
          "RON",
          "Temtum",
          "Kava",
          "Multi Collateral Dai",
          "UNICORN Token",
          "Yap Stone",
          "Suterusu",
          "Whole Network",
          "Thorchain",
          "DAD",
          "Elitium",
          "Sport and Leisure",
          "Klaytn",
          "Troy",
          "Football Coin",
          "Neutrino",
          "Brazilian Digital Token",
          "Kusama",
          "Connectome",
          "Xinfin Network",
          "Tellor",
          "Orchid Protocol",
          "Digital Gold",
          "MarcoPolo Protocol",
          "BOSAGORA",
          "PlayFuel",
          "Nevula",
          "Compound Ethereum",
          "Tap",
          "Zynecoin",
          "Origin Protocol",
          "EXMO Coin",
          "HEX",
          "TerraKRW",
          "BenePit",
          "apM Coin",
          "Renrenbit",
          "PayProtocol Paycoin",
          "Bitcoin God",
          "Ally",
          "Coindy",
          "Spock",
          "Kadena",
          "Jobchain",
          "GoldFinX",
          "Blucon",
          "NewsToken",
          "FunKeyPay",
          "AIDUS Token",
          "01coin",
          "WazirX",
          "EtherGem",
          "Coinsbit Token",
          "POC Chain",
          "Newscrypto Coin",
          "Tether Gold",
          "NextDAO",
          "3X Long EOS Token",
          "3X Short XRP Token",
          "Sologenic",
          "3X Long BNB Token",
          "BiLira",
          "3X Long TRX Token",
          "3X Short TRX Token",
          "3X Long Litecoin Token",
          "3X Short Litecoin Token",
          "Hive Dollar",
          "Elamachain",
          "Anchor",
          "USDJ",
          "Universal Euro",
          "Universal Protocol Token",
          "Energy Web Token",
          "More Coin",
          "HyperDAO",
          "Euro Tether",
          "LCX",
          "Hive",
          "HUNT",
          "Portal",
          "Intelligent Investment Chain",
          "Solana",
          "3X Long Altcoin Index Token",
          "3X Short Altcoin Index Token",
          "DEAPCOIN",
          "Homeros",
          "Latamcash",
          "3X Long Bitcoin SV Token",
          "3X Short Bitcoin SV Token",
          "3X Long Bitcoin Cash Token",
          "3X Short Bitcoin Cash Token",
          "Cartesi",
          "SENSO",
          "xDai Chain",
          "OBSERVER Coin",
          "Unknown Fair Object",
          "3X Long TezosToken",
          "3X Short Tezos Token",
          "JUST",
          "IdeaChain",
          "BNS token",
          "ITAM Games",
          "Metaverse",
          "Metacoin",
          "Loon Network",
          "The Forbidden Forest",
          "Proton",
          "Unicorn Technology International",
          "dKargo",
          "King DAG",
          "Spice",
          "Rite Aid",
          "3X Short Cardano Token",
          "3X Long Cardano Token",
          "3X Long Matic Token",
          "3X Long Cosmos Token",
          "3X Short Cosmos Token",
          "3X Long Algorand Token",
          "3X Short Algorand Token",
          "3X Long Theta Network Token",
          "3X Short Kyber Network Token",
          "3X Long Ethereum Classic Token",
          "3X Long TomoChain Token",
          "3X Short Theta Network Token",
          "3X Short Midcap Index Token",
          "3X Long BitMax Token Token",
          "3X Long Tether Token",
          "Compound",
          "CACHE Gold",
          "UMA",
          "Celo",
          "DarkPayCoin",
          "Balancer",
          "BTSE Token",
          "DMM: Governance",
          "ARCS",
          "Perth Mint Gold Token",
          "Paparazzi",
          "KardiaChain",
          "Trustswap",
          "Keep Network",
          "Waves Enterprise",
          "ETHUP",
          "Oikos",
          "Meta",
          "DeFiChain",
          "yearn.finance",
          "Add.xyz",
          "Nest Protocol",
          "DigiDinar Token",
          "MCDEX",
          "Wrapped NXM",
          "Centric Cash",
          "Darwinia Commitment Token",
          "SUKU",
          "DIA",
          "dForce",
          "MiL.k",
          "Cream",
          "Serum",
          "Curve DAO Token",
          "The Sandbox",
          "Bitcoin Captain",
          "DFI.money",
          "Hakka Finance",
          "Jarvis Reward Token",
          "SatoPay",
          "Klever",
          "Pearl Finance",
          "Elrond",
          "Insight Protocol",
          "TerraUSD",
          "QOOBER",
          "Bella Protocol",
          "MATH",
          "Sun Token",
          "Swerve",
          "Universal Money Intrument",
          "Hedget",
          "Phala Network",
          "Bounce Token",
          "Alchemy Pay",
          "Sashimi",
          "REVV",
          "3X Long Sushi Token",
          "3X Short Sushi Token",
          "Rarible",
          "New BitShares",
          "dHedge DAO",
          "Flamingo",
          "PowerTrade Fuel",
          "Maro",
          "Mini",
          "ONBUFF",
          "TitanSwap",
          "Crust Network",
          "Beowulf",
          "AhaToken",
          "S.Finance",
          "Venus",
          "cVault.finance",
          "AXEL",
          "DODO",
          "Dify.Finance",
          "PlatonCoin",
          "OctoFi",
          "NuCypher",
          "1X Short Bitcoin SV Token",
          "Harvest Finance",
          "Datamine",
          "Darwinia Network",
          "Pundi X",
          "sUSD",
          "DREP",
          "FunFair",
          "Huobi Pool Token",
          "SingularityNET",
          "Constellation ",
          "COCOS BCX",
          "Melon",
          "Quoine Liquid",
          "Voyager Token",
          "STP Network",
          "CNNS",
          "Davinci Coin",
          "TOP Network",
          "BORA",
          "Force Protocol",
          "Civic",
          "Velas",
          "tBTC",
          "Reserve",
          "Perpetual Protocol",
          "Value Liquidity",
          "Yobit Token",
          "Contentos",
          "APIX",
          "3X Long Bitcoin Token",
          "Quantstamp",
          "Cortex",
          "RAKON",
          "Bitkan",
          "ARPA Chain",
          "ROOBEE",
          "StormX",
          "BitMart Coin",
          "Mainframe",
          "SAI",
          "Metal",
          "RING X PLATFORM",
          "Dent",
          "RIF Token",
          "Gemini Dollar",
          "Loom Network",
          "LUKSO",
          "3X Long Ethereum Token",
          "BKEX Token",
          "Content Value Network",
          "12Ships",
          "SelfKey",
          "MANTRA DAO",
          "BiboxCoin",
          "ArcBlock",
          "Measurable Data Token ",
          "Populous",
          "Dego Finance",
          "Aavegotchi",
          "UniTrade",
          "LinkEye",
          "Yee",
          "Fyooz",
          "GIFTO",
          "Augur",
          "Chromia",
          "Celer Network",
          "MVL",
          "Frontier",
          "pNetwork Token",
          "Dusk Network",
          "Sentivate",
          "GoMoney2",
          "Perlin",
          "Molecular Future",
          "Raiden Network",
          "FNB protocol",
          "Moeda",
          "TenX",
          "Presearch",
          "Morpheus Infrastructure Token",
          "3X Short Bitcoin",
          "Piction Network",
          "Metronome",
          "Cred",
          "SmartMesh",
          "Dock.io",
          "Genaro Network",
          "Ultrain",
          "Sentinel Protocol",
          "BF Token",
          "EOSDT",
          "Seele",
          "YYFI.Protocol",
          "Pickle Finance",
          "3X Short Ethereum Token",
          "Propy",
          "Time New Bank",
          "QunQun",
          "Matryx",
          "AppCoins",
          "CyberMiles",
          "3X Short EOS Token",
          "IoT Chain",
          "DMarket",
          "FairGame",
          "Eminer",
          "Endor Protocol Token ",
          "WABI",
          "ContentBox",
          "SpendCoin",
          "Trump Loses Token",
          "Egretia",
          "SirinLabs",
          "3X Long XRP Token",
          "The Abyss",
          "Simple Token",
          "Ruff",
          "Rio DeFi",
          "3X Short Chainlink Token",
          "TokenClub ",
          "Everex",
          "BetProtocol",
          "Tokenomy",
          "Merculet",
          "Pivot Token",
          "Monolith",
          "Nectar",
          "COTI",
          "Ferrum Network",
          "Fusion",
          "Injective Protocol",
          "Aurei",
          "Atari Token",
          "BUSD",
          "PANTHEON X",
          "8X8 Protocol",
          "LTO Network",
          "Meme",
          "Trump Wins Token",
          "Golff",
          "Blox",
          "Exchange Union",
          "Fatcoin",
          "3X Long Chainlink Token",
          "FLETA",
          "OriginSport",
          "V-ID",
          "SONM",
          "Refereum",
          "Tripio",
          "Akropolis Delphi",
          "YAM",
          "Loopring [NEO]",
          "WaykiChain Governance Coin",
          "RedFOX Labs",
          "Rotten",
          "Nash Exchange",
          "Lendroid Support Token",
          "Meter",
          "Thunder Token",
          "Akoin",
          "Alpha Finance Lab",
          "Avalanche",
          "YAM v1",
          "YAM v2 ",
          "Metadium",
          "FileCoin",
          "Hydro Protocol",
          "Orbit Chain",
          "Bit Financial",
          "Synthetix",
          "Quant",
          "Maker",
          "REN",
          "Swipe",
          "Loopring",
          "Linear",
          "Aave",
          "DeFiner",
          "The Transfer Token",
          "Aragon",
          "HBTC Captain Token",
          "Orion Protocol",
          "bZx",
          "Tesla FTX",
          "SPDR S&P 500 ETF FTX",
          "Uquid Coin",
          "Experty Wisdom Token",
          "Oasis Labs",
          "renBTC ",
          "Nexus Mutual",
          "Lien",
          "DigitalBits",
          "Hegic",
          "Energi",
          "Sperax",
          "API3",
          "FinNexus",
          "Terra",
          "DeFiPulse Index",
          "Stafi",
          "Golem Network Token",
          "Uniswap Protocol Token",
          "Sushi",
          "TON Crystal",
          "Tokamak Network",
          "Fantom",
          "Near",
          "BuySell",
          "Mineral",
          "Medibloc",
          "Tether",
          "Guppy",
          "NewsTokens",
          "Steem Dollars",
          "Inda",
          "FIO Protocol",
          "True Chain",
          "Auctus",
          "ClinTex CTi",
          "PowerPool Concentrated Voting Power",
          "Secret",
          "Cryptobuyer",
          "Wing Finance",
          "Worldwide Asset eXchange",
          "Asch",
          "Nuls",
          "Bridge Oracle",
          "Raiden Network Token",
          "Gamecredits",
          "Metaverse",
          "Elastos",
          "Enigma",
          "OMG Network",
          "Holo",
          "OPEN Governance Token",
          "Axion",
          "Marlin",
          "MahaDAO",
          "BIZZCOIN",
          "2Based Finance",
          "Swingby",
          "UNION Protocol Governance Token",
          "Golden Ratio Per Liquidity",
          "The Graph",
          "AnRKey X",
          "Reflector.Finance",
          "YVS.Finance",
          "NEST Protocol",
          "Mediconnect",
          "Dexfin",
          "xETH-G",
          "DXdao",
          "Pyrk",
          "Trade Butler Bot",
          "DeFi Yield Protocol",
          "Staked Ether",
          "TNC Coin",
          "Helium",
          "Polkadot",
          "Skycoin",
          "Zilliqa",
          "Tezos",
          "IOTA",
          "Revain",
          "Own",
          "Crypterium",
          "Coin",
          "Cosmos",
          "QuarkChain",
          "Electroneum",
          "Aurora",
          "Kin",
          "Ravencoin",
          "High Performance Blockchain",
          "PeerCoin",
          "Matrix AI Network",
          "Obyte",
          "Nebulas",
          "Stratis",
          "Neblio",
          "MOAC",
          "GoChain",
          "IOS token",
          "GXChain",
          "Waltonchain",
          "Wanchain",
          "Ardor",
          "NEM",
          "Stellar",
          "TRON",
          "NEO",
          "XRP",
          "Empty Set Dollar",
          "Pylon Finance",
          "Frax",
          "Frax Share",
          "Wifi Coin",
          "Shopping.io",
          "One Share"
         ],
         "legendgroup": "0",
         "marker": {
          "color": [
           0,
           0,
           0,
           0,
           0,
           0,
           0,
           0,
           0,
           0,
           0,
           0,
           0,
           0,
           0,
           0,
           0,
           0,
           0,
           0,
           0,
           0,
           0,
           0,
           0,
           0,
           0,
           0,
           0,
           0,
           0,
           0,
           0,
           0,
           0,
           0,
           0,
           0,
           0,
           0,
           0,
           0,
           0,
           0,
           0,
           0,
           0,
           0,
           0,
           0,
           0,
           0,
           0,
           0,
           0,
           0,
           0,
           0,
           0,
           0,
           0,
           0,
           0,
           0,
           0,
           0,
           0,
           0,
           0,
           0,
           0,
           0,
           0,
           0,
           0,
           0,
           0,
           0,
           0,
           0,
           0,
           0,
           0,
           0,
           0,
           0,
           0,
           0,
           0,
           0,
           0,
           0,
           0,
           0,
           0,
           0,
           0,
           0,
           0,
           0,
           0,
           0,
           0,
           0,
           0,
           0,
           0,
           0,
           0,
           0,
           0,
           0,
           0,
           0,
           0,
           0,
           0,
           0,
           0,
           0,
           0,
           0,
           0,
           0,
           0,
           0,
           0,
           0,
           0,
           0,
           0,
           0,
           0,
           0,
           0,
           0,
           0,
           0,
           0,
           0,
           0,
           0,
           0,
           0,
           0,
           0,
           0,
           0,
           0,
           0,
           0,
           0,
           0,
           0,
           0,
           0,
           0,
           0,
           0,
           0,
           0,
           0,
           0,
           0,
           0,
           0,
           0,
           0,
           0,
           0,
           0,
           0,
           0,
           0,
           0,
           0,
           0,
           0,
           0,
           0,
           0,
           0,
           0,
           0,
           0,
           0,
           0,
           0,
           0,
           0,
           0,
           0,
           0,
           0,
           0,
           0,
           0,
           0,
           0,
           0,
           0,
           0,
           0,
           0,
           0,
           0,
           0,
           0,
           0,
           0,
           0,
           0,
           0,
           0,
           0,
           0,
           0,
           0,
           0,
           0,
           0,
           0,
           0,
           0,
           0,
           0,
           0,
           0,
           0,
           0,
           0,
           0,
           0,
           0,
           0,
           0,
           0,
           0,
           0,
           0,
           0,
           0,
           0,
           0,
           0,
           0,
           0,
           0,
           0,
           0,
           0,
           0,
           0,
           0,
           0,
           0,
           0,
           0,
           0,
           0,
           0,
           0,
           0,
           0,
           0,
           0,
           0,
           0,
           0,
           0,
           0,
           0,
           0,
           0,
           0,
           0,
           0,
           0,
           0,
           0,
           0,
           0,
           0,
           0,
           0,
           0,
           0,
           0,
           0,
           0,
           0,
           0,
           0,
           0,
           0,
           0,
           0,
           0,
           0,
           0,
           0,
           0,
           0,
           0,
           0,
           0,
           0,
           0,
           0,
           0,
           0,
           0,
           0,
           0,
           0,
           0,
           0,
           0,
           0,
           0,
           0,
           0,
           0,
           0,
           0,
           0,
           0,
           0,
           0,
           0,
           0,
           0,
           0,
           0,
           0,
           0,
           0,
           0,
           0,
           0,
           0,
           0,
           0,
           0,
           0,
           0,
           0,
           0,
           0,
           0,
           0,
           0,
           0,
           0,
           0,
           0,
           0,
           0,
           0,
           0,
           0,
           0,
           0,
           0,
           0,
           0,
           0,
           0,
           0,
           0,
           0,
           0,
           0,
           0,
           0,
           0,
           0,
           0,
           0,
           0,
           0,
           0,
           0,
           0,
           0,
           0,
           0,
           0,
           0,
           0,
           0,
           0,
           0,
           0,
           0,
           0,
           0,
           0,
           0,
           0,
           0,
           0,
           0,
           0,
           0,
           0,
           0,
           0,
           0,
           0,
           0,
           0,
           0,
           0,
           0,
           0,
           0,
           0,
           0,
           0,
           0,
           0,
           0,
           0,
           0,
           0,
           0,
           0,
           0,
           0,
           0,
           0,
           0,
           0,
           0,
           0,
           0,
           0,
           0,
           0,
           0,
           0,
           0,
           0,
           0,
           0,
           0,
           0,
           0,
           0,
           0,
           0,
           0,
           0,
           0,
           0,
           0,
           0,
           0,
           0,
           0,
           0,
           0,
           0,
           0,
           0,
           0,
           0,
           0,
           0,
           0,
           0,
           0,
           0,
           0,
           0,
           0,
           0,
           0,
           0,
           0,
           0,
           0,
           0,
           0,
           0,
           0,
           0,
           0,
           0,
           0,
           0,
           0,
           0,
           0,
           0,
           0,
           0,
           0,
           0,
           0,
           0,
           0,
           0,
           0,
           0,
           0,
           0,
           0,
           0,
           0,
           0,
           0,
           0,
           0,
           0,
           0,
           0,
           0,
           0,
           0,
           0,
           0,
           0,
           0,
           0,
           0,
           0,
           0,
           0,
           0,
           0,
           0,
           0,
           0,
           0,
           0,
           0,
           0,
           0,
           0,
           0,
           0,
           0,
           0,
           0,
           0,
           0,
           0,
           0,
           0,
           0,
           0,
           0,
           0,
           0,
           0,
           0,
           0,
           0,
           0,
           0,
           0,
           0,
           0,
           0,
           0,
           0,
           0,
           0,
           0,
           0,
           0,
           0,
           0,
           0,
           0,
           0,
           0,
           0,
           0,
           0,
           0,
           0,
           0,
           0,
           0,
           0,
           0,
           0,
           0,
           0,
           0,
           0,
           0,
           0,
           0,
           0,
           0,
           0,
           0,
           0,
           0,
           0,
           0,
           0,
           0,
           0,
           0,
           0,
           0,
           0,
           0,
           0,
           0,
           0,
           0,
           0,
           0,
           0,
           0,
           0,
           0,
           0,
           0,
           0,
           0,
           0,
           0,
           0,
           0,
           0,
           0,
           0,
           0,
           0,
           0,
           0,
           0,
           0,
           0,
           0,
           0,
           0,
           0,
           0,
           0,
           0,
           0,
           0,
           0,
           0,
           0,
           0,
           0,
           0,
           0,
           0,
           0,
           0,
           0,
           0,
           0,
           0,
           0,
           0,
           0,
           0,
           0,
           0,
           0,
           0,
           0,
           0,
           0,
           0,
           0,
           0,
           0,
           0,
           0,
           0,
           0,
           0,
           0,
           0,
           0,
           0,
           0,
           0,
           0,
           0,
           0,
           0,
           0,
           0,
           0,
           0,
           0,
           0,
           0,
           0,
           0,
           0,
           0,
           0,
           0,
           0,
           0,
           0,
           0,
           0,
           0,
           0,
           0,
           0,
           0,
           0,
           0,
           0,
           0,
           0,
           0,
           0,
           0,
           0,
           0,
           0,
           0,
           0,
           0,
           0,
           0,
           0,
           0,
           0,
           0,
           0,
           0,
           0,
           0,
           0,
           0,
           0,
           0,
           0,
           0,
           0,
           0,
           0,
           0,
           0,
           0,
           0,
           0,
           0,
           0,
           0,
           0,
           0,
           0,
           0,
           0,
           0,
           0,
           0,
           0,
           0,
           0,
           0,
           0,
           0,
           0,
           0,
           0,
           0,
           0,
           0,
           0,
           0,
           0,
           0,
           0,
           0,
           0,
           0,
           0,
           0,
           0,
           0,
           0,
           0,
           0,
           0,
           0,
           0,
           0,
           0,
           0,
           0,
           0,
           0,
           0,
           0,
           0,
           0,
           0,
           0,
           0,
           0,
           0,
           0,
           0,
           0,
           0,
           0,
           0,
           0,
           0,
           0,
           0,
           0,
           0,
           0,
           0,
           0,
           0,
           0,
           0,
           0,
           0,
           0,
           0,
           0,
           0,
           0,
           0,
           0,
           0,
           0,
           0,
           0,
           0,
           0,
           0,
           0,
           0,
           0,
           0,
           0,
           0,
           0,
           0,
           0,
           0,
           0,
           0,
           0,
           0,
           0
          ],
          "coloraxis": "coloraxis",
          "symbol": "diamond"
         },
         "mode": "markers",
         "name": "0",
         "scene": "scene",
         "showlegend": true,
         "type": "scatter3d",
         "x": [
          -0.9479503886049754,
          1.4353100278981221,
          -0.94795038860406,
          -0.9479510787389941,
          -0.94795038860406,
          -0.9479503918775317,
          -0.947950677043609,
          -0.9479531132719964,
          -0.9479534396941975,
          -0.9479506937130738,
          -0.947950452254845,
          -0.94795038860406,
          -0.94795038860406,
          -0.9479504191149615,
          -0.947950591530596,
          -0.9479506540482462,
          -0.9479504191149615,
          0.3584836023154836,
          -0.9479503968522436,
          -0.9479549652392668,
          -0.94795038860406,
          -0.947971150876338,
          -0.9479504367747517,
          -0.9479504220873269,
          -0.9479507149228467,
          -0.9479504007155609,
          1.4352660643312714,
          -0.9479534396941975,
          -0.9479503893219523,
          -0.94795038860406,
          -0.9479508989624116,
          -0.9479506428727589,
          0.8502456987524601,
          -0.9479507629957112,
          -0.9479506937130738,
          -0.9479506937130738,
          -0.947951609040115,
          -0.9479534396941975,
          -0.9479534396941975,
          -0.9479516853173625,
          -0.94795038860406,
          -0.9479509988220878,
          -0.9479570856072063,
          -0.94795038860406,
          -2.460873825091445,
          -0.9479516163627313,
          -0.9479505624655507,
          -0.9722063810355772,
          -0.947950786072685,
          -0.9479519127482962,
          -0.947951914149129,
          -0.9479534396941975,
          -0.9479534396941975,
          -0.9479524123037425,
          1.4353069769829727,
          -0.9479534396941975,
          -0.947951030339179,
          -0.9479507547348767,
          -0.9479564907843353,
          -0.947953439590467,
          -0.9479584857139863,
          -0.947951203245127,
          -0.947951914149129,
          -0.9479564907843493,
          -0.947950448928598,
          -0.9479534396941975,
          -0.9479505126494312,
          0.5922301066775884,
          -0.9479676043801618,
          -0.9479504325949034,
          -0.9479509076513584,
          -0.9479526624234417,
          -0.9479517112346622,
          -0.947953400501462,
          -0.9479511579822926,
          0.8721866566932731,
          -0.9479505941667988,
          -0.94795038860406,
          -0.9479504021300446,
          -0.9479509988220878,
          -0.9479525681593033,
          -0.94795038860406,
          -0.9479513039311016,
          -0.9479504962384735,
          -0.9479534396941975,
          -0.9479504453114161,
          -0.9479521658153501,
          -0.94795038860406,
          -0.9479519141491288,
          -0.947950659732223,
          -0.9479530735633814,
          0.5922148568431636,
          0.3497826074454773,
          -0.9479513035941243,
          -0.9479534396941975,
          -0.9481885046999484,
          -0.9479564907843353,
          -0.9479564907843353,
          -0.94795038860406,
          -0.9482554976178182,
          -0.9479519751709321,
          -0.9479527616741644,
          -0.947951914149129,
          -0.94795038860406,
          -0.9479519135875014,
          -0.9479534396941975,
          -0.9479699440936025,
          -0.9479806894195063,
          -0.9479808995054357,
          -0.9479534396941975,
          -0.947951914149129,
          -0.94795038860406,
          -0.9479808995054357,
          -0.9479564906928029,
          -0.9479513039311016,
          -0.9479534396941975,
          -0.9479534396941193,
          -0.94795038860406,
          -0.9479584050770534,
          -0.9479503916551505,
          -0.947951914149129,
          -0.9479534396941975,
          -0.947951914149129,
          -0.9479534396941975,
          -0.947951914149129,
          0.9475970306942358,
          -0.9479534396941975,
          -0.947951914149129,
          -0.9479515739089789,
          0.8502460324171656,
          1.4353059467797902,
          -0.9481029431109393,
          -0.94795038860406,
          -0.9479549652392668,
          -0.9479808995054357,
          -0.947951914149129,
          -0.9479928956511582,
          -0.9479524288882589,
          -0.9479525111198143,
          -0.9479511497627852,
          -0.94795038860406,
          -0.9479808995054357,
          -0.9479506937130738,
          -0.94795038860406,
          -0.9479514710894522,
          -0.9479534289884168,
          -0.9479526769214963,
          -0.9479534396941975,
          1.4353100278981221,
          -0.9479512265421782,
          0.8502429813270281,
          -0.9479519135875014,
          -0.9479540499122255,
          -0.9479549652392668,
          -0.947951914149129,
          -0.9479808995054357,
          -0.9479505716694683,
          -0.9479747973251603,
          -0.9479505393808433,
          -0.9479534396941975,
          -0.9479504526769036,
          -0.9479961549561242,
          -0.9479569407702393,
          -0.9479534396941975,
          1.4352784293847298,
          -0.9479508462675812,
          -0.948007228580584,
          -0.9482554976178182,
          -0.9479549652392668,
          -0.9479566175392209,
          0.850233908746191,
          -0.9479557141203243,
          -0.9479505347427901,
          0.3573815819345539,
          0.36446175385387164,
          -0.9479511818874963,
          -0.94795038860406,
          -0.9479534396936485,
          0.8502460324171656,
          -0.94795038860406,
          -0.9479504053602207,
          -0.9479682949914776,
          -0.9479503916551505,
          -0.947951609040115,
          -0.9481029431109393,
          -0.9479534396941975,
          -0.9481182730540894,
          -0.9480419213081875,
          -0.9479519230539886,
          -0.947951609040115,
          -0.9479508794846934,
          -0.9479506937130738,
          -0.9479540499122255,
          -0.9479509988220878,
          -0.9479534396941975,
          -0.947965644054748,
          0.8502460324171656,
          0.3501206999110115,
          -0.947951914149129,
          -0.94795038860406,
          -0.9479512947778311,
          -0.9479512665873956,
          -0.9479505021639657,
          -0.9479541887723679,
          -0.9479504861755028,
          -0.9479506156457499,
          -0.948262820234148,
          -0.9479783400669441,
          -0.9479518347516999,
          -0.9479543550212388,
          -0.9479545933876564,
          -0.9479506937130738,
          -0.9479506320706427,
          -0.9479626184015595,
          -0.94795038860406,
          -0.9479681644572329,
          -0.9479617030697809,
          -0.9479519135875014,
          -0.9479503928420655,
          -0.9479773846495971,
          1.4353091057997134,
          -0.947950388604058,
          -0.9479808995054357,
          -0.9479514564856079,
          -0.9479504584399684,
          -0.9479504662681716,
          -0.9479534396941975,
          1.4353100278981221,
          -0.9482554976178182,
          -0.9479808995054357,
          -0.9479808995054357,
          -0.94795038860406,
          -0.9480571767588752,
          -0.947951914149129,
          -0.94795038860406,
          -0.9479808995054357,
          -0.9479504057940814,
          -0.9479808995054357,
          -0.9479733569942059,
          -0.9479534396941975,
          -0.9479503889486741,
          -0.9479527300183936,
          -0.9479526769216633,
          -0.9479539065035898,
          -0.9479503902073728,
          -0.9479808995054357,
          -0.94795038860406,
          -0.9482554976178182,
          -0.9479534396941975,
          0.8502384074999538,
          -0.947951337493093,
          -0.9479504427810161,
          -0.9479522177642978,
          -0.9479808995054357,
          -0.9479506937130738,
          -0.9479523945127601,
          -0.947951120865693,
          1.4353069768079845,
          -0.9479503902984844,
          -0.9479808995054357,
          -0.9479686951448852,
          -0.9479515437605937,
          -0.9479522592248025,
          -0.9480144614969495,
          -0.9479513079705131,
          1.4353100278981221,
          -0.9479518698047494,
          1.4353100278981221,
          0.5772237440430231,
          -0.9479514304022966,
          -0.9479888323397939,
          -0.9479521582363402,
          -0.947951914149129,
          -0.9479808995054357,
          -0.9479504876995349,
          -0.9479808995054357,
          -0.94795038860406,
          -0.9482554976178182,
          -0.9479808995054357,
          -0.9479808995054357,
          -0.9479534396941975,
          -0.9479746401865119,
          -0.9479514564856079,
          -0.9479808995050557,
          -0.9479531936192438,
          -0.9479808995054357,
          -0.9479509973083367,
          -0.9479534396941975,
          -0.9479504334871474,
          -0.9479591025174934,
          -0.947965644054748,
          -0.9479686951448852,
          -0.9479641185096797,
          -0.9479534396941975,
          -0.9479534423935724,
          1.4352795169967463,
          -0.9479515273242933,
          -0.9479808995054357,
          -0.94795038860406,
          -0.9479657818944577,
          0.8502250954876793,
          -0.9480419213081875,
          -0.9479584848343308,
          -0.9479522192581431,
          -0.9479808995054357,
          -0.9479515320103808,
          -0.94795527034828,
          -0.9479948734700433,
          -0.9479942283176039,
          -0.947950998819525,
          -0.9479686951448852,
          -0.94795038860406,
          -0.9479534396941975,
          -0.9494675274222442,
          -0.9479514188280597,
          -0.9479534396941975,
          -0.94799584984711,
          -0.9481197628589002,
          -0.94795038860406,
          -0.9479564907843353,
          -0.947965644054748,
          -0.9479511308171445,
          -0.9479775094052798,
          -0.9479534396941975,
          -0.9479625929646104,
          -0.9479506365868934,
          -0.9479503947062405,
          -0.947965644054748,
          -0.9479527215490555,
          -0.9479504484821114,
          -0.94795038860406,
          -0.9479510293329887,
          -0.9479504191149615,
          -0.94795038860406,
          -0.9479534396941975,
          -0.9479513039311016,
          -0.9479650338367203,
          -0.94795038860406,
          -0.9479534396941975,
          -0.9479518828987812,
          -0.9479518754445079,
          -0.9479563077188357,
          -0.9479808995054357,
          -0.9479506937130738,
          -0.947951914149129,
          0.8501596575987856,
          -0.9479503887193774,
          -0.94795229990969,
          -0.947965644054748,
          0.8502460324171656,
          -0.9479808995054357,
          -0.9479808995054357,
          -0.94795038860406,
          0.8502458588663105,
          -0.9479538515501083,
          -0.947971746235023,
          -0.94795038860406,
          -0.9479808995054357,
          -0.9479800609833445,
          -0.947951914149129,
          -0.9479534396941975,
          -0.9479514021762041,
          -0.9479533275727376,
          -0.947950388604058,
          -0.9479808995054357,
          -0.9479534396941975,
          -0.949476694485293,
          -0.9479509988220878,
          -0.9479504033220054,
          -0.9479508157566799,
          -0.9480077786468805,
          -0.9479503912109434,
          -0.9479534396941975,
          -0.94795038860406,
          -0.9479808995054357,
          -0.9479512153435314,
          -0.9479808995054357,
          0.5921080630720853,
          -0.9479505565767541,
          -0.9479808995054357,
          -0.9479505442381922,
          -0.9479534396941975,
          -0.9479544463796103,
          -0.9496802804376548,
          -0.9480619552600184,
          -0.9480419213081875,
          -0.9479559187049343,
          -0.94795038860406,
          0.8502460324171656,
          -0.94795038860406,
          -0.9479808995054357,
          -0.9479534396941975,
          -0.94795038860406,
          -0.94795038860406,
          -0.9482554976178182,
          -0.9479512066128175,
          -0.947959541874473,
          -0.9479808995054357,
          -0.9480114104068118,
          -0.9479808995054357,
          0.9475970306942358,
          -0.9479519072334048,
          -0.94795038860406,
          -0.9479540264264589,
          -0.9479808995054357,
          -0.9479512414555595,
          -0.9479503887518881,
          -0.94795038860406,
          -0.9479504313791624,
          -0.9479504126995526,
          -0.9479516090352785,
          -0.9479503886402288,
          -0.9479504431595709,
          -0.9479503929883635,
          -0.9479504664224191,
          -0.9479503898089914,
          -0.9479503897372321,
          -0.94795038860406,
          -0.9479534396941975,
          -0.9479527058877093,
          -0.9479504337049393,
          -0.9479503887566146,
          -0.9479808995054357,
          -0.9479506337052843,
          -0.9479504801367641,
          -0.947965644054748,
          -0.9479505411587198,
          -0.947953296798756,
          0.35389004540749414,
          -0.9479510297268974,
          -0.9479534396941975,
          -0.9480144614969495,
          -0.947951133695596,
          -0.9479503887574752,
          -0.9479503892031255,
          -0.9480419213081875,
          -0.9479808995054357,
          -0.9479534396941975,
          -0.9479504436346504,
          -0.9479504593192878,
          -0.9479503910897644,
          -0.9479503925612678,
          -0.9479534396941975,
          -0.947968436656529,
          -0.9479504147206824,
          -0.9479732633556982,
          -0.94795038860406,
          -0.9479503886203992,
          -0.9479503887173065,
          -0.9479805943964223,
          -0.9479505547365359,
          -0.9479580163294039,
          -0.94795038860406,
          -0.94795038860406,
          -0.94795038860406,
          -0.947956795893349,
          -0.94795038860406,
          -0.9479808995054357,
          -0.9479509988220878,
          -0.947965644054748,
          -0.9479534396941975,
          -0.94795038860406,
          -0.9479504125906174,
          -0.9479505039180175,
          -0.9479503886096164,
          -0.9479503898504424,
          -0.9479503886635289,
          -0.9479503891633951,
          -0.9479574603640644,
          -0.9479505118772003,
          -0.94795038860406,
          -0.94795038860406,
          -0.94795038860406,
          -0.9479503910573344,
          -0.94795038860406,
          -0.9479503887553526,
          -0.9479503886294307,
          -0.94795038860406,
          -0.9479504191149615,
          -0.947950388739225,
          -0.9479506972906891,
          -0.947952852180571,
          -0.94795038860406,
          -0.9479505086644567,
          -0.94795038860406,
          -0.9479507698178306,
          -0.9480114104068118,
          -0.9479503886059324,
          -0.9479509033771567,
          -0.947965644054748,
          -0.9479506937051221,
          -0.9479534392328142,
          -0.94795038860406,
          -0.94795038860406,
          -0.9479506048877675,
          -0.9479506937130738,
          -0.9479532450862702,
          -0.947950388695593,
          -0.9479507129160721,
          -0.9479808995054357,
          -0.9479504267286448,
          -0.9479505441537364,
          -0.9479503941319909,
          -0.94795038860406,
          -0.9479503887619228,
          -0.9479549652392668,
          -0.9479509685713698,
          -0.9479534395462152,
          -0.9479541815473861,
          -0.9479504067995973,
          -0.9479508798295752,
          -0.9479546594346647,
          -0.947959541874473,
          -0.947950396934943,
          -0.9479503887261033,
          -0.9479523290440336,
          -0.9479510777279208,
          -0.9479514717803728,
          -0.94795038860406,
          -0.947950388710848,
          0.8502460013107942,
          -0.9479564907843353,
          0.8502457829898784,
          -0.94795038860406,
          -0.9479506937130738,
          -0.9479509988220878,
          -0.9479504493229809,
          -0.9479504220459556,
          0.8991917498569234,
          -0.947950394041961,
          -0.9479534396941975,
          -0.9479503887565571,
          -0.9479808995054357,
          -0.9479505876219977,
          -0.947959541874473,
          -0.94795038860406,
          -0.94795038860406,
          -0.9479504648813138,
          -0.9479551156438417,
          -0.9479506937130738,
          -0.947950586117652,
          -0.947951609040115,
          -0.9479528627061458,
          -0.9479508392556067,
          -0.9479527720937121,
          -0.9479671746544523,
          -0.9479503947062712,
          -0.947959541874473,
          -0.94795038860406,
          -0.947950452676953,
          -0.9479504801367641,
          -0.9479503886345715,
          -0.947953075839537,
          -0.9479534396941975,
          -0.947950388695593,
          -0.9479513039311016,
          -0.9479503910449325,
          -0.9479622432794192,
          -0.94795038860406,
          -0.9479503898383873,
          -0.947950388604058,
          -0.947953529751309,
          -0.9483446374499974,
          -0.9479507242553509,
          -0.9479808995054357,
          -0.947983950209981,
          -0.9479808995054357,
          -0.9479534396941975,
          -0.94795038860406,
          -0.9482554976178182,
          -0.9479503932540189,
          -0.9479534396941975,
          -0.9479510668467772,
          -0.9479563151034291,
          -0.9479808764452969,
          -0.947977238197271,
          -0.9480114104068118,
          -0.9479540674559936,
          -0.9479534305862128,
          -0.9479534396941975,
          0.8502460324171656,
          -0.9479503886068338,
          -0.947950392945117,
          -0.9479508462675812,
          -0.9479504089248515,
          -0.947950388655929,
          -0.9479628980736243,
          -0.9479510111724281,
          -0.9479503886096471,
          -0.947953367817801,
          -0.9479508614630405,
          -0.9479512603440999,
          -0.947979613967002,
          -0.9479547822412533,
          0.8502295565304228,
          -0.9479795777390642,
          -0.9479531364206601,
          -0.9479808995054357,
          -0.9479504021903425,
          0.35538655407543995,
          -0.9479517688336293,
          -0.9482554976178182,
          -0.9479519135875014,
          -0.9479504364169858,
          -0.9479534396941975,
          -0.9479506937130738,
          -0.9479503886614834,
          -0.9479507672565867,
          -0.9479534396941975,
          -0.9479655886182337,
          -0.9479686951447462,
          -0.9479510628949802,
          -0.9479511241485051,
          -0.9479509561068257,
          -0.9479534396941975,
          -0.9479505510814629,
          -0.9479504173519918,
          -0.9479504675237719,
          -0.9479505411585671,
          -0.9479534396941975,
          -0.9479808995054357,
          -0.9479505411585671,
          -0.9479519137401132,
          -0.9479504058249024,
          -0.9479519670584242,
          -0.9479808995054357,
          -0.9480419213081875,
          -0.9479506937130738,
          -0.947950598156411,
          -0.947951914149129,
          -0.9479632031826384,
          -0.947953338594474,
          -0.9479517038603631,
          -0.9479506937130738,
          -0.9479506937130738,
          -0.9479579858189908,
          -0.9479504484935669,
          -0.9479510147434571,
          -0.947951914149129,
          -0.9479530340485944,
          -0.9479512524565669,
          -0.9479534015555714,
          -0.9479504271570992,
          -0.9479534064789316,
          -0.9479599738864201,
          -0.9479534396941975,
          -0.9479523718126492,
          -0.9479534396941975,
          -0.947951914149129,
          -0.9479534396941975,
          -0.9479508038823378,
          -0.9480419213081875,
          -0.94795038860406,
          -0.9479503923563086,
          -0.9479535754010552,
          -0.9479506937130738,
          -0.9479638613254145,
          -0.9479551391514045,
          -0.9479513471322955,
          -0.9479511384111463,
          -0.9479534396941975,
          -0.9479504061291747,
          -0.9479506937130708,
          -0.9479505622775207,
          -0.9479540499122255,
          -0.947956795893349,
          -0.9479549182881031,
          -0.9479506937130738,
          0.8502414574668392,
          -0.9479564907843353,
          -0.9479504343704126,
          -0.9479747973251603,
          -0.9479521343344169,
          -0.9479504011717047,
          -0.9479519404743374,
          -0.9479528294761707,
          -0.947956124653519,
          -0.9479509351458364,
          -0.947957279612869,
          -0.9479534324345139,
          -0.9479504648813138,
          -0.9479808995054357,
          -0.9479509988220878,
          -0.9479808995054357,
          -0.9480462414276738,
          -0.9479505088376367,
          -0.9479522745845672,
          -0.9479564907843353,
          -0.9479508906572012,
          -0.9479506139789449,
          -0.9479506937130738,
          -0.947950388757719,
          -0.9479740986255193,
          -0.9479528858755029,
          -0.947952737943466,
          -0.9479530735633814,
          -0.9479506497425882,
          -0.94795038868949,
          -0.9479504343704126,
          -0.9479504061707075,
          -0.9479534396941975,
          -0.947959541874473,
          -0.9479509988220878,
          -0.9479503886410565,
          -0.9479564907843353,
          -0.9479513039311016,
          -0.9479505617219659,
          -0.9479517432880811,
          -0.9479656429868667,
          -0.947965644054748,
          -0.9479504801367641,
          -0.9479504245815116,
          -0.9479506013508464,
          -0.9480144614969495,
          -0.9479564907843353,
          -0.9479504602021255,
          -0.9479504648532306,
          -0.947984951031489,
          1.435309966898786,
          0.8502155370256048,
          -0.94795038860406,
          0.5962230639338001,
          0.8502448962433495,
          -0.9479504595718331,
          -0.9479503949154201,
          -0.9479534385709454,
          -0.9479535088076244,
          -0.9479551483046749,
          -0.94795038860406,
          -0.94795038860406,
          -0.9479510389324368,
          -0.9479505127708403,
          -0.9479503916470091,
          -0.9479534396930773,
          -0.9479512707847044,
          -0.9479545823697473,
          -0.9479808995054357,
          -0.9479504374215024,
          -0.9479509011872036,
          1.435303925717847,
          -0.9479505094562877,
          -0.9479539609560182,
          -0.9479506937130738,
          -0.9479535312269021,
          -0.94795038860406,
          -0.94795038860406,
          -0.9479505106476658,
          -0.9479506308745422,
          -0.9479808995054357,
          -0.9479503886464676,
          -0.9479504090638284,
          -0.9479503916551505,
          -0.9479549652392668,
          -0.9479595785177238,
          0.8502459771613858,
          -0.947965644054748,
          -0.9479506937130738,
          -0.9479517616507845,
          0.8721881902927954,
          -0.9479503892468192,
          0.8502458754244363,
          -0.9479514164624306,
          -0.9479534396941975,
          -0.9479509278947342,
          -0.9479580400765514,
          -0.9479505411585671,
          -0.9479591092086564,
          0.8502441497565014,
          0.8502458721262279,
          -0.9479534396941975,
          0.8502332529486951,
          -0.9480143768929593,
          -0.9482520045761147,
          -0.947950388909169,
          0.8721896987832319,
          -0.9479504038651267,
          0.8721870623884834,
          0.3607026862534433,
          -0.9479505894561971,
          -0.9479506805663401,
          -0.9479506937130738,
          -0.9479505738342279,
          -0.9479508622993504,
          -0.9479503998713762,
          1.2205255908005792,
          -0.947950388604058,
          -0.9479508802769656,
          -0.9479808995054357,
          0.8502457273081517,
          1.435309417680095,
          1.4030816679874096,
          -0.9479504245594783,
          -0.9479508462675812,
          0.8502456045158143,
          -0.9484923215059797,
          -0.9479506937130738,
          -0.9482554847581119,
          -0.9479601032750612,
          -0.9479504191149615,
          -0.9479513649529039,
          -0.9479503901908432,
          1.0580150595701139,
          -0.9479534396941975,
          -0.9479504074571405,
          -0.9479809076062111,
          -0.9479509988220878,
          -0.9479504229031531,
          -0.9479503945651796,
          -0.947950401291793,
          0.89919027992551,
          -0.9479539522773409,
          -0.9479503994941841,
          -0.9479503890586021,
          1.4353100278981221,
          -0.9479503886101627,
          -0.9479504735054197,
          -0.9479503886405756,
          -0.94795038860406,
          -0.9479508302498364,
          -0.9479519577473358,
          -0.9479505793393155,
          -0.9480039203772646,
          0.8721885565342401,
          0.3532479833943625,
          1.3956382194115633,
          -0.9479506462599575,
          -0.9479506918149574,
          -0.9479507155065744,
          0.8502456270319948,
          -0.9479754072351221,
          1.435262392998236,
          0.3562886689508619,
          0.3127265205146997,
          0.5933562114712576,
          1.220531004672878,
          0.36156865969169255,
          0.3615679376027192,
          -0.9479503912938693,
          -0.9479506937130738,
          0.8502458394045755,
          1.366084409028547,
          1.4353097845890341,
          1.4353083267473676,
          0.35039847028817855,
          0.8721894028911903,
          1.4030817940816216,
          0.850245418951856,
          0.8502429843796588,
          0.35364784303476926,
          0.34316116996792534,
          0.8720383654572362,
          0.5883860623463943,
          -0.9482554696109858,
          -0.9479519474794926,
          -0.9479503886489109,
          -0.9479506214914265,
          -0.9479506911224299,
          -0.9479534396941975,
          -0.9479503916551505,
          -0.947950388909172
         ],
         "y": [
          -0.004521392993210756,
          0.0061025549814751985,
          -0.004521392994383432,
          -0.0045204985844381155,
          -0.004521392994384072,
          -0.004521388754657707,
          -0.004521019304943142,
          -0.004517863289679631,
          -0.00451744013780819,
          -0.004520997708726491,
          -0.004521310531444688,
          -0.004521392994384072,
          -0.004521392994384072,
          -0.004521353465818352,
          -0.004521130091796524,
          -0.0045210490967119085,
          -0.004521353465818352,
          0.07724202517469768,
          -0.004521382308405237,
          -0.004515463709520244,
          -0.004521392994384072,
          -0.004494494318565094,
          -0.004521330565512427,
          -0.0045213496149543895,
          -0.004520970230289116,
          -0.004521377303262963,
          0.006159503426622848,
          -0.00451744013780819,
          -0.004521392064315002,
          -0.004521392994384072,
          -0.00452073179682056,
          -0.004521063575175643,
          0.014609729921834359,
          -0.004520907949225191,
          -0.004520997708726491,
          -0.004520997708726491,
          -0.004519811851753721,
          -0.00451744013780819,
          -0.00451744013780819,
          -0.004519713030347279,
          -0.004521392994384072,
          -0.004520602423068941,
          -0.004512716655196839,
          -0.004521392994384072,
          1.9555548699498337,
          -0.0045198023648979355,
          -0.004521167804578731,
          0.026903524348346468,
          -0.004520878051725901,
          -0.004519417714337773,
          -0.004519416566096165,
          -0.00451744013780819,
          -0.00451744013780819,
          -0.004518771179152396,
          0.006106507611346915,
          -0.00451744013780819,
          -0.00452056159092847,
          -0.004520918651594985,
          -0.00451348728123227,
          -0.004517440272197083,
          -0.004510902739172133,
          -0.004520337581678324,
          -0.004519416566096165,
          -0.004513487281214052,
          -0.004521314840598057,
          -0.00451744013780819,
          -0.004521232286723075,
          0.04043192645139494,
          -0.00449908900115452,
          -0.0045213360018061186,
          -0.0045207205398071805,
          -0.0045184471352028455,
          -0.0045196794530481775,
          -0.00451749091417199,
          -0.004520396222192145,
          -0.009451031568908677,
          -0.004521126676449396,
          -0.004521392994384072,
          -0.004521375470725049,
          -0.004520602423068941,
          -0.004518570041144487,
          -0.004521392994384072,
          -0.0045202071374113185,
          -0.0045212535480288986,
          -0.00451744013780819,
          -0.004521319526857635,
          -0.004519090927424253,
          -0.004521392994384072,
          -0.004519416566096297,
          -0.0045210417328048905,
          -0.004517914480597339,
          0.040451690127913914,
          0.07343918816280527,
          -0.0045202071737948085,
          -0.00451744013780819,
          -0.004212900379279029,
          -0.00451348728123227,
          -0.00451348728123227,
          -0.004521392994384072,
          -0.00412610733679297,
          -0.004519337508964601,
          -0.004518318550383689,
          -0.004519416566096165,
          -0.004521392994384072,
          -0.004519416626733931,
          -0.00451744013780819,
          -0.004496064565813413,
          -0.004482136606604325,
          -0.0044818644286249605,
          -0.00451744013780819,
          -0.004519416566096165,
          -0.004521392994384072,
          -0.0044818644286249605,
          -0.004513487399817993,
          -0.0045202071374113185,
          -0.00451744013780819,
          -0.004517440137910283,
          -0.004521392994384072,
          -0.004511007208793394,
          -0.004521389041527515,
          -0.004519416566096165,
          -0.00451744013780819,
          -0.004519416566096165,
          -0.00451744013780819,
          -0.004519416566096165,
          -0.04031278564431454,
          -0.00451744013780819,
          -0.004519416566096165,
          -0.004519857514901529,
          0.014609297494758816,
          0.006107841412782788,
          -0.004323750165588516,
          -0.004521392994384072,
          -0.004515463709520244,
          -0.0044818644286249605,
          -0.004519416566096165,
          -0.004466322756184924,
          -0.004518749692991002,
          -0.0045186431574479454,
          -0.004520406871019778,
          -0.004521392994384072,
          -0.0044818644286249605,
          -0.004520997708726491,
          -0.004521392994384072,
          -0.004519990574492633,
          -0.004517454007741545,
          -0.004518428352168479,
          -0.00451744013780819,
          0.006102554981477581,
          -0.0045203073990555615,
          0.014613250351335271,
          -0.004519416626733931,
          -0.004516649566493004,
          -0.004515463709520244,
          -0.004519416566096165,
          -0.0044818644286249605,
          -0.004521155822989536,
          -0.004489770141776816,
          -0.0045211976546950935,
          -0.00451744013780819,
          -0.004521309984460452,
          -0.00446210014574543,
          -0.004512904299524454,
          -0.00451744013780819,
          0.006143492608954857,
          -0.00452080006589772,
          -0.004447755051452528,
          -0.00412610733679297,
          -0.004515463709520244,
          -0.004513323063244582,
          0.014625004383239715,
          -0.004514493492554374,
          -0.004521203663550942,
          -0.10849598275056305,
          -0.15276826409173105,
          -0.00452036525167436,
          -0.004521392994384072,
          -0.004517440138519669,
          0.014609297494758816,
          -0.004521392994384072,
          -0.004521371285848396,
          -0.004498194275872744,
          -0.004521389041527515,
          -0.004519811851753721,
          -0.004323750165588516,
          -0.00451744013780819,
          -0.004303949391496068,
          -0.0044028072971067705,
          -0.004519404358234133,
          -0.004519811851753721,
          -0.004520757031285075,
          -0.004520997708726491,
          -0.004516649566493004,
          -0.004520602423068941,
          -0.00451744013780819,
          -0.00450162871150454,
          0.014609297494758816,
          0.07344590212758331,
          -0.004519416566096165,
          -0.004521392994384072,
          -0.0045202189959810506,
          -0.0045202555345869215,
          -0.0045212458712247175,
          -0.004516470805748806,
          -0.004521266585165411,
          -0.004521098849276591,
          -0.004116620481010812,
          -0.004485180323212215,
          -0.004519519429871218,
          -0.0045162542808354226,
          -0.004515945463915425,
          -0.004520997708726491,
          -0.0045210775699171205,
          -0.004505549936431443,
          -0.004521392994383959,
          -0.004498367892594321,
          -0.0045067344762116995,
          -0.004519416626733931,
          -0.004521387503813055,
          -0.004486418119400407,
          0.006103749611132403,
          -0.004521392994386055,
          -0.0044818644286249605,
          -0.004520009494582495,
          -0.0045213025180899005,
          -0.004521292376218514,
          -0.00451744013780819,
          0.006102554981477581,
          -0.00412610733679297,
          -0.0044818644286249605,
          -0.0044818644286249605,
          -0.004521392994384072,
          -0.004383043014227218,
          -0.004519416566096165,
          -0.004521392994384072,
          -0.0044818644286249605,
          -0.004521370723758153,
          -0.0044818644286249605,
          -0.004491639469319671,
          -0.00451744013780819,
          -0.004521392547918081,
          -0.0045183595621916695,
          -0.004518428351952181,
          -0.00451683536033773,
          -0.004521390917203548,
          -0.0044818644286249605,
          -0.004521392994384072,
          -0.00412610733679297,
          -0.00451744013780819,
          0.014619179333017707,
          -0.004520163655989016,
          -0.004521322805131757,
          -0.0045190232164512,
          -0.0044818644286249605,
          -0.004520997708726491,
          -0.004518794228356825,
          -0.004520444308805867,
          0.006106507838053539,
          -0.004521390798422216,
          -0.0044818644286249605,
          -0.004497675854928638,
          -0.0045198964249959575,
          -0.004518969501412916,
          -0.004438383006289934,
          -0.00452020190412962,
          0.006102554981477581,
          -0.0045194733688680684,
          0.006102554981477581,
          0.16791904248814174,
          -0.004520043286960197,
          -0.004471587001527637,
          -0.004519100337570085,
          -0.004519416566096165,
          -0.0044818644286249605,
          -0.004521264610697716,
          -0.0044818644286249605,
          -0.004521392994384072,
          -0.00412610733679297,
          -0.0044818644286249605,
          -0.0044818644286249605,
          -0.00451744013780819,
          -0.004489973723615739,
          -0.004520009494582495,
          -0.004481864429117705,
          -0.004517758941565371,
          -0.0044818644286249605,
          -0.0045206043982238125,
          -0.00451744013780819,
          -0.004521334854247492,
          -0.004510103636003274,
          -0.00450162871150454,
          -0.004497675854928638,
          -0.004503605139792503,
          -0.00451744013780819,
          -0.004517435304982376,
          0.0061420835472367815,
          -0.004519917719134961,
          -0.0044818644286249605,
          -0.004521392994384072,
          -0.004501450132512458,
          0.014636418261315249,
          -0.0044028072971067705,
          -0.004510903894043496,
          -0.004519021280438545,
          -0.0044818644286249605,
          -0.004519911648049709,
          -0.0045150684238626435,
          -0.004463760382071225,
          -0.0044645962128550066,
          -0.004520602426389307,
          -0.004497675854928638,
          -0.004521392994384072,
          -0.00451744013780819,
          -0.0025551919195590145,
          -0.004520058287420778,
          -0.00451744013780819,
          -0.004462495431403039,
          -0.004302005270546845,
          -0.004521392994384072,
          -0.00451348728123227,
          -0.00450162871150454,
          -0.004520431491863137,
          -0.004486256491490591,
          -0.00451744013780819,
          -0.004505581568080442,
          -0.004521071743848704,
          -0.004521385088670948,
          -0.00450162871150454,
          -0.004518370534689067,
          -0.004521315419546086,
          -0.004521392994384072,
          -0.004520562894503134,
          -0.004521353465818352,
          -0.004521392994384072,
          -0.00451744013780819,
          -0.0045202071374113185,
          -0.004502419282819706,
          -0.004521392994384072,
          -0.00451744013780819,
          -0.004519457199768857,
          -0.0045194660597811225,
          -0.004513724452745409,
          -0.0044818644286249605,
          -0.004520997708726491,
          -0.004519416566096165,
          0.014721171919834282,
          -0.004521392844984317,
          -0.004518916791883649,
          -0.00450162871150454,
          0.014609297494758816,
          -0.0044818644286249605,
          -0.0044818644286249605,
          -0.004521392994384072,
          0.014609522415428367,
          -0.004516906555622451,
          -0.004493722998352726,
          -0.004521392994384072,
          -0.0044818644286249605,
          -0.004482950780523142,
          -0.004519416566096165,
          -0.00451744013780819,
          -0.004520079855429601,
          -0.0045175853973816425,
          -0.004521392994386055,
          -0.0044818644286249605,
          -0.00451744013780819,
          -0.002544645926559684,
          -0.004520602423068941,
          -0.00452137392003208,
          -0.004520839594463463,
          -0.004447015908697937,
          -0.004521389615882005,
          -0.00451744013780819,
          -0.004521392994384072,
          -0.0044818644286249605,
          -0.0045203215459335006,
          -0.0044818644286249605,
          0.040590040714431404,
          -0.004521175376438351,
          -0.0044818644286249605,
          -0.004521191361729258,
          -0.00451744013780819,
          -0.0045161359209958864,
          -0.0022802221335753306,
          -0.004376803404934426,
          -0.0044028072971067705,
          -0.004514228441840261,
          -0.004521392994384072,
          0.014609297494758816,
          -0.004521392994384072,
          -0.0044818644286249605,
          -0.00451744013780819,
          -0.004521392994384072,
          -0.004521392994384072,
          -0.00412610733679297,
          -0.004520333218648235,
          -0.004509534424656348,
          -0.0044818644286249605,
          -0.004442335862865881,
          -0.0044818644286249605,
          -0.04031278564431454,
          -0.004519424861597881,
          -0.004521392994384072,
          -0.00451667999360646,
          -0.0044818644286249605,
          -0.004520288078578512,
          -0.0045213928028653115,
          -0.004521392994384072,
          -0.004521337576865526,
          -0.004521361777336732,
          -0.004519811858022396,
          -0.004521392947525412,
          -0.004521322314692358,
          -0.004521387314275693,
          -0.004521292176382547,
          -0.004521391433328993,
          -0.0045213915262970845,
          -0.004521392994384072,
          -0.00451744013780819,
          -0.004518390824832315,
          -0.00452133456369254,
          -0.004521392796741271,
          -0.0044818644286249605,
          -0.004521075478393393,
          -0.004521274408686795,
          -0.00450162871150454,
          -0.004521195351357671,
          -0.004517625266782469,
          -0.011813162122386325,
          -0.004520562384173556,
          -0.00451744013780819,
          -0.004438383006289934,
          -0.004520427361074415,
          -0.004521392795626253,
          -0.004521392218261724,
          -0.0044028072971067705,
          -0.0044818644286249605,
          -0.00451744013780819,
          -0.004521321699200484,
          -0.004521301378882133,
          -0.004521389774016683,
          -0.004521387867602064,
          -0.00451744013780819,
          -0.004498010740937742,
          -0.00452135915885058,
          -0.0044917474796046086,
          -0.004521392994384072,
          -0.0045213929732162445,
          -0.004521392847666977,
          -0.00448225971428258,
          -0.004521177761276812,
          -0.004511510852944337,
          -0.004521392994384072,
          -0.004521392994384072,
          -0.004521392994384072,
          -0.004513091995574638,
          -0.004521392994384072,
          -0.0044818644286249605,
          -0.004520602423068941,
          -0.00450162871150454,
          -0.00451744013780819,
          -0.004521392994384072,
          -0.00452136191846848,
          -0.004521243598753478,
          -0.004521392987185553,
          -0.004521391379626313,
          -0.004521392917339089,
          -0.004521392269733846,
          -0.004512231136892349,
          -0.00452123328719131,
          -0.004521392994384072,
          -0.004521392994384072,
          -0.004521392994384072,
          -0.004521389816030555,
          -0.004521392994384072,
          -0.004521392798376465,
          -0.004521392961515644,
          -0.004521392994384072,
          -0.004521353465818352,
          -0.004521392819270306,
          -0.004520993073726907,
          -0.004518201551272941,
          -0.004521392994384072,
          -0.004521237449477827,
          -0.004521392994384072,
          -0.004520899277399967,
          -0.004442335862865881,
          -0.004521392991957986,
          -0.004520726077273036,
          -0.00450162871150454,
          -0.004520997719028456,
          -0.004517440735555998,
          -0.004521392994384072,
          -0.004521392994384072,
          -0.00452111269224307,
          -0.004520997708726491,
          -0.004517692615183339,
          -0.0045213928757984,
          -0.0045209728301764725,
          -0.0044818644286249605,
          -0.004521343585194724,
          -0.004521191471147716,
          -0.004521385832642979,
          -0.004521392994384072,
          -0.004521392789863879,
          -0.004515463709520244,
          -0.0045206416277830735,
          -0.004517440329527819,
          -0.004516479101709561,
          -0.004521369425108398,
          -0.004520756584471415,
          -0.004515859896351058,
          -0.004509534424656348,
          -0.00452138220126308,
          -0.0045213928362699395,
          -0.004518879046725416,
          -0.004520500196184415,
          -0.004519989726055161,
          -0.004521392994384072,
          -0.004521392856034117,
          0.014609337808394374,
          -0.00451348728123227,
          0.014609620750741986,
          -0.004521392994384072,
          -0.004520997708726491,
          -0.004520602423068941,
          -0.004521314329652675,
          -0.004521349668553285,
          0.05835765800692894,
          -0.004521385949281628,
          -0.00451744013780819,
          -0.004521392796749302,
          -0.0044818644286249605,
          -0.004521135155627832,
          -0.004509534424656348,
          -0.004521392994384072,
          -0.004521392994384072,
          -0.004521294172969672,
          -0.004515266784581627,
          -0.004520997708726491,
          -0.004521137018179258,
          -0.004519811851753721,
          -0.004518187910203555,
          -0.004520809150298738,
          -0.004518305062882136,
          -0.0044996517374938415,
          -0.0045213850886314045,
          -0.004509534424656348,
          -0.004521392994384072,
          -0.004521309984395993,
          -0.004521274408686795,
          -0.004521392954855503,
          -0.004517911690850451,
          -0.00451744013780819,
          -0.0045213928757984,
          -0.0045202071374113185,
          -0.004521389832098814,
          -0.00450603460464946,
          -0.004521392994384072,
          -0.0045213913952543905,
          -0.004521392994386055,
          -0.004517323463823554,
          -0.004010449305290409,
          -0.00452095813951233,
          -0.0044818644286249605,
          -0.004477912071605578,
          -0.0044818644286249605,
          -0.00451744013780819,
          -0.004521392994384072,
          -0.00412610733679297,
          -0.004521386970104584,
          -0.00451744013780819,
          -0.004520514293308417,
          -0.004513714885595144,
          -0.004481894304315009,
          -0.004486607856516069,
          -0.004442335862865881,
          -0.00451662683756767,
          -0.0045174519416918465,
          -0.00451744013780819,
          0.014609297494758816,
          -0.0045213929907894305,
          -0.004521387370304034,
          -0.00452080006589772,
          -0.004521366667671385,
          -0.004521392927185528,
          -0.004505186282422838,
          -0.00452058642251735,
          -0.00452139298714571,
          -0.0045175332576684385,
          -0.0045207805725814235,
          -0.004520263606789842,
          -0.004483530477256024,
          -0.004515700873638478,
          0.014630642920269025,
          -0.004483576850302733,
          -0.004517833045504474,
          -0.0044818644286249605,
          -0.004521375392601248,
          -0.07070209860670423,
          -0.004519604830389305,
          -0.00412610733679297,
          -0.004519416626733931,
          -0.004521331050085993,
          -0.00451744013780819,
          -0.004520997708726491,
          -0.004521392919988753,
          -0.0045209024290248125,
          -0.00451744013780819,
          -0.004501700532584793,
          -0.004497675855108626,
          -0.004520519413080943,
          -0.004520440055740659,
          -0.004520657763060972,
          -0.00451744013780819,
          -0.00452118249589331,
          -0.0045213557504752405,
          -0.004521290749518797,
          -0.004521195351555285,
          -0.00451744013780819,
          -0.0044818644286249605,
          -0.004521195351555285,
          -0.004519416429083129,
          -0.004521370683827227,
          -0.004519348019168163,
          -0.0044818644286249605,
          -0.0044028072971067705,
          -0.004520997708726491,
          -0.00452112150768575,
          -0.004519416566096165,
          -0.004504790996765266,
          -0.004517571118110194,
          -0.004519689006861593,
          -0.004520997708726491,
          -0.004520997708726491,
          -0.004511550380877627,
          -0.004521315404205103,
          -0.004520581796051567,
          -0.004519416566096165,
          -0.004517965851613557,
          -0.0045202738255271996,
          -0.004517489548515379,
          -0.004521343046782917,
          -0.00451748318455622,
          -0.0045089747292068405,
          -0.00451744013780819,
          -0.004518823637609723,
          -0.00451744013780819,
          -0.004519416566096165,
          -0.00451744013780819,
          -0.00452085515700466,
          -0.0044028072971067705,
          -0.004521392994384072,
          -0.004521388133138003,
          -0.004517264322043913,
          -0.004520997708726491,
          -0.004503938336278684,
          -0.0045152383966954295,
          -0.004520151167867557,
          -0.004520421577698046,
          -0.00451744013780819,
          -0.004521370289625938,
          -0.004520997708730459,
          -0.004521167990778684,
          -0.004516649566493004,
          -0.004513091995574638,
          -0.004515524557893028,
          -0.004520997708726491,
          0.01461522659771342,
          -0.00451348728123227,
          -0.004521333701535442,
          -0.004489770141776816,
          -0.004519131303837825,
          -0.004521376712303699,
          -0.00451938246032767,
          -0.004518230709123367,
          -0.00451396162402138,
          -0.004520684919185646,
          -0.004512465310095591,
          -0.004517449546306391,
          -0.004521294172969672,
          -0.0044818644286249605,
          -0.004520602423068941,
          -0.0044818644286249605,
          -0.0043972103425918676,
          -0.004521237225113968,
          -0.004518949601985366,
          -0.00451348728123227,
          -0.004520742337098095,
          -0.0045211010194615535,
          -0.004520997708726491,
          -0.0045213927953104225,
          -0.0044906753459326605,
          -0.004518157640658254,
          -0.004518349294820678,
          -0.0045179144805972534,
          -0.004521054674931056,
          -0.0045213928837050865,
          -0.004521333701535442,
          -0.004521370235817873,
          -0.00451744013780819,
          -0.004509534424656348,
          -0.004520602423068941,
          -0.004521392946453228,
          -0.00451348728123227,
          -0.0045202071374113185,
          -0.004521168710531326,
          -0.004519637926064402,
          -0.004501630095004331,
          -0.00450162871150454,
          -0.004521274408686795,
          -0.0045213463835988765,
          -0.004521117276068303,
          -0.004438383006289934,
          -0.00451348728123227,
          -0.004521300203803125,
          -0.004521294176003437,
          -0.0044766154518075495,
          0.0061026340361816575,
          0.01464880595990871,
          -0.004521392994384072,
          -0.06785011603171592,
          0.014610769007103931,
          -0.00452130102065779,
          -0.004521384819879776,
          -0.004517440259079902,
          -0.004517351901755901,
          -0.004515226538125678,
          -0.004521392994384072,
          -0.004521392994384072,
          -0.004520550457885603,
          -0.004521232135797199,
          -0.004521389052075148,
          -0.004517440139259684,
          -0.00452025008040819,
          -0.004515959738228109,
          -0.0044818644286249605,
          -0.004521329748678908,
          -0.00452072891447933,
          0.006110460694629562,
          -0.004521236423617455,
          -0.004516764814194998,
          -0.004520997708726491,
          -0.004517321552110931,
          -0.004521392994384072,
          -0.004521392994384072,
          -0.0045212348801210766,
          -0.004521079119531265,
          -0.0044818644286249605,
          -0.004521392939442589,
          -0.004521366487618458,
          -0.004521389041527515,
          -0.004515463709520244,
          -0.004509486951291604,
          0.014609369105854964,
          -0.00450162871150454,
          -0.004520997708726491,
          -0.004519614202861357,
          -0.00945301776848242,
          -0.004521392161654341,
          0.014609500956215046,
          -0.004520061346830013,
          -0.00451744013780819,
          -0.004520694313391654,
          -0.004511476740672921,
          -0.004521195351555285,
          -0.004510095389994353,
          0.014611736075081164,
          0.014609505097224173,
          -0.00451744013780819,
          0.014625859594641126,
          -0.00443849272774671,
          -0.0041306327661459795,
          -0.004521392599098454,
          -0.009454972761316627,
          -0.004521373229494856,
          -0.009451557347004086,
          0.09158826834889162,
          -0.004521132779295802,
          -0.004521014868651016,
          -0.004520997708726491,
          -0.004521152937409298,
          -0.004520779295849991,
          -0.004521378398694868,
          -0.060242877832018774,
          -0.004521392994386055,
          -0.00452075607004495,
          -0.0044818644286249605,
          0.014609692780416931,
          0.0061033455527929594,
          0.04584787465649144,
          -0.004521346396419219,
          -0.00452080006589772,
          0.014609851864703914,
          -0.003819288848501385,
          -0.004520997708726491,
          -0.004126123997255068,
          -0.004508807099042446,
          -0.004521353465818352,
          -0.00452012808027979,
          -0.0045213909386187775,
          -0.020313114551078395,
          -0.00451744013780819,
          -0.004521368569653236,
          -0.004481853933621172,
          -0.004520602423068941,
          -0.004521348559018089,
          -0.004521385271422945,
          -0.004521376556722526,
          0.058359562360316065,
          -0.00451677605790343,
          -0.004521378885777684,
          -0.0045213924054999036,
          0.006102554981477581,
          -0.004521392986478375,
          -0.004521283002861513,
          -0.0045213929470759385,
          -0.004521392994384072,
          -0.004520820922195611,
          -0.004519359395903372,
          -0.004521145936300404,
          -0.004452044222130341,
          -0.009453492414780117,
          0.006699992913838998,
          0.03129388956048474,
          -0.004521059074181186,
          -0.004521000167842037,
          -0.004520969474037251,
          0.014609822871045777,
          -0.004488982371732221,
          0.006164261448020154,
          -0.17145992765683693,
          0.16118037605397242,
          -0.19370336180864703,
          -0.06024989430530274,
          0.08059119631937954,
          0.08059213180791883,
          -0.004521389509745464,
          -0.004520997708726491,
          0.014609547637697591,
          -0.023024055195400336,
          0.00610287030831761,
          0.006104759660707769,
          0.13736210870505766,
          -0.009454589420788894,
          0.04584771127932659,
          0.014610092261184482,
          0.01461324639648252,
          0.14215003860429468,
          0.1217506322419893,
          -0.009258845851463094,
          0.06867391753051444,
          -0.004126143621197951,
          -0.00451937338476029,
          -0.0045213929362770975,
          -0.004521091275878351,
          -0.004521001065049406,
          -0.00451744013780819,
          -0.004521389041527515,
          -0.0045213925990945075
         ],
         "z": [
          0.01897973101761027,
          -0.017379835721824097,
          0.018979731024687498,
          0.018974384583144262,
          0.018979731024687554,
          0.01897970568295773,
          0.0189774973338655,
          0.018958632737262428,
          0.018956103224469615,
          0.018977368244665765,
          0.018979238110931367,
          0.018979731024687554,
          0.018979731024687554,
          0.018979494746685376,
          0.018978159551071856,
          0.018977675411148903,
          0.018979494746685376,
          -0.038198638076090474,
          0.018979667150330202,
          0.018944289324360628,
          0.018979731024687554,
          0.018818946911686434,
          0.018979357848702208,
          0.018979471728535664,
          0.01897720399508682,
          0.01897963723259884,
          -0.01772023356210718,
          0.018956103224469615,
          0.01897972546529356,
          0.018979731024687554,
          0.018975778783154068,
          0.018977761954700807,
          0.0422670295354671,
          0.018976831716328687,
          0.018977368244665765,
          0.018977368244665765,
          0.01897027990460038,
          0.018956103224469615,
          0.018956103224469615,
          0.018969689209642177,
          0.018979731024687554,
          0.01897500546464396,
          0.018927869085099674,
          0.018979731024687554,
          -11.697177803004548,
          0.018970223197879863,
          0.01897838501279864,
          -0.16885948919677288,
          0.018976653007051956,
          0.018967923553911217,
          0.018967917124578567,
          0.018956103224469615,
          0.018956103224469615,
          0.018964059389425136,
          -0.017403462166923532,
          0.018956103224469615,
          0.018974761394656075,
          0.018976895688661396,
          0.018932475424251652,
          0.01895610402776554,
          0.018917026585600554,
          0.018973422402029365,
          0.018967917124578567,
          0.01893247542414278,
          0.018979263868339362,
          0.018956103224469615,
          0.018978770410904882,
          0.03879152104808798,
          0.01884641116195775,
          0.018979390357319513,
          0.01897571149549553,
          0.01896212244950456,
          0.018969488504734514,
          0.01895640673504651,
          0.018973772919767352,
          0.01964706164139879,
          0.01897813913617991,
          0.018979731024687554,
          0.018979626278791788,
          0.01897500546464396,
          0.018962857616337637,
          0.018979731024687554,
          0.018972642684622173,
          0.018978897498209014,
          0.018956103224469615,
          0.018979291879981874,
          0.018965970918671457,
          0.018979731024687554,
          0.018967917124579525,
          0.01897763139413983,
          0.018958938560496092,
          0.03867338132740988,
          0.0988759397505662,
          0.018972642641457975,
          0.018956103224469615,
          0.017135747632313635,
          0.018932475424251652,
          0.018932475424251652,
          0.018979731024687554,
          0.01661695100289228,
          0.018967444568574236,
          0.018961353846758643,
          0.018967917124578567,
          0.018979731024687554,
          0.01896791705263039,
          0.018956103224469615,
          0.018828337330167613,
          0.018745079938839653,
          0.018743453022508027,
          0.018956103224469615,
          0.018967917124578567,
          0.018979731024687554,
          0.018743453022508027,
          0.018932476133085678,
          0.018972642684622173,
          0.018956103224469615,
          0.018956103225079873,
          0.018979731024687554,
          0.018917651042191137,
          0.018979707396887344,
          0.018967917124578567,
          0.018956103224469615,
          0.018967917124578567,
          0.018956103224469615,
          0.018967917124578567,
          0.03229580535003105,
          0.018956103224469615,
          0.018967917124578567,
          0.01897055294836632,
          0.04226961441960313,
          -0.01741143425433179,
          0.017798341013789926,
          0.018979731024687554,
          0.018944289324360628,
          0.018743453022508027,
          0.018967917124578567,
          0.018650554248061058,
          0.018963930958069326,
          0.018963294152640232,
          0.018973836572056854,
          0.018979731024687554,
          0.018743453022508027,
          0.018977368244665765,
          0.018979731024687554,
          0.018971348201688366,
          0.01895618613059287,
          0.018962010175817192,
          0.018956103224469615,
          -0.017379835721822667,
          0.018973241988455857,
          0.04224598661938532,
          0.01896791705263039,
          0.018951377664426016,
          0.018944289324360628,
          0.018967917124578567,
          0.018743453022508027,
          0.01897831335667448,
          0.01879070862294395,
          0.018978563401461715,
          0.018956103224469615,
          0.018979234841268348,
          0.018625314021418253,
          0.018928990710081285,
          0.018956103224469615,
          -0.017624536247848033,
          0.018976186854654853,
          0.01853956858402166,
          0.01661695100289228,
          0.018944289324360628,
          0.01893149382784638,
          0.042175728082990534,
          0.018938489950617293,
          0.018978599318789657,
          0.06339833036777984,
          -0.008323730036706308,
          0.018973587796630883,
          0.018979731024687554,
          0.018956103228722616,
          0.04226961441960313,
          0.018979731024687554,
          0.01897960126411195,
          0.01884106303211753,
          0.018979707396887344,
          0.01897027990460038,
          0.017798341013789926,
          0.018956103224469615,
          0.017680022979770713,
          0.018270897018148977,
          0.01896784371621737,
          0.01897027990460038,
          0.018975929619612218,
          0.018977368244665765,
          0.018951377664426016,
          0.01897500546464396,
          0.018956103224469615,
          0.018861592023597804,
          0.04226961441960313,
          -0.00275040218595695,
          0.018967917124578567,
          0.018979731024687554,
          0.018972713568022836,
          0.0189729319844799,
          0.018978851610888792,
          0.018950309882826092,
          0.018978975426373442,
          0.01897797280206999,
          0.016560244282369213,
          0.018763273446888825,
          0.018968531982386135,
          0.018949014884404244,
          0.0189471689625122,
          0.018977368244665765,
          0.01897784560685211,
          0.018885031610717855,
          0.018979731024686867,
          0.018842103740888783,
          0.0188921112155148,
          0.01896791705263039,
          0.018979698205354674,
          0.018770672248359117,
          -0.017386976499706382,
          0.018979731024699374,
          0.018743453022508027,
          0.01897146129461129,
          0.018979190211793527,
          0.018979129589783678,
          0.018956103224469615,
          -0.017379835721822667,
          0.01661695100289228,
          0.018743453022508027,
          0.018743453022508027,
          0.018979731024687554,
          0.018152758017059206,
          0.018967917124578567,
          0.018979731024687554,
          0.018743453022508027,
          0.018979597904274247,
          0.018743453022508027,
          0.018801884487735548,
          0.018956103224469615,
          0.018979728355982085,
          0.01896159899069118,
          0.018962010174524098,
          0.018952488228333664,
          0.01897971860855096,
          0.018743453022508027,
          0.018979731024687554,
          0.01661695100289228,
          0.018956103224469615,
          0.04221054455927001,
          0.018972382778819772,
          0.018979311475533854,
          0.018965565917302033,
          0.018743453022508027,
          0.018977368244665765,
          0.018964197163712268,
          0.01897406035263524,
          -0.017403463522040478,
          0.018979717898065053,
          0.018743453022508027,
          0.018837964223379845,
          0.01897078543259832,
          0.018965244840670217,
          0.018483547220110558,
          0.01897261140321041,
          -0.017379835721822667,
          0.01896825623546744,
          -0.017379835721822667,
          0.08550093935472884,
          0.018971663285129545,
          0.01868202074194134,
          0.018966026900561154,
          0.018967917124578567,
          0.018743453022508027,
          0.01897896362419272,
          0.018743453022508027,
          0.018979731024687554,
          0.01661695100289228,
          0.018743453022508027,
          0.018743453022508027,
          0.018956103224469615,
          0.018791925512787033,
          0.01897146129461129,
          0.018743453025453254,
          0.018958008841670464,
          0.018743453022508027,
          0.01897501728005525,
          0.018956103224469615,
          0.018979383503370337,
          0.018912250027265085,
          0.018861592023597804,
          0.018837964223379845,
          0.01887340592370679,
          0.018956103224469615,
          0.018956073466844112,
          -0.017616113724002236,
          0.018970912716159728,
          0.018743453022508027,
          0.018979731024687554,
          0.018860524585741785,
          0.04210750550892159,
          0.018270897018148977,
          0.01891703349864631,
          0.018965554344556778,
          0.018743453022508027,
          0.018970876426861683,
          0.018941926544338832,
          0.018635237916066975,
          0.018640234010004624,
          0.018975005484491325,
          0.018837964223379845,
          0.018979731024687554,
          0.018956103224469615,
          0.007226530877262827,
          0.018971752952378313,
          0.018956103224469615,
          0.01862767680144004,
          0.017668393077832252,
          0.018979731024687554,
          0.018932475424251652,
          0.018861592023597804,
          0.018973983789969867,
          0.01876970613388233,
          0.018956103224469615,
          0.018885219823815757,
          0.01897781079839036,
          0.018979683769087114,
          0.018861592023597804,
          0.01896166457768414,
          0.018979267329268565,
          0.018979731024687554,
          0.018974769186641812,
          0.018979494746685376,
          0.018979731024687554,
          0.018956103224469615,
          0.018972642684622173,
          0.01886631758364139,
          0.018979731024687554,
          0.018956103224469615,
          0.018968160104060734,
          0.018968212544533236,
          0.018933893092973556,
          0.018743453022508027,
          0.018977368244665765,
          0.018967917124578567,
          0.04160091521543858,
          0.018979730131665633,
          0.018964929774792385,
          0.018861592023597804,
          0.04226961441960313,
          0.018743453022508027,
          0.018743453022508027,
          0.018979731024687554,
          0.04226826992962582,
          0.01895291379094415,
          0.01881433642316188,
          0.018979731024687554,
          0.018743453022508027,
          0.018749946581058226,
          0.018967917124578567,
          0.018956103224469615,
          0.018971881869455167,
          0.01895697149887201,
          0.018979731024699374,
          0.018743453022508027,
          0.018956103224469615,
          0.007164359789277722,
          0.01897500546464396,
          0.018979617005485973,
          0.018976423132657065,
          0.018535133172695402,
          0.018979710829290723,
          0.018956103224469615,
          0.018979731024687554,
          0.018743453022508027,
          0.01897332631448348,
          0.018743453022508027,
          0.03784640903936989,
          0.01897843023543607,
          0.018743453022508027,
          0.01897852578589526,
          0.018956103224469615,
          0.018948307400439637,
          0.005583358974107563,
          0.018115429603131852,
          0.018270897018148977,
          0.018936905636792532,
          0.018979731024687554,
          0.04226961441960313,
          0.018979731024687554,
          0.018743453022508027,
          0.018956103224469615,
          0.018979731024687554,
          0.018979731024687554,
          0.01661695100289228,
          0.01897339632245858,
          0.018908847624033706,
          0.018743453022508027,
          0.018507175020328528,
          0.018743453022508027,
          0.03229580535003105,
          0.018967966277506142,
          0.018979731024687554,
          0.018951559539418183,
          0.018743453022508027,
          0.01897312650267347,
          0.018979729879903342,
          0.018979731024687554,
          0.018979399772077712,
          0.01897954442794546,
          0.018970279942072014,
          0.01897973074459445,
          0.01897930854398185,
          0.018979697072414342,
          0.018979128395284643,
          0.018979721693638606,
          0.01897972224934591,
          0.018979731024687554,
          0.018956103224469615,
          0.018961785859962388,
          0.01897938176114103,
          0.018979729843297537,
          0.018743453022508027,
          0.01897783312207438,
          0.01897902219068103,
          0.018861592023597804,
          0.01897854963349521,
          0.01895720981418129,
          0.13362861956314862,
          0.01897476613619826,
          0.018956103224469615,
          0.018483547220110558,
          0.01897395883703961,
          0.01897972983663271,
          0.018979726385494753,
          0.018270897018148977,
          0.018743453022508027,
          0.018956103224469615,
          0.01897930486494145,
          0.01897918340229458,
          0.01897971177526723,
          0.018979700379866796,
          0.018956103224469615,
          0.01883996597061433,
          0.018979528776209613,
          0.01880252144366448,
          0.018979731024687554,
          0.018979730898158912,
          0.018979730147700796,
          0.018745815802529844,
          0.018978444491044837,
          0.018920661524142655,
          0.018979731024687554,
          0.018979731024687554,
          0.018979731024687554,
          0.018930112644229877,
          0.018979731024687554,
          0.018743453022508027,
          0.01897500546464396,
          0.018861592023597804,
          0.018956103224469615,
          0.018979731024687554,
          0.018979545271546373,
          0.018978838027421948,
          0.01897973098165902,
          0.01897972137263633,
          0.018979730564158963,
          0.018979726693163966,
          0.018924966948561238,
          0.018978776391102455,
          0.018979731024687554,
          0.018979731024687554,
          0.018979731024687554,
          0.01897971202640105,
          0.018979731024687554,
          0.0189797298530718,
          0.018979730828219653,
          0.018979731024687554,
          0.018979494746685376,
          0.01897972997796254,
          0.01897734053942463,
          0.018960654663770872,
          0.018979731024687554,
          0.018978801270749,
          0.018979731024687554,
          0.018976779989883348,
          0.018507175020328528,
          0.018979731010185803,
          0.018975744595137442,
          0.018861592023597804,
          0.018977368306244552,
          0.01895610679744665,
          0.018979731024687554,
          0.018979731024687554,
          0.018978055485391533,
          0.018977368244665765,
          0.018957612611694565,
          0.018979730315853562,
          0.0189772195356502,
          0.018743453022508027,
          0.018979435675397654,
          0.01897852643993292,
          0.018979688216104632,
          0.018979731024687554,
          0.018979729802188542,
          0.018944289324360628,
          0.01897523981547307,
          0.018956104370454308,
          0.01895035877784687,
          0.01897959014436592,
          0.018975926948828832,
          0.01894665749105435,
          0.018908847624033706,
          0.01897966650989874,
          0.018979730079576228,
          0.01896470415692829,
          0.018974394413785595,
          0.018971343160647386,
          0.018979731024687554,
          0.018979730197714543,
          0.042269373440067495,
          0.018932475424251652,
          0.042267682118621655,
          0.018979731024687554,
          0.018977368244665765,
          0.01897500546464396,
          0.01897926081421491,
          0.018979472048917787,
          0.10957382208157823,
          0.018979688913300263,
          0.018956103224469615,
          0.018979729843302186,
          0.018743453022508027,
          0.01897818981962784,
          0.018908847624033706,
          0.018979731024687554,
          0.018979731024687554,
          0.01897914032968212,
          0.0189431108789277,
          0.018977368244665765,
          0.01897820089656038,
          0.01897027990460038,
          0.01896057312266063,
          0.01897624115574274,
          0.018961273234137953,
          0.018849778771128974,
          0.01897968376885085,
          0.018908847624033706,
          0.018979731024687554,
          0.01897923484088297,
          0.01897902219068103,
          0.018979730788409557,
          0.018958921988713406,
          0.018956103224469615,
          0.018979730315853562,
          0.018972642684622173,
          0.0189797121224474,
          0.01888792780406719,
          0.018979731024687554,
          0.01897972146605812,
          0.018979731024699374,
          0.018955405817532082,
          0.0159255045170981,
          0.01897713172369167,
          0.018743453022508027,
          0.018719828208338424,
          0.018743453022508027,
          0.018956103224469615,
          0.018979731024687554,
          0.01661695100289228,
          0.018979695015166317,
          0.018956103224469615,
          0.01897447867791789,
          0.018933835906300895,
          0.01874363160142207,
          0.018771806382769568,
          0.018507175020328528,
          0.018951241804574793,
          0.018956173783584374,
          0.018956103224469615,
          0.04226961441960313,
          0.018979731003200065,
          0.018979697407318207,
          0.018976186854654853,
          0.018979573659426166,
          0.018979730623014966,
          0.01888285704379396,
          0.018974909822966034,
          0.018979730981420945,
          0.01895665983901196,
          0.018976070461189674,
          0.018972980224618543,
          0.018753412025820083,
          0.018945707001008907,
          0.04214202429842628,
          0.018753688849817582,
          0.018958451790468237,
          0.018743453022508027,
          0.01897962581181179,
          -0.09348522065804282,
          0.01896904245534157,
          0.01661695100289228,
          0.01896791705263039,
          0.018979360758913422,
          0.018956103224469615,
          0.018977368244665765,
          0.018979730579996922,
          0.018976798719889554,
          0.018956103224469615,
          0.01886202132683798,
          0.018837964224455765,
          0.01897450928084034,
          0.018974034930368096,
          0.018975336253847036,
          0.018956103224469615,
          0.01897847279125791,
          0.018979508403402234,
          0.018979119866350674,
          0.018978549634676663,
          0.018956103224469615,
          0.018743453022508027,
          0.018978549634676663,
          0.018967915871235735,
          0.018979597665591444,
          0.01896750739225249,
          0.018743453022508027,
          0.018270897018148977,
          0.018977368244665765,
          0.018978108240418068,
          0.018967917124578567,
          0.01888049426377215,
          0.018956886145971907,
          0.01896954561168741,
          0.018977368244665765,
          0.018977368244665765,
          0.018920897798364398,
          0.018979267237243407,
          0.018974882168734913,
          0.018967917124578567,
          0.018959245741099015,
          0.01897304130608709,
          0.01895639857197234,
          0.018979432467955408,
          0.018956360541511782,
          0.018905502101116283,
          0.018956103224469615,
          0.0189643729545459,
          0.018956103224469615,
          0.018967917124578567,
          0.018956103224469615,
          0.018976516272541665,
          0.018270897018148977,
          0.018979731024687554,
          0.018979701967081052,
          0.01895505230352844,
          0.018977368244665765,
          0.01887539757198896,
          0.018942942539748212,
          0.01897230813233752,
          0.018973924479738245,
          0.018956103224469615,
          0.018979595309293208,
          0.018977368244689388,
          0.01897838608840301,
          0.018951377664426016,
          0.018930112644229877,
          0.018944653052726666,
          0.018977368244665765,
          0.042234172503407906,
          0.018932475424251652,
          0.0189793766076843,
          0.01879070862294395,
          0.01896621199829347,
          0.018979633700199436,
          0.01896771326079846,
          0.018960828784513186,
          0.0189353107602778,
          0.01897549857683453,
          0.01892636669518905,
          0.01895615946488364,
          0.01897914032968212,
          0.018743453022508027,
          0.01897500546464396,
          0.018743453022508027,
          0.01823744178885671,
          0.01897879992963672,
          0.018965125893855714,
          0.018932475424251652,
          0.018975841643582285,
          0.018977985781130344,
          0.018977368244665765,
          0.018979729834744812,
          0.01879611938919385,
          0.018960392025156387,
          0.018961537618519746,
          0.018958938560495762,
          0.018977708754389314,
          0.01897973036311506,
          0.0189793766076843,
          0.018979594987660928,
          0.018956103224469615,
          0.018908847624033706,
          0.01897500546464396,
          0.018979730738185843,
          0.018932475424251652,
          0.018972642684622173,
          0.01897839039065146,
          0.018969240281390784,
          0.018861600293327875,
          0.018861592023597804,
          0.01897902219068103,
          0.01897945241343514,
          0.018978082885750494,
          0.018483547220110558,
          0.018932475424251652,
          0.018979176357983542,
          0.018979140326095927,
          0.018712077794692677,
          -0.017380308280693438,
          0.042033456571202193,
          0.018979731024687554,
          0.025257845667663474,
          0.042260818905578826,
          0.01897918124082911,
          0.01897968216385605,
          0.018956103080549583,
          0.018955576651837055,
          0.018942871656347546,
          0.018979731024687554,
          0.018979731024687554,
          0.018974694848018805,
          0.018978769512907365,
          0.018979707459934797,
          0.01895610323314564,
          0.018972899372040785,
          0.018947254285771938,
          0.018743453022508027,
          0.018979352979884064,
          0.01897576155425096,
          -0.017427091322258448,
          0.018978795138772268,
          0.018952066545903576,
          0.018977368244665765,
          0.01895539439046307,
          0.018979731024687554,
          0.018979731024687554,
          0.01897878591267884,
          0.01897785486951352,
          0.018743453022508027,
          0.018979730696280197,
          0.018979572583178034,
          0.018979707396887344,
          0.018944289324360628,
          0.018908563856799395,
          0.042269186355783174,
          0.018861592023597804,
          0.018977368244665765,
          0.018969098521785476,
          0.01965893351611416,
          0.018979726047129806,
          0.042268398204615934,
          0.01897177123617398,
          0.018956103224469615,
          0.01897555472975025,
          0.018920455441904044,
          0.018978549634676663,
          0.01891220101292742,
          0.042255038385311014,
          0.04226837353812605,
          0.018956103224469615,
          0.04217061250302752,
          0.018484203142152884,
          0.016644001298950384,
          0.018979728661907513,
          0.019670619717673386,
          0.018979612886406077,
          0.01965020454233104,
          0.04092090216766443,
          0.018978175615326845,
          0.018977470899484882,
          0.018977368244665765,
          0.018978296055646337,
          0.01897606270379629,
          0.018979643781568033,
          0.024114328112177286,
          0.018979731024699374,
          0.01897592391635659,
          0.018743453022508027,
          0.04226725163958156,
          -0.0173845612818661,
          0.005629326875213267,
          0.018979452479825368,
          0.018976186854654853,
          0.04226630072935183,
          0.014782974534151564,
          0.018977368244665765,
          0.016617050589118918,
          0.018904500108769963,
          0.018979494746685376,
          0.018972170128617814,
          0.018979718736558453,
          0.07005192575018346,
          0.018956103224469615,
          0.01897958502864339,
          0.0187433902896847,
          0.01897500546464396,
          0.018979465417442637,
          0.01897968486146858,
          0.01897963277022881,
          0.1095624390177349,
          0.018952133754033,
          0.0189796466920203,
          0.018979727504691686,
          -0.017379835721822667,
          0.018979730977431972,
          0.01897907356337983,
          0.018979730741907702,
          0.018979731024687554,
          0.018976311589074615,
          0.01896757494855202,
          0.018978254292570947,
          0.01856520875823339,
          0.019661770770654424,
          -0.06328519887766682,
          -0.07732892492614203,
          0.0189777349770665,
          0.01897738294378016,
          0.018977199474667587,
          0.04226647392053082,
          0.0187860013717328,
          -0.01774867519938904,
          0.027847818332190813,
          -0.3819712449352108,
          0.13749072929797837,
          0.024156270000383815,
          0.04272244706193686,
          0.04271685528543935,
          0.018979710195715527,
          0.018977368244665765,
          0.04226811916051778,
          -0.0772143023257018,
          -0.01738172062541283,
          -0.017393014453431617,
          0.10381010603244825,
          0.019668328341079917,
          0.005630303455530227,
          0.04226486379148261,
          0.04224601025911716,
          0.1243213919625525,
          -0.1462839626664934,
          0.018498247850257228,
          0.17303206534102972,
          0.016617167889251657,
          0.018967659012512898,
          0.0189797306773589,
          0.018977927532848472,
          0.018977388306746265,
          0.018956103224469615,
          0.018979707396887344,
          0.018979728661883886
         ]
        },
        {
         "customdata": [
          [
           "ECC 256K1"
          ]
         ],
         "hovertemplate": "<b>%{hovertext}</b><br><br>Class=%{marker.color}<br>PC 1=%{x}<br>PC 2=%{y}<br>PC 3=%{z}<br>Algorithm=%{customdata[0]}<extra></extra>",
         "hovertext": [
          "Acute Angle Cloud"
         ],
         "legendgroup": "1",
         "marker": {
          "color": [
           1
          ],
          "coloraxis": "coloraxis",
          "symbol": "square"
         },
         "mode": "markers",
         "name": "1",
         "scene": "scene",
         "showlegend": true,
         "type": "scatter3d",
         "x": [
          4.197920903469537
         ],
         "y": [
          31.61601809038897
         ],
         "z": [
          -9.971333024355742
         ]
        },
        {
         "customdata": [
          [
           "Leased POS"
          ]
         ],
         "hovertemplate": "<b>%{hovertext}</b><br><br>Class=%{marker.color}<br>PC 1=%{x}<br>PC 2=%{y}<br>PC 3=%{z}<br>Algorithm=%{customdata[0]}<extra></extra>",
         "hovertext": [
          "Waves"
         ],
         "legendgroup": "2",
         "marker": {
          "color": [
           2
          ],
          "coloraxis": "coloraxis",
          "symbol": "x"
         },
         "mode": "markers",
         "name": "2",
         "scene": "scene",
         "showlegend": true,
         "type": "scatter3d",
         "x": [
          4.205673541659358
         ],
         "y": [
          1.4879269984491281
         ],
         "z": [
          36.376771228605556
         ]
        }
       ],
       "layout": {
        "coloraxis": {
         "colorbar": {
          "title": {
           "text": "Class"
          }
         },
         "colorscale": [
          [
           0,
           "#0d0887"
          ],
          [
           0.1111111111111111,
           "#46039f"
          ],
          [
           0.2222222222222222,
           "#7201a8"
          ],
          [
           0.3333333333333333,
           "#9c179e"
          ],
          [
           0.4444444444444444,
           "#bd3786"
          ],
          [
           0.5555555555555556,
           "#d8576b"
          ],
          [
           0.6666666666666666,
           "#ed7953"
          ],
          [
           0.7777777777777778,
           "#fb9f3a"
          ],
          [
           0.8888888888888888,
           "#fdca26"
          ],
          [
           1,
           "#f0f921"
          ]
         ]
        },
        "legend": {
         "title": {
          "text": "Class"
         },
         "tracegroupgap": 0,
         "x": 0,
         "y": 1
        },
        "margin": {
         "t": 60
        },
        "scene": {
         "domain": {
          "x": [
           0,
           1
          ],
          "y": [
           0,
           1
          ]
         },
         "xaxis": {
          "title": {
           "text": "PC 1"
          }
         },
         "yaxis": {
          "title": {
           "text": "PC 2"
          }
         },
         "zaxis": {
          "title": {
           "text": "PC 3"
          }
         }
        },
        "template": {
         "data": {
          "bar": [
           {
            "error_x": {
             "color": "#2a3f5f"
            },
            "error_y": {
             "color": "#2a3f5f"
            },
            "marker": {
             "line": {
              "color": "#E5ECF6",
              "width": 0.5
             }
            },
            "type": "bar"
           }
          ],
          "barpolar": [
           {
            "marker": {
             "line": {
              "color": "#E5ECF6",
              "width": 0.5
             }
            },
            "type": "barpolar"
           }
          ],
          "carpet": [
           {
            "aaxis": {
             "endlinecolor": "#2a3f5f",
             "gridcolor": "white",
             "linecolor": "white",
             "minorgridcolor": "white",
             "startlinecolor": "#2a3f5f"
            },
            "baxis": {
             "endlinecolor": "#2a3f5f",
             "gridcolor": "white",
             "linecolor": "white",
             "minorgridcolor": "white",
             "startlinecolor": "#2a3f5f"
            },
            "type": "carpet"
           }
          ],
          "choropleth": [
           {
            "colorbar": {
             "outlinewidth": 0,
             "ticks": ""
            },
            "type": "choropleth"
           }
          ],
          "contour": [
           {
            "colorbar": {
             "outlinewidth": 0,
             "ticks": ""
            },
            "colorscale": [
             [
              0,
              "#0d0887"
             ],
             [
              0.1111111111111111,
              "#46039f"
             ],
             [
              0.2222222222222222,
              "#7201a8"
             ],
             [
              0.3333333333333333,
              "#9c179e"
             ],
             [
              0.4444444444444444,
              "#bd3786"
             ],
             [
              0.5555555555555556,
              "#d8576b"
             ],
             [
              0.6666666666666666,
              "#ed7953"
             ],
             [
              0.7777777777777778,
              "#fb9f3a"
             ],
             [
              0.8888888888888888,
              "#fdca26"
             ],
             [
              1,
              "#f0f921"
             ]
            ],
            "type": "contour"
           }
          ],
          "contourcarpet": [
           {
            "colorbar": {
             "outlinewidth": 0,
             "ticks": ""
            },
            "type": "contourcarpet"
           }
          ],
          "heatmap": [
           {
            "colorbar": {
             "outlinewidth": 0,
             "ticks": ""
            },
            "colorscale": [
             [
              0,
              "#0d0887"
             ],
             [
              0.1111111111111111,
              "#46039f"
             ],
             [
              0.2222222222222222,
              "#7201a8"
             ],
             [
              0.3333333333333333,
              "#9c179e"
             ],
             [
              0.4444444444444444,
              "#bd3786"
             ],
             [
              0.5555555555555556,
              "#d8576b"
             ],
             [
              0.6666666666666666,
              "#ed7953"
             ],
             [
              0.7777777777777778,
              "#fb9f3a"
             ],
             [
              0.8888888888888888,
              "#fdca26"
             ],
             [
              1,
              "#f0f921"
             ]
            ],
            "type": "heatmap"
           }
          ],
          "heatmapgl": [
           {
            "colorbar": {
             "outlinewidth": 0,
             "ticks": ""
            },
            "colorscale": [
             [
              0,
              "#0d0887"
             ],
             [
              0.1111111111111111,
              "#46039f"
             ],
             [
              0.2222222222222222,
              "#7201a8"
             ],
             [
              0.3333333333333333,
              "#9c179e"
             ],
             [
              0.4444444444444444,
              "#bd3786"
             ],
             [
              0.5555555555555556,
              "#d8576b"
             ],
             [
              0.6666666666666666,
              "#ed7953"
             ],
             [
              0.7777777777777778,
              "#fb9f3a"
             ],
             [
              0.8888888888888888,
              "#fdca26"
             ],
             [
              1,
              "#f0f921"
             ]
            ],
            "type": "heatmapgl"
           }
          ],
          "histogram": [
           {
            "marker": {
             "colorbar": {
              "outlinewidth": 0,
              "ticks": ""
             }
            },
            "type": "histogram"
           }
          ],
          "histogram2d": [
           {
            "colorbar": {
             "outlinewidth": 0,
             "ticks": ""
            },
            "colorscale": [
             [
              0,
              "#0d0887"
             ],
             [
              0.1111111111111111,
              "#46039f"
             ],
             [
              0.2222222222222222,
              "#7201a8"
             ],
             [
              0.3333333333333333,
              "#9c179e"
             ],
             [
              0.4444444444444444,
              "#bd3786"
             ],
             [
              0.5555555555555556,
              "#d8576b"
             ],
             [
              0.6666666666666666,
              "#ed7953"
             ],
             [
              0.7777777777777778,
              "#fb9f3a"
             ],
             [
              0.8888888888888888,
              "#fdca26"
             ],
             [
              1,
              "#f0f921"
             ]
            ],
            "type": "histogram2d"
           }
          ],
          "histogram2dcontour": [
           {
            "colorbar": {
             "outlinewidth": 0,
             "ticks": ""
            },
            "colorscale": [
             [
              0,
              "#0d0887"
             ],
             [
              0.1111111111111111,
              "#46039f"
             ],
             [
              0.2222222222222222,
              "#7201a8"
             ],
             [
              0.3333333333333333,
              "#9c179e"
             ],
             [
              0.4444444444444444,
              "#bd3786"
             ],
             [
              0.5555555555555556,
              "#d8576b"
             ],
             [
              0.6666666666666666,
              "#ed7953"
             ],
             [
              0.7777777777777778,
              "#fb9f3a"
             ],
             [
              0.8888888888888888,
              "#fdca26"
             ],
             [
              1,
              "#f0f921"
             ]
            ],
            "type": "histogram2dcontour"
           }
          ],
          "mesh3d": [
           {
            "colorbar": {
             "outlinewidth": 0,
             "ticks": ""
            },
            "type": "mesh3d"
           }
          ],
          "parcoords": [
           {
            "line": {
             "colorbar": {
              "outlinewidth": 0,
              "ticks": ""
             }
            },
            "type": "parcoords"
           }
          ],
          "pie": [
           {
            "automargin": true,
            "type": "pie"
           }
          ],
          "scatter": [
           {
            "marker": {
             "colorbar": {
              "outlinewidth": 0,
              "ticks": ""
             }
            },
            "type": "scatter"
           }
          ],
          "scatter3d": [
           {
            "line": {
             "colorbar": {
              "outlinewidth": 0,
              "ticks": ""
             }
            },
            "marker": {
             "colorbar": {
              "outlinewidth": 0,
              "ticks": ""
             }
            },
            "type": "scatter3d"
           }
          ],
          "scattercarpet": [
           {
            "marker": {
             "colorbar": {
              "outlinewidth": 0,
              "ticks": ""
             }
            },
            "type": "scattercarpet"
           }
          ],
          "scattergeo": [
           {
            "marker": {
             "colorbar": {
              "outlinewidth": 0,
              "ticks": ""
             }
            },
            "type": "scattergeo"
           }
          ],
          "scattergl": [
           {
            "marker": {
             "colorbar": {
              "outlinewidth": 0,
              "ticks": ""
             }
            },
            "type": "scattergl"
           }
          ],
          "scattermapbox": [
           {
            "marker": {
             "colorbar": {
              "outlinewidth": 0,
              "ticks": ""
             }
            },
            "type": "scattermapbox"
           }
          ],
          "scatterpolar": [
           {
            "marker": {
             "colorbar": {
              "outlinewidth": 0,
              "ticks": ""
             }
            },
            "type": "scatterpolar"
           }
          ],
          "scatterpolargl": [
           {
            "marker": {
             "colorbar": {
              "outlinewidth": 0,
              "ticks": ""
             }
            },
            "type": "scatterpolargl"
           }
          ],
          "scatterternary": [
           {
            "marker": {
             "colorbar": {
              "outlinewidth": 0,
              "ticks": ""
             }
            },
            "type": "scatterternary"
           }
          ],
          "surface": [
           {
            "colorbar": {
             "outlinewidth": 0,
             "ticks": ""
            },
            "colorscale": [
             [
              0,
              "#0d0887"
             ],
             [
              0.1111111111111111,
              "#46039f"
             ],
             [
              0.2222222222222222,
              "#7201a8"
             ],
             [
              0.3333333333333333,
              "#9c179e"
             ],
             [
              0.4444444444444444,
              "#bd3786"
             ],
             [
              0.5555555555555556,
              "#d8576b"
             ],
             [
              0.6666666666666666,
              "#ed7953"
             ],
             [
              0.7777777777777778,
              "#fb9f3a"
             ],
             [
              0.8888888888888888,
              "#fdca26"
             ],
             [
              1,
              "#f0f921"
             ]
            ],
            "type": "surface"
           }
          ],
          "table": [
           {
            "cells": {
             "fill": {
              "color": "#EBF0F8"
             },
             "line": {
              "color": "white"
             }
            },
            "header": {
             "fill": {
              "color": "#C8D4E3"
             },
             "line": {
              "color": "white"
             }
            },
            "type": "table"
           }
          ]
         },
         "layout": {
          "annotationdefaults": {
           "arrowcolor": "#2a3f5f",
           "arrowhead": 0,
           "arrowwidth": 1
          },
          "autotypenumbers": "strict",
          "coloraxis": {
           "colorbar": {
            "outlinewidth": 0,
            "ticks": ""
           }
          },
          "colorscale": {
           "diverging": [
            [
             0,
             "#8e0152"
            ],
            [
             0.1,
             "#c51b7d"
            ],
            [
             0.2,
             "#de77ae"
            ],
            [
             0.3,
             "#f1b6da"
            ],
            [
             0.4,
             "#fde0ef"
            ],
            [
             0.5,
             "#f7f7f7"
            ],
            [
             0.6,
             "#e6f5d0"
            ],
            [
             0.7,
             "#b8e186"
            ],
            [
             0.8,
             "#7fbc41"
            ],
            [
             0.9,
             "#4d9221"
            ],
            [
             1,
             "#276419"
            ]
           ],
           "sequential": [
            [
             0,
             "#0d0887"
            ],
            [
             0.1111111111111111,
             "#46039f"
            ],
            [
             0.2222222222222222,
             "#7201a8"
            ],
            [
             0.3333333333333333,
             "#9c179e"
            ],
            [
             0.4444444444444444,
             "#bd3786"
            ],
            [
             0.5555555555555556,
             "#d8576b"
            ],
            [
             0.6666666666666666,
             "#ed7953"
            ],
            [
             0.7777777777777778,
             "#fb9f3a"
            ],
            [
             0.8888888888888888,
             "#fdca26"
            ],
            [
             1,
             "#f0f921"
            ]
           ],
           "sequentialminus": [
            [
             0,
             "#0d0887"
            ],
            [
             0.1111111111111111,
             "#46039f"
            ],
            [
             0.2222222222222222,
             "#7201a8"
            ],
            [
             0.3333333333333333,
             "#9c179e"
            ],
            [
             0.4444444444444444,
             "#bd3786"
            ],
            [
             0.5555555555555556,
             "#d8576b"
            ],
            [
             0.6666666666666666,
             "#ed7953"
            ],
            [
             0.7777777777777778,
             "#fb9f3a"
            ],
            [
             0.8888888888888888,
             "#fdca26"
            ],
            [
             1,
             "#f0f921"
            ]
           ]
          },
          "colorway": [
           "#636efa",
           "#EF553B",
           "#00cc96",
           "#ab63fa",
           "#FFA15A",
           "#19d3f3",
           "#FF6692",
           "#B6E880",
           "#FF97FF",
           "#FECB52"
          ],
          "font": {
           "color": "#2a3f5f"
          },
          "geo": {
           "bgcolor": "white",
           "lakecolor": "white",
           "landcolor": "#E5ECF6",
           "showlakes": true,
           "showland": true,
           "subunitcolor": "white"
          },
          "hoverlabel": {
           "align": "left"
          },
          "hovermode": "closest",
          "mapbox": {
           "style": "light"
          },
          "paper_bgcolor": "white",
          "plot_bgcolor": "#E5ECF6",
          "polar": {
           "angularaxis": {
            "gridcolor": "white",
            "linecolor": "white",
            "ticks": ""
           },
           "bgcolor": "#E5ECF6",
           "radialaxis": {
            "gridcolor": "white",
            "linecolor": "white",
            "ticks": ""
           }
          },
          "scene": {
           "xaxis": {
            "backgroundcolor": "#E5ECF6",
            "gridcolor": "white",
            "gridwidth": 2,
            "linecolor": "white",
            "showbackground": true,
            "ticks": "",
            "zerolinecolor": "white"
           },
           "yaxis": {
            "backgroundcolor": "#E5ECF6",
            "gridcolor": "white",
            "gridwidth": 2,
            "linecolor": "white",
            "showbackground": true,
            "ticks": "",
            "zerolinecolor": "white"
           },
           "zaxis": {
            "backgroundcolor": "#E5ECF6",
            "gridcolor": "white",
            "gridwidth": 2,
            "linecolor": "white",
            "showbackground": true,
            "ticks": "",
            "zerolinecolor": "white"
           }
          },
          "shapedefaults": {
           "line": {
            "color": "#2a3f5f"
           }
          },
          "ternary": {
           "aaxis": {
            "gridcolor": "white",
            "linecolor": "white",
            "ticks": ""
           },
           "baxis": {
            "gridcolor": "white",
            "linecolor": "white",
            "ticks": ""
           },
           "bgcolor": "#E5ECF6",
           "caxis": {
            "gridcolor": "white",
            "linecolor": "white",
            "ticks": ""
           }
          },
          "title": {
           "x": 0.05
          },
          "xaxis": {
           "automargin": true,
           "gridcolor": "white",
           "linecolor": "white",
           "ticks": "",
           "title": {
            "standoff": 15
           },
           "zerolinecolor": "white",
           "zerolinewidth": 2
          },
          "yaxis": {
           "automargin": true,
           "gridcolor": "white",
           "linecolor": "white",
           "ticks": "",
           "title": {
            "standoff": 15
           },
           "zerolinecolor": "white",
           "zerolinewidth": 2
          }
         }
        },
        "width": 1000
       }
      }
     },
     "metadata": {}
    }
   ],
   "source": [
    "# Create a 3D-Scatter with the PCA data and the clusters\n",
    "fig = px.scatter_3d(\n",
    "    cryptocluster_df,\n",
    "    x=\"PC 1\",\n",
    "    y=\"PC 2\",\n",
    "    z=\"PC 3\",\n",
    "    color=\"Class\",\n",
    "    symbol=\"Class\",\n",
    "    width=1000,\n",
    "    hover_name = \"CoinName\",\n",
    "    hover_data = [\"Algorithm\"],\n",
    ")\n",
    "fig.update_layout(legend=dict(x=0, y=1))\n",
    "fig.show()\n"
   ]
  },
  {
   "cell_type": "markdown",
   "metadata": {},
   "source": [
    "#### Table of Tradable Cryptocurrencies"
   ]
  },
  {
   "cell_type": "code",
   "execution_count": 32,
   "metadata": {},
   "outputs": [
    {
     "output_type": "display_data",
     "data": {},
     "metadata": {}
    },
    {
     "output_type": "execute_result",
     "data": {
      "text/html": "<div id='1102'>\n\n\n\n\n\n  <div class=\"bk-root\" id=\"0f346432-9476-459b-895b-7f47a61b7894\" data-root-id=\"1102\"></div>\n</div>\n<script type=\"application/javascript\">(function(root) {\n  function embed_document(root) {\n    var docs_json = {\"125124a0-0ba7-4e4b-ac64-365cca327542\":{\"roots\":{\"references\":[{\"attributes\":{},\"id\":\"1117\",\"type\":\"StringEditor\"},{\"attributes\":{\"children\":[{\"id\":\"1103\"},{\"id\":\"1151\"},{\"id\":\"1157\"}],\"margin\":[0,0,0,0],\"name\":\"Row01706\",\"tags\":[\"embedded\"]},\"id\":\"1102\",\"type\":\"Row\"},{\"attributes\":{\"margin\":[5,5,5,5],\"name\":\"HSpacer01711\",\"sizing_mode\":\"stretch_width\"},\"id\":\"1157\",\"type\":\"Spacer\"},{\"attributes\":{},\"id\":\"1112\",\"type\":\"StringEditor\"},{\"attributes\":{\"editor\":{\"id\":\"1112\"},\"field\":\"ProofType\",\"formatter\":{\"id\":\"1111\"},\"title\":\"ProofType\"},\"id\":\"1113\",\"type\":\"TableColumn\"},{\"attributes\":{\"margin\":[5,5,5,5],\"name\":\"HSpacer01710\",\"sizing_mode\":\"stretch_width\"},\"id\":\"1103\",\"type\":\"Spacer\"},{\"attributes\":{\"editor\":{\"id\":\"1107\"},\"field\":\"Algorithm\",\"formatter\":{\"id\":\"1106\"},\"title\":\"Algorithm\"},\"id\":\"1108\",\"type\":\"TableColumn\"},{\"attributes\":{},\"id\":\"1127\",\"type\":\"NumberEditor\"},{\"attributes\":{},\"id\":\"1122\",\"type\":\"StringEditor\"},{\"attributes\":{},\"id\":\"1107\",\"type\":\"StringEditor\"},{\"attributes\":{},\"id\":\"1111\",\"type\":\"StringFormatter\"},{\"attributes\":{},\"id\":\"1106\",\"type\":\"StringFormatter\"},{\"attributes\":{},\"id\":\"1116\",\"type\":\"StringFormatter\"},{\"attributes\":{\"format\":\"0,0.0[00000]\"},\"id\":\"1131\",\"type\":\"NumberFormatter\"},{\"attributes\":{},\"id\":\"1121\",\"type\":\"StringFormatter\"},{\"attributes\":{\"data\":{\"Algorithm\":[\"Scrypt\",\"N/A\",\"X11\",\"Scrypt\",\"SHA-256\",\"SHA-256\",\"N/A\",\"X13\",\"X11\",\"N/A\",\"SHA-256\",\"Multiple\",\"Scrypt\",\"Scrypt\",\"Scrypt\",\"SHA-256\",\"N/A\",\"PoS\",\"Scrypt\",\"X13\",\"Scrypt\",\"Scrypt\",\"SHA-256\",\"Scrypt\",\"X13\",\"N/A\",\"PoS\",\"SHA-256\",\"SHA-256\",\"N/A\",\"Scrypt\",\"N/A\",\"Scrypt\",\"N/A\",\"N/A\",\"N/A\",\"N/A\",\"CryptoNight\",\"PoS\",\"N/A\",\"N/A\",\"PoS\",\"N/A\",\"X13\",\"X11\",\"N/A\",\"X11\",\"Scrypt\",\"N/A\",\"N/A\",\"N/A\",\"N/A\",\"SHA-256\",\"N/A\",\"N/A\",\"Argon2d\",\"N/A\",\"N/A\",\"N/A\",\"N/A\",\"N/A\",\"N/A\",\"N/A\",\"N/A\",\"N/A\",\"N/A\",\"N/A\",\"N/A\",\"N/A\",\"N/A\",\"N/A\",\"CryptoNight\",\"N/A\",\"N/A\",\"N/A\",\"N/A\",\"N/A\",\"PoS\",\"N/A\",\"N/A\",\"N/A\",\"N/A\",\"N/A\",\"N/A\",\"N/A\",\"N/A\",\"N/A\",\"N/A\",\"Dagger\",\"N/A\",\"N/A\",\"N/A\",\"N/A\",\"N/A\",\"N/A\",\"N/A\",\"N/A\",\"Equihash\",\"N/A\",\"N/A\",\"N/A\",\"N/A\",\"N/A\",\"N/A\",\"N/A\",\"N/A\",\"NEP-5\",\"N/A\",\"N/A\",\"N/A\",\"N/A\",\"N/A\",\"N/A\",\"N/A\",\"N/A\",\"N/A\",\"X11\",\"N/A\",\"N/A\",\"N/A\",\"N/A\",\"N/A\",\"N/A\",\"N/A\",\"N/A\",\"SHA-256\",\"N/A\",\"N/A\",\"N/A\",\"N/A\",\"N/A\",\"N/A\",\"NEP-5\",\"SHA-256\",\"N/A\",\"N/A\",\"N/A\",\"N/A\",\"N/A\",\"N/A\",\"N/A\",\"N/A\",\"N/A\",\"N/A\",\"N/A\",\"SHA-256\",\"N/A\",\"N/A\",\"N/A\",\"N/A\",\"N/A\",\"N/A\",\"N/A\",\"N/A\",\"N/A\",\"N/A\",\"N/A\",\"N/A\",\"N/A\",\"N/A\",\"N/A\",\"N/A\",\"N/A\",\"N/A\",\"N/A\",\"POS 3.0\",\"N/A\",\"N/A\",\"N/A\",\"NeoScrypt\",\"N/A\",\"Equihash\",\"N/A\",\"N/A\",\"N/A\",\"N/A\",\"N/A\",\"N/A\",\"N/A\",\"N/A\",\"N/A\",\"N/A\",\"N/A\",\"N/A\",\"N/A\",\"N/A\",\"Ethash\",\"N/A\",\"N/A\",\"N/A\",\"N/A\",\"N/A\",\"N/A\",\"N/A\",\"IMesh\",\"N/A\",\"N/A\",\"N/A\",\"N/A\",\"N/A\",\"N/A\",\"Equihash\",\"N/A\",\"Semux BFT consensus\",\"Scrypt\",\"N/A\",\"CryptoNight-Heavy\",\"N/A\",\"CryptoNight\",\"N/A\",\"CryptoNight\",\"N/A\",\"N/A\",\"N/A\",\"N/A\",\"N/A\",\"N/A\",\"N/A\",\"N/A\",\"N/A\",\"N/A\",\"N/A\",\"N/A\",\"N/A\",\"N/A\",\"N/A\",\"N/A\",\"N/A\",\"N/A\",\"N/A\",\"N/A\",\"N/A\",\"N/A\",\"N/A\",\"N/A\",\"Quark\",\"Quark\",\"X11\",\"N/A\",\"Lyra2REv2\",\"N/A\",\"N/A\",\"N/A\",\"N/A\",\"N/A\",\"N/A\",\"N/A\",\"N/A\",\"N/A\",\"N/A\",\"N/A\",\"N/A\",\"N/A\",\"N/A\",\"N/A\",\"N/A\",\"N/A\",\"N/A\",\"N/A\",\"N/A\",\"SHA-512\",\"N/A\",\"N/A\",\"N/A\",\"N/A\",\"N/A\",\"N/A\",\"N/A\",\"N/A\",\"N/A\",\"N/A\",\"N/A\",\"N/A\",\"N/A\",\"N/A\",\"N/A\",\"N/A\",\"N/A\",\"N/A\",\"N/A\",\"N/A\",\"Lyra2Z\",\"N/A\",\"Ethash\",\"X13\",\"N/A\",\"N/A\",\"N/A\",\"N/A\",\"N/A\",\"N/A\",\"N/A\",\"N/A\",\"N/A\",\"SHA-256\",\"N/A\",\"N/A\",\"N/A\",\"N/A\",\"N/A\",\"Equihash\",\"N/A\",\"N/A\",\"N/A\",\"N/A\",\"N/A\",\"N/A\",\"N/A\",\"N/A\",\"N/A\",\"N/A\",\"N/A\",\"SPoS\",\"N/A\",\"N/A\",\"N/A\",\"N/A\",\"N/A\",\"N/A\",\"N/A\",\"N/A\",\"N/A\",\"N/A\",\"N/A\",\"N/A\",\"N/A\",\"Equihash1927\",\"N/A\",\"N/A\",\"N/A\",\"N/A\",\"N/A\",\"N/A\",\"N/A\",\"BEP-2\",\"N/A\",\"N/A\",\"Quark\",\"N/A\",\"N/A\",\"vBlake\",\"N/A\",\"N/A\",\"N/A\",\"N/A\",\"N/A\",\"N/A\",\"N/A\",\"N/A\",\"N/A\",\"N/A\",\"N/A\",\"N/A\",\"N/A\",\"N/A\",\"N/A\",\"N/A\",\"N/A\",\"N/A\",\"N/A\",\"N/A\",\"N/A\",\"N/A\",\"N/A\",\"N/A\",\"N/A\",\"N/A\",\"N/A\",\"N/A\",\"N/A\",\"X13\",\"N/A\",\"N/A\",\"N/A\",\"N/A\",\"N/A\",\"N/A\",\"N/A\",\"N/A\",\"N/A\",\"N/A\",\"N/A\",\"N/A\",\"N/A\",\"N/A\",\"N/A\",\"N/A\",\"N/A\",\"Ethash\",\"SHA-256\",\"N/A\",\"N/A\",\"N/A\",\"N/A\",\"CryptoNight\",\"N/A\",\"N/A\",\"N/A\",\"N/A\",\"N/A\",\"N/A\",\"N/A\",\"N/A\",\"N/A\",\"N/A\",\"N/A\",\"N/A\",\"N/A\",\"N/A\",\"N/A\",\"N/A\",\"N/A\",\"N/A\",\"N/A\",\"N/A\",\"N/A\",\"N/A\",\"N/A\",\"N/A\",\"N/A\",\"N/A\",\"N/A\",\"N/A\",\"N/A\",\"N/A\",\"N/A\",\"Eaglesong\",\"N/A\",\"N/A\",\"N/A\",\"N/A\",\"N/A\",\"N/A\",\"N/A\",\"N/A\",\"N/A\",\"N/A\",\"N/A\",\"N/A\",\"N/A\",\"N/A\",\"N/A\",\"N/A\",\"N/A\",\"N/A\",\"N/A\",\"N/A\",\"N/A\",\"N/A\",\"N/A\",\"NEP-5\",\"N/A\",\"N/A\",\"N/A\",\"N/A\",\"N/A\",\"CryptoNote\",\"ProgPowZ\",\"N/A\",\"N/A\",\"SHA-256\",\"N/A\",\"N/A\",\"N/A\",\"N/A\",\"N/A\",\"N/A\",\"N/A\",\"N/A\",\"N/A\",\"N/A\",\"N/A\",\"N/A\",\"N/A\",\"N/A\",\"N/A\",\"NeoScrypt\",\"N/A\",\"N/A\",\"N/A\",\"Blake2B + SHA3\",\"N/A\",\"N/A\",\"N/A\",\"N/A\",\"N/A\",\"N/A\",\"N/A\",\"N/A\",\"N/A\",\"N/A\",\"N/A\",\"N/A\",\"N/A\",\"N/A\",\"N/A\",\"N/A\",\"N/A\",\"N/A\",\"N/A\",\"N/A\",\"N/A\",\"N/A\",\"N/A\",\"N/A\",\"N/A\",\"N/A\",\"N/A\",\"N/A\",\"N/A\",\"N/A\",\"N/A\",\"N/A\",\"N/A\",\"N/A\",\"N/A\",\"N/A\",\"N/A\",\"N/A\",\"N/A\",\"C31\",\"N/A\",\"N/A\",\"N/A\",\"N/A\",\"N/A\",\"N/A\",\"N/A\",\"N/A\",\"N/A\",\"N/A\",\"N/A\",\"N/A\",\"N/A\",\"N/A\",\"N/A\",\"N/A\",\"SHA-256\",\"N/A\",\"N/A\",\"N/A\",\"N/A\",\"N/A\",\"N/A\",\"N/A\",\"N/A\",\"N/A\",\"N/A\",\"N/A\",\"N/A\",\"N/A\",\"N/A\",\"N/A\",\"N/A\",\"N/A\",\"N/A\",\"N/A\",\"N/A\",\"N/A\",\"N/A\",\"N/A\",\"N/A\",\"N/A\",\"N/A\",\"N/A\",\"N/A\",\"N/A\",\"N/A\",\"N/A\",\"N/A\",\"N/A\",\"N/A\",\"N/A\",\"N/A\",\"N/A\",\"N/A\",\"N/A\",\"N/A\",\"N/A\",\"N/A\",\"N/A\",\"N/A\",\"N/A\",\"N/A\",\"N/A\",\"N/A\",\"N/A\",\"N/A\",\"N/A\",\"N/A\",\"N/A\",\"N/A\",\"N/A\",\"N/A\",\"N/A\",\"N/A\",\"N/A\",\"N/A\",\"N/A\",\"N/A\",\"N/A\",\"N/A\",\"N/A\",\"N/A\",\"N/A\",\"N/A\",\"N/A\",\"N/A\",\"N/A\",\"X16R\",\"N/A\",\"N/A\",\"N/A\",\"N/A\",\"N/A\",\"N/A\",\"N/A\",\"N/A\",\"N/A\",\"N/A\",\"N/A\",\"N/A\",\"N/A\",\"N/A\",\"N/A\",\"N/A\",\"N/A\",\"N/A\",\"N/A\",\"N/A\",\"N/A\",\"N/A\",\"N/A\",\"N/A\",\"N/A\",\"N/A\",\"N/A\",\"N/A\",\"N/A\",\"N/A\",\"N/A\",\"Scrypt\",\"N/A\",\"N/A\",\"N/A\",\"N/A\",\"N/A\",\"N/A\",\"N/A\",\"N/A\",\"N/A\",\"N/A\",\"N/A\",\"N/A\",\"N/A\",\"N/A\",\"N/A\",\"N/A\",\"N/A\",\"N/A\",\"N/A\",\"Scrypt\",\"N/A\",\"N/A\",\"N/A\",\"N/A\",\"N/A\",\"N/A\",\"N/A\",\"N/A\",\"N/A\",\"N/A\",\"N/A\",\"N/A\",\"N/A\",\"N/A\",\"N/A\",\"N/A\",\"N/A\",\"N/A\",\"N/A\",\"N/A\",\"N/A\",\"N/A\",\"N/A\",\"N/A\",\"N/A\",\"N/A\",\"N/A\",\"N/A\",\"N/A\",\"ECC 256K1\",\"N/A\",\"N/A\",\"N/A\",\"N/A\",\"N/A\",\"N/A\",\"N/A\",\"N/A\",\"N/A\",\"N/A\",\"N/A\",\"N/A\",\"N/A\",\"N/A\",\"N/A\",\"N/A\",\"N/A\",\"N/A\",\"N/A\",\"N/A\",\"N/A\",\"N/A\",\"N/A\",\"N/A\",\"N/A\",\"N/A\",\"N/A\",\"N/A\",\"N/A\",\"N/A\",\"N/A\",\"N/A\",\"N/A\",\"N/A\",\"N/A\",\"N/A\",\"N/A\",\"N/A\",\"N/A\",\"N/A\",\"N/A\",\"N/A\",\"N/A\",\"N/A\",\"N/A\",\"N/A\",\"N/A\",\"N/A\",\"N/A\",\"N/A\",\"N/A\",\"N/A\",\"N/A\",\"N/A\",\"N/A\",\"N/A\",\"N/A\",\"N/A\",\"N/A\",\"N/A\",\"N/A\",\"N/A\",\"N/A\",\"N/A\",\"N/A\",\"N/A\",\"N/A\",\"N/A\",\"N/A\",\"N/A\",\"N/A\",\"N/A\",\"N/A\",\"N/A\",\"N/A\",\"N/A\",\"N/A\",\"N/A\",\"N/A\",\"N/A\",\"N/A\",\"N/A\",\"N/A\",\"N/A\",\"N/A\",\"N/A\",\"Scrypt\",\"N/A\",\"N/A\",\"N/A\",\"N/A\",\"N/A\",\"N/A\",\"N/A\",\"N/A\",\"N/A\",\"N/A\",\"N/A\",\"N/A\",\"N/A\",\"N/A\",\"N/A\",\"N/A\",\"N/A\",\"N/A\",\"N/A\",\"N/A\",\"N/A\",\"N/A\",\"N/A\",\"N/A\",\"N/A\",\"N/A\",\"BEP20 Token\",\"N/A\",\"N/A\",\"N/A\",\"N/A\",\"CryptoNight-Heavy\",\"N/A\",\"N/A\",\"N/A\",\"N/A\",\"N/A\",\"N/A\",\"N/A\",\"N/A\",\"N/A\",\"N/A\",\"N/A\",\"N/A\",\"N/A\",\"N/A\",\"N/A\",\"N/A\",\"N/A\",\"CryptoNight-Lite\",\"N/A\",\"N/A\",\"N/A\",\"N/A\",\"SHA-256\",\"SHA-256\",\"N/A\",\"N/A\",\"N/A\",\"N/A\",\"N/A\",\"N/A\",\"N/A\",\"Autolykos\",\"SHA-256\",\"Scrypt\",\"N/A\",\"Scrypt\",\"Scrypt-n\",\"N/A\",\"Scrypt\",\"N/A\",\"Groestl\",\"N/A\",\"N/A\",\"N/A\",\"N/A\",\"N/A\",\"N/A\",\"TRC10\",\"N/A\",\"N/A\",\"N/A\",\"N/A\",\"N/A\",\"N/A\",\"N/A\",\"N/A\",\"N/A\",\"N/A\",\"KECCAK\",\"CryptoNight\",\"N/A\",\"N/A\",\"N/A\",\"IMesh\",\"N/A\",\"N/A\",\"N/A\",\"N/A\",\"N/A\",\"N/A\",\"N/A\",\"N/A\",\"DPoS\",\"N/A\",\"N/A\",\"RandomX\",\"N/A\",\"N/A\",\"HEX\",\"N/A\",\"X13\",\"SHA-256\",\"Ethash\",\"N/A\",\"N/A\",\"DPoS\",\"X11\",\"N/A\",\"Equihash\",\"N/A\",\"N/A\",\"N/A\",\"N/A\",\"N/A\",\"N/A\",\"N/A\",\"BEP2 Token\",\"N/A\",\"N/A\",\"N/A\",\"N/A\",\"N/A\",\"N/A\",\"N/A\",\"N/A\",\"N/A\",\"N/A\",\"Scrypt\",\"N/A\",\"N/A\",\"SHA-256\",\"N/A\",\"N/A\",\"N/A\",\"N/A\",\"N/A\",\"N/A\",\"Scrypt\",\"Dagger-Hashimoto\",\"Scrypt\",\"Scrypt\",\"N/A\",\"PoS\",\"N/A\",\"Equihash\",\"Lyra2REv2\",\"N/A\",\"N/A\",\"Scrypt\",\"BLAKE256\",\"SHA-256\",\"Multiple\",\"N/A\",\"N/A\",\"N/A\",\"C31\",\"N/A\",\"BEP2 Token\",\"SHA-256\",\"N/A\",\"Quark\",\"Ethash\",\"Scrypt\",\"N/A\",\"Scrypt\",\"N/A\",\"Scrypt\",\"DPoS\",\"SHA-256\",\"Scrypt\",\"X11GOST\",\"Equihash\",\"N/A\",\"Groestl\",\"BMW512 / Echo512\",\"Scrypt\",\"NeoScrypt\",\"X11\",\"Scrypt\",\"MTP\",\"X13\",\"KAWPOW\",\"DPoS\",\"Multiple\",\"DPoS\",\"N/A\",\"N/A\",\"Shabal256\",\"Blake2b\",\"Proof-of-Authority\",\"N/A\",\"N/A\",\"Tensority\",\"N/A\",\"BLAKE256\",\"N/A\",\"PoS\",\"N/A\",\"Quark\",\"Equihash\",\"N/A\",\"N/A\",\"N/A\",\"Ethash\",\"SHA-256\",\"Equihash210,9\",\"N/A\",\"DPoS\",\"X13\",\"SHA3\",\"Multiple\",\"VeChainThor Authority\",\"POS 3.0\",\"N/A\",\"Quark\",\"Blake2b\",\"VBFT\",\"Ethash\",\"N/A\",\"DPoS\",\"Loopchain\",\"PoS\",\"SHA-512\",\"N/A\",\"Ethash\",\"N/A\",\"Leased POS\",\"Ouroboros\",\"dBFT2.0\",\"N/A\",\"DPoS\",\"N/A\",\"N/A\",\"N/A\",\"N/A\",\"N/A\",\"N/A\",\"N/A\"],\"Class\":{\"__ndarray__\":\"AwAAAAAAAAADAAAAAwAAAAMAAAADAAAAAAAAAAMAAAADAAAAAAAAAAMAAAADAAAAAwAAAAMAAAADAAAAAwAAAAAAAAADAAAAAwAAAAMAAAADAAAAAwAAAAMAAAADAAAAAwAAAAAAAAADAAAAAwAAAAMAAAAAAAAAAwAAAAAAAAADAAAAAAAAAAAAAAAAAAAAAAAAAAMAAAADAAAAAAAAAAAAAAADAAAAAAAAAAMAAAADAAAAAAAAAAMAAAADAAAAAAAAAAAAAAAAAAAAAAAAAAMAAAAAAAAAAAAAAAMAAAAAAAAAAAAAAAAAAAAAAAAAAAAAAAAAAAAAAAAAAAAAAAAAAAAAAAAAAAAAAAAAAAAAAAAAAAAAAAAAAAADAAAAAAAAAAAAAAAAAAAAAAAAAAAAAAADAAAAAAAAAAAAAAAAAAAAAAAAAAAAAAAAAAAAAAAAAAAAAAAAAAAAAAAAAAMAAAAAAAAAAAAAAAAAAAAAAAAAAAAAAAAAAAAAAAAAAAAAAAMAAAAAAAAAAAAAAAAAAAAAAAAAAAAAAAAAAAAAAAAAAAAAAAAAAAAAAAAAAAAAAAAAAAAAAAAAAAAAAAAAAAAAAAAAAAAAAAAAAAADAAAAAAAAAAAAAAAAAAAAAAAAAAAAAAAAAAAAAAAAAAAAAAADAAAAAAAAAAAAAAAAAAAAAAAAAAAAAAAAAAAAAAAAAAMAAAAAAAAAAAAAAAAAAAAAAAAAAAAAAAAAAAAAAAAAAAAAAAAAAAAAAAAAAAAAAAMAAAAAAAAAAAAAAAAAAAAAAAAAAAAAAAAAAAAAAAAAAAAAAAAAAAAAAAAAAAAAAAAAAAAAAAAAAAAAAAAAAAAAAAAAAAAAAAAAAAAAAAAAAwAAAAAAAAAAAAAAAAAAAAAAAAAAAAAAAwAAAAAAAAAAAAAAAAAAAAAAAAAAAAAAAAAAAAAAAAAAAAAAAAAAAAAAAAAAAAAAAAAAAAAAAAAAAAAAAwAAAAAAAAAAAAAAAAAAAAAAAAAAAAAAAAAAAAAAAAADAAAAAAAAAAAAAAAAAAAAAAAAAAAAAAAAAAAAAwAAAAAAAAADAAAAAwAAAAAAAAADAAAAAAAAAAMAAAAAAAAAAwAAAAAAAAAAAAAAAAAAAAAAAAAAAAAAAAAAAAAAAAAAAAAAAAAAAAAAAAAAAAAAAAAAAAAAAAAAAAAAAAAAAAAAAAADAAAAAAAAAAAAAAAAAAAAAAAAAAAAAAAAAAAAAAAAAAMAAAADAAAAAwAAAAAAAAADAAAAAAAAAAAAAAAAAAAAAAAAAAAAAAAAAAAAAAAAAAAAAAAAAAAAAAAAAAAAAAAAAAAAAAAAAAAAAAAAAAAAAAAAAAAAAAAAAAAAAAAAAAAAAAADAAAAAAAAAAAAAAAAAAAAAAAAAAAAAAAAAAAAAAAAAAAAAAAAAAAAAAAAAAAAAAAAAAAAAAAAAAAAAAAAAAAAAAAAAAAAAAAAAAAAAAAAAAAAAAADAAAAAAAAAAMAAAADAAAAAAAAAAAAAAAAAAAAAAAAAAAAAAAAAAAAAAAAAAAAAAAAAAAAAwAAAAAAAAAAAAAAAAAAAAAAAAAAAAAAAwAAAAAAAAAAAAAAAAAAAAAAAAAAAAAAAAAAAAAAAAAAAAAAAAAAAAAAAAAAAAAAAwAAAAAAAAAAAAAAAAAAAAAAAAAAAAAAAAAAAAAAAAAAAAAAAAAAAAAAAAAAAAAAAAAAAAAAAAADAAAAAAAAAAAAAAAAAAAAAAAAAAAAAAAAAAAAAAAAAAAAAAAAAAAAAAAAAAMAAAAAAAAAAAAAAAMAAAAAAAAAAAAAAAAAAAAAAAAAAAAAAAAAAAAAAAAAAAAAAAAAAAAAAAAAAAAAAAAAAAAAAAAAAAAAAAAAAAAAAAAAAAAAAAAAAAAAAAAAAAAAAAAAAAAAAAAAAAAAAAAAAAAAAAAAAAAAAAAAAAAAAAAAAAAAAAMAAAAAAAAAAAAAAAAAAAAAAAAAAAAAAAAAAAAAAAAAAAAAAAAAAAAAAAAAAAAAAAAAAAAAAAAAAAAAAAAAAAAAAAAAAAAAAAMAAAADAAAAAAAAAAAAAAAAAAAAAAAAAAMAAAAAAAAAAAAAAAAAAAAAAAAAAAAAAAAAAAAAAAAAAAAAAAAAAAAAAAAAAAAAAAAAAAAAAAAAAAAAAAAAAAAAAAAAAAAAAAAAAAAAAAAAAAAAAAAAAAAAAAAAAAAAAAAAAAAAAAAAAAAAAAAAAAAAAAAAAAAAAAAAAAAAAAAAAwAAAAAAAAAAAAAAAAAAAAAAAAAAAAAAAAAAAAAAAAAAAAAAAAAAAAAAAAAAAAAAAAAAAAAAAAAAAAAAAAAAAAAAAAAAAAAAAAAAAAAAAAAAAAAAAAAAAAAAAAAAAAAAAAAAAAAAAAAAAAAAAAAAAAAAAAAAAAAAAwAAAAMAAAAAAAAAAAAAAAMAAAAAAAAAAAAAAAAAAAAAAAAAAAAAAAAAAAAAAAAAAAAAAAAAAAAAAAAAAAAAAAAAAAAAAAAAAAAAAAAAAAAAAAAAAAAAAAAAAAAAAAAAAwAAAAAAAAAAAAAAAAAAAAAAAAAAAAAAAAAAAAAAAAAAAAAAAAAAAAAAAAAAAAAAAAAAAAAAAAAAAAAAAAAAAAAAAAAAAAAAAAAAAAAAAAAAAAAAAAAAAAAAAAAAAAAAAAAAAAAAAAAAAAAAAAAAAAAAAAAAAAAAAAAAAAAAAAAAAAAAAAAAAAAAAAAAAAAAAAAAAAAAAAAAAAAAAAAAAAMAAAAAAAAAAAAAAAAAAAAAAAAAAAAAAAAAAAAAAAAAAAAAAAAAAAAAAAAAAAAAAAAAAAAAAAAAAAAAAAAAAAAAAAAAAwAAAAAAAAAAAAAAAAAAAAAAAAAAAAAAAAAAAAAAAAAAAAAAAAAAAAAAAAAAAAAAAAAAAAAAAAAAAAAAAAAAAAAAAAAAAAAAAAAAAAAAAAAAAAAAAAAAAAAAAAAAAAAAAAAAAAAAAAAAAAAAAAAAAAAAAAAAAAAAAAAAAAAAAAAAAAAAAAAAAAAAAAAAAAAAAAAAAAAAAAAAAAAAAAAAAAAAAAAAAAAAAAAAAAAAAAAAAAAAAAAAAAAAAAAAAAAAAAAAAAAAAAAAAAAAAAAAAAAAAAAAAAAAAAAAAAAAAAAAAAAAAAAAAAAAAAAAAAAAAAAAAAAAAAAAAAAAAAAAAAAAAAAAAAAAAAAAAAAAAAAAAAAAAAAAAAAAAAAAAAAAAwAAAAAAAAAAAAAAAAAAAAAAAAAAAAAAAAAAAAAAAAAAAAAAAAAAAAAAAAAAAAAAAAAAAAAAAAAAAAAAAAAAAAAAAAAAAAAAAAAAAAAAAAAAAAAAAAAAAAAAAAAAAAAAAAAAAAAAAAAAAAAAAAAAAAAAAAAAAAAAAAAAAAAAAAADAAAAAAAAAAAAAAAAAAAAAAAAAAAAAAAAAAAAAAAAAAAAAAAAAAAAAAAAAAAAAAAAAAAAAAAAAAAAAAAAAAAAAAAAAAAAAAAAAAAAAAAAAAMAAAAAAAAAAAAAAAAAAAAAAAAAAAAAAAAAAAAAAAAAAAAAAAAAAAAAAAAAAAAAAAAAAAAAAAAAAAAAAAAAAAAAAAAAAAAAAAAAAAAAAAAAAAAAAAAAAAAAAAAAAAAAAAAAAAAAAAAAAAAAAAAAAAAAAAAAAAAAAAEAAAAAAAAAAAAAAAAAAAAAAAAAAAAAAAAAAAAAAAAAAAAAAAAAAAAAAAAAAAAAAAAAAAAAAAAAAAAAAAAAAAAAAAAAAAAAAAAAAAAAAAAAAAAAAAAAAAAAAAAAAAAAAAAAAAAAAAAAAAAAAAAAAAAAAAAAAAAAAAAAAAAAAAAAAAAAAAAAAAAAAAAAAAAAAAAAAAAAAAAAAAAAAAAAAAAAAAAAAAAAAAAAAAAAAAAAAAAAAAAAAAAAAAAAAAAAAAAAAAAAAAAAAAAAAAAAAAAAAAAAAAAAAAAAAAAAAAAAAAAAAAAAAAAAAAAAAAAAAAAAAAAAAAAAAAAAAAAAAAAAAAAAAAAAAAAAAAAAAAAAAAAAAAAAAAAAAAAAAAAAAAAAAAAAAAAAAAAAAAAAAAAAAAAAAAAAAAAAAAAAAAAAAAAAAAAAAAAAAAAAAAAAAAAAAAAAAAAAAAAAAAMAAAAAAAAAAAAAAAAAAAAAAAAAAAAAAAAAAAAAAAAAAAAAAAAAAAAAAAAAAAAAAAAAAAAAAAAAAAAAAAAAAAAAAAAAAAAAAAAAAAAAAAAAAAAAAAAAAAAAAAAAAAAAAAAAAAAAAAAAAAAAAAAAAAAAAAAAAAAAAAAAAAAAAAAAAwAAAAAAAAAAAAAAAAAAAAAAAAAAAAAAAAAAAAAAAAAAAAAAAAAAAAAAAAAAAAAAAAAAAAAAAAAAAAAAAAAAAAAAAAAAAAAAAwAAAAAAAAAAAAAAAAAAAAAAAAADAAAAAwAAAAAAAAAAAAAAAAAAAAAAAAAAAAAAAAAAAAAAAAADAAAAAwAAAAMAAAAAAAAAAwAAAAMAAAAAAAAAAwAAAAAAAAADAAAAAAAAAAAAAAAAAAAAAAAAAAAAAAAAAAAAAwAAAAAAAAAAAAAAAAAAAAAAAAAAAAAAAAAAAAAAAAAAAAAAAAAAAAAAAAADAAAAAwAAAAAAAAAAAAAAAAAAAAMAAAAAAAAAAAAAAAAAAAAAAAAAAAAAAAAAAAAAAAAAAAAAAAAAAAAAAAAAAAAAAAMAAAAAAAAAAAAAAAMAAAAAAAAAAwAAAAMAAAAAAAAAAAAAAAAAAAADAAAAAwAAAAAAAAADAAAAAAAAAAAAAAAAAAAAAAAAAAAAAAAAAAAAAAAAAAAAAAAAAAAAAAAAAAAAAAAAAAAAAAAAAAAAAAAAAAAAAAAAAAAAAAAAAAAAAwAAAAAAAAAAAAAAAwAAAAAAAAAAAAAAAAAAAAAAAAAAAAAAAAAAAAMAAAADAAAAAwAAAAMAAAAAAAAAAwAAAAAAAAADAAAAAwAAAAAAAAAAAAAAAwAAAAMAAAADAAAAAAAAAAAAAAAAAAAAAAAAAAMAAAAAAAAAAwAAAAMAAAAAAAAAAwAAAAMAAAADAAAAAAAAAAMAAAAAAAAAAwAAAAMAAAADAAAAAwAAAAMAAAADAAAAAAAAAAMAAAADAAAAAwAAAAMAAAADAAAAAwAAAAMAAAADAAAAAAAAAAMAAAADAAAAAAAAAAAAAAAAAAAAAwAAAAMAAAADAAAAAwAAAAAAAAADAAAAAAAAAAMAAAAAAAAAAAAAAAAAAAADAAAAAwAAAAAAAAAAAAAAAAAAAAAAAAADAAAAAwAAAAAAAAADAAAAAwAAAAMAAAADAAAAAwAAAAMAAAAAAAAAAwAAAAMAAAADAAAAAwAAAAAAAAADAAAAAwAAAAMAAAADAAAAAAAAAAMAAAAAAAAAAgAAAAMAAAAAAAAAAAAAAAMAAAAAAAAAAAAAAAAAAAAAAAAAAAAAAAAAAAAAAAAA\",\"dtype\":\"int32\",\"order\":\"little\",\"shape\":[1029]},\"CoinName\":[\"42 Coin\",\"300 token\",\"365Coin\",\"404Coin\",\"SixEleven\",\"808\",\"Octocoin\",\"EliteCoin\",\"2015 coin\",\"GeoCoin\",\"BetaCoin\",\"MyriadCoin\",\"SexCoin\",\"NovaCoin\",\"VeriCoin\",\"CounterParty\",\"MaidSafe Coin\",\"NuShares\",\"MonaCoin\",\"Triangles Coin\",\"Curecoin\",\"BitcoinPlus\",\"XCoin\",\"Sphere Coin\",\"Paycon\",\"Factom\",\"Radium\",\"Emercoin\",\"OKCash\",\"Digix DAO\",\"SafeExchangeCoin\",\"Bancor Network Token\",\"CometCoin\",\"LBRY Credits\",\"SingularDTV\",\"Wings DAO\",\"bitCNY\",\"Karbo\",\"Opair\",\"Peerplays\",\"Mycelium Token\",\"LuckyBlocks\",\"Veros\",\"FistBump\",\"Stakenet\",\"Nexium\",\"PAC Global\",\"OpenChat\",\"iEx.ec\",\"Gnosis\",\"XTRABYTES\",\"Lunyr\",\"Prizm\",\"Basic Attention Token\",\"ZrCoin\",\"Dynamic\",\"Status Network Token\",\"Crypto.com\",\"Numeraire\",\"AdEx\",\"Polybius\",\"Nimiq\",\"district0x\",\"Suretly\",\"CryptoPing\",\"DAOBet\",\"Santiment\",\"Wagerr\",\"SunContract\",\"Oax\",\"EncrypGen\",\"Dinastycoin\",\"LATOKEN\",\"0x\",\"Tierion\",\"Storj\",\"Crypviser\",\"Particl\",\"Viberate\",\"Decentraland\",\"Mobius\",\"KickToken\",\"Monetha\",\"Gas\",\"Dentacoin\",\"Agrello Delta\",\"Ignis\",\"Utrust\",\"Amber\",\"Enjin Coin\",\"Etherparty\",\"Cappasity\",\"Ripio\",\"Chainlink\",\"Kyber Network\",\"Salt Lending\",\"Yoyow\",\"BitcoinZ\",\"Request Network\",\"Datum\",\"VIBEHub\",\"AirSwap\",\"Cindicator\",\"Covesting\",\"Power Ledger\",\"Crypto20\",\"Red Pulse Phoenix\",\"Zeusshield\",\"Soma\",\"KuCoin Shares\",\"WePower\",\"Dragonchain\",\"Streamr DATAcoin\",\"HEROcoin\",\"Insolar\",\"Neumark\",\"Pura\",\"BlockMason Credit Protocol\",\"Genesis Vision\",\"Jibrel Network Token\",\"Aave\",\"Sether\",\"CoinFi\",\"FlypMe\",\"Adbank\",\"Super Bitcoin\",\"LockTrip\",\"HOQU\",\"MediBloc\",\"Bounty0x\",\"Bread token\",\"aelf\",\"DeepBrain Chain\",\"HTML Coin\",\"REMME\",\"QLC Chain\",\"Energo\",\"PumaPay\",\"MediShares\",\"Game\",\"Ink\",\"Telcoin\",\"Zap\",\"AI Doctor\",\"EchoLink\",\"UnitedBitcoin\",\"Bottos\",\"IDEX\",\"CommerceBlock Token\",\"Data\",\"CarVertical\",\"Odyssey\",\"Theta\",\"OriginTrail\",\"Qbao\",\"SwftCoin\",\"Sentinel\",\"InsurePal\",\"Scry.info\",\"CPChain\",\"Zeepin\",\"LeadCoin\",\"BlockCDN \",\"STK Token\",\"Polymath Network\",\"TokenPay\",\"Bluzelle\",\"SwissBorg\",\"Medicalchain\",\"THEKEY Token\",\"Lympo\",\"Bitcoin Private\",\"RED MegaWatt\",\"Huobi Token\",\"BitcoinFile\",\"Creditcoin\",\"BABB\",\"SpaceChain\",\"All Sports Coin\",\"Nucleus Vision\",\"Ink Protocol\",\"XY Oracle\",\"Props\",\"Celsius Network\",\"Credits\",\"Alphacat\",\"Callisto Network\",\"DATx\",\"TomoChain\",\"Insights Network\",\"CoinPoker Token\",\"I-House Token\",\"Electrify.Asia\",\"Pantos\",\"Aidos Kuneen\",\"Pigeoncoin\",\"True USD\",\"Mithril\",\"Switcheo\",\"eosDAC\",\"Bidipass\",\"Zelcash\",\"Sentinel Chain\",\"Semux\",\"BitBlocks\",\"U Network\",\"Haven Protocol\",\"Zilla\",\"Monero Classic\",\"Gems\",\"Dero\",\"Kryll\",\"NEXO\",\"0xBitcoin\",\"EduCoin\",\"CyberVein\",\"Global Social Chain\",\"Verasity\",\"UniBright\",\"AMO Coin\",\"Content Neutrality Network\",\"Skrumble Network\",\"ShareToken\",\"Ubex\",\"Open Platform\",\"Morpheus Network\",\"IoTeX Network\",\"VideoCoin\",\"NKN\",\"Elysian\",\"Repo Coin\",\"Bezant\",\"Phantasma\",\"PCHAIN\",\"IQeon\",\"Giant\",\"Vitae\",\"EUNO\",\"CoinEx Token\",\"NIX\",\"Mixin\",\"CoinMeet\",\"HashCoin \",\"OneLedger\",\"Everipedia\",\"XMax\",\"VITE\",\"OneRoot Network\",\"LikeCoin\",\"GoToken\",\"Centrality Token\",\"Red Community Token\",\"NOIA Network\",\"Green Energy Token\",\"Apollo Currency\",\"Hdac\",\"QuickX Protocol\",\"Cryptocean\",\"Insureum\",\"Okex\",\"Kcash\",\"1World\",\"ZB\",\"STASIS EURS\",\"Omnitude\",\"HitChain\",\"The Midas Touch Gold\",\"FXPay\",\"Digitex Futures\",\"Topchain\",\"Delphy\",\"FundFantasy\",\"HYCON\",\"Decentralized Accessible Content Chain \",\"MetaHash\",\"USD Coin\",\"Ontology Gas\",\"Sogur Currency\",\"VestChain\",\"Paxos Standard\",\"VeChainThor \",\"Actinium\",\"BitForex Token\",\"ETHER-1\",\"ABBC Coin\",\"Adab Solutions\",\"Livepeer\",\"Mycro\",\"WOM\",\"SINOVATE\",\"Newton\",\"SilkChain\",\"Sylo\",\"Travala\",\"Smart Bitcoin\",\"AgaveCoin\",\"AERGO \",\"Hashgard\",\"Vidy\",\"WETH\",\"Beam\",\"Agricultural Trade Chain\",\"Bgogo Token\",\"HedgeTrade\",\"Wrapped Bitcoin\",\"BitMax Token\",\"Zeux\",\"Fetch.AI\",\"StableUSD\",\"Ankr Network\",\"Safe Haven\",\"Crypto.com Chain Token\",\"V Systems\",\"Hoard\",\"Theta Fuel\",\"Levolution\",\"Evedo\",\"2key.network\",\"Orbs\",\"SESSIA\",\"NeuroChain\",\"Consentium\",\"SOLVE\",\"Thorecoin\",\"Matic Network\",\"Lambda\",\"Vidulum\",\"Function X\",\"Ocean Protocol\",\"Poseidon Network\",\"iOWN Token\",\"BitcoinX\",\"LEO Token\",\"Aryacoin\",\"Red Pulse Phoenix Binance\",\"Reserve Rights\",\"Harmony\",\"ESBC\",\"Baer Chain\",\"Mossland\",\"VeriBlock\",\"Yuan Chain Coin\",\"USDK\",\"MIXMARVEL\",\"BUMO\",\"DxChain Token\",\"MultiVAC\",\"VNT Chain\",\"Origo\",\"Carry\",\"Bryllite\",\"Wirex Token\",\"BEST\",\"Atlas Protocol\",\"WaykiChain\",\"EDUCare\",\"Bitcoin HD\",\"YOU Chain\",\"GMB\",\"NNB Token\",\"Ultiledger\",\"Snetwork\",\"IRIS Network\",\"Smartshare\",\"Airbloc\",\"Hyperion\",\"MIR COIN\",\"FansTime\",\"Algorand\",\"MovieBloc\",\"Bitcoin Rhodium\",\"Machine Xchange Coin\",\"Jarvis+\",\"DPRating\",\"Ampleforth\",\"LemoChain\",\"Elrond\",\"SparkPoint\",\"ToKoin\",\"TEMCO\",\"Stronghold Token\",\"Hxro\",\"WINk\",\"FTX Token\",\"TrustVerse\",\"GoWithMi\",\"EMOGI Network\",\"SIX Network\",\"Super Zero\",\"Foin\",\"LITEX\",\"BOTXCOIN\",\"Gatechain Token\",\"Chiliz\",\"Beldex\",\"BitUP Token\",\"Akropolis\",\"Blockchain of Hash Power\",\"CryptoFranc\",\"Decentralized Vulnerability Platform\",\"Kleros\",\"Prometeus\",\"PROT\",\"Thorenext\",\"Thore Exchange\",\"ThoreCashTRX\",\"Ultra\",\"VINCI\",\"Xensor\",\"Zaif Token\",\"Amino Network\",\"NewYork Exchange\",\"LinkToken\",\"MEX\",\"BeeKan\",\"Band Protocol\",\"Emirex Token\",\"Hedera Hashgraph\",\"PAX Gold\",\"MX Token\",\"PLANET\",\"BCB Blockchain\",\"All.me\",\"RON\",\"Temtum\",\"Kava\",\"Nervos Network\",\"Multi Collateral Dai\",\"UNICORN Token\",\"Yap Stone\",\"Suterusu\",\"Whole Network\",\"Thorchain\",\"DAD\",\"Elitium\",\"Sport and Leisure\",\"Klaytn\",\"Troy\",\"Football Coin\",\"Neutrino\",\"Brazilian Digital Token\",\"Kusama\",\"Connectome\",\"Xinfin Network\",\"Tellor\",\"Orchid Protocol\",\"Digital Gold\",\"MarcoPolo Protocol\",\"BOSAGORA\",\"PlayFuel\",\"Nevula\",\"Compound Ethereum\",\"Tap\",\"Zynecoin\",\"Origin Protocol\",\"EXMO Coin\",\"CUTcoin\",\"Zano\",\"HEX\",\"TerraKRW\",\"Eureka Coin\",\"BenePit\",\"apM Coin\",\"Renrenbit\",\"PayProtocol Paycoin\",\"Bitcoin God\",\"Ally\",\"Coindy\",\"Spock\",\"Kadena\",\"Jobchain\",\"GoldFinX\",\"Blucon\",\"NewsToken\",\"FunKeyPay\",\"AIDUS Token\",\"01coin\",\"WazirX\",\"EtherGem\",\"Coinsbit Token\",\"Handshake\",\"POC Chain\",\"Newscrypto Coin\",\"Tether Gold\",\"NextDAO\",\"3X Long EOS Token\",\"3X Short XRP Token\",\"Sologenic\",\"3X Long BNB Token\",\"BiLira\",\"3X Long TRX Token\",\"3X Short TRX Token\",\"3X Long Litecoin Token\",\"3X Short Litecoin Token\",\"Hive Dollar\",\"Elamachain\",\"Anchor\",\"USDJ\",\"Universal Euro\",\"Universal Protocol Token\",\"Energy Web Token\",\"More Coin\",\"HyperDAO\",\"Euro Tether\",\"LCX\",\"Hive\",\"HUNT\",\"Portal\",\"Intelligent Investment Chain\",\"Solana\",\"3X Long Altcoin Index Token\",\"3X Short Altcoin Index Token\",\"DEAPCOIN\",\"Homeros\",\"Latamcash\",\"3X Long Bitcoin SV Token\",\"3X Short Bitcoin SV Token\",\"3X Long Bitcoin Cash Token\",\"3X Short Bitcoin Cash Token\",\"Cartesi\",\"MimbleWimbleCoin\",\"SENSO\",\"xDai Chain\",\"OBSERVER Coin\",\"Unknown Fair Object\",\"3X Long TezosToken\",\"3X Short Tezos Token\",\"JUST\",\"IdeaChain\",\"BNS token\",\"ITAM Games\",\"Metaverse\",\"Metacoin\",\"Loon Network\",\"The Forbidden Forest\",\"Proton\",\"Unicorn Technology International\",\"Arweave\",\"dKargo\",\"King DAG\",\"Spice\",\"Rite Aid\",\"3X Short Cardano Token\",\"3X Long Cardano Token\",\"3X Long Matic Token\",\"3X Long Cosmos Token\",\"3X Short Cosmos Token\",\"3X Long Algorand Token\",\"3X Short Algorand Token\",\"3X Long Theta Network Token\",\"3X Short Kyber Network Token\",\"3X Long Ethereum Classic Token\",\"3X Long TomoChain Token\",\"3X Short Theta Network Token\",\"3X Short Midcap Index Token\",\"3X Long BitMax Token Token\",\"3X Long Tether Token\",\"Compound\",\"CACHE Gold\",\"UMA\",\"Celo\",\"DarkPayCoin\",\"Balancer\",\"BTSE Token\",\"DMM: Governance\",\"ARCS\",\"Perth Mint Gold Token\",\"Paparazzi\",\"KardiaChain\",\"Trustswap\",\"Keep Network\",\"Waves Enterprise\",\"ETHUP\",\"Oikos\",\"Meta\",\"DeFiChain\",\"yearn.finance\",\"Add.xyz\",\"Nest Protocol\",\"DigiDinar Token\",\"MCDEX\",\"Wrapped NXM\",\"Centric Cash\",\"Darwinia Commitment Token\",\"SUKU\",\"DIA\",\"dForce\",\"MiL.k\",\"Cream\",\"Serum\",\"Curve DAO Token\",\"The Sandbox\",\"Bitcoin Captain\",\"DFI.money\",\"Hakka Finance\",\"Jarvis Reward Token\",\"SatoPay\",\"Klever\",\"Pearl Finance\",\"Elrond\",\"Insight Protocol\",\"TerraUSD\",\"QOOBER\",\"Bella Protocol\",\"MATH\",\"Sun Token\",\"Swerve\",\"Universal Money Intrument\",\"Hedget\",\"Ravencoin Classic\",\"Phala Network\",\"Bounce Token\",\"Alchemy Pay\",\"Sashimi\",\"REVV\",\"3X Long Sushi Token\",\"3X Short Sushi Token\",\"Rarible\",\"New BitShares\",\"dHedge DAO\",\"Flamingo\",\"PowerTrade Fuel\",\"Maro\",\"Mini\",\"ONBUFF\",\"TitanSwap\",\"Crust Network\",\"Beowulf\",\"AhaToken\",\"S.Finance\",\"Venus\",\"cVault.finance\",\"AXEL\",\"DODO\",\"Dify.Finance\",\"PlatonCoin\",\"OctoFi\",\"NuCypher\",\"1X Short Bitcoin SV Token\",\"Harvest Finance\",\"Datamine\",\"Buxcoin\",\"Darwinia Network\",\"Pundi X\",\"sUSD\",\"DREP\",\"FunFair\",\"Huobi Pool Token\",\"SingularityNET\",\"Constellation \",\"COCOS BCX\",\"Melon\",\"Quoine Liquid\",\"Voyager Token\",\"STP Network\",\"CNNS\",\"Davinci Coin\",\"TOP Network\",\"BORA\",\"Force Protocol\",\"Civic\",\"Velox\",\"Velas\",\"tBTC\",\"Reserve\",\"Perpetual Protocol\",\"Value Liquidity\",\"Yobit Token\",\"Contentos\",\"APIX\",\"3X Long Bitcoin Token\",\"Quantstamp\",\"Cortex\",\"RAKON\",\"Bitkan\",\"ARPA Chain\",\"ROOBEE\",\"StormX\",\"BitMart Coin\",\"Mainframe\",\"SAI\",\"Metal\",\"RING X PLATFORM\",\"Dent\",\"RIF Token\",\"Gemini Dollar\",\"Loom Network\",\"LUKSO\",\"3X Long Ethereum Token\",\"BKEX Token\",\"Content Value Network\",\"Acute Angle Cloud\",\"12Ships\",\"SelfKey\",\"MANTRA DAO\",\"BiboxCoin\",\"ArcBlock\",\"Measurable Data Token \",\"Populous\",\"Dego Finance\",\"Aavegotchi\",\"UniTrade\",\"LinkEye\",\"Yee\",\"Fyooz\",\"GIFTO\",\"Augur\",\"Chromia\",\"Celer Network\",\"MVL\",\"Frontier\",\"pNetwork Token\",\"Dusk Network\",\"Sentivate\",\"GoMoney2\",\"Perlin\",\"Molecular Future\",\"Raiden Network\",\"FNB protocol\",\"Moeda\",\"TenX\",\"Presearch\",\"Morpheus Infrastructure Token\",\"3X Short Bitcoin\",\"Piction Network\",\"Metronome\",\"Cred\",\"SmartMesh\",\"Dock.io\",\"Genaro Network\",\"Ultrain\",\"Sentinel Protocol\",\"BF Token\",\"EOSDT\",\"Seele\",\"YYFI.Protocol\",\"Pickle Finance\",\"3X Short Ethereum Token\",\"Propy\",\"Time New Bank\",\"QunQun\",\"Matryx\",\"AppCoins\",\"CyberMiles\",\"3X Short EOS Token\",\"IoT Chain\",\"DMarket\",\"FairGame\",\"Eminer\",\"Endor Protocol Token \",\"WABI\",\"ContentBox\",\"SpendCoin\",\"Trump Loses Token\",\"Egretia\",\"SirinLabs\",\"3X Long XRP Token\",\"The Abyss\",\"Simple Token\",\"Ruff\",\"Rio DeFi\",\"3X Short Chainlink Token\",\"TokenClub \",\"Everex\",\"BetProtocol\",\"Tokenomy\",\"Merculet\",\"Pivot Token\",\"Monolith\",\"Nectar\",\"COTI\",\"Ferrum Network\",\"Fusion\",\"Injective Protocol\",\"Aurei\",\"Atari Token\",\"BUSD\",\"PANTHEON X\",\"Primas\",\"8X8 Protocol\",\"LTO Network\",\"Meme\",\"Trump Wins Token\",\"Golff\",\"Blox\",\"Exchange Union\",\"Fatcoin\",\"3X Long Chainlink Token\",\"FLETA\",\"OriginSport\",\"V-ID\",\"SONM\",\"Refereum\",\"Tripio\",\"Akropolis Delphi\",\"YAM\",\"Loopring [NEO]\",\"WaykiChain Governance Coin\",\"RedFOX Labs\",\"Rotten\",\"Nash Exchange\",\"Lendroid Support Token\",\"Meter\",\"Thunder Token\",\"Akoin\",\"Alpha Finance Lab\",\"Avalanche\",\"YAM v1\",\"YAM v2 \",\"Metadium\",\"Loki\",\"FileCoin\",\"Hydro Protocol\",\"Orbit Chain\",\"Bit Financial\",\"Synthetix\",\"Quant\",\"Maker\",\"REN\",\"Swipe\",\"Loopring\",\"Linear\",\"Aave\",\"DeFiner\",\"The Transfer Token\",\"Aragon\",\"HBTC Captain Token\",\"Orion Protocol\",\"AEON\",\"bZx\",\"Tesla FTX\",\"SPDR S&P 500 ETF FTX\",\"Uquid Coin\",\"Bitcoin Vault\",\"Bitcoin ABC\",\"Experty Wisdom Token\",\"Oasis Labs\",\"renBTC \",\"Nexus Mutual\",\"Lien\",\"DigitalBits\",\"Hegic\",\"Ergo\",\"Infinity Economics\",\"BlackCoin\",\"Energi\",\"Auroracoin\",\"SpainCoin\",\"Sperax\",\"TerraCredit\",\"API3\",\"FairCoin\",\"FinNexus\",\"Terra\",\"DeFiPulse Index\",\"Stafi\",\"Golem Network Token\",\"Uniswap Protocol Token\",\"BitTorrent\",\"Sushi\",\"TON Crystal\",\"Tokamak Network\",\"Fantom\",\"Near\",\"BuySell\",\"Mineral\",\"Medibloc\",\"Tether\",\"Guppy\",\"SmartCash\",\"ByteCoin\",\"NewsTokens\",\"Steem Dollars\",\"Inda\",\"INT\",\"FIO Protocol\",\"True Chain\",\"Auctus\",\"ClinTex CTi\",\"PowerPool Concentrated Voting Power\",\"Secret\",\"Cryptobuyer\",\"Wing Finance\",\"Worldwide Asset eXchange\",\"Asch\",\"Nuls\",\"Monero\",\"Bridge Oracle\",\"Raiden Network Token\",\"XDNA\",\"Gamecredits\",\"Bitcoin Diamond\",\"SysCoin\",\"Metaverse\",\"Elastos\",\"Enigma\",\"Lisk\",\"Dash\",\"OMG Network\",\"Komodo\",\"Holo\",\"OPEN Governance Token\",\"Axion\",\"Marlin\",\"MahaDAO\",\"BIZZCOIN\",\"2Based Finance\",\"Swingby\",\"UNION Protocol Governance Token\",\"Golden Ratio Per Liquidity\",\"The Graph\",\"AnRKey X\",\"Reflector.Finance\",\"YVS.Finance\",\"NEST Protocol\",\"Mediconnect\",\"Dexfin\",\"xETH-G\",\"GoldCoin\",\"DXdao\",\"Pyrk\",\"Wibcoin\",\"Trade Butler Bot\",\"DeFi Yield Protocol\",\"Staked Ether\",\"TNC Coin\",\"Helium\",\"Polkadot\",\"SaluS\",\"Ubiq\",\"Reddcoin\",\"Dogecoin\",\"Skycoin\",\"Nxt\",\"Zilliqa\",\"ZCash\",\"Vertcoin\",\"Tezos\",\"IOTA\",\"Litecoin\",\"Decred\",\"Bitcoin\",\"Revain\",\"Own\",\"Crypterium\",\"Coin\",\"Grin\",\"Cosmos\",\"Binance Coin\",\"Bitcoin SV\",\"QuarkChain\",\"QuarkCoin\",\"Expanse\",\"MegaCoin\",\"Electroneum\",\"PotCoin\",\"Aurora\",\"Gulden\",\"Rise\",\"Namecoin\",\"Einsteinium\",\"SibCoin\",\"Bitcoin Gold\",\"Kin\",\"Groestlcoin\",\"DigitalNote \",\"ViaCoin\",\"FeatherCoin\",\"IOCoin\",\"WhiteCoin\",\"Firo\",\"CloakCoin\",\"Ravencoin\",\"Achain\",\"Verge\",\"High Performance Blockchain\",\"PeerCoin\",\"Matrix AI Network\",\"BurstCoin\",\"Siacoin\",\"Poa Network\",\"Aeternity\",\"Obyte\",\"Bytom\",\"Nebulas\",\"HyperCash\",\"Stratis\",\"Neblio\",\"MOAC\",\"BlockNet\",\"Horizen\",\"GoChain\",\"IOS token\",\"GXChain\",\"Waltonchain\",\"Bitcoin Cash\",\"Aion\",\"Wanchain\",\"Shift\",\"NavCoin\",\"Nexus\",\"DigiByte\",\"VeChain\",\"QTUM\",\"Ardor\",\"Private Instant Verified Transaction\",\"Nano\",\"Ontology\",\"Ethereum Classic\",\"NEM\",\"ARK\",\"ICON Project\",\"Steem\",\"Bitshares\",\"Stellar\",\"Ethereum\",\"TRON\",\"Waves\",\"Cardano\",\"NEO\",\"XRP\",\"EOS\",\"Empty Set Dollar\",\"Pylon Finance\",\"Frax\",\"Frax Share\",\"Wifi Coin\",\"Shopping.io\",\"One Share\"],\"MaxSupply\":{\"__ndarray__\":\"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\",\"dtype\":\"float64\",\"order\":\"little\",\"shape\":[1029]},\"PC_1\":{\"__ndarray__\":\"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\",\"dtype\":\"float64\",\"order\":\"little\",\"shape\":[1029]},\"PC_2\":{\"__ndarray__\":\"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\",\"dtype\":\"float64\",\"order\":\"little\",\"shape\":[1029]},\"PC_3\":{\"__ndarray__\":\"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\",\"dtype\":\"float64\",\"order\":\"little\",\"shape\":[1029]},\"ProofType\":[\"PoW/PoS\",\"N/A\",\"PoW/PoS\",\"PoW/PoS\",\"PoW\",\"PoW/PoS\",\"PoW\",\"PoW/PoS\",\"PoW/PoS\",\"N/A\",\"PoW\",\"PoW\",\"PoW\",\"PoW/PoS\",\"PoST\",\"PoW\",\"N/A\",\"PoS\",\"PoW\",\"PoW/PoS\",\"PoW\",\"PoS\",\"PoW/PoS\",\"PoW/PoS\",\"PoW/PoS\",\"N/A\",\"PoS\",\"PoW/PoS\",\"PoW/PoS\",\"N/A\",\"PoC\",\"N/A\",\"PoW\",\"N/A\",\"N/A\",\"N/A\",\"N/A\",\"PoW\",\"PoS\",\"N/A\",\"N/A\",\"PoS\",\"N/A\",\"PoW/PoS\",\"TPoS\",\"N/A\",\"PoS\",\"PoW/PoS\",\"N/A\",\"N/A\",\"PoSign\",\"N/A\",\"PoS\",\"N/A\",\"N/A\",\"PoW\",\"N/A\",\"N/A\",\"N/A\",\"N/A\",\"N/A\",\"PoW\",\"N/A\",\"N/A\",\"N/A\",\"N/A\",\"N/A\",\"PoS\",\"N/A\",\"N/A\",\"N/A\",\"PoW\",\"N/A\",\"N/A\",\"N/A\",\"N/A\",\"N/A\",\"PoS\",\"N/A\",\"N/A\",\"N/A\",\"N/A\",\"N/A\",\"N/A\",\"N/A\",\"N/A\",\"N/A\",\"N/A\",\"PoA\",\"N/A\",\"N/A\",\"N/A\",\"PoW\",\"N/A\",\"N/A\",\"N/A\",\"N/A\",\"PoW\",\"N/A\",\"N/A\",\"N/A\",\"N/A\",\"N/A\",\"N/A\",\"N/A\",\"N/A\",\"N/A\",\"N/A\",\"N/A\",\"N/A\",\"N/A\",\"N/A\",\"N/A\",\"N/A\",\"DPoS\",\"N/A\",\"PoW\",\"N/A\",\"N/A\",\"N/A\",\"N/A\",\"N/A\",\"N/A\",\"N/A\",\"N/A\",\"PoW\",\"N/A\",\"N/A\",\"N/A\",\"N/A\",\"N/A\",\"N/A\",\"N/A\",\"PoW/PoS\",\"dPoS\",\"N/A\",\"N/A\",\"N/A\",\"N/A\",\"N/A\",\"N/A\",\"N/A\",\"N/A\",\"N/A\",\"N/A\",\"PoW\",\"N/A\",\"N/A\",\"N/A\",\"N/A\",\"N/A\",\"N/A\",\"N/A\",\"N/A\",\"N/A\",\"N/A\",\"N/A\",\"N/A\",\"N/A\",\"N/A\",\"N/A\",\"N/A\",\"N/A\",\"N/A\",\"N/A\",\"PoS\",\"N/A\",\"N/A\",\"N/A\",\"N/A\",\"N/A\",\"PoW\",\"N/A\",\"N/A\",\"PoS\",\"PoW\",\"N/A\",\"N/A\",\"N/A\",\"N/A\",\"N/A\",\"N/A\",\"N/A\",\"N/A\",\"N/A\",\"N/A\",\"PoW\",\"N/A\",\"N/A\",\"N/A\",\"N/A\",\"N/A\",\"N/A\",\"N/A\",\"PoW\",\"PoW\",\"N/A\",\"PoS\",\"N/A\",\"N/A\",\"N/A\",\"PoW/PoS\",\"N/A\",\"DPoS\",\"PoW/PoS\",\"N/A\",\"PoW\",\"N/A\",\"PoW\",\"N/A\",\"PoW\",\"N/A\",\"N/A\",\"N/A\",\"N/A\",\"N/A\",\"N/A\",\"PoW\",\"N/A\",\"N/A\",\"N/A\",\"N/A\",\"N/A\",\"PoS\",\"N/A\",\"N/A\",\"Roll-DPoS\",\"PoW/PoS\",\"PoR\",\"N/A\",\"N/A\",\"N/A\",\"PoS\",\"N/A\",\"N/A\",\"PoW/PoS\",\"PoS\",\"PoW/PoS\",\"N/A\",\"PoW\",\"N/A\",\"N/A\",\"N/A\",\"N/A\",\"N/A\",\"N/A\",\"N/A\",\"N/A\",\"N/A\",\"N/A\",\"N/A\",\"N/A\",\"N/A\",\"N/A\",\"PoS\",\"ePoW\",\"N/A\",\"N/A\",\"N/A\",\"N/A\",\"Zero-Knowledge Proof\",\"N/A\",\"N/A\",\"N/A\",\"N/A\",\"N/A\",\"N/A\",\"N/A\",\"N/A\",\"N/A\",\"N/A\",\"N/A\",\"N/A\",\"N/A\",\"N/A\",\"N/A\",\"N/A\",\"N/A\",\"N/A\",\"PoW\",\"N/A\",\"PoW\",\"N/A\",\"PoW\",\"N/A\",\"N/A\",\"N/A\",\"N/A\",\"N/A\",\"PoW\",\"N/A\",\"N/A\",\"N/A\",\"N/A\",\"PoW\",\"N/A\",\"N/A\",\"N/A\",\"N/A\",\"N/A\",\"PoW\",\"N/A\",\"N/A\",\"N/A\",\"N/A\",\"N/A\",\"N/A\",\"N/A\",\"N/A\",\"N/A\",\"N/A\",\"N/A\",\"SPoS\",\"N/A\",\"PoS\",\"N/A\",\"N/A\",\"N/A\",\"N/A\",\"N/A\",\"N/A\",\"N/A\",\"PoW\",\"N/A\",\"N/A\",\"N/A\",\"PoW\",\"N/A\",\"N/A\",\"N/A\",\"N/A\",\"PoW\",\"N/A\",\"PoW\",\"N/A\",\"N/A\",\"N/A\",\"PoS\",\"N/A\",\"N/A\",\"PoP + PoW\",\"N/A\",\"N/A\",\"N/A\",\"N/A\",\"N/A\",\"N/A\",\"N/A\",\"N/A\",\"N/A\",\"N/A\",\"N/A\",\"N/A\",\"N/A\",\"N/A\",\"N/A\",\"N/A\",\"N/A\",\"N/A\",\"N/A\",\"N/A\",\"N/A\",\"N/A\",\"PoW\",\"N/A\",\"N/A\",\"N/A\",\"N/A\",\"PoS\",\"N/A\",\"PoW\",\"N/A\",\"N/A\",\"N/A\",\"N/A\",\"N/A\",\"N/A\",\"N/A\",\"N/A\",\"N/A\",\"N/A\",\"N/A\",\"N/A\",\"N/A\",\"N/A\",\"N/A\",\"N/A\",\"N/A\",\"PoW\",\"N/A\",\"N/A\",\"N/A\",\"N/A\",\"N/A\",\"PoW\",\"N/A\",\"N/A\",\"N/A\",\"N/A\",\"N/A\",\"N/A\",\"N/A\",\"N/A\",\"N/A\",\"N/A\",\"N/A\",\"N/A\",\"N/A\",\"N/A\",\"N/A\",\"N/A\",\"N/A\",\"N/A\",\"N/A\",\"N/A\",\"N/A\",\"N/A\",\"PoS\",\"N/A\",\"N/A\",\"N/A\",\"PoS\",\"N/A\",\"N/A\",\"N/A\",\"PoS\",\"PoW\",\"N/A\",\"N/A\",\"N/A\",\"N/A\",\"N/A\",\"N/A\",\"N/A\",\"N/A\",\"N/A\",\"N/A\",\"N/A\",\"N/A\",\"N/A\",\"N/A\",\"N/A\",\"N/A\",\"N/A\",\"N/A\",\"N/A\",\"N/A\",\"N/A\",\"N/A\",\"N/A\",\"N/A\",\"N/A\",\"N/A\",\"N/A\",\"N/A\",\"N/A\",\"PoS\",\"PoW/PoS\",\"N/A\",\"N/A\",\"N/A\",\"N/A\",\"N/A\",\"N/A\",\"PoS\",\"N/A\",\"N/A\",\"N/A\",\"N/A\",\"N/A\",\"N/A\",\"N/A\",\"N/A\",\"N/A\",\"N/A\",\"N/A\",\"N/A\",\"N/A\",\"N/A\",\"N/A\",\"PoW\",\"N/A\",\"N/A\",\"N/A\",\"N/A\",\"N/A\",\"N/A\",\"N/A\",\"N/A\",\"N/A\",\"N/A\",\"N/A\",\"N/A\",\"N/A\",\"N/A\",\"N/A\",\"N/A\",\"N/A\",\"N/A\",\"N/A\",\"N/A\",\"N/A\",\"N/A\",\"N/A\",\"N/A\",\"DPoS/PoB\",\"N/A\",\"N/A\",\"N/A\",\"N/A\",\"N/A\",\"N/A\",\"N/A\",\"N/A\",\"N/A\",\"N/A\",\"N/A\",\"N/A\",\"N/A\",\"N/A\",\"PoW\",\"N/A\",\"N/A\",\"N/A\",\"N/A\",\"N/A\",\"N/A\",\"N/A\",\"N/A\",\"N/A\",\"N/A\",\"N/A\",\"N/A\",\"N/A\",\"N/A\",\"N/A\",\"N/A\",\"PoW\",\"N/A\",\"N/A\",\"N/A\",\"N/A\",\"N/A\",\"N/A\",\"N/A\",\"N/A\",\"N/A\",\"N/A\",\"N/A\",\"N/A\",\"N/A\",\"N/A\",\"N/A\",\"N/A\",\"N/A\",\"N/A\",\"N/A\",\"N/A\",\"N/A\",\"N/A\",\"N/A\",\"N/A\",\"N/A\",\"N/A\",\"N/A\",\"N/A\",\"N/A\",\"N/A\",\"N/A\",\"N/A\",\"N/A\",\"N/A\",\"N/A\",\"N/A\",\"N/A\",\"N/A\",\"N/A\",\"N/A\",\"N/A\",\"N/A\",\"N/A\",\"N/A\",\"N/A\",\"N/A\",\"N/A\",\"N/A\",\"N/A\",\"N/A\",\"N/A\",\"N/A\",\"N/A\",\"N/A\",\"N/A\",\"N/A\",\"N/A\",\"N/A\",\"N/A\",\"N/A\",\"N/A\",\"PoS\",\"N/A\",\"PoS\",\"N/A\",\"N/A\",\"N/A\",\"N/A\",\"N/A\",\"PoA\",\"N/A\",\"PoW\",\"N/A\",\"N/A\",\"N/A\",\"N/A\",\"N/A\",\"N/A\",\"N/A\",\"N/A\",\"N/A\",\"N/A\",\"N/A\",\"N/A\",\"N/A\",\"N/A\",\"N/A\",\"N/A\",\"N/A\",\"N/A\",\"N/A\",\"N/A\",\"N/A\",\"N/A\",\"N/A\",\"N/A\",\"N/A\",\"N/A\",\"N/A\",\"N/A\",\"N/A\",\"N/A\",\"N/A\",\"PoW/PoS\",\"N/A\",\"N/A\",\"N/A\",\"N/A\",\"N/A\",\"N/A\",\"N/A\",\"N/A\",\"N/A\",\"N/A\",\"N/A\",\"N/A\",\"N/A\",\"N/A\",\"N/A\",\"N/A\",\"N/A\",\"N/A\",\"N/A\",\"PoS\",\"PoS\",\"N/A\",\"N/A\",\"N/A\",\"N/A\",\"N/A\",\"N/A\",\"N/A\",\"N/A\",\"N/A\",\"N/A\",\"N/A\",\"N/A\",\"N/A\",\"PoS\",\"N/A\",\"N/A\",\"N/A\",\"N/A\",\"PoPP\",\"N/A\",\"N/A\",\"N/A\",\"N/A\",\"N/A\",\"N/A\",\"N/A\",\"N/A\",\"N/A\",\"DPOS\",\"N/A\",\"N/A\",\"N/A\",\"N/A\",\"N/A\",\"N/A\",\"N/A\",\"N/A\",\"N/A\",\"N/A\",\"N/A\",\"N/A\",\"N/A\",\"N/A\",\"N/A\",\"N/A\",\"N/A\",\"N/A\",\"N/A\",\"N/A\",\"N/A\",\"N/A\",\"N/A\",\"N/A\",\"N/A\",\"N/A\",\"N/A\",\"N/A\",\"N/A\",\"N/A\",\"N/A\",\"N/A\",\"N/A\",\"N/A\",\"N/A\",\"N/A\",\"N/A\",\"N/A\",\"N/A\",\"N/A\",\"N/A\",\"N/A\",\"N/A\",\"N/A\",\"N/A\",\"N/A\",\"N/A\",\"N/A\",\"N/A\",\"N/A\",\"N/A\",\"N/A\",\"N/A\",\"N/A\",\"N/A\",\"N/A\",\"N/A\",\"N/A\",\"N/A\",\"PoS\",\"N/A\",\"N/A\",\"N/A\",\"N/A\",\"N/A\",\"N/A\",\"N/A\",\"N/A\",\"N/A\",\"N/A\",\"N/A\",\"N/A\",\"N/A\",\"N/A\",\"N/A\",\"N/A\",\"N/A\",\"N/A\",\"N/A\",\"N/A\",\"N/A\",\"N/A\",\"N/A\",\"N/A\",\"N/A\",\"N/A\",\"PoW\",\"N/A\",\"N/A\",\"N/A\",\"N/A\",\"N/A\",\"N/A\",\"N/A\",\"N/A\",\"N/A\",\"N/A\",\"N/A\",\"N/A\",\"N/A\",\"N/A\",\"N/A\",\"N/A\",\"N/A\",\"N/A\",\"N/A\",\"N/A\",\"N/A\",\"N/A\",\"N/A\",\"PoW\",\"PoS\",\"N/A\",\"N/A\",\"PoS\",\"N/A\",\"N/A\",\"N/A\",\"PoW\",\"N/A\",\"N/A\",\"N/A\",\"N/A\",\"N/A\",\"N/A\",\"N/A\",\"N/A\",\"N/A\",\"N/A\",\"N/A\",\"N/A\",\"N/A\",\"PoW\",\"N/A\",\"N/A\",\"N/A\",\"PoW\",\"N/A\",\"N/A\",\"N/A\",\"N/A\",\"PoW\",\"PoW\",\"N/A\",\"N/A\",\"N/A\",\"N/A\",\"N/A\",\"N/A\",\"N/A\",\"PoW\",\"PoS\",\"PoS\",\"PoS\",\"PoW/PoS\",\"PoW\",\"N/A\",\"PoW/PoS\",\"N/A\",\"PoW/PoS\",\"N/A\",\"DPoS\",\"N/A\",\"PoS\",\"N/A\",\"N/A\",\"DPoS\",\"N/A\",\"N/A\",\"N/A\",\"N/A\",\"PoS\",\"PoS\",\"N/A\",\"PoS\",\"N/A\",\"N/A\",\"PoW\",\"PoW\",\"N/A\",\"DPoS\",\"N/A\",\"DPoS+dBFT\",\"DPoS\",\"fPoW+ PBFT\",\"N/A\",\"N/A\",\"N/A\",\"N/A\",\"N/A\",\"N/A\",\"N/A\",\"N/A\",\"N/A\",\"PoW\",\"N/A\",\"PoS\",\"PoW/PoS\",\"PoW\",\"PoW/PoS\",\"PoW\",\"N/A\",\"N/A\",\"N/A\",\"DPoS\",\"PoW/PoSe\",\"PoS\",\"dPoW/PoW\",\"N/A\",\"N/A\",\"N/A\",\"N/A\",\"N/A\",\"N/A\",\"N/A\",\"N/A\",\"N/A\",\"N/A\",\"N/A\",\"N/A\",\"N/A\",\"N/A\",\"N/A\",\"PoA\",\"N/A\",\"N/A\",\"PoW\",\"N/A\",\"PoW\",\"PoW\",\"N/A\",\"N/A\",\"N/A\",\"N/A\",\"N/A\",\"N/A\",\"PoW/PoS\",\"PoW\",\"PoW/PoS\",\"PoW\",\"N/A\",\"PoS/LPoS\",\"N/A\",\"PoW\",\"PoW\",\"DPoS\",\"Tangle\",\"PoW\",\"PoW/PoS\",\"PoW\",\"N/A\",\"N/A\",\"N/A\",\"N/A\",\"PoW\",\"PoS\",\"PoSA\",\"PoW\",\"N/A\",\"PoW/PoS\",\"PoW\",\"PoW\",\"PoW\",\"PoW/PoS\",\"dPoS/BFT\",\"PoW\",\"PoS\",\"PoW\",\"PoW\",\"PoW\",\"PoW\",\"SCP\",\"PoW\",\"PoW/PoS\",\"PoW\",\"PoW\",\"PoW/PoS\",\"PoW/PoS\",\"PoW\",\"PoW/PoS\",\"N/A\",\"DPoS\",\"PoW\",\"N/A\",\"PoS/PoW\",\"PoS/PoW\",\"PoC\",\"PoW\",\"PoA\",\"PoW/PoS\",\"N/A\",\"PoW\",\"N/A\",\"PoW/PoS\",\"PoS\",\"N/A\",\"PoW\",\"PoW/PoS\",\"PoW\",\"PoW\",\"(PoB)\",\"DPoS\",\"N/A\",\"PoW\",\"PoW/PoS\",\"PoS\",\"DPoS\",\"PoW/PoS\",\"PoW/nPoS\",\"PoW\",\"Proof of Authority\",\"PoS\",\"PoS\",\"PoW/PoS\",\"PoW\",\"PoS\",\"PoW\",\"PoI\",\"DPoS\",\"PoS\",\"PoW\",\"PoS\",\"SCP\",\"PoW\",\"DPoS\",\"LPoS\",\"PoS\",\"N/A\",\"N/A\",\"DPoS\",\"N/A\",\"N/A\",\"N/A\",\"N/A\",\"N/A\",\"N/A\",\"N/A\"],\"TotalCoinsMined\":{\"__ndarray__\":\"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\",\"dtype\":\"float64\",\"order\":\"little\",\"shape\":[1029]}},\"selected\":{\"id\":\"1105\"},\"selection_policy\":{\"id\":\"1153\"}},\"id\":\"1104\",\"type\":\"ColumnDataSource\"},{\"attributes\":{\"editor\":{\"id\":\"1117\"},\"field\":\"TotalCoinsMined\",\"formatter\":{\"id\":\"1116\"},\"title\":\"TotalCoinsMined\"},\"id\":\"1118\",\"type\":\"TableColumn\"},{\"attributes\":{},\"id\":\"1132\",\"type\":\"NumberEditor\"},{\"attributes\":{\"format\":\"0,0.0[00000]\"},\"id\":\"1126\",\"type\":\"NumberFormatter\"},{\"attributes\":{\"editor\":{\"id\":\"1122\"},\"field\":\"MaxSupply\",\"formatter\":{\"id\":\"1121\"},\"title\":\"MaxSupply\"},\"id\":\"1123\",\"type\":\"TableColumn\"},{\"attributes\":{},\"id\":\"1153\",\"type\":\"UnionRenderers\"},{\"attributes\":{\"editor\":{\"id\":\"1127\"},\"field\":\"PC_1\",\"formatter\":{\"id\":\"1126\"},\"title\":\"PC 1\"},\"id\":\"1128\",\"type\":\"TableColumn\"},{\"attributes\":{\"format\":\"0,0.0[00000]\"},\"id\":\"1136\",\"type\":\"NumberFormatter\"},{\"attributes\":{},\"id\":\"1137\",\"type\":\"NumberEditor\"},{\"attributes\":{\"editor\":{\"id\":\"1132\"},\"field\":\"PC_2\",\"formatter\":{\"id\":\"1131\"},\"title\":\"PC 2\"},\"id\":\"1133\",\"type\":\"TableColumn\"},{\"attributes\":{},\"id\":\"1141\",\"type\":\"NumberFormatter\"},{\"attributes\":{},\"id\":\"1142\",\"type\":\"IntEditor\"},{\"attributes\":{\"editor\":{\"id\":\"1137\"},\"field\":\"PC_3\",\"formatter\":{\"id\":\"1136\"},\"title\":\"PC 3\"},\"id\":\"1138\",\"type\":\"TableColumn\"},{\"attributes\":{},\"id\":\"1147\",\"type\":\"StringEditor\"},{\"attributes\":{\"source\":{\"id\":\"1104\"}},\"id\":\"1152\",\"type\":\"CDSView\"},{\"attributes\":{},\"id\":\"1146\",\"type\":\"StringFormatter\"},{\"attributes\":{\"editor\":{\"id\":\"1142\"},\"field\":\"Class\",\"formatter\":{\"id\":\"1141\"},\"title\":\"Class\"},\"id\":\"1143\",\"type\":\"TableColumn\"},{\"attributes\":{},\"id\":\"1105\",\"type\":\"Selection\"},{\"attributes\":{\"columns\":[{\"id\":\"1108\"},{\"id\":\"1113\"},{\"id\":\"1118\"},{\"id\":\"1123\"},{\"id\":\"1128\"},{\"id\":\"1133\"},{\"id\":\"1138\"},{\"id\":\"1143\"},{\"id\":\"1148\"}],\"height\":300,\"reorderable\":false,\"source\":{\"id\":\"1104\"},\"view\":{\"id\":\"1152\"},\"width\":700},\"id\":\"1151\",\"type\":\"DataTable\"},{\"attributes\":{\"editor\":{\"id\":\"1147\"},\"field\":\"CoinName\",\"formatter\":{\"id\":\"1146\"},\"title\":\"CoinName\"},\"id\":\"1148\",\"type\":\"TableColumn\"}],\"root_ids\":[\"1102\"]},\"title\":\"Bokeh Application\",\"version\":\"2.2.3\"}};\n    var render_items = [{\"docid\":\"125124a0-0ba7-4e4b-ac64-365cca327542\",\"root_ids\":[\"1102\"],\"roots\":{\"1102\":\"0f346432-9476-459b-895b-7f47a61b7894\"}}];\n    root.Bokeh.embed.embed_items_notebook(docs_json, render_items);\n  }\n  if (root.Bokeh !== undefined && root.Bokeh.Panel !== undefined) {\n    embed_document(root);\n  } else {\n    var attempts = 0;\n    var timer = setInterval(function(root) {\n      if (root.Bokeh !== undefined && root.Bokeh.Panel !== undefined) {\n        clearInterval(timer);\n        embed_document(root);\n      } else if (document.readyState == \"complete\") {\n        attempts++;\n        if (attempts > 100) {\n          clearInterval(timer);\n          console.log(\"Bokeh: ERROR: Unable to run BokehJS code because BokehJS library is missing\");\n        }\n      }\n    }, 10, root)\n  }\n})(window);</script>",
      "application/vnd.holoviews_exec.v0+json": "",
      "text/plain": [
       ":Table   [Algorithm,ProofType,TotalCoinsMined,MaxSupply,PC 1,PC 2,PC 3,Class,CoinName]"
      ]
     },
     "metadata": {
      "application/vnd.holoviews_exec.v0+json": {
       "id": "1102"
      }
     },
     "execution_count": 32
    }
   ],
   "source": [
    "# Table with tradable cryptos\n",
    "cryptocluster_df.hvplot.table()"
   ]
  },
  {
   "cell_type": "code",
   "execution_count": 33,
   "metadata": {},
   "outputs": [
    {
     "output_type": "stream",
     "name": "stdout",
     "text": [
      " There are 1029 tradable cryptocurrencies\n"
     ]
    }
   ],
   "source": [
    "# Print the total number of tradable cryptocurrencies\n",
    "print(f' There are {cryptocluster_df[\"MaxSupply\"].count()} tradable cryptocurrencies')"
   ]
  },
  {
   "cell_type": "markdown",
   "metadata": {},
   "source": [
    "#### Scatter Plot with Tradable Cryptocurrencies"
   ]
  },
  {
   "cell_type": "code",
   "execution_count": 34,
   "metadata": {},
   "outputs": [
    {
     "output_type": "execute_result",
     "data": {
      "text/plain": [
       "array([[0.00000000e+00, 2.01668509e-15],\n",
       "       [6.05005527e-13, 6.07022212e-13],\n",
       "       [0.00000000e+00, 2.01668509e-15],\n",
       "       ...,\n",
       "       [2.01668509e-06, 2.01668509e-06],\n",
       "       [2.01668509e-09, 2.01668711e-09],\n",
       "       [2.01670526e-10, 2.01672542e-10]])"
      ]
     },
     "metadata": {},
     "execution_count": 34
    }
   ],
   "source": [
    "# Scale data to create the scatter plot\n",
    "scaling_data = cryptocluster_df.copy()\n",
    "scaling_data_2 = scaling_data.drop(\n",
    "    [\"Algorithm\", \"ProofType\",\"PC 1\", \"PC 2\", \"PC 3\", \"CoinName\" , \"Class\"], \n",
    "    axis=1\n",
    ")\n",
    "min_max = MinMaxScaler().fit_transform(scaling_data_2)\n",
    "min_max"
   ]
  },
  {
   "cell_type": "code",
   "execution_count": 37,
   "metadata": {},
   "outputs": [
    {
     "output_type": "display_data",
     "data": {},
     "metadata": {}
    },
    {
     "output_type": "execute_result",
     "data": {
      "text/html": "<div id='1169'>\n\n\n\n\n\n  <div class=\"bk-root\" id=\"32f66221-b0ea-4b0d-89fe-5f46ad4f60a4\" data-root-id=\"1169\"></div>\n</div>\n<script type=\"application/javascript\">(function(root) {\n  function embed_document(root) {\n    var docs_json = {\"da181a37-c40e-45ec-9892-62dacb73ce26\":{\"roots\":{\"references\":[{\"attributes\":{},\"id\":\"1208\",\"type\":\"BasicTickFormatter\"},{\"attributes\":{\"click_policy\":\"mute\",\"items\":[{\"id\":\"1228\"},{\"id\":\"1247\"},{\"id\":\"1268\"},{\"id\":\"1291\"}],\"location\":[0,0],\"title\":\"Class\"},\"id\":\"1227\",\"type\":\"Legend\"},{\"attributes\":{\"end\":1.042857142857143,\"reset_end\":1.042857142857143,\"reset_start\":-0.04285714285714286,\"start\":-0.04285714285714286,\"tags\":[[[\"TotalCoinsMined\",\"TotalCoinsMined\",null]]]},\"id\":\"1171\",\"type\":\"Range1d\"},{\"attributes\":{},\"id\":\"1210\",\"type\":\"BasicTickFormatter\"},{\"attributes\":{\"data\":{\"Class\":[3,3,3,3,3,3,3,3,3,3,3,3,3,3,3,3,3,3,3,3,3,3,3,3,3,3,3,3,3,3,3,3,3,3,3,3,3,3,3,3,3,3,3,3,3,3,3,3,3,3,3,3,3,3,3,3,3,3,3,3,3,3,3,3,3,3,3,3,3,3,3,3,3,3,3,3,3,3,3,3,3,3,3,3,3,3,3,3,3,3,3,3,3,3,3,3,3,3,3,3,3,3,3,3,3,3,3,3,3,3,3,3,3,3,3,3,3,3,3,3,3,3,3,3,3,3,3,3,3,3,3,3,3,3,3,3,3,3,3,3,3,3,3,3,3,3,3,3,3,3,3,3,3,3,3,3,3,3,3,3,3,3,3,3,3,3,3],\"CoinName\":[\"42 Coin\",\"365Coin\",\"404Coin\",\"SixEleven\",\"808\",\"EliteCoin\",\"2015 coin\",\"BetaCoin\",\"MyriadCoin\",\"SexCoin\",\"NovaCoin\",\"VeriCoin\",\"CounterParty\",\"NuShares\",\"MonaCoin\",\"Triangles Coin\",\"Curecoin\",\"BitcoinPlus\",\"XCoin\",\"Sphere Coin\",\"Paycon\",\"Radium\",\"Emercoin\",\"OKCash\",\"SafeExchangeCoin\",\"CometCoin\",\"Karbo\",\"Opair\",\"LuckyBlocks\",\"FistBump\",\"Stakenet\",\"PAC Global\",\"OpenChat\",\"Prizm\",\"Dynamic\",\"Dinastycoin\",\"Particl\",\"Amber\",\"BitcoinZ\",\"Pura\",\"Super Bitcoin\",\"HTML Coin\",\"UnitedBitcoin\",\"TokenPay\",\"Bitcoin Private\",\"Callisto Network\",\"Aidos Kuneen\",\"Zelcash\",\"Semux\",\"BitBlocks\",\"Haven Protocol\",\"Monero Classic\",\"Dero\",\"VideoCoin\",\"Giant\",\"Vitae\",\"EUNO\",\"NIX\",\"Kcash\",\"Actinium\",\"ETHER-1\",\"ABBC Coin\",\"Smart Bitcoin\",\"Beam\",\"V Systems\",\"Vidulum\",\"ESBC\",\"VeriBlock\",\"Bitcoin Rhodium\",\"Super Zero\",\"Foin\",\"Beldex\",\"Nervos Network\",\"CUTcoin\",\"Zano\",\"Eureka Coin\",\"Handshake\",\"MimbleWimbleCoin\",\"Arweave\",\"Ravencoin Classic\",\"Buxcoin\",\"Velox\",\"Primas\",\"Loki\",\"AEON\",\"Bitcoin Vault\",\"Bitcoin ABC\",\"Ergo\",\"Infinity Economics\",\"BlackCoin\",\"Auroracoin\",\"SpainCoin\",\"TerraCredit\",\"FairCoin\",\"BitTorrent\",\"SmartCash\",\"ByteCoin\",\"INT\",\"Monero\",\"XDNA\",\"Bitcoin Diamond\",\"SysCoin\",\"Lisk\",\"Dash\",\"Komodo\",\"GoldCoin\",\"Wibcoin\",\"SaluS\",\"Ubiq\",\"Reddcoin\",\"Dogecoin\",\"Nxt\",\"ZCash\",\"Vertcoin\",\"Litecoin\",\"Decred\",\"Bitcoin\",\"Grin\",\"Binance Coin\",\"Bitcoin SV\",\"QuarkCoin\",\"Expanse\",\"MegaCoin\",\"PotCoin\",\"Gulden\",\"Rise\",\"Namecoin\",\"Einsteinium\",\"SibCoin\",\"Bitcoin Gold\",\"Groestlcoin\",\"DigitalNote \",\"ViaCoin\",\"FeatherCoin\",\"IOCoin\",\"WhiteCoin\",\"Firo\",\"CloakCoin\",\"Achain\",\"Verge\",\"BurstCoin\",\"Siacoin\",\"Poa Network\",\"Aeternity\",\"Bytom\",\"HyperCash\",\"BlockNet\",\"Horizen\",\"Bitcoin Cash\",\"Aion\",\"Shift\",\"NavCoin\",\"Nexus\",\"DigiByte\",\"VeChain\",\"QTUM\",\"Private Instant Verified Transaction\",\"Nano\",\"Ontology\",\"Ethereum Classic\",\"ARK\",\"ICON Project\",\"Steem\",\"Bitshares\",\"Ethereum\",\"Cardano\",\"EOS\"],\"MaxSupply\":{\"__ndarray__\":\"wbaBwigq4jzBtoHCKCriPMG2gcIoKuI8wbaBwigq4jzBtoHCKCriPMG2gcIoKuI8wbaBwigq4jzBtoHCKCriPMG2gcIoKuI8wbaBwigq4jwAAAAAAAAAAMG2gcIoKuI8AAAAAAAAAADBtoHCKCriPAAAAAAAAAAAwbaBwigq4jzBtoHCKCriPMG2gcIoKuI8wbaBwigq4jzBtoHCKCriPMG2gcIoKuI8gC1XhBR9Uz4AAAAAAAAAAMG2gcIoKuI8wbaBwigq4jzBtoHCKCriPMG2gcIoKuI8wbaBwigq4jzBtoHCKCriPMG2gcIoKuI8AAAAAAAAAADBtoHCKCriPCbrvFrM6sA+wbaBwigq4jzBtoHCKCriPMG2gcIoKuI8wbaBwigq4jwAAAAAAAAAAMG2gcIoKuI8AAAAAAAAAADBtoHCKCriPMG2gcIoKuI8wbaBwigq4jzBtoHCKCriPNSkT8blw2g+wbaBwigq4jzBtoHCKCriPDwb9Li9a5w+wbaBwigq4jzBtoHCKCriPMG2gcIoKuI8wbaBwigq4jzBtoHCKCriPNm1QWul7qE+wbaBwigq4jzBtoHCKCriPMG2gcIoKuI8wbaBwigq4jwm67xazOrAPsG2gcIoKuI8wbaBwigq4jzgbonml2nJPsG2gcIoKuI8tgI5AsvSoT4AAAAAAAAAAMG2gcIoKuI8wbaBwigq4jzBtoHCKCriPMG2gcIoKuI8wbaBwigq4jyc9Kr7RhGLPgAAAAAAAAAAAAAAAAAAAADBtoHCKCriPMG2gcIoKuI8wbaBwigq4jzBtoHCKCriPEzkEAtsp2U+gn7isVLdgT7BtoHCKCriPAAAAAAAAAAAwbaBwigq4jyc9Kr7RhGLPgAAAAAAAAAAAAAAAAAAAAAT1ILXl7xmPuRoF9eXvGY+wbaBwigq4jzBtoHCKCriPJz0qvtGEYs+E9SC15e8Zj7BtoHCKCriPMG2gcIoKuI8wbaBwigq4jx4eHORAFtgP019I3F/JeU+X3pStWxhOD8m67xazOrAPgAAAAAAAAAAwbaBwigq4jw8G/S4vWucPhQP62l/C74+AAAAAAAAAABYKS2qiHZkPoOvZflGEZs+YlxL2hqOgz5D4XqtXYVgPwAAAAAAAAAAAAAAAAAAAAAAAAAAAAAAAAAAAAAAAAAAJuu8WszqwD4T1ILXl7xmPoE148mXvIY+gTXjyZe8hj4T1ILXl7xmPuRoF9eXvGY+AAAAAAAAAAAJDm5yypGXPuRoF9eXvGY+AAAAAAAAAACc9Kr7RhGLPrG/bc6XvHY+sHjRt71rrD7Hfve2vWvMPgAAAAAAAAAAAAAAAAAAAAAAAAAAAAAAABPUgteXvGY+E9SC15e8Zj5VYDm7vWuMPgAAAAAAAAAAAAAAAAAAAADcTXvGl7ymPtrD9KPD0Wc+Juu8WszqwD7JAEopditnPgAAAAAAAAAAwbaBwigq4jzCjYfXBYEBP3xDtPywQtI+AAAAAAAAAAAAAAAAAAAAAMG2gcIoKuI8PBv0uL1rnD6BNePJl7yGPgAAAAAAAAAAE9SC15e8Zj7kaBfXl7xmPgAAAAAAAAAAAAAAAAAAAAAAAAAAAAAAANdNOBfWHIU+1iG9Niw0Bj8X1Ue0u+smP1ZEyS5QL40+AAAAAAAAAAB4fttckgiSPgAAAAAAAAAABK3XWv6DnD4AAAAAAAAAAAAAAAAAAAAAAAAAAAAAAABYaAIXrHTePgAAAAAAAAAAzcI1Xy/KFz8AAAAAAAAAAA==\",\"dtype\":\"float64\",\"order\":\"little\",\"shape\":[167]},\"TotalCoinsMined\":{\"__ndarray__\":\"AAAAAAAAAAAAAAAAAAAAAAAAAAAAAAAAAAAAAAAAAAAAAAAAAAAAAAAAAAAAAAAAAAAAAAAAAAAAAAAAAAAAAAAAAAAAAAAAAAAAAAAAAACGI79GV7s6PgAAAAAAAAAA92RJdeGmNj6JIUVFDb7oPhsziItUroU+1IhtUK8a9z0AAAAAAAAAAAAAAAAAAAAAAAAAAAAAAAAAAAAAAAAAAAAAAAAAAAAAPm2llJItQj6Epjppu0x5PgAAAAAAAAAAAAAAAAAAAADgIcYwiz0ePgAAAAAAAAAAAAAAAAAAAAAAAAAAAAAAAAAAAAAAAAAA9cVCsgRpjz4AAAAAAAAAAIxCdFrM6sA+AAAAAAAAAAAAAAAAAAAAAAAAAAAAAAAAAAAAAAAAAADxSG2Zhli1PgAAAAAAAAAAQnJT7MlsmT4AAAAAAAAAAAAAAAAAAAAAAAAAAAAAAAAAAAAAAAAAAIDbZEPuiUA+AAAAAAAAAAB6aiD3RhFrPjxBYUrjHJA+AAAAAAAAAAAAAAAAAAAAAAAAAAAAAAAAAAAAAAAAAAAAAAAAAAAAAFcTH2ql7qE+AAAAAAAAAAAAAAAAAAAAAAAAAAAAAAAAAAAAAAAAAACMQnRazOrAPgAAAAAAAAAAAAAAAAAAAADTY66HMmDJPgAAAAAAAAAApbswS5zlgD4/kc0s4TroPgAAAAAAAAAAAAAAAAAAAAAAAAAAAAAAAAAAAAAAAAAAAAAAAAAAAAD+oGnslvGIPjD7HeYUsMc+G7SEbQcDED8AAAAAAAAAAAAAAAAAAAAAAAAAAAAAAAAAAAAAAAAAAKXxIbViIlc+Q74f/509gT4AAAAAAAAAAO/KXZG6dK4+AAAAAAAAAAB6aiD3RhGLPlBjWhUOL3w+l/G50kUyYz5heOzTHQBWPnKQ/H3nI2Q+AAAAAAAAAAAAAAAAAAAAAMzzXIdjWIA+87/2I3GVZD4AAAAAAAAAAAAAAAAAAAAAAAAAAAAAAADYsKtM9FpgP627/vZK19U+iJB9ilZhOD/Mcw107SOvPiujOoehRGM+AAAAAAAAAACV2l2AnO6aPqSbd04HZrQ+wBLoqTtTkz4EalvraGpVPrhyb5289pA+VpstmS5Qdz4iz3qtXYVgP6aZmGdx4SE+I1oxZWzwej6Kzk3A+ZcPPzUm7YQA3DA/9YXOlnfmwD5OJzmbLgRXPhZXlgPAZX8+490okAEKgj5NSMDsZedaPpTM6qNQHmQ+Avrdb5sFfz7+yChwypGXPtjI136eJWQ+9hV9etYdoj57eNWX98hyPidcPlXQTHU+kb6SU8F+nj5SqctyW82xPg0hXscoxZY+q3dykJKoYj4yNHwQ3uudPuZx6DGHcGQ+an6NlkYkZD6Myb+varuEPqJBP+2zieU++p6nFcoWaT52zwE3ENafPpqly8ETImQ+gbu4Z+yUvj52R3NfEppYPmP/NeiHGEg+jEJ0WszqwD7J/Elq0lkBPwuiJZL03NE+sE9Ij/HoFz98oMjaTiSjPvV6LYpxSqk+Wr1EBP/Uyz5qbSEd6FV4PtDjA9NuAlA+r6kGDBbsVj7/fVOUHidkPipTIVCAfrA+cxxNGwFHXz7qQsaYIRqDPsKxyHgBs4I+TQP/1kVg/T7+gRh3f7omPzWHEj2W44s+IuBeefiKGz5qOZZakgiSPoxCdFrM6sA+pj4rj4XJkD7t9nMN7+CUPv5kLLTZdb0+acSVfb5BqT5n7l+z/VTZPiaozHrz2o4+A6sGlfjQED+eRyAV1VnBPg==\",\"dtype\":\"float64\",\"order\":\"little\",\"shape\":[167]}},\"selected\":{\"id\":\"1270\"},\"selection_policy\":{\"id\":\"1289\"}},\"id\":\"1269\",\"type\":\"ColumnDataSource\"},{\"attributes\":{},\"id\":\"1245\",\"type\":\"UnionRenderers\"},{\"attributes\":{\"source\":{\"id\":\"1211\"}},\"id\":\"1218\",\"type\":\"CDSView\"},{\"attributes\":{\"data_source\":{\"id\":\"1211\"},\"glyph\":{\"id\":\"1214\"},\"hover_glyph\":null,\"muted_glyph\":{\"id\":\"1216\"},\"nonselection_glyph\":{\"id\":\"1215\"},\"selection_glyph\":null,\"view\":{\"id\":\"1218\"}},\"id\":\"1217\",\"type\":\"GlyphRenderer\"},{\"attributes\":{\"callback\":null,\"renderers\":[{\"id\":\"1217\"},{\"id\":\"1235\"},{\"id\":\"1254\"},{\"id\":\"1275\"}],\"tags\":[\"hv_created\"],\"tooltips\":[[\"Class\",\"@{Class}\"],[\"TotalCoinsMined\",\"@{TotalCoinsMined}\"],[\"MaxSupply\",\"@{MaxSupply}\"],[\"CoinName\",\"@{CoinName}\"]]},\"id\":\"1173\",\"type\":\"HoverTool\"},{\"attributes\":{\"axis_label\":\"MaxSupply\",\"bounds\":\"auto\",\"formatter\":{\"id\":\"1210\"},\"major_label_orientation\":\"horizontal\",\"ticker\":{\"id\":\"1191\"}},\"id\":\"1190\",\"type\":\"LinearAxis\"},{\"attributes\":{\"fill_alpha\":{\"value\":0.2},\"fill_color\":{\"value\":\"#1f77b3\"},\"line_alpha\":{\"value\":0.2},\"line_color\":{\"value\":\"#1f77b3\"},\"size\":{\"units\":\"screen\",\"value\":5.477225575051661},\"x\":{\"field\":\"TotalCoinsMined\"},\"y\":{\"field\":\"MaxSupply\"}},\"id\":\"1216\",\"type\":\"Scatter\"},{\"attributes\":{\"data\":{\"Class\":[2],\"CoinName\":[\"Waves\"],\"MaxSupply\":{\"__ndarray__\":\"AAAAAAAAAAA=\",\"dtype\":\"float64\",\"order\":\"little\",\"shape\":[1]},\"TotalCoinsMined\":{\"__ndarray__\":\"7E4W0ukhjD4=\",\"dtype\":\"float64\",\"order\":\"little\",\"shape\":[1]}},\"selected\":{\"id\":\"1249\"},\"selection_policy\":{\"id\":\"1266\"}},\"id\":\"1248\",\"type\":\"ColumnDataSource\"},{\"attributes\":{\"margin\":[5,5,5,5],\"name\":\"HSpacer01906\",\"sizing_mode\":\"stretch_width\"},\"id\":\"1418\",\"type\":\"Spacer\"},{\"attributes\":{\"fill_alpha\":{\"value\":0.1},\"fill_color\":{\"value\":\"#1f77b3\"},\"line_alpha\":{\"value\":0.1},\"line_color\":{\"value\":\"#1f77b3\"},\"size\":{\"units\":\"screen\",\"value\":5.477225575051661},\"x\":{\"field\":\"TotalCoinsMined\"},\"y\":{\"field\":\"MaxSupply\"}},\"id\":\"1215\",\"type\":\"Scatter\"},{\"attributes\":{\"overlay\":{\"id\":\"1199\"}},\"id\":\"1197\",\"type\":\"BoxZoomTool\"},{\"attributes\":{\"children\":[{\"id\":\"1170\"},{\"id\":\"1177\"},{\"id\":\"1418\"}],\"margin\":[0,0,0,0],\"name\":\"Row01901\",\"tags\":[\"embedded\"]},\"id\":\"1169\",\"type\":\"Row\"},{\"attributes\":{\"margin\":[5,5,5,5],\"name\":\"HSpacer01905\",\"sizing_mode\":\"stretch_width\"},\"id\":\"1170\",\"type\":\"Spacer\"},{\"attributes\":{\"end\":1.1,\"reset_end\":1.1,\"reset_start\":-0.1,\"start\":-0.1,\"tags\":[[[\"MaxSupply\",\"MaxSupply\",null]]]},\"id\":\"1172\",\"type\":\"Range1d\"},{\"attributes\":{\"fill_color\":{\"value\":\"#d62628\"},\"line_color\":{\"value\":\"#d62628\"},\"size\":{\"units\":\"screen\",\"value\":5.477225575051661},\"x\":{\"field\":\"TotalCoinsMined\"},\"y\":{\"field\":\"MaxSupply\"}},\"id\":\"1272\",\"type\":\"Scatter\"},{\"attributes\":{\"source\":{\"id\":\"1269\"}},\"id\":\"1276\",\"type\":\"CDSView\"},{\"attributes\":{\"fill_alpha\":{\"value\":0.1},\"fill_color\":{\"value\":\"#2ba02b\"},\"line_alpha\":{\"value\":0.1},\"line_color\":{\"value\":\"#2ba02b\"},\"size\":{\"units\":\"screen\",\"value\":5.477225575051661},\"x\":{\"field\":\"TotalCoinsMined\"},\"y\":{\"field\":\"MaxSupply\"}},\"id\":\"1252\",\"type\":\"Scatter\"},{\"attributes\":{\"label\":{\"value\":\"0\"},\"renderers\":[{\"id\":\"1217\"}]},\"id\":\"1228\",\"type\":\"LegendItem\"},{\"attributes\":{\"fill_alpha\":{\"value\":0.2},\"fill_color\":{\"value\":\"#d62628\"},\"line_alpha\":{\"value\":0.2},\"line_color\":{\"value\":\"#d62628\"},\"size\":{\"units\":\"screen\",\"value\":5.477225575051661},\"x\":{\"field\":\"TotalCoinsMined\"},\"y\":{\"field\":\"MaxSupply\"}},\"id\":\"1274\",\"type\":\"Scatter\"},{\"attributes\":{},\"id\":\"1184\",\"type\":\"LinearScale\"},{\"attributes\":{\"fill_color\":{\"value\":\"#2ba02b\"},\"line_color\":{\"value\":\"#2ba02b\"},\"size\":{\"units\":\"screen\",\"value\":5.477225575051661},\"x\":{\"field\":\"TotalCoinsMined\"},\"y\":{\"field\":\"MaxSupply\"}},\"id\":\"1251\",\"type\":\"Scatter\"},{\"attributes\":{\"data\":{\"Class\":[0,0,0,0,0,0,0,0,0,0,0,0,0,0,0,0,0,0,0,0,0,0,0,0,0,0,0,0,0,0,0,0,0,0,0,0,0,0,0,0,0,0,0,0,0,0,0,0,0,0,0,0,0,0,0,0,0,0,0,0,0,0,0,0,0,0,0,0,0,0,0,0,0,0,0,0,0,0,0,0,0,0,0,0,0,0,0,0,0,0,0,0,0,0,0,0,0,0,0,0,0,0,0,0,0,0,0,0,0,0,0,0,0,0,0,0,0,0,0,0,0,0,0,0,0,0,0,0,0,0,0,0,0,0,0,0,0,0,0,0,0,0,0,0,0,0,0,0,0,0,0,0,0,0,0,0,0,0,0,0,0,0,0,0,0,0,0,0,0,0,0,0,0,0,0,0,0,0,0,0,0,0,0,0,0,0,0,0,0,0,0,0,0,0,0,0,0,0,0,0,0,0,0,0,0,0,0,0,0,0,0,0,0,0,0,0,0,0,0,0,0,0,0,0,0,0,0,0,0,0,0,0,0,0,0,0,0,0,0,0,0,0,0,0,0,0,0,0,0,0,0,0,0,0,0,0,0,0,0,0,0,0,0,0,0,0,0,0,0,0,0,0,0,0,0,0,0,0,0,0,0,0,0,0,0,0,0,0,0,0,0,0,0,0,0,0,0,0,0,0,0,0,0,0,0,0,0,0,0,0,0,0,0,0,0,0,0,0,0,0,0,0,0,0,0,0,0,0,0,0,0,0,0,0,0,0,0,0,0,0,0,0,0,0,0,0,0,0,0,0,0,0,0,0,0,0,0,0,0,0,0,0,0,0,0,0,0,0,0,0,0,0,0,0,0,0,0,0,0,0,0,0,0,0,0,0,0,0,0,0,0,0,0,0,0,0,0,0,0,0,0,0,0,0,0,0,0,0,0,0,0,0,0,0,0,0,0,0,0,0,0,0,0,0,0,0,0,0,0,0,0,0,0,0,0,0,0,0,0,0,0,0,0,0,0,0,0,0,0,0,0,0,0,0,0,0,0,0,0,0,0,0,0,0,0,0,0,0,0,0,0,0,0,0,0,0,0,0,0,0,0,0,0,0,0,0,0,0,0,0,0,0,0,0,0,0,0,0,0,0,0,0,0,0,0,0,0,0,0,0,0,0,0,0,0,0,0,0,0,0,0,0,0,0,0,0,0,0,0,0,0,0,0,0,0,0,0,0,0,0,0,0,0,0,0,0,0,0,0,0,0,0,0,0,0,0,0,0,0,0,0,0,0,0,0,0,0,0,0,0,0,0,0,0,0,0,0,0,0,0,0,0,0,0,0,0,0,0,0,0,0,0,0,0,0,0,0,0,0,0,0,0,0,0,0,0,0,0,0,0,0,0,0,0,0,0,0,0,0,0,0,0,0,0,0,0,0,0,0,0,0,0,0,0,0,0,0,0,0,0,0,0,0,0,0,0,0,0,0,0,0,0,0,0,0,0,0,0,0,0,0,0,0,0,0,0,0,0,0,0,0,0,0,0,0,0,0,0,0,0,0,0,0,0,0,0,0,0,0,0,0,0,0,0,0,0,0,0,0,0,0,0,0,0,0,0,0,0,0,0,0,0,0,0,0,0,0,0,0,0,0,0,0,0,0,0,0,0,0,0,0,0,0,0,0,0,0,0,0,0,0,0,0,0,0,0,0,0,0,0,0,0,0,0,0,0,0,0,0,0,0,0,0,0,0,0,0,0,0,0,0,0,0,0,0,0,0,0,0,0,0,0,0,0,0,0,0,0,0,0,0,0,0,0,0,0,0,0,0,0,0,0,0,0,0,0,0,0,0,0,0,0,0,0,0,0,0,0,0,0,0,0,0,0,0,0,0,0,0,0,0,0,0,0,0,0,0,0,0,0,0,0,0,0,0,0,0,0,0,0,0,0,0,0,0,0,0,0,0,0],\"CoinName\":[\"300 token\",\"Octocoin\",\"GeoCoin\",\"MaidSafe Coin\",\"Factom\",\"Digix DAO\",\"Bancor Network Token\",\"LBRY Credits\",\"SingularDTV\",\"Wings DAO\",\"bitCNY\",\"Peerplays\",\"Mycelium Token\",\"Veros\",\"Nexium\",\"iEx.ec\",\"Gnosis\",\"XTRABYTES\",\"Lunyr\",\"Basic Attention Token\",\"ZrCoin\",\"Status Network Token\",\"Crypto.com\",\"Numeraire\",\"AdEx\",\"Polybius\",\"Nimiq\",\"district0x\",\"Suretly\",\"CryptoPing\",\"DAOBet\",\"Santiment\",\"Wagerr\",\"SunContract\",\"Oax\",\"EncrypGen\",\"LATOKEN\",\"0x\",\"Tierion\",\"Storj\",\"Crypviser\",\"Viberate\",\"Decentraland\",\"Mobius\",\"KickToken\",\"Monetha\",\"Gas\",\"Dentacoin\",\"Agrello Delta\",\"Ignis\",\"Utrust\",\"Enjin Coin\",\"Etherparty\",\"Cappasity\",\"Ripio\",\"Chainlink\",\"Kyber Network\",\"Salt Lending\",\"Yoyow\",\"Request Network\",\"Datum\",\"VIBEHub\",\"AirSwap\",\"Cindicator\",\"Covesting\",\"Power Ledger\",\"Crypto20\",\"Red Pulse Phoenix\",\"Zeusshield\",\"Soma\",\"KuCoin Shares\",\"WePower\",\"Dragonchain\",\"Streamr DATAcoin\",\"HEROcoin\",\"Insolar\",\"Neumark\",\"BlockMason Credit Protocol\",\"Genesis Vision\",\"Jibrel Network Token\",\"Aave\",\"Sether\",\"CoinFi\",\"FlypMe\",\"Adbank\",\"LockTrip\",\"HOQU\",\"MediBloc\",\"Bounty0x\",\"Bread token\",\"aelf\",\"DeepBrain Chain\",\"REMME\",\"QLC Chain\",\"Energo\",\"PumaPay\",\"MediShares\",\"Game\",\"Ink\",\"Telcoin\",\"Zap\",\"AI Doctor\",\"EchoLink\",\"Bottos\",\"IDEX\",\"CommerceBlock Token\",\"Data\",\"CarVertical\",\"Odyssey\",\"Theta\",\"OriginTrail\",\"Qbao\",\"SwftCoin\",\"Sentinel\",\"InsurePal\",\"Scry.info\",\"CPChain\",\"Zeepin\",\"LeadCoin\",\"BlockCDN \",\"STK Token\",\"Polymath Network\",\"Bluzelle\",\"SwissBorg\",\"Medicalchain\",\"THEKEY Token\",\"Lympo\",\"RED MegaWatt\",\"Huobi Token\",\"BitcoinFile\",\"Creditcoin\",\"BABB\",\"SpaceChain\",\"All Sports Coin\",\"Nucleus Vision\",\"Ink Protocol\",\"XY Oracle\",\"Props\",\"Celsius Network\",\"Credits\",\"Alphacat\",\"DATx\",\"TomoChain\",\"Insights Network\",\"CoinPoker Token\",\"I-House Token\",\"Electrify.Asia\",\"Pantos\",\"Pigeoncoin\",\"True USD\",\"Mithril\",\"Switcheo\",\"eosDAC\",\"Bidipass\",\"Sentinel Chain\",\"U Network\",\"Zilla\",\"Gems\",\"Kryll\",\"NEXO\",\"0xBitcoin\",\"EduCoin\",\"CyberVein\",\"Global Social Chain\",\"Verasity\",\"UniBright\",\"AMO Coin\",\"Content Neutrality Network\",\"Skrumble Network\",\"ShareToken\",\"Ubex\",\"Open Platform\",\"Morpheus Network\",\"IoTeX Network\",\"NKN\",\"Elysian\",\"Repo Coin\",\"Bezant\",\"Phantasma\",\"PCHAIN\",\"IQeon\",\"CoinEx Token\",\"Mixin\",\"CoinMeet\",\"HashCoin \",\"OneLedger\",\"Everipedia\",\"XMax\",\"VITE\",\"OneRoot Network\",\"LikeCoin\",\"GoToken\",\"Centrality Token\",\"Red Community Token\",\"NOIA Network\",\"Green Energy Token\",\"Apollo Currency\",\"Hdac\",\"QuickX Protocol\",\"Cryptocean\",\"Insureum\",\"Okex\",\"1World\",\"ZB\",\"STASIS EURS\",\"Omnitude\",\"HitChain\",\"The Midas Touch Gold\",\"FXPay\",\"Digitex Futures\",\"Topchain\",\"Delphy\",\"FundFantasy\",\"HYCON\",\"Decentralized Accessible Content Chain \",\"MetaHash\",\"USD Coin\",\"Ontology Gas\",\"Sogur Currency\",\"VestChain\",\"Paxos Standard\",\"VeChainThor \",\"BitForex Token\",\"Adab Solutions\",\"Livepeer\",\"Mycro\",\"WOM\",\"SINOVATE\",\"Newton\",\"SilkChain\",\"Sylo\",\"Travala\",\"AgaveCoin\",\"AERGO \",\"Hashgard\",\"Vidy\",\"WETH\",\"Agricultural Trade Chain\",\"Bgogo Token\",\"HedgeTrade\",\"Wrapped Bitcoin\",\"BitMax Token\",\"Zeux\",\"Fetch.AI\",\"StableUSD\",\"Ankr Network\",\"Safe Haven\",\"Crypto.com Chain Token\",\"Hoard\",\"Theta Fuel\",\"Levolution\",\"Evedo\",\"2key.network\",\"Orbs\",\"SESSIA\",\"NeuroChain\",\"Consentium\",\"SOLVE\",\"Thorecoin\",\"Matic Network\",\"Lambda\",\"Function X\",\"Ocean Protocol\",\"Poseidon Network\",\"iOWN Token\",\"BitcoinX\",\"LEO Token\",\"Aryacoin\",\"Red Pulse Phoenix Binance\",\"Reserve Rights\",\"Harmony\",\"Baer Chain\",\"Mossland\",\"Yuan Chain Coin\",\"USDK\",\"MIXMARVEL\",\"BUMO\",\"DxChain Token\",\"MultiVAC\",\"VNT Chain\",\"Origo\",\"Carry\",\"Bryllite\",\"Wirex Token\",\"BEST\",\"Atlas Protocol\",\"WaykiChain\",\"EDUCare\",\"Bitcoin HD\",\"YOU Chain\",\"GMB\",\"NNB Token\",\"Ultiledger\",\"Snetwork\",\"IRIS Network\",\"Smartshare\",\"Airbloc\",\"Hyperion\",\"MIR COIN\",\"FansTime\",\"Algorand\",\"MovieBloc\",\"Machine Xchange Coin\",\"Jarvis+\",\"DPRating\",\"Ampleforth\",\"LemoChain\",\"Elrond\",\"SparkPoint\",\"ToKoin\",\"TEMCO\",\"Stronghold Token\",\"Hxro\",\"WINk\",\"FTX Token\",\"TrustVerse\",\"GoWithMi\",\"EMOGI Network\",\"SIX Network\",\"LITEX\",\"BOTXCOIN\",\"Gatechain Token\",\"Chiliz\",\"BitUP Token\",\"Akropolis\",\"Blockchain of Hash Power\",\"CryptoFranc\",\"Decentralized Vulnerability Platform\",\"Kleros\",\"Prometeus\",\"PROT\",\"Thorenext\",\"Thore Exchange\",\"ThoreCashTRX\",\"Ultra\",\"VINCI\",\"Xensor\",\"Zaif Token\",\"Amino Network\",\"NewYork Exchange\",\"LinkToken\",\"MEX\",\"BeeKan\",\"Band Protocol\",\"Emirex Token\",\"Hedera Hashgraph\",\"PAX Gold\",\"MX Token\",\"PLANET\",\"BCB Blockchain\",\"All.me\",\"RON\",\"Temtum\",\"Kava\",\"Multi Collateral Dai\",\"UNICORN Token\",\"Yap Stone\",\"Suterusu\",\"Whole Network\",\"Thorchain\",\"DAD\",\"Elitium\",\"Sport and Leisure\",\"Klaytn\",\"Troy\",\"Football Coin\",\"Neutrino\",\"Brazilian Digital Token\",\"Kusama\",\"Connectome\",\"Xinfin Network\",\"Tellor\",\"Orchid Protocol\",\"Digital Gold\",\"MarcoPolo Protocol\",\"BOSAGORA\",\"PlayFuel\",\"Nevula\",\"Compound Ethereum\",\"Tap\",\"Zynecoin\",\"Origin Protocol\",\"EXMO Coin\",\"HEX\",\"TerraKRW\",\"BenePit\",\"apM Coin\",\"Renrenbit\",\"PayProtocol Paycoin\",\"Bitcoin God\",\"Ally\",\"Coindy\",\"Spock\",\"Kadena\",\"Jobchain\",\"GoldFinX\",\"Blucon\",\"NewsToken\",\"FunKeyPay\",\"AIDUS Token\",\"01coin\",\"WazirX\",\"EtherGem\",\"Coinsbit Token\",\"POC Chain\",\"Newscrypto Coin\",\"Tether Gold\",\"NextDAO\",\"3X Long EOS Token\",\"3X Short XRP Token\",\"Sologenic\",\"3X Long BNB Token\",\"BiLira\",\"3X Long TRX Token\",\"3X Short TRX Token\",\"3X Long Litecoin Token\",\"3X Short Litecoin Token\",\"Hive Dollar\",\"Elamachain\",\"Anchor\",\"USDJ\",\"Universal Euro\",\"Universal Protocol Token\",\"Energy Web Token\",\"More Coin\",\"HyperDAO\",\"Euro Tether\",\"LCX\",\"Hive\",\"HUNT\",\"Portal\",\"Intelligent Investment Chain\",\"Solana\",\"3X Long Altcoin Index Token\",\"3X Short Altcoin Index Token\",\"DEAPCOIN\",\"Homeros\",\"Latamcash\",\"3X Long Bitcoin SV Token\",\"3X Short Bitcoin SV Token\",\"3X Long Bitcoin Cash Token\",\"3X Short Bitcoin Cash Token\",\"Cartesi\",\"SENSO\",\"xDai Chain\",\"OBSERVER Coin\",\"Unknown Fair Object\",\"3X Long TezosToken\",\"3X Short Tezos Token\",\"JUST\",\"IdeaChain\",\"BNS token\",\"ITAM Games\",\"Metaverse\",\"Metacoin\",\"Loon Network\",\"The Forbidden Forest\",\"Proton\",\"Unicorn Technology International\",\"dKargo\",\"King DAG\",\"Spice\",\"Rite Aid\",\"3X Short Cardano Token\",\"3X Long Cardano Token\",\"3X Long Matic Token\",\"3X Long Cosmos Token\",\"3X Short Cosmos Token\",\"3X Long Algorand Token\",\"3X Short Algorand Token\",\"3X Long Theta Network Token\",\"3X Short Kyber Network Token\",\"3X Long Ethereum Classic Token\",\"3X Long TomoChain Token\",\"3X Short Theta Network Token\",\"3X Short Midcap Index Token\",\"3X Long BitMax Token Token\",\"3X Long Tether Token\",\"Compound\",\"CACHE Gold\",\"UMA\",\"Celo\",\"DarkPayCoin\",\"Balancer\",\"BTSE Token\",\"DMM: Governance\",\"ARCS\",\"Perth Mint Gold Token\",\"Paparazzi\",\"KardiaChain\",\"Trustswap\",\"Keep Network\",\"Waves Enterprise\",\"ETHUP\",\"Oikos\",\"Meta\",\"DeFiChain\",\"yearn.finance\",\"Add.xyz\",\"Nest Protocol\",\"DigiDinar Token\",\"MCDEX\",\"Wrapped NXM\",\"Centric Cash\",\"Darwinia Commitment Token\",\"SUKU\",\"DIA\",\"dForce\",\"MiL.k\",\"Cream\",\"Serum\",\"Curve DAO Token\",\"The Sandbox\",\"Bitcoin Captain\",\"DFI.money\",\"Hakka Finance\",\"Jarvis Reward Token\",\"SatoPay\",\"Klever\",\"Pearl Finance\",\"Elrond\",\"Insight Protocol\",\"TerraUSD\",\"QOOBER\",\"Bella Protocol\",\"MATH\",\"Sun Token\",\"Swerve\",\"Universal Money Intrument\",\"Hedget\",\"Phala Network\",\"Bounce Token\",\"Alchemy Pay\",\"Sashimi\",\"REVV\",\"3X Long Sushi Token\",\"3X Short Sushi Token\",\"Rarible\",\"New BitShares\",\"dHedge DAO\",\"Flamingo\",\"PowerTrade Fuel\",\"Maro\",\"Mini\",\"ONBUFF\",\"TitanSwap\",\"Crust Network\",\"Beowulf\",\"AhaToken\",\"S.Finance\",\"Venus\",\"cVault.finance\",\"AXEL\",\"DODO\",\"Dify.Finance\",\"PlatonCoin\",\"OctoFi\",\"NuCypher\",\"1X Short Bitcoin SV Token\",\"Harvest Finance\",\"Datamine\",\"Darwinia Network\",\"Pundi X\",\"sUSD\",\"DREP\",\"FunFair\",\"Huobi Pool Token\",\"SingularityNET\",\"Constellation \",\"COCOS BCX\",\"Melon\",\"Quoine Liquid\",\"Voyager Token\",\"STP Network\",\"CNNS\",\"Davinci Coin\",\"TOP Network\",\"BORA\",\"Force Protocol\",\"Civic\",\"Velas\",\"tBTC\",\"Reserve\",\"Perpetual Protocol\",\"Value Liquidity\",\"Yobit Token\",\"Contentos\",\"APIX\",\"3X Long Bitcoin Token\",\"Quantstamp\",\"Cortex\",\"RAKON\",\"Bitkan\",\"ARPA Chain\",\"ROOBEE\",\"StormX\",\"BitMart Coin\",\"Mainframe\",\"SAI\",\"Metal\",\"RING X PLATFORM\",\"Dent\",\"RIF Token\",\"Gemini Dollar\",\"Loom Network\",\"LUKSO\",\"3X Long Ethereum Token\",\"BKEX Token\",\"Content Value Network\",\"12Ships\",\"SelfKey\",\"MANTRA DAO\",\"BiboxCoin\",\"ArcBlock\",\"Measurable Data Token \",\"Populous\",\"Dego Finance\",\"Aavegotchi\",\"UniTrade\",\"LinkEye\",\"Yee\",\"Fyooz\",\"GIFTO\",\"Augur\",\"Chromia\",\"Celer Network\",\"MVL\",\"Frontier\",\"pNetwork Token\",\"Dusk Network\",\"Sentivate\",\"GoMoney2\",\"Perlin\",\"Molecular Future\",\"Raiden Network\",\"FNB protocol\",\"Moeda\",\"TenX\",\"Presearch\",\"Morpheus Infrastructure Token\",\"3X Short Bitcoin\",\"Piction Network\",\"Metronome\",\"Cred\",\"SmartMesh\",\"Dock.io\",\"Genaro Network\",\"Ultrain\",\"Sentinel Protocol\",\"BF Token\",\"EOSDT\",\"Seele\",\"YYFI.Protocol\",\"Pickle Finance\",\"3X Short Ethereum Token\",\"Propy\",\"Time New Bank\",\"QunQun\",\"Matryx\",\"AppCoins\",\"CyberMiles\",\"3X Short EOS Token\",\"IoT Chain\",\"DMarket\",\"FairGame\",\"Eminer\",\"Endor Protocol Token \",\"WABI\",\"ContentBox\",\"SpendCoin\",\"Trump Loses Token\",\"Egretia\",\"SirinLabs\",\"3X Long XRP Token\",\"The Abyss\",\"Simple Token\",\"Ruff\",\"Rio DeFi\",\"3X Short Chainlink Token\",\"TokenClub \",\"Everex\",\"BetProtocol\",\"Tokenomy\",\"Merculet\",\"Pivot Token\",\"Monolith\",\"Nectar\",\"COTI\",\"Ferrum Network\",\"Fusion\",\"Injective Protocol\",\"Aurei\",\"Atari Token\",\"BUSD\",\"PANTHEON X\",\"8X8 Protocol\",\"LTO Network\",\"Meme\",\"Trump Wins Token\",\"Golff\",\"Blox\",\"Exchange Union\",\"Fatcoin\",\"3X Long Chainlink Token\",\"FLETA\",\"OriginSport\",\"V-ID\",\"SONM\",\"Refereum\",\"Tripio\",\"Akropolis Delphi\",\"YAM\",\"Loopring [NEO]\",\"WaykiChain Governance Coin\",\"RedFOX Labs\",\"Rotten\",\"Nash Exchange\",\"Lendroid Support Token\",\"Meter\",\"Thunder Token\",\"Akoin\",\"Alpha Finance Lab\",\"Avalanche\",\"YAM v1\",\"YAM v2 \",\"Metadium\",\"FileCoin\",\"Hydro Protocol\",\"Orbit Chain\",\"Bit Financial\",\"Synthetix\",\"Quant\",\"Maker\",\"REN\",\"Swipe\",\"Loopring\",\"Linear\",\"Aave\",\"DeFiner\",\"The Transfer Token\",\"Aragon\",\"HBTC Captain Token\",\"Orion Protocol\",\"bZx\",\"Tesla FTX\",\"SPDR S&P 500 ETF FTX\",\"Uquid Coin\",\"Experty Wisdom Token\",\"Oasis Labs\",\"renBTC \",\"Nexus Mutual\",\"Lien\",\"DigitalBits\",\"Hegic\",\"Energi\",\"Sperax\",\"API3\",\"FinNexus\",\"Terra\",\"DeFiPulse Index\",\"Stafi\",\"Golem Network Token\",\"Uniswap Protocol Token\",\"Sushi\",\"TON Crystal\",\"Tokamak Network\",\"Fantom\",\"Near\",\"BuySell\",\"Mineral\",\"Medibloc\",\"Tether\",\"Guppy\",\"NewsTokens\",\"Steem Dollars\",\"Inda\",\"FIO Protocol\",\"True Chain\",\"Auctus\",\"ClinTex CTi\",\"PowerPool Concentrated Voting Power\",\"Secret\",\"Cryptobuyer\",\"Wing Finance\",\"Worldwide Asset eXchange\",\"Asch\",\"Nuls\",\"Bridge Oracle\",\"Raiden Network Token\",\"Gamecredits\",\"Metaverse\",\"Elastos\",\"Enigma\",\"OMG Network\",\"Holo\",\"OPEN Governance Token\",\"Axion\",\"Marlin\",\"MahaDAO\",\"BIZZCOIN\",\"2Based Finance\",\"Swingby\",\"UNION Protocol Governance Token\",\"Golden Ratio Per Liquidity\",\"The Graph\",\"AnRKey X\",\"Reflector.Finance\",\"YVS.Finance\",\"NEST Protocol\",\"Mediconnect\",\"Dexfin\",\"xETH-G\",\"DXdao\",\"Pyrk\",\"Trade Butler Bot\",\"DeFi Yield Protocol\",\"Staked Ether\",\"TNC Coin\",\"Helium\",\"Polkadot\",\"Skycoin\",\"Zilliqa\",\"Tezos\",\"IOTA\",\"Revain\",\"Own\",\"Crypterium\",\"Coin\",\"Cosmos\",\"QuarkChain\",\"Electroneum\",\"Aurora\",\"Kin\",\"Ravencoin\",\"High Performance Blockchain\",\"PeerCoin\",\"Matrix AI Network\",\"Obyte\",\"Nebulas\",\"Stratis\",\"Neblio\",\"MOAC\",\"GoChain\",\"IOS token\",\"GXChain\",\"Waltonchain\",\"Wanchain\",\"Ardor\",\"NEM\",\"Stellar\",\"TRON\",\"NEO\",\"XRP\",\"Empty Set Dollar\",\"Pylon Finance\",\"Frax\",\"Frax Share\",\"Wifi Coin\",\"Shopping.io\",\"One Share\"],\"MaxSupply\":{\"__ndarray__\":\"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\",\"dtype\":\"float64\",\"order\":\"little\",\"shape\":[860]},\"TotalCoinsMined\":{\"__ndarray__\":\"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\",\"dtype\":\"float64\",\"order\":\"little\",\"shape\":[860]}},\"selected\":{\"id\":\"1212\"},\"selection_policy\":{\"id\":\"1225\"}},\"id\":\"1211\",\"type\":\"ColumnDataSource\"},{\"attributes\":{\"source\":{\"id\":\"1229\"}},\"id\":\"1236\",\"type\":\"CDSView\"},{\"attributes\":{\"fill_alpha\":{\"value\":0.2},\"fill_color\":{\"value\":\"#ff7e0e\"},\"line_alpha\":{\"value\":0.2},\"line_color\":{\"value\":\"#ff7e0e\"},\"size\":{\"units\":\"screen\",\"value\":5.477225575051661},\"x\":{\"field\":\"TotalCoinsMined\"},\"y\":{\"field\":\"MaxSupply\"}},\"id\":\"1234\",\"type\":\"Scatter\"},{\"attributes\":{\"data_source\":{\"id\":\"1269\"},\"glyph\":{\"id\":\"1272\"},\"hover_glyph\":null,\"muted_glyph\":{\"id\":\"1274\"},\"nonselection_glyph\":{\"id\":\"1273\"},\"selection_glyph\":null,\"view\":{\"id\":\"1276\"}},\"id\":\"1275\",\"type\":\"GlyphRenderer\"},{\"attributes\":{},\"id\":\"1270\",\"type\":\"Selection\"},{\"attributes\":{\"fill_alpha\":{\"value\":0.1},\"fill_color\":{\"value\":\"#d62628\"},\"line_alpha\":{\"value\":0.1},\"line_color\":{\"value\":\"#d62628\"},\"size\":{\"units\":\"screen\",\"value\":5.477225575051661},\"x\":{\"field\":\"TotalCoinsMined\"},\"y\":{\"field\":\"MaxSupply\"}},\"id\":\"1273\",\"type\":\"Scatter\"},{\"attributes\":{\"below\":[{\"id\":\"1186\"}],\"center\":[{\"id\":\"1189\"},{\"id\":\"1193\"}],\"left\":[{\"id\":\"1190\"}],\"margin\":[5,5,5,5],\"min_border_bottom\":10,\"min_border_left\":10,\"min_border_right\":10,\"min_border_top\":10,\"plot_height\":300,\"plot_width\":700,\"renderers\":[{\"id\":\"1217\"},{\"id\":\"1235\"},{\"id\":\"1254\"},{\"id\":\"1275\"}],\"right\":[{\"id\":\"1227\"}],\"sizing_mode\":\"fixed\",\"title\":{\"id\":\"1178\"},\"toolbar\":{\"id\":\"1200\"},\"x_range\":{\"id\":\"1171\"},\"x_scale\":{\"id\":\"1182\"},\"y_range\":{\"id\":\"1172\"},\"y_scale\":{\"id\":\"1184\"}},\"id\":\"1177\",\"subtype\":\"Figure\",\"type\":\"Plot\"},{\"attributes\":{\"bottom_units\":\"screen\",\"fill_alpha\":0.5,\"fill_color\":\"lightgrey\",\"left_units\":\"screen\",\"level\":\"overlay\",\"line_alpha\":1.0,\"line_color\":\"black\",\"line_dash\":[4,4],\"line_width\":2,\"right_units\":\"screen\",\"top_units\":\"screen\"},\"id\":\"1199\",\"type\":\"BoxAnnotation\"},{\"attributes\":{},\"id\":\"1212\",\"type\":\"Selection\"},{\"attributes\":{\"text\":\"\",\"text_color\":{\"value\":\"black\"},\"text_font_size\":{\"value\":\"12pt\"}},\"id\":\"1178\",\"type\":\"Title\"},{\"attributes\":{},\"id\":\"1266\",\"type\":\"UnionRenderers\"},{\"attributes\":{},\"id\":\"1191\",\"type\":\"BasicTicker\"},{\"attributes\":{},\"id\":\"1194\",\"type\":\"SaveTool\"},{\"attributes\":{\"label\":{\"value\":\"3\"},\"renderers\":[{\"id\":\"1275\"}]},\"id\":\"1291\",\"type\":\"LegendItem\"},{\"attributes\":{\"label\":{\"value\":\"2\"},\"renderers\":[{\"id\":\"1254\"}]},\"id\":\"1268\",\"type\":\"LegendItem\"},{\"attributes\":{\"source\":{\"id\":\"1248\"}},\"id\":\"1255\",\"type\":\"CDSView\"},{\"attributes\":{},\"id\":\"1195\",\"type\":\"PanTool\"},{\"attributes\":{\"fill_alpha\":{\"value\":0.2},\"fill_color\":{\"value\":\"#2ba02b\"},\"line_alpha\":{\"value\":0.2},\"line_color\":{\"value\":\"#2ba02b\"},\"size\":{\"units\":\"screen\",\"value\":5.477225575051661},\"x\":{\"field\":\"TotalCoinsMined\"},\"y\":{\"field\":\"MaxSupply\"}},\"id\":\"1253\",\"type\":\"Scatter\"},{\"attributes\":{},\"id\":\"1289\",\"type\":\"UnionRenderers\"},{\"attributes\":{\"axis\":{\"id\":\"1186\"},\"grid_line_color\":null,\"ticker\":null},\"id\":\"1189\",\"type\":\"Grid\"},{\"attributes\":{},\"id\":\"1225\",\"type\":\"UnionRenderers\"},{\"attributes\":{\"fill_color\":{\"value\":\"#ff7e0e\"},\"line_color\":{\"value\":\"#ff7e0e\"},\"size\":{\"units\":\"screen\",\"value\":5.477225575051661},\"x\":{\"field\":\"TotalCoinsMined\"},\"y\":{\"field\":\"MaxSupply\"}},\"id\":\"1232\",\"type\":\"Scatter\"},{\"attributes\":{\"data\":{\"Class\":[1],\"CoinName\":[\"Acute Angle Cloud\"],\"MaxSupply\":{\"__ndarray__\":\"Juu8WszqwD4=\",\"dtype\":\"float64\",\"order\":\"little\",\"shape\":[1]},\"TotalCoinsMined\":{\"__ndarray__\":\"jEJ0WszqwD4=\",\"dtype\":\"float64\",\"order\":\"little\",\"shape\":[1]}},\"selected\":{\"id\":\"1230\"},\"selection_policy\":{\"id\":\"1245\"}},\"id\":\"1229\",\"type\":\"ColumnDataSource\"},{\"attributes\":{},\"id\":\"1187\",\"type\":\"BasicTicker\"},{\"attributes\":{},\"id\":\"1249\",\"type\":\"Selection\"},{\"attributes\":{\"active_drag\":\"auto\",\"active_inspect\":\"auto\",\"active_multi\":null,\"active_scroll\":\"auto\",\"active_tap\":\"auto\",\"tools\":[{\"id\":\"1173\"},{\"id\":\"1194\"},{\"id\":\"1195\"},{\"id\":\"1196\"},{\"id\":\"1197\"},{\"id\":\"1198\"}]},\"id\":\"1200\",\"type\":\"Toolbar\"},{\"attributes\":{\"fill_color\":{\"value\":\"#1f77b3\"},\"line_color\":{\"value\":\"#1f77b3\"},\"size\":{\"units\":\"screen\",\"value\":5.477225575051661},\"x\":{\"field\":\"TotalCoinsMined\"},\"y\":{\"field\":\"MaxSupply\"}},\"id\":\"1214\",\"type\":\"Scatter\"},{\"attributes\":{\"data_source\":{\"id\":\"1248\"},\"glyph\":{\"id\":\"1251\"},\"hover_glyph\":null,\"muted_glyph\":{\"id\":\"1253\"},\"nonselection_glyph\":{\"id\":\"1252\"},\"selection_glyph\":null,\"view\":{\"id\":\"1255\"}},\"id\":\"1254\",\"type\":\"GlyphRenderer\"},{\"attributes\":{\"axis\":{\"id\":\"1190\"},\"dimension\":1,\"grid_line_color\":null,\"ticker\":null},\"id\":\"1193\",\"type\":\"Grid\"},{\"attributes\":{},\"id\":\"1196\",\"type\":\"WheelZoomTool\"},{\"attributes\":{\"label\":{\"value\":\"1\"},\"renderers\":[{\"id\":\"1235\"}]},\"id\":\"1247\",\"type\":\"LegendItem\"},{\"attributes\":{},\"id\":\"1182\",\"type\":\"LinearScale\"},{\"attributes\":{\"data_source\":{\"id\":\"1229\"},\"glyph\":{\"id\":\"1232\"},\"hover_glyph\":null,\"muted_glyph\":{\"id\":\"1234\"},\"nonselection_glyph\":{\"id\":\"1233\"},\"selection_glyph\":null,\"view\":{\"id\":\"1236\"}},\"id\":\"1235\",\"type\":\"GlyphRenderer\"},{\"attributes\":{},\"id\":\"1230\",\"type\":\"Selection\"},{\"attributes\":{\"fill_alpha\":{\"value\":0.1},\"fill_color\":{\"value\":\"#ff7e0e\"},\"line_alpha\":{\"value\":0.1},\"line_color\":{\"value\":\"#ff7e0e\"},\"size\":{\"units\":\"screen\",\"value\":5.477225575051661},\"x\":{\"field\":\"TotalCoinsMined\"},\"y\":{\"field\":\"MaxSupply\"}},\"id\":\"1233\",\"type\":\"Scatter\"},{\"attributes\":{},\"id\":\"1198\",\"type\":\"ResetTool\"},{\"attributes\":{\"axis_label\":\"TotalCoinsMined\",\"bounds\":\"auto\",\"formatter\":{\"id\":\"1208\"},\"major_label_orientation\":\"horizontal\",\"ticker\":{\"id\":\"1187\"}},\"id\":\"1186\",\"type\":\"LinearAxis\"}],\"root_ids\":[\"1169\"]},\"title\":\"Bokeh Application\",\"version\":\"2.2.3\"}};\n    var render_items = [{\"docid\":\"da181a37-c40e-45ec-9892-62dacb73ce26\",\"root_ids\":[\"1169\"],\"roots\":{\"1169\":\"32f66221-b0ea-4b0d-89fe-5f46ad4f60a4\"}}];\n    root.Bokeh.embed.embed_items_notebook(docs_json, render_items);\n  }\n  if (root.Bokeh !== undefined && root.Bokeh.Panel !== undefined) {\n    embed_document(root);\n  } else {\n    var attempts = 0;\n    var timer = setInterval(function(root) {\n      if (root.Bokeh !== undefined && root.Bokeh.Panel !== undefined) {\n        clearInterval(timer);\n        embed_document(root);\n      } else if (document.readyState == \"complete\") {\n        attempts++;\n        if (attempts > 100) {\n          clearInterval(timer);\n          console.log(\"Bokeh: ERROR: Unable to run BokehJS code because BokehJS library is missing\");\n        }\n      }\n    }, 10, root)\n  }\n})(window);</script>",
      "application/vnd.holoviews_exec.v0+json": "",
      "text/plain": [
       ":NdOverlay   [Class]\n",
       "   :Scatter   [TotalCoinsMined]   (MaxSupply,CoinName)"
      ]
     },
     "metadata": {
      "application/vnd.holoviews_exec.v0+json": {
       "id": "1169"
      }
     },
     "execution_count": 37
    }
   ],
   "source": [
    "# Plot the scatter with x=\"TotalCoinsMined\" and y=\"TotalCoinSupply\"\n",
    "min_max_df = pd.DataFrame(\n",
    "    data=min_max,\n",
    "    columns=[\"TotalCoinsMined\", \"MaxSupply\"],\n",
    "    index=cryptocluster_df.index\n",
    ")\n",
    "\n",
    "min_max_df.head\n",
    "\n",
    "# Create a hvplot.scatter plot using x=\"TotalCoinsMined\" and y=\"TotalCoinSupply\".\n",
    "min_max_df[\"CoinName\"] = coin_name_df[\"CoinName\"]\n",
    "min_max_df[\"Class\"] = cryptocluster_df[\"Class\"] \n",
    "min_max_df.hvplot.scatter(\n",
    "    x=\"TotalCoinsMined\",\n",
    "    y=\"MaxSupply\",\n",
    "    by=\"Class\",\n",
    "    hover_cols=[\"CoinName\"],\n",
    ")"
   ]
  },
  {
   "cell_type": "code",
   "execution_count": null,
   "metadata": {},
   "outputs": [],
   "source": []
  }
 ],
 "metadata": {
  "file_extension": ".py",
  "kernelspec": {
   "display_name": "Python 3",
   "language": "python",
   "name": "python3"
  },
  "language_info": {
   "codemirror_mode": {
    "name": "ipython",
    "version": 3
   },
   "file_extension": ".py",
   "mimetype": "text/x-python",
   "name": "python",
   "nbconvert_exporter": "python",
   "pygments_lexer": "ipython3",
   "version": "3.8.5-final"
  },
  "mimetype": "text/x-python",
  "name": "python",
  "npconvert_exporter": "python",
  "pygments_lexer": "ipython3",
  "version": 3
 },
 "nbformat": 4,
 "nbformat_minor": 4
}